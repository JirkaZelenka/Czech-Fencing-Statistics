{
 "cells": [
  {
   "cell_type": "markdown",
   "id": "29010bfe-c5d6-47a5-8424-d8ebb53f1396",
   "metadata": {},
   "source": [
    "# II. VIZUALIZACE - PROD\n",
    "\n",
    "## II.1 - STATISTIKY závodníci a kluby obecně"
   ]
  },
  {
   "cell_type": "code",
   "execution_count": 1,
   "id": "07bdc3a9-6f4a-4fc5-8781-0aef055dc465",
   "metadata": {},
   "outputs": [],
   "source": [
    "import pandas as pd\n",
    "import numpy as np\n",
    "from matplotlib import pyplot as plt\n",
    "from matplotlib.pyplot import figure\n",
    "import plotly.express as px\n",
    "import plotly.io as pio\n",
    "import plotly.graph_objects as go\n",
    "\n",
    "def printbold(s):\n",
    "    print(\"\\033[1m\" + s + \"\\033[0m\")"
   ]
  },
  {
   "cell_type": "markdown",
   "id": "2e5da95c-e990-4967-8e7f-67db9007ea68",
   "metadata": {},
   "source": [
    "### Loading - tyto dvě rozdělené použiji později"
   ]
  },
  {
   "cell_type": "code",
   "execution_count": 2,
   "id": "5f6777a9-57eb-412a-93e8-5020b3966821",
   "metadata": {
    "tags": []
   },
   "outputs": [
    {
     "name": "stdout",
     "output_type": "stream",
     "text": [
      "\u001b[1m139\u001b[0m\n",
      "\u001b[1m195\u001b[0m\n",
      "\u001b[1m334\u001b[0m\n"
     ]
    }
   ],
   "source": [
    "df_w = pd.read_excel(f\"C:/Users/jzelenka/Documents/python_j/fencing/1_zavodnici_W.xlsx\")\n",
    "printbold(str(len(df_w)))\n",
    "\n",
    "df_m = pd.read_excel(f\"C:/Users/jzelenka/Documents/python_j/fencing/1_zavodnici_M.xlsx\")\n",
    "printbold(str(len(df_m)))\n",
    "\n",
    "df_tot = pd.read_excel(f\"C:/Users/jzelenka/Documents/python_j/fencing/1_zavodnici_TOTAL.xlsx\")\n",
    "printbold(str(len(df_tot)))"
   ]
  },
  {
   "cell_type": "markdown",
   "id": "c374f523-2a11-44ca-84aa-de7041443821",
   "metadata": {},
   "source": [
    "## II.1.1 - Počty závodníků podle roku narození"
   ]
  },
  {
   "cell_type": "code",
   "execution_count": 3,
   "id": "55bca897-db30-4136-8bae-3817fd7fb189",
   "metadata": {},
   "outputs": [],
   "source": [
    "for sex in [\"W\", \"M\"]:\n",
    "    if sex == \"W\":\n",
    "        df = df_w.copy()\n",
    "        title_sex = \"ŽENY\"\n",
    "    elif sex == \"M\":\n",
    "        df = df_m.copy()\n",
    "        title_sex = \"MUŽI\"\n",
    "    else:\n",
    "        print(\"SMTHg is wRonG..! at the very beginning\")\n",
    "        title_sex = \"ERROR\"\n",
    "    try:\n",
    "        d2 = pd.DataFrame({'count' : df.groupby( [ 'Year', \"Club\"] ).size()}).reset_index()\n",
    "\n",
    "        fig = px.bar(d2, x= d2[\"Year\"],\n",
    "                     y= d2[\"count\"], \n",
    "                     color = d2[\"Club\"] ,\n",
    "                     width=950, height=700,\n",
    "                     labels = {\"Club\": \"Klub\"},  \n",
    "                     category_orders={\"Club\": sorted(d2[\"Club\"].unique())}, \n",
    "                     title = f\"{title_sex} - Závodníci podle roku narození a klubu\")\n",
    "\n",
    "        fig.update_layout(xaxis = dict(tickvals = d2[\"Year\"]))\n",
    "        fig.update_xaxes(tickangle=270)\n",
    "        fig.update_xaxes(title_text=\"Rok narození\")\n",
    "        fig.update_yaxes(title_text=\"Počet\")\n",
    "        #fig.show()\n",
    "        \n",
    "        pio.write_html(fig, file = f\"vizualizace/prod/V1_Year-Club_{sex}.html\", auto_open=False)\n",
    "    \n",
    "    except:\n",
    "        print(\"SMTHg is wRonG..! in plotting part\")"
   ]
  },
  {
   "cell_type": "markdown",
   "id": "35de7d76-e8f3-40b1-a231-7bb28f3b88fa",
   "metadata": {},
   "source": [
    "## II.1.2 - Počty závodníků podle klubů\n",
    "#### Zde by se hodil rozpad na může a ženy, v plotly verzi "
   ]
  },
  {
   "cell_type": "code",
   "execution_count": 4,
   "id": "54e6f6f3-c206-4905-a9c2-16852a514f6a",
   "metadata": {},
   "outputs": [],
   "source": [
    "for sex in [\"W\", \"M\"]:\n",
    "    if sex == \"W\":\n",
    "        df = df_w.copy()\n",
    "        title_sex = \"ŽENY\"\n",
    "    elif sex == \"M\":\n",
    "        df = df_m.copy()\n",
    "        title_sex = \"MUŽI\"\n",
    "    else:\n",
    "        print(\"SMTHg is wRonG..! at the very beginning\")\n",
    "        title_sex = \"ERROR\"\n",
    "    try:\n",
    "        d2 = pd.DataFrame({'count' : df.groupby( [\"Club\"] ).size()}).reset_index()\n",
    "\n",
    "        fig = px.bar(d2, x= d2[\"Club\"],\n",
    "                     y= d2[\"count\"], \n",
    "                     color = d2[\"Club\"] ,\n",
    "                     text_auto='.0f',       \n",
    "                     width=950, height=700,\n",
    "                     labels = {\"Club\": \"Klub\"}, \n",
    "                     title = f\"{title_sex} - Kluby podle počtu závodníků\")\n",
    "\n",
    "        fig.update_layout(xaxis = dict(tickvals = d2[\"Club\"]))\n",
    "        fig.update_layout(xaxis={'categoryorder':'total descending'})   \n",
    "        # trik z grafu od medailí, nemusím pak sortovat na začátku to groupby, funguje i pro víc traces, i na jejich součet\n",
    "\n",
    "        fig.update_xaxes(tickangle=270)\n",
    "        fig.update_xaxes(title_text=\"Klub\")\n",
    "        fig.update_yaxes(title_text=\"Počet\")\n",
    "        #fig.show()\n",
    "\n",
    "        pio.write_html(fig, file = f\"vizualizace/prod/V2_Club_{sex}.html\", auto_open=False)\n",
    "        \n",
    "    except:\n",
    "        print(\"SMTHg is wRonG..! in plotting part\")"
   ]
  },
  {
   "cell_type": "markdown",
   "id": "4551ff16-9af1-4553-b1b4-9b6908dbf503",
   "metadata": {},
   "source": [
    "## II.1.3 - Statistiky k medailím - celého datasetu df_m_ranky"
   ]
  },
  {
   "cell_type": "code",
   "execution_count": 5,
   "id": "3d3d4b3b-a140-4d59-aa5f-37b674ccd23b",
   "metadata": {},
   "outputs": [
    {
     "name": "stdout",
     "output_type": "stream",
     "text": [
      "\u001b[1m624\u001b[0m\n",
      "\u001b[1m839\u001b[0m\n"
     ]
    }
   ],
   "source": [
    "df_w_ranky = pd.read_excel(f\"C:/Users/jzelenka/Documents/python_j/fencing/2_ranky_W.xlsx\")\n",
    "printbold(str(len(df_w_ranky)))\n",
    "\n",
    "df_m_ranky = pd.read_excel(f\"C:/Users/jzelenka/Documents/python_j/fencing/2_ranky_M.xlsx\")\n",
    "printbold(str(len(df_m_ranky)))"
   ]
  },
  {
   "cell_type": "code",
   "execution_count": 6,
   "id": "5b1d9c86-785c-450c-b9f6-f1083b79aeed",
   "metadata": {},
   "outputs": [
    {
     "name": "stdout",
     "output_type": "stream",
     "text": [
      "\u001b[1m624\u001b[0m\n",
      "\u001b[1m839\u001b[0m\n"
     ]
    }
   ],
   "source": [
    "# lets drop DNFs\n",
    "df_w_ranky = df_w_ranky[df_w_ranky.Final_rank != \"DNF\"]\n",
    "df_m_ranky = df_m_ranky[df_m_ranky.Final_rank != \"DNF\"]\n",
    "printbold(str(len(df_w_ranky)))\n",
    "printbold(str(len(df_m_ranky)))"
   ]
  },
  {
   "cell_type": "markdown",
   "id": "ccb3a731-3eeb-47f6-94eb-5d7c6d8e474a",
   "metadata": {
    "tags": []
   },
   "source": [
    "## Medaile souhrnně podle roku narození"
   ]
  },
  {
   "cell_type": "code",
   "execution_count": 7,
   "id": "5986f716-e5df-4c6b-ba74-53001f5ee564",
   "metadata": {
    "tags": []
   },
   "outputs": [],
   "source": [
    "for sex in [\"W\", \"M\"]:\n",
    "    if sex == \"W\":\n",
    "        df_ranky = df_w_ranky.copy()\n",
    "        title_sex = \"ŽENY\"\n",
    "    elif sex == \"M\":\n",
    "        df_ranky = df_m_ranky.copy()\n",
    "        title_sex = \"MUŽI\"\n",
    "    else:\n",
    "        print(\"SMTHg is wRonG..! at the very beginning\")\n",
    "        title_sex = \"ERROR\"\n",
    "    try:\n",
    "        medals = df_ranky.loc[df_ranky.Final_rank.isin([1,2,3]), :]\n",
    "        d2 = pd.DataFrame({'count' : medals.groupby( ['Year', \"Final_rank\"] ).size()}).reset_index()\n",
    "        d2[\"Final_rank\"] = d2[\"Final_rank\"].astype(str)\n",
    "\n",
    "        fig = px.bar(d2, x= d2[\"Year\"],\n",
    "                     y= d2[\"count\"], \n",
    "                     color = d2[\"Final_rank\"] ,\n",
    "                     color_discrete_map={\"1\": \"gold\", \"2\":\"silver\", \"3\":\"goldenrod\"},  \n",
    "                     text_auto='.0f',      \n",
    "                     width=950, height=700,\n",
    "                     labels = {\"Final_rank\": \"Medailové umístění\"},  \n",
    "                     category_orders={\"Final_rank\": [\"3\",\"2\",\"1\"]},   \n",
    "                     title = f\"{title_sex} - Medaile podle roku narození\")\n",
    "\n",
    "        fig.update_layout(legend_traceorder=\"reversed\")  \n",
    "        fig.update_layout(xaxis = dict(tickvals = d2[\"Year\"]))\n",
    "        fig.update_xaxes(tickangle=270)\n",
    "        fig.update_xaxes(title_text=\"Rok narození\")\n",
    "        fig.update_yaxes(title_text=\"Počet medailí\")\n",
    "        #fig.show()\n",
    "\n",
    "        pio.write_html(fig, file = f\"vizualizace/prod/V3_Medals-Year_{sex}.html\", auto_open=False)\n",
    "        \n",
    "    except:\n",
    "        print(\"SMTHg is wRonG..! in plotting part\")"
   ]
  },
  {
   "cell_type": "markdown",
   "id": "0ad19d33-e754-4426-b274-91740a4a3963",
   "metadata": {},
   "source": [
    "## Medaile souhrn podle klubu"
   ]
  },
  {
   "cell_type": "code",
   "execution_count": 8,
   "id": "f88b4285-e28b-455d-9e5e-d206a3dc1c87",
   "metadata": {
    "tags": []
   },
   "outputs": [],
   "source": [
    "for sex in [\"W\", \"M\"]:\n",
    "    if sex == \"W\":\n",
    "        df_ranky = df_w_ranky.copy()\n",
    "        title_sex = \"ŽENY\"\n",
    "    elif sex == \"M\":\n",
    "        df_ranky = df_m_ranky.copy()\n",
    "        title_sex = \"MUŽI\"\n",
    "    else:\n",
    "        print(\"SMTHg is wRonG..! at the very beginning\")\n",
    "        title_sex = \"ERROR\"\n",
    "    try:\n",
    "        medals = df_ranky.loc[df_ranky.Final_rank.isin([1,2,3]), :]\n",
    "        d2 = pd.DataFrame({'count' : medals.groupby( ['Club', \"Final_rank\"] ).size()}).reset_index()\n",
    "        d2[\"Final_rank\"] = d2[\"Final_rank\"].astype(str)\n",
    "\n",
    "        fig = px.bar(d2,\n",
    "                     x= d2[\"Club\"],\n",
    "                     y= d2[\"count\"], \n",
    "                     color = d2[\"Final_rank\"] ,\n",
    "                     color_discrete_map={\"1\": \"gold\", \"2\":\"silver\", \"3\":\"goldenrod\"}, \n",
    "                     text_auto='.0f',     \n",
    "                     width=950, height=700,\n",
    "                     labels = {\"Final_rank\": \"Medailové umístění\"},  \n",
    "                     category_orders={\"Final_rank\": [\"3\",\"2\",\"1\"]},     \n",
    "                     title = f\"{title_sex} - Medaile podle klubů\")\n",
    "\n",
    "        fig.update_layout(xaxis = dict(tickvals = d2[\"Club\"]))\n",
    "        fig.update_layout(xaxis={'categoryorder':'total descending'})\n",
    "        # trik, nemusím pak sortovat na začátku to groupby, funguje i pro víc traces, i na jejich součet\n",
    "\n",
    "        fig.update_layout(legend_traceorder=\"reversed\") \n",
    "        fig.update_xaxes(tickangle=270)\n",
    "        fig.update_xaxes(title_text=\"Klub\")\n",
    "        fig.update_yaxes(title_text=\"Počet medailí\")\n",
    "        #fig.show()\n",
    "\n",
    "        pio.write_html(fig, file = f\"vizualizace/prod/V4_Medals-Club_{sex}.html\", auto_open=False)\n",
    "    \n",
    "    except:\n",
    "        print(\"SMTHg is wRonG..! in plotting part\")"
   ]
  },
  {
   "cell_type": "code",
   "execution_count": 9,
   "id": "c27a5a68-febb-4637-84ce-abf2a3cd3da3",
   "metadata": {},
   "outputs": [],
   "source": [
    "years = list(df_m[\"Year\"].unique())\n",
    "for i in df_w[\"Year\"].unique():\n",
    "    if i not in years:\n",
    "        years.append(i)\n",
    "years = sorted(years)\n",
    "\n",
    "df_w2 = pd.DataFrame({'count' : df_w.groupby( [ 'Year', \"Club\"] ).size()}).reset_index()\n",
    "df_m2 = pd.DataFrame({'count' : df_m.groupby( [ 'Year', \"Club\"] ).size()}).reset_index()\n",
    "\n",
    "fig = go.Figure()\n",
    "fig.add_trace(go.Bar(x=df_w2[\"Year\"], y=df_w2[\"count\"], name = \"Ženy\", marker=dict(color = \"red\")))\n",
    "fig.add_trace(go.Bar(x=df_m2[\"Year\"], y=df_m2[\"count\"], name = \"Muži\", marker=dict(color = \"navy\")))\n",
    "fig.update_layout(barmode='stack')  \n",
    "fig.update_layout( width=950, height=700,)\n",
    "fig.update_layout(xaxis = dict(tickvals = years))        \n",
    "\n",
    "fig.update_xaxes(tickangle=270)\n",
    "fig.update_xaxes(title_text=\"Rok narození\")\n",
    "fig.update_yaxes(title_text=\"Počet\")\n",
    "#fig.show()\n",
    "\n",
    "pio.write_html(fig, file = f\"vizualizace/prod/V1_Year-Club_All.html\", auto_open=False)   \n"
   ]
  },
  {
   "cell_type": "code",
   "execution_count": 10,
   "id": "fba7f6af-dba4-4ed6-9e59-4ee4471e3415",
   "metadata": {},
   "outputs": [],
   "source": [
    "clubs = list(df_m[\"Club\"].unique())\n",
    "for i in df_w[\"Club\"].unique():\n",
    "    if i not in clubs:\n",
    "        clubs.append(i)\n",
    "clubs = sorted(clubs)\n",
    "\n",
    "df_w2 = pd.DataFrame({'count' : df_w.groupby([\"Club\"]).size()}).reset_index()\n",
    "df_m2 = pd.DataFrame({'count' : df_m.groupby([\"Club\"]).size()}).reset_index()\n",
    "\n",
    "fig = go.Figure()\n",
    "fig.add_trace(go.Bar(x=df_w2[\"Club\"], y=df_w2[\"count\"], name = \"Ženy\", marker=dict(color = \"red\")))\n",
    "fig.add_trace(go.Bar(x=df_m2[\"Club\"], y=df_m2[\"count\"], name = \"Muži\", marker=dict(color = \"navy\")))\n",
    "\n",
    "\n",
    "fig.update_layout(barmode='stack')  \n",
    "fig.update_layout( width=950, height=700,)\n",
    "fig.update_layout(xaxis = dict(tickvals = clubs))        \n",
    "fig.update_layout(xaxis={'categoryorder':'total descending'})\n",
    "# trik z grafu od medailí, nemusím pak sortovat na začátku to groupby, funguje i pro víc traces, i na jejich součet\n",
    "\n",
    "fig.update_xaxes(tickangle=270)\n",
    "fig.update_xaxes(title_text=\"Klub\")\n",
    "fig.update_yaxes(title_text=\"Počet\")\n",
    "#fig.show()\n",
    "\n",
    "pio.write_html(fig, file = f\"vizualizace/prod/V2_Club_All.html\", auto_open=False)   "
   ]
  },
  {
   "cell_type": "code",
   "execution_count": null,
   "id": "0986d0c9-b018-4749-aaed-66f40e21ec01",
   "metadata": {},
   "outputs": [],
   "source": []
  }
 ],
 "metadata": {
  "kernelspec": {
   "display_name": "Python 3 (ipykernel)",
   "language": "python",
   "name": "python3"
  },
  "language_info": {
   "codemirror_mode": {
    "name": "ipython",
    "version": 3
   },
   "file_extension": ".py",
   "mimetype": "text/x-python",
   "name": "python",
   "nbconvert_exporter": "python",
   "pygments_lexer": "ipython3",
   "version": "3.9.12"
  }
 },
 "nbformat": 4,
 "nbformat_minor": 5
}
