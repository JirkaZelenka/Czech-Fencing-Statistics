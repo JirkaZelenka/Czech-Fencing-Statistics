{
 "cells": [
  {
   "cell_type": "markdown",
   "id": "29010bfe-c5d6-47a5-8424-d8ebb53f1396",
   "metadata": {},
   "source": [
    "# II. VIZUALIZACE - PROD\n",
    "\n",
    "## 1) - STATISTIKY závodníci a kluby obecně\n",
    "\n",
    "- **multi-legend grafy** (udělám dva sloupce legend, M-medaile 1/2/3 a W-medaile 1/2/3, s maličko jinými barvami - celkem tedy 6 barev)\n",
    "- případně přes **TABS** https://dash.plotly.com/dash-core-components/tab = 3 tabs na pohlaví\n",
    "- **dynamic options** dropdownu - podle roku nabídni multi-dropdown eventy, nebo podle klubu jeho lidi\n",
    "- **cross filtering** (vyberu člověka -> uvidím jeho statistiky = účasti  buď maticově, nebo sloupcově, se sloupečkem = percentil?), nebo klub a uvidím jeho lidi - nebo oboje ! https://dash.plotly.com/interactive-graphing\n"
   ]
  },
  {
   "cell_type": "code",
   "execution_count": 1,
   "id": "07bdc3a9-6f4a-4fc5-8781-0aef055dc465",
   "metadata": {},
   "outputs": [],
   "source": [
    "import pandas as pd\n",
    "import numpy as np\n",
    "import plotly.express as px\n",
    "import plotly.io as pio\n",
    "import plotly.graph_objects as go\n",
    "from plotly.subplots import make_subplots\n",
    "\n",
    "from dotenv import load_dotenv\n",
    "import os\n",
    "\n",
    "load_dotenv()\n",
    "\n",
    "project_path = os.getenv(\"PROJECT_PATH\")\n",
    "\n",
    "\n",
    "def printbold(s):\n",
    "    print(\"\\033[1m\" + s + \"\\033[0m\")\n",
    "    "
   ]
  },
  {
   "cell_type": "markdown",
   "id": "2e5da95c-e990-4967-8e7f-67db9007ea68",
   "metadata": {},
   "source": [
    "## Data"
   ]
  },
  {
   "cell_type": "code",
   "execution_count": 2,
   "id": "5f6777a9-57eb-412a-93e8-5020b3966821",
   "metadata": {
    "tags": []
   },
   "outputs": [
    {
     "name": "stdout",
     "output_type": "stream",
     "text": [
      "\u001b[1m397\u001b[0m\n",
      "\u001b[1m1464\u001b[0m\n"
     ]
    }
   ],
   "source": [
    "df_tot = pd.read_excel(f\"{project_path}/data/1_fencers.xlsx\")\n",
    "\n",
    "printbold(str(len(df_tot)))\n",
    "\n",
    "df_tot_ranky = pd.read_excel(f\"{project_path}/data/2_tournament_results.xlsx\")\n",
    "printbold(str(len(df_tot_ranky)))\n"
   ]
  },
  {
   "cell_type": "markdown",
   "id": "d4918728",
   "metadata": {},
   "source": [
    "### Levensthein test"
   ]
  },
  {
   "cell_type": "code",
   "execution_count": 37,
   "id": "14a0dc39",
   "metadata": {},
   "outputs": [
    {
     "name": "stdout",
     "output_type": "stream",
     "text": [
      "2 71.42857142857143\n",
      "5 50.0\n",
      "392\n"
     ]
    },
    {
     "name": "stderr",
     "output_type": "stream",
     "text": [
      "  0%|          | 0/392 [00:00<?, ?it/s]"
     ]
    },
    {
     "name": "stderr",
     "output_type": "stream",
     "text": [
      "100%|██████████| 392/392 [00:00<00:00, 1234.30it/s]\n"
     ]
    },
    {
     "data": {
      "text/plain": [
       "{'BELOHOUBEK Matous': ['BĚLOHOUBEK Matouš'],\n",
       " 'BĚLOHOUBEK Matouš': ['BELOHOUBEK Matous'],\n",
       " 'DUNAYTCEV Vladimír': ['DUNAYTSEV Vladimír'],\n",
       " 'DUNAYTSEV Vladimír': ['DUNAYTCEV Vladimír'],\n",
       " 'MICINEC Adam': ['MIČINEC Adam'],\n",
       " 'MIČINEC Adam': ['MICINEC Adam'],\n",
       " 'ČAPKOVÁ Barbora': ['ČÁPOVÁ Barbora'],\n",
       " 'ČÁPOVÁ Barbora': ['ČAPKOVÁ Barbora'],\n",
       " 'VACKOVÁ Tereza': ['VÁCHOVÁ Tereza'],\n",
       " 'VÁCHOVÁ Tereza': ['VACKOVÁ Tereza']}"
      ]
     },
     "metadata": {},
     "output_type": "display_data"
    }
   ],
   "source": [
    "import Levenshtein\n",
    "from tqdm import tqdm\n",
    "\n",
    "def get_levi(a, b):        \n",
    "    return Levenshtein.distance(a, b)\n",
    "\n",
    "\n",
    "a = \"Jane Doe\"\n",
    "b = [\"Jane Doe\", \"Jane Dog\", \"John Doe\", \"Jane Smith\",  \"John Docker\", \"Mary Johnson\", \"XXXX XXX\", \"XXX XXXX\"]\n",
    "\n",
    "a = \"čápová\"\n",
    "b = [\"čapková\", \"čárymárová\"]\n",
    "for name in b:\n",
    "    levi = get_levi(a, name )\n",
    "    print(levi, 100*(1 - levi/len(name)))\n",
    "\n",
    "# matice 400x 400 je moc.\n",
    "# poměrný systém, pokud se 60 % délky shoduje? - nepokryje case, kdy je vloženo písmeno do jména a pak už se vše liší...?\n",
    "# Tak se platu, protože čápová a čapková to považuje za skoro identické i když má písmenko navíc\n",
    "# krátké shodné příjmení nestačí, když mají dvě různá dlouhá jména. a naopak\n",
    "#TODO: když najdu nové jméno co nemám v DB, zkusit zjistit zda tam nemám podobné - podle Levnstheina\n",
    "#TODO: použít na Rosalind\n",
    "\n",
    "names = df_tot[\"name\"].unique()\n",
    "print(len(names))\n",
    "\n",
    "results = {}\n",
    "for name in tqdm(names):\n",
    "    similars = []\n",
    "    for name2 in names:\n",
    "        if name == name2:\n",
    "            continue\n",
    "        if get_levi(name, name2)/len(name) < 0.15:\n",
    "            similars.append(name2)\n",
    "    if similars != []:\n",
    "        results[name] = similars\n",
    "\n",
    "display(results)"
   ]
  },
  {
   "cell_type": "code",
   "execution_count": null,
   "id": "de6908b8",
   "metadata": {},
   "outputs": [],
   "source": []
  },
  {
   "cell_type": "code",
   "execution_count": 3,
   "id": "fedce8e3",
   "metadata": {},
   "outputs": [],
   "source": [
    "titles = {\"W\": \"ŽENY\", \"M\": \"MUŽI\"}\n",
    "colors = {\"W\": \"red\", \"M\": \"navy\"}\n",
    "medal_colors = {\"1-W\": \"rgba(255, 215, 0, 1)\",  # Gold (Women)\n",
    "                \"1-M\": \"rgba(255, 215, 0, 0.4)\",  # Gold (Men)\n",
    "                \"2-W\": \"rgba(192, 192, 192, 1)\",  # Silver (Women)\n",
    "                \"2-M\": \"rgba(192, 192, 192, 0.4)\",  # Silver (Men)\n",
    "                \"3-W\": \"rgba(218, 165, 32, 1)\",   # Bronze (Women)\n",
    "                \"3-M\": \"rgba(218, 165, 32, 0.4)\",  # Bronze (Men)                    \n",
    "                }"
   ]
  },
  {
   "cell_type": "markdown",
   "id": "c374f523-2a11-44ca-84aa-de7041443821",
   "metadata": {},
   "source": [
    "## 1.1 - Počty závodníků podle Klubu a Roku narození, chci dropdown na pohlaví"
   ]
  },
  {
   "cell_type": "code",
   "execution_count": 4,
   "id": "98b4cb9a",
   "metadata": {},
   "outputs": [
    {
     "name": "stdout",
     "output_type": "stream",
     "text": [
      "sex_filter='Men' IS SELECTED\n"
     ]
    },
    {
     "data": {
      "application/vnd.plotly.v1+json": {
       "config": {
        "plotlyServerURL": "https://plot.ly"
       },
       "data": [],
       "layout": {
        "barmode": "stack",
        "template": {
         "data": {
          "bar": [
           {
            "error_x": {
             "color": "#2a3f5f"
            },
            "error_y": {
             "color": "#2a3f5f"
            },
            "marker": {
             "line": {
              "color": "#E5ECF6",
              "width": 0.5
             },
             "pattern": {
              "fillmode": "overlay",
              "size": 10,
              "solidity": 0.2
             }
            },
            "type": "bar"
           }
          ],
          "barpolar": [
           {
            "marker": {
             "line": {
              "color": "#E5ECF6",
              "width": 0.5
             },
             "pattern": {
              "fillmode": "overlay",
              "size": 10,
              "solidity": 0.2
             }
            },
            "type": "barpolar"
           }
          ],
          "carpet": [
           {
            "aaxis": {
             "endlinecolor": "#2a3f5f",
             "gridcolor": "white",
             "linecolor": "white",
             "minorgridcolor": "white",
             "startlinecolor": "#2a3f5f"
            },
            "baxis": {
             "endlinecolor": "#2a3f5f",
             "gridcolor": "white",
             "linecolor": "white",
             "minorgridcolor": "white",
             "startlinecolor": "#2a3f5f"
            },
            "type": "carpet"
           }
          ],
          "choropleth": [
           {
            "colorbar": {
             "outlinewidth": 0,
             "ticks": ""
            },
            "type": "choropleth"
           }
          ],
          "contour": [
           {
            "colorbar": {
             "outlinewidth": 0,
             "ticks": ""
            },
            "colorscale": [
             [
              0,
              "#0d0887"
             ],
             [
              0.1111111111111111,
              "#46039f"
             ],
             [
              0.2222222222222222,
              "#7201a8"
             ],
             [
              0.3333333333333333,
              "#9c179e"
             ],
             [
              0.4444444444444444,
              "#bd3786"
             ],
             [
              0.5555555555555556,
              "#d8576b"
             ],
             [
              0.6666666666666666,
              "#ed7953"
             ],
             [
              0.7777777777777778,
              "#fb9f3a"
             ],
             [
              0.8888888888888888,
              "#fdca26"
             ],
             [
              1,
              "#f0f921"
             ]
            ],
            "type": "contour"
           }
          ],
          "contourcarpet": [
           {
            "colorbar": {
             "outlinewidth": 0,
             "ticks": ""
            },
            "type": "contourcarpet"
           }
          ],
          "heatmap": [
           {
            "colorbar": {
             "outlinewidth": 0,
             "ticks": ""
            },
            "colorscale": [
             [
              0,
              "#0d0887"
             ],
             [
              0.1111111111111111,
              "#46039f"
             ],
             [
              0.2222222222222222,
              "#7201a8"
             ],
             [
              0.3333333333333333,
              "#9c179e"
             ],
             [
              0.4444444444444444,
              "#bd3786"
             ],
             [
              0.5555555555555556,
              "#d8576b"
             ],
             [
              0.6666666666666666,
              "#ed7953"
             ],
             [
              0.7777777777777778,
              "#fb9f3a"
             ],
             [
              0.8888888888888888,
              "#fdca26"
             ],
             [
              1,
              "#f0f921"
             ]
            ],
            "type": "heatmap"
           }
          ],
          "heatmapgl": [
           {
            "colorbar": {
             "outlinewidth": 0,
             "ticks": ""
            },
            "colorscale": [
             [
              0,
              "#0d0887"
             ],
             [
              0.1111111111111111,
              "#46039f"
             ],
             [
              0.2222222222222222,
              "#7201a8"
             ],
             [
              0.3333333333333333,
              "#9c179e"
             ],
             [
              0.4444444444444444,
              "#bd3786"
             ],
             [
              0.5555555555555556,
              "#d8576b"
             ],
             [
              0.6666666666666666,
              "#ed7953"
             ],
             [
              0.7777777777777778,
              "#fb9f3a"
             ],
             [
              0.8888888888888888,
              "#fdca26"
             ],
             [
              1,
              "#f0f921"
             ]
            ],
            "type": "heatmapgl"
           }
          ],
          "histogram": [
           {
            "marker": {
             "pattern": {
              "fillmode": "overlay",
              "size": 10,
              "solidity": 0.2
             }
            },
            "type": "histogram"
           }
          ],
          "histogram2d": [
           {
            "colorbar": {
             "outlinewidth": 0,
             "ticks": ""
            },
            "colorscale": [
             [
              0,
              "#0d0887"
             ],
             [
              0.1111111111111111,
              "#46039f"
             ],
             [
              0.2222222222222222,
              "#7201a8"
             ],
             [
              0.3333333333333333,
              "#9c179e"
             ],
             [
              0.4444444444444444,
              "#bd3786"
             ],
             [
              0.5555555555555556,
              "#d8576b"
             ],
             [
              0.6666666666666666,
              "#ed7953"
             ],
             [
              0.7777777777777778,
              "#fb9f3a"
             ],
             [
              0.8888888888888888,
              "#fdca26"
             ],
             [
              1,
              "#f0f921"
             ]
            ],
            "type": "histogram2d"
           }
          ],
          "histogram2dcontour": [
           {
            "colorbar": {
             "outlinewidth": 0,
             "ticks": ""
            },
            "colorscale": [
             [
              0,
              "#0d0887"
             ],
             [
              0.1111111111111111,
              "#46039f"
             ],
             [
              0.2222222222222222,
              "#7201a8"
             ],
             [
              0.3333333333333333,
              "#9c179e"
             ],
             [
              0.4444444444444444,
              "#bd3786"
             ],
             [
              0.5555555555555556,
              "#d8576b"
             ],
             [
              0.6666666666666666,
              "#ed7953"
             ],
             [
              0.7777777777777778,
              "#fb9f3a"
             ],
             [
              0.8888888888888888,
              "#fdca26"
             ],
             [
              1,
              "#f0f921"
             ]
            ],
            "type": "histogram2dcontour"
           }
          ],
          "mesh3d": [
           {
            "colorbar": {
             "outlinewidth": 0,
             "ticks": ""
            },
            "type": "mesh3d"
           }
          ],
          "parcoords": [
           {
            "line": {
             "colorbar": {
              "outlinewidth": 0,
              "ticks": ""
             }
            },
            "type": "parcoords"
           }
          ],
          "pie": [
           {
            "automargin": true,
            "type": "pie"
           }
          ],
          "scatter": [
           {
            "fillpattern": {
             "fillmode": "overlay",
             "size": 10,
             "solidity": 0.2
            },
            "type": "scatter"
           }
          ],
          "scatter3d": [
           {
            "line": {
             "colorbar": {
              "outlinewidth": 0,
              "ticks": ""
             }
            },
            "marker": {
             "colorbar": {
              "outlinewidth": 0,
              "ticks": ""
             }
            },
            "type": "scatter3d"
           }
          ],
          "scattercarpet": [
           {
            "marker": {
             "colorbar": {
              "outlinewidth": 0,
              "ticks": ""
             }
            },
            "type": "scattercarpet"
           }
          ],
          "scattergeo": [
           {
            "marker": {
             "colorbar": {
              "outlinewidth": 0,
              "ticks": ""
             }
            },
            "type": "scattergeo"
           }
          ],
          "scattergl": [
           {
            "marker": {
             "colorbar": {
              "outlinewidth": 0,
              "ticks": ""
             }
            },
            "type": "scattergl"
           }
          ],
          "scattermapbox": [
           {
            "marker": {
             "colorbar": {
              "outlinewidth": 0,
              "ticks": ""
             }
            },
            "type": "scattermapbox"
           }
          ],
          "scatterpolar": [
           {
            "marker": {
             "colorbar": {
              "outlinewidth": 0,
              "ticks": ""
             }
            },
            "type": "scatterpolar"
           }
          ],
          "scatterpolargl": [
           {
            "marker": {
             "colorbar": {
              "outlinewidth": 0,
              "ticks": ""
             }
            },
            "type": "scatterpolargl"
           }
          ],
          "scatterternary": [
           {
            "marker": {
             "colorbar": {
              "outlinewidth": 0,
              "ticks": ""
             }
            },
            "type": "scatterternary"
           }
          ],
          "surface": [
           {
            "colorbar": {
             "outlinewidth": 0,
             "ticks": ""
            },
            "colorscale": [
             [
              0,
              "#0d0887"
             ],
             [
              0.1111111111111111,
              "#46039f"
             ],
             [
              0.2222222222222222,
              "#7201a8"
             ],
             [
              0.3333333333333333,
              "#9c179e"
             ],
             [
              0.4444444444444444,
              "#bd3786"
             ],
             [
              0.5555555555555556,
              "#d8576b"
             ],
             [
              0.6666666666666666,
              "#ed7953"
             ],
             [
              0.7777777777777778,
              "#fb9f3a"
             ],
             [
              0.8888888888888888,
              "#fdca26"
             ],
             [
              1,
              "#f0f921"
             ]
            ],
            "type": "surface"
           }
          ],
          "table": [
           {
            "cells": {
             "fill": {
              "color": "#EBF0F8"
             },
             "line": {
              "color": "white"
             }
            },
            "header": {
             "fill": {
              "color": "#C8D4E3"
             },
             "line": {
              "color": "white"
             }
            },
            "type": "table"
           }
          ]
         },
         "layout": {
          "annotationdefaults": {
           "arrowcolor": "#2a3f5f",
           "arrowhead": 0,
           "arrowwidth": 1
          },
          "autotypenumbers": "strict",
          "coloraxis": {
           "colorbar": {
            "outlinewidth": 0,
            "ticks": ""
           }
          },
          "colorscale": {
           "diverging": [
            [
             0,
             "#8e0152"
            ],
            [
             0.1,
             "#c51b7d"
            ],
            [
             0.2,
             "#de77ae"
            ],
            [
             0.3,
             "#f1b6da"
            ],
            [
             0.4,
             "#fde0ef"
            ],
            [
             0.5,
             "#f7f7f7"
            ],
            [
             0.6,
             "#e6f5d0"
            ],
            [
             0.7,
             "#b8e186"
            ],
            [
             0.8,
             "#7fbc41"
            ],
            [
             0.9,
             "#4d9221"
            ],
            [
             1,
             "#276419"
            ]
           ],
           "sequential": [
            [
             0,
             "#0d0887"
            ],
            [
             0.1111111111111111,
             "#46039f"
            ],
            [
             0.2222222222222222,
             "#7201a8"
            ],
            [
             0.3333333333333333,
             "#9c179e"
            ],
            [
             0.4444444444444444,
             "#bd3786"
            ],
            [
             0.5555555555555556,
             "#d8576b"
            ],
            [
             0.6666666666666666,
             "#ed7953"
            ],
            [
             0.7777777777777778,
             "#fb9f3a"
            ],
            [
             0.8888888888888888,
             "#fdca26"
            ],
            [
             1,
             "#f0f921"
            ]
           ],
           "sequentialminus": [
            [
             0,
             "#0d0887"
            ],
            [
             0.1111111111111111,
             "#46039f"
            ],
            [
             0.2222222222222222,
             "#7201a8"
            ],
            [
             0.3333333333333333,
             "#9c179e"
            ],
            [
             0.4444444444444444,
             "#bd3786"
            ],
            [
             0.5555555555555556,
             "#d8576b"
            ],
            [
             0.6666666666666666,
             "#ed7953"
            ],
            [
             0.7777777777777778,
             "#fb9f3a"
            ],
            [
             0.8888888888888888,
             "#fdca26"
            ],
            [
             1,
             "#f0f921"
            ]
           ]
          },
          "colorway": [
           "#636efa",
           "#EF553B",
           "#00cc96",
           "#ab63fa",
           "#FFA15A",
           "#19d3f3",
           "#FF6692",
           "#B6E880",
           "#FF97FF",
           "#FECB52"
          ],
          "font": {
           "color": "#2a3f5f"
          },
          "geo": {
           "bgcolor": "white",
           "lakecolor": "white",
           "landcolor": "#E5ECF6",
           "showlakes": true,
           "showland": true,
           "subunitcolor": "white"
          },
          "hoverlabel": {
           "align": "left"
          },
          "hovermode": "closest",
          "mapbox": {
           "style": "light"
          },
          "paper_bgcolor": "white",
          "plot_bgcolor": "#E5ECF6",
          "polar": {
           "angularaxis": {
            "gridcolor": "white",
            "linecolor": "white",
            "ticks": ""
           },
           "bgcolor": "#E5ECF6",
           "radialaxis": {
            "gridcolor": "white",
            "linecolor": "white",
            "ticks": ""
           }
          },
          "scene": {
           "xaxis": {
            "backgroundcolor": "#E5ECF6",
            "gridcolor": "white",
            "gridwidth": 2,
            "linecolor": "white",
            "showbackground": true,
            "ticks": "",
            "zerolinecolor": "white"
           },
           "yaxis": {
            "backgroundcolor": "#E5ECF6",
            "gridcolor": "white",
            "gridwidth": 2,
            "linecolor": "white",
            "showbackground": true,
            "ticks": "",
            "zerolinecolor": "white"
           },
           "zaxis": {
            "backgroundcolor": "#E5ECF6",
            "gridcolor": "white",
            "gridwidth": 2,
            "linecolor": "white",
            "showbackground": true,
            "ticks": "",
            "zerolinecolor": "white"
           }
          },
          "shapedefaults": {
           "line": {
            "color": "#2a3f5f"
           }
          },
          "ternary": {
           "aaxis": {
            "gridcolor": "white",
            "linecolor": "white",
            "ticks": ""
           },
           "baxis": {
            "gridcolor": "white",
            "linecolor": "white",
            "ticks": ""
           },
           "bgcolor": "#E5ECF6",
           "caxis": {
            "gridcolor": "white",
            "linecolor": "white",
            "ticks": ""
           }
          },
          "title": {
           "x": 0.05
          },
          "xaxis": {
           "automargin": true,
           "gridcolor": "white",
           "linecolor": "white",
           "ticks": "",
           "title": {
            "standoff": 15
           },
           "zerolinecolor": "white",
           "zerolinewidth": 2
          },
          "yaxis": {
           "automargin": true,
           "gridcolor": "white",
           "linecolor": "white",
           "ticks": "",
           "title": {
            "standoff": 15
           },
           "zerolinecolor": "white",
           "zerolinewidth": 2
          }
         }
        },
        "title": {
         "text": "All Athletes - Members by Birth Year and Club"
        },
        "updatemenus": [
         {
          "buttons": [
           {
            "args": [
             {
              "visible": true
             }
            ],
            "label": "Men",
            "method": "update"
           },
           {
            "args": [
             {
              "visible": true
             }
            ],
            "label": "Women",
            "method": "update"
           },
           {
            "args": [
             {
              "visible": true
             }
            ],
            "label": "All",
            "method": "update"
           }
          ],
          "direction": "down",
          "showactive": true,
          "x": 0.1,
          "xanchor": "left",
          "y": 1.15,
          "yanchor": "top"
         }
        ],
        "xaxis": {
         "anchor": "y",
         "domain": [
          0,
          1
         ],
         "tickangle": -90,
         "title": {
          "text": "Birth Year"
         }
        },
        "yaxis": {
         "anchor": "x",
         "domain": [
          0,
          1
         ],
         "title": {
          "text": "Count"
         }
        }
       }
      }
     },
     "metadata": {},
     "output_type": "display_data"
    }
   ],
   "source": [
    "np.random.seed(0)\n",
    "\n",
    "data = {\n",
    "    'sex': np.random.choice(['M', 'W'], 2000),\n",
    "    'birthyear': np.random.randint(1970, 2000, 2000),\n",
    "    'club': np.random.choice(['Club A', 'Club B', 'Club C'], 2000)\n",
    "}\n",
    "\n",
    "df_tot = pd.DataFrame(data)\n",
    "\n",
    "fig = make_subplots(rows=1, cols=1)\n",
    "\n",
    "def update_plot(sex_filter):\n",
    "    if sex_filter == 'ALL':\n",
    "        print(\"ALL IS SELECTED\")\n",
    "        df_filtered = df_tot\n",
    "    else:\n",
    "        print(f\"{sex_filter=} IS SELECTED\")\n",
    "        df_filtered = df_tot[df_tot['sex'] == sex_filter]\n",
    "\n",
    "    df = pd.DataFrame({'count': df_filtered.groupby(['birthyear', 'club']).size()}).reset_index()\n",
    "\n",
    "    clubs = df['club'].unique()\n",
    "    years = sorted(df['birthyear'].unique())\n",
    "\n",
    "    for club in clubs:\n",
    "        club_data = df[df['club'] == club]\n",
    "        counts = [club_data[club_data['birthyear'] == year]['count'].iloc[0] if year in club_data['birthyear'].values else 0 for year in years]\n",
    "        try:\n",
    "            fig.update_traces(x=years, y=counts, selector=dict(name=club))\n",
    "        except:\n",
    "            fig.add_trace(go.Bar(\n",
    "                x=years,\n",
    "                y=counts,\n",
    "                name=club,\n",
    "            ))\n",
    "\n",
    "    fig.update_layout(title=f'All Athletes - Members by Birth Year and Club', barmode='stack')\n",
    "    fig.update_xaxes(tickangle=270, title_text='Birth Year')\n",
    "    fig.update_yaxes(title_text='Count')\n",
    "\n",
    "# Add dropdown menu\n",
    "fig.update_layout(\n",
    "    updatemenus=[\n",
    "        dict(\n",
    "            buttons=[\n",
    "                dict(\n",
    "                    args=[{'visible': True}],\n",
    "                    label='Men',\n",
    "                    method='update',\n",
    "                ),\n",
    "                dict(\n",
    "                    args=[{'visible': True}],\n",
    "                    label='Women',\n",
    "                    method='update',\n",
    "                ),\n",
    "                dict(\n",
    "                    args=[{'visible': True}],\n",
    "                    label='All',\n",
    "                    method='update',\n",
    "                )\n",
    "            ],\n",
    "            direction='down',\n",
    "            showactive=True,\n",
    "            x=0.1,\n",
    "            xanchor='left',\n",
    "            y=1.15,\n",
    "            yanchor='top',\n",
    "        ),\n",
    "    ]\n",
    ")\n",
    "\n",
    "update_plot('Men')\n",
    "fig.show()\n"
   ]
  },
  {
   "cell_type": "code",
   "execution_count": null,
   "id": "cfdc6712",
   "metadata": {},
   "outputs": [],
   "source": [
    "def update_plot(sex_filter):\n",
    "    if sex_filter == 'ALL':\n",
    "        df_filtered = df_tot\n",
    "    else:\n",
    "        df_filtered = df_tot[df_tot['sex'] == sex_filter]\n",
    "        \n",
    "    df = pd.DataFrame({'count': df_filtered.groupby(\n",
    "        ['birthyear', \"club\"]).size()}).reset_index()\n",
    "\n",
    "    fig = px.bar(df,\n",
    "                 x= df[\"birthyear\"],\n",
    "                y= df[\"count\"], \n",
    "                color = df[\"club\"],\n",
    "                width=950, height=700,\n",
    "                labels = {\"club\": \"Klub\"},  \n",
    "                category_orders={\"club\": sorted(df[\"club\"].unique())}, \n",
    "                title = \"Závodníci podle roku narození a klubu\"\n",
    "                )\n",
    "\n",
    "    fig.update_layout(xaxis = dict(tickvals = df[\"birthyear\"]))\n",
    "    fig.update_xaxes(tickangle=270)\n",
    "    fig.update_xaxes(title_text=\"Rok narození\")\n",
    "    fig.update_yaxes(title_text=\"Počet\")\n",
    "    fig.show()\n",
    "\n",
    "fig.update_layout(\n",
    "    updatemenus=[\n",
    "        dict(\n",
    "            buttons=[\n",
    "                dict(\n",
    "                    args=[{'visible': True}],\n",
    "                    label='Men',\n",
    "                    method='update',\n",
    "                ),\n",
    "                dict(\n",
    "                    args=[{'visible': True}],\n",
    "                    label='Women',\n",
    "                    method='update',\n",
    "                ),\n",
    "                dict(\n",
    "                    args=[{'visible': True}],\n",
    "                    label='All',\n",
    "                    method='update',\n",
    "                )\n",
    "            ],\n",
    "            direction='down',\n",
    "            showactive=True,\n",
    "            x=0.1,\n",
    "            xanchor='left',\n",
    "            y=1.15,\n",
    "            yanchor='top',\n",
    "        ),\n",
    "    ]\n",
    ")\n",
    "\n",
    "update_plot('All')\n"
   ]
  },
  {
   "cell_type": "code",
   "execution_count": 7,
   "id": "55bca897-db30-4136-8bae-3817fd7fb189",
   "metadata": {},
   "outputs": [
    {
     "data": {
      "application/vnd.plotly.v1+json": {
       "config": {
        "plotlyServerURL": "https://plot.ly"
       },
       "data": [
        {
         "alignmentgroup": "True",
         "hovertemplate": "Klub=1.FC BELA POD BEZ<br>birthyear=%{x}<br>count=%{y}<extra></extra>",
         "legendgroup": "1.FC BELA POD BEZ",
         "marker": {
          "color": "#636efa",
          "pattern": {
           "shape": ""
          }
         },
         "name": "1.FC BELA POD BEZ",
         "offsetgroup": "1.FC BELA POD BEZ",
         "orientation": "v",
         "showlegend": true,
         "textposition": "auto",
         "type": "bar",
         "x": [
          2000,
          2002,
          2003,
          2006
         ],
         "xaxis": "x",
         "y": [
          1,
          1,
          1,
          1
         ],
         "yaxis": "y"
        },
        {
         "alignmentgroup": "True",
         "hovertemplate": "Klub=AKADÉMIA ŠERMU BRATISLAVA<br>birthyear=%{x}<br>count=%{y}<extra></extra>",
         "legendgroup": "AKADÉMIA ŠERMU BRATISLAVA",
         "marker": {
          "color": "#EF553B",
          "pattern": {
           "shape": ""
          }
         },
         "name": "AKADÉMIA ŠERMU BRATISLAVA",
         "offsetgroup": "AKADÉMIA ŠERMU BRATISLAVA",
         "orientation": "v",
         "showlegend": true,
         "textposition": "auto",
         "type": "bar",
         "x": [
          1991,
          1999,
          2000,
          2001
         ],
         "xaxis": "x",
         "y": [
          1,
          1,
          1,
          1
         ],
         "yaxis": "y"
        },
        {
         "alignmentgroup": "True",
         "hovertemplate": "Klub=BOHEMIANS<br>birthyear=%{x}<br>count=%{y}<extra></extra>",
         "legendgroup": "BOHEMIANS",
         "marker": {
          "color": "#00cc96",
          "pattern": {
           "shape": ""
          }
         },
         "name": "BOHEMIANS",
         "offsetgroup": "BOHEMIANS",
         "orientation": "v",
         "showlegend": true,
         "textposition": "auto",
         "type": "bar",
         "x": [
          1972,
          1991
         ],
         "xaxis": "x",
         "y": [
          1,
          1
         ],
         "yaxis": "y"
        },
        {
         "alignmentgroup": "True",
         "hovertemplate": "Klub=BOHEP<br>birthyear=%{x}<br>count=%{y}<extra></extra>",
         "legendgroup": "BOHEP",
         "marker": {
          "color": "#ab63fa",
          "pattern": {
           "shape": ""
          }
         },
         "name": "BOHEP",
         "offsetgroup": "BOHEP",
         "orientation": "v",
         "showlegend": true,
         "textposition": "auto",
         "type": "bar",
         "x": [
          1991
         ],
         "xaxis": "x",
         "y": [
          1
         ],
         "yaxis": "y"
        },
        {
         "alignmentgroup": "True",
         "hovertemplate": "Klub=EKONOM PRAHA<br>birthyear=%{x}<br>count=%{y}<extra></extra>",
         "legendgroup": "EKONOM PRAHA",
         "marker": {
          "color": "#FFA15A",
          "pattern": {
           "shape": ""
          }
         },
         "name": "EKONOM PRAHA",
         "offsetgroup": "EKONOM PRAHA",
         "orientation": "v",
         "showlegend": true,
         "textposition": "auto",
         "type": "bar",
         "x": [
          2000
         ],
         "xaxis": "x",
         "y": [
          1
         ],
         "yaxis": "y"
        },
        {
         "alignmentgroup": "True",
         "hovertemplate": "Klub=FC LEIPZIG<br>birthyear=%{x}<br>count=%{y}<extra></extra>",
         "legendgroup": "FC LEIPZIG",
         "marker": {
          "color": "#19d3f3",
          "pattern": {
           "shape": ""
          }
         },
         "name": "FC LEIPZIG",
         "offsetgroup": "FC LEIPZIG",
         "orientation": "v",
         "showlegend": true,
         "textposition": "auto",
         "type": "bar",
         "x": [
          2000,
          2001,
          2002
         ],
         "xaxis": "x",
         "y": [
          1,
          1,
          1
         ],
         "yaxis": "y"
        },
        {
         "alignmentgroup": "True",
         "hovertemplate": "Klub=JISKRA H.BROD<br>birthyear=%{x}<br>count=%{y}<extra></extra>",
         "legendgroup": "JISKRA H.BROD",
         "marker": {
          "color": "#FF6692",
          "pattern": {
           "shape": ""
          }
         },
         "name": "JISKRA H.BROD",
         "offsetgroup": "JISKRA H.BROD",
         "orientation": "v",
         "showlegend": true,
         "textposition": "auto",
         "type": "bar",
         "x": [
          2004
         ],
         "xaxis": "x",
         "y": [
          1
         ],
         "yaxis": "y"
        },
        {
         "alignmentgroup": "True",
         "hovertemplate": "Klub=JPN<br>birthyear=%{x}<br>count=%{y}<extra></extra>",
         "legendgroup": "JPN",
         "marker": {
          "color": "#B6E880",
          "pattern": {
           "shape": ""
          }
         },
         "name": "JPN",
         "offsetgroup": "JPN",
         "orientation": "v",
         "showlegend": true,
         "textposition": "auto",
         "type": "bar",
         "x": [
          2002
         ],
         "xaxis": "x",
         "y": [
          1
         ],
         "yaxis": "y"
        },
        {
         "alignmentgroup": "True",
         "hovertemplate": "Klub=LAŠSSKFZ<br>birthyear=%{x}<br>count=%{y}<extra></extra>",
         "legendgroup": "LAŠSSKFZ",
         "marker": {
          "color": "#FF97FF",
          "pattern": {
           "shape": ""
          }
         },
         "name": "LAŠSSKFZ",
         "offsetgroup": "LAŠSSKFZ",
         "orientation": "v",
         "showlegend": true,
         "textposition": "auto",
         "type": "bar",
         "x": [
          2000
         ],
         "xaxis": "x",
         "y": [
          1
         ],
         "yaxis": "y"
        },
        {
         "alignmentgroup": "True",
         "hovertemplate": "Klub=OREL HR.KR.<br>birthyear=%{x}<br>count=%{y}<extra></extra>",
         "legendgroup": "OREL HR.KR.",
         "marker": {
          "color": "#FECB52",
          "pattern": {
           "shape": ""
          }
         },
         "name": "OREL HR.KR.",
         "offsetgroup": "OREL HR.KR.",
         "orientation": "v",
         "showlegend": true,
         "textposition": "auto",
         "type": "bar",
         "x": [
          1996
         ],
         "xaxis": "x",
         "y": [
          1
         ],
         "yaxis": "y"
        },
        {
         "alignmentgroup": "True",
         "hovertemplate": "Klub=RADEBEUL<br>birthyear=%{x}<br>count=%{y}<extra></extra>",
         "legendgroup": "RADEBEUL",
         "marker": {
          "color": "#636efa",
          "pattern": {
           "shape": ""
          }
         },
         "name": "RADEBEUL",
         "offsetgroup": "RADEBEUL",
         "orientation": "v",
         "showlegend": true,
         "textposition": "auto",
         "type": "bar",
         "x": [
          2002
         ],
         "xaxis": "x",
         "y": [
          1
         ],
         "yaxis": "y"
        },
        {
         "alignmentgroup": "True",
         "hovertemplate": "Klub=RIEGEL PRAHA<br>birthyear=%{x}<br>count=%{y}<extra></extra>",
         "legendgroup": "RIEGEL PRAHA",
         "marker": {
          "color": "#EF553B",
          "pattern": {
           "shape": ""
          }
         },
         "name": "RIEGEL PRAHA",
         "offsetgroup": "RIEGEL PRAHA",
         "orientation": "v",
         "showlegend": true,
         "textposition": "auto",
         "type": "bar",
         "x": [
          1989,
          1998
         ],
         "xaxis": "x",
         "y": [
          1,
          1
         ],
         "yaxis": "y"
        },
        {
         "alignmentgroup": "True",
         "hovertemplate": "Klub=SC PRAHA<br>birthyear=%{x}<br>count=%{y}<extra></extra>",
         "legendgroup": "SC PRAHA",
         "marker": {
          "color": "#00cc96",
          "pattern": {
           "shape": ""
          }
         },
         "name": "SC PRAHA",
         "offsetgroup": "SC PRAHA",
         "orientation": "v",
         "showlegend": true,
         "textposition": "auto",
         "type": "bar",
         "x": [
          1978,
          1990,
          1995,
          1998,
          1999,
          2001,
          2002,
          2003,
          2004,
          2005,
          2006,
          2007,
          2008,
          2009
         ],
         "xaxis": "x",
         "y": [
          1,
          1,
          2,
          1,
          2,
          2,
          3,
          2,
          1,
          1,
          2,
          5,
          3,
          1
         ],
         "yaxis": "y"
        },
        {
         "alignmentgroup": "True",
         "hovertemplate": "Klub=SOKOL DEJVICE<br>birthyear=%{x}<br>count=%{y}<extra></extra>",
         "legendgroup": "SOKOL DEJVICE",
         "marker": {
          "color": "#ab63fa",
          "pattern": {
           "shape": ""
          }
         },
         "name": "SOKOL DEJVICE",
         "offsetgroup": "SOKOL DEJVICE",
         "orientation": "v",
         "showlegend": true,
         "textposition": "auto",
         "type": "bar",
         "x": [
          2002,
          2004
         ],
         "xaxis": "x",
         "y": [
          1,
          1
         ],
         "yaxis": "y"
        },
        {
         "alignmentgroup": "True",
         "hovertemplate": "Klub=SOKOL PÍSEK<br>birthyear=%{x}<br>count=%{y}<extra></extra>",
         "legendgroup": "SOKOL PÍSEK",
         "marker": {
          "color": "#FFA15A",
          "pattern": {
           "shape": ""
          }
         },
         "name": "SOKOL PÍSEK",
         "offsetgroup": "SOKOL PÍSEK",
         "orientation": "v",
         "showlegend": true,
         "textposition": "auto",
         "type": "bar",
         "x": [
          1978,
          2007
         ],
         "xaxis": "x",
         "y": [
          1,
          1
         ],
         "yaxis": "y"
        },
        {
         "alignmentgroup": "True",
         "hovertemplate": "Klub=SS UH.HRADISTE<br>birthyear=%{x}<br>count=%{y}<extra></extra>",
         "legendgroup": "SS UH.HRADISTE",
         "marker": {
          "color": "#19d3f3",
          "pattern": {
           "shape": ""
          }
         },
         "name": "SS UH.HRADISTE",
         "offsetgroup": "SS UH.HRADISTE",
         "orientation": "v",
         "showlegend": true,
         "textposition": "auto",
         "type": "bar",
         "x": [
          1973
         ],
         "xaxis": "x",
         "y": [
          1
         ],
         "yaxis": "y"
        },
        {
         "alignmentgroup": "True",
         "hovertemplate": "Klub=SČ USTI NAD LABEM<br>birthyear=%{x}<br>count=%{y}<extra></extra>",
         "legendgroup": "SČ USTI NAD LABEM",
         "marker": {
          "color": "#FF6692",
          "pattern": {
           "shape": ""
          }
         },
         "name": "SČ USTI NAD LABEM",
         "offsetgroup": "SČ USTI NAD LABEM",
         "orientation": "v",
         "showlegend": true,
         "textposition": "auto",
         "type": "bar",
         "x": [
          1997,
          1999,
          2002,
          2006
         ],
         "xaxis": "x",
         "y": [
          1,
          1,
          1,
          2
         ],
         "yaxis": "y"
        },
        {
         "alignmentgroup": "True",
         "hovertemplate": "Klub=TJ DUKLA OLOMOUC<br>birthyear=%{x}<br>count=%{y}<extra></extra>",
         "legendgroup": "TJ DUKLA OLOMOUC",
         "marker": {
          "color": "#B6E880",
          "pattern": {
           "shape": ""
          }
         },
         "name": "TJ DUKLA OLOMOUC",
         "offsetgroup": "TJ DUKLA OLOMOUC",
         "orientation": "v",
         "showlegend": true,
         "textposition": "auto",
         "type": "bar",
         "x": [
          1980,
          1984,
          1991,
          1995,
          1999,
          2000,
          2002,
          2005,
          2007,
          2009
         ],
         "xaxis": "x",
         "y": [
          1,
          2,
          1,
          1,
          2,
          4,
          1,
          1,
          1,
          1
         ],
         "yaxis": "y"
        },
        {
         "alignmentgroup": "True",
         "hovertemplate": "Klub=TJ DUKLA PRAHA<br>birthyear=%{x}<br>count=%{y}<extra></extra>",
         "legendgroup": "TJ DUKLA PRAHA",
         "marker": {
          "color": "#FF97FF",
          "pattern": {
           "shape": ""
          }
         },
         "name": "TJ DUKLA PRAHA",
         "offsetgroup": "TJ DUKLA PRAHA",
         "orientation": "v",
         "showlegend": true,
         "textposition": "auto",
         "type": "bar",
         "x": [
          1990,
          1994,
          1995,
          1996,
          1997,
          1999,
          2000,
          2001,
          2002,
          2004,
          2005
         ],
         "xaxis": "x",
         "y": [
          1,
          2,
          1,
          1,
          1,
          2,
          1,
          2,
          2,
          2,
          2
         ],
         "yaxis": "y"
        },
        {
         "alignmentgroup": "True",
         "hovertemplate": "Klub=TJ LOKO K.VARY<br>birthyear=%{x}<br>count=%{y}<extra></extra>",
         "legendgroup": "TJ LOKO K.VARY",
         "marker": {
          "color": "#FECB52",
          "pattern": {
           "shape": ""
          }
         },
         "name": "TJ LOKO K.VARY",
         "offsetgroup": "TJ LOKO K.VARY",
         "orientation": "v",
         "showlegend": true,
         "textposition": "auto",
         "type": "bar",
         "x": [
          1991,
          2003,
          2006,
          2007,
          2008
         ],
         "xaxis": "x",
         "y": [
          1,
          1,
          1,
          1,
          1
         ],
         "yaxis": "y"
        },
        {
         "alignmentgroup": "True",
         "hovertemplate": "Klub=TJ LOKO PLZEN<br>birthyear=%{x}<br>count=%{y}<extra></extra>",
         "legendgroup": "TJ LOKO PLZEN",
         "marker": {
          "color": "#636efa",
          "pattern": {
           "shape": ""
          }
         },
         "name": "TJ LOKO PLZEN",
         "offsetgroup": "TJ LOKO PLZEN",
         "orientation": "v",
         "showlegend": true,
         "textposition": "auto",
         "type": "bar",
         "x": [
          1988,
          1991,
          1995,
          1996,
          1998,
          2000,
          2002,
          2008
         ],
         "xaxis": "x",
         "y": [
          1,
          1,
          1,
          1,
          1,
          1,
          1,
          1
         ],
         "yaxis": "y"
        },
        {
         "alignmentgroup": "True",
         "hovertemplate": "Klub=TJ LOKO TEPLICE<br>birthyear=%{x}<br>count=%{y}<extra></extra>",
         "legendgroup": "TJ LOKO TEPLICE",
         "marker": {
          "color": "#EF553B",
          "pattern": {
           "shape": ""
          }
         },
         "name": "TJ LOKO TEPLICE",
         "offsetgroup": "TJ LOKO TEPLICE",
         "orientation": "v",
         "showlegend": true,
         "textposition": "auto",
         "type": "bar",
         "x": [
          2002,
          2004,
          2005,
          2008
         ],
         "xaxis": "x",
         "y": [
          1,
          2,
          3,
          1
         ],
         "yaxis": "y"
        },
        {
         "alignmentgroup": "True",
         "hovertemplate": "Klub=TJ SLAVOJ LITOMĚŘICE<br>birthyear=%{x}<br>count=%{y}<extra></extra>",
         "legendgroup": "TJ SLAVOJ LITOMĚŘICE",
         "marker": {
          "color": "#00cc96",
          "pattern": {
           "shape": ""
          }
         },
         "name": "TJ SLAVOJ LITOMĚŘICE",
         "offsetgroup": "TJ SLAVOJ LITOMĚŘICE",
         "orientation": "v",
         "showlegend": true,
         "textposition": "auto",
         "type": "bar",
         "x": [
          2005,
          2006,
          2007
         ],
         "xaxis": "x",
         "y": [
          2,
          2,
          1
         ],
         "yaxis": "y"
        },
        {
         "alignmentgroup": "True",
         "hovertemplate": "Klub=UKRAJINA<br>birthyear=%{x}<br>count=%{y}<extra></extra>",
         "legendgroup": "UKRAJINA",
         "marker": {
          "color": "#ab63fa",
          "pattern": {
           "shape": ""
          }
         },
         "name": "UKRAJINA",
         "offsetgroup": "UKRAJINA",
         "orientation": "v",
         "showlegend": true,
         "textposition": "auto",
         "type": "bar",
         "x": [
          1997,
          1999
         ],
         "xaxis": "x",
         "y": [
          1,
          1
         ],
         "yaxis": "y"
        },
        {
         "alignmentgroup": "True",
         "hovertemplate": "Klub=USK PRAHA<br>birthyear=%{x}<br>count=%{y}<extra></extra>",
         "legendgroup": "USK PRAHA",
         "marker": {
          "color": "#FFA15A",
          "pattern": {
           "shape": ""
          }
         },
         "name": "USK PRAHA",
         "offsetgroup": "USK PRAHA",
         "orientation": "v",
         "showlegend": true,
         "textposition": "auto",
         "type": "bar",
         "x": [
          1975,
          1989,
          1997,
          1999,
          2005,
          2006
         ],
         "xaxis": "x",
         "y": [
          1,
          1,
          1,
          2,
          1,
          1
         ],
         "yaxis": "y"
        },
        {
         "alignmentgroup": "True",
         "hovertemplate": "Klub=VENEZUELA<br>birthyear=%{x}<br>count=%{y}<extra></extra>",
         "legendgroup": "VENEZUELA",
         "marker": {
          "color": "#19d3f3",
          "pattern": {
           "shape": ""
          }
         },
         "name": "VENEZUELA",
         "offsetgroup": "VENEZUELA",
         "orientation": "v",
         "showlegend": true,
         "textposition": "auto",
         "type": "bar",
         "x": [
          1991,
          1999
         ],
         "xaxis": "x",
         "y": [
          1,
          3
         ],
         "yaxis": "y"
        },
        {
         "alignmentgroup": "True",
         "hovertemplate": "Klub=VSK HUMANITA<br>birthyear=%{x}<br>count=%{y}<extra></extra>",
         "legendgroup": "VSK HUMANITA",
         "marker": {
          "color": "#FF6692",
          "pattern": {
           "shape": ""
          }
         },
         "name": "VSK HUMANITA",
         "offsetgroup": "VSK HUMANITA",
         "orientation": "v",
         "showlegend": true,
         "textposition": "auto",
         "type": "bar",
         "x": [
          1991,
          1992,
          1993,
          1995,
          1997,
          1998,
          1999
         ],
         "xaxis": "x",
         "y": [
          1,
          1,
          1,
          1,
          2,
          3,
          1
         ],
         "yaxis": "y"
        },
        {
         "alignmentgroup": "True",
         "hovertemplate": "Klub=VUT BRNO<br>birthyear=%{x}<br>count=%{y}<extra></extra>",
         "legendgroup": "VUT BRNO",
         "marker": {
          "color": "#B6E880",
          "pattern": {
           "shape": ""
          }
         },
         "name": "VUT BRNO",
         "offsetgroup": "VUT BRNO",
         "orientation": "v",
         "showlegend": true,
         "textposition": "auto",
         "type": "bar",
         "x": [
          2002
         ],
         "xaxis": "x",
         "y": [
          1
         ],
         "yaxis": "y"
        }
       ],
       "layout": {
        "barmode": "relative",
        "height": 700,
        "legend": {
         "title": {
          "text": "Klub"
         },
         "tracegroupgap": 0
        },
        "template": {
         "data": {
          "bar": [
           {
            "error_x": {
             "color": "#2a3f5f"
            },
            "error_y": {
             "color": "#2a3f5f"
            },
            "marker": {
             "line": {
              "color": "#E5ECF6",
              "width": 0.5
             },
             "pattern": {
              "fillmode": "overlay",
              "size": 10,
              "solidity": 0.2
             }
            },
            "type": "bar"
           }
          ],
          "barpolar": [
           {
            "marker": {
             "line": {
              "color": "#E5ECF6",
              "width": 0.5
             },
             "pattern": {
              "fillmode": "overlay",
              "size": 10,
              "solidity": 0.2
             }
            },
            "type": "barpolar"
           }
          ],
          "carpet": [
           {
            "aaxis": {
             "endlinecolor": "#2a3f5f",
             "gridcolor": "white",
             "linecolor": "white",
             "minorgridcolor": "white",
             "startlinecolor": "#2a3f5f"
            },
            "baxis": {
             "endlinecolor": "#2a3f5f",
             "gridcolor": "white",
             "linecolor": "white",
             "minorgridcolor": "white",
             "startlinecolor": "#2a3f5f"
            },
            "type": "carpet"
           }
          ],
          "choropleth": [
           {
            "colorbar": {
             "outlinewidth": 0,
             "ticks": ""
            },
            "type": "choropleth"
           }
          ],
          "contour": [
           {
            "colorbar": {
             "outlinewidth": 0,
             "ticks": ""
            },
            "colorscale": [
             [
              0,
              "#0d0887"
             ],
             [
              0.1111111111111111,
              "#46039f"
             ],
             [
              0.2222222222222222,
              "#7201a8"
             ],
             [
              0.3333333333333333,
              "#9c179e"
             ],
             [
              0.4444444444444444,
              "#bd3786"
             ],
             [
              0.5555555555555556,
              "#d8576b"
             ],
             [
              0.6666666666666666,
              "#ed7953"
             ],
             [
              0.7777777777777778,
              "#fb9f3a"
             ],
             [
              0.8888888888888888,
              "#fdca26"
             ],
             [
              1,
              "#f0f921"
             ]
            ],
            "type": "contour"
           }
          ],
          "contourcarpet": [
           {
            "colorbar": {
             "outlinewidth": 0,
             "ticks": ""
            },
            "type": "contourcarpet"
           }
          ],
          "heatmap": [
           {
            "colorbar": {
             "outlinewidth": 0,
             "ticks": ""
            },
            "colorscale": [
             [
              0,
              "#0d0887"
             ],
             [
              0.1111111111111111,
              "#46039f"
             ],
             [
              0.2222222222222222,
              "#7201a8"
             ],
             [
              0.3333333333333333,
              "#9c179e"
             ],
             [
              0.4444444444444444,
              "#bd3786"
             ],
             [
              0.5555555555555556,
              "#d8576b"
             ],
             [
              0.6666666666666666,
              "#ed7953"
             ],
             [
              0.7777777777777778,
              "#fb9f3a"
             ],
             [
              0.8888888888888888,
              "#fdca26"
             ],
             [
              1,
              "#f0f921"
             ]
            ],
            "type": "heatmap"
           }
          ],
          "heatmapgl": [
           {
            "colorbar": {
             "outlinewidth": 0,
             "ticks": ""
            },
            "colorscale": [
             [
              0,
              "#0d0887"
             ],
             [
              0.1111111111111111,
              "#46039f"
             ],
             [
              0.2222222222222222,
              "#7201a8"
             ],
             [
              0.3333333333333333,
              "#9c179e"
             ],
             [
              0.4444444444444444,
              "#bd3786"
             ],
             [
              0.5555555555555556,
              "#d8576b"
             ],
             [
              0.6666666666666666,
              "#ed7953"
             ],
             [
              0.7777777777777778,
              "#fb9f3a"
             ],
             [
              0.8888888888888888,
              "#fdca26"
             ],
             [
              1,
              "#f0f921"
             ]
            ],
            "type": "heatmapgl"
           }
          ],
          "histogram": [
           {
            "marker": {
             "pattern": {
              "fillmode": "overlay",
              "size": 10,
              "solidity": 0.2
             }
            },
            "type": "histogram"
           }
          ],
          "histogram2d": [
           {
            "colorbar": {
             "outlinewidth": 0,
             "ticks": ""
            },
            "colorscale": [
             [
              0,
              "#0d0887"
             ],
             [
              0.1111111111111111,
              "#46039f"
             ],
             [
              0.2222222222222222,
              "#7201a8"
             ],
             [
              0.3333333333333333,
              "#9c179e"
             ],
             [
              0.4444444444444444,
              "#bd3786"
             ],
             [
              0.5555555555555556,
              "#d8576b"
             ],
             [
              0.6666666666666666,
              "#ed7953"
             ],
             [
              0.7777777777777778,
              "#fb9f3a"
             ],
             [
              0.8888888888888888,
              "#fdca26"
             ],
             [
              1,
              "#f0f921"
             ]
            ],
            "type": "histogram2d"
           }
          ],
          "histogram2dcontour": [
           {
            "colorbar": {
             "outlinewidth": 0,
             "ticks": ""
            },
            "colorscale": [
             [
              0,
              "#0d0887"
             ],
             [
              0.1111111111111111,
              "#46039f"
             ],
             [
              0.2222222222222222,
              "#7201a8"
             ],
             [
              0.3333333333333333,
              "#9c179e"
             ],
             [
              0.4444444444444444,
              "#bd3786"
             ],
             [
              0.5555555555555556,
              "#d8576b"
             ],
             [
              0.6666666666666666,
              "#ed7953"
             ],
             [
              0.7777777777777778,
              "#fb9f3a"
             ],
             [
              0.8888888888888888,
              "#fdca26"
             ],
             [
              1,
              "#f0f921"
             ]
            ],
            "type": "histogram2dcontour"
           }
          ],
          "mesh3d": [
           {
            "colorbar": {
             "outlinewidth": 0,
             "ticks": ""
            },
            "type": "mesh3d"
           }
          ],
          "parcoords": [
           {
            "line": {
             "colorbar": {
              "outlinewidth": 0,
              "ticks": ""
             }
            },
            "type": "parcoords"
           }
          ],
          "pie": [
           {
            "automargin": true,
            "type": "pie"
           }
          ],
          "scatter": [
           {
            "fillpattern": {
             "fillmode": "overlay",
             "size": 10,
             "solidity": 0.2
            },
            "type": "scatter"
           }
          ],
          "scatter3d": [
           {
            "line": {
             "colorbar": {
              "outlinewidth": 0,
              "ticks": ""
             }
            },
            "marker": {
             "colorbar": {
              "outlinewidth": 0,
              "ticks": ""
             }
            },
            "type": "scatter3d"
           }
          ],
          "scattercarpet": [
           {
            "marker": {
             "colorbar": {
              "outlinewidth": 0,
              "ticks": ""
             }
            },
            "type": "scattercarpet"
           }
          ],
          "scattergeo": [
           {
            "marker": {
             "colorbar": {
              "outlinewidth": 0,
              "ticks": ""
             }
            },
            "type": "scattergeo"
           }
          ],
          "scattergl": [
           {
            "marker": {
             "colorbar": {
              "outlinewidth": 0,
              "ticks": ""
             }
            },
            "type": "scattergl"
           }
          ],
          "scattermapbox": [
           {
            "marker": {
             "colorbar": {
              "outlinewidth": 0,
              "ticks": ""
             }
            },
            "type": "scattermapbox"
           }
          ],
          "scatterpolar": [
           {
            "marker": {
             "colorbar": {
              "outlinewidth": 0,
              "ticks": ""
             }
            },
            "type": "scatterpolar"
           }
          ],
          "scatterpolargl": [
           {
            "marker": {
             "colorbar": {
              "outlinewidth": 0,
              "ticks": ""
             }
            },
            "type": "scatterpolargl"
           }
          ],
          "scatterternary": [
           {
            "marker": {
             "colorbar": {
              "outlinewidth": 0,
              "ticks": ""
             }
            },
            "type": "scatterternary"
           }
          ],
          "surface": [
           {
            "colorbar": {
             "outlinewidth": 0,
             "ticks": ""
            },
            "colorscale": [
             [
              0,
              "#0d0887"
             ],
             [
              0.1111111111111111,
              "#46039f"
             ],
             [
              0.2222222222222222,
              "#7201a8"
             ],
             [
              0.3333333333333333,
              "#9c179e"
             ],
             [
              0.4444444444444444,
              "#bd3786"
             ],
             [
              0.5555555555555556,
              "#d8576b"
             ],
             [
              0.6666666666666666,
              "#ed7953"
             ],
             [
              0.7777777777777778,
              "#fb9f3a"
             ],
             [
              0.8888888888888888,
              "#fdca26"
             ],
             [
              1,
              "#f0f921"
             ]
            ],
            "type": "surface"
           }
          ],
          "table": [
           {
            "cells": {
             "fill": {
              "color": "#EBF0F8"
             },
             "line": {
              "color": "white"
             }
            },
            "header": {
             "fill": {
              "color": "#C8D4E3"
             },
             "line": {
              "color": "white"
             }
            },
            "type": "table"
           }
          ]
         },
         "layout": {
          "annotationdefaults": {
           "arrowcolor": "#2a3f5f",
           "arrowhead": 0,
           "arrowwidth": 1
          },
          "autotypenumbers": "strict",
          "coloraxis": {
           "colorbar": {
            "outlinewidth": 0,
            "ticks": ""
           }
          },
          "colorscale": {
           "diverging": [
            [
             0,
             "#8e0152"
            ],
            [
             0.1,
             "#c51b7d"
            ],
            [
             0.2,
             "#de77ae"
            ],
            [
             0.3,
             "#f1b6da"
            ],
            [
             0.4,
             "#fde0ef"
            ],
            [
             0.5,
             "#f7f7f7"
            ],
            [
             0.6,
             "#e6f5d0"
            ],
            [
             0.7,
             "#b8e186"
            ],
            [
             0.8,
             "#7fbc41"
            ],
            [
             0.9,
             "#4d9221"
            ],
            [
             1,
             "#276419"
            ]
           ],
           "sequential": [
            [
             0,
             "#0d0887"
            ],
            [
             0.1111111111111111,
             "#46039f"
            ],
            [
             0.2222222222222222,
             "#7201a8"
            ],
            [
             0.3333333333333333,
             "#9c179e"
            ],
            [
             0.4444444444444444,
             "#bd3786"
            ],
            [
             0.5555555555555556,
             "#d8576b"
            ],
            [
             0.6666666666666666,
             "#ed7953"
            ],
            [
             0.7777777777777778,
             "#fb9f3a"
            ],
            [
             0.8888888888888888,
             "#fdca26"
            ],
            [
             1,
             "#f0f921"
            ]
           ],
           "sequentialminus": [
            [
             0,
             "#0d0887"
            ],
            [
             0.1111111111111111,
             "#46039f"
            ],
            [
             0.2222222222222222,
             "#7201a8"
            ],
            [
             0.3333333333333333,
             "#9c179e"
            ],
            [
             0.4444444444444444,
             "#bd3786"
            ],
            [
             0.5555555555555556,
             "#d8576b"
            ],
            [
             0.6666666666666666,
             "#ed7953"
            ],
            [
             0.7777777777777778,
             "#fb9f3a"
            ],
            [
             0.8888888888888888,
             "#fdca26"
            ],
            [
             1,
             "#f0f921"
            ]
           ]
          },
          "colorway": [
           "#636efa",
           "#EF553B",
           "#00cc96",
           "#ab63fa",
           "#FFA15A",
           "#19d3f3",
           "#FF6692",
           "#B6E880",
           "#FF97FF",
           "#FECB52"
          ],
          "font": {
           "color": "#2a3f5f"
          },
          "geo": {
           "bgcolor": "white",
           "lakecolor": "white",
           "landcolor": "#E5ECF6",
           "showlakes": true,
           "showland": true,
           "subunitcolor": "white"
          },
          "hoverlabel": {
           "align": "left"
          },
          "hovermode": "closest",
          "mapbox": {
           "style": "light"
          },
          "paper_bgcolor": "white",
          "plot_bgcolor": "#E5ECF6",
          "polar": {
           "angularaxis": {
            "gridcolor": "white",
            "linecolor": "white",
            "ticks": ""
           },
           "bgcolor": "#E5ECF6",
           "radialaxis": {
            "gridcolor": "white",
            "linecolor": "white",
            "ticks": ""
           }
          },
          "scene": {
           "xaxis": {
            "backgroundcolor": "#E5ECF6",
            "gridcolor": "white",
            "gridwidth": 2,
            "linecolor": "white",
            "showbackground": true,
            "ticks": "",
            "zerolinecolor": "white"
           },
           "yaxis": {
            "backgroundcolor": "#E5ECF6",
            "gridcolor": "white",
            "gridwidth": 2,
            "linecolor": "white",
            "showbackground": true,
            "ticks": "",
            "zerolinecolor": "white"
           },
           "zaxis": {
            "backgroundcolor": "#E5ECF6",
            "gridcolor": "white",
            "gridwidth": 2,
            "linecolor": "white",
            "showbackground": true,
            "ticks": "",
            "zerolinecolor": "white"
           }
          },
          "shapedefaults": {
           "line": {
            "color": "#2a3f5f"
           }
          },
          "ternary": {
           "aaxis": {
            "gridcolor": "white",
            "linecolor": "white",
            "ticks": ""
           },
           "baxis": {
            "gridcolor": "white",
            "linecolor": "white",
            "ticks": ""
           },
           "bgcolor": "#E5ECF6",
           "caxis": {
            "gridcolor": "white",
            "linecolor": "white",
            "ticks": ""
           }
          },
          "title": {
           "x": 0.05
          },
          "xaxis": {
           "automargin": true,
           "gridcolor": "white",
           "linecolor": "white",
           "ticks": "",
           "title": {
            "standoff": 15
           },
           "zerolinecolor": "white",
           "zerolinewidth": 2
          },
          "yaxis": {
           "automargin": true,
           "gridcolor": "white",
           "linecolor": "white",
           "ticks": "",
           "title": {
            "standoff": 15
           },
           "zerolinecolor": "white",
           "zerolinewidth": 2
          }
         }
        },
        "title": {
         "text": "ŽENY - Závodníci podle roku narození a klubu"
        },
        "width": 950,
        "xaxis": {
         "anchor": "y",
         "domain": [
          0,
          1
         ],
         "tickangle": -90,
         "tickvals": [
          1972,
          1973,
          1975,
          1978,
          1978,
          1980,
          1984,
          1988,
          1989,
          1989,
          1990,
          1990,
          1991,
          1991,
          1991,
          1991,
          1991,
          1991,
          1991,
          1991,
          1992,
          1993,
          1994,
          1995,
          1995,
          1995,
          1995,
          1995,
          1996,
          1996,
          1996,
          1997,
          1997,
          1997,
          1997,
          1997,
          1998,
          1998,
          1998,
          1998,
          1999,
          1999,
          1999,
          1999,
          1999,
          1999,
          1999,
          1999,
          1999,
          2000,
          2000,
          2000,
          2000,
          2000,
          2000,
          2000,
          2000,
          2001,
          2001,
          2001,
          2001,
          2002,
          2002,
          2002,
          2002,
          2002,
          2002,
          2002,
          2002,
          2002,
          2002,
          2002,
          2002,
          2003,
          2003,
          2003,
          2004,
          2004,
          2004,
          2004,
          2004,
          2005,
          2005,
          2005,
          2005,
          2005,
          2005,
          2006,
          2006,
          2006,
          2006,
          2006,
          2006,
          2007,
          2007,
          2007,
          2007,
          2007,
          2008,
          2008,
          2008,
          2008,
          2009,
          2009
         ],
         "title": {
          "text": "Rok narození"
         }
        },
        "yaxis": {
         "anchor": "x",
         "domain": [
          0,
          1
         ],
         "title": {
          "text": "Počet"
         }
        }
       }
      }
     },
     "metadata": {},
     "output_type": "display_data"
    },
    {
     "data": {
      "application/vnd.plotly.v1+json": {
       "config": {
        "plotlyServerURL": "https://plot.ly"
       },
       "data": [
        {
         "alignmentgroup": "True",
         "hovertemplate": "Klub=1.FC BELA POD BEZ<br>birthyear=%{x}<br>count=%{y}<extra></extra>",
         "legendgroup": "1.FC BELA POD BEZ",
         "marker": {
          "color": "#636efa",
          "pattern": {
           "shape": ""
          }
         },
         "name": "1.FC BELA POD BEZ",
         "offsetgroup": "1.FC BELA POD BEZ",
         "orientation": "v",
         "showlegend": true,
         "textposition": "auto",
         "type": "bar",
         "x": [
          2003,
          2004,
          2005,
          2006
         ],
         "xaxis": "x",
         "y": [
          1,
          1,
          1,
          2
         ],
         "yaxis": "y"
        },
        {
         "alignmentgroup": "True",
         "hovertemplate": "Klub=AKADÉMIA ŠERMU BRATISLAVA<br>birthyear=%{x}<br>count=%{y}<extra></extra>",
         "legendgroup": "AKADÉMIA ŠERMU BRATISLAVA",
         "marker": {
          "color": "#EF553B",
          "pattern": {
           "shape": ""
          }
         },
         "name": "AKADÉMIA ŠERMU BRATISLAVA",
         "offsetgroup": "AKADÉMIA ŠERMU BRATISLAVA",
         "orientation": "v",
         "showlegend": true,
         "textposition": "auto",
         "type": "bar",
         "x": [
          1992,
          1998
         ],
         "xaxis": "x",
         "y": [
          1,
          1
         ],
         "yaxis": "y"
        },
        {
         "alignmentgroup": "True",
         "hovertemplate": "Klub=AUT<br>birthyear=%{x}<br>count=%{y}<extra></extra>",
         "legendgroup": "AUT",
         "marker": {
          "color": "#00cc96",
          "pattern": {
           "shape": ""
          }
         },
         "name": "AUT",
         "offsetgroup": "AUT",
         "orientation": "v",
         "showlegend": true,
         "textposition": "auto",
         "type": "bar",
         "x": [
          1996
         ],
         "xaxis": "x",
         "y": [
          1
         ],
         "yaxis": "y"
        },
        {
         "alignmentgroup": "True",
         "hovertemplate": "Klub=BA MPC<br>birthyear=%{x}<br>count=%{y}<extra></extra>",
         "legendgroup": "BA MPC",
         "marker": {
          "color": "#ab63fa",
          "pattern": {
           "shape": ""
          }
         },
         "name": "BA MPC",
         "offsetgroup": "BA MPC",
         "orientation": "v",
         "showlegend": true,
         "textposition": "auto",
         "type": "bar",
         "x": [
          1992
         ],
         "xaxis": "x",
         "y": [
          1
         ],
         "yaxis": "y"
        },
        {
         "alignmentgroup": "True",
         "hovertemplate": "Klub=BOHEMIANS<br>birthyear=%{x}<br>count=%{y}<extra></extra>",
         "legendgroup": "BOHEMIANS",
         "marker": {
          "color": "#FFA15A",
          "pattern": {
           "shape": ""
          }
         },
         "name": "BOHEMIANS",
         "offsetgroup": "BOHEMIANS",
         "orientation": "v",
         "showlegend": true,
         "textposition": "auto",
         "type": "bar",
         "x": [
          1957,
          1986
         ],
         "xaxis": "x",
         "y": [
          1,
          1
         ],
         "yaxis": "y"
        },
        {
         "alignmentgroup": "True",
         "hovertemplate": "Klub=BOHEP<br>birthyear=%{x}<br>count=%{y}<extra></extra>",
         "legendgroup": "BOHEP",
         "marker": {
          "color": "#19d3f3",
          "pattern": {
           "shape": ""
          }
         },
         "name": "BOHEP",
         "offsetgroup": "BOHEP",
         "orientation": "v",
         "showlegend": true,
         "textposition": "auto",
         "type": "bar",
         "x": [
          1987
         ],
         "xaxis": "x",
         "y": [
          1
         ],
         "yaxis": "y"
        },
        {
         "alignmentgroup": "True",
         "hovertemplate": "Klub=BŠK MARTINENGO<br>birthyear=%{x}<br>count=%{y}<extra></extra>",
         "legendgroup": "BŠK MARTINENGO",
         "marker": {
          "color": "#FF6692",
          "pattern": {
           "shape": ""
          }
         },
         "name": "BŠK MARTINENGO",
         "offsetgroup": "BŠK MARTINENGO",
         "orientation": "v",
         "showlegend": true,
         "textposition": "auto",
         "type": "bar",
         "x": [
          1982,
          1987,
          1997
         ],
         "xaxis": "x",
         "y": [
          1,
          1,
          1
         ],
         "yaxis": "y"
        },
        {
         "alignmentgroup": "True",
         "hovertemplate": "Klub=DIF STOCKHOLM<br>birthyear=%{x}<br>count=%{y}<extra></extra>",
         "legendgroup": "DIF STOCKHOLM",
         "marker": {
          "color": "#B6E880",
          "pattern": {
           "shape": ""
          }
         },
         "name": "DIF STOCKHOLM",
         "offsetgroup": "DIF STOCKHOLM",
         "orientation": "v",
         "showlegend": true,
         "textposition": "auto",
         "type": "bar",
         "x": [
          1996
         ],
         "xaxis": "x",
         "y": [
          1
         ],
         "yaxis": "y"
        },
        {
         "alignmentgroup": "True",
         "hovertemplate": "Klub=DYNAMO UŽHOROD<br>birthyear=%{x}<br>count=%{y}<extra></extra>",
         "legendgroup": "DYNAMO UŽHOROD",
         "marker": {
          "color": "#FF97FF",
          "pattern": {
           "shape": ""
          }
         },
         "name": "DYNAMO UŽHOROD",
         "offsetgroup": "DYNAMO UŽHOROD",
         "orientation": "v",
         "showlegend": true,
         "textposition": "auto",
         "type": "bar",
         "x": [
          1989
         ],
         "xaxis": "x",
         "y": [
          1
         ],
         "yaxis": "y"
        },
        {
         "alignmentgroup": "True",
         "hovertemplate": "Klub=EKONOM PRAHA<br>birthyear=%{x}<br>count=%{y}<extra></extra>",
         "legendgroup": "EKONOM PRAHA",
         "marker": {
          "color": "#FECB52",
          "pattern": {
           "shape": ""
          }
         },
         "name": "EKONOM PRAHA",
         "offsetgroup": "EKONOM PRAHA",
         "orientation": "v",
         "showlegend": true,
         "textposition": "auto",
         "type": "bar",
         "x": [
          1978,
          1984,
          1991,
          1993,
          1996,
          1997
         ],
         "xaxis": "x",
         "y": [
          2,
          1,
          1,
          1,
          2,
          1
         ],
         "yaxis": "y"
        },
        {
         "alignmentgroup": "True",
         "hovertemplate": "Klub=KŠ SNINA<br>birthyear=%{x}<br>count=%{y}<extra></extra>",
         "legendgroup": "KŠ SNINA",
         "marker": {
          "color": "#636efa",
          "pattern": {
           "shape": ""
          }
         },
         "name": "KŠ SNINA",
         "offsetgroup": "KŠ SNINA",
         "orientation": "v",
         "showlegend": true,
         "textposition": "auto",
         "type": "bar",
         "x": [
          1993
         ],
         "xaxis": "x",
         "y": [
          1
         ],
         "yaxis": "y"
        },
        {
         "alignmentgroup": "True",
         "hovertemplate": "Klub=LAŠSSKFZ<br>birthyear=%{x}<br>count=%{y}<extra></extra>",
         "legendgroup": "LAŠSSKFZ",
         "marker": {
          "color": "#EF553B",
          "pattern": {
           "shape": ""
          }
         },
         "name": "LAŠSSKFZ",
         "offsetgroup": "LAŠSSKFZ",
         "orientation": "v",
         "showlegend": true,
         "textposition": "auto",
         "type": "bar",
         "x": [
          2004
         ],
         "xaxis": "x",
         "y": [
          1
         ],
         "yaxis": "y"
        },
        {
         "alignmentgroup": "True",
         "hovertemplate": "Klub=OREL HR.KR.<br>birthyear=%{x}<br>count=%{y}<extra></extra>",
         "legendgroup": "OREL HR.KR.",
         "marker": {
          "color": "#00cc96",
          "pattern": {
           "shape": ""
          }
         },
         "name": "OREL HR.KR.",
         "offsetgroup": "OREL HR.KR.",
         "orientation": "v",
         "showlegend": true,
         "textposition": "auto",
         "type": "bar",
         "x": [
          2004
         ],
         "xaxis": "x",
         "y": [
          1
         ],
         "yaxis": "y"
        },
        {
         "alignmentgroup": "True",
         "hovertemplate": "Klub=PIAST GLIWICZ<br>birthyear=%{x}<br>count=%{y}<extra></extra>",
         "legendgroup": "PIAST GLIWICZ",
         "marker": {
          "color": "#ab63fa",
          "pattern": {
           "shape": ""
          }
         },
         "name": "PIAST GLIWICZ",
         "offsetgroup": "PIAST GLIWICZ",
         "orientation": "v",
         "showlegend": true,
         "textposition": "auto",
         "type": "bar",
         "x": [
          1995,
          1997,
          1999,
          2001,
          2002
         ],
         "xaxis": "x",
         "y": [
          1,
          1,
          1,
          2,
          1
         ],
         "yaxis": "y"
        },
        {
         "alignmentgroup": "True",
         "hovertemplate": "Klub=POL<br>birthyear=%{x}<br>count=%{y}<extra></extra>",
         "legendgroup": "POL",
         "marker": {
          "color": "#FFA15A",
          "pattern": {
           "shape": ""
          }
         },
         "name": "POL",
         "offsetgroup": "POL",
         "orientation": "v",
         "showlegend": true,
         "textposition": "auto",
         "type": "bar",
         "x": [
          2005
         ],
         "xaxis": "x",
         "y": [
          1
         ],
         "yaxis": "y"
        },
        {
         "alignmentgroup": "True",
         "hovertemplate": "Klub=RIEGEL PRAHA<br>birthyear=%{x}<br>count=%{y}<extra></extra>",
         "legendgroup": "RIEGEL PRAHA",
         "marker": {
          "color": "#19d3f3",
          "pattern": {
           "shape": ""
          }
         },
         "name": "RIEGEL PRAHA",
         "offsetgroup": "RIEGEL PRAHA",
         "orientation": "v",
         "showlegend": true,
         "textposition": "auto",
         "type": "bar",
         "x": [
          1975,
          1977,
          1982,
          1990,
          2000,
          2002,
          2003
         ],
         "xaxis": "x",
         "y": [
          1,
          1,
          1,
          1,
          1,
          1,
          2
         ],
         "yaxis": "y"
        },
        {
         "alignmentgroup": "True",
         "hovertemplate": "Klub=SC PRAHA<br>birthyear=%{x}<br>count=%{y}<extra></extra>",
         "legendgroup": "SC PRAHA",
         "marker": {
          "color": "#FF6692",
          "pattern": {
           "shape": ""
          }
         },
         "name": "SC PRAHA",
         "offsetgroup": "SC PRAHA",
         "orientation": "v",
         "showlegend": true,
         "textposition": "auto",
         "type": "bar",
         "x": [
          1956,
          1962,
          1972,
          1975,
          1978,
          1982,
          1983,
          1987,
          1988,
          1990,
          1991,
          1992,
          1993,
          1995,
          1997,
          1998,
          2000,
          2001,
          2002,
          2003,
          2004,
          2005,
          2006,
          2007,
          2008
         ],
         "xaxis": "x",
         "y": [
          1,
          1,
          1,
          1,
          1,
          1,
          2,
          1,
          1,
          1,
          1,
          1,
          2,
          1,
          1,
          1,
          1,
          3,
          2,
          3,
          3,
          1,
          2,
          2,
          1
         ],
         "yaxis": "y"
        },
        {
         "alignmentgroup": "True",
         "hovertemplate": "Klub=SILNI BEOGRAD<br>birthyear=%{x}<br>count=%{y}<extra></extra>",
         "legendgroup": "SILNI BEOGRAD",
         "marker": {
          "color": "#B6E880",
          "pattern": {
           "shape": ""
          }
         },
         "name": "SILNI BEOGRAD",
         "offsetgroup": "SILNI BEOGRAD",
         "orientation": "v",
         "showlegend": true,
         "textposition": "auto",
         "type": "bar",
         "x": [
          1973
         ],
         "xaxis": "x",
         "y": [
          1
         ],
         "yaxis": "y"
        },
        {
         "alignmentgroup": "True",
         "hovertemplate": "Klub=SLAVOJ Č.TĚŠÍN<br>birthyear=%{x}<br>count=%{y}<extra></extra>",
         "legendgroup": "SLAVOJ Č.TĚŠÍN",
         "marker": {
          "color": "#FF97FF",
          "pattern": {
           "shape": ""
          }
         },
         "name": "SLAVOJ Č.TĚŠÍN",
         "offsetgroup": "SLAVOJ Č.TĚŠÍN",
         "orientation": "v",
         "showlegend": true,
         "textposition": "auto",
         "type": "bar",
         "x": [
          1976
         ],
         "xaxis": "x",
         "y": [
          1
         ],
         "yaxis": "y"
        },
        {
         "alignmentgroup": "True",
         "hovertemplate": "Klub=SOKOL BRNO I<br>birthyear=%{x}<br>count=%{y}<extra></extra>",
         "legendgroup": "SOKOL BRNO I",
         "marker": {
          "color": "#FECB52",
          "pattern": {
           "shape": ""
          }
         },
         "name": "SOKOL BRNO I",
         "offsetgroup": "SOKOL BRNO I",
         "orientation": "v",
         "showlegend": true,
         "textposition": "auto",
         "type": "bar",
         "x": [
          1966,
          1985,
          1990,
          1999
         ],
         "xaxis": "x",
         "y": [
          1,
          1,
          2,
          1
         ],
         "yaxis": "y"
        },
        {
         "alignmentgroup": "True",
         "hovertemplate": "Klub=SOKOL DEJVICE<br>birthyear=%{x}<br>count=%{y}<extra></extra>",
         "legendgroup": "SOKOL DEJVICE",
         "marker": {
          "color": "#636efa",
          "pattern": {
           "shape": ""
          }
         },
         "name": "SOKOL DEJVICE",
         "offsetgroup": "SOKOL DEJVICE",
         "orientation": "v",
         "showlegend": true,
         "textposition": "auto",
         "type": "bar",
         "x": [
          1950,
          1978,
          1987,
          1988,
          1993,
          1995,
          1997,
          2003,
          2006
         ],
         "xaxis": "x",
         "y": [
          1,
          1,
          1,
          1,
          1,
          2,
          1,
          1,
          2
         ],
         "yaxis": "y"
        },
        {
         "alignmentgroup": "True",
         "hovertemplate": "Klub=SOKOL PLZEŇ<br>birthyear=%{x}<br>count=%{y}<extra></extra>",
         "legendgroup": "SOKOL PLZEŇ",
         "marker": {
          "color": "#EF553B",
          "pattern": {
           "shape": ""
          }
         },
         "name": "SOKOL PLZEŇ",
         "offsetgroup": "SOKOL PLZEŇ",
         "orientation": "v",
         "showlegend": true,
         "textposition": "auto",
         "type": "bar",
         "x": [
          1963,
          1993,
          1999,
          2001,
          2005,
          2007
         ],
         "xaxis": "x",
         "y": [
          1,
          1,
          1,
          1,
          1,
          1
         ],
         "yaxis": "y"
        },
        {
         "alignmentgroup": "True",
         "hovertemplate": "Klub=SOKOL PÍSEK<br>birthyear=%{x}<br>count=%{y}<extra></extra>",
         "legendgroup": "SOKOL PÍSEK",
         "marker": {
          "color": "#00cc96",
          "pattern": {
           "shape": ""
          }
         },
         "name": "SOKOL PÍSEK",
         "offsetgroup": "SOKOL PÍSEK",
         "orientation": "v",
         "showlegend": true,
         "textposition": "auto",
         "type": "bar",
         "x": [
          1977,
          1993,
          1994,
          2001,
          2007
         ],
         "xaxis": "x",
         "y": [
          1,
          1,
          1,
          1,
          1
         ],
         "yaxis": "y"
        },
        {
         "alignmentgroup": "True",
         "hovertemplate": "Klub=SPORTOVNÍ ŠERM TÁBOR<br>birthyear=%{x}<br>count=%{y}<extra></extra>",
         "legendgroup": "SPORTOVNÍ ŠERM TÁBOR",
         "marker": {
          "color": "#ab63fa",
          "pattern": {
           "shape": ""
          }
         },
         "name": "SPORTOVNÍ ŠERM TÁBOR",
         "offsetgroup": "SPORTOVNÍ ŠERM TÁBOR",
         "orientation": "v",
         "showlegend": true,
         "textposition": "auto",
         "type": "bar",
         "x": [
          1982,
          1988,
          1998,
          2003
         ],
         "xaxis": "x",
         "y": [
          1,
          1,
          1,
          1
         ],
         "yaxis": "y"
        },
        {
         "alignmentgroup": "True",
         "hovertemplate": "Klub=SPORTOVNÍ ŠERM ZLÍN<br>birthyear=%{x}<br>count=%{y}<extra></extra>",
         "legendgroup": "SPORTOVNÍ ŠERM ZLÍN",
         "marker": {
          "color": "#FFA15A",
          "pattern": {
           "shape": ""
          }
         },
         "name": "SPORTOVNÍ ŠERM ZLÍN",
         "offsetgroup": "SPORTOVNÍ ŠERM ZLÍN",
         "orientation": "v",
         "showlegend": true,
         "textposition": "auto",
         "type": "bar",
         "x": [
          1979,
          1992,
          1994,
          2000
         ],
         "xaxis": "x",
         "y": [
          1,
          1,
          1,
          1
         ],
         "yaxis": "y"
        },
        {
         "alignmentgroup": "True",
         "hovertemplate": "Klub=SS UH.HRADISTE<br>birthyear=%{x}<br>count=%{y}<extra></extra>",
         "legendgroup": "SS UH.HRADISTE",
         "marker": {
          "color": "#19d3f3",
          "pattern": {
           "shape": ""
          }
         },
         "name": "SS UH.HRADISTE",
         "offsetgroup": "SS UH.HRADISTE",
         "orientation": "v",
         "showlegend": true,
         "textposition": "auto",
         "type": "bar",
         "x": [
          1984,
          1985,
          1988,
          1989
         ],
         "xaxis": "x",
         "y": [
          2,
          1,
          1,
          2
         ],
         "yaxis": "y"
        },
        {
         "alignmentgroup": "True",
         "hovertemplate": "Klub=SČ USTI NAD LABEM<br>birthyear=%{x}<br>count=%{y}<extra></extra>",
         "legendgroup": "SČ USTI NAD LABEM",
         "marker": {
          "color": "#FF6692",
          "pattern": {
           "shape": ""
          }
         },
         "name": "SČ USTI NAD LABEM",
         "offsetgroup": "SČ USTI NAD LABEM",
         "orientation": "v",
         "showlegend": true,
         "textposition": "auto",
         "type": "bar",
         "x": [
          1973,
          1991,
          1994,
          1999,
          2001,
          2002
         ],
         "xaxis": "x",
         "y": [
          2,
          1,
          1,
          2,
          1,
          1
         ],
         "yaxis": "y"
        },
        {
         "alignmentgroup": "True",
         "hovertemplate": "Klub=TBILISI<br>birthyear=%{x}<br>count=%{y}<extra></extra>",
         "legendgroup": "TBILISI",
         "marker": {
          "color": "#B6E880",
          "pattern": {
           "shape": ""
          }
         },
         "name": "TBILISI",
         "offsetgroup": "TBILISI",
         "orientation": "v",
         "showlegend": true,
         "textposition": "auto",
         "type": "bar",
         "x": [
          1999
         ],
         "xaxis": "x",
         "y": [
          1
         ],
         "yaxis": "y"
        },
        {
         "alignmentgroup": "True",
         "hovertemplate": "Klub=TJ DUKLA OLOMOUC<br>birthyear=%{x}<br>count=%{y}<extra></extra>",
         "legendgroup": "TJ DUKLA OLOMOUC",
         "marker": {
          "color": "#FF97FF",
          "pattern": {
           "shape": ""
          }
         },
         "name": "TJ DUKLA OLOMOUC",
         "offsetgroup": "TJ DUKLA OLOMOUC",
         "orientation": "v",
         "showlegend": true,
         "textposition": "auto",
         "type": "bar",
         "x": [
          1962,
          1971,
          1983,
          1986,
          1989,
          1997,
          1999,
          2000,
          2002,
          2003,
          2004,
          2005
         ],
         "xaxis": "x",
         "y": [
          1,
          2,
          1,
          1,
          1,
          1,
          3,
          2,
          1,
          1,
          1,
          3
         ],
         "yaxis": "y"
        },
        {
         "alignmentgroup": "True",
         "hovertemplate": "Klub=TJ DUKLA PRAHA<br>birthyear=%{x}<br>count=%{y}<extra></extra>",
         "legendgroup": "TJ DUKLA PRAHA",
         "marker": {
          "color": "#FECB52",
          "pattern": {
           "shape": ""
          }
         },
         "name": "TJ DUKLA PRAHA",
         "offsetgroup": "TJ DUKLA PRAHA",
         "orientation": "v",
         "showlegend": true,
         "textposition": "auto",
         "type": "bar",
         "x": [
          1971,
          1980,
          1991,
          1993,
          1994,
          1997,
          1999,
          2000,
          2001,
          2002,
          2003
         ],
         "xaxis": "x",
         "y": [
          1,
          1,
          3,
          2,
          1,
          1,
          2,
          1,
          5,
          5,
          3
         ],
         "yaxis": "y"
        },
        {
         "alignmentgroup": "True",
         "hovertemplate": "Klub=TJ LOKO K.VARY<br>birthyear=%{x}<br>count=%{y}<extra></extra>",
         "legendgroup": "TJ LOKO K.VARY",
         "marker": {
          "color": "#636efa",
          "pattern": {
           "shape": ""
          }
         },
         "name": "TJ LOKO K.VARY",
         "offsetgroup": "TJ LOKO K.VARY",
         "orientation": "v",
         "showlegend": true,
         "textposition": "auto",
         "type": "bar",
         "x": [
          1949,
          1970,
          1974,
          1978,
          1981,
          1982,
          1991,
          1996,
          2001,
          2002
         ],
         "xaxis": "x",
         "y": [
          1,
          1,
          1,
          1,
          1,
          1,
          1,
          1,
          1,
          4
         ],
         "yaxis": "y"
        },
        {
         "alignmentgroup": "True",
         "hovertemplate": "Klub=TJ LOKO PLZEN<br>birthyear=%{x}<br>count=%{y}<extra></extra>",
         "legendgroup": "TJ LOKO PLZEN",
         "marker": {
          "color": "#EF553B",
          "pattern": {
           "shape": ""
          }
         },
         "name": "TJ LOKO PLZEN",
         "offsetgroup": "TJ LOKO PLZEN",
         "orientation": "v",
         "showlegend": true,
         "textposition": "auto",
         "type": "bar",
         "x": [
          1968,
          1980,
          1982,
          1984,
          2001,
          2002,
          2004,
          2005
         ],
         "xaxis": "x",
         "y": [
          1,
          1,
          1,
          2,
          1,
          1,
          1,
          2
         ],
         "yaxis": "y"
        },
        {
         "alignmentgroup": "True",
         "hovertemplate": "Klub=TJ LOKO TEPLICE<br>birthyear=%{x}<br>count=%{y}<extra></extra>",
         "legendgroup": "TJ LOKO TEPLICE",
         "marker": {
          "color": "#00cc96",
          "pattern": {
           "shape": ""
          }
         },
         "name": "TJ LOKO TEPLICE",
         "offsetgroup": "TJ LOKO TEPLICE",
         "orientation": "v",
         "showlegend": true,
         "textposition": "auto",
         "type": "bar",
         "x": [
          1972,
          1998,
          2002,
          2003,
          2004,
          2005,
          2006
         ],
         "xaxis": "x",
         "y": [
          1,
          1,
          1,
          1,
          1,
          2,
          2
         ],
         "yaxis": "y"
        },
        {
         "alignmentgroup": "True",
         "hovertemplate": "Klub=TJ SLAVOJ LITOMĚŘICE<br>birthyear=%{x}<br>count=%{y}<extra></extra>",
         "legendgroup": "TJ SLAVOJ LITOMĚŘICE",
         "marker": {
          "color": "#ab63fa",
          "pattern": {
           "shape": ""
          }
         },
         "name": "TJ SLAVOJ LITOMĚŘICE",
         "offsetgroup": "TJ SLAVOJ LITOMĚŘICE",
         "orientation": "v",
         "showlegend": true,
         "textposition": "auto",
         "type": "bar",
         "x": [
          1953,
          1991,
          1998,
          2001
         ],
         "xaxis": "x",
         "y": [
          1,
          1,
          1,
          1
         ],
         "yaxis": "y"
        },
        {
         "alignmentgroup": "True",
         "hovertemplate": "Klub=TJ SLOVAN HORKY<br>birthyear=%{x}<br>count=%{y}<extra></extra>",
         "legendgroup": "TJ SLOVAN HORKY",
         "marker": {
          "color": "#FFA15A",
          "pattern": {
           "shape": ""
          }
         },
         "name": "TJ SLOVAN HORKY",
         "offsetgroup": "TJ SLOVAN HORKY",
         "orientation": "v",
         "showlegend": true,
         "textposition": "auto",
         "type": "bar",
         "x": [
          1967
         ],
         "xaxis": "x",
         "y": [
          1
         ],
         "yaxis": "y"
        },
        {
         "alignmentgroup": "True",
         "hovertemplate": "Klub=USK PRAHA<br>birthyear=%{x}<br>count=%{y}<extra></extra>",
         "legendgroup": "USK PRAHA",
         "marker": {
          "color": "#19d3f3",
          "pattern": {
           "shape": ""
          }
         },
         "name": "USK PRAHA",
         "offsetgroup": "USK PRAHA",
         "orientation": "v",
         "showlegend": true,
         "textposition": "auto",
         "type": "bar",
         "x": [
          1957,
          1967,
          1974,
          1975,
          1981,
          1995,
          1996,
          1997,
          1998,
          2001,
          2002,
          2004,
          2005
         ],
         "xaxis": "x",
         "y": [
          1,
          1,
          1,
          1,
          1,
          1,
          1,
          1,
          2,
          2,
          1,
          2,
          1
         ],
         "yaxis": "y"
        },
        {
         "alignmentgroup": "True",
         "hovertemplate": "Klub=USV DRESDEN<br>birthyear=%{x}<br>count=%{y}<extra></extra>",
         "legendgroup": "USV DRESDEN",
         "marker": {
          "color": "#FF6692",
          "pattern": {
           "shape": ""
          }
         },
         "name": "USV DRESDEN",
         "offsetgroup": "USV DRESDEN",
         "orientation": "v",
         "showlegend": true,
         "textposition": "auto",
         "type": "bar",
         "x": [
          1962
         ],
         "xaxis": "x",
         "y": [
          1
         ],
         "yaxis": "y"
        },
        {
         "alignmentgroup": "True",
         "hovertemplate": "Klub=VSK HUMANITA<br>birthyear=%{x}<br>count=%{y}<extra></extra>",
         "legendgroup": "VSK HUMANITA",
         "marker": {
          "color": "#B6E880",
          "pattern": {
           "shape": ""
          }
         },
         "name": "VSK HUMANITA",
         "offsetgroup": "VSK HUMANITA",
         "orientation": "v",
         "showlegend": true,
         "textposition": "auto",
         "type": "bar",
         "x": [
          1993,
          1998,
          1999,
          2000
         ],
         "xaxis": "x",
         "y": [
          2,
          1,
          1,
          1
         ],
         "yaxis": "y"
        },
        {
         "alignmentgroup": "True",
         "hovertemplate": "Klub=VSK ČVUT<br>birthyear=%{x}<br>count=%{y}<extra></extra>",
         "legendgroup": "VSK ČVUT",
         "marker": {
          "color": "#FF97FF",
          "pattern": {
           "shape": ""
          }
         },
         "name": "VSK ČVUT",
         "offsetgroup": "VSK ČVUT",
         "orientation": "v",
         "showlegend": true,
         "textposition": "auto",
         "type": "bar",
         "x": [
          1961,
          2005
         ],
         "xaxis": "x",
         "y": [
          1,
          1
         ],
         "yaxis": "y"
        },
        {
         "alignmentgroup": "True",
         "hovertemplate": "Klub=VUT BRNO<br>birthyear=%{x}<br>count=%{y}<extra></extra>",
         "legendgroup": "VUT BRNO",
         "marker": {
          "color": "#FECB52",
          "pattern": {
           "shape": ""
          }
         },
         "name": "VUT BRNO",
         "offsetgroup": "VUT BRNO",
         "orientation": "v",
         "showlegend": true,
         "textposition": "auto",
         "type": "bar",
         "x": [
          1993,
          1996,
          1999,
          2001
         ],
         "xaxis": "x",
         "y": [
          1,
          1,
          1,
          1
         ],
         "yaxis": "y"
        },
        {
         "alignmentgroup": "True",
         "hovertemplate": "Klub=WARSZAWIANKA<br>birthyear=%{x}<br>count=%{y}<extra></extra>",
         "legendgroup": "WARSZAWIANKA",
         "marker": {
          "color": "#636efa",
          "pattern": {
           "shape": ""
          }
         },
         "name": "WARSZAWIANKA",
         "offsetgroup": "WARSZAWIANKA",
         "orientation": "v",
         "showlegend": true,
         "textposition": "auto",
         "type": "bar",
         "x": [
          1985,
          1999
         ],
         "xaxis": "x",
         "y": [
          1,
          1
         ],
         "yaxis": "y"
        },
        {
         "alignmentgroup": "True",
         "hovertemplate": "Klub=ŠERM LIBEREC<br>birthyear=%{x}<br>count=%{y}<extra></extra>",
         "legendgroup": "ŠERM LIBEREC",
         "marker": {
          "color": "#EF553B",
          "pattern": {
           "shape": ""
          }
         },
         "name": "ŠERM LIBEREC",
         "offsetgroup": "ŠERM LIBEREC",
         "orientation": "v",
         "showlegend": true,
         "textposition": "auto",
         "type": "bar",
         "x": [
          1972,
          1974,
          1978,
          1984,
          1996,
          2000,
          2001,
          2004,
          2006,
          2007
         ],
         "xaxis": "x",
         "y": [
          1,
          1,
          1,
          1,
          1,
          1,
          2,
          1,
          1,
          1
         ],
         "yaxis": "y"
        },
        {
         "alignmentgroup": "True",
         "hovertemplate": "Klub=ŠERM MASTERS<br>birthyear=%{x}<br>count=%{y}<extra></extra>",
         "legendgroup": "ŠERM MASTERS",
         "marker": {
          "color": "#00cc96",
          "pattern": {
           "shape": ""
          }
         },
         "name": "ŠERM MASTERS",
         "offsetgroup": "ŠERM MASTERS",
         "orientation": "v",
         "showlegend": true,
         "textposition": "auto",
         "type": "bar",
         "x": [
          1957,
          1994,
          2003
         ],
         "xaxis": "x",
         "y": [
          1,
          1,
          1
         ],
         "yaxis": "y"
        },
        {
         "alignmentgroup": "True",
         "hovertemplate": "Klub=ŠERM TABOR<br>birthyear=%{x}<br>count=%{y}<extra></extra>",
         "legendgroup": "ŠERM TABOR",
         "marker": {
          "color": "#ab63fa",
          "pattern": {
           "shape": ""
          }
         },
         "name": "ŠERM TABOR",
         "offsetgroup": "ŠERM TABOR",
         "orientation": "v",
         "showlegend": true,
         "textposition": "auto",
         "type": "bar",
         "x": [
          1988
         ],
         "xaxis": "x",
         "y": [
          1
         ],
         "yaxis": "y"
        },
        {
         "alignmentgroup": "True",
         "hovertemplate": "Klub=ŠERM ZLIN<br>birthyear=%{x}<br>count=%{y}<extra></extra>",
         "legendgroup": "ŠERM ZLIN",
         "marker": {
          "color": "#FFA15A",
          "pattern": {
           "shape": ""
          }
         },
         "name": "ŠERM ZLIN",
         "offsetgroup": "ŠERM ZLIN",
         "orientation": "v",
         "showlegend": true,
         "textposition": "auto",
         "type": "bar",
         "x": [
          1994
         ],
         "xaxis": "x",
         "y": [
          1
         ],
         "yaxis": "y"
        }
       ],
       "layout": {
        "barmode": "relative",
        "height": 700,
        "legend": {
         "title": {
          "text": "Klub"
         },
         "tracegroupgap": 0
        },
        "template": {
         "data": {
          "bar": [
           {
            "error_x": {
             "color": "#2a3f5f"
            },
            "error_y": {
             "color": "#2a3f5f"
            },
            "marker": {
             "line": {
              "color": "#E5ECF6",
              "width": 0.5
             },
             "pattern": {
              "fillmode": "overlay",
              "size": 10,
              "solidity": 0.2
             }
            },
            "type": "bar"
           }
          ],
          "barpolar": [
           {
            "marker": {
             "line": {
              "color": "#E5ECF6",
              "width": 0.5
             },
             "pattern": {
              "fillmode": "overlay",
              "size": 10,
              "solidity": 0.2
             }
            },
            "type": "barpolar"
           }
          ],
          "carpet": [
           {
            "aaxis": {
             "endlinecolor": "#2a3f5f",
             "gridcolor": "white",
             "linecolor": "white",
             "minorgridcolor": "white",
             "startlinecolor": "#2a3f5f"
            },
            "baxis": {
             "endlinecolor": "#2a3f5f",
             "gridcolor": "white",
             "linecolor": "white",
             "minorgridcolor": "white",
             "startlinecolor": "#2a3f5f"
            },
            "type": "carpet"
           }
          ],
          "choropleth": [
           {
            "colorbar": {
             "outlinewidth": 0,
             "ticks": ""
            },
            "type": "choropleth"
           }
          ],
          "contour": [
           {
            "colorbar": {
             "outlinewidth": 0,
             "ticks": ""
            },
            "colorscale": [
             [
              0,
              "#0d0887"
             ],
             [
              0.1111111111111111,
              "#46039f"
             ],
             [
              0.2222222222222222,
              "#7201a8"
             ],
             [
              0.3333333333333333,
              "#9c179e"
             ],
             [
              0.4444444444444444,
              "#bd3786"
             ],
             [
              0.5555555555555556,
              "#d8576b"
             ],
             [
              0.6666666666666666,
              "#ed7953"
             ],
             [
              0.7777777777777778,
              "#fb9f3a"
             ],
             [
              0.8888888888888888,
              "#fdca26"
             ],
             [
              1,
              "#f0f921"
             ]
            ],
            "type": "contour"
           }
          ],
          "contourcarpet": [
           {
            "colorbar": {
             "outlinewidth": 0,
             "ticks": ""
            },
            "type": "contourcarpet"
           }
          ],
          "heatmap": [
           {
            "colorbar": {
             "outlinewidth": 0,
             "ticks": ""
            },
            "colorscale": [
             [
              0,
              "#0d0887"
             ],
             [
              0.1111111111111111,
              "#46039f"
             ],
             [
              0.2222222222222222,
              "#7201a8"
             ],
             [
              0.3333333333333333,
              "#9c179e"
             ],
             [
              0.4444444444444444,
              "#bd3786"
             ],
             [
              0.5555555555555556,
              "#d8576b"
             ],
             [
              0.6666666666666666,
              "#ed7953"
             ],
             [
              0.7777777777777778,
              "#fb9f3a"
             ],
             [
              0.8888888888888888,
              "#fdca26"
             ],
             [
              1,
              "#f0f921"
             ]
            ],
            "type": "heatmap"
           }
          ],
          "heatmapgl": [
           {
            "colorbar": {
             "outlinewidth": 0,
             "ticks": ""
            },
            "colorscale": [
             [
              0,
              "#0d0887"
             ],
             [
              0.1111111111111111,
              "#46039f"
             ],
             [
              0.2222222222222222,
              "#7201a8"
             ],
             [
              0.3333333333333333,
              "#9c179e"
             ],
             [
              0.4444444444444444,
              "#bd3786"
             ],
             [
              0.5555555555555556,
              "#d8576b"
             ],
             [
              0.6666666666666666,
              "#ed7953"
             ],
             [
              0.7777777777777778,
              "#fb9f3a"
             ],
             [
              0.8888888888888888,
              "#fdca26"
             ],
             [
              1,
              "#f0f921"
             ]
            ],
            "type": "heatmapgl"
           }
          ],
          "histogram": [
           {
            "marker": {
             "pattern": {
              "fillmode": "overlay",
              "size": 10,
              "solidity": 0.2
             }
            },
            "type": "histogram"
           }
          ],
          "histogram2d": [
           {
            "colorbar": {
             "outlinewidth": 0,
             "ticks": ""
            },
            "colorscale": [
             [
              0,
              "#0d0887"
             ],
             [
              0.1111111111111111,
              "#46039f"
             ],
             [
              0.2222222222222222,
              "#7201a8"
             ],
             [
              0.3333333333333333,
              "#9c179e"
             ],
             [
              0.4444444444444444,
              "#bd3786"
             ],
             [
              0.5555555555555556,
              "#d8576b"
             ],
             [
              0.6666666666666666,
              "#ed7953"
             ],
             [
              0.7777777777777778,
              "#fb9f3a"
             ],
             [
              0.8888888888888888,
              "#fdca26"
             ],
             [
              1,
              "#f0f921"
             ]
            ],
            "type": "histogram2d"
           }
          ],
          "histogram2dcontour": [
           {
            "colorbar": {
             "outlinewidth": 0,
             "ticks": ""
            },
            "colorscale": [
             [
              0,
              "#0d0887"
             ],
             [
              0.1111111111111111,
              "#46039f"
             ],
             [
              0.2222222222222222,
              "#7201a8"
             ],
             [
              0.3333333333333333,
              "#9c179e"
             ],
             [
              0.4444444444444444,
              "#bd3786"
             ],
             [
              0.5555555555555556,
              "#d8576b"
             ],
             [
              0.6666666666666666,
              "#ed7953"
             ],
             [
              0.7777777777777778,
              "#fb9f3a"
             ],
             [
              0.8888888888888888,
              "#fdca26"
             ],
             [
              1,
              "#f0f921"
             ]
            ],
            "type": "histogram2dcontour"
           }
          ],
          "mesh3d": [
           {
            "colorbar": {
             "outlinewidth": 0,
             "ticks": ""
            },
            "type": "mesh3d"
           }
          ],
          "parcoords": [
           {
            "line": {
             "colorbar": {
              "outlinewidth": 0,
              "ticks": ""
             }
            },
            "type": "parcoords"
           }
          ],
          "pie": [
           {
            "automargin": true,
            "type": "pie"
           }
          ],
          "scatter": [
           {
            "fillpattern": {
             "fillmode": "overlay",
             "size": 10,
             "solidity": 0.2
            },
            "type": "scatter"
           }
          ],
          "scatter3d": [
           {
            "line": {
             "colorbar": {
              "outlinewidth": 0,
              "ticks": ""
             }
            },
            "marker": {
             "colorbar": {
              "outlinewidth": 0,
              "ticks": ""
             }
            },
            "type": "scatter3d"
           }
          ],
          "scattercarpet": [
           {
            "marker": {
             "colorbar": {
              "outlinewidth": 0,
              "ticks": ""
             }
            },
            "type": "scattercarpet"
           }
          ],
          "scattergeo": [
           {
            "marker": {
             "colorbar": {
              "outlinewidth": 0,
              "ticks": ""
             }
            },
            "type": "scattergeo"
           }
          ],
          "scattergl": [
           {
            "marker": {
             "colorbar": {
              "outlinewidth": 0,
              "ticks": ""
             }
            },
            "type": "scattergl"
           }
          ],
          "scattermapbox": [
           {
            "marker": {
             "colorbar": {
              "outlinewidth": 0,
              "ticks": ""
             }
            },
            "type": "scattermapbox"
           }
          ],
          "scatterpolar": [
           {
            "marker": {
             "colorbar": {
              "outlinewidth": 0,
              "ticks": ""
             }
            },
            "type": "scatterpolar"
           }
          ],
          "scatterpolargl": [
           {
            "marker": {
             "colorbar": {
              "outlinewidth": 0,
              "ticks": ""
             }
            },
            "type": "scatterpolargl"
           }
          ],
          "scatterternary": [
           {
            "marker": {
             "colorbar": {
              "outlinewidth": 0,
              "ticks": ""
             }
            },
            "type": "scatterternary"
           }
          ],
          "surface": [
           {
            "colorbar": {
             "outlinewidth": 0,
             "ticks": ""
            },
            "colorscale": [
             [
              0,
              "#0d0887"
             ],
             [
              0.1111111111111111,
              "#46039f"
             ],
             [
              0.2222222222222222,
              "#7201a8"
             ],
             [
              0.3333333333333333,
              "#9c179e"
             ],
             [
              0.4444444444444444,
              "#bd3786"
             ],
             [
              0.5555555555555556,
              "#d8576b"
             ],
             [
              0.6666666666666666,
              "#ed7953"
             ],
             [
              0.7777777777777778,
              "#fb9f3a"
             ],
             [
              0.8888888888888888,
              "#fdca26"
             ],
             [
              1,
              "#f0f921"
             ]
            ],
            "type": "surface"
           }
          ],
          "table": [
           {
            "cells": {
             "fill": {
              "color": "#EBF0F8"
             },
             "line": {
              "color": "white"
             }
            },
            "header": {
             "fill": {
              "color": "#C8D4E3"
             },
             "line": {
              "color": "white"
             }
            },
            "type": "table"
           }
          ]
         },
         "layout": {
          "annotationdefaults": {
           "arrowcolor": "#2a3f5f",
           "arrowhead": 0,
           "arrowwidth": 1
          },
          "autotypenumbers": "strict",
          "coloraxis": {
           "colorbar": {
            "outlinewidth": 0,
            "ticks": ""
           }
          },
          "colorscale": {
           "diverging": [
            [
             0,
             "#8e0152"
            ],
            [
             0.1,
             "#c51b7d"
            ],
            [
             0.2,
             "#de77ae"
            ],
            [
             0.3,
             "#f1b6da"
            ],
            [
             0.4,
             "#fde0ef"
            ],
            [
             0.5,
             "#f7f7f7"
            ],
            [
             0.6,
             "#e6f5d0"
            ],
            [
             0.7,
             "#b8e186"
            ],
            [
             0.8,
             "#7fbc41"
            ],
            [
             0.9,
             "#4d9221"
            ],
            [
             1,
             "#276419"
            ]
           ],
           "sequential": [
            [
             0,
             "#0d0887"
            ],
            [
             0.1111111111111111,
             "#46039f"
            ],
            [
             0.2222222222222222,
             "#7201a8"
            ],
            [
             0.3333333333333333,
             "#9c179e"
            ],
            [
             0.4444444444444444,
             "#bd3786"
            ],
            [
             0.5555555555555556,
             "#d8576b"
            ],
            [
             0.6666666666666666,
             "#ed7953"
            ],
            [
             0.7777777777777778,
             "#fb9f3a"
            ],
            [
             0.8888888888888888,
             "#fdca26"
            ],
            [
             1,
             "#f0f921"
            ]
           ],
           "sequentialminus": [
            [
             0,
             "#0d0887"
            ],
            [
             0.1111111111111111,
             "#46039f"
            ],
            [
             0.2222222222222222,
             "#7201a8"
            ],
            [
             0.3333333333333333,
             "#9c179e"
            ],
            [
             0.4444444444444444,
             "#bd3786"
            ],
            [
             0.5555555555555556,
             "#d8576b"
            ],
            [
             0.6666666666666666,
             "#ed7953"
            ],
            [
             0.7777777777777778,
             "#fb9f3a"
            ],
            [
             0.8888888888888888,
             "#fdca26"
            ],
            [
             1,
             "#f0f921"
            ]
           ]
          },
          "colorway": [
           "#636efa",
           "#EF553B",
           "#00cc96",
           "#ab63fa",
           "#FFA15A",
           "#19d3f3",
           "#FF6692",
           "#B6E880",
           "#FF97FF",
           "#FECB52"
          ],
          "font": {
           "color": "#2a3f5f"
          },
          "geo": {
           "bgcolor": "white",
           "lakecolor": "white",
           "landcolor": "#E5ECF6",
           "showlakes": true,
           "showland": true,
           "subunitcolor": "white"
          },
          "hoverlabel": {
           "align": "left"
          },
          "hovermode": "closest",
          "mapbox": {
           "style": "light"
          },
          "paper_bgcolor": "white",
          "plot_bgcolor": "#E5ECF6",
          "polar": {
           "angularaxis": {
            "gridcolor": "white",
            "linecolor": "white",
            "ticks": ""
           },
           "bgcolor": "#E5ECF6",
           "radialaxis": {
            "gridcolor": "white",
            "linecolor": "white",
            "ticks": ""
           }
          },
          "scene": {
           "xaxis": {
            "backgroundcolor": "#E5ECF6",
            "gridcolor": "white",
            "gridwidth": 2,
            "linecolor": "white",
            "showbackground": true,
            "ticks": "",
            "zerolinecolor": "white"
           },
           "yaxis": {
            "backgroundcolor": "#E5ECF6",
            "gridcolor": "white",
            "gridwidth": 2,
            "linecolor": "white",
            "showbackground": true,
            "ticks": "",
            "zerolinecolor": "white"
           },
           "zaxis": {
            "backgroundcolor": "#E5ECF6",
            "gridcolor": "white",
            "gridwidth": 2,
            "linecolor": "white",
            "showbackground": true,
            "ticks": "",
            "zerolinecolor": "white"
           }
          },
          "shapedefaults": {
           "line": {
            "color": "#2a3f5f"
           }
          },
          "ternary": {
           "aaxis": {
            "gridcolor": "white",
            "linecolor": "white",
            "ticks": ""
           },
           "baxis": {
            "gridcolor": "white",
            "linecolor": "white",
            "ticks": ""
           },
           "bgcolor": "#E5ECF6",
           "caxis": {
            "gridcolor": "white",
            "linecolor": "white",
            "ticks": ""
           }
          },
          "title": {
           "x": 0.05
          },
          "xaxis": {
           "automargin": true,
           "gridcolor": "white",
           "linecolor": "white",
           "ticks": "",
           "title": {
            "standoff": 15
           },
           "zerolinecolor": "white",
           "zerolinewidth": 2
          },
          "yaxis": {
           "automargin": true,
           "gridcolor": "white",
           "linecolor": "white",
           "ticks": "",
           "title": {
            "standoff": 15
           },
           "zerolinecolor": "white",
           "zerolinewidth": 2
          }
         }
        },
        "title": {
         "text": "MUŽI - Závodníci podle roku narození a klubu"
        },
        "width": 950,
        "xaxis": {
         "anchor": "y",
         "domain": [
          0,
          1
         ],
         "tickangle": -90,
         "tickvals": [
          1949,
          1950,
          1953,
          1956,
          1957,
          1957,
          1957,
          1961,
          1962,
          1962,
          1962,
          1963,
          1966,
          1967,
          1967,
          1968,
          1970,
          1971,
          1971,
          1972,
          1972,
          1972,
          1973,
          1973,
          1974,
          1974,
          1974,
          1975,
          1975,
          1975,
          1976,
          1977,
          1977,
          1978,
          1978,
          1978,
          1978,
          1978,
          1979,
          1980,
          1980,
          1981,
          1981,
          1982,
          1982,
          1982,
          1982,
          1982,
          1982,
          1983,
          1983,
          1984,
          1984,
          1984,
          1984,
          1985,
          1985,
          1985,
          1986,
          1986,
          1987,
          1987,
          1987,
          1987,
          1988,
          1988,
          1988,
          1988,
          1988,
          1989,
          1989,
          1989,
          1990,
          1990,
          1990,
          1991,
          1991,
          1991,
          1991,
          1991,
          1991,
          1992,
          1992,
          1992,
          1992,
          1993,
          1993,
          1993,
          1993,
          1993,
          1993,
          1993,
          1993,
          1993,
          1994,
          1994,
          1994,
          1994,
          1994,
          1994,
          1995,
          1995,
          1995,
          1995,
          1996,
          1996,
          1996,
          1996,
          1996,
          1996,
          1996,
          1997,
          1997,
          1997,
          1997,
          1997,
          1997,
          1997,
          1997,
          1998,
          1998,
          1998,
          1998,
          1998,
          1998,
          1998,
          1999,
          1999,
          1999,
          1999,
          1999,
          1999,
          1999,
          1999,
          1999,
          1999,
          2000,
          2000,
          2000,
          2000,
          2000,
          2000,
          2000,
          2001,
          2001,
          2001,
          2001,
          2001,
          2001,
          2001,
          2001,
          2001,
          2001,
          2001,
          2001,
          2002,
          2002,
          2002,
          2002,
          2002,
          2002,
          2002,
          2002,
          2002,
          2002,
          2003,
          2003,
          2003,
          2003,
          2003,
          2003,
          2003,
          2003,
          2003,
          2004,
          2004,
          2004,
          2004,
          2004,
          2004,
          2004,
          2004,
          2004,
          2005,
          2005,
          2005,
          2005,
          2005,
          2005,
          2005,
          2005,
          2005,
          2006,
          2006,
          2006,
          2006,
          2006,
          2007,
          2007,
          2007,
          2007,
          2008
         ],
         "title": {
          "text": "Rok narození"
         }
        },
        "yaxis": {
         "anchor": "x",
         "domain": [
          0,
          1
         ],
         "title": {
          "text": "Počet"
         }
        }
       }
      }
     },
     "metadata": {},
     "output_type": "display_data"
    }
   ],
   "source": [
    "for sex in [\"W\", \"M\"]:\n",
    "    title_sex = titles[sex]\n",
    "\n",
    "    df = pd.DataFrame({'count': df_tot[df_tot[\"sex\"]==sex].groupby(\n",
    "        ['birthyear', \"club\"]).size()}).reset_index()\n",
    "\n",
    "    fig = px.bar(df, x= df[\"birthyear\"],\n",
    "                    y= df[\"count\"], \n",
    "                    color = df[\"club\"] ,\n",
    "                    width=950, height=700,\n",
    "                    labels = {\"club\": \"Klub\"},  \n",
    "                    category_orders={\"club\": sorted(df[\"club\"].unique())}, \n",
    "                    title = f\"{title_sex} - Závodníci podle roku narození a klubu\")\n",
    "\n",
    "    fig.update_layout(xaxis = dict(tickvals = df[\"birthyear\"]))\n",
    "    fig.update_xaxes(tickangle=270)\n",
    "    fig.update_xaxes(title_text=\"Rok narození\")\n",
    "    fig.update_yaxes(title_text=\"Počet\")\n",
    "    fig.show()\n",
    "    \n",
    "    #pio.write_html(fig, file = f\"{project_path}/visualization/new version/V1_Year-Club_{sex}.html\", auto_open=False)\n",
    "\n",
    "        "
   ]
  },
  {
   "cell_type": "markdown",
   "id": "114a9f9f",
   "metadata": {},
   "source": [
    "## 1.2 - Počty závodníků podle roku narození, pohlaví mám navy + red"
   ]
  },
  {
   "cell_type": "code",
   "execution_count": null,
   "id": "1cee565f-99b6-45f1-a37d-18cb3c045caf",
   "metadata": {},
   "outputs": [],
   "source": [
    "years = sorted(df_tot[\"birthyear\"].unique())\n",
    "\n",
    "fig = go.Figure()\n",
    "for sex in [\"W\", \"M\"]:\n",
    "    title_sex = titles[sex]\n",
    "    color = colors[sex]\n",
    "    \n",
    "    df =  pd.DataFrame({'count' : df_tot[df_tot[\"sex\"]==sex].groupby(\n",
    "        ['birthyear', \"club\"] ).size()}).reset_index()\n",
    "    fig.add_trace(go.Bar(x=df[\"birthyear\"], y=df[\"count\"], name=title_sex, marker=dict(color=color)))\n",
    "    \n",
    "fig.update_layout(barmode='stack')  \n",
    "fig.update_layout(width=950, height=700,)\n",
    "fig.update_layout(xaxis = dict(tickvals = years))        \n",
    "\n",
    "fig.update_xaxes(tickangle=270)\n",
    "fig.update_xaxes(title_text=\"Rok narození\")\n",
    "fig.update_yaxes(title_text=\"Počet\")\n",
    "fig.show()\n",
    "\n",
    "#pio.write_html(fig, file = f\"{project_path}/visualization/new version/V1_Year-Club_All.html\", auto_open=False)   \n"
   ]
  },
  {
   "cell_type": "markdown",
   "id": "35de7d76-e8f3-40b1-a231-7bb28f3b88fa",
   "metadata": {},
   "source": [
    "## 1.3 - Počty závodníků podle klubů \n",
    "### chci dropdown na pohlaví, protože nemohu rozpadnout každou barvu na dvě. // nebo nemusím do legendy dávat kluby barevně, a pak ok, navy + red"
   ]
  },
  {
   "cell_type": "code",
   "execution_count": null,
   "id": "54e6f6f3-c206-4905-a9c2-16852a514f6a",
   "metadata": {},
   "outputs": [],
   "source": [
    "for sex in [\"W\", \"M\"]:\n",
    "    title_sex = titles[sex]\n",
    "\n",
    "    df = pd.DataFrame({'count': df_tot[df_tot[\"sex\"]==sex].groupby(\n",
    "        [\"club\"]).size()}).reset_index()\n",
    "    \n",
    "    fig = px.bar(df, x= df[\"club\"],\n",
    "                    y= df[\"count\"], \n",
    "                    color = df[\"club\"] ,\n",
    "                    text_auto='.0f',       \n",
    "                    width=950, height=700,\n",
    "                    labels = {\"club\": \"Klub\"}, \n",
    "                    title = f\"{title_sex} - Kluby podle počtu závodníků\")\n",
    "\n",
    "    fig.update_layout(xaxis = dict(tickvals = df[\"club\"]))\n",
    "    fig.update_layout(xaxis={'categoryorder':'total descending'})   \n",
    "    # trik z grafu od medailí, nemusím pak sortovat na začátku to groupby, funguje i pro víc traces, i na jejich součet\n",
    "\n",
    "    fig.update_xaxes(tickangle=270)\n",
    "    fig.update_xaxes(title_text=\"Klub\")\n",
    "    fig.update_yaxes(title_text=\"Počet\")\n",
    "    fig.show()\n",
    "\n",
    "    #pio.write_html(fig, file = f\"{project_path}/visualization/new version/V2_Club_{sex}.html\", auto_open=False)\n",
    "    "
   ]
  },
  {
   "cell_type": "markdown",
   "id": "4551ff16-9af1-4553-b1b4-9b6908dbf503",
   "metadata": {},
   "source": [
    "## 2.1 - Medaile podle roku narození"
   ]
  },
  {
   "cell_type": "code",
   "execution_count": null,
   "id": "5b1d9c86-785c-450c-b9f6-f1083b79aeed",
   "metadata": {},
   "outputs": [],
   "source": [
    "# lets drop DNFs\n",
    "#df_tot_ranky = df_tot_ranky[df_w_ranky.Final_rank != \"999\"]"
   ]
  },
  {
   "cell_type": "code",
   "execution_count": null,
   "id": "5986f716-e5df-4c6b-ba74-53001f5ee564",
   "metadata": {
    "tags": []
   },
   "outputs": [],
   "source": [
    "df_ranky = df_tot_ranky\n",
    "\n",
    "medals = df_ranky.loc[df_ranky[\"final_rank\"].isin([1, 2, 3]), :]\n",
    "d2 = pd.DataFrame({'count' : medals.groupby(['birthyear', \"final_rank\", \"sex\"]).size()}).reset_index()\n",
    "d2[\"final_rank\"] = d2[\"final_rank\"].astype(str)\n",
    "\n",
    "fig = px.bar(d2, x=d2[\"birthyear\"],\n",
    "                y=d2[\"count\"], \n",
    "                color=d2[\"final_rank\"] + \"-\" + d2[\"sex\"],\n",
    "                color_discrete_map=medal_colors,\n",
    "                text_auto='.0f',      \n",
    "                width=950, height=700,\n",
    "                labels={\"final_rank\": \"Medailové umístění\"},  \n",
    "                category_orders={\"color\": [\"3-M\", \"3-W\", \"2-M\", \"2-W\",\"1-M\",\"1-W\"]},  \n",
    "                title=f\"{title_sex} - Medaile podle roku narození\")\n",
    "\n",
    "fig.update_layout(legend_traceorder=\"reversed\")  \n",
    "fig.update_layout(xaxis=dict(tickvals=d2[\"birthyear\"]))\n",
    "fig.update_xaxes(tickangle=270)\n",
    "fig.update_xaxes(title_text=\"Rok narození\")\n",
    "fig.update_yaxes(title_text=\"Počet medailí\")\n",
    "\n",
    "fig.update_layout(legend=dict(\n",
    "    title=\"Medals\",\n",
    "    orientation=\"v\",\n",
    "    yanchor=\"top\",\n",
    "    y=0.99,\n",
    "    xanchor=\"left\",\n",
    "    x=0.01,\n",
    "    bgcolor=\"rgba(255, 255, 255, 0.6)\"\n",
    "))\n",
    "\n",
    "fig.show()\n",
    "\n",
    "\n",
    "#pio.write_html(fig, file = f\"{project_path}/visualization/new version/V3_Medals-Year.html\", auto_open=False)\n",
    "    "
   ]
  },
  {
   "cell_type": "markdown",
   "id": "0ad19d33-e754-4426-b274-91740a4a3963",
   "metadata": {},
   "source": [
    "## 2.2 - Medaile souhrn podle klubu"
   ]
  },
  {
   "cell_type": "code",
   "execution_count": null,
   "id": "f88b4285-e28b-455d-9e5e-d206a3dc1c87",
   "metadata": {
    "tags": []
   },
   "outputs": [],
   "source": [
    "for sex in [\"W\", \"M\"]:\n",
    "    title_sex = titles[sex]\n",
    "    \n",
    "    df_ranky = df_tot_ranky[df_tot_ranky.sex == sex]\n",
    "    \n",
    "    medals = df_ranky.loc[df_ranky[\"final_rank\"].isin([1,2,3]), :]\n",
    "    d2 = pd.DataFrame({'count' : medals.groupby( ['club', \"final_rank\"] ).size()}).reset_index()\n",
    "    d2[\"final_rank\"] = d2[\"final_rank\"].astype(str)\n",
    "\n",
    "    fig = px.bar(d2,\n",
    "                    x= d2[\"club\"],\n",
    "                    y= d2[\"count\"], \n",
    "                    color = d2[\"final_rank\"] ,\n",
    "                    color_discrete_map={\"1\": \"gold\", \"2\":\"silver\", \"3\":\"goldenrod\"}, \n",
    "                    text_auto='.0f',     \n",
    "                    width=950, height=700,\n",
    "                    labels = {\"final_rank\": \"Medailové umístění\"},  \n",
    "                    category_orders={\"final_rank\": [\"3\",\"2\",\"1\"]},     \n",
    "                    title = f\"{title_sex} - Medaile podle klubů\")\n",
    "\n",
    "    fig.update_layout(xaxis = dict(tickvals = d2[\"club\"]))\n",
    "    fig.update_layout(xaxis={'categoryorder':'total descending'})\n",
    "    # trik, nemusím pak sortovat na začátku to groupby, funguje i pro víc traces, i na jejich součet\n",
    "\n",
    "    fig.update_layout(legend_traceorder=\"reversed\") \n",
    "    fig.update_xaxes(tickangle=270)\n",
    "    fig.update_xaxes(title_text=\"Klub\")\n",
    "    fig.update_yaxes(title_text=\"Počet medailí\")\n",
    "    fig.show()\n",
    "\n",
    "    #pio.write_html(fig, file = f\"{project_path}/visualization/new version/V4_Medals-Club_{sex}.html\", auto_open=False)\n"
   ]
  },
  {
   "cell_type": "code",
   "execution_count": null,
   "id": "fba7f6af-dba4-4ed6-9e59-4ee4471e3415",
   "metadata": {},
   "outputs": [],
   "source": [
    "clubs = sorted(df_ranky[\"club\"].unique())\n",
    "\n",
    "fig = go.Figure()\n",
    "for sex in [\"W\", \"M\"]:\n",
    "    title_sex = titles[sex]\n",
    "    color = colors[sex]\n",
    "    \n",
    "    df =  pd.DataFrame({'count' : df_tot[df_tot[\"sex\"]==sex].groupby(\n",
    "        [\"club\"] ).size()}).reset_index()\n",
    "    fig.add_trace(go.Bar(x=df[\"club\"], y=df[\"count\"], name=title_sex, marker=dict(color=color)))\n",
    "\n",
    "fig.update_layout(barmode='stack')  \n",
    "fig.update_layout( width=950, height=700,)\n",
    "fig.update_layout(xaxis = dict(tickvals = clubs))        \n",
    "fig.update_layout(xaxis={'categoryorder':'total descending'})\n",
    "# trik z grafu od medailí, nemusím pak sortovat na začátku to groupby, funguje i pro víc traces, i na jejich součet\n",
    "\n",
    "fig.update_xaxes(tickangle=270)\n",
    "fig.update_xaxes(title_text=\"Klub\")\n",
    "fig.update_yaxes(title_text=\"Počet\")\n",
    "fig.show()\n",
    "\n",
    "#pio.write_html(fig, file = f\"{project_path}/visualization/new version/V2_Club_All.html\", auto_open=False)   "
   ]
  },
  {
   "cell_type": "code",
   "execution_count": null,
   "id": "0986d0c9-b018-4749-aaed-66f40e21ec01",
   "metadata": {},
   "outputs": [],
   "source": []
  },
  {
   "cell_type": "markdown",
   "id": "98b92572",
   "metadata": {},
   "source": [
    "## 5.4. untested options"
   ]
  },
  {
   "cell_type": "code",
   "execution_count": null,
   "id": "a1158799",
   "metadata": {},
   "outputs": [],
   "source": [
    "import pandas as pd\n",
    "import numpy as np\n",
    "import plotly.express as px\n",
    "\n",
    "# Generate dummy data\n",
    "np.random.seed(0)\n",
    "\n",
    "# Generate dummy data for men\n",
    "data_men = {\n",
    "    'sex': np.repeat('M', 100),\n",
    "    'birthyear': np.random.randint(1970, 2000, 100),\n",
    "    'final_rank': np.random.choice([1, 2, 3, 4, 5], 100, p=[0.5, 0.1, 0.1, 0.15, 0.15])\n",
    "}\n",
    "\n",
    "# Generate dummy data for women\n",
    "data_women = {\n",
    "    'sex': np.repeat('W', 100),\n",
    "    'birthyear': np.random.randint(1970, 2000, 100),\n",
    "    'final_rank': np.random.choice([1, 2, 3, 4, 5], 100, p=[0.1, 0.2, 0.5, 0.15, 0.05])\n",
    "}\n",
    "\n",
    "# Combine data\n",
    "df_men = pd.DataFrame(data_men)\n",
    "df_women = pd.DataFrame(data_women)\n",
    "df_tot_ranky = pd.concat([df_men, df_women])\n",
    "\n",
    "display(df_tot_ranky.tail())\n"
   ]
  },
  {
   "cell_type": "code",
   "execution_count": null,
   "id": "1968340e",
   "metadata": {},
   "outputs": [],
   "source": [
    "df_ranky = df_tot_ranky\n",
    "\n",
    "medals = df_ranky.loc[df_ranky[\"final_rank\"].isin([1, 2, 3]), :]\n",
    "d2 = pd.DataFrame({'count' : medals.groupby(['birthyear', \"final_rank\", \"sex\"]).size()}).reset_index()\n",
    "d2[\"final_rank\"] = d2[\"final_rank\"].astype(str)\n",
    "\n",
    "fig = px.bar(d2, x=d2[\"birthyear\"],\n",
    "                y=d2[\"count\"], \n",
    "                color=d2[\"final_rank\"] + \"-\" + d2[\"sex\"],\n",
    "                color_discrete_map={\n",
    "                    \"1-W\": \"rgba(255, 215, 0, 1)\",  # Gold (Women)\n",
    "                    \"1-M\": \"rgba(255, 215, 0, 0.4)\",  # Gold (Men)\n",
    "                    \"2-W\": \"rgba(192, 192, 192, 1)\",  # Silver (Women)\n",
    "                    \"2-M\": \"rgba(192, 192, 192, 0.4)\",  # Silver (Men)\n",
    "                    \"3-W\": \"rgba(218, 165, 32, 1)\",   # Bronze (Women)\n",
    "                    \"3-M\": \"rgba(218, 165, 32, 0.4)\",  # Bronze (Men)                    \n",
    "                },\n",
    "                text_auto='.0f',      \n",
    "                width=950, height=700,\n",
    "                labels={\"final_rank\": \"Medailové umístění\"},  \n",
    "                category_orders={\"color\": [\"3-M\", \"3-W\", \"2-M\", \"2-W\",\"1-M\",\"1-W\"]},  \n",
    "                title=f\"{title_sex} - Medaile podle roku narození\")\n",
    "\n",
    "fig.update_layout(legend_traceorder=\"reversed\")  \n",
    "fig.update_layout(xaxis=dict(tickvals=d2[\"birthyear\"]))\n",
    "fig.update_xaxes(tickangle=270)\n",
    "fig.update_xaxes(title_text=\"Rok narození\")\n",
    "fig.update_yaxes(title_text=\"Počet medailí\")\n",
    "\n",
    "fig.update_layout(legend=dict(\n",
    "    title=\"Medals\",\n",
    "    orientation=\"v\",\n",
    "    yanchor=\"top\",\n",
    "    y=0.99,\n",
    "    xanchor=\"left\",\n",
    "    x=0.01,\n",
    "    bgcolor=\"rgba(255, 255, 255, 0.6)\"\n",
    "))\n",
    "\n",
    "fig.show()\n"
   ]
  },
  {
   "cell_type": "code",
   "execution_count": null,
   "id": "a5d9bf09",
   "metadata": {},
   "outputs": [],
   "source": []
  }
 ],
 "metadata": {
  "kernelspec": {
   "display_name": "Python 3 (ipykernel)",
   "language": "python",
   "name": "python3"
  },
  "language_info": {
   "codemirror_mode": {
    "name": "ipython",
    "version": 3
   },
   "file_extension": ".py",
   "mimetype": "text/x-python",
   "name": "python",
   "nbconvert_exporter": "python",
   "pygments_lexer": "ipython3",
   "version": "3.11.5"
  }
 },
 "nbformat": 4,
 "nbformat_minor": 5
}
