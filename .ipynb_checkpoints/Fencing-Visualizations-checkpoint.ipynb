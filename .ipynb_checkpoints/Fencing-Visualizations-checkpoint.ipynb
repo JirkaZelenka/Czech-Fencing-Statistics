{
 "cells": [
  {
   "cell_type": "markdown",
   "id": "29010bfe-c5d6-47a5-8424-d8ebb53f1396",
   "metadata": {},
   "source": [
    "# II. VIZUALIZACE \n",
    "## II.1 - STATISTIKY závodníci a kluby obecně"
   ]
  },
  {
   "cell_type": "code",
   "execution_count": 1,
   "id": "07bdc3a9-6f4a-4fc5-8781-0aef055dc465",
   "metadata": {},
   "outputs": [],
   "source": [
    "import pandas as pd\n",
    "import numpy as np\n",
    "from matplotlib import pyplot as plt\n",
    "from matplotlib.pyplot import figure\n",
    "import plotly.express as px\n",
    "import plotly.io as pio\n",
    "import plotly.graph_objects as go\n",
    "\n",
    "def printbold(s):\n",
    "    print(\"\\033[1m\" + s + \"\\033[0m\")"
   ]
  },
  {
   "cell_type": "markdown",
   "id": "2e5da95c-e990-4967-8e7f-67db9007ea68",
   "metadata": {},
   "source": [
    "### Loading - tyto dvě rozdělené použiji později"
   ]
  },
  {
   "cell_type": "code",
   "execution_count": 2,
   "id": "5f6777a9-57eb-412a-93e8-5020b3966821",
   "metadata": {
    "tags": []
   },
   "outputs": [
    {
     "name": "stdout",
     "output_type": "stream",
     "text": [
      "\u001b[1m139\u001b[0m\n"
     ]
    },
    {
     "data": {
      "text/html": [
       "<div>\n",
       "<style scoped>\n",
       "    .dataframe tbody tr th:only-of-type {\n",
       "        vertical-align: middle;\n",
       "    }\n",
       "\n",
       "    .dataframe tbody tr th {\n",
       "        vertical-align: top;\n",
       "    }\n",
       "\n",
       "    .dataframe thead th {\n",
       "        text-align: right;\n",
       "    }\n",
       "</style>\n",
       "<table border=\"1\" class=\"dataframe\">\n",
       "  <thead>\n",
       "    <tr style=\"text-align: right;\">\n",
       "      <th></th>\n",
       "      <th>Name</th>\n",
       "      <th>Club</th>\n",
       "      <th>Country</th>\n",
       "      <th>Sex</th>\n",
       "      <th>Birthdate</th>\n",
       "      <th>Year</th>\n",
       "    </tr>\n",
       "  </thead>\n",
       "  <tbody>\n",
       "    <tr>\n",
       "      <th>0</th>\n",
       "      <td>ADAMCOVÁ Anita</td>\n",
       "      <td>TJ LOKO K.VARY</td>\n",
       "      <td>CZE</td>\n",
       "      <td>W</td>\n",
       "      <td>2006-01-22</td>\n",
       "      <td>2006</td>\n",
       "    </tr>\n",
       "    <tr>\n",
       "      <th>1</th>\n",
       "      <td>AIGERMANOVÁ Gabriela</td>\n",
       "      <td>TJ LOKO TEPLICE</td>\n",
       "      <td>CZE</td>\n",
       "      <td>W</td>\n",
       "      <td>2002-06-07</td>\n",
       "      <td>2002</td>\n",
       "    </tr>\n",
       "  </tbody>\n",
       "</table>\n",
       "</div>"
      ],
      "text/plain": [
       "                   Name             Club Country Sex  Birthdate  Year\n",
       "0        ADAMCOVÁ Anita   TJ LOKO K.VARY     CZE   W 2006-01-22  2006\n",
       "1  AIGERMANOVÁ Gabriela  TJ LOKO TEPLICE     CZE   W 2002-06-07  2002"
      ]
     },
     "metadata": {},
     "output_type": "display_data"
    },
    {
     "data": {
      "text/html": [
       "<div>\n",
       "<style scoped>\n",
       "    .dataframe tbody tr th:only-of-type {\n",
       "        vertical-align: middle;\n",
       "    }\n",
       "\n",
       "    .dataframe tbody tr th {\n",
       "        vertical-align: top;\n",
       "    }\n",
       "\n",
       "    .dataframe thead th {\n",
       "        text-align: right;\n",
       "    }\n",
       "</style>\n",
       "<table border=\"1\" class=\"dataframe\">\n",
       "  <thead>\n",
       "    <tr style=\"text-align: right;\">\n",
       "      <th></th>\n",
       "      <th>Name</th>\n",
       "      <th>Club</th>\n",
       "      <th>Country</th>\n",
       "      <th>Sex</th>\n",
       "      <th>Birthdate</th>\n",
       "      <th>Year</th>\n",
       "    </tr>\n",
       "  </thead>\n",
       "  <tbody>\n",
       "    <tr>\n",
       "      <th>137</th>\n",
       "      <td>ŽOLNOVÁ Karolína</td>\n",
       "      <td>DUKLA OLOMOUC</td>\n",
       "      <td>CZE</td>\n",
       "      <td>W</td>\n",
       "      <td>1995-10-23</td>\n",
       "      <td>1995</td>\n",
       "    </tr>\n",
       "    <tr>\n",
       "      <th>138</th>\n",
       "      <td>ŽÁDNÍKOVÁ Daniela</td>\n",
       "      <td>DUKLA OLOMOUC</td>\n",
       "      <td>CZE</td>\n",
       "      <td>W</td>\n",
       "      <td>1984-07-31</td>\n",
       "      <td>1984</td>\n",
       "    </tr>\n",
       "  </tbody>\n",
       "</table>\n",
       "</div>"
      ],
      "text/plain": [
       "                  Name           Club Country Sex  Birthdate  Year\n",
       "137   ŽOLNOVÁ Karolína  DUKLA OLOMOUC     CZE   W 1995-10-23  1995\n",
       "138  ŽÁDNÍKOVÁ Daniela  DUKLA OLOMOUC     CZE   W 1984-07-31  1984"
      ]
     },
     "metadata": {},
     "output_type": "display_data"
    },
    {
     "name": "stdout",
     "output_type": "stream",
     "text": [
      "\u001b[1m195\u001b[0m\n"
     ]
    },
    {
     "data": {
      "text/html": [
       "<div>\n",
       "<style scoped>\n",
       "    .dataframe tbody tr th:only-of-type {\n",
       "        vertical-align: middle;\n",
       "    }\n",
       "\n",
       "    .dataframe tbody tr th {\n",
       "        vertical-align: top;\n",
       "    }\n",
       "\n",
       "    .dataframe thead th {\n",
       "        text-align: right;\n",
       "    }\n",
       "</style>\n",
       "<table border=\"1\" class=\"dataframe\">\n",
       "  <thead>\n",
       "    <tr style=\"text-align: right;\">\n",
       "      <th></th>\n",
       "      <th>Name</th>\n",
       "      <th>Club</th>\n",
       "      <th>Country</th>\n",
       "      <th>Sex</th>\n",
       "      <th>Birthdate</th>\n",
       "      <th>Year</th>\n",
       "    </tr>\n",
       "  </thead>\n",
       "  <tbody>\n",
       "    <tr>\n",
       "      <th>0</th>\n",
       "      <td>ADAM Ondřej</td>\n",
       "      <td>VUT BRNO</td>\n",
       "      <td>CZE</td>\n",
       "      <td>M</td>\n",
       "      <td>1993-08-26</td>\n",
       "      <td>1993</td>\n",
       "    </tr>\n",
       "    <tr>\n",
       "      <th>1</th>\n",
       "      <td>ADDO DJAN Theodor Ezekiel</td>\n",
       "      <td>SOKOL DEJVICE</td>\n",
       "      <td>CZE</td>\n",
       "      <td>M</td>\n",
       "      <td>2006-11-06</td>\n",
       "      <td>2006</td>\n",
       "    </tr>\n",
       "  </tbody>\n",
       "</table>\n",
       "</div>"
      ],
      "text/plain": [
       "                        Name           Club Country Sex  Birthdate  Year\n",
       "0                ADAM Ondřej       VUT BRNO     CZE   M 1993-08-26  1993\n",
       "1  ADDO DJAN Theodor Ezekiel  SOKOL DEJVICE     CZE   M 2006-11-06  2006"
      ]
     },
     "metadata": {},
     "output_type": "display_data"
    },
    {
     "data": {
      "text/html": [
       "<div>\n",
       "<style scoped>\n",
       "    .dataframe tbody tr th:only-of-type {\n",
       "        vertical-align: middle;\n",
       "    }\n",
       "\n",
       "    .dataframe tbody tr th {\n",
       "        vertical-align: top;\n",
       "    }\n",
       "\n",
       "    .dataframe thead th {\n",
       "        text-align: right;\n",
       "    }\n",
       "</style>\n",
       "<table border=\"1\" class=\"dataframe\">\n",
       "  <thead>\n",
       "    <tr style=\"text-align: right;\">\n",
       "      <th></th>\n",
       "      <th>Name</th>\n",
       "      <th>Club</th>\n",
       "      <th>Country</th>\n",
       "      <th>Sex</th>\n",
       "      <th>Birthdate</th>\n",
       "      <th>Year</th>\n",
       "    </tr>\n",
       "  </thead>\n",
       "  <tbody>\n",
       "    <tr>\n",
       "      <th>193</th>\n",
       "      <td>ZELENKA Jiří</td>\n",
       "      <td>VSK HUMANITA</td>\n",
       "      <td>CZE</td>\n",
       "      <td>M</td>\n",
       "      <td>1993-06-04</td>\n",
       "      <td>1993</td>\n",
       "    </tr>\n",
       "    <tr>\n",
       "      <th>194</th>\n",
       "      <td>ZHÁŇAL Petr</td>\n",
       "      <td>TJ DUKLA PRAHA</td>\n",
       "      <td>CZE</td>\n",
       "      <td>M</td>\n",
       "      <td>2002-05-17</td>\n",
       "      <td>2002</td>\n",
       "    </tr>\n",
       "  </tbody>\n",
       "</table>\n",
       "</div>"
      ],
      "text/plain": [
       "             Name            Club Country Sex  Birthdate  Year\n",
       "193  ZELENKA Jiří    VSK HUMANITA     CZE   M 1993-06-04  1993\n",
       "194   ZHÁŇAL Petr  TJ DUKLA PRAHA     CZE   M 2002-05-17  2002"
      ]
     },
     "metadata": {},
     "output_type": "display_data"
    }
   ],
   "source": [
    "df_w = pd.read_excel(f\"C:/Users/jzelenka/Documents/python_j/fencing/1_zavodnici_W.xlsx\")\n",
    "printbold(str(len(df_w)))\n",
    "display(df_w.head(2))\n",
    "display(df_w.tail(2))\n",
    "\n",
    "df_m = pd.read_excel(f\"C:/Users/jzelenka/Documents/python_j/fencing/1_zavodnici_M.xlsx\")\n",
    "printbold(str(len(df_m)))\n",
    "display(df_m.head(2))\n",
    "display(df_m.tail(2))"
   ]
  },
  {
   "cell_type": "markdown",
   "id": "5e8b25bb-ab10-4416-a0ad-f2d9f361c34d",
   "metadata": {},
   "source": [
    "### Zde jeden hlavní dataset, co si zvolím"
   ]
  },
  {
   "cell_type": "code",
   "execution_count": 3,
   "id": "2f6f9821-a4d0-42a5-a3b8-dd99796ecc44",
   "metadata": {},
   "outputs": [],
   "source": [
    "SEX = \"W\""
   ]
  },
  {
   "cell_type": "code",
   "execution_count": 32,
   "id": "43a1736a-5e71-4fbf-8bea-17a0369efec5",
   "metadata": {},
   "outputs": [
    {
     "name": "stdout",
     "output_type": "stream",
     "text": [
      "\u001b[1m139\u001b[0m\n"
     ]
    },
    {
     "data": {
      "text/html": [
       "<div>\n",
       "<style scoped>\n",
       "    .dataframe tbody tr th:only-of-type {\n",
       "        vertical-align: middle;\n",
       "    }\n",
       "\n",
       "    .dataframe tbody tr th {\n",
       "        vertical-align: top;\n",
       "    }\n",
       "\n",
       "    .dataframe thead th {\n",
       "        text-align: right;\n",
       "    }\n",
       "</style>\n",
       "<table border=\"1\" class=\"dataframe\">\n",
       "  <thead>\n",
       "    <tr style=\"text-align: right;\">\n",
       "      <th></th>\n",
       "      <th>Name</th>\n",
       "      <th>Club</th>\n",
       "      <th>Country</th>\n",
       "      <th>Sex</th>\n",
       "      <th>Birthdate</th>\n",
       "      <th>Year</th>\n",
       "    </tr>\n",
       "  </thead>\n",
       "  <tbody>\n",
       "    <tr>\n",
       "      <th>0</th>\n",
       "      <td>ADAMCOVÁ Anita</td>\n",
       "      <td>TJ LOKO K.VARY</td>\n",
       "      <td>CZE</td>\n",
       "      <td>W</td>\n",
       "      <td>2006-01-22</td>\n",
       "      <td>2006</td>\n",
       "    </tr>\n",
       "    <tr>\n",
       "      <th>1</th>\n",
       "      <td>AIGERMANOVÁ Gabriela</td>\n",
       "      <td>TJ LOKO TEPLICE</td>\n",
       "      <td>CZE</td>\n",
       "      <td>W</td>\n",
       "      <td>2002-06-07</td>\n",
       "      <td>2002</td>\n",
       "    </tr>\n",
       "  </tbody>\n",
       "</table>\n",
       "</div>"
      ],
      "text/plain": [
       "                   Name             Club Country Sex  Birthdate  Year\n",
       "0        ADAMCOVÁ Anita   TJ LOKO K.VARY     CZE   W 2006-01-22  2006\n",
       "1  AIGERMANOVÁ Gabriela  TJ LOKO TEPLICE     CZE   W 2002-06-07  2002"
      ]
     },
     "metadata": {},
     "output_type": "display_data"
    },
    {
     "data": {
      "text/html": [
       "<div>\n",
       "<style scoped>\n",
       "    .dataframe tbody tr th:only-of-type {\n",
       "        vertical-align: middle;\n",
       "    }\n",
       "\n",
       "    .dataframe tbody tr th {\n",
       "        vertical-align: top;\n",
       "    }\n",
       "\n",
       "    .dataframe thead th {\n",
       "        text-align: right;\n",
       "    }\n",
       "</style>\n",
       "<table border=\"1\" class=\"dataframe\">\n",
       "  <thead>\n",
       "    <tr style=\"text-align: right;\">\n",
       "      <th></th>\n",
       "      <th>Name</th>\n",
       "      <th>Club</th>\n",
       "      <th>Country</th>\n",
       "      <th>Sex</th>\n",
       "      <th>Birthdate</th>\n",
       "      <th>Year</th>\n",
       "    </tr>\n",
       "  </thead>\n",
       "  <tbody>\n",
       "    <tr>\n",
       "      <th>137</th>\n",
       "      <td>ŽOLNOVÁ Karolína</td>\n",
       "      <td>DUKLA OLOMOUC</td>\n",
       "      <td>CZE</td>\n",
       "      <td>W</td>\n",
       "      <td>1995-10-23</td>\n",
       "      <td>1995</td>\n",
       "    </tr>\n",
       "    <tr>\n",
       "      <th>138</th>\n",
       "      <td>ŽÁDNÍKOVÁ Daniela</td>\n",
       "      <td>DUKLA OLOMOUC</td>\n",
       "      <td>CZE</td>\n",
       "      <td>W</td>\n",
       "      <td>1984-07-31</td>\n",
       "      <td>1984</td>\n",
       "    </tr>\n",
       "  </tbody>\n",
       "</table>\n",
       "</div>"
      ],
      "text/plain": [
       "                  Name           Club Country Sex  Birthdate  Year\n",
       "137   ŽOLNOVÁ Karolína  DUKLA OLOMOUC     CZE   W 1995-10-23  1995\n",
       "138  ŽÁDNÍKOVÁ Daniela  DUKLA OLOMOUC     CZE   W 1984-07-31  1984"
      ]
     },
     "metadata": {},
     "output_type": "display_data"
    }
   ],
   "source": [
    "df = pd.read_excel(f\"C:/Users/jzelenka/Documents/python_j/fencing/1_zavodnici_{SEX}.xlsx\")\n",
    "printbold(str(len(df)))\n",
    "display(df.head(2))\n",
    "display(df.tail(2))"
   ]
  },
  {
   "cell_type": "code",
   "execution_count": 5,
   "id": "8632ca69-16f6-4374-9eda-cb0d8266fa36",
   "metadata": {
    "collapsed": true,
    "jupyter": {
     "outputs_hidden": true
    },
    "tags": []
   },
   "outputs": [
    {
     "data": {
      "text/html": [
       "<div>\n",
       "<style scoped>\n",
       "    .dataframe tbody tr th:only-of-type {\n",
       "        vertical-align: middle;\n",
       "    }\n",
       "\n",
       "    .dataframe tbody tr th {\n",
       "        vertical-align: top;\n",
       "    }\n",
       "\n",
       "    .dataframe thead th {\n",
       "        text-align: right;\n",
       "    }\n",
       "</style>\n",
       "<table border=\"1\" class=\"dataframe\">\n",
       "  <thead>\n",
       "    <tr style=\"text-align: right;\">\n",
       "      <th></th>\n",
       "      <th>Name</th>\n",
       "      <th>Club</th>\n",
       "      <th>Country</th>\n",
       "      <th>Sex</th>\n",
       "      <th>Birthdate</th>\n",
       "      <th>Year</th>\n",
       "    </tr>\n",
       "  </thead>\n",
       "  <tbody>\n",
       "    <tr>\n",
       "      <th>3</th>\n",
       "      <td>BARTOŠKOVÁ Adéla</td>\n",
       "      <td>SC PRAHA</td>\n",
       "      <td>CZE</td>\n",
       "      <td>W</td>\n",
       "      <td>2009-11-26</td>\n",
       "      <td>2009</td>\n",
       "    </tr>\n",
       "    <tr>\n",
       "      <th>9</th>\n",
       "      <td>CEJNAROVÁ Barbora</td>\n",
       "      <td>SC PRAHA</td>\n",
       "      <td>CZE</td>\n",
       "      <td>W</td>\n",
       "      <td>2007-04-22</td>\n",
       "      <td>2007</td>\n",
       "    </tr>\n",
       "    <tr>\n",
       "      <th>18</th>\n",
       "      <td>FORMANOVÁ Elizabeth</td>\n",
       "      <td>TJ LOKO K.VARY</td>\n",
       "      <td>CZE</td>\n",
       "      <td>W</td>\n",
       "      <td>2008-05-21</td>\n",
       "      <td>2008</td>\n",
       "    </tr>\n",
       "    <tr>\n",
       "      <th>40</th>\n",
       "      <td>JURKOVÁ Hana</td>\n",
       "      <td>DUKLA OLOMOUC</td>\n",
       "      <td>CZE</td>\n",
       "      <td>W</td>\n",
       "      <td>2009-07-20</td>\n",
       "      <td>2009</td>\n",
       "    </tr>\n",
       "    <tr>\n",
       "      <th>42</th>\n",
       "      <td>KAHABKOVÁ Eliška</td>\n",
       "      <td>SC PRAHA</td>\n",
       "      <td>CZE</td>\n",
       "      <td>W</td>\n",
       "      <td>2008-03-13</td>\n",
       "      <td>2008</td>\n",
       "    </tr>\n",
       "    <tr>\n",
       "      <th>43</th>\n",
       "      <td>KINCLOVÁ Emma</td>\n",
       "      <td>SC PRAHA</td>\n",
       "      <td>CZE</td>\n",
       "      <td>W</td>\n",
       "      <td>2008-05-19</td>\n",
       "      <td>2008</td>\n",
       "    </tr>\n",
       "    <tr>\n",
       "      <th>52</th>\n",
       "      <td>KÜHNOVÁ Karolína</td>\n",
       "      <td>SLAVOJ LITOMĚŘICE</td>\n",
       "      <td>CZE</td>\n",
       "      <td>W</td>\n",
       "      <td>2007-08-13</td>\n",
       "      <td>2007</td>\n",
       "    </tr>\n",
       "    <tr>\n",
       "      <th>57</th>\n",
       "      <td>LANDGRAFOVÁ Veronika</td>\n",
       "      <td>TJ LOKO TEPLICE</td>\n",
       "      <td>CZE</td>\n",
       "      <td>W</td>\n",
       "      <td>2008-08-02</td>\n",
       "      <td>2008</td>\n",
       "    </tr>\n",
       "    <tr>\n",
       "      <th>66</th>\n",
       "      <td>MIKLENDOVÁ Valérie</td>\n",
       "      <td>DUKLA OLOMOUC</td>\n",
       "      <td>CZE</td>\n",
       "      <td>W</td>\n",
       "      <td>2007-05-01</td>\n",
       "      <td>2007</td>\n",
       "    </tr>\n",
       "    <tr>\n",
       "      <th>87</th>\n",
       "      <td>RAKOUŠOVÁ Karolína</td>\n",
       "      <td>SC PRAHA</td>\n",
       "      <td>CZE</td>\n",
       "      <td>W</td>\n",
       "      <td>2007-07-01</td>\n",
       "      <td>2007</td>\n",
       "    </tr>\n",
       "    <tr>\n",
       "      <th>88</th>\n",
       "      <td>ROHANOVÁ Anna</td>\n",
       "      <td>TJ LOKO PLZEN</td>\n",
       "      <td>CZE</td>\n",
       "      <td>W</td>\n",
       "      <td>2008-11-17</td>\n",
       "      <td>2008</td>\n",
       "    </tr>\n",
       "    <tr>\n",
       "      <th>90</th>\n",
       "      <td>ROVENSKÁ Emma</td>\n",
       "      <td>SC PRAHA</td>\n",
       "      <td>CZE</td>\n",
       "      <td>W</td>\n",
       "      <td>2007-08-10</td>\n",
       "      <td>2007</td>\n",
       "    </tr>\n",
       "    <tr>\n",
       "      <th>105</th>\n",
       "      <td>TODORYSHYNA Viktoriia</td>\n",
       "      <td>TJ SOKOL PÍSEK</td>\n",
       "      <td>UKR</td>\n",
       "      <td>W</td>\n",
       "      <td>2007-03-25</td>\n",
       "      <td>2007</td>\n",
       "    </tr>\n",
       "    <tr>\n",
       "      <th>109</th>\n",
       "      <td>TVARŮŽKOVÁ Karolína</td>\n",
       "      <td>TJ LOKO K.VARY</td>\n",
       "      <td>CZE</td>\n",
       "      <td>W</td>\n",
       "      <td>2007-06-10</td>\n",
       "      <td>2007</td>\n",
       "    </tr>\n",
       "    <tr>\n",
       "      <th>115</th>\n",
       "      <td>VALENTOVÁ Amálie</td>\n",
       "      <td>SC PRAHA</td>\n",
       "      <td>CZE</td>\n",
       "      <td>W</td>\n",
       "      <td>2007-08-23</td>\n",
       "      <td>2007</td>\n",
       "    </tr>\n",
       "    <tr>\n",
       "      <th>121</th>\n",
       "      <td>VYSLOUŽILOVÁ Vanda</td>\n",
       "      <td>SC PRAHA</td>\n",
       "      <td>CZE</td>\n",
       "      <td>W</td>\n",
       "      <td>2007-01-13</td>\n",
       "      <td>2007</td>\n",
       "    </tr>\n",
       "    <tr>\n",
       "      <th>127</th>\n",
       "      <td>ZÁVITKOVSKÁ Zuzana</td>\n",
       "      <td>SC PRAHA</td>\n",
       "      <td>CZE</td>\n",
       "      <td>W</td>\n",
       "      <td>2008-01-25</td>\n",
       "      <td>2008</td>\n",
       "    </tr>\n",
       "  </tbody>\n",
       "</table>\n",
       "</div>"
      ],
      "text/plain": [
       "                      Name               Club Country Sex  Birthdate  Year\n",
       "3         BARTOŠKOVÁ Adéla           SC PRAHA     CZE   W 2009-11-26  2009\n",
       "9        CEJNAROVÁ Barbora           SC PRAHA     CZE   W 2007-04-22  2007\n",
       "18     FORMANOVÁ Elizabeth     TJ LOKO K.VARY     CZE   W 2008-05-21  2008\n",
       "40            JURKOVÁ Hana      DUKLA OLOMOUC     CZE   W 2009-07-20  2009\n",
       "42        KAHABKOVÁ Eliška           SC PRAHA     CZE   W 2008-03-13  2008\n",
       "43           KINCLOVÁ Emma           SC PRAHA     CZE   W 2008-05-19  2008\n",
       "52        KÜHNOVÁ Karolína  SLAVOJ LITOMĚŘICE     CZE   W 2007-08-13  2007\n",
       "57    LANDGRAFOVÁ Veronika    TJ LOKO TEPLICE     CZE   W 2008-08-02  2008\n",
       "66      MIKLENDOVÁ Valérie      DUKLA OLOMOUC     CZE   W 2007-05-01  2007\n",
       "87      RAKOUŠOVÁ Karolína           SC PRAHA     CZE   W 2007-07-01  2007\n",
       "88           ROHANOVÁ Anna      TJ LOKO PLZEN     CZE   W 2008-11-17  2008\n",
       "90           ROVENSKÁ Emma           SC PRAHA     CZE   W 2007-08-10  2007\n",
       "105  TODORYSHYNA Viktoriia     TJ SOKOL PÍSEK     UKR   W 2007-03-25  2007\n",
       "109    TVARŮŽKOVÁ Karolína     TJ LOKO K.VARY     CZE   W 2007-06-10  2007\n",
       "115       VALENTOVÁ Amálie           SC PRAHA     CZE   W 2007-08-23  2007\n",
       "121     VYSLOUŽILOVÁ Vanda           SC PRAHA     CZE   W 2007-01-13  2007\n",
       "127     ZÁVITKOVSKÁ Zuzana           SC PRAHA     CZE   W 2008-01-25  2008"
      ]
     },
     "execution_count": 5,
     "metadata": {},
     "output_type": "execute_result"
    }
   ],
   "source": [
    "df[df.Year > 2006]  # ti nejmladší - potenciální chyba v datu narození"
   ]
  },
  {
   "cell_type": "markdown",
   "id": "c374f523-2a11-44ca-84aa-de7041443821",
   "metadata": {},
   "source": [
    "## II.1.1 - Počty závodníků podle roku narození"
   ]
  },
  {
   "cell_type": "code",
   "execution_count": 33,
   "id": "83c369be-3656-4785-afac-89f26e30991b",
   "metadata": {},
   "outputs": [
    {
     "data": {
      "image/png": "[encoded data removed]",
      "text/plain": [
       "<Figure size 1000x400 with 1 Axes>"
      ]
     },
     "metadata": {
      "needs_background": "light"
     },
     "output_type": "display_data"
    }
   ],
   "source": [
    "#plt.style.use('ggplot')\n",
    "#plt.hist(df[\"Year\"])\n",
    "\n",
    "figure(figsize=(10, 4), dpi=100)\n",
    "\n",
    "years = sorted(df[\"Year\"].unique())\n",
    "counts = df.groupby('Year')['Year'].count()\n",
    "plt.xticks(years, rotation='vertical')\n",
    "plt.bar(years, counts, width=0.8)  # šířka sloupečku\n",
    "\n",
    "plt.show()"
   ]
  },
  {
   "cell_type": "code",
   "execution_count": 42,
   "id": "55bca897-db30-4136-8bae-3817fd7fb189",
   "metadata": {},
   "outputs": [
    {
     "data": {
      "application/vnd.plotly.v1+json": {
       "config": {
        "plotlyServerURL": "https://plot.ly"
       },
       "data": [
        {
         "alignmentgroup": "True",
         "hovertemplate": "Club=BOHEMIANS<br>Year=%{x}<br>count=%{y}<extra></extra>",
         "legendgroup": "BOHEMIANS",
         "marker": {
          "color": "#636efa",
          "pattern": {
           "shape": ""
          }
         },
         "name": "BOHEMIANS",
         "offsetgroup": "BOHEMIANS",
         "orientation": "v",
         "showlegend": true,
         "textposition": "auto",
         "type": "bar",
         "x": [
          1972,
          1991
         ],
         "xaxis": "x",
         "y": [
          1,
          1
         ],
         "yaxis": "y"
        },
        {
         "alignmentgroup": "True",
         "hovertemplate": "Club=SS UH.HRADISTE<br>Year=%{x}<br>count=%{y}<extra></extra>",
         "legendgroup": "SS UH.HRADISTE",
         "marker": {
          "color": "#EF553B",
          "pattern": {
           "shape": ""
          }
         },
         "name": "SS UH.HRADISTE",
         "offsetgroup": "SS UH.HRADISTE",
         "orientation": "v",
         "showlegend": true,
         "textposition": "auto",
         "type": "bar",
         "x": [
          1973
         ],
         "xaxis": "x",
         "y": [
          1
         ],
         "yaxis": "y"
        },
        {
         "alignmentgroup": "True",
         "hovertemplate": "Club=USK PRAHA<br>Year=%{x}<br>count=%{y}<extra></extra>",
         "legendgroup": "USK PRAHA",
         "marker": {
          "color": "#00cc96",
          "pattern": {
           "shape": ""
          }
         },
         "name": "USK PRAHA",
         "offsetgroup": "USK PRAHA",
         "orientation": "v",
         "showlegend": true,
         "textposition": "auto",
         "type": "bar",
         "x": [
          1975,
          1989,
          1997,
          1999,
          2005,
          2006
         ],
         "xaxis": "x",
         "y": [
          1,
          1,
          1,
          2,
          1,
          1
         ],
         "yaxis": "y"
        },
        {
         "alignmentgroup": "True",
         "hovertemplate": "Club=SC PRAHA<br>Year=%{x}<br>count=%{y}<extra></extra>",
         "legendgroup": "SC PRAHA",
         "marker": {
          "color": "#ab63fa",
          "pattern": {
           "shape": ""
          }
         },
         "name": "SC PRAHA",
         "offsetgroup": "SC PRAHA",
         "orientation": "v",
         "showlegend": true,
         "textposition": "auto",
         "type": "bar",
         "x": [
          1978,
          1990,
          1995,
          1998,
          1999,
          2001,
          2002,
          2003,
          2004,
          2005,
          2006,
          2007,
          2008,
          2009
         ],
         "xaxis": "x",
         "y": [
          1,
          1,
          2,
          1,
          2,
          2,
          3,
          2,
          1,
          1,
          2,
          5,
          3,
          1
         ],
         "yaxis": "y"
        },
        {
         "alignmentgroup": "True",
         "hovertemplate": "Club=TJ SOKOL PÍSEK<br>Year=%{x}<br>count=%{y}<extra></extra>",
         "legendgroup": "TJ SOKOL PÍSEK",
         "marker": {
          "color": "#FFA15A",
          "pattern": {
           "shape": ""
          }
         },
         "name": "TJ SOKOL PÍSEK",
         "offsetgroup": "TJ SOKOL PÍSEK",
         "orientation": "v",
         "showlegend": true,
         "textposition": "auto",
         "type": "bar",
         "x": [
          1978,
          2007
         ],
         "xaxis": "x",
         "y": [
          1,
          1
         ],
         "yaxis": "y"
        },
        {
         "alignmentgroup": "True",
         "hovertemplate": "Club=DUKLA OLOMOUC<br>Year=%{x}<br>count=%{y}<extra></extra>",
         "legendgroup": "DUKLA OLOMOUC",
         "marker": {
          "color": "#19d3f3",
          "pattern": {
           "shape": ""
          }
         },
         "name": "DUKLA OLOMOUC",
         "offsetgroup": "DUKLA OLOMOUC",
         "orientation": "v",
         "showlegend": true,
         "textposition": "auto",
         "type": "bar",
         "x": [
          1980,
          1984,
          1991,
          1995,
          1999,
          2000,
          2002,
          2005,
          2007,
          2009
         ],
         "xaxis": "x",
         "y": [
          1,
          2,
          1,
          1,
          2,
          4,
          1,
          1,
          1,
          1
         ],
         "yaxis": "y"
        },
        {
         "alignmentgroup": "True",
         "hovertemplate": "Club=TJ LOKO PLZEN<br>Year=%{x}<br>count=%{y}<extra></extra>",
         "legendgroup": "TJ LOKO PLZEN",
         "marker": {
          "color": "#FF6692",
          "pattern": {
           "shape": ""
          }
         },
         "name": "TJ LOKO PLZEN",
         "offsetgroup": "TJ LOKO PLZEN",
         "orientation": "v",
         "showlegend": true,
         "textposition": "auto",
         "type": "bar",
         "x": [
          1988,
          1991,
          1995,
          1996,
          1998,
          2000,
          2002,
          2008
         ],
         "xaxis": "x",
         "y": [
          1,
          1,
          1,
          1,
          1,
          1,
          1,
          1
         ],
         "yaxis": "y"
        },
        {
         "alignmentgroup": "True",
         "hovertemplate": "Club=RIEGEL PRAHA<br>Year=%{x}<br>count=%{y}<extra></extra>",
         "legendgroup": "RIEGEL PRAHA",
         "marker": {
          "color": "#B6E880",
          "pattern": {
           "shape": ""
          }
         },
         "name": "RIEGEL PRAHA",
         "offsetgroup": "RIEGEL PRAHA",
         "orientation": "v",
         "showlegend": true,
         "textposition": "auto",
         "type": "bar",
         "x": [
          1989
         ],
         "xaxis": "x",
         "y": [
          1
         ],
         "yaxis": "y"
        },
        {
         "alignmentgroup": "True",
         "hovertemplate": "Club=TJ DUKLA PRAHA<br>Year=%{x}<br>count=%{y}<extra></extra>",
         "legendgroup": "TJ DUKLA PRAHA",
         "marker": {
          "color": "#FF97FF",
          "pattern": {
           "shape": ""
          }
         },
         "name": "TJ DUKLA PRAHA",
         "offsetgroup": "TJ DUKLA PRAHA",
         "orientation": "v",
         "showlegend": true,
         "textposition": "auto",
         "type": "bar",
         "x": [
          1990,
          1994,
          1995,
          1996,
          1997,
          1999,
          2000,
          2001,
          2002,
          2004,
          2005
         ],
         "xaxis": "x",
         "y": [
          1,
          2,
          1,
          1,
          1,
          2,
          1,
          2,
          2,
          2,
          2
         ],
         "yaxis": "y"
        },
        {
         "alignmentgroup": "True",
         "hovertemplate": "Club=ASBVA<br>Year=%{x}<br>count=%{y}<extra></extra>",
         "legendgroup": "ASBVA",
         "marker": {
          "color": "#FECB52",
          "pattern": {
           "shape": ""
          }
         },
         "name": "ASBVA",
         "offsetgroup": "ASBVA",
         "orientation": "v",
         "showlegend": true,
         "textposition": "auto",
         "type": "bar",
         "x": [
          1991
         ],
         "xaxis": "x",
         "y": [
          1
         ],
         "yaxis": "y"
        },
        {
         "alignmentgroup": "True",
         "hovertemplate": "Club=TJ LOKO K.VARY<br>Year=%{x}<br>count=%{y}<extra></extra>",
         "legendgroup": "TJ LOKO K.VARY",
         "marker": {
          "color": "#636efa",
          "pattern": {
           "shape": ""
          }
         },
         "name": "TJ LOKO K.VARY",
         "offsetgroup": "TJ LOKO K.VARY",
         "orientation": "v",
         "showlegend": true,
         "textposition": "auto",
         "type": "bar",
         "x": [
          1991,
          2003,
          2006,
          2007,
          2008
         ],
         "xaxis": "x",
         "y": [
          1,
          1,
          1,
          1,
          1
         ],
         "yaxis": "y"
        },
        {
         "alignmentgroup": "True",
         "hovertemplate": "Club=VENEZUELA<br>Year=%{x}<br>count=%{y}<extra></extra>",
         "legendgroup": "VENEZUELA",
         "marker": {
          "color": "#EF553B",
          "pattern": {
           "shape": ""
          }
         },
         "name": "VENEZUELA",
         "offsetgroup": "VENEZUELA",
         "orientation": "v",
         "showlegend": true,
         "textposition": "auto",
         "type": "bar",
         "x": [
          1991,
          1999
         ],
         "xaxis": "x",
         "y": [
          1,
          3
         ],
         "yaxis": "y"
        },
        {
         "alignmentgroup": "True",
         "hovertemplate": "Club=VSK HUMANITA<br>Year=%{x}<br>count=%{y}<extra></extra>",
         "legendgroup": "VSK HUMANITA",
         "marker": {
          "color": "#00cc96",
          "pattern": {
           "shape": ""
          }
         },
         "name": "VSK HUMANITA",
         "offsetgroup": "VSK HUMANITA",
         "orientation": "v",
         "showlegend": true,
         "textposition": "auto",
         "type": "bar",
         "x": [
          1991,
          1992,
          1993,
          1995,
          1997,
          1998,
          1999
         ],
         "xaxis": "x",
         "y": [
          1,
          1,
          1,
          1,
          2,
          3,
          1
         ],
         "yaxis": "y"
        },
        {
         "alignmentgroup": "True",
         "hovertemplate": "Club=OREL HR.KR.<br>Year=%{x}<br>count=%{y}<extra></extra>",
         "legendgroup": "OREL HR.KR.",
         "marker": {
          "color": "#ab63fa",
          "pattern": {
           "shape": ""
          }
         },
         "name": "OREL HR.KR.",
         "offsetgroup": "OREL HR.KR.",
         "orientation": "v",
         "showlegend": true,
         "textposition": "auto",
         "type": "bar",
         "x": [
          1996
         ],
         "xaxis": "x",
         "y": [
          1
         ],
         "yaxis": "y"
        },
        {
         "alignmentgroup": "True",
         "hovertemplate": "Club=SČ USTI NAD LABEM<br>Year=%{x}<br>count=%{y}<extra></extra>",
         "legendgroup": "SČ USTI NAD LABEM",
         "marker": {
          "color": "#FFA15A",
          "pattern": {
           "shape": ""
          }
         },
         "name": "SČ USTI NAD LABEM",
         "offsetgroup": "SČ USTI NAD LABEM",
         "orientation": "v",
         "showlegend": true,
         "textposition": "auto",
         "type": "bar",
         "x": [
          1997,
          1999,
          2002,
          2006
         ],
         "xaxis": "x",
         "y": [
          1,
          1,
          1,
          2
         ],
         "yaxis": "y"
        },
        {
         "alignmentgroup": "True",
         "hovertemplate": "Club=UKRAJINA<br>Year=%{x}<br>count=%{y}<extra></extra>",
         "legendgroup": "UKRAJINA",
         "marker": {
          "color": "#19d3f3",
          "pattern": {
           "shape": ""
          }
         },
         "name": "UKRAJINA",
         "offsetgroup": "UKRAJINA",
         "orientation": "v",
         "showlegend": true,
         "textposition": "auto",
         "type": "bar",
         "x": [
          1997,
          1999
         ],
         "xaxis": "x",
         "y": [
          1,
          1
         ],
         "yaxis": "y"
        },
        {
         "alignmentgroup": "True",
         "hovertemplate": "Club=ŠK RIEGEL<br>Year=%{x}<br>count=%{y}<extra></extra>",
         "legendgroup": "ŠK RIEGEL",
         "marker": {
          "color": "#FF6692",
          "pattern": {
           "shape": ""
          }
         },
         "name": "ŠK RIEGEL",
         "offsetgroup": "ŠK RIEGEL",
         "orientation": "v",
         "showlegend": true,
         "textposition": "auto",
         "type": "bar",
         "x": [
          1998
         ],
         "xaxis": "x",
         "y": [
          1
         ],
         "yaxis": "y"
        },
        {
         "alignmentgroup": "True",
         "hovertemplate": "Club=AŠ BRATISLAVA<br>Year=%{x}<br>count=%{y}<extra></extra>",
         "legendgroup": "AŠ BRATISLAVA",
         "marker": {
          "color": "#B6E880",
          "pattern": {
           "shape": ""
          }
         },
         "name": "AŠ BRATISLAVA",
         "offsetgroup": "AŠ BRATISLAVA",
         "orientation": "v",
         "showlegend": true,
         "textposition": "auto",
         "type": "bar",
         "x": [
          1999,
          2000,
          2001
         ],
         "xaxis": "x",
         "y": [
          1,
          1,
          1
         ],
         "yaxis": "y"
        },
        {
         "alignmentgroup": "True",
         "hovertemplate": "Club=1.FC BELA POD BEZ<br>Year=%{x}<br>count=%{y}<extra></extra>",
         "legendgroup": "1.FC BELA POD BEZ",
         "marker": {
          "color": "#FF97FF",
          "pattern": {
           "shape": ""
          }
         },
         "name": "1.FC BELA POD BEZ",
         "offsetgroup": "1.FC BELA POD BEZ",
         "orientation": "v",
         "showlegend": true,
         "textposition": "auto",
         "type": "bar",
         "x": [
          2000,
          2002,
          2003,
          2006
         ],
         "xaxis": "x",
         "y": [
          1,
          1,
          1,
          1
         ],
         "yaxis": "y"
        },
        {
         "alignmentgroup": "True",
         "hovertemplate": "Club=EKONOM PRAHA<br>Year=%{x}<br>count=%{y}<extra></extra>",
         "legendgroup": "EKONOM PRAHA",
         "marker": {
          "color": "#FECB52",
          "pattern": {
           "shape": ""
          }
         },
         "name": "EKONOM PRAHA",
         "offsetgroup": "EKONOM PRAHA",
         "orientation": "v",
         "showlegend": true,
         "textposition": "auto",
         "type": "bar",
         "x": [
          2000
         ],
         "xaxis": "x",
         "y": [
          1
         ],
         "yaxis": "y"
        },
        {
         "alignmentgroup": "True",
         "hovertemplate": "Club=FC LEIPZIG<br>Year=%{x}<br>count=%{y}<extra></extra>",
         "legendgroup": "FC LEIPZIG",
         "marker": {
          "color": "#636efa",
          "pattern": {
           "shape": ""
          }
         },
         "name": "FC LEIPZIG",
         "offsetgroup": "FC LEIPZIG",
         "orientation": "v",
         "showlegend": true,
         "textposition": "auto",
         "type": "bar",
         "x": [
          2000,
          2001,
          2002
         ],
         "xaxis": "x",
         "y": [
          1,
          1,
          1
         ],
         "yaxis": "y"
        },
        {
         "alignmentgroup": "True",
         "hovertemplate": "Club=LAŠSSKFZ<br>Year=%{x}<br>count=%{y}<extra></extra>",
         "legendgroup": "LAŠSSKFZ",
         "marker": {
          "color": "#EF553B",
          "pattern": {
           "shape": ""
          }
         },
         "name": "LAŠSSKFZ",
         "offsetgroup": "LAŠSSKFZ",
         "orientation": "v",
         "showlegend": true,
         "textposition": "auto",
         "type": "bar",
         "x": [
          2000
         ],
         "xaxis": "x",
         "y": [
          1
         ],
         "yaxis": "y"
        },
        {
         "alignmentgroup": "True",
         "hovertemplate": "Club=JPN<br>Year=%{x}<br>count=%{y}<extra></extra>",
         "legendgroup": "JPN",
         "marker": {
          "color": "#00cc96",
          "pattern": {
           "shape": ""
          }
         },
         "name": "JPN",
         "offsetgroup": "JPN",
         "orientation": "v",
         "showlegend": true,
         "textposition": "auto",
         "type": "bar",
         "x": [
          2002
         ],
         "xaxis": "x",
         "y": [
          1
         ],
         "yaxis": "y"
        },
        {
         "alignmentgroup": "True",
         "hovertemplate": "Club=RADEBEUL<br>Year=%{x}<br>count=%{y}<extra></extra>",
         "legendgroup": "RADEBEUL",
         "marker": {
          "color": "#ab63fa",
          "pattern": {
           "shape": ""
          }
         },
         "name": "RADEBEUL",
         "offsetgroup": "RADEBEUL",
         "orientation": "v",
         "showlegend": true,
         "textposition": "auto",
         "type": "bar",
         "x": [
          2002
         ],
         "xaxis": "x",
         "y": [
          1
         ],
         "yaxis": "y"
        },
        {
         "alignmentgroup": "True",
         "hovertemplate": "Club=SOKOL DEJVICE<br>Year=%{x}<br>count=%{y}<extra></extra>",
         "legendgroup": "SOKOL DEJVICE",
         "marker": {
          "color": "#FFA15A",
          "pattern": {
           "shape": ""
          }
         },
         "name": "SOKOL DEJVICE",
         "offsetgroup": "SOKOL DEJVICE",
         "orientation": "v",
         "showlegend": true,
         "textposition": "auto",
         "type": "bar",
         "x": [
          2002,
          2004
         ],
         "xaxis": "x",
         "y": [
          1,
          1
         ],
         "yaxis": "y"
        },
        {
         "alignmentgroup": "True",
         "hovertemplate": "Club=TJ LOKO TEPLICE<br>Year=%{x}<br>count=%{y}<extra></extra>",
         "legendgroup": "TJ LOKO TEPLICE",
         "marker": {
          "color": "#19d3f3",
          "pattern": {
           "shape": ""
          }
         },
         "name": "TJ LOKO TEPLICE",
         "offsetgroup": "TJ LOKO TEPLICE",
         "orientation": "v",
         "showlegend": true,
         "textposition": "auto",
         "type": "bar",
         "x": [
          2002,
          2004,
          2005,
          2008
         ],
         "xaxis": "x",
         "y": [
          1,
          2,
          3,
          1
         ],
         "yaxis": "y"
        },
        {
         "alignmentgroup": "True",
         "hovertemplate": "Club=VUT BRNO<br>Year=%{x}<br>count=%{y}<extra></extra>",
         "legendgroup": "VUT BRNO",
         "marker": {
          "color": "#FF6692",
          "pattern": {
           "shape": ""
          }
         },
         "name": "VUT BRNO",
         "offsetgroup": "VUT BRNO",
         "orientation": "v",
         "showlegend": true,
         "textposition": "auto",
         "type": "bar",
         "x": [
          2002
         ],
         "xaxis": "x",
         "y": [
          1
         ],
         "yaxis": "y"
        },
        {
         "alignmentgroup": "True",
         "hovertemplate": "Club=JISKRA H.BROD<br>Year=%{x}<br>count=%{y}<extra></extra>",
         "legendgroup": "JISKRA H.BROD",
         "marker": {
          "color": "#B6E880",
          "pattern": {
           "shape": ""
          }
         },
         "name": "JISKRA H.BROD",
         "offsetgroup": "JISKRA H.BROD",
         "orientation": "v",
         "showlegend": true,
         "textposition": "auto",
         "type": "bar",
         "x": [
          2004
         ],
         "xaxis": "x",
         "y": [
          1
         ],
         "yaxis": "y"
        },
        {
         "alignmentgroup": "True",
         "hovertemplate": "Club=SLAVOJ LITOMĚŘICE<br>Year=%{x}<br>count=%{y}<extra></extra>",
         "legendgroup": "SLAVOJ LITOMĚŘICE",
         "marker": {
          "color": "#FF97FF",
          "pattern": {
           "shape": ""
          }
         },
         "name": "SLAVOJ LITOMĚŘICE",
         "offsetgroup": "SLAVOJ LITOMĚŘICE",
         "orientation": "v",
         "showlegend": true,
         "textposition": "auto",
         "type": "bar",
         "x": [
          2005,
          2006,
          2007
         ],
         "xaxis": "x",
         "y": [
          2,
          2,
          1
         ],
         "yaxis": "y"
        }
       ],
       "layout": {
        "barmode": "relative",
        "height": 700,
        "legend": {
         "title": {
          "text": "Club"
         },
         "tracegroupgap": 0
        },
        "template": {
         "data": {
          "bar": [
           {
            "error_x": {
             "color": "#2a3f5f"
            },
            "error_y": {
             "color": "#2a3f5f"
            },
            "marker": {
             "line": {
              "color": "#E5ECF6",
              "width": 0.5
             },
             "pattern": {
              "fillmode": "overlay",
              "size": 10,
              "solidity": 0.2
             }
            },
            "type": "bar"
           }
          ],
          "barpolar": [
           {
            "marker": {
             "line": {
              "color": "#E5ECF6",
              "width": 0.5
             },
             "pattern": {
              "fillmode": "overlay",
              "size": 10,
              "solidity": 0.2
             }
            },
            "type": "barpolar"
           }
          ],
          "carpet": [
           {
            "aaxis": {
             "endlinecolor": "#2a3f5f",
             "gridcolor": "white",
             "linecolor": "white",
             "minorgridcolor": "white",
             "startlinecolor": "#2a3f5f"
            },
            "baxis": {
             "endlinecolor": "#2a3f5f",
             "gridcolor": "white",
             "linecolor": "white",
             "minorgridcolor": "white",
             "startlinecolor": "#2a3f5f"
            },
            "type": "carpet"
           }
          ],
          "choropleth": [
           {
            "colorbar": {
             "outlinewidth": 0,
             "ticks": ""
            },
            "type": "choropleth"
           }
          ],
          "contour": [
           {
            "colorbar": {
             "outlinewidth": 0,
             "ticks": ""
            },
            "colorscale": [
             [
              0,
              "#0d0887"
             ],
             [
              0.1111111111111111,
              "#46039f"
             ],
             [
              0.2222222222222222,
              "#7201a8"
             ],
             [
              0.3333333333333333,
              "#9c179e"
             ],
             [
              0.4444444444444444,
              "#bd3786"
             ],
             [
              0.5555555555555556,
              "#d8576b"
             ],
             [
              0.6666666666666666,
              "#ed7953"
             ],
             [
              0.7777777777777778,
              "#fb9f3a"
             ],
             [
              0.8888888888888888,
              "#fdca26"
             ],
             [
              1,
              "#f0f921"
             ]
            ],
            "type": "contour"
           }
          ],
          "contourcarpet": [
           {
            "colorbar": {
             "outlinewidth": 0,
             "ticks": ""
            },
            "type": "contourcarpet"
           }
          ],
          "heatmap": [
           {
            "colorbar": {
             "outlinewidth": 0,
             "ticks": ""
            },
            "colorscale": [
             [
              0,
              "#0d0887"
             ],
             [
              0.1111111111111111,
              "#46039f"
             ],
             [
              0.2222222222222222,
              "#7201a8"
             ],
             [
              0.3333333333333333,
              "#9c179e"
             ],
             [
              0.4444444444444444,
              "#bd3786"
             ],
             [
              0.5555555555555556,
              "#d8576b"
             ],
             [
              0.6666666666666666,
              "#ed7953"
             ],
             [
              0.7777777777777778,
              "#fb9f3a"
             ],
             [
              0.8888888888888888,
              "#fdca26"
             ],
             [
              1,
              "#f0f921"
             ]
            ],
            "type": "heatmap"
           }
          ],
          "heatmapgl": [
           {
            "colorbar": {
             "outlinewidth": 0,
             "ticks": ""
            },
            "colorscale": [
             [
              0,
              "#0d0887"
             ],
             [
              0.1111111111111111,
              "#46039f"
             ],
             [
              0.2222222222222222,
              "#7201a8"
             ],
             [
              0.3333333333333333,
              "#9c179e"
             ],
             [
              0.4444444444444444,
              "#bd3786"
             ],
             [
              0.5555555555555556,
              "#d8576b"
             ],
             [
              0.6666666666666666,
              "#ed7953"
             ],
             [
              0.7777777777777778,
              "#fb9f3a"
             ],
             [
              0.8888888888888888,
              "#fdca26"
             ],
             [
              1,
              "#f0f921"
             ]
            ],
            "type": "heatmapgl"
           }
          ],
          "histogram": [
           {
            "marker": {
             "pattern": {
              "fillmode": "overlay",
              "size": 10,
              "solidity": 0.2
             }
            },
            "type": "histogram"
           }
          ],
          "histogram2d": [
           {
            "colorbar": {
             "outlinewidth": 0,
             "ticks": ""
            },
            "colorscale": [
             [
              0,
              "#0d0887"
             ],
             [
              0.1111111111111111,
              "#46039f"
             ],
             [
              0.2222222222222222,
              "#7201a8"
             ],
             [
              0.3333333333333333,
              "#9c179e"
             ],
             [
              0.4444444444444444,
              "#bd3786"
             ],
             [
              0.5555555555555556,
              "#d8576b"
             ],
             [
              0.6666666666666666,
              "#ed7953"
             ],
             [
              0.7777777777777778,
              "#fb9f3a"
             ],
             [
              0.8888888888888888,
              "#fdca26"
             ],
             [
              1,
              "#f0f921"
             ]
            ],
            "type": "histogram2d"
           }
          ],
          "histogram2dcontour": [
           {
            "colorbar": {
             "outlinewidth": 0,
             "ticks": ""
            },
            "colorscale": [
             [
              0,
              "#0d0887"
             ],
             [
              0.1111111111111111,
              "#46039f"
             ],
             [
              0.2222222222222222,
              "#7201a8"
             ],
             [
              0.3333333333333333,
              "#9c179e"
             ],
             [
              0.4444444444444444,
              "#bd3786"
             ],
             [
              0.5555555555555556,
              "#d8576b"
             ],
             [
              0.6666666666666666,
              "#ed7953"
             ],
             [
              0.7777777777777778,
              "#fb9f3a"
             ],
             [
              0.8888888888888888,
              "#fdca26"
             ],
             [
              1,
              "#f0f921"
             ]
            ],
            "type": "histogram2dcontour"
           }
          ],
          "mesh3d": [
           {
            "colorbar": {
             "outlinewidth": 0,
             "ticks": ""
            },
            "type": "mesh3d"
           }
          ],
          "parcoords": [
           {
            "line": {
             "colorbar": {
              "outlinewidth": 0,
              "ticks": ""
             }
            },
            "type": "parcoords"
           }
          ],
          "pie": [
           {
            "automargin": true,
            "type": "pie"
           }
          ],
          "scatter": [
           {
            "marker": {
             "colorbar": {
              "outlinewidth": 0,
              "ticks": ""
             }
            },
            "type": "scatter"
           }
          ],
          "scatter3d": [
           {
            "line": {
             "colorbar": {
              "outlinewidth": 0,
              "ticks": ""
             }
            },
            "marker": {
             "colorbar": {
              "outlinewidth": 0,
              "ticks": ""
             }
            },
            "type": "scatter3d"
           }
          ],
          "scattercarpet": [
           {
            "marker": {
             "colorbar": {
              "outlinewidth": 0,
              "ticks": ""
             }
            },
            "type": "scattercarpet"
           }
          ],
          "scattergeo": [
           {
            "marker": {
             "colorbar": {
              "outlinewidth": 0,
              "ticks": ""
             }
            },
            "type": "scattergeo"
           }
          ],
          "scattergl": [
           {
            "marker": {
             "colorbar": {
              "outlinewidth": 0,
              "ticks": ""
             }
            },
            "type": "scattergl"
           }
          ],
          "scattermapbox": [
           {
            "marker": {
             "colorbar": {
              "outlinewidth": 0,
              "ticks": ""
             }
            },
            "type": "scattermapbox"
           }
          ],
          "scatterpolar": [
           {
            "marker": {
             "colorbar": {
              "outlinewidth": 0,
              "ticks": ""
             }
            },
            "type": "scatterpolar"
           }
          ],
          "scatterpolargl": [
           {
            "marker": {
             "colorbar": {
              "outlinewidth": 0,
              "ticks": ""
             }
            },
            "type": "scatterpolargl"
           }
          ],
          "scatterternary": [
           {
            "marker": {
             "colorbar": {
              "outlinewidth": 0,
              "ticks": ""
             }
            },
            "type": "scatterternary"
           }
          ],
          "surface": [
           {
            "colorbar": {
             "outlinewidth": 0,
             "ticks": ""
            },
            "colorscale": [
             [
              0,
              "#0d0887"
             ],
             [
              0.1111111111111111,
              "#46039f"
             ],
             [
              0.2222222222222222,
              "#7201a8"
             ],
             [
              0.3333333333333333,
              "#9c179e"
             ],
             [
              0.4444444444444444,
              "#bd3786"
             ],
             [
              0.5555555555555556,
              "#d8576b"
             ],
             [
              0.6666666666666666,
              "#ed7953"
             ],
             [
              0.7777777777777778,
              "#fb9f3a"
             ],
             [
              0.8888888888888888,
              "#fdca26"
             ],
             [
              1,
              "#f0f921"
             ]
            ],
            "type": "surface"
           }
          ],
          "table": [
           {
            "cells": {
             "fill": {
              "color": "#EBF0F8"
             },
             "line": {
              "color": "white"
             }
            },
            "header": {
             "fill": {
              "color": "#C8D4E3"
             },
             "line": {
              "color": "white"
             }
            },
            "type": "table"
           }
          ]
         },
         "layout": {
          "annotationdefaults": {
           "arrowcolor": "#2a3f5f",
           "arrowhead": 0,
           "arrowwidth": 1
          },
          "autotypenumbers": "strict",
          "coloraxis": {
           "colorbar": {
            "outlinewidth": 0,
            "ticks": ""
           }
          },
          "colorscale": {
           "diverging": [
            [
             0,
             "#8e0152"
            ],
            [
             0.1,
             "#c51b7d"
            ],
            [
             0.2,
             "#de77ae"
            ],
            [
             0.3,
             "#f1b6da"
            ],
            [
             0.4,
             "#fde0ef"
            ],
            [
             0.5,
             "#f7f7f7"
            ],
            [
             0.6,
             "#e6f5d0"
            ],
            [
             0.7,
             "#b8e186"
            ],
            [
             0.8,
             "#7fbc41"
            ],
            [
             0.9,
             "#4d9221"
            ],
            [
             1,
             "#276419"
            ]
           ],
           "sequential": [
            [
             0,
             "#0d0887"
            ],
            [
             0.1111111111111111,
             "#46039f"
            ],
            [
             0.2222222222222222,
             "#7201a8"
            ],
            [
             0.3333333333333333,
             "#9c179e"
            ],
            [
             0.4444444444444444,
             "#bd3786"
            ],
            [
             0.5555555555555556,
             "#d8576b"
            ],
            [
             0.6666666666666666,
             "#ed7953"
            ],
            [
             0.7777777777777778,
             "#fb9f3a"
            ],
            [
             0.8888888888888888,
             "#fdca26"
            ],
            [
             1,
             "#f0f921"
            ]
           ],
           "sequentialminus": [
            [
             0,
             "#0d0887"
            ],
            [
             0.1111111111111111,
             "#46039f"
            ],
            [
             0.2222222222222222,
             "#7201a8"
            ],
            [
             0.3333333333333333,
             "#9c179e"
            ],
            [
             0.4444444444444444,
             "#bd3786"
            ],
            [
             0.5555555555555556,
             "#d8576b"
            ],
            [
             0.6666666666666666,
             "#ed7953"
            ],
            [
             0.7777777777777778,
             "#fb9f3a"
            ],
            [
             0.8888888888888888,
             "#fdca26"
            ],
            [
             1,
             "#f0f921"
            ]
           ]
          },
          "colorway": [
           "#636efa",
           "#EF553B",
           "#00cc96",
           "#ab63fa",
           "#FFA15A",
           "#19d3f3",
           "#FF6692",
           "#B6E880",
           "#FF97FF",
           "#FECB52"
          ],
          "font": {
           "color": "#2a3f5f"
          },
          "geo": {
           "bgcolor": "white",
           "lakecolor": "white",
           "landcolor": "#E5ECF6",
           "showlakes": true,
           "showland": true,
           "subunitcolor": "white"
          },
          "hoverlabel": {
           "align": "left"
          },
          "hovermode": "closest",
          "mapbox": {
           "style": "light"
          },
          "paper_bgcolor": "white",
          "plot_bgcolor": "#E5ECF6",
          "polar": {
           "angularaxis": {
            "gridcolor": "white",
            "linecolor": "white",
            "ticks": ""
           },
           "bgcolor": "#E5ECF6",
           "radialaxis": {
            "gridcolor": "white",
            "linecolor": "white",
            "ticks": ""
           }
          },
          "scene": {
           "xaxis": {
            "backgroundcolor": "#E5ECF6",
            "gridcolor": "white",
            "gridwidth": 2,
            "linecolor": "white",
            "showbackground": true,
            "ticks": "",
            "zerolinecolor": "white"
           },
           "yaxis": {
            "backgroundcolor": "#E5ECF6",
            "gridcolor": "white",
            "gridwidth": 2,
            "linecolor": "white",
            "showbackground": true,
            "ticks": "",
            "zerolinecolor": "white"
           },
           "zaxis": {
            "backgroundcolor": "#E5ECF6",
            "gridcolor": "white",
            "gridwidth": 2,
            "linecolor": "white",
            "showbackground": true,
            "ticks": "",
            "zerolinecolor": "white"
           }
          },
          "shapedefaults": {
           "line": {
            "color": "#2a3f5f"
           }
          },
          "ternary": {
           "aaxis": {
            "gridcolor": "white",
            "linecolor": "white",
            "ticks": ""
           },
           "baxis": {
            "gridcolor": "white",
            "linecolor": "white",
            "ticks": ""
           },
           "bgcolor": "#E5ECF6",
           "caxis": {
            "gridcolor": "white",
            "linecolor": "white",
            "ticks": ""
           }
          },
          "title": {
           "x": 0.05
          },
          "xaxis": {
           "automargin": true,
           "gridcolor": "white",
           "linecolor": "white",
           "ticks": "",
           "title": {
            "standoff": 15
           },
           "zerolinecolor": "white",
           "zerolinewidth": 2
          },
          "yaxis": {
           "automargin": true,
           "gridcolor": "white",
           "linecolor": "white",
           "ticks": "",
           "title": {
            "standoff": 15
           },
           "zerolinecolor": "white",
           "zerolinewidth": 2
          }
         }
        },
        "title": {
         "text": "Závodníci podle roku narození a Klubu"
        },
        "width": 950,
        "xaxis": {
         "anchor": "y",
         "autorange": true,
         "domain": [
          0,
          1
         ],
         "range": [
          1971.5,
          2009.5
         ],
         "tickangle": -90,
         "tickvals": [
          1972,
          1973,
          1975,
          1978,
          1978,
          1980,
          1984,
          1988,
          1989,
          1989,
          1990,
          1990,
          1991,
          1991,
          1991,
          1991,
          1991,
          1991,
          1991,
          1992,
          1993,
          1994,
          1995,
          1995,
          1995,
          1995,
          1995,
          1996,
          1996,
          1996,
          1997,
          1997,
          1997,
          1997,
          1997,
          1998,
          1998,
          1998,
          1998,
          1999,
          1999,
          1999,
          1999,
          1999,
          1999,
          1999,
          1999,
          1999,
          2000,
          2000,
          2000,
          2000,
          2000,
          2000,
          2000,
          2000,
          2001,
          2001,
          2001,
          2001,
          2002,
          2002,
          2002,
          2002,
          2002,
          2002,
          2002,
          2002,
          2002,
          2002,
          2002,
          2002,
          2003,
          2003,
          2003,
          2004,
          2004,
          2004,
          2004,
          2004,
          2005,
          2005,
          2005,
          2005,
          2005,
          2005,
          2006,
          2006,
          2006,
          2006,
          2006,
          2006,
          2007,
          2007,
          2007,
          2007,
          2007,
          2008,
          2008,
          2008,
          2008,
          2009,
          2009
         ],
         "title": {
          "text": "Year"
         },
         "type": "linear"
        },
        "yaxis": {
         "anchor": "x",
         "autorange": true,
         "domain": [
          0,
          1
         ],
         "range": [
          0,
          15.789473684210526
         ],
         "title": {
          "text": "count"
         },
         "type": "linear"
        }
       }
      },
      "image/png": "[encoded data removed]",
      "text/html": [
       "<div>                            <div id=\"0432b015-7bf7-48b5-905e-81f79940dd72\" class=\"plotly-graph-div\" style=\"height:700px; width:950px;\"></div>            <script type=\"text/javascript\">                require([\"plotly\"], function(Plotly) {                    window.PLOTLYENV=window.PLOTLYENV || {};                                    if (document.getElementById(\"0432b015-7bf7-48b5-905e-81f79940dd72\")) {                    Plotly.newPlot(                        \"0432b015-7bf7-48b5-905e-81f79940dd72\",                        [{\"alignmentgroup\":\"True\",\"hovertemplate\":\"Club=BOHEMIANS<br>Year=%{x}<br>count=%{y}<extra></extra>\",\"legendgroup\":\"BOHEMIANS\",\"marker\":{\"color\":\"#636efa\",\"pattern\":{\"shape\":\"\"}},\"name\":\"BOHEMIANS\",\"offsetgroup\":\"BOHEMIANS\",\"orientation\":\"v\",\"showlegend\":true,\"textposition\":\"auto\",\"x\":[1972,1991],\"xaxis\":\"x\",\"y\":[1,1],\"yaxis\":\"y\",\"type\":\"bar\"},{\"alignmentgroup\":\"True\",\"hovertemplate\":\"Club=SS UH.HRADISTE<br>Year=%{x}<br>count=%{y}<extra></extra>\",\"legendgroup\":\"SS UH.HRADISTE\",\"marker\":{\"color\":\"#EF553B\",\"pattern\":{\"shape\":\"\"}},\"name\":\"SS UH.HRADISTE\",\"offsetgroup\":\"SS UH.HRADISTE\",\"orientation\":\"v\",\"showlegend\":true,\"textposition\":\"auto\",\"x\":[1973],\"xaxis\":\"x\",\"y\":[1],\"yaxis\":\"y\",\"type\":\"bar\"},{\"alignmentgroup\":\"True\",\"hovertemplate\":\"Club=USK PRAHA<br>Year=%{x}<br>count=%{y}<extra></extra>\",\"legendgroup\":\"USK PRAHA\",\"marker\":{\"color\":\"#00cc96\",\"pattern\":{\"shape\":\"\"}},\"name\":\"USK PRAHA\",\"offsetgroup\":\"USK PRAHA\",\"orientation\":\"v\",\"showlegend\":true,\"textposition\":\"auto\",\"x\":[1975,1989,1997,1999,2005,2006],\"xaxis\":\"x\",\"y\":[1,1,1,2,1,1],\"yaxis\":\"y\",\"type\":\"bar\"},{\"alignmentgroup\":\"True\",\"hovertemplate\":\"Club=SC PRAHA<br>Year=%{x}<br>count=%{y}<extra></extra>\",\"legendgroup\":\"SC PRAHA\",\"marker\":{\"color\":\"#ab63fa\",\"pattern\":{\"shape\":\"\"}},\"name\":\"SC PRAHA\",\"offsetgroup\":\"SC PRAHA\",\"orientation\":\"v\",\"showlegend\":true,\"textposition\":\"auto\",\"x\":[1978,1990,1995,1998,1999,2001,2002,2003,2004,2005,2006,2007,2008,2009],\"xaxis\":\"x\",\"y\":[1,1,2,1,2,2,3,2,1,1,2,5,3,1],\"yaxis\":\"y\",\"type\":\"bar\"},{\"alignmentgroup\":\"True\",\"hovertemplate\":\"Club=TJ SOKOL P\\u00cdSEK<br>Year=%{x}<br>count=%{y}<extra></extra>\",\"legendgroup\":\"TJ SOKOL P\\u00cdSEK\",\"marker\":{\"color\":\"#FFA15A\",\"pattern\":{\"shape\":\"\"}},\"name\":\"TJ SOKOL P\\u00cdSEK\",\"offsetgroup\":\"TJ SOKOL P\\u00cdSEK\",\"orientation\":\"v\",\"showlegend\":true,\"textposition\":\"auto\",\"x\":[1978,2007],\"xaxis\":\"x\",\"y\":[1,1],\"yaxis\":\"y\",\"type\":\"bar\"},{\"alignmentgroup\":\"True\",\"hovertemplate\":\"Club=DUKLA OLOMOUC<br>Year=%{x}<br>count=%{y}<extra></extra>\",\"legendgroup\":\"DUKLA OLOMOUC\",\"marker\":{\"color\":\"#19d3f3\",\"pattern\":{\"shape\":\"\"}},\"name\":\"DUKLA OLOMOUC\",\"offsetgroup\":\"DUKLA OLOMOUC\",\"orientation\":\"v\",\"showlegend\":true,\"textposition\":\"auto\",\"x\":[1980,1984,1991,1995,1999,2000,2002,2005,2007,2009],\"xaxis\":\"x\",\"y\":[1,2,1,1,2,4,1,1,1,1],\"yaxis\":\"y\",\"type\":\"bar\"},{\"alignmentgroup\":\"True\",\"hovertemplate\":\"Club=TJ LOKO PLZEN<br>Year=%{x}<br>count=%{y}<extra></extra>\",\"legendgroup\":\"TJ LOKO PLZEN\",\"marker\":{\"color\":\"#FF6692\",\"pattern\":{\"shape\":\"\"}},\"name\":\"TJ LOKO PLZEN\",\"offsetgroup\":\"TJ LOKO PLZEN\",\"orientation\":\"v\",\"showlegend\":true,\"textposition\":\"auto\",\"x\":[1988,1991,1995,1996,1998,2000,2002,2008],\"xaxis\":\"x\",\"y\":[1,1,1,1,1,1,1,1],\"yaxis\":\"y\",\"type\":\"bar\"},{\"alignmentgroup\":\"True\",\"hovertemplate\":\"Club=RIEGEL PRAHA<br>Year=%{x}<br>count=%{y}<extra></extra>\",\"legendgroup\":\"RIEGEL PRAHA\",\"marker\":{\"color\":\"#B6E880\",\"pattern\":{\"shape\":\"\"}},\"name\":\"RIEGEL PRAHA\",\"offsetgroup\":\"RIEGEL PRAHA\",\"orientation\":\"v\",\"showlegend\":true,\"textposition\":\"auto\",\"x\":[1989],\"xaxis\":\"x\",\"y\":[1],\"yaxis\":\"y\",\"type\":\"bar\"},{\"alignmentgroup\":\"True\",\"hovertemplate\":\"Club=TJ DUKLA PRAHA<br>Year=%{x}<br>count=%{y}<extra></extra>\",\"legendgroup\":\"TJ DUKLA PRAHA\",\"marker\":{\"color\":\"#FF97FF\",\"pattern\":{\"shape\":\"\"}},\"name\":\"TJ DUKLA PRAHA\",\"offsetgroup\":\"TJ DUKLA PRAHA\",\"orientation\":\"v\",\"showlegend\":true,\"textposition\":\"auto\",\"x\":[1990,1994,1995,1996,1997,1999,2000,2001,2002,2004,2005],\"xaxis\":\"x\",\"y\":[1,2,1,1,1,2,1,2,2,2,2],\"yaxis\":\"y\",\"type\":\"bar\"},{\"alignmentgroup\":\"True\",\"hovertemplate\":\"Club=ASBVA<br>Year=%{x}<br>count=%{y}<extra></extra>\",\"legendgroup\":\"ASBVA\",\"marker\":{\"color\":\"#FECB52\",\"pattern\":{\"shape\":\"\"}},\"name\":\"ASBVA\",\"offsetgroup\":\"ASBVA\",\"orientation\":\"v\",\"showlegend\":true,\"textposition\":\"auto\",\"x\":[1991],\"xaxis\":\"x\",\"y\":[1],\"yaxis\":\"y\",\"type\":\"bar\"},{\"alignmentgroup\":\"True\",\"hovertemplate\":\"Club=TJ LOKO K.VARY<br>Year=%{x}<br>count=%{y}<extra></extra>\",\"legendgroup\":\"TJ LOKO K.VARY\",\"marker\":{\"color\":\"#636efa\",\"pattern\":{\"shape\":\"\"}},\"name\":\"TJ LOKO K.VARY\",\"offsetgroup\":\"TJ LOKO K.VARY\",\"orientation\":\"v\",\"showlegend\":true,\"textposition\":\"auto\",\"x\":[1991,2003,2006,2007,2008],\"xaxis\":\"x\",\"y\":[1,1,1,1,1],\"yaxis\":\"y\",\"type\":\"bar\"},{\"alignmentgroup\":\"True\",\"hovertemplate\":\"Club=VENEZUELA<br>Year=%{x}<br>count=%{y}<extra></extra>\",\"legendgroup\":\"VENEZUELA\",\"marker\":{\"color\":\"#EF553B\",\"pattern\":{\"shape\":\"\"}},\"name\":\"VENEZUELA\",\"offsetgroup\":\"VENEZUELA\",\"orientation\":\"v\",\"showlegend\":true,\"textposition\":\"auto\",\"x\":[1991,1999],\"xaxis\":\"x\",\"y\":[1,3],\"yaxis\":\"y\",\"type\":\"bar\"},{\"alignmentgroup\":\"True\",\"hovertemplate\":\"Club=VSK HUMANITA<br>Year=%{x}<br>count=%{y}<extra></extra>\",\"legendgroup\":\"VSK HUMANITA\",\"marker\":{\"color\":\"#00cc96\",\"pattern\":{\"shape\":\"\"}},\"name\":\"VSK HUMANITA\",\"offsetgroup\":\"VSK HUMANITA\",\"orientation\":\"v\",\"showlegend\":true,\"textposition\":\"auto\",\"x\":[1991,1992,1993,1995,1997,1998,1999],\"xaxis\":\"x\",\"y\":[1,1,1,1,2,3,1],\"yaxis\":\"y\",\"type\":\"bar\"},{\"alignmentgroup\":\"True\",\"hovertemplate\":\"Club=OREL HR.KR.<br>Year=%{x}<br>count=%{y}<extra></extra>\",\"legendgroup\":\"OREL HR.KR.\",\"marker\":{\"color\":\"#ab63fa\",\"pattern\":{\"shape\":\"\"}},\"name\":\"OREL HR.KR.\",\"offsetgroup\":\"OREL HR.KR.\",\"orientation\":\"v\",\"showlegend\":true,\"textposition\":\"auto\",\"x\":[1996],\"xaxis\":\"x\",\"y\":[1],\"yaxis\":\"y\",\"type\":\"bar\"},{\"alignmentgroup\":\"True\",\"hovertemplate\":\"Club=S\\u010c USTI NAD LABEM<br>Year=%{x}<br>count=%{y}<extra></extra>\",\"legendgroup\":\"S\\u010c USTI NAD LABEM\",\"marker\":{\"color\":\"#FFA15A\",\"pattern\":{\"shape\":\"\"}},\"name\":\"S\\u010c USTI NAD LABEM\",\"offsetgroup\":\"S\\u010c USTI NAD LABEM\",\"orientation\":\"v\",\"showlegend\":true,\"textposition\":\"auto\",\"x\":[1997,1999,2002,2006],\"xaxis\":\"x\",\"y\":[1,1,1,2],\"yaxis\":\"y\",\"type\":\"bar\"},{\"alignmentgroup\":\"True\",\"hovertemplate\":\"Club=UKRAJINA<br>Year=%{x}<br>count=%{y}<extra></extra>\",\"legendgroup\":\"UKRAJINA\",\"marker\":{\"color\":\"#19d3f3\",\"pattern\":{\"shape\":\"\"}},\"name\":\"UKRAJINA\",\"offsetgroup\":\"UKRAJINA\",\"orientation\":\"v\",\"showlegend\":true,\"textposition\":\"auto\",\"x\":[1997,1999],\"xaxis\":\"x\",\"y\":[1,1],\"yaxis\":\"y\",\"type\":\"bar\"},{\"alignmentgroup\":\"True\",\"hovertemplate\":\"Club=\\u0160K RIEGEL<br>Year=%{x}<br>count=%{y}<extra></extra>\",\"legendgroup\":\"\\u0160K RIEGEL\",\"marker\":{\"color\":\"#FF6692\",\"pattern\":{\"shape\":\"\"}},\"name\":\"\\u0160K RIEGEL\",\"offsetgroup\":\"\\u0160K RIEGEL\",\"orientation\":\"v\",\"showlegend\":true,\"textposition\":\"auto\",\"x\":[1998],\"xaxis\":\"x\",\"y\":[1],\"yaxis\":\"y\",\"type\":\"bar\"},{\"alignmentgroup\":\"True\",\"hovertemplate\":\"Club=A\\u0160 BRATISLAVA<br>Year=%{x}<br>count=%{y}<extra></extra>\",\"legendgroup\":\"A\\u0160 BRATISLAVA\",\"marker\":{\"color\":\"#B6E880\",\"pattern\":{\"shape\":\"\"}},\"name\":\"A\\u0160 BRATISLAVA\",\"offsetgroup\":\"A\\u0160 BRATISLAVA\",\"orientation\":\"v\",\"showlegend\":true,\"textposition\":\"auto\",\"x\":[1999,2000,2001],\"xaxis\":\"x\",\"y\":[1,1,1],\"yaxis\":\"y\",\"type\":\"bar\"},{\"alignmentgroup\":\"True\",\"hovertemplate\":\"Club=1.FC BELA POD BEZ<br>Year=%{x}<br>count=%{y}<extra></extra>\",\"legendgroup\":\"1.FC BELA POD BEZ\",\"marker\":{\"color\":\"#FF97FF\",\"pattern\":{\"shape\":\"\"}},\"name\":\"1.FC BELA POD BEZ\",\"offsetgroup\":\"1.FC BELA POD BEZ\",\"orientation\":\"v\",\"showlegend\":true,\"textposition\":\"auto\",\"x\":[2000,2002,2003,2006],\"xaxis\":\"x\",\"y\":[1,1,1,1],\"yaxis\":\"y\",\"type\":\"bar\"},{\"alignmentgroup\":\"True\",\"hovertemplate\":\"Club=EKONOM PRAHA<br>Year=%{x}<br>count=%{y}<extra></extra>\",\"legendgroup\":\"EKONOM PRAHA\",\"marker\":{\"color\":\"#FECB52\",\"pattern\":{\"shape\":\"\"}},\"name\":\"EKONOM PRAHA\",\"offsetgroup\":\"EKONOM PRAHA\",\"orientation\":\"v\",\"showlegend\":true,\"textposition\":\"auto\",\"x\":[2000],\"xaxis\":\"x\",\"y\":[1],\"yaxis\":\"y\",\"type\":\"bar\"},{\"alignmentgroup\":\"True\",\"hovertemplate\":\"Club=FC LEIPZIG<br>Year=%{x}<br>count=%{y}<extra></extra>\",\"legendgroup\":\"FC LEIPZIG\",\"marker\":{\"color\":\"#636efa\",\"pattern\":{\"shape\":\"\"}},\"name\":\"FC LEIPZIG\",\"offsetgroup\":\"FC LEIPZIG\",\"orientation\":\"v\",\"showlegend\":true,\"textposition\":\"auto\",\"x\":[2000,2001,2002],\"xaxis\":\"x\",\"y\":[1,1,1],\"yaxis\":\"y\",\"type\":\"bar\"},{\"alignmentgroup\":\"True\",\"hovertemplate\":\"Club=LA\\u0160SSKFZ<br>Year=%{x}<br>count=%{y}<extra></extra>\",\"legendgroup\":\"LA\\u0160SSKFZ\",\"marker\":{\"color\":\"#EF553B\",\"pattern\":{\"shape\":\"\"}},\"name\":\"LA\\u0160SSKFZ\",\"offsetgroup\":\"LA\\u0160SSKFZ\",\"orientation\":\"v\",\"showlegend\":true,\"textposition\":\"auto\",\"x\":[2000],\"xaxis\":\"x\",\"y\":[1],\"yaxis\":\"y\",\"type\":\"bar\"},{\"alignmentgroup\":\"True\",\"hovertemplate\":\"Club=JPN<br>Year=%{x}<br>count=%{y}<extra></extra>\",\"legendgroup\":\"JPN\",\"marker\":{\"color\":\"#00cc96\",\"pattern\":{\"shape\":\"\"}},\"name\":\"JPN\",\"offsetgroup\":\"JPN\",\"orientation\":\"v\",\"showlegend\":true,\"textposition\":\"auto\",\"x\":[2002],\"xaxis\":\"x\",\"y\":[1],\"yaxis\":\"y\",\"type\":\"bar\"},{\"alignmentgroup\":\"True\",\"hovertemplate\":\"Club=RADEBEUL<br>Year=%{x}<br>count=%{y}<extra></extra>\",\"legendgroup\":\"RADEBEUL\",\"marker\":{\"color\":\"#ab63fa\",\"pattern\":{\"shape\":\"\"}},\"name\":\"RADEBEUL\",\"offsetgroup\":\"RADEBEUL\",\"orientation\":\"v\",\"showlegend\":true,\"textposition\":\"auto\",\"x\":[2002],\"xaxis\":\"x\",\"y\":[1],\"yaxis\":\"y\",\"type\":\"bar\"},{\"alignmentgroup\":\"True\",\"hovertemplate\":\"Club=SOKOL DEJVICE<br>Year=%{x}<br>count=%{y}<extra></extra>\",\"legendgroup\":\"SOKOL DEJVICE\",\"marker\":{\"color\":\"#FFA15A\",\"pattern\":{\"shape\":\"\"}},\"name\":\"SOKOL DEJVICE\",\"offsetgroup\":\"SOKOL DEJVICE\",\"orientation\":\"v\",\"showlegend\":true,\"textposition\":\"auto\",\"x\":[2002,2004],\"xaxis\":\"x\",\"y\":[1,1],\"yaxis\":\"y\",\"type\":\"bar\"},{\"alignmentgroup\":\"True\",\"hovertemplate\":\"Club=TJ LOKO TEPLICE<br>Year=%{x}<br>count=%{y}<extra></extra>\",\"legendgroup\":\"TJ LOKO TEPLICE\",\"marker\":{\"color\":\"#19d3f3\",\"pattern\":{\"shape\":\"\"}},\"name\":\"TJ LOKO TEPLICE\",\"offsetgroup\":\"TJ LOKO TEPLICE\",\"orientation\":\"v\",\"showlegend\":true,\"textposition\":\"auto\",\"x\":[2002,2004,2005,2008],\"xaxis\":\"x\",\"y\":[1,2,3,1],\"yaxis\":\"y\",\"type\":\"bar\"},{\"alignmentgroup\":\"True\",\"hovertemplate\":\"Club=VUT BRNO<br>Year=%{x}<br>count=%{y}<extra></extra>\",\"legendgroup\":\"VUT BRNO\",\"marker\":{\"color\":\"#FF6692\",\"pattern\":{\"shape\":\"\"}},\"name\":\"VUT BRNO\",\"offsetgroup\":\"VUT BRNO\",\"orientation\":\"v\",\"showlegend\":true,\"textposition\":\"auto\",\"x\":[2002],\"xaxis\":\"x\",\"y\":[1],\"yaxis\":\"y\",\"type\":\"bar\"},{\"alignmentgroup\":\"True\",\"hovertemplate\":\"Club=JISKRA H.BROD<br>Year=%{x}<br>count=%{y}<extra></extra>\",\"legendgroup\":\"JISKRA H.BROD\",\"marker\":{\"color\":\"#B6E880\",\"pattern\":{\"shape\":\"\"}},\"name\":\"JISKRA H.BROD\",\"offsetgroup\":\"JISKRA H.BROD\",\"orientation\":\"v\",\"showlegend\":true,\"textposition\":\"auto\",\"x\":[2004],\"xaxis\":\"x\",\"y\":[1],\"yaxis\":\"y\",\"type\":\"bar\"},{\"alignmentgroup\":\"True\",\"hovertemplate\":\"Club=SLAVOJ LITOM\\u011a\\u0158ICE<br>Year=%{x}<br>count=%{y}<extra></extra>\",\"legendgroup\":\"SLAVOJ LITOM\\u011a\\u0158ICE\",\"marker\":{\"color\":\"#FF97FF\",\"pattern\":{\"shape\":\"\"}},\"name\":\"SLAVOJ LITOM\\u011a\\u0158ICE\",\"offsetgroup\":\"SLAVOJ LITOM\\u011a\\u0158ICE\",\"orientation\":\"v\",\"showlegend\":true,\"textposition\":\"auto\",\"x\":[2005,2006,2007],\"xaxis\":\"x\",\"y\":[2,2,1],\"yaxis\":\"y\",\"type\":\"bar\"}],                        {\"template\":{\"data\":{\"bar\":[{\"error_x\":{\"color\":\"#2a3f5f\"},\"error_y\":{\"color\":\"#2a3f5f\"},\"marker\":{\"line\":{\"color\":\"#E5ECF6\",\"width\":0.5},\"pattern\":{\"fillmode\":\"overlay\",\"size\":10,\"solidity\":0.2}},\"type\":\"bar\"}],\"barpolar\":[{\"marker\":{\"line\":{\"color\":\"#E5ECF6\",\"width\":0.5},\"pattern\":{\"fillmode\":\"overlay\",\"size\":10,\"solidity\":0.2}},\"type\":\"barpolar\"}],\"carpet\":[{\"aaxis\":{\"endlinecolor\":\"#2a3f5f\",\"gridcolor\":\"white\",\"linecolor\":\"white\",\"minorgridcolor\":\"white\",\"startlinecolor\":\"#2a3f5f\"},\"baxis\":{\"endlinecolor\":\"#2a3f5f\",\"gridcolor\":\"white\",\"linecolor\":\"white\",\"minorgridcolor\":\"white\",\"startlinecolor\":\"#2a3f5f\"},\"type\":\"carpet\"}],\"choropleth\":[{\"colorbar\":{\"outlinewidth\":0,\"ticks\":\"\"},\"type\":\"choropleth\"}],\"contour\":[{\"colorbar\":{\"outlinewidth\":0,\"ticks\":\"\"},\"colorscale\":[[0.0,\"#0d0887\"],[0.1111111111111111,\"#46039f\"],[0.2222222222222222,\"#7201a8\"],[0.3333333333333333,\"#9c179e\"],[0.4444444444444444,\"#bd3786\"],[0.5555555555555556,\"#d8576b\"],[0.6666666666666666,\"#ed7953\"],[0.7777777777777778,\"#fb9f3a\"],[0.8888888888888888,\"#fdca26\"],[1.0,\"#f0f921\"]],\"type\":\"contour\"}],\"contourcarpet\":[{\"colorbar\":{\"outlinewidth\":0,\"ticks\":\"\"},\"type\":\"contourcarpet\"}],\"heatmap\":[{\"colorbar\":{\"outlinewidth\":0,\"ticks\":\"\"},\"colorscale\":[[0.0,\"#0d0887\"],[0.1111111111111111,\"#46039f\"],[0.2222222222222222,\"#7201a8\"],[0.3333333333333333,\"#9c179e\"],[0.4444444444444444,\"#bd3786\"],[0.5555555555555556,\"#d8576b\"],[0.6666666666666666,\"#ed7953\"],[0.7777777777777778,\"#fb9f3a\"],[0.8888888888888888,\"#fdca26\"],[1.0,\"#f0f921\"]],\"type\":\"heatmap\"}],\"heatmapgl\":[{\"colorbar\":{\"outlinewidth\":0,\"ticks\":\"\"},\"colorscale\":[[0.0,\"#0d0887\"],[0.1111111111111111,\"#46039f\"],[0.2222222222222222,\"#7201a8\"],[0.3333333333333333,\"#9c179e\"],[0.4444444444444444,\"#bd3786\"],[0.5555555555555556,\"#d8576b\"],[0.6666666666666666,\"#ed7953\"],[0.7777777777777778,\"#fb9f3a\"],[0.8888888888888888,\"#fdca26\"],[1.0,\"#f0f921\"]],\"type\":\"heatmapgl\"}],\"histogram\":[{\"marker\":{\"pattern\":{\"fillmode\":\"overlay\",\"size\":10,\"solidity\":0.2}},\"type\":\"histogram\"}],\"histogram2d\":[{\"colorbar\":{\"outlinewidth\":0,\"ticks\":\"\"},\"colorscale\":[[0.0,\"#0d0887\"],[0.1111111111111111,\"#46039f\"],[0.2222222222222222,\"#7201a8\"],[0.3333333333333333,\"#9c179e\"],[0.4444444444444444,\"#bd3786\"],[0.5555555555555556,\"#d8576b\"],[0.6666666666666666,\"#ed7953\"],[0.7777777777777778,\"#fb9f3a\"],[0.8888888888888888,\"#fdca26\"],[1.0,\"#f0f921\"]],\"type\":\"histogram2d\"}],\"histogram2dcontour\":[{\"colorbar\":{\"outlinewidth\":0,\"ticks\":\"\"},\"colorscale\":[[0.0,\"#0d0887\"],[0.1111111111111111,\"#46039f\"],[0.2222222222222222,\"#7201a8\"],[0.3333333333333333,\"#9c179e\"],[0.4444444444444444,\"#bd3786\"],[0.5555555555555556,\"#d8576b\"],[0.6666666666666666,\"#ed7953\"],[0.7777777777777778,\"#fb9f3a\"],[0.8888888888888888,\"#fdca26\"],[1.0,\"#f0f921\"]],\"type\":\"histogram2dcontour\"}],\"mesh3d\":[{\"colorbar\":{\"outlinewidth\":0,\"ticks\":\"\"},\"type\":\"mesh3d\"}],\"parcoords\":[{\"line\":{\"colorbar\":{\"outlinewidth\":0,\"ticks\":\"\"}},\"type\":\"parcoords\"}],\"pie\":[{\"automargin\":true,\"type\":\"pie\"}],\"scatter\":[{\"marker\":{\"colorbar\":{\"outlinewidth\":0,\"ticks\":\"\"}},\"type\":\"scatter\"}],\"scatter3d\":[{\"line\":{\"colorbar\":{\"outlinewidth\":0,\"ticks\":\"\"}},\"marker\":{\"colorbar\":{\"outlinewidth\":0,\"ticks\":\"\"}},\"type\":\"scatter3d\"}],\"scattercarpet\":[{\"marker\":{\"colorbar\":{\"outlinewidth\":0,\"ticks\":\"\"}},\"type\":\"scattercarpet\"}],\"scattergeo\":[{\"marker\":{\"colorbar\":{\"outlinewidth\":0,\"ticks\":\"\"}},\"type\":\"scattergeo\"}],\"scattergl\":[{\"marker\":{\"colorbar\":{\"outlinewidth\":0,\"ticks\":\"\"}},\"type\":\"scattergl\"}],\"scattermapbox\":[{\"marker\":{\"colorbar\":{\"outlinewidth\":0,\"ticks\":\"\"}},\"type\":\"scattermapbox\"}],\"scatterpolar\":[{\"marker\":{\"colorbar\":{\"outlinewidth\":0,\"ticks\":\"\"}},\"type\":\"scatterpolar\"}],\"scatterpolargl\":[{\"marker\":{\"colorbar\":{\"outlinewidth\":0,\"ticks\":\"\"}},\"type\":\"scatterpolargl\"}],\"scatterternary\":[{\"marker\":{\"colorbar\":{\"outlinewidth\":0,\"ticks\":\"\"}},\"type\":\"scatterternary\"}],\"surface\":[{\"colorbar\":{\"outlinewidth\":0,\"ticks\":\"\"},\"colorscale\":[[0.0,\"#0d0887\"],[0.1111111111111111,\"#46039f\"],[0.2222222222222222,\"#7201a8\"],[0.3333333333333333,\"#9c179e\"],[0.4444444444444444,\"#bd3786\"],[0.5555555555555556,\"#d8576b\"],[0.6666666666666666,\"#ed7953\"],[0.7777777777777778,\"#fb9f3a\"],[0.8888888888888888,\"#fdca26\"],[1.0,\"#f0f921\"]],\"type\":\"surface\"}],\"table\":[{\"cells\":{\"fill\":{\"color\":\"#EBF0F8\"},\"line\":{\"color\":\"white\"}},\"header\":{\"fill\":{\"color\":\"#C8D4E3\"},\"line\":{\"color\":\"white\"}},\"type\":\"table\"}]},\"layout\":{\"annotationdefaults\":{\"arrowcolor\":\"#2a3f5f\",\"arrowhead\":0,\"arrowwidth\":1},\"autotypenumbers\":\"strict\",\"coloraxis\":{\"colorbar\":{\"outlinewidth\":0,\"ticks\":\"\"}},\"colorscale\":{\"diverging\":[[0,\"#8e0152\"],[0.1,\"#c51b7d\"],[0.2,\"#de77ae\"],[0.3,\"#f1b6da\"],[0.4,\"#fde0ef\"],[0.5,\"#f7f7f7\"],[0.6,\"#e6f5d0\"],[0.7,\"#b8e186\"],[0.8,\"#7fbc41\"],[0.9,\"#4d9221\"],[1,\"#276419\"]],\"sequential\":[[0.0,\"#0d0887\"],[0.1111111111111111,\"#46039f\"],[0.2222222222222222,\"#7201a8\"],[0.3333333333333333,\"#9c179e\"],[0.4444444444444444,\"#bd3786\"],[0.5555555555555556,\"#d8576b\"],[0.6666666666666666,\"#ed7953\"],[0.7777777777777778,\"#fb9f3a\"],[0.8888888888888888,\"#fdca26\"],[1.0,\"#f0f921\"]],\"sequentialminus\":[[0.0,\"#0d0887\"],[0.1111111111111111,\"#46039f\"],[0.2222222222222222,\"#7201a8\"],[0.3333333333333333,\"#9c179e\"],[0.4444444444444444,\"#bd3786\"],[0.5555555555555556,\"#d8576b\"],[0.6666666666666666,\"#ed7953\"],[0.7777777777777778,\"#fb9f3a\"],[0.8888888888888888,\"#fdca26\"],[1.0,\"#f0f921\"]]},\"colorway\":[\"#636efa\",\"#EF553B\",\"#00cc96\",\"#ab63fa\",\"#FFA15A\",\"#19d3f3\",\"#FF6692\",\"#B6E880\",\"#FF97FF\",\"#FECB52\"],\"font\":{\"color\":\"#2a3f5f\"},\"geo\":{\"bgcolor\":\"white\",\"lakecolor\":\"white\",\"landcolor\":\"#E5ECF6\",\"showlakes\":true,\"showland\":true,\"subunitcolor\":\"white\"},\"hoverlabel\":{\"align\":\"left\"},\"hovermode\":\"closest\",\"mapbox\":{\"style\":\"light\"},\"paper_bgcolor\":\"white\",\"plot_bgcolor\":\"#E5ECF6\",\"polar\":{\"angularaxis\":{\"gridcolor\":\"white\",\"linecolor\":\"white\",\"ticks\":\"\"},\"bgcolor\":\"#E5ECF6\",\"radialaxis\":{\"gridcolor\":\"white\",\"linecolor\":\"white\",\"ticks\":\"\"}},\"scene\":{\"xaxis\":{\"backgroundcolor\":\"#E5ECF6\",\"gridcolor\":\"white\",\"gridwidth\":2,\"linecolor\":\"white\",\"showbackground\":true,\"ticks\":\"\",\"zerolinecolor\":\"white\"},\"yaxis\":{\"backgroundcolor\":\"#E5ECF6\",\"gridcolor\":\"white\",\"gridwidth\":2,\"linecolor\":\"white\",\"showbackground\":true,\"ticks\":\"\",\"zerolinecolor\":\"white\"},\"zaxis\":{\"backgroundcolor\":\"#E5ECF6\",\"gridcolor\":\"white\",\"gridwidth\":2,\"linecolor\":\"white\",\"showbackground\":true,\"ticks\":\"\",\"zerolinecolor\":\"white\"}},\"shapedefaults\":{\"line\":{\"color\":\"#2a3f5f\"}},\"ternary\":{\"aaxis\":{\"gridcolor\":\"white\",\"linecolor\":\"white\",\"ticks\":\"\"},\"baxis\":{\"gridcolor\":\"white\",\"linecolor\":\"white\",\"ticks\":\"\"},\"bgcolor\":\"#E5ECF6\",\"caxis\":{\"gridcolor\":\"white\",\"linecolor\":\"white\",\"ticks\":\"\"}},\"title\":{\"x\":0.05},\"xaxis\":{\"automargin\":true,\"gridcolor\":\"white\",\"linecolor\":\"white\",\"ticks\":\"\",\"title\":{\"standoff\":15},\"zerolinecolor\":\"white\",\"zerolinewidth\":2},\"yaxis\":{\"automargin\":true,\"gridcolor\":\"white\",\"linecolor\":\"white\",\"ticks\":\"\",\"title\":{\"standoff\":15},\"zerolinecolor\":\"white\",\"zerolinewidth\":2}}},\"xaxis\":{\"anchor\":\"y\",\"domain\":[0.0,1.0],\"title\":{\"text\":\"Year\"},\"tickvals\":[1972,1973,1975,1978,1978,1980,1984,1988,1989,1989,1990,1990,1991,1991,1991,1991,1991,1991,1991,1992,1993,1994,1995,1995,1995,1995,1995,1996,1996,1996,1997,1997,1997,1997,1997,1998,1998,1998,1998,1999,1999,1999,1999,1999,1999,1999,1999,1999,2000,2000,2000,2000,2000,2000,2000,2000,2001,2001,2001,2001,2002,2002,2002,2002,2002,2002,2002,2002,2002,2002,2002,2002,2003,2003,2003,2004,2004,2004,2004,2004,2005,2005,2005,2005,2005,2005,2006,2006,2006,2006,2006,2006,2007,2007,2007,2007,2007,2008,2008,2008,2008,2009,2009],\"tickangle\":-90},\"yaxis\":{\"anchor\":\"x\",\"domain\":[0.0,1.0],\"title\":{\"text\":\"count\"}},\"legend\":{\"title\":{\"text\":\"Club\"},\"tracegroupgap\":0},\"title\":{\"text\":\"Z\\u00e1vodn\\u00edci podle roku narozen\\u00ed a Klubu\"},\"barmode\":\"relative\",\"height\":700,\"width\":950},                        {\"responsive\": true}                    ).then(function(){\n",
       "                            \n",
       "var gd = document.getElementById('0432b015-7bf7-48b5-905e-81f79940dd72');\n",
       "var x = new MutationObserver(function (mutations, observer) {{\n",
       "        var display = window.getComputedStyle(gd).display;\n",
       "        if (!display || display === 'none') {{\n",
       "            console.log([gd, 'removed!']);\n",
       "            Plotly.purge(gd);\n",
       "            observer.disconnect();\n",
       "        }}\n",
       "}});\n",
       "\n",
       "// Listen for the removal of the full notebook cells\n",
       "var notebookContainer = gd.closest('#notebook-container');\n",
       "if (notebookContainer) {{\n",
       "    x.observe(notebookContainer, {childList: true});\n",
       "}}\n",
       "\n",
       "// Listen for the clearing of the current output cell\n",
       "var outputEl = gd.closest('.output');\n",
       "if (outputEl) {{\n",
       "    x.observe(outputEl, {childList: true});\n",
       "}}\n",
       "\n",
       "                        })                };                });            </script>        </div>"
      ]
     },
     "metadata": {},
     "output_type": "display_data"
    }
   ],
   "source": [
    "# obyčejný groupby podle dvou sloupců nestačí:\n",
    "# d1 = df.groupby(['Year', \"Club\"])[\"Year\"].count() \n",
    "# potřbeuju z toho udělat standardní dataframe se všemi popsanými řádky\n",
    "# 1960 - Club - počet,, 1960 - Klub 2 - počet 2\n",
    "\n",
    "#https://stackoverflow.com/questions/10373660/converting-a-pandas-groupby-output-from-series-to-dataframe\n",
    "d2 = pd.DataFrame({'count' : df.groupby( [ 'Year', \"Club\"] ).size()}).reset_index()\n",
    "#d2\n",
    "\n",
    "fig = px.bar(d2, x= d2[\"Year\"],\n",
    "             y= d2[\"count\"], \n",
    "             color = d2[\"Club\"] ,\n",
    "             #text_auto='.0s',       # případně můžu zap/vyp číselné popisky\n",
    "             width=950, height=700,\n",
    "             title=\"Závodníci podle roku narození a Klubu\")\n",
    "\n",
    "#fig.update_traces(textfont_size=12, textangle=0, cliponaxis=False)\n",
    "fig.update_layout(xaxis = dict(tickvals = d2[\"Year\"]))\n",
    "fig.update_xaxes(tickangle=270)\n",
    "\n",
    "fig.show()\n",
    "\n",
    "pio.write_html(fig, file = f\"vizualizace/V1_Year-Club_{SEX}.html\", auto_open=True)\n",
    "\n",
    "# ještě jde přidat dropdown například pro Pohlaví. případně checkboxy by byly super\n",
    "# https://plotly.com/python/bar-charts/"
   ]
  },
  {
   "cell_type": "markdown",
   "id": "35de7d76-e8f3-40b1-a231-7bb28f3b88fa",
   "metadata": {},
   "source": [
    "## II.1.2 - Počty závodníků podle klubů\n",
    "#### Zde by se hodil rozpad na může a ženy, v plotly verzi "
   ]
  },
  {
   "cell_type": "code",
   "execution_count": 35,
   "id": "b3fe8297-a508-49a0-ba26-c97ba34e441c",
   "metadata": {},
   "outputs": [
    {
     "data": {
      "image/png": "[encoded data removed]",
      "text/plain": [
       "<Figure size 1000x400 with 1 Axes>"
      ]
     },
     "metadata": {
      "needs_background": "light"
     },
     "output_type": "display_data"
    }
   ],
   "source": [
    "# Verze 2 - přes Dictionary\n",
    "# https://www.includehelp.com/python/groupby-results-to-dictionary-of-lists.aspx\n",
    "# https://matplotlib.org/stable/gallery/lines_bars_and_markers/categorical_variables.html\n",
    "\n",
    "figure(figsize=(10, 4), dpi=100)\n",
    "\n",
    "clubs = df.groupby(['Club'])['Club'].count().to_dict()\n",
    "clubs = dict(sorted(clubs.items(), key=lambda item: item[1], reverse = True))\n",
    "\n",
    "plt.xticks(rotation='vertical')                             # muselo se tu jen odebrat to jméno z labelů, kůli problémům že to je kategorická proměnná\n",
    "plt.bar(list(clubs.keys()), list(clubs.values()), width=0.8)# šířka sloupečku\n",
    "\n",
    "plt.show()"
   ]
  },
  {
   "cell_type": "code",
   "execution_count": 43,
   "id": "54e6f6f3-c206-4905-a9c2-16852a514f6a",
   "metadata": {},
   "outputs": [
    {
     "data": {
      "application/vnd.plotly.v1+json": {
       "config": {
        "plotlyServerURL": "https://plot.ly"
       },
       "data": [
        {
         "alignmentgroup": "True",
         "hovertemplate": "Club=%{x}<br>count=%{y}<extra></extra>",
         "legendgroup": "SC PRAHA",
         "marker": {
          "color": "#636efa",
          "pattern": {
           "shape": ""
          }
         },
         "name": "SC PRAHA",
         "offsetgroup": "SC PRAHA",
         "orientation": "v",
         "showlegend": true,
         "textposition": "auto",
         "texttemplate": "%{y:.0f}",
         "type": "bar",
         "x": [
          "SC PRAHA"
         ],
         "xaxis": "x",
         "y": [
          27
         ],
         "yaxis": "y"
        },
        {
         "alignmentgroup": "True",
         "hovertemplate": "Club=%{x}<br>count=%{y}<extra></extra>",
         "legendgroup": "TJ DUKLA PRAHA",
         "marker": {
          "color": "#EF553B",
          "pattern": {
           "shape": ""
          }
         },
         "name": "TJ DUKLA PRAHA",
         "offsetgroup": "TJ DUKLA PRAHA",
         "orientation": "v",
         "showlegend": true,
         "textposition": "auto",
         "texttemplate": "%{y:.0f}",
         "type": "bar",
         "x": [
          "TJ DUKLA PRAHA"
         ],
         "xaxis": "x",
         "y": [
          17
         ],
         "yaxis": "y"
        },
        {
         "alignmentgroup": "True",
         "hovertemplate": "Club=%{x}<br>count=%{y}<extra></extra>",
         "legendgroup": "DUKLA OLOMOUC",
         "marker": {
          "color": "#00cc96",
          "pattern": {
           "shape": ""
          }
         },
         "name": "DUKLA OLOMOUC",
         "offsetgroup": "DUKLA OLOMOUC",
         "orientation": "v",
         "showlegend": true,
         "textposition": "auto",
         "texttemplate": "%{y:.0f}",
         "type": "bar",
         "x": [
          "DUKLA OLOMOUC"
         ],
         "xaxis": "x",
         "y": [
          15
         ],
         "yaxis": "y"
        },
        {
         "alignmentgroup": "True",
         "hovertemplate": "Club=%{x}<br>count=%{y}<extra></extra>",
         "legendgroup": "VSK HUMANITA",
         "marker": {
          "color": "#ab63fa",
          "pattern": {
           "shape": ""
          }
         },
         "name": "VSK HUMANITA",
         "offsetgroup": "VSK HUMANITA",
         "orientation": "v",
         "showlegend": true,
         "textposition": "auto",
         "texttemplate": "%{y:.0f}",
         "type": "bar",
         "x": [
          "VSK HUMANITA"
         ],
         "xaxis": "x",
         "y": [
          10
         ],
         "yaxis": "y"
        },
        {
         "alignmentgroup": "True",
         "hovertemplate": "Club=%{x}<br>count=%{y}<extra></extra>",
         "legendgroup": "TJ LOKO PLZEN",
         "marker": {
          "color": "#FFA15A",
          "pattern": {
           "shape": ""
          }
         },
         "name": "TJ LOKO PLZEN",
         "offsetgroup": "TJ LOKO PLZEN",
         "orientation": "v",
         "showlegend": true,
         "textposition": "auto",
         "texttemplate": "%{y:.0f}",
         "type": "bar",
         "x": [
          "TJ LOKO PLZEN"
         ],
         "xaxis": "x",
         "y": [
          8
         ],
         "yaxis": "y"
        },
        {
         "alignmentgroup": "True",
         "hovertemplate": "Club=%{x}<br>count=%{y}<extra></extra>",
         "legendgroup": "USK PRAHA",
         "marker": {
          "color": "#19d3f3",
          "pattern": {
           "shape": ""
          }
         },
         "name": "USK PRAHA",
         "offsetgroup": "USK PRAHA",
         "orientation": "v",
         "showlegend": true,
         "textposition": "auto",
         "texttemplate": "%{y:.0f}",
         "type": "bar",
         "x": [
          "USK PRAHA"
         ],
         "xaxis": "x",
         "y": [
          7
         ],
         "yaxis": "y"
        },
        {
         "alignmentgroup": "True",
         "hovertemplate": "Club=%{x}<br>count=%{y}<extra></extra>",
         "legendgroup": "TJ LOKO TEPLICE",
         "marker": {
          "color": "#FF6692",
          "pattern": {
           "shape": ""
          }
         },
         "name": "TJ LOKO TEPLICE",
         "offsetgroup": "TJ LOKO TEPLICE",
         "orientation": "v",
         "showlegend": true,
         "textposition": "auto",
         "texttemplate": "%{y:.0f}",
         "type": "bar",
         "x": [
          "TJ LOKO TEPLICE"
         ],
         "xaxis": "x",
         "y": [
          7
         ],
         "yaxis": "y"
        },
        {
         "alignmentgroup": "True",
         "hovertemplate": "Club=%{x}<br>count=%{y}<extra></extra>",
         "legendgroup": "SLAVOJ LITOMĚŘICE",
         "marker": {
          "color": "#B6E880",
          "pattern": {
           "shape": ""
          }
         },
         "name": "SLAVOJ LITOMĚŘICE",
         "offsetgroup": "SLAVOJ LITOMĚŘICE",
         "orientation": "v",
         "showlegend": true,
         "textposition": "auto",
         "texttemplate": "%{y:.0f}",
         "type": "bar",
         "x": [
          "SLAVOJ LITOMĚŘICE"
         ],
         "xaxis": "x",
         "y": [
          5
         ],
         "yaxis": "y"
        },
        {
         "alignmentgroup": "True",
         "hovertemplate": "Club=%{x}<br>count=%{y}<extra></extra>",
         "legendgroup": "TJ LOKO K.VARY",
         "marker": {
          "color": "#FF97FF",
          "pattern": {
           "shape": ""
          }
         },
         "name": "TJ LOKO K.VARY",
         "offsetgroup": "TJ LOKO K.VARY",
         "orientation": "v",
         "showlegend": true,
         "textposition": "auto",
         "texttemplate": "%{y:.0f}",
         "type": "bar",
         "x": [
          "TJ LOKO K.VARY"
         ],
         "xaxis": "x",
         "y": [
          5
         ],
         "yaxis": "y"
        },
        {
         "alignmentgroup": "True",
         "hovertemplate": "Club=%{x}<br>count=%{y}<extra></extra>",
         "legendgroup": "SČ USTI NAD LABEM",
         "marker": {
          "color": "#FECB52",
          "pattern": {
           "shape": ""
          }
         },
         "name": "SČ USTI NAD LABEM",
         "offsetgroup": "SČ USTI NAD LABEM",
         "orientation": "v",
         "showlegend": true,
         "textposition": "auto",
         "texttemplate": "%{y:.0f}",
         "type": "bar",
         "x": [
          "SČ USTI NAD LABEM"
         ],
         "xaxis": "x",
         "y": [
          5
         ],
         "yaxis": "y"
        },
        {
         "alignmentgroup": "True",
         "hovertemplate": "Club=%{x}<br>count=%{y}<extra></extra>",
         "legendgroup": "VENEZUELA",
         "marker": {
          "color": "#636efa",
          "pattern": {
           "shape": ""
          }
         },
         "name": "VENEZUELA",
         "offsetgroup": "VENEZUELA",
         "orientation": "v",
         "showlegend": true,
         "textposition": "auto",
         "texttemplate": "%{y:.0f}",
         "type": "bar",
         "x": [
          "VENEZUELA"
         ],
         "xaxis": "x",
         "y": [
          4
         ],
         "yaxis": "y"
        },
        {
         "alignmentgroup": "True",
         "hovertemplate": "Club=%{x}<br>count=%{y}<extra></extra>",
         "legendgroup": "1.FC BELA POD BEZ",
         "marker": {
          "color": "#EF553B",
          "pattern": {
           "shape": ""
          }
         },
         "name": "1.FC BELA POD BEZ",
         "offsetgroup": "1.FC BELA POD BEZ",
         "orientation": "v",
         "showlegend": true,
         "textposition": "auto",
         "texttemplate": "%{y:.0f}",
         "type": "bar",
         "x": [
          "1.FC BELA POD BEZ"
         ],
         "xaxis": "x",
         "y": [
          4
         ],
         "yaxis": "y"
        },
        {
         "alignmentgroup": "True",
         "hovertemplate": "Club=%{x}<br>count=%{y}<extra></extra>",
         "legendgroup": "FC LEIPZIG",
         "marker": {
          "color": "#00cc96",
          "pattern": {
           "shape": ""
          }
         },
         "name": "FC LEIPZIG",
         "offsetgroup": "FC LEIPZIG",
         "orientation": "v",
         "showlegend": true,
         "textposition": "auto",
         "texttemplate": "%{y:.0f}",
         "type": "bar",
         "x": [
          "FC LEIPZIG"
         ],
         "xaxis": "x",
         "y": [
          3
         ],
         "yaxis": "y"
        },
        {
         "alignmentgroup": "True",
         "hovertemplate": "Club=%{x}<br>count=%{y}<extra></extra>",
         "legendgroup": "AŠ BRATISLAVA",
         "marker": {
          "color": "#ab63fa",
          "pattern": {
           "shape": ""
          }
         },
         "name": "AŠ BRATISLAVA",
         "offsetgroup": "AŠ BRATISLAVA",
         "orientation": "v",
         "showlegend": true,
         "textposition": "auto",
         "texttemplate": "%{y:.0f}",
         "type": "bar",
         "x": [
          "AŠ BRATISLAVA"
         ],
         "xaxis": "x",
         "y": [
          3
         ],
         "yaxis": "y"
        },
        {
         "alignmentgroup": "True",
         "hovertemplate": "Club=%{x}<br>count=%{y}<extra></extra>",
         "legendgroup": "SOKOL DEJVICE",
         "marker": {
          "color": "#FFA15A",
          "pattern": {
           "shape": ""
          }
         },
         "name": "SOKOL DEJVICE",
         "offsetgroup": "SOKOL DEJVICE",
         "orientation": "v",
         "showlegend": true,
         "textposition": "auto",
         "texttemplate": "%{y:.0f}",
         "type": "bar",
         "x": [
          "SOKOL DEJVICE"
         ],
         "xaxis": "x",
         "y": [
          2
         ],
         "yaxis": "y"
        },
        {
         "alignmentgroup": "True",
         "hovertemplate": "Club=%{x}<br>count=%{y}<extra></extra>",
         "legendgroup": "BOHEMIANS",
         "marker": {
          "color": "#19d3f3",
          "pattern": {
           "shape": ""
          }
         },
         "name": "BOHEMIANS",
         "offsetgroup": "BOHEMIANS",
         "orientation": "v",
         "showlegend": true,
         "textposition": "auto",
         "texttemplate": "%{y:.0f}",
         "type": "bar",
         "x": [
          "BOHEMIANS"
         ],
         "xaxis": "x",
         "y": [
          2
         ],
         "yaxis": "y"
        },
        {
         "alignmentgroup": "True",
         "hovertemplate": "Club=%{x}<br>count=%{y}<extra></extra>",
         "legendgroup": "UKRAJINA",
         "marker": {
          "color": "#FF6692",
          "pattern": {
           "shape": ""
          }
         },
         "name": "UKRAJINA",
         "offsetgroup": "UKRAJINA",
         "orientation": "v",
         "showlegend": true,
         "textposition": "auto",
         "texttemplate": "%{y:.0f}",
         "type": "bar",
         "x": [
          "UKRAJINA"
         ],
         "xaxis": "x",
         "y": [
          2
         ],
         "yaxis": "y"
        },
        {
         "alignmentgroup": "True",
         "hovertemplate": "Club=%{x}<br>count=%{y}<extra></extra>",
         "legendgroup": "TJ SOKOL PÍSEK",
         "marker": {
          "color": "#B6E880",
          "pattern": {
           "shape": ""
          }
         },
         "name": "TJ SOKOL PÍSEK",
         "offsetgroup": "TJ SOKOL PÍSEK",
         "orientation": "v",
         "showlegend": true,
         "textposition": "auto",
         "texttemplate": "%{y:.0f}",
         "type": "bar",
         "x": [
          "TJ SOKOL PÍSEK"
         ],
         "xaxis": "x",
         "y": [
          2
         ],
         "yaxis": "y"
        },
        {
         "alignmentgroup": "True",
         "hovertemplate": "Club=%{x}<br>count=%{y}<extra></extra>",
         "legendgroup": "RIEGEL PRAHA",
         "marker": {
          "color": "#FF97FF",
          "pattern": {
           "shape": ""
          }
         },
         "name": "RIEGEL PRAHA",
         "offsetgroup": "RIEGEL PRAHA",
         "orientation": "v",
         "showlegend": true,
         "textposition": "auto",
         "texttemplate": "%{y:.0f}",
         "type": "bar",
         "x": [
          "RIEGEL PRAHA"
         ],
         "xaxis": "x",
         "y": [
          1
         ],
         "yaxis": "y"
        },
        {
         "alignmentgroup": "True",
         "hovertemplate": "Club=%{x}<br>count=%{y}<extra></extra>",
         "legendgroup": "VUT BRNO",
         "marker": {
          "color": "#FECB52",
          "pattern": {
           "shape": ""
          }
         },
         "name": "VUT BRNO",
         "offsetgroup": "VUT BRNO",
         "orientation": "v",
         "showlegend": true,
         "textposition": "auto",
         "texttemplate": "%{y:.0f}",
         "type": "bar",
         "x": [
          "VUT BRNO"
         ],
         "xaxis": "x",
         "y": [
          1
         ],
         "yaxis": "y"
        },
        {
         "alignmentgroup": "True",
         "hovertemplate": "Club=%{x}<br>count=%{y}<extra></extra>",
         "legendgroup": "EKONOM PRAHA",
         "marker": {
          "color": "#636efa",
          "pattern": {
           "shape": ""
          }
         },
         "name": "EKONOM PRAHA",
         "offsetgroup": "EKONOM PRAHA",
         "orientation": "v",
         "showlegend": true,
         "textposition": "auto",
         "texttemplate": "%{y:.0f}",
         "type": "bar",
         "x": [
          "EKONOM PRAHA"
         ],
         "xaxis": "x",
         "y": [
          1
         ],
         "yaxis": "y"
        },
        {
         "alignmentgroup": "True",
         "hovertemplate": "Club=%{x}<br>count=%{y}<extra></extra>",
         "legendgroup": "JISKRA H.BROD",
         "marker": {
          "color": "#EF553B",
          "pattern": {
           "shape": ""
          }
         },
         "name": "JISKRA H.BROD",
         "offsetgroup": "JISKRA H.BROD",
         "orientation": "v",
         "showlegend": true,
         "textposition": "auto",
         "texttemplate": "%{y:.0f}",
         "type": "bar",
         "x": [
          "JISKRA H.BROD"
         ],
         "xaxis": "x",
         "y": [
          1
         ],
         "yaxis": "y"
        },
        {
         "alignmentgroup": "True",
         "hovertemplate": "Club=%{x}<br>count=%{y}<extra></extra>",
         "legendgroup": "RADEBEUL",
         "marker": {
          "color": "#00cc96",
          "pattern": {
           "shape": ""
          }
         },
         "name": "RADEBEUL",
         "offsetgroup": "RADEBEUL",
         "orientation": "v",
         "showlegend": true,
         "textposition": "auto",
         "texttemplate": "%{y:.0f}",
         "type": "bar",
         "x": [
          "RADEBEUL"
         ],
         "xaxis": "x",
         "y": [
          1
         ],
         "yaxis": "y"
        },
        {
         "alignmentgroup": "True",
         "hovertemplate": "Club=%{x}<br>count=%{y}<extra></extra>",
         "legendgroup": "JPN",
         "marker": {
          "color": "#ab63fa",
          "pattern": {
           "shape": ""
          }
         },
         "name": "JPN",
         "offsetgroup": "JPN",
         "orientation": "v",
         "showlegend": true,
         "textposition": "auto",
         "texttemplate": "%{y:.0f}",
         "type": "bar",
         "x": [
          "JPN"
         ],
         "xaxis": "x",
         "y": [
          1
         ],
         "yaxis": "y"
        },
        {
         "alignmentgroup": "True",
         "hovertemplate": "Club=%{x}<br>count=%{y}<extra></extra>",
         "legendgroup": "LAŠSSKFZ",
         "marker": {
          "color": "#FFA15A",
          "pattern": {
           "shape": ""
          }
         },
         "name": "LAŠSSKFZ",
         "offsetgroup": "LAŠSSKFZ",
         "orientation": "v",
         "showlegend": true,
         "textposition": "auto",
         "texttemplate": "%{y:.0f}",
         "type": "bar",
         "x": [
          "LAŠSSKFZ"
         ],
         "xaxis": "x",
         "y": [
          1
         ],
         "yaxis": "y"
        },
        {
         "alignmentgroup": "True",
         "hovertemplate": "Club=%{x}<br>count=%{y}<extra></extra>",
         "legendgroup": "OREL HR.KR.",
         "marker": {
          "color": "#19d3f3",
          "pattern": {
           "shape": ""
          }
         },
         "name": "OREL HR.KR.",
         "offsetgroup": "OREL HR.KR.",
         "orientation": "v",
         "showlegend": true,
         "textposition": "auto",
         "texttemplate": "%{y:.0f}",
         "type": "bar",
         "x": [
          "OREL HR.KR."
         ],
         "xaxis": "x",
         "y": [
          1
         ],
         "yaxis": "y"
        },
        {
         "alignmentgroup": "True",
         "hovertemplate": "Club=%{x}<br>count=%{y}<extra></extra>",
         "legendgroup": "SS UH.HRADISTE",
         "marker": {
          "color": "#FF6692",
          "pattern": {
           "shape": ""
          }
         },
         "name": "SS UH.HRADISTE",
         "offsetgroup": "SS UH.HRADISTE",
         "orientation": "v",
         "showlegend": true,
         "textposition": "auto",
         "texttemplate": "%{y:.0f}",
         "type": "bar",
         "x": [
          "SS UH.HRADISTE"
         ],
         "xaxis": "x",
         "y": [
          1
         ],
         "yaxis": "y"
        },
        {
         "alignmentgroup": "True",
         "hovertemplate": "Club=%{x}<br>count=%{y}<extra></extra>",
         "legendgroup": "ASBVA",
         "marker": {
          "color": "#B6E880",
          "pattern": {
           "shape": ""
          }
         },
         "name": "ASBVA",
         "offsetgroup": "ASBVA",
         "orientation": "v",
         "showlegend": true,
         "textposition": "auto",
         "texttemplate": "%{y:.0f}",
         "type": "bar",
         "x": [
          "ASBVA"
         ],
         "xaxis": "x",
         "y": [
          1
         ],
         "yaxis": "y"
        },
        {
         "alignmentgroup": "True",
         "hovertemplate": "Club=%{x}<br>count=%{y}<extra></extra>",
         "legendgroup": "ŠK RIEGEL",
         "marker": {
          "color": "#FF97FF",
          "pattern": {
           "shape": ""
          }
         },
         "name": "ŠK RIEGEL",
         "offsetgroup": "ŠK RIEGEL",
         "orientation": "v",
         "showlegend": true,
         "textposition": "auto",
         "texttemplate": "%{y:.0f}",
         "type": "bar",
         "x": [
          "ŠK RIEGEL"
         ],
         "xaxis": "x",
         "y": [
          1
         ],
         "yaxis": "y"
        }
       ],
       "layout": {
        "barmode": "relative",
        "height": 700,
        "legend": {
         "title": {
          "text": "Club"
         },
         "tracegroupgap": 0
        },
        "template": {
         "data": {
          "bar": [
           {
            "error_x": {
             "color": "#2a3f5f"
            },
            "error_y": {
             "color": "#2a3f5f"
            },
            "marker": {
             "line": {
              "color": "#E5ECF6",
              "width": 0.5
             },
             "pattern": {
              "fillmode": "overlay",
              "size": 10,
              "solidity": 0.2
             }
            },
            "type": "bar"
           }
          ],
          "barpolar": [
           {
            "marker": {
             "line": {
              "color": "#E5ECF6",
              "width": 0.5
             },
             "pattern": {
              "fillmode": "overlay",
              "size": 10,
              "solidity": 0.2
             }
            },
            "type": "barpolar"
           }
          ],
          "carpet": [
           {
            "aaxis": {
             "endlinecolor": "#2a3f5f",
             "gridcolor": "white",
             "linecolor": "white",
             "minorgridcolor": "white",
             "startlinecolor": "#2a3f5f"
            },
            "baxis": {
             "endlinecolor": "#2a3f5f",
             "gridcolor": "white",
             "linecolor": "white",
             "minorgridcolor": "white",
             "startlinecolor": "#2a3f5f"
            },
            "type": "carpet"
           }
          ],
          "choropleth": [
           {
            "colorbar": {
             "outlinewidth": 0,
             "ticks": ""
            },
            "type": "choropleth"
           }
          ],
          "contour": [
           {
            "colorbar": {
             "outlinewidth": 0,
             "ticks": ""
            },
            "colorscale": [
             [
              0,
              "#0d0887"
             ],
             [
              0.1111111111111111,
              "#46039f"
             ],
             [
              0.2222222222222222,
              "#7201a8"
             ],
             [
              0.3333333333333333,
              "#9c179e"
             ],
             [
              0.4444444444444444,
              "#bd3786"
             ],
             [
              0.5555555555555556,
              "#d8576b"
             ],
             [
              0.6666666666666666,
              "#ed7953"
             ],
             [
              0.7777777777777778,
              "#fb9f3a"
             ],
             [
              0.8888888888888888,
              "#fdca26"
             ],
             [
              1,
              "#f0f921"
             ]
            ],
            "type": "contour"
           }
          ],
          "contourcarpet": [
           {
            "colorbar": {
             "outlinewidth": 0,
             "ticks": ""
            },
            "type": "contourcarpet"
           }
          ],
          "heatmap": [
           {
            "colorbar": {
             "outlinewidth": 0,
             "ticks": ""
            },
            "colorscale": [
             [
              0,
              "#0d0887"
             ],
             [
              0.1111111111111111,
              "#46039f"
             ],
             [
              0.2222222222222222,
              "#7201a8"
             ],
             [
              0.3333333333333333,
              "#9c179e"
             ],
             [
              0.4444444444444444,
              "#bd3786"
             ],
             [
              0.5555555555555556,
              "#d8576b"
             ],
             [
              0.6666666666666666,
              "#ed7953"
             ],
             [
              0.7777777777777778,
              "#fb9f3a"
             ],
             [
              0.8888888888888888,
              "#fdca26"
             ],
             [
              1,
              "#f0f921"
             ]
            ],
            "type": "heatmap"
           }
          ],
          "heatmapgl": [
           {
            "colorbar": {
             "outlinewidth": 0,
             "ticks": ""
            },
            "colorscale": [
             [
              0,
              "#0d0887"
             ],
             [
              0.1111111111111111,
              "#46039f"
             ],
             [
              0.2222222222222222,
              "#7201a8"
             ],
             [
              0.3333333333333333,
              "#9c179e"
             ],
             [
              0.4444444444444444,
              "#bd3786"
             ],
             [
              0.5555555555555556,
              "#d8576b"
             ],
             [
              0.6666666666666666,
              "#ed7953"
             ],
             [
              0.7777777777777778,
              "#fb9f3a"
             ],
             [
              0.8888888888888888,
              "#fdca26"
             ],
             [
              1,
              "#f0f921"
             ]
            ],
            "type": "heatmapgl"
           }
          ],
          "histogram": [
           {
            "marker": {
             "pattern": {
              "fillmode": "overlay",
              "size": 10,
              "solidity": 0.2
             }
            },
            "type": "histogram"
           }
          ],
          "histogram2d": [
           {
            "colorbar": {
             "outlinewidth": 0,
             "ticks": ""
            },
            "colorscale": [
             [
              0,
              "#0d0887"
             ],
             [
              0.1111111111111111,
              "#46039f"
             ],
             [
              0.2222222222222222,
              "#7201a8"
             ],
             [
              0.3333333333333333,
              "#9c179e"
             ],
             [
              0.4444444444444444,
              "#bd3786"
             ],
             [
              0.5555555555555556,
              "#d8576b"
             ],
             [
              0.6666666666666666,
              "#ed7953"
             ],
             [
              0.7777777777777778,
              "#fb9f3a"
             ],
             [
              0.8888888888888888,
              "#fdca26"
             ],
             [
              1,
              "#f0f921"
             ]
            ],
            "type": "histogram2d"
           }
          ],
          "histogram2dcontour": [
           {
            "colorbar": {
             "outlinewidth": 0,
             "ticks": ""
            },
            "colorscale": [
             [
              0,
              "#0d0887"
             ],
             [
              0.1111111111111111,
              "#46039f"
             ],
             [
              0.2222222222222222,
              "#7201a8"
             ],
             [
              0.3333333333333333,
              "#9c179e"
             ],
             [
              0.4444444444444444,
              "#bd3786"
             ],
             [
              0.5555555555555556,
              "#d8576b"
             ],
             [
              0.6666666666666666,
              "#ed7953"
             ],
             [
              0.7777777777777778,
              "#fb9f3a"
             ],
             [
              0.8888888888888888,
              "#fdca26"
             ],
             [
              1,
              "#f0f921"
             ]
            ],
            "type": "histogram2dcontour"
           }
          ],
          "mesh3d": [
           {
            "colorbar": {
             "outlinewidth": 0,
             "ticks": ""
            },
            "type": "mesh3d"
           }
          ],
          "parcoords": [
           {
            "line": {
             "colorbar": {
              "outlinewidth": 0,
              "ticks": ""
             }
            },
            "type": "parcoords"
           }
          ],
          "pie": [
           {
            "automargin": true,
            "type": "pie"
           }
          ],
          "scatter": [
           {
            "marker": {
             "colorbar": {
              "outlinewidth": 0,
              "ticks": ""
             }
            },
            "type": "scatter"
           }
          ],
          "scatter3d": [
           {
            "line": {
             "colorbar": {
              "outlinewidth": 0,
              "ticks": ""
             }
            },
            "marker": {
             "colorbar": {
              "outlinewidth": 0,
              "ticks": ""
             }
            },
            "type": "scatter3d"
           }
          ],
          "scattercarpet": [
           {
            "marker": {
             "colorbar": {
              "outlinewidth": 0,
              "ticks": ""
             }
            },
            "type": "scattercarpet"
           }
          ],
          "scattergeo": [
           {
            "marker": {
             "colorbar": {
              "outlinewidth": 0,
              "ticks": ""
             }
            },
            "type": "scattergeo"
           }
          ],
          "scattergl": [
           {
            "marker": {
             "colorbar": {
              "outlinewidth": 0,
              "ticks": ""
             }
            },
            "type": "scattergl"
           }
          ],
          "scattermapbox": [
           {
            "marker": {
             "colorbar": {
              "outlinewidth": 0,
              "ticks": ""
             }
            },
            "type": "scattermapbox"
           }
          ],
          "scatterpolar": [
           {
            "marker": {
             "colorbar": {
              "outlinewidth": 0,
              "ticks": ""
             }
            },
            "type": "scatterpolar"
           }
          ],
          "scatterpolargl": [
           {
            "marker": {
             "colorbar": {
              "outlinewidth": 0,
              "ticks": ""
             }
            },
            "type": "scatterpolargl"
           }
          ],
          "scatterternary": [
           {
            "marker": {
             "colorbar": {
              "outlinewidth": 0,
              "ticks": ""
             }
            },
            "type": "scatterternary"
           }
          ],
          "surface": [
           {
            "colorbar": {
             "outlinewidth": 0,
             "ticks": ""
            },
            "colorscale": [
             [
              0,
              "#0d0887"
             ],
             [
              0.1111111111111111,
              "#46039f"
             ],
             [
              0.2222222222222222,
              "#7201a8"
             ],
             [
              0.3333333333333333,
              "#9c179e"
             ],
             [
              0.4444444444444444,
              "#bd3786"
             ],
             [
              0.5555555555555556,
              "#d8576b"
             ],
             [
              0.6666666666666666,
              "#ed7953"
             ],
             [
              0.7777777777777778,
              "#fb9f3a"
             ],
             [
              0.8888888888888888,
              "#fdca26"
             ],
             [
              1,
              "#f0f921"
             ]
            ],
            "type": "surface"
           }
          ],
          "table": [
           {
            "cells": {
             "fill": {
              "color": "#EBF0F8"
             },
             "line": {
              "color": "white"
             }
            },
            "header": {
             "fill": {
              "color": "#C8D4E3"
             },
             "line": {
              "color": "white"
             }
            },
            "type": "table"
           }
          ]
         },
         "layout": {
          "annotationdefaults": {
           "arrowcolor": "#2a3f5f",
           "arrowhead": 0,
           "arrowwidth": 1
          },
          "autotypenumbers": "strict",
          "coloraxis": {
           "colorbar": {
            "outlinewidth": 0,
            "ticks": ""
           }
          },
          "colorscale": {
           "diverging": [
            [
             0,
             "#8e0152"
            ],
            [
             0.1,
             "#c51b7d"
            ],
            [
             0.2,
             "#de77ae"
            ],
            [
             0.3,
             "#f1b6da"
            ],
            [
             0.4,
             "#fde0ef"
            ],
            [
             0.5,
             "#f7f7f7"
            ],
            [
             0.6,
             "#e6f5d0"
            ],
            [
             0.7,
             "#b8e186"
            ],
            [
             0.8,
             "#7fbc41"
            ],
            [
             0.9,
             "#4d9221"
            ],
            [
             1,
             "#276419"
            ]
           ],
           "sequential": [
            [
             0,
             "#0d0887"
            ],
            [
             0.1111111111111111,
             "#46039f"
            ],
            [
             0.2222222222222222,
             "#7201a8"
            ],
            [
             0.3333333333333333,
             "#9c179e"
            ],
            [
             0.4444444444444444,
             "#bd3786"
            ],
            [
             0.5555555555555556,
             "#d8576b"
            ],
            [
             0.6666666666666666,
             "#ed7953"
            ],
            [
             0.7777777777777778,
             "#fb9f3a"
            ],
            [
             0.8888888888888888,
             "#fdca26"
            ],
            [
             1,
             "#f0f921"
            ]
           ],
           "sequentialminus": [
            [
             0,
             "#0d0887"
            ],
            [
             0.1111111111111111,
             "#46039f"
            ],
            [
             0.2222222222222222,
             "#7201a8"
            ],
            [
             0.3333333333333333,
             "#9c179e"
            ],
            [
             0.4444444444444444,
             "#bd3786"
            ],
            [
             0.5555555555555556,
             "#d8576b"
            ],
            [
             0.6666666666666666,
             "#ed7953"
            ],
            [
             0.7777777777777778,
             "#fb9f3a"
            ],
            [
             0.8888888888888888,
             "#fdca26"
            ],
            [
             1,
             "#f0f921"
            ]
           ]
          },
          "colorway": [
           "#636efa",
           "#EF553B",
           "#00cc96",
           "#ab63fa",
           "#FFA15A",
           "#19d3f3",
           "#FF6692",
           "#B6E880",
           "#FF97FF",
           "#FECB52"
          ],
          "font": {
           "color": "#2a3f5f"
          },
          "geo": {
           "bgcolor": "white",
           "lakecolor": "white",
           "landcolor": "#E5ECF6",
           "showlakes": true,
           "showland": true,
           "subunitcolor": "white"
          },
          "hoverlabel": {
           "align": "left"
          },
          "hovermode": "closest",
          "mapbox": {
           "style": "light"
          },
          "paper_bgcolor": "white",
          "plot_bgcolor": "#E5ECF6",
          "polar": {
           "angularaxis": {
            "gridcolor": "white",
            "linecolor": "white",
            "ticks": ""
           },
           "bgcolor": "#E5ECF6",
           "radialaxis": {
            "gridcolor": "white",
            "linecolor": "white",
            "ticks": ""
           }
          },
          "scene": {
           "xaxis": {
            "backgroundcolor": "#E5ECF6",
            "gridcolor": "white",
            "gridwidth": 2,
            "linecolor": "white",
            "showbackground": true,
            "ticks": "",
            "zerolinecolor": "white"
           },
           "yaxis": {
            "backgroundcolor": "#E5ECF6",
            "gridcolor": "white",
            "gridwidth": 2,
            "linecolor": "white",
            "showbackground": true,
            "ticks": "",
            "zerolinecolor": "white"
           },
           "zaxis": {
            "backgroundcolor": "#E5ECF6",
            "gridcolor": "white",
            "gridwidth": 2,
            "linecolor": "white",
            "showbackground": true,
            "ticks": "",
            "zerolinecolor": "white"
           }
          },
          "shapedefaults": {
           "line": {
            "color": "#2a3f5f"
           }
          },
          "ternary": {
           "aaxis": {
            "gridcolor": "white",
            "linecolor": "white",
            "ticks": ""
           },
           "baxis": {
            "gridcolor": "white",
            "linecolor": "white",
            "ticks": ""
           },
           "bgcolor": "#E5ECF6",
           "caxis": {
            "gridcolor": "white",
            "linecolor": "white",
            "ticks": ""
           }
          },
          "title": {
           "x": 0.05
          },
          "xaxis": {
           "automargin": true,
           "gridcolor": "white",
           "linecolor": "white",
           "ticks": "",
           "title": {
            "standoff": 15
           },
           "zerolinecolor": "white",
           "zerolinewidth": 2
          },
          "yaxis": {
           "automargin": true,
           "gridcolor": "white",
           "linecolor": "white",
           "ticks": "",
           "title": {
            "standoff": 15
           },
           "zerolinecolor": "white",
           "zerolinewidth": 2
          }
         }
        },
        "title": {
         "text": "Kluby podle počtu závodníků"
        },
        "width": 950,
        "xaxis": {
         "anchor": "y",
         "autorange": true,
         "categoryarray": [
          "SC PRAHA",
          "TJ DUKLA PRAHA",
          "DUKLA OLOMOUC",
          "VSK HUMANITA",
          "TJ LOKO PLZEN",
          "USK PRAHA",
          "TJ LOKO TEPLICE",
          "SLAVOJ LITOMĚŘICE",
          "TJ LOKO K.VARY",
          "SČ USTI NAD LABEM",
          "VENEZUELA",
          "1.FC BELA POD BEZ",
          "FC LEIPZIG",
          "AŠ BRATISLAVA",
          "SOKOL DEJVICE",
          "BOHEMIANS",
          "UKRAJINA",
          "TJ SOKOL PÍSEK",
          "RIEGEL PRAHA",
          "VUT BRNO",
          "EKONOM PRAHA",
          "JISKRA H.BROD",
          "RADEBEUL",
          "JPN",
          "LAŠSSKFZ",
          "OREL HR.KR.",
          "SS UH.HRADISTE",
          "ASBVA",
          "ŠK RIEGEL"
         ],
         "categoryorder": "array",
         "domain": [
          0,
          1
         ],
         "range": [
          -0.5,
          28.5
         ],
         "tickangle": -90,
         "tickvals": [
          "SC PRAHA",
          "TJ DUKLA PRAHA",
          "DUKLA OLOMOUC",
          "VSK HUMANITA",
          "TJ LOKO PLZEN",
          "USK PRAHA",
          "TJ LOKO TEPLICE",
          "SLAVOJ LITOMĚŘICE",
          "TJ LOKO K.VARY",
          "SČ USTI NAD LABEM",
          "VENEZUELA",
          "1.FC BELA POD BEZ",
          "FC LEIPZIG",
          "AŠ BRATISLAVA",
          "SOKOL DEJVICE",
          "BOHEMIANS",
          "UKRAJINA",
          "TJ SOKOL PÍSEK",
          "RIEGEL PRAHA",
          "VUT BRNO",
          "EKONOM PRAHA",
          "JISKRA H.BROD",
          "RADEBEUL",
          "JPN",
          "LAŠSSKFZ",
          "OREL HR.KR.",
          "SS UH.HRADISTE",
          "ASBVA",
          "ŠK RIEGEL"
         ],
         "title": {
          "text": "Club"
         },
         "type": "category"
        },
        "yaxis": {
         "anchor": "x",
         "autorange": true,
         "domain": [
          0,
          1
         ],
         "range": [
          0,
          28.42105263157895
         ],
         "title": {
          "text": "count"
         },
         "type": "linear"
        }
       }
      },
      "image/png": "[encoded data removed]",
      "text/html": [
       "<div>                            <div id=\"faed9c81-8929-4964-8187-425abad40ddd\" class=\"plotly-graph-div\" style=\"height:700px; width:950px;\"></div>            <script type=\"text/javascript\">                require([\"plotly\"], function(Plotly) {                    window.PLOTLYENV=window.PLOTLYENV || {};                                    if (document.getElementById(\"faed9c81-8929-4964-8187-425abad40ddd\")) {                    Plotly.newPlot(                        \"faed9c81-8929-4964-8187-425abad40ddd\",                        [{\"alignmentgroup\":\"True\",\"hovertemplate\":\"Club=%{x}<br>count=%{y}<extra></extra>\",\"legendgroup\":\"SC PRAHA\",\"marker\":{\"color\":\"#636efa\",\"pattern\":{\"shape\":\"\"}},\"name\":\"SC PRAHA\",\"offsetgroup\":\"SC PRAHA\",\"orientation\":\"v\",\"showlegend\":true,\"textposition\":\"auto\",\"texttemplate\":\"%{y:.0f}\",\"x\":[\"SC PRAHA\"],\"xaxis\":\"x\",\"y\":[27],\"yaxis\":\"y\",\"type\":\"bar\"},{\"alignmentgroup\":\"True\",\"hovertemplate\":\"Club=%{x}<br>count=%{y}<extra></extra>\",\"legendgroup\":\"TJ DUKLA PRAHA\",\"marker\":{\"color\":\"#EF553B\",\"pattern\":{\"shape\":\"\"}},\"name\":\"TJ DUKLA PRAHA\",\"offsetgroup\":\"TJ DUKLA PRAHA\",\"orientation\":\"v\",\"showlegend\":true,\"textposition\":\"auto\",\"texttemplate\":\"%{y:.0f}\",\"x\":[\"TJ DUKLA PRAHA\"],\"xaxis\":\"x\",\"y\":[17],\"yaxis\":\"y\",\"type\":\"bar\"},{\"alignmentgroup\":\"True\",\"hovertemplate\":\"Club=%{x}<br>count=%{y}<extra></extra>\",\"legendgroup\":\"DUKLA OLOMOUC\",\"marker\":{\"color\":\"#00cc96\",\"pattern\":{\"shape\":\"\"}},\"name\":\"DUKLA OLOMOUC\",\"offsetgroup\":\"DUKLA OLOMOUC\",\"orientation\":\"v\",\"showlegend\":true,\"textposition\":\"auto\",\"texttemplate\":\"%{y:.0f}\",\"x\":[\"DUKLA OLOMOUC\"],\"xaxis\":\"x\",\"y\":[15],\"yaxis\":\"y\",\"type\":\"bar\"},{\"alignmentgroup\":\"True\",\"hovertemplate\":\"Club=%{x}<br>count=%{y}<extra></extra>\",\"legendgroup\":\"VSK HUMANITA\",\"marker\":{\"color\":\"#ab63fa\",\"pattern\":{\"shape\":\"\"}},\"name\":\"VSK HUMANITA\",\"offsetgroup\":\"VSK HUMANITA\",\"orientation\":\"v\",\"showlegend\":true,\"textposition\":\"auto\",\"texttemplate\":\"%{y:.0f}\",\"x\":[\"VSK HUMANITA\"],\"xaxis\":\"x\",\"y\":[10],\"yaxis\":\"y\",\"type\":\"bar\"},{\"alignmentgroup\":\"True\",\"hovertemplate\":\"Club=%{x}<br>count=%{y}<extra></extra>\",\"legendgroup\":\"TJ LOKO PLZEN\",\"marker\":{\"color\":\"#FFA15A\",\"pattern\":{\"shape\":\"\"}},\"name\":\"TJ LOKO PLZEN\",\"offsetgroup\":\"TJ LOKO PLZEN\",\"orientation\":\"v\",\"showlegend\":true,\"textposition\":\"auto\",\"texttemplate\":\"%{y:.0f}\",\"x\":[\"TJ LOKO PLZEN\"],\"xaxis\":\"x\",\"y\":[8],\"yaxis\":\"y\",\"type\":\"bar\"},{\"alignmentgroup\":\"True\",\"hovertemplate\":\"Club=%{x}<br>count=%{y}<extra></extra>\",\"legendgroup\":\"USK PRAHA\",\"marker\":{\"color\":\"#19d3f3\",\"pattern\":{\"shape\":\"\"}},\"name\":\"USK PRAHA\",\"offsetgroup\":\"USK PRAHA\",\"orientation\":\"v\",\"showlegend\":true,\"textposition\":\"auto\",\"texttemplate\":\"%{y:.0f}\",\"x\":[\"USK PRAHA\"],\"xaxis\":\"x\",\"y\":[7],\"yaxis\":\"y\",\"type\":\"bar\"},{\"alignmentgroup\":\"True\",\"hovertemplate\":\"Club=%{x}<br>count=%{y}<extra></extra>\",\"legendgroup\":\"TJ LOKO TEPLICE\",\"marker\":{\"color\":\"#FF6692\",\"pattern\":{\"shape\":\"\"}},\"name\":\"TJ LOKO TEPLICE\",\"offsetgroup\":\"TJ LOKO TEPLICE\",\"orientation\":\"v\",\"showlegend\":true,\"textposition\":\"auto\",\"texttemplate\":\"%{y:.0f}\",\"x\":[\"TJ LOKO TEPLICE\"],\"xaxis\":\"x\",\"y\":[7],\"yaxis\":\"y\",\"type\":\"bar\"},{\"alignmentgroup\":\"True\",\"hovertemplate\":\"Club=%{x}<br>count=%{y}<extra></extra>\",\"legendgroup\":\"SLAVOJ LITOM\\u011a\\u0158ICE\",\"marker\":{\"color\":\"#B6E880\",\"pattern\":{\"shape\":\"\"}},\"name\":\"SLAVOJ LITOM\\u011a\\u0158ICE\",\"offsetgroup\":\"SLAVOJ LITOM\\u011a\\u0158ICE\",\"orientation\":\"v\",\"showlegend\":true,\"textposition\":\"auto\",\"texttemplate\":\"%{y:.0f}\",\"x\":[\"SLAVOJ LITOM\\u011a\\u0158ICE\"],\"xaxis\":\"x\",\"y\":[5],\"yaxis\":\"y\",\"type\":\"bar\"},{\"alignmentgroup\":\"True\",\"hovertemplate\":\"Club=%{x}<br>count=%{y}<extra></extra>\",\"legendgroup\":\"TJ LOKO K.VARY\",\"marker\":{\"color\":\"#FF97FF\",\"pattern\":{\"shape\":\"\"}},\"name\":\"TJ LOKO K.VARY\",\"offsetgroup\":\"TJ LOKO K.VARY\",\"orientation\":\"v\",\"showlegend\":true,\"textposition\":\"auto\",\"texttemplate\":\"%{y:.0f}\",\"x\":[\"TJ LOKO K.VARY\"],\"xaxis\":\"x\",\"y\":[5],\"yaxis\":\"y\",\"type\":\"bar\"},{\"alignmentgroup\":\"True\",\"hovertemplate\":\"Club=%{x}<br>count=%{y}<extra></extra>\",\"legendgroup\":\"S\\u010c USTI NAD LABEM\",\"marker\":{\"color\":\"#FECB52\",\"pattern\":{\"shape\":\"\"}},\"name\":\"S\\u010c USTI NAD LABEM\",\"offsetgroup\":\"S\\u010c USTI NAD LABEM\",\"orientation\":\"v\",\"showlegend\":true,\"textposition\":\"auto\",\"texttemplate\":\"%{y:.0f}\",\"x\":[\"S\\u010c USTI NAD LABEM\"],\"xaxis\":\"x\",\"y\":[5],\"yaxis\":\"y\",\"type\":\"bar\"},{\"alignmentgroup\":\"True\",\"hovertemplate\":\"Club=%{x}<br>count=%{y}<extra></extra>\",\"legendgroup\":\"VENEZUELA\",\"marker\":{\"color\":\"#636efa\",\"pattern\":{\"shape\":\"\"}},\"name\":\"VENEZUELA\",\"offsetgroup\":\"VENEZUELA\",\"orientation\":\"v\",\"showlegend\":true,\"textposition\":\"auto\",\"texttemplate\":\"%{y:.0f}\",\"x\":[\"VENEZUELA\"],\"xaxis\":\"x\",\"y\":[4],\"yaxis\":\"y\",\"type\":\"bar\"},{\"alignmentgroup\":\"True\",\"hovertemplate\":\"Club=%{x}<br>count=%{y}<extra></extra>\",\"legendgroup\":\"1.FC BELA POD BEZ\",\"marker\":{\"color\":\"#EF553B\",\"pattern\":{\"shape\":\"\"}},\"name\":\"1.FC BELA POD BEZ\",\"offsetgroup\":\"1.FC BELA POD BEZ\",\"orientation\":\"v\",\"showlegend\":true,\"textposition\":\"auto\",\"texttemplate\":\"%{y:.0f}\",\"x\":[\"1.FC BELA POD BEZ\"],\"xaxis\":\"x\",\"y\":[4],\"yaxis\":\"y\",\"type\":\"bar\"},{\"alignmentgroup\":\"True\",\"hovertemplate\":\"Club=%{x}<br>count=%{y}<extra></extra>\",\"legendgroup\":\"FC LEIPZIG\",\"marker\":{\"color\":\"#00cc96\",\"pattern\":{\"shape\":\"\"}},\"name\":\"FC LEIPZIG\",\"offsetgroup\":\"FC LEIPZIG\",\"orientation\":\"v\",\"showlegend\":true,\"textposition\":\"auto\",\"texttemplate\":\"%{y:.0f}\",\"x\":[\"FC LEIPZIG\"],\"xaxis\":\"x\",\"y\":[3],\"yaxis\":\"y\",\"type\":\"bar\"},{\"alignmentgroup\":\"True\",\"hovertemplate\":\"Club=%{x}<br>count=%{y}<extra></extra>\",\"legendgroup\":\"A\\u0160 BRATISLAVA\",\"marker\":{\"color\":\"#ab63fa\",\"pattern\":{\"shape\":\"\"}},\"name\":\"A\\u0160 BRATISLAVA\",\"offsetgroup\":\"A\\u0160 BRATISLAVA\",\"orientation\":\"v\",\"showlegend\":true,\"textposition\":\"auto\",\"texttemplate\":\"%{y:.0f}\",\"x\":[\"A\\u0160 BRATISLAVA\"],\"xaxis\":\"x\",\"y\":[3],\"yaxis\":\"y\",\"type\":\"bar\"},{\"alignmentgroup\":\"True\",\"hovertemplate\":\"Club=%{x}<br>count=%{y}<extra></extra>\",\"legendgroup\":\"SOKOL DEJVICE\",\"marker\":{\"color\":\"#FFA15A\",\"pattern\":{\"shape\":\"\"}},\"name\":\"SOKOL DEJVICE\",\"offsetgroup\":\"SOKOL DEJVICE\",\"orientation\":\"v\",\"showlegend\":true,\"textposition\":\"auto\",\"texttemplate\":\"%{y:.0f}\",\"x\":[\"SOKOL DEJVICE\"],\"xaxis\":\"x\",\"y\":[2],\"yaxis\":\"y\",\"type\":\"bar\"},{\"alignmentgroup\":\"True\",\"hovertemplate\":\"Club=%{x}<br>count=%{y}<extra></extra>\",\"legendgroup\":\"BOHEMIANS\",\"marker\":{\"color\":\"#19d3f3\",\"pattern\":{\"shape\":\"\"}},\"name\":\"BOHEMIANS\",\"offsetgroup\":\"BOHEMIANS\",\"orientation\":\"v\",\"showlegend\":true,\"textposition\":\"auto\",\"texttemplate\":\"%{y:.0f}\",\"x\":[\"BOHEMIANS\"],\"xaxis\":\"x\",\"y\":[2],\"yaxis\":\"y\",\"type\":\"bar\"},{\"alignmentgroup\":\"True\",\"hovertemplate\":\"Club=%{x}<br>count=%{y}<extra></extra>\",\"legendgroup\":\"UKRAJINA\",\"marker\":{\"color\":\"#FF6692\",\"pattern\":{\"shape\":\"\"}},\"name\":\"UKRAJINA\",\"offsetgroup\":\"UKRAJINA\",\"orientation\":\"v\",\"showlegend\":true,\"textposition\":\"auto\",\"texttemplate\":\"%{y:.0f}\",\"x\":[\"UKRAJINA\"],\"xaxis\":\"x\",\"y\":[2],\"yaxis\":\"y\",\"type\":\"bar\"},{\"alignmentgroup\":\"True\",\"hovertemplate\":\"Club=%{x}<br>count=%{y}<extra></extra>\",\"legendgroup\":\"TJ SOKOL P\\u00cdSEK\",\"marker\":{\"color\":\"#B6E880\",\"pattern\":{\"shape\":\"\"}},\"name\":\"TJ SOKOL P\\u00cdSEK\",\"offsetgroup\":\"TJ SOKOL P\\u00cdSEK\",\"orientation\":\"v\",\"showlegend\":true,\"textposition\":\"auto\",\"texttemplate\":\"%{y:.0f}\",\"x\":[\"TJ SOKOL P\\u00cdSEK\"],\"xaxis\":\"x\",\"y\":[2],\"yaxis\":\"y\",\"type\":\"bar\"},{\"alignmentgroup\":\"True\",\"hovertemplate\":\"Club=%{x}<br>count=%{y}<extra></extra>\",\"legendgroup\":\"RIEGEL PRAHA\",\"marker\":{\"color\":\"#FF97FF\",\"pattern\":{\"shape\":\"\"}},\"name\":\"RIEGEL PRAHA\",\"offsetgroup\":\"RIEGEL PRAHA\",\"orientation\":\"v\",\"showlegend\":true,\"textposition\":\"auto\",\"texttemplate\":\"%{y:.0f}\",\"x\":[\"RIEGEL PRAHA\"],\"xaxis\":\"x\",\"y\":[1],\"yaxis\":\"y\",\"type\":\"bar\"},{\"alignmentgroup\":\"True\",\"hovertemplate\":\"Club=%{x}<br>count=%{y}<extra></extra>\",\"legendgroup\":\"VUT BRNO\",\"marker\":{\"color\":\"#FECB52\",\"pattern\":{\"shape\":\"\"}},\"name\":\"VUT BRNO\",\"offsetgroup\":\"VUT BRNO\",\"orientation\":\"v\",\"showlegend\":true,\"textposition\":\"auto\",\"texttemplate\":\"%{y:.0f}\",\"x\":[\"VUT BRNO\"],\"xaxis\":\"x\",\"y\":[1],\"yaxis\":\"y\",\"type\":\"bar\"},{\"alignmentgroup\":\"True\",\"hovertemplate\":\"Club=%{x}<br>count=%{y}<extra></extra>\",\"legendgroup\":\"EKONOM PRAHA\",\"marker\":{\"color\":\"#636efa\",\"pattern\":{\"shape\":\"\"}},\"name\":\"EKONOM PRAHA\",\"offsetgroup\":\"EKONOM PRAHA\",\"orientation\":\"v\",\"showlegend\":true,\"textposition\":\"auto\",\"texttemplate\":\"%{y:.0f}\",\"x\":[\"EKONOM PRAHA\"],\"xaxis\":\"x\",\"y\":[1],\"yaxis\":\"y\",\"type\":\"bar\"},{\"alignmentgroup\":\"True\",\"hovertemplate\":\"Club=%{x}<br>count=%{y}<extra></extra>\",\"legendgroup\":\"JISKRA H.BROD\",\"marker\":{\"color\":\"#EF553B\",\"pattern\":{\"shape\":\"\"}},\"name\":\"JISKRA H.BROD\",\"offsetgroup\":\"JISKRA H.BROD\",\"orientation\":\"v\",\"showlegend\":true,\"textposition\":\"auto\",\"texttemplate\":\"%{y:.0f}\",\"x\":[\"JISKRA H.BROD\"],\"xaxis\":\"x\",\"y\":[1],\"yaxis\":\"y\",\"type\":\"bar\"},{\"alignmentgroup\":\"True\",\"hovertemplate\":\"Club=%{x}<br>count=%{y}<extra></extra>\",\"legendgroup\":\"RADEBEUL\",\"marker\":{\"color\":\"#00cc96\",\"pattern\":{\"shape\":\"\"}},\"name\":\"RADEBEUL\",\"offsetgroup\":\"RADEBEUL\",\"orientation\":\"v\",\"showlegend\":true,\"textposition\":\"auto\",\"texttemplate\":\"%{y:.0f}\",\"x\":[\"RADEBEUL\"],\"xaxis\":\"x\",\"y\":[1],\"yaxis\":\"y\",\"type\":\"bar\"},{\"alignmentgroup\":\"True\",\"hovertemplate\":\"Club=%{x}<br>count=%{y}<extra></extra>\",\"legendgroup\":\"JPN\",\"marker\":{\"color\":\"#ab63fa\",\"pattern\":{\"shape\":\"\"}},\"name\":\"JPN\",\"offsetgroup\":\"JPN\",\"orientation\":\"v\",\"showlegend\":true,\"textposition\":\"auto\",\"texttemplate\":\"%{y:.0f}\",\"x\":[\"JPN\"],\"xaxis\":\"x\",\"y\":[1],\"yaxis\":\"y\",\"type\":\"bar\"},{\"alignmentgroup\":\"True\",\"hovertemplate\":\"Club=%{x}<br>count=%{y}<extra></extra>\",\"legendgroup\":\"LA\\u0160SSKFZ\",\"marker\":{\"color\":\"#FFA15A\",\"pattern\":{\"shape\":\"\"}},\"name\":\"LA\\u0160SSKFZ\",\"offsetgroup\":\"LA\\u0160SSKFZ\",\"orientation\":\"v\",\"showlegend\":true,\"textposition\":\"auto\",\"texttemplate\":\"%{y:.0f}\",\"x\":[\"LA\\u0160SSKFZ\"],\"xaxis\":\"x\",\"y\":[1],\"yaxis\":\"y\",\"type\":\"bar\"},{\"alignmentgroup\":\"True\",\"hovertemplate\":\"Club=%{x}<br>count=%{y}<extra></extra>\",\"legendgroup\":\"OREL HR.KR.\",\"marker\":{\"color\":\"#19d3f3\",\"pattern\":{\"shape\":\"\"}},\"name\":\"OREL HR.KR.\",\"offsetgroup\":\"OREL HR.KR.\",\"orientation\":\"v\",\"showlegend\":true,\"textposition\":\"auto\",\"texttemplate\":\"%{y:.0f}\",\"x\":[\"OREL HR.KR.\"],\"xaxis\":\"x\",\"y\":[1],\"yaxis\":\"y\",\"type\":\"bar\"},{\"alignmentgroup\":\"True\",\"hovertemplate\":\"Club=%{x}<br>count=%{y}<extra></extra>\",\"legendgroup\":\"SS UH.HRADISTE\",\"marker\":{\"color\":\"#FF6692\",\"pattern\":{\"shape\":\"\"}},\"name\":\"SS UH.HRADISTE\",\"offsetgroup\":\"SS UH.HRADISTE\",\"orientation\":\"v\",\"showlegend\":true,\"textposition\":\"auto\",\"texttemplate\":\"%{y:.0f}\",\"x\":[\"SS UH.HRADISTE\"],\"xaxis\":\"x\",\"y\":[1],\"yaxis\":\"y\",\"type\":\"bar\"},{\"alignmentgroup\":\"True\",\"hovertemplate\":\"Club=%{x}<br>count=%{y}<extra></extra>\",\"legendgroup\":\"ASBVA\",\"marker\":{\"color\":\"#B6E880\",\"pattern\":{\"shape\":\"\"}},\"name\":\"ASBVA\",\"offsetgroup\":\"ASBVA\",\"orientation\":\"v\",\"showlegend\":true,\"textposition\":\"auto\",\"texttemplate\":\"%{y:.0f}\",\"x\":[\"ASBVA\"],\"xaxis\":\"x\",\"y\":[1],\"yaxis\":\"y\",\"type\":\"bar\"},{\"alignmentgroup\":\"True\",\"hovertemplate\":\"Club=%{x}<br>count=%{y}<extra></extra>\",\"legendgroup\":\"\\u0160K RIEGEL\",\"marker\":{\"color\":\"#FF97FF\",\"pattern\":{\"shape\":\"\"}},\"name\":\"\\u0160K RIEGEL\",\"offsetgroup\":\"\\u0160K RIEGEL\",\"orientation\":\"v\",\"showlegend\":true,\"textposition\":\"auto\",\"texttemplate\":\"%{y:.0f}\",\"x\":[\"\\u0160K RIEGEL\"],\"xaxis\":\"x\",\"y\":[1],\"yaxis\":\"y\",\"type\":\"bar\"}],                        {\"template\":{\"data\":{\"bar\":[{\"error_x\":{\"color\":\"#2a3f5f\"},\"error_y\":{\"color\":\"#2a3f5f\"},\"marker\":{\"line\":{\"color\":\"#E5ECF6\",\"width\":0.5},\"pattern\":{\"fillmode\":\"overlay\",\"size\":10,\"solidity\":0.2}},\"type\":\"bar\"}],\"barpolar\":[{\"marker\":{\"line\":{\"color\":\"#E5ECF6\",\"width\":0.5},\"pattern\":{\"fillmode\":\"overlay\",\"size\":10,\"solidity\":0.2}},\"type\":\"barpolar\"}],\"carpet\":[{\"aaxis\":{\"endlinecolor\":\"#2a3f5f\",\"gridcolor\":\"white\",\"linecolor\":\"white\",\"minorgridcolor\":\"white\",\"startlinecolor\":\"#2a3f5f\"},\"baxis\":{\"endlinecolor\":\"#2a3f5f\",\"gridcolor\":\"white\",\"linecolor\":\"white\",\"minorgridcolor\":\"white\",\"startlinecolor\":\"#2a3f5f\"},\"type\":\"carpet\"}],\"choropleth\":[{\"colorbar\":{\"outlinewidth\":0,\"ticks\":\"\"},\"type\":\"choropleth\"}],\"contour\":[{\"colorbar\":{\"outlinewidth\":0,\"ticks\":\"\"},\"colorscale\":[[0.0,\"#0d0887\"],[0.1111111111111111,\"#46039f\"],[0.2222222222222222,\"#7201a8\"],[0.3333333333333333,\"#9c179e\"],[0.4444444444444444,\"#bd3786\"],[0.5555555555555556,\"#d8576b\"],[0.6666666666666666,\"#ed7953\"],[0.7777777777777778,\"#fb9f3a\"],[0.8888888888888888,\"#fdca26\"],[1.0,\"#f0f921\"]],\"type\":\"contour\"}],\"contourcarpet\":[{\"colorbar\":{\"outlinewidth\":0,\"ticks\":\"\"},\"type\":\"contourcarpet\"}],\"heatmap\":[{\"colorbar\":{\"outlinewidth\":0,\"ticks\":\"\"},\"colorscale\":[[0.0,\"#0d0887\"],[0.1111111111111111,\"#46039f\"],[0.2222222222222222,\"#7201a8\"],[0.3333333333333333,\"#9c179e\"],[0.4444444444444444,\"#bd3786\"],[0.5555555555555556,\"#d8576b\"],[0.6666666666666666,\"#ed7953\"],[0.7777777777777778,\"#fb9f3a\"],[0.8888888888888888,\"#fdca26\"],[1.0,\"#f0f921\"]],\"type\":\"heatmap\"}],\"heatmapgl\":[{\"colorbar\":{\"outlinewidth\":0,\"ticks\":\"\"},\"colorscale\":[[0.0,\"#0d0887\"],[0.1111111111111111,\"#46039f\"],[0.2222222222222222,\"#7201a8\"],[0.3333333333333333,\"#9c179e\"],[0.4444444444444444,\"#bd3786\"],[0.5555555555555556,\"#d8576b\"],[0.6666666666666666,\"#ed7953\"],[0.7777777777777778,\"#fb9f3a\"],[0.8888888888888888,\"#fdca26\"],[1.0,\"#f0f921\"]],\"type\":\"heatmapgl\"}],\"histogram\":[{\"marker\":{\"pattern\":{\"fillmode\":\"overlay\",\"size\":10,\"solidity\":0.2}},\"type\":\"histogram\"}],\"histogram2d\":[{\"colorbar\":{\"outlinewidth\":0,\"ticks\":\"\"},\"colorscale\":[[0.0,\"#0d0887\"],[0.1111111111111111,\"#46039f\"],[0.2222222222222222,\"#7201a8\"],[0.3333333333333333,\"#9c179e\"],[0.4444444444444444,\"#bd3786\"],[0.5555555555555556,\"#d8576b\"],[0.6666666666666666,\"#ed7953\"],[0.7777777777777778,\"#fb9f3a\"],[0.8888888888888888,\"#fdca26\"],[1.0,\"#f0f921\"]],\"type\":\"histogram2d\"}],\"histogram2dcontour\":[{\"colorbar\":{\"outlinewidth\":0,\"ticks\":\"\"},\"colorscale\":[[0.0,\"#0d0887\"],[0.1111111111111111,\"#46039f\"],[0.2222222222222222,\"#7201a8\"],[0.3333333333333333,\"#9c179e\"],[0.4444444444444444,\"#bd3786\"],[0.5555555555555556,\"#d8576b\"],[0.6666666666666666,\"#ed7953\"],[0.7777777777777778,\"#fb9f3a\"],[0.8888888888888888,\"#fdca26\"],[1.0,\"#f0f921\"]],\"type\":\"histogram2dcontour\"}],\"mesh3d\":[{\"colorbar\":{\"outlinewidth\":0,\"ticks\":\"\"},\"type\":\"mesh3d\"}],\"parcoords\":[{\"line\":{\"colorbar\":{\"outlinewidth\":0,\"ticks\":\"\"}},\"type\":\"parcoords\"}],\"pie\":[{\"automargin\":true,\"type\":\"pie\"}],\"scatter\":[{\"marker\":{\"colorbar\":{\"outlinewidth\":0,\"ticks\":\"\"}},\"type\":\"scatter\"}],\"scatter3d\":[{\"line\":{\"colorbar\":{\"outlinewidth\":0,\"ticks\":\"\"}},\"marker\":{\"colorbar\":{\"outlinewidth\":0,\"ticks\":\"\"}},\"type\":\"scatter3d\"}],\"scattercarpet\":[{\"marker\":{\"colorbar\":{\"outlinewidth\":0,\"ticks\":\"\"}},\"type\":\"scattercarpet\"}],\"scattergeo\":[{\"marker\":{\"colorbar\":{\"outlinewidth\":0,\"ticks\":\"\"}},\"type\":\"scattergeo\"}],\"scattergl\":[{\"marker\":{\"colorbar\":{\"outlinewidth\":0,\"ticks\":\"\"}},\"type\":\"scattergl\"}],\"scattermapbox\":[{\"marker\":{\"colorbar\":{\"outlinewidth\":0,\"ticks\":\"\"}},\"type\":\"scattermapbox\"}],\"scatterpolar\":[{\"marker\":{\"colorbar\":{\"outlinewidth\":0,\"ticks\":\"\"}},\"type\":\"scatterpolar\"}],\"scatterpolargl\":[{\"marker\":{\"colorbar\":{\"outlinewidth\":0,\"ticks\":\"\"}},\"type\":\"scatterpolargl\"}],\"scatterternary\":[{\"marker\":{\"colorbar\":{\"outlinewidth\":0,\"ticks\":\"\"}},\"type\":\"scatterternary\"}],\"surface\":[{\"colorbar\":{\"outlinewidth\":0,\"ticks\":\"\"},\"colorscale\":[[0.0,\"#0d0887\"],[0.1111111111111111,\"#46039f\"],[0.2222222222222222,\"#7201a8\"],[0.3333333333333333,\"#9c179e\"],[0.4444444444444444,\"#bd3786\"],[0.5555555555555556,\"#d8576b\"],[0.6666666666666666,\"#ed7953\"],[0.7777777777777778,\"#fb9f3a\"],[0.8888888888888888,\"#fdca26\"],[1.0,\"#f0f921\"]],\"type\":\"surface\"}],\"table\":[{\"cells\":{\"fill\":{\"color\":\"#EBF0F8\"},\"line\":{\"color\":\"white\"}},\"header\":{\"fill\":{\"color\":\"#C8D4E3\"},\"line\":{\"color\":\"white\"}},\"type\":\"table\"}]},\"layout\":{\"annotationdefaults\":{\"arrowcolor\":\"#2a3f5f\",\"arrowhead\":0,\"arrowwidth\":1},\"autotypenumbers\":\"strict\",\"coloraxis\":{\"colorbar\":{\"outlinewidth\":0,\"ticks\":\"\"}},\"colorscale\":{\"diverging\":[[0,\"#8e0152\"],[0.1,\"#c51b7d\"],[0.2,\"#de77ae\"],[0.3,\"#f1b6da\"],[0.4,\"#fde0ef\"],[0.5,\"#f7f7f7\"],[0.6,\"#e6f5d0\"],[0.7,\"#b8e186\"],[0.8,\"#7fbc41\"],[0.9,\"#4d9221\"],[1,\"#276419\"]],\"sequential\":[[0.0,\"#0d0887\"],[0.1111111111111111,\"#46039f\"],[0.2222222222222222,\"#7201a8\"],[0.3333333333333333,\"#9c179e\"],[0.4444444444444444,\"#bd3786\"],[0.5555555555555556,\"#d8576b\"],[0.6666666666666666,\"#ed7953\"],[0.7777777777777778,\"#fb9f3a\"],[0.8888888888888888,\"#fdca26\"],[1.0,\"#f0f921\"]],\"sequentialminus\":[[0.0,\"#0d0887\"],[0.1111111111111111,\"#46039f\"],[0.2222222222222222,\"#7201a8\"],[0.3333333333333333,\"#9c179e\"],[0.4444444444444444,\"#bd3786\"],[0.5555555555555556,\"#d8576b\"],[0.6666666666666666,\"#ed7953\"],[0.7777777777777778,\"#fb9f3a\"],[0.8888888888888888,\"#fdca26\"],[1.0,\"#f0f921\"]]},\"colorway\":[\"#636efa\",\"#EF553B\",\"#00cc96\",\"#ab63fa\",\"#FFA15A\",\"#19d3f3\",\"#FF6692\",\"#B6E880\",\"#FF97FF\",\"#FECB52\"],\"font\":{\"color\":\"#2a3f5f\"},\"geo\":{\"bgcolor\":\"white\",\"lakecolor\":\"white\",\"landcolor\":\"#E5ECF6\",\"showlakes\":true,\"showland\":true,\"subunitcolor\":\"white\"},\"hoverlabel\":{\"align\":\"left\"},\"hovermode\":\"closest\",\"mapbox\":{\"style\":\"light\"},\"paper_bgcolor\":\"white\",\"plot_bgcolor\":\"#E5ECF6\",\"polar\":{\"angularaxis\":{\"gridcolor\":\"white\",\"linecolor\":\"white\",\"ticks\":\"\"},\"bgcolor\":\"#E5ECF6\",\"radialaxis\":{\"gridcolor\":\"white\",\"linecolor\":\"white\",\"ticks\":\"\"}},\"scene\":{\"xaxis\":{\"backgroundcolor\":\"#E5ECF6\",\"gridcolor\":\"white\",\"gridwidth\":2,\"linecolor\":\"white\",\"showbackground\":true,\"ticks\":\"\",\"zerolinecolor\":\"white\"},\"yaxis\":{\"backgroundcolor\":\"#E5ECF6\",\"gridcolor\":\"white\",\"gridwidth\":2,\"linecolor\":\"white\",\"showbackground\":true,\"ticks\":\"\",\"zerolinecolor\":\"white\"},\"zaxis\":{\"backgroundcolor\":\"#E5ECF6\",\"gridcolor\":\"white\",\"gridwidth\":2,\"linecolor\":\"white\",\"showbackground\":true,\"ticks\":\"\",\"zerolinecolor\":\"white\"}},\"shapedefaults\":{\"line\":{\"color\":\"#2a3f5f\"}},\"ternary\":{\"aaxis\":{\"gridcolor\":\"white\",\"linecolor\":\"white\",\"ticks\":\"\"},\"baxis\":{\"gridcolor\":\"white\",\"linecolor\":\"white\",\"ticks\":\"\"},\"bgcolor\":\"#E5ECF6\",\"caxis\":{\"gridcolor\":\"white\",\"linecolor\":\"white\",\"ticks\":\"\"}},\"title\":{\"x\":0.05},\"xaxis\":{\"automargin\":true,\"gridcolor\":\"white\",\"linecolor\":\"white\",\"ticks\":\"\",\"title\":{\"standoff\":15},\"zerolinecolor\":\"white\",\"zerolinewidth\":2},\"yaxis\":{\"automargin\":true,\"gridcolor\":\"white\",\"linecolor\":\"white\",\"ticks\":\"\",\"title\":{\"standoff\":15},\"zerolinecolor\":\"white\",\"zerolinewidth\":2}}},\"xaxis\":{\"anchor\":\"y\",\"domain\":[0.0,1.0],\"title\":{\"text\":\"Club\"},\"categoryorder\":\"array\",\"categoryarray\":[\"SC PRAHA\",\"TJ DUKLA PRAHA\",\"DUKLA OLOMOUC\",\"VSK HUMANITA\",\"TJ LOKO PLZEN\",\"USK PRAHA\",\"TJ LOKO TEPLICE\",\"SLAVOJ LITOM\\u011a\\u0158ICE\",\"TJ LOKO K.VARY\",\"S\\u010c USTI NAD LABEM\",\"VENEZUELA\",\"1.FC BELA POD BEZ\",\"FC LEIPZIG\",\"A\\u0160 BRATISLAVA\",\"SOKOL DEJVICE\",\"BOHEMIANS\",\"UKRAJINA\",\"TJ SOKOL P\\u00cdSEK\",\"RIEGEL PRAHA\",\"VUT BRNO\",\"EKONOM PRAHA\",\"JISKRA H.BROD\",\"RADEBEUL\",\"JPN\",\"LA\\u0160SSKFZ\",\"OREL HR.KR.\",\"SS UH.HRADISTE\",\"ASBVA\",\"\\u0160K RIEGEL\"],\"tickvals\":[\"SC PRAHA\",\"TJ DUKLA PRAHA\",\"DUKLA OLOMOUC\",\"VSK HUMANITA\",\"TJ LOKO PLZEN\",\"USK PRAHA\",\"TJ LOKO TEPLICE\",\"SLAVOJ LITOM\\u011a\\u0158ICE\",\"TJ LOKO K.VARY\",\"S\\u010c USTI NAD LABEM\",\"VENEZUELA\",\"1.FC BELA POD BEZ\",\"FC LEIPZIG\",\"A\\u0160 BRATISLAVA\",\"SOKOL DEJVICE\",\"BOHEMIANS\",\"UKRAJINA\",\"TJ SOKOL P\\u00cdSEK\",\"RIEGEL PRAHA\",\"VUT BRNO\",\"EKONOM PRAHA\",\"JISKRA H.BROD\",\"RADEBEUL\",\"JPN\",\"LA\\u0160SSKFZ\",\"OREL HR.KR.\",\"SS UH.HRADISTE\",\"ASBVA\",\"\\u0160K RIEGEL\"],\"tickangle\":-90},\"yaxis\":{\"anchor\":\"x\",\"domain\":[0.0,1.0],\"title\":{\"text\":\"count\"}},\"legend\":{\"title\":{\"text\":\"Club\"},\"tracegroupgap\":0},\"title\":{\"text\":\"Kluby podle po\\u010dtu z\\u00e1vodn\\u00edk\\u016f\"},\"barmode\":\"relative\",\"height\":700,\"width\":950},                        {\"responsive\": true}                    ).then(function(){\n",
       "                            \n",
       "var gd = document.getElementById('faed9c81-8929-4964-8187-425abad40ddd');\n",
       "var x = new MutationObserver(function (mutations, observer) {{\n",
       "        var display = window.getComputedStyle(gd).display;\n",
       "        if (!display || display === 'none') {{\n",
       "            console.log([gd, 'removed!']);\n",
       "            Plotly.purge(gd);\n",
       "            observer.disconnect();\n",
       "        }}\n",
       "}});\n",
       "\n",
       "// Listen for the removal of the full notebook cells\n",
       "var notebookContainer = gd.closest('#notebook-container');\n",
       "if (notebookContainer) {{\n",
       "    x.observe(notebookContainer, {childList: true});\n",
       "}}\n",
       "\n",
       "// Listen for the clearing of the current output cell\n",
       "var outputEl = gd.closest('.output');\n",
       "if (outputEl) {{\n",
       "    x.observe(outputEl, {childList: true});\n",
       "}}\n",
       "\n",
       "                        })                };                });            </script>        </div>"
      ]
     },
     "metadata": {},
     "output_type": "display_data"
    }
   ],
   "source": [
    "d3 = pd.DataFrame({'count' : df.groupby( [\"Club\"] ).size()}).reset_index()\n",
    "d3 = d3.sort_values(\"count\", ascending = False)\n",
    "#d3\n",
    "\n",
    "fig = px.bar(d3, x= d3[\"Club\"],\n",
    "             y= d3[\"count\"], \n",
    "             color = d3[\"Club\"] ,\n",
    "             text_auto='.0f',       # případně můžu zap/vyp číselné popisky  # .0f = přesné číslo, .0s je na desítky\n",
    "             width=950, height=700,\n",
    "             title=\"Kluby podle počtu závodníků\")\n",
    "\n",
    "#fig.update_traces(textfont_size=12, textangle=0, cliponaxis=False)\n",
    "fig.update_layout(xaxis = dict(tickvals = d3[\"Club\"]))\n",
    "fig.update_xaxes(tickangle=270)\n",
    "\n",
    "fig.show()\n",
    "\n",
    "pio.write_html(fig, file = f\"vizualizace/V2_Club_{SEX}.html\", auto_open=True)"
   ]
  },
  {
   "cell_type": "markdown",
   "id": "4551ff16-9af1-4553-b1b4-9b6908dbf503",
   "metadata": {},
   "source": [
    "## II.1.3 - Statistiky k medailím - opět z celého datasetu df_m (447 řádků)\n",
    "* medaile podle kovu - nutnost vyřešit překrývání sloupců\n",
    "* pro složitější ploty (víc než jeden simple groupby) budou lepší dictionaries, případně listy i s nulami\n",
    "* např. pro stacked nebo sdružené sloupce"
   ]
  },
  {
   "cell_type": "code",
   "execution_count": 44,
   "id": "3d3d4b3b-a140-4d59-aa5f-37b674ccd23b",
   "metadata": {},
   "outputs": [
    {
     "name": "stdout",
     "output_type": "stream",
     "text": [
      "\u001b[1m624\u001b[0m\n"
     ]
    },
    {
     "data": {
      "text/html": [
       "<div>\n",
       "<style scoped>\n",
       "    .dataframe tbody tr th:only-of-type {\n",
       "        vertical-align: middle;\n",
       "    }\n",
       "\n",
       "    .dataframe tbody tr th {\n",
       "        vertical-align: top;\n",
       "    }\n",
       "\n",
       "    .dataframe thead th {\n",
       "        text-align: right;\n",
       "    }\n",
       "</style>\n",
       "<table border=\"1\" class=\"dataframe\">\n",
       "  <thead>\n",
       "    <tr style=\"text-align: right;\">\n",
       "      <th></th>\n",
       "      <th>Name</th>\n",
       "      <th>Club</th>\n",
       "      <th>Country</th>\n",
       "      <th>Birthdate</th>\n",
       "      <th>Date</th>\n",
       "      <th>Event</th>\n",
       "      <th>Sex</th>\n",
       "      <th>Rank</th>\n",
       "      <th>First_rank</th>\n",
       "      <th>Final_rank</th>\n",
       "      <th>Notes</th>\n",
       "      <th>Year</th>\n",
       "    </tr>\n",
       "  </thead>\n",
       "  <tbody>\n",
       "    <tr>\n",
       "      <th>0</th>\n",
       "      <td>AIGERMANOVÁ Gabriela</td>\n",
       "      <td>TJ LOKO TEPLICE</td>\n",
       "      <td>CZE</td>\n",
       "      <td>2002-06-07</td>\n",
       "      <td>2019-05-25</td>\n",
       "      <td>MCR</td>\n",
       "      <td>W</td>\n",
       "      <td>22.0</td>\n",
       "      <td>26</td>\n",
       "      <td>26</td>\n",
       "      <td>Eliminated</td>\n",
       "      <td>2002</td>\n",
       "    </tr>\n",
       "    <tr>\n",
       "      <th>1</th>\n",
       "      <td>BIELESZOVÁ Veronika</td>\n",
       "      <td>SC PRAHA</td>\n",
       "      <td>CZE</td>\n",
       "      <td>2002-04-25</td>\n",
       "      <td>2019-05-25</td>\n",
       "      <td>MCR</td>\n",
       "      <td>W</td>\n",
       "      <td>8.0</td>\n",
       "      <td>2</td>\n",
       "      <td>5</td>\n",
       "      <td>Advanced</td>\n",
       "      <td>2002</td>\n",
       "    </tr>\n",
       "  </tbody>\n",
       "</table>\n",
       "</div>"
      ],
      "text/plain": [
       "                   Name             Club Country  Birthdate       Date Event  \\\n",
       "0  AIGERMANOVÁ Gabriela  TJ LOKO TEPLICE     CZE 2002-06-07 2019-05-25   MCR   \n",
       "1   BIELESZOVÁ Veronika         SC PRAHA     CZE 2002-04-25 2019-05-25   MCR   \n",
       "\n",
       "  Sex  Rank  First_rank  Final_rank       Notes  Year  \n",
       "0   W  22.0          26          26  Eliminated  2002  \n",
       "1   W   8.0           2           5    Advanced  2002  "
      ]
     },
     "metadata": {},
     "output_type": "display_data"
    },
    {
     "data": {
      "text/html": [
       "<div>\n",
       "<style scoped>\n",
       "    .dataframe tbody tr th:only-of-type {\n",
       "        vertical-align: middle;\n",
       "    }\n",
       "\n",
       "    .dataframe tbody tr th {\n",
       "        vertical-align: top;\n",
       "    }\n",
       "\n",
       "    .dataframe thead th {\n",
       "        text-align: right;\n",
       "    }\n",
       "</style>\n",
       "<table border=\"1\" class=\"dataframe\">\n",
       "  <thead>\n",
       "    <tr style=\"text-align: right;\">\n",
       "      <th></th>\n",
       "      <th>Name</th>\n",
       "      <th>Club</th>\n",
       "      <th>Country</th>\n",
       "      <th>Birthdate</th>\n",
       "      <th>Date</th>\n",
       "      <th>Event</th>\n",
       "      <th>Sex</th>\n",
       "      <th>Rank</th>\n",
       "      <th>First_rank</th>\n",
       "      <th>Final_rank</th>\n",
       "      <th>Notes</th>\n",
       "      <th>Year</th>\n",
       "    </tr>\n",
       "  </thead>\n",
       "  <tbody>\n",
       "    <tr>\n",
       "      <th>622</th>\n",
       "      <td>WEISOVÁ Kateřina</td>\n",
       "      <td>TJ LOKO TEPLICE</td>\n",
       "      <td>CZE</td>\n",
       "      <td>2004-06-05</td>\n",
       "      <td>2022-12-17</td>\n",
       "      <td>Memorial</td>\n",
       "      <td>W</td>\n",
       "      <td>30.0</td>\n",
       "      <td>26</td>\n",
       "      <td>27</td>\n",
       "      <td>Advanced</td>\n",
       "      <td>2004</td>\n",
       "    </tr>\n",
       "    <tr>\n",
       "      <th>623</th>\n",
       "      <td>YOUSEF Mira</td>\n",
       "      <td>SČ USTI NAD LABEM</td>\n",
       "      <td>UKR</td>\n",
       "      <td>2006-12-05</td>\n",
       "      <td>2022-12-17</td>\n",
       "      <td>Memorial</td>\n",
       "      <td>W</td>\n",
       "      <td>23.0</td>\n",
       "      <td>3</td>\n",
       "      <td>9</td>\n",
       "      <td>Advanced</td>\n",
       "      <td>2006</td>\n",
       "    </tr>\n",
       "  </tbody>\n",
       "</table>\n",
       "</div>"
      ],
      "text/plain": [
       "                 Name               Club Country  Birthdate       Date  \\\n",
       "622  WEISOVÁ Kateřina    TJ LOKO TEPLICE     CZE 2004-06-05 2022-12-17   \n",
       "623       YOUSEF Mira  SČ USTI NAD LABEM     UKR 2006-12-05 2022-12-17   \n",
       "\n",
       "        Event Sex  Rank  First_rank  Final_rank     Notes  Year  \n",
       "622  Memorial   W  30.0          26          27  Advanced  2004  \n",
       "623  Memorial   W  23.0           3           9  Advanced  2006  "
      ]
     },
     "metadata": {},
     "output_type": "display_data"
    }
   ],
   "source": [
    "df_m = pd.read_excel(f\"C:/Users/jzelenka/Documents/python_j/fencing/2_ranky_{SEX}.xlsx\")\n",
    "printbold(str(len(df_m)))\n",
    "display(df_m.head(2))\n",
    "display(df_m.tail(2))"
   ]
  },
  {
   "cell_type": "code",
   "execution_count": 45,
   "id": "5b1d9c86-785c-450c-b9f6-f1083b79aeed",
   "metadata": {},
   "outputs": [
    {
     "name": "stdout",
     "output_type": "stream",
     "text": [
      "624\n"
     ]
    }
   ],
   "source": [
    "# lets drop DNFs\n",
    "df_m = df_m[df_m.Final_rank != \"DNF\"]\n",
    "print(len(df_m))"
   ]
  },
  {
   "cell_type": "code",
   "execution_count": 46,
   "id": "96607fe0-31df-4bce-a49d-b2c3215365c9",
   "metadata": {
    "tags": []
   },
   "outputs": [
    {
     "data": {
      "text/plain": [
       "Name                  Club               Year\n",
       "ADAMCOVÁ Anita        TJ LOKO K.VARY     2006     7\n",
       "AIGERMANOVÁ Gabriela  TJ LOKO TEPLICE    2002     1\n",
       "BALLESTER Scarly      VENEZUELA          1999    34\n",
       "BARTOŠKOVÁ Adéla      SC PRAHA           2009    24\n",
       "BERTLOVÁ Barbora      SČ USTI NAD LABEM  1997    40\n",
       "                                                 ..\n",
       "ŠEBESTOVÁ Nela        SOKOL DEJVICE      2004    46\n",
       "ŠMÍDOVÁ Daniela       DUKLA OLOMOUC      2005    22\n",
       "ŠPATENKOVÁ Anna       DUKLA OLOMOUC      1999     3\n",
       "ŽOLNOVÁ Karolína      DUKLA OLOMOUC      1995    23\n",
       "ŽÁDNÍKOVÁ Daniela     DUKLA OLOMOUC      1984    10\n",
       "Name: Final_rank, Length: 139, dtype: int64"
      ]
     },
     "execution_count": 46,
     "metadata": {},
     "output_type": "execute_result"
    }
   ],
   "source": [
    "df_m.groupby([\"Name\", \"Club\", \"Year\"])['Final_rank'].min()"
   ]
  },
  {
   "cell_type": "markdown",
   "id": "ccb3a731-3eeb-47f6-94eb-5d7c6d8e474a",
   "metadata": {
    "tags": []
   },
   "source": [
    "## Medaile souhrnně podle roku narození"
   ]
  },
  {
   "cell_type": "code",
   "execution_count": 47,
   "id": "8595271f-c2f7-41a5-acac-f22f2ae84cf9",
   "metadata": {
    "tags": []
   },
   "outputs": [],
   "source": [
    "medals = df_m.loc[df_m.Final_rank.isin([1,2,3]), :]"
   ]
  },
  {
   "cell_type": "code",
   "execution_count": 48,
   "id": "fa7caebf-40ec-4217-bc4e-847db6df8caa",
   "metadata": {},
   "outputs": [
    {
     "data": {
      "image/png": "[encoded data removed]",
      "text/plain": [
       "<Figure size 480x400 with 1 Axes>"
      ]
     },
     "metadata": {
      "needs_background": "light"
     },
     "output_type": "display_data"
    }
   ],
   "source": [
    "figure(figsize=(6, 5), dpi=80)\n",
    "\n",
    "years = sorted(medals[\"Year\"].unique())\n",
    "counts = medals.groupby('Year')['Year'].count()\n",
    "plt.xticks(years, rotation='vertical')\n",
    "plt.bar(years, counts, width=0.8)  # šířka sloupečku\n",
    "\n",
    "plt.show()"
   ]
  },
  {
   "cell_type": "markdown",
   "id": "c3ef0bfb-bead-499d-a550-cd34af9e8833",
   "metadata": {},
   "source": [
    "### Rozdělení na jednotlivé kovy\n",
    "* medaile podle kovu - vyřešeno překrývání sloupců !"
   ]
  },
  {
   "cell_type": "code",
   "execution_count": 49,
   "id": "55830461-1ee6-41c8-b18c-7d68c56764ff",
   "metadata": {},
   "outputs": [
    {
     "name": "stdout",
     "output_type": "stream",
     "text": [
      "28\n",
      "28\n"
     ]
    }
   ],
   "source": [
    "# nutnost mít list se všemi (nenulovými) roky\n",
    "\n",
    "years_all = sorted(df_m.Year.unique())  # 1956-2008\n",
    "print(len(years_all))\n",
    "golds, silvers, bronzes = [0 for i in years_all],[0 for i in years_all],[0 for i in years_all]\n",
    "print(len(golds))"
   ]
  },
  {
   "cell_type": "code",
   "execution_count": 50,
   "id": "f83871e6-346b-4919-8773-2eaedc71c2ed",
   "metadata": {},
   "outputs": [],
   "source": [
    "# jeden list pro každou medaili\n",
    "# nutnost změnit na numpy array, protože jinak nefungovalo dvojité stackování, ale jen jednoduché \n",
    "# (silver: bottom = gold, ale bronze = gold + silver, tak to už ne)\n",
    "\n",
    "for i in range(len(years_all)):\n",
    "    df = df_m.loc[df_m.Year == years_all[i]].copy()\n",
    "    df_g = df.loc[df.Final_rank == 1]\n",
    "    df_s = df.loc[df.Final_rank == 2]\n",
    "    df_b = df.loc[df.Final_rank == 3]\n",
    "    \n",
    "    golds[i], silvers[i], bronzes[i] = len(df_g), len(df_s), len(df_b) \n",
    "\n",
    "golds = np.array(golds)\n",
    "silvers = np.array(silvers)\n",
    "bronzes = np.array(bronzes)"
   ]
  },
  {
   "cell_type": "code",
   "execution_count": 51,
   "id": "764d5da1-0afa-4920-b202-16d2efb99d8e",
   "metadata": {
    "tags": []
   },
   "outputs": [
    {
     "data": {
      "image/png": "[encoded data removed]",
      "text/plain": [
       "<Figure size 960x640 with 1 Axes>"
      ]
     },
     "metadata": {
      "needs_background": "light"
     },
     "output_type": "display_data"
    }
   ],
   "source": [
    "figure(figsize=(12, 8), dpi=80)\n",
    "\n",
    "plt.xticks(years_all ,rotation='vertical') \n",
    "plt.bar(years_all, golds,                          color = \"gold\",         label = \"Gold\")\n",
    "plt.bar(years_all, silvers, bottom = golds,        color = \"silver\",     label = \"Silver\")\n",
    "plt.bar(years_all, bronzes, bottom = golds+silvers, color = \"goldenrod\",  label = \"Bronze\")\n",
    "\n",
    "plt.legend(loc = \"upper left\")\n",
    "plt.show()"
   ]
  },
  {
   "cell_type": "code",
   "execution_count": 52,
   "id": "5986f716-e5df-4c6b-ba74-53001f5ee564",
   "metadata": {
    "tags": []
   },
   "outputs": [
    {
     "data": {
      "application/vnd.plotly.v1+json": {
       "config": {
        "plotlyServerURL": "https://plot.ly"
       },
       "data": [
        {
         "alignmentgroup": "True",
         "hovertemplate": "Final_rank=3<br>Year=%{x}<br>count=%{y}<extra></extra>",
         "legendgroup": "3",
         "marker": {
          "color": "goldenrod",
          "pattern": {
           "shape": ""
          }
         },
         "name": "3",
         "offsetgroup": "3",
         "orientation": "v",
         "showlegend": true,
         "textposition": "auto",
         "texttemplate": "%{y:.0f}",
         "type": "bar",
         "x": [
          1975,
          1990,
          1999,
          2000,
          2001,
          2002
         ],
         "xaxis": "x",
         "y": [
          1,
          7,
          7,
          4,
          2,
          9
         ],
         "yaxis": "y"
        },
        {
         "alignmentgroup": "True",
         "hovertemplate": "Final_rank=1<br>Year=%{x}<br>count=%{y}<extra></extra>",
         "legendgroup": "1",
         "marker": {
          "color": "gold",
          "pattern": {
           "shape": ""
          }
         },
         "name": "1",
         "offsetgroup": "1",
         "orientation": "v",
         "showlegend": true,
         "textposition": "auto",
         "texttemplate": "%{y:.0f}",
         "type": "bar",
         "x": [
          1990,
          1991,
          1999,
          2002,
          2003
         ],
         "xaxis": "x",
         "y": [
          7,
          1,
          2,
          4,
          1
         ],
         "yaxis": "y"
        },
        {
         "alignmentgroup": "True",
         "hovertemplate": "Final_rank=2<br>Year=%{x}<br>count=%{y}<extra></extra>",
         "legendgroup": "2",
         "marker": {
          "color": "silver",
          "pattern": {
           "shape": ""
          }
         },
         "name": "2",
         "offsetgroup": "2",
         "orientation": "v",
         "showlegend": true,
         "textposition": "auto",
         "texttemplate": "%{y:.0f}",
         "type": "bar",
         "x": [
          1990,
          1994,
          1995,
          1997,
          1998,
          1999,
          2002
         ],
         "xaxis": "x",
         "y": [
          2,
          1,
          1,
          1,
          1,
          6,
          3
         ],
         "yaxis": "y"
        }
       ],
       "layout": {
        "barmode": "relative",
        "height": 700,
        "legend": {
         "title": {
          "text": "Final_rank"
         },
         "tracegroupgap": 0
        },
        "template": {
         "data": {
          "bar": [
           {
            "error_x": {
             "color": "#2a3f5f"
            },
            "error_y": {
             "color": "#2a3f5f"
            },
            "marker": {
             "line": {
              "color": "#E5ECF6",
              "width": 0.5
             },
             "pattern": {
              "fillmode": "overlay",
              "size": 10,
              "solidity": 0.2
             }
            },
            "type": "bar"
           }
          ],
          "barpolar": [
           {
            "marker": {
             "line": {
              "color": "#E5ECF6",
              "width": 0.5
             },
             "pattern": {
              "fillmode": "overlay",
              "size": 10,
              "solidity": 0.2
             }
            },
            "type": "barpolar"
           }
          ],
          "carpet": [
           {
            "aaxis": {
             "endlinecolor": "#2a3f5f",
             "gridcolor": "white",
             "linecolor": "white",
             "minorgridcolor": "white",
             "startlinecolor": "#2a3f5f"
            },
            "baxis": {
             "endlinecolor": "#2a3f5f",
             "gridcolor": "white",
             "linecolor": "white",
             "minorgridcolor": "white",
             "startlinecolor": "#2a3f5f"
            },
            "type": "carpet"
           }
          ],
          "choropleth": [
           {
            "colorbar": {
             "outlinewidth": 0,
             "ticks": ""
            },
            "type": "choropleth"
           }
          ],
          "contour": [
           {
            "colorbar": {
             "outlinewidth": 0,
             "ticks": ""
            },
            "colorscale": [
             [
              0,
              "#0d0887"
             ],
             [
              0.1111111111111111,
              "#46039f"
             ],
             [
              0.2222222222222222,
              "#7201a8"
             ],
             [
              0.3333333333333333,
              "#9c179e"
             ],
             [
              0.4444444444444444,
              "#bd3786"
             ],
             [
              0.5555555555555556,
              "#d8576b"
             ],
             [
              0.6666666666666666,
              "#ed7953"
             ],
             [
              0.7777777777777778,
              "#fb9f3a"
             ],
             [
              0.8888888888888888,
              "#fdca26"
             ],
             [
              1,
              "#f0f921"
             ]
            ],
            "type": "contour"
           }
          ],
          "contourcarpet": [
           {
            "colorbar": {
             "outlinewidth": 0,
             "ticks": ""
            },
            "type": "contourcarpet"
           }
          ],
          "heatmap": [
           {
            "colorbar": {
             "outlinewidth": 0,
             "ticks": ""
            },
            "colorscale": [
             [
              0,
              "#0d0887"
             ],
             [
              0.1111111111111111,
              "#46039f"
             ],
             [
              0.2222222222222222,
              "#7201a8"
             ],
             [
              0.3333333333333333,
              "#9c179e"
             ],
             [
              0.4444444444444444,
              "#bd3786"
             ],
             [
              0.5555555555555556,
              "#d8576b"
             ],
             [
              0.6666666666666666,
              "#ed7953"
             ],
             [
              0.7777777777777778,
              "#fb9f3a"
             ],
             [
              0.8888888888888888,
              "#fdca26"
             ],
             [
              1,
              "#f0f921"
             ]
            ],
            "type": "heatmap"
           }
          ],
          "heatmapgl": [
           {
            "colorbar": {
             "outlinewidth": 0,
             "ticks": ""
            },
            "colorscale": [
             [
              0,
              "#0d0887"
             ],
             [
              0.1111111111111111,
              "#46039f"
             ],
             [
              0.2222222222222222,
              "#7201a8"
             ],
             [
              0.3333333333333333,
              "#9c179e"
             ],
             [
              0.4444444444444444,
              "#bd3786"
             ],
             [
              0.5555555555555556,
              "#d8576b"
             ],
             [
              0.6666666666666666,
              "#ed7953"
             ],
             [
              0.7777777777777778,
              "#fb9f3a"
             ],
             [
              0.8888888888888888,
              "#fdca26"
             ],
             [
              1,
              "#f0f921"
             ]
            ],
            "type": "heatmapgl"
           }
          ],
          "histogram": [
           {
            "marker": {
             "pattern": {
              "fillmode": "overlay",
              "size": 10,
              "solidity": 0.2
             }
            },
            "type": "histogram"
           }
          ],
          "histogram2d": [
           {
            "colorbar": {
             "outlinewidth": 0,
             "ticks": ""
            },
            "colorscale": [
             [
              0,
              "#0d0887"
             ],
             [
              0.1111111111111111,
              "#46039f"
             ],
             [
              0.2222222222222222,
              "#7201a8"
             ],
             [
              0.3333333333333333,
              "#9c179e"
             ],
             [
              0.4444444444444444,
              "#bd3786"
             ],
             [
              0.5555555555555556,
              "#d8576b"
             ],
             [
              0.6666666666666666,
              "#ed7953"
             ],
             [
              0.7777777777777778,
              "#fb9f3a"
             ],
             [
              0.8888888888888888,
              "#fdca26"
             ],
             [
              1,
              "#f0f921"
             ]
            ],
            "type": "histogram2d"
           }
          ],
          "histogram2dcontour": [
           {
            "colorbar": {
             "outlinewidth": 0,
             "ticks": ""
            },
            "colorscale": [
             [
              0,
              "#0d0887"
             ],
             [
              0.1111111111111111,
              "#46039f"
             ],
             [
              0.2222222222222222,
              "#7201a8"
             ],
             [
              0.3333333333333333,
              "#9c179e"
             ],
             [
              0.4444444444444444,
              "#bd3786"
             ],
             [
              0.5555555555555556,
              "#d8576b"
             ],
             [
              0.6666666666666666,
              "#ed7953"
             ],
             [
              0.7777777777777778,
              "#fb9f3a"
             ],
             [
              0.8888888888888888,
              "#fdca26"
             ],
             [
              1,
              "#f0f921"
             ]
            ],
            "type": "histogram2dcontour"
           }
          ],
          "mesh3d": [
           {
            "colorbar": {
             "outlinewidth": 0,
             "ticks": ""
            },
            "type": "mesh3d"
           }
          ],
          "parcoords": [
           {
            "line": {
             "colorbar": {
              "outlinewidth": 0,
              "ticks": ""
             }
            },
            "type": "parcoords"
           }
          ],
          "pie": [
           {
            "automargin": true,
            "type": "pie"
           }
          ],
          "scatter": [
           {
            "marker": {
             "colorbar": {
              "outlinewidth": 0,
              "ticks": ""
             }
            },
            "type": "scatter"
           }
          ],
          "scatter3d": [
           {
            "line": {
             "colorbar": {
              "outlinewidth": 0,
              "ticks": ""
             }
            },
            "marker": {
             "colorbar": {
              "outlinewidth": 0,
              "ticks": ""
             }
            },
            "type": "scatter3d"
           }
          ],
          "scattercarpet": [
           {
            "marker": {
             "colorbar": {
              "outlinewidth": 0,
              "ticks": ""
             }
            },
            "type": "scattercarpet"
           }
          ],
          "scattergeo": [
           {
            "marker": {
             "colorbar": {
              "outlinewidth": 0,
              "ticks": ""
             }
            },
            "type": "scattergeo"
           }
          ],
          "scattergl": [
           {
            "marker": {
             "colorbar": {
              "outlinewidth": 0,
              "ticks": ""
             }
            },
            "type": "scattergl"
           }
          ],
          "scattermapbox": [
           {
            "marker": {
             "colorbar": {
              "outlinewidth": 0,
              "ticks": ""
             }
            },
            "type": "scattermapbox"
           }
          ],
          "scatterpolar": [
           {
            "marker": {
             "colorbar": {
              "outlinewidth": 0,
              "ticks": ""
             }
            },
            "type": "scatterpolar"
           }
          ],
          "scatterpolargl": [
           {
            "marker": {
             "colorbar": {
              "outlinewidth": 0,
              "ticks": ""
             }
            },
            "type": "scatterpolargl"
           }
          ],
          "scatterternary": [
           {
            "marker": {
             "colorbar": {
              "outlinewidth": 0,
              "ticks": ""
             }
            },
            "type": "scatterternary"
           }
          ],
          "surface": [
           {
            "colorbar": {
             "outlinewidth": 0,
             "ticks": ""
            },
            "colorscale": [
             [
              0,
              "#0d0887"
             ],
             [
              0.1111111111111111,
              "#46039f"
             ],
             [
              0.2222222222222222,
              "#7201a8"
             ],
             [
              0.3333333333333333,
              "#9c179e"
             ],
             [
              0.4444444444444444,
              "#bd3786"
             ],
             [
              0.5555555555555556,
              "#d8576b"
             ],
             [
              0.6666666666666666,
              "#ed7953"
             ],
             [
              0.7777777777777778,
              "#fb9f3a"
             ],
             [
              0.8888888888888888,
              "#fdca26"
             ],
             [
              1,
              "#f0f921"
             ]
            ],
            "type": "surface"
           }
          ],
          "table": [
           {
            "cells": {
             "fill": {
              "color": "#EBF0F8"
             },
             "line": {
              "color": "white"
             }
            },
            "header": {
             "fill": {
              "color": "#C8D4E3"
             },
             "line": {
              "color": "white"
             }
            },
            "type": "table"
           }
          ]
         },
         "layout": {
          "annotationdefaults": {
           "arrowcolor": "#2a3f5f",
           "arrowhead": 0,
           "arrowwidth": 1
          },
          "autotypenumbers": "strict",
          "coloraxis": {
           "colorbar": {
            "outlinewidth": 0,
            "ticks": ""
           }
          },
          "colorscale": {
           "diverging": [
            [
             0,
             "#8e0152"
            ],
            [
             0.1,
             "#c51b7d"
            ],
            [
             0.2,
             "#de77ae"
            ],
            [
             0.3,
             "#f1b6da"
            ],
            [
             0.4,
             "#fde0ef"
            ],
            [
             0.5,
             "#f7f7f7"
            ],
            [
             0.6,
             "#e6f5d0"
            ],
            [
             0.7,
             "#b8e186"
            ],
            [
             0.8,
             "#7fbc41"
            ],
            [
             0.9,
             "#4d9221"
            ],
            [
             1,
             "#276419"
            ]
           ],
           "sequential": [
            [
             0,
             "#0d0887"
            ],
            [
             0.1111111111111111,
             "#46039f"
            ],
            [
             0.2222222222222222,
             "#7201a8"
            ],
            [
             0.3333333333333333,
             "#9c179e"
            ],
            [
             0.4444444444444444,
             "#bd3786"
            ],
            [
             0.5555555555555556,
             "#d8576b"
            ],
            [
             0.6666666666666666,
             "#ed7953"
            ],
            [
             0.7777777777777778,
             "#fb9f3a"
            ],
            [
             0.8888888888888888,
             "#fdca26"
            ],
            [
             1,
             "#f0f921"
            ]
           ],
           "sequentialminus": [
            [
             0,
             "#0d0887"
            ],
            [
             0.1111111111111111,
             "#46039f"
            ],
            [
             0.2222222222222222,
             "#7201a8"
            ],
            [
             0.3333333333333333,
             "#9c179e"
            ],
            [
             0.4444444444444444,
             "#bd3786"
            ],
            [
             0.5555555555555556,
             "#d8576b"
            ],
            [
             0.6666666666666666,
             "#ed7953"
            ],
            [
             0.7777777777777778,
             "#fb9f3a"
            ],
            [
             0.8888888888888888,
             "#fdca26"
            ],
            [
             1,
             "#f0f921"
            ]
           ]
          },
          "colorway": [
           "#636efa",
           "#EF553B",
           "#00cc96",
           "#ab63fa",
           "#FFA15A",
           "#19d3f3",
           "#FF6692",
           "#B6E880",
           "#FF97FF",
           "#FECB52"
          ],
          "font": {
           "color": "#2a3f5f"
          },
          "geo": {
           "bgcolor": "white",
           "lakecolor": "white",
           "landcolor": "#E5ECF6",
           "showlakes": true,
           "showland": true,
           "subunitcolor": "white"
          },
          "hoverlabel": {
           "align": "left"
          },
          "hovermode": "closest",
          "mapbox": {
           "style": "light"
          },
          "paper_bgcolor": "white",
          "plot_bgcolor": "#E5ECF6",
          "polar": {
           "angularaxis": {
            "gridcolor": "white",
            "linecolor": "white",
            "ticks": ""
           },
           "bgcolor": "#E5ECF6",
           "radialaxis": {
            "gridcolor": "white",
            "linecolor": "white",
            "ticks": ""
           }
          },
          "scene": {
           "xaxis": {
            "backgroundcolor": "#E5ECF6",
            "gridcolor": "white",
            "gridwidth": 2,
            "linecolor": "white",
            "showbackground": true,
            "ticks": "",
            "zerolinecolor": "white"
           },
           "yaxis": {
            "backgroundcolor": "#E5ECF6",
            "gridcolor": "white",
            "gridwidth": 2,
            "linecolor": "white",
            "showbackground": true,
            "ticks": "",
            "zerolinecolor": "white"
           },
           "zaxis": {
            "backgroundcolor": "#E5ECF6",
            "gridcolor": "white",
            "gridwidth": 2,
            "linecolor": "white",
            "showbackground": true,
            "ticks": "",
            "zerolinecolor": "white"
           }
          },
          "shapedefaults": {
           "line": {
            "color": "#2a3f5f"
           }
          },
          "ternary": {
           "aaxis": {
            "gridcolor": "white",
            "linecolor": "white",
            "ticks": ""
           },
           "baxis": {
            "gridcolor": "white",
            "linecolor": "white",
            "ticks": ""
           },
           "bgcolor": "#E5ECF6",
           "caxis": {
            "gridcolor": "white",
            "linecolor": "white",
            "ticks": ""
           }
          },
          "title": {
           "x": 0.05
          },
          "xaxis": {
           "automargin": true,
           "gridcolor": "white",
           "linecolor": "white",
           "ticks": "",
           "title": {
            "standoff": 15
           },
           "zerolinecolor": "white",
           "zerolinewidth": 2
          },
          "yaxis": {
           "automargin": true,
           "gridcolor": "white",
           "linecolor": "white",
           "ticks": "",
           "title": {
            "standoff": 15
           },
           "zerolinecolor": "white",
           "zerolinewidth": 2
          }
         }
        },
        "title": {
         "text": "Medaile podle roku narození"
        },
        "width": 950,
        "xaxis": {
         "anchor": "y",
         "autorange": true,
         "domain": [
          0,
          1
         ],
         "range": [
          1974.5,
          2003.5
         ],
         "tickangle": -90,
         "tickvals": [
          1975,
          1990,
          1990,
          1990,
          1991,
          1994,
          1995,
          1997,
          1998,
          1999,
          1999,
          1999,
          2000,
          2001,
          2002,
          2002,
          2002,
          2003
         ],
         "title": {
          "text": "Year"
         },
         "type": "linear"
        },
        "yaxis": {
         "anchor": "x",
         "autorange": true,
         "domain": [
          0,
          1
         ],
         "range": [
          0,
          16.842105263157894
         ],
         "title": {
          "text": "count"
         },
         "type": "linear"
        }
       }
      },
      "image/png": "[encoded data removed]",
      "text/html": [
       "<div>                            <div id=\"8dfcf705-ddff-4faf-bfeb-5fe3befbc6fa\" class=\"plotly-graph-div\" style=\"height:700px; width:950px;\"></div>            <script type=\"text/javascript\">                require([\"plotly\"], function(Plotly) {                    window.PLOTLYENV=window.PLOTLYENV || {};                                    if (document.getElementById(\"8dfcf705-ddff-4faf-bfeb-5fe3befbc6fa\")) {                    Plotly.newPlot(                        \"8dfcf705-ddff-4faf-bfeb-5fe3befbc6fa\",                        [{\"alignmentgroup\":\"True\",\"hovertemplate\":\"Final_rank=3<br>Year=%{x}<br>count=%{y}<extra></extra>\",\"legendgroup\":\"3\",\"marker\":{\"color\":\"goldenrod\",\"pattern\":{\"shape\":\"\"}},\"name\":\"3\",\"offsetgroup\":\"3\",\"orientation\":\"v\",\"showlegend\":true,\"textposition\":\"auto\",\"texttemplate\":\"%{y:.0f}\",\"x\":[1975,1990,1999,2000,2001,2002],\"xaxis\":\"x\",\"y\":[1,7,7,4,2,9],\"yaxis\":\"y\",\"type\":\"bar\"},{\"alignmentgroup\":\"True\",\"hovertemplate\":\"Final_rank=1<br>Year=%{x}<br>count=%{y}<extra></extra>\",\"legendgroup\":\"1\",\"marker\":{\"color\":\"gold\",\"pattern\":{\"shape\":\"\"}},\"name\":\"1\",\"offsetgroup\":\"1\",\"orientation\":\"v\",\"showlegend\":true,\"textposition\":\"auto\",\"texttemplate\":\"%{y:.0f}\",\"x\":[1990,1991,1999,2002,2003],\"xaxis\":\"x\",\"y\":[7,1,2,4,1],\"yaxis\":\"y\",\"type\":\"bar\"},{\"alignmentgroup\":\"True\",\"hovertemplate\":\"Final_rank=2<br>Year=%{x}<br>count=%{y}<extra></extra>\",\"legendgroup\":\"2\",\"marker\":{\"color\":\"silver\",\"pattern\":{\"shape\":\"\"}},\"name\":\"2\",\"offsetgroup\":\"2\",\"orientation\":\"v\",\"showlegend\":true,\"textposition\":\"auto\",\"texttemplate\":\"%{y:.0f}\",\"x\":[1990,1994,1995,1997,1998,1999,2002],\"xaxis\":\"x\",\"y\":[2,1,1,1,1,6,3],\"yaxis\":\"y\",\"type\":\"bar\"}],                        {\"template\":{\"data\":{\"bar\":[{\"error_x\":{\"color\":\"#2a3f5f\"},\"error_y\":{\"color\":\"#2a3f5f\"},\"marker\":{\"line\":{\"color\":\"#E5ECF6\",\"width\":0.5},\"pattern\":{\"fillmode\":\"overlay\",\"size\":10,\"solidity\":0.2}},\"type\":\"bar\"}],\"barpolar\":[{\"marker\":{\"line\":{\"color\":\"#E5ECF6\",\"width\":0.5},\"pattern\":{\"fillmode\":\"overlay\",\"size\":10,\"solidity\":0.2}},\"type\":\"barpolar\"}],\"carpet\":[{\"aaxis\":{\"endlinecolor\":\"#2a3f5f\",\"gridcolor\":\"white\",\"linecolor\":\"white\",\"minorgridcolor\":\"white\",\"startlinecolor\":\"#2a3f5f\"},\"baxis\":{\"endlinecolor\":\"#2a3f5f\",\"gridcolor\":\"white\",\"linecolor\":\"white\",\"minorgridcolor\":\"white\",\"startlinecolor\":\"#2a3f5f\"},\"type\":\"carpet\"}],\"choropleth\":[{\"colorbar\":{\"outlinewidth\":0,\"ticks\":\"\"},\"type\":\"choropleth\"}],\"contour\":[{\"colorbar\":{\"outlinewidth\":0,\"ticks\":\"\"},\"colorscale\":[[0.0,\"#0d0887\"],[0.1111111111111111,\"#46039f\"],[0.2222222222222222,\"#7201a8\"],[0.3333333333333333,\"#9c179e\"],[0.4444444444444444,\"#bd3786\"],[0.5555555555555556,\"#d8576b\"],[0.6666666666666666,\"#ed7953\"],[0.7777777777777778,\"#fb9f3a\"],[0.8888888888888888,\"#fdca26\"],[1.0,\"#f0f921\"]],\"type\":\"contour\"}],\"contourcarpet\":[{\"colorbar\":{\"outlinewidth\":0,\"ticks\":\"\"},\"type\":\"contourcarpet\"}],\"heatmap\":[{\"colorbar\":{\"outlinewidth\":0,\"ticks\":\"\"},\"colorscale\":[[0.0,\"#0d0887\"],[0.1111111111111111,\"#46039f\"],[0.2222222222222222,\"#7201a8\"],[0.3333333333333333,\"#9c179e\"],[0.4444444444444444,\"#bd3786\"],[0.5555555555555556,\"#d8576b\"],[0.6666666666666666,\"#ed7953\"],[0.7777777777777778,\"#fb9f3a\"],[0.8888888888888888,\"#fdca26\"],[1.0,\"#f0f921\"]],\"type\":\"heatmap\"}],\"heatmapgl\":[{\"colorbar\":{\"outlinewidth\":0,\"ticks\":\"\"},\"colorscale\":[[0.0,\"#0d0887\"],[0.1111111111111111,\"#46039f\"],[0.2222222222222222,\"#7201a8\"],[0.3333333333333333,\"#9c179e\"],[0.4444444444444444,\"#bd3786\"],[0.5555555555555556,\"#d8576b\"],[0.6666666666666666,\"#ed7953\"],[0.7777777777777778,\"#fb9f3a\"],[0.8888888888888888,\"#fdca26\"],[1.0,\"#f0f921\"]],\"type\":\"heatmapgl\"}],\"histogram\":[{\"marker\":{\"pattern\":{\"fillmode\":\"overlay\",\"size\":10,\"solidity\":0.2}},\"type\":\"histogram\"}],\"histogram2d\":[{\"colorbar\":{\"outlinewidth\":0,\"ticks\":\"\"},\"colorscale\":[[0.0,\"#0d0887\"],[0.1111111111111111,\"#46039f\"],[0.2222222222222222,\"#7201a8\"],[0.3333333333333333,\"#9c179e\"],[0.4444444444444444,\"#bd3786\"],[0.5555555555555556,\"#d8576b\"],[0.6666666666666666,\"#ed7953\"],[0.7777777777777778,\"#fb9f3a\"],[0.8888888888888888,\"#fdca26\"],[1.0,\"#f0f921\"]],\"type\":\"histogram2d\"}],\"histogram2dcontour\":[{\"colorbar\":{\"outlinewidth\":0,\"ticks\":\"\"},\"colorscale\":[[0.0,\"#0d0887\"],[0.1111111111111111,\"#46039f\"],[0.2222222222222222,\"#7201a8\"],[0.3333333333333333,\"#9c179e\"],[0.4444444444444444,\"#bd3786\"],[0.5555555555555556,\"#d8576b\"],[0.6666666666666666,\"#ed7953\"],[0.7777777777777778,\"#fb9f3a\"],[0.8888888888888888,\"#fdca26\"],[1.0,\"#f0f921\"]],\"type\":\"histogram2dcontour\"}],\"mesh3d\":[{\"colorbar\":{\"outlinewidth\":0,\"ticks\":\"\"},\"type\":\"mesh3d\"}],\"parcoords\":[{\"line\":{\"colorbar\":{\"outlinewidth\":0,\"ticks\":\"\"}},\"type\":\"parcoords\"}],\"pie\":[{\"automargin\":true,\"type\":\"pie\"}],\"scatter\":[{\"marker\":{\"colorbar\":{\"outlinewidth\":0,\"ticks\":\"\"}},\"type\":\"scatter\"}],\"scatter3d\":[{\"line\":{\"colorbar\":{\"outlinewidth\":0,\"ticks\":\"\"}},\"marker\":{\"colorbar\":{\"outlinewidth\":0,\"ticks\":\"\"}},\"type\":\"scatter3d\"}],\"scattercarpet\":[{\"marker\":{\"colorbar\":{\"outlinewidth\":0,\"ticks\":\"\"}},\"type\":\"scattercarpet\"}],\"scattergeo\":[{\"marker\":{\"colorbar\":{\"outlinewidth\":0,\"ticks\":\"\"}},\"type\":\"scattergeo\"}],\"scattergl\":[{\"marker\":{\"colorbar\":{\"outlinewidth\":0,\"ticks\":\"\"}},\"type\":\"scattergl\"}],\"scattermapbox\":[{\"marker\":{\"colorbar\":{\"outlinewidth\":0,\"ticks\":\"\"}},\"type\":\"scattermapbox\"}],\"scatterpolar\":[{\"marker\":{\"colorbar\":{\"outlinewidth\":0,\"ticks\":\"\"}},\"type\":\"scatterpolar\"}],\"scatterpolargl\":[{\"marker\":{\"colorbar\":{\"outlinewidth\":0,\"ticks\":\"\"}},\"type\":\"scatterpolargl\"}],\"scatterternary\":[{\"marker\":{\"colorbar\":{\"outlinewidth\":0,\"ticks\":\"\"}},\"type\":\"scatterternary\"}],\"surface\":[{\"colorbar\":{\"outlinewidth\":0,\"ticks\":\"\"},\"colorscale\":[[0.0,\"#0d0887\"],[0.1111111111111111,\"#46039f\"],[0.2222222222222222,\"#7201a8\"],[0.3333333333333333,\"#9c179e\"],[0.4444444444444444,\"#bd3786\"],[0.5555555555555556,\"#d8576b\"],[0.6666666666666666,\"#ed7953\"],[0.7777777777777778,\"#fb9f3a\"],[0.8888888888888888,\"#fdca26\"],[1.0,\"#f0f921\"]],\"type\":\"surface\"}],\"table\":[{\"cells\":{\"fill\":{\"color\":\"#EBF0F8\"},\"line\":{\"color\":\"white\"}},\"header\":{\"fill\":{\"color\":\"#C8D4E3\"},\"line\":{\"color\":\"white\"}},\"type\":\"table\"}]},\"layout\":{\"annotationdefaults\":{\"arrowcolor\":\"#2a3f5f\",\"arrowhead\":0,\"arrowwidth\":1},\"autotypenumbers\":\"strict\",\"coloraxis\":{\"colorbar\":{\"outlinewidth\":0,\"ticks\":\"\"}},\"colorscale\":{\"diverging\":[[0,\"#8e0152\"],[0.1,\"#c51b7d\"],[0.2,\"#de77ae\"],[0.3,\"#f1b6da\"],[0.4,\"#fde0ef\"],[0.5,\"#f7f7f7\"],[0.6,\"#e6f5d0\"],[0.7,\"#b8e186\"],[0.8,\"#7fbc41\"],[0.9,\"#4d9221\"],[1,\"#276419\"]],\"sequential\":[[0.0,\"#0d0887\"],[0.1111111111111111,\"#46039f\"],[0.2222222222222222,\"#7201a8\"],[0.3333333333333333,\"#9c179e\"],[0.4444444444444444,\"#bd3786\"],[0.5555555555555556,\"#d8576b\"],[0.6666666666666666,\"#ed7953\"],[0.7777777777777778,\"#fb9f3a\"],[0.8888888888888888,\"#fdca26\"],[1.0,\"#f0f921\"]],\"sequentialminus\":[[0.0,\"#0d0887\"],[0.1111111111111111,\"#46039f\"],[0.2222222222222222,\"#7201a8\"],[0.3333333333333333,\"#9c179e\"],[0.4444444444444444,\"#bd3786\"],[0.5555555555555556,\"#d8576b\"],[0.6666666666666666,\"#ed7953\"],[0.7777777777777778,\"#fb9f3a\"],[0.8888888888888888,\"#fdca26\"],[1.0,\"#f0f921\"]]},\"colorway\":[\"#636efa\",\"#EF553B\",\"#00cc96\",\"#ab63fa\",\"#FFA15A\",\"#19d3f3\",\"#FF6692\",\"#B6E880\",\"#FF97FF\",\"#FECB52\"],\"font\":{\"color\":\"#2a3f5f\"},\"geo\":{\"bgcolor\":\"white\",\"lakecolor\":\"white\",\"landcolor\":\"#E5ECF6\",\"showlakes\":true,\"showland\":true,\"subunitcolor\":\"white\"},\"hoverlabel\":{\"align\":\"left\"},\"hovermode\":\"closest\",\"mapbox\":{\"style\":\"light\"},\"paper_bgcolor\":\"white\",\"plot_bgcolor\":\"#E5ECF6\",\"polar\":{\"angularaxis\":{\"gridcolor\":\"white\",\"linecolor\":\"white\",\"ticks\":\"\"},\"bgcolor\":\"#E5ECF6\",\"radialaxis\":{\"gridcolor\":\"white\",\"linecolor\":\"white\",\"ticks\":\"\"}},\"scene\":{\"xaxis\":{\"backgroundcolor\":\"#E5ECF6\",\"gridcolor\":\"white\",\"gridwidth\":2,\"linecolor\":\"white\",\"showbackground\":true,\"ticks\":\"\",\"zerolinecolor\":\"white\"},\"yaxis\":{\"backgroundcolor\":\"#E5ECF6\",\"gridcolor\":\"white\",\"gridwidth\":2,\"linecolor\":\"white\",\"showbackground\":true,\"ticks\":\"\",\"zerolinecolor\":\"white\"},\"zaxis\":{\"backgroundcolor\":\"#E5ECF6\",\"gridcolor\":\"white\",\"gridwidth\":2,\"linecolor\":\"white\",\"showbackground\":true,\"ticks\":\"\",\"zerolinecolor\":\"white\"}},\"shapedefaults\":{\"line\":{\"color\":\"#2a3f5f\"}},\"ternary\":{\"aaxis\":{\"gridcolor\":\"white\",\"linecolor\":\"white\",\"ticks\":\"\"},\"baxis\":{\"gridcolor\":\"white\",\"linecolor\":\"white\",\"ticks\":\"\"},\"bgcolor\":\"#E5ECF6\",\"caxis\":{\"gridcolor\":\"white\",\"linecolor\":\"white\",\"ticks\":\"\"}},\"title\":{\"x\":0.05},\"xaxis\":{\"automargin\":true,\"gridcolor\":\"white\",\"linecolor\":\"white\",\"ticks\":\"\",\"title\":{\"standoff\":15},\"zerolinecolor\":\"white\",\"zerolinewidth\":2},\"yaxis\":{\"automargin\":true,\"gridcolor\":\"white\",\"linecolor\":\"white\",\"ticks\":\"\",\"title\":{\"standoff\":15},\"zerolinecolor\":\"white\",\"zerolinewidth\":2}}},\"xaxis\":{\"anchor\":\"y\",\"domain\":[0.0,1.0],\"title\":{\"text\":\"Year\"},\"tickvals\":[1975,1990,1990,1990,1991,1994,1995,1997,1998,1999,1999,1999,2000,2001,2002,2002,2002,2003],\"tickangle\":-90},\"yaxis\":{\"anchor\":\"x\",\"domain\":[0.0,1.0],\"title\":{\"text\":\"count\"}},\"legend\":{\"title\":{\"text\":\"Final_rank\"},\"tracegroupgap\":0},\"title\":{\"text\":\"Medaile podle roku narozen\\u00ed\"},\"barmode\":\"relative\",\"height\":700,\"width\":950},                        {\"responsive\": true}                    ).then(function(){\n",
       "                            \n",
       "var gd = document.getElementById('8dfcf705-ddff-4faf-bfeb-5fe3befbc6fa');\n",
       "var x = new MutationObserver(function (mutations, observer) {{\n",
       "        var display = window.getComputedStyle(gd).display;\n",
       "        if (!display || display === 'none') {{\n",
       "            console.log([gd, 'removed!']);\n",
       "            Plotly.purge(gd);\n",
       "            observer.disconnect();\n",
       "        }}\n",
       "}});\n",
       "\n",
       "// Listen for the removal of the full notebook cells\n",
       "var notebookContainer = gd.closest('#notebook-container');\n",
       "if (notebookContainer) {{\n",
       "    x.observe(notebookContainer, {childList: true});\n",
       "}}\n",
       "\n",
       "// Listen for the clearing of the current output cell\n",
       "var outputEl = gd.closest('.output');\n",
       "if (outputEl) {{\n",
       "    x.observe(outputEl, {childList: true});\n",
       "}}\n",
       "\n",
       "                        })                };                });            </script>        </div>"
      ]
     },
     "metadata": {},
     "output_type": "display_data"
    }
   ],
   "source": [
    "medals = df_m.loc[df_m.Final_rank.isin([1,2,3]), :]\n",
    "d4 = pd.DataFrame({'count' : medals.groupby( ['Year', \"Final_rank\"] ).size()}).reset_index()\n",
    "d4[\"Final_rank\"] = d4[\"Final_rank\"].astype(str) # nezbytné pro diskrétní barvy: https://plotly.com/python/discrete-color/\n",
    "\n",
    "fig = px.bar(d4, x= d4[\"Year\"],\n",
    "             y= d4[\"count\"], \n",
    "             color = d4[\"Final_rank\"] ,\n",
    "             color_discrete_map={\"1\": \"gold\", \"2\":\"silver\", \"3\":\"goldenrod\"},  # definice barev\n",
    "             #hover_name=\"Final_rank\",   # extra info ve float popisku\n",
    "             text_auto='.0f',      # případně můžu zap/vyp číselné popisky  # .0f = přesné číslo, .0s je na desítky\n",
    "             width=950, height=700,\n",
    "             title=\"Medaile podle roku narození\")\n",
    "\n",
    "fig.update_layout(xaxis = dict(tickvals = d4[\"Year\"]))\n",
    "fig.update_xaxes(tickangle=270)\n",
    "fig.show()\n",
    "\n",
    "pio.write_html(fig, file = f\"vizualizace/V3_Medals-Year_{SEX}.html\", auto_open=True)"
   ]
  },
  {
   "cell_type": "markdown",
   "id": "0ad19d33-e754-4426-b274-91740a4a3963",
   "metadata": {},
   "source": [
    "## Medaile souhrn podle klubu"
   ]
  },
  {
   "cell_type": "code",
   "execution_count": 53,
   "id": "0c265150-37fc-4897-a75e-1876bb86531a",
   "metadata": {},
   "outputs": [
    {
     "data": {
      "image/png": "[encoded data removed]",
      "text/plain": [
       "<Figure size 480x400 with 1 Axes>"
      ]
     },
     "metadata": {
      "needs_background": "light"
     },
     "output_type": "display_data"
    }
   ],
   "source": [
    "figure(figsize=(6, 5), dpi=80)\n",
    "\n",
    "clubs = medals.groupby(['Club'])['Club'].count().to_dict()\n",
    "clubs = dict(sorted(clubs.items(), key=lambda item: item[1], reverse = True))\n",
    "\n",
    "plt.xticks(rotation='vertical')                             \n",
    "plt.bar(list(clubs.keys()), list(clubs.values()), width=0.8)\n",
    "\n",
    "plt.show()"
   ]
  },
  {
   "cell_type": "markdown",
   "id": "71d93dee-20c8-4383-9b4a-b037e9c57761",
   "metadata": {},
   "source": [
    "### Rozdělení na jednotlivé kovy\n",
    "* jediné co chybí, je řazení podle nejvyššího součtu, jako výše\n",
    "* na to bych potřeboval dictionary"
   ]
  },
  {
   "cell_type": "code",
   "execution_count": 54,
   "id": "2cff03fe-0c83-44a1-85c4-9598c168119b",
   "metadata": {},
   "outputs": [
    {
     "name": "stdout",
     "output_type": "stream",
     "text": [
      "29\n",
      "29\n"
     ]
    }
   ],
   "source": [
    "clubs_all = sorted(df_m.Club.unique()) \n",
    "print(len(clubs_all))\n",
    "golds, silvers, bronzes = [0 for i in clubs_all],[0 for i in clubs_all],[0 for i in clubs_all]\n",
    "print(len(golds))"
   ]
  },
  {
   "cell_type": "code",
   "execution_count": 55,
   "id": "047c06af-3ffe-4c74-9e52-a6a55265b852",
   "metadata": {},
   "outputs": [],
   "source": [
    "# jeden list pro každou medaili\n",
    "# nutnost změnit na numpy array, protože jinak nefungovalo dvojité stackování, ale jen jednoduché \n",
    "# (silver: bottom = gold, ale bronze = gold + silver, tak to už ne)\n",
    "\n",
    "for i in range(len(clubs_all)):\n",
    "    df = df_m.loc[df_m.Club == clubs_all[i]].copy()\n",
    "    df_g = df.loc[df.Final_rank == 1]\n",
    "    df_s = df.loc[df.Final_rank == 2]\n",
    "    df_b = df.loc[df.Final_rank == 3]\n",
    "    \n",
    "    golds[i], silvers[i], bronzes[i] = len(df_g), len(df_s), len(df_b) \n",
    "\n",
    "golds = np.array(golds)\n",
    "silvers = np.array(silvers)\n",
    "bronzes = np.array(bronzes)"
   ]
  },
  {
   "cell_type": "code",
   "execution_count": 56,
   "id": "4b7f9a49-b738-4453-93b7-96a336a620ae",
   "metadata": {},
   "outputs": [
    {
     "data": {
      "image/png": "[encoded data removed]",
      "text/plain": [
       "<Figure size 960x640 with 1 Axes>"
      ]
     },
     "metadata": {
      "needs_background": "light"
     },
     "output_type": "display_data"
    }
   ],
   "source": [
    "figure(figsize=(12, 8), dpi=80)\n",
    "\n",
    " #stačilo zas odmazat clubs_all z xticks\n",
    "plt.xticks(rotation='vertical')  \n",
    "plt.bar(clubs_all, golds,                           color = \"gold\",      label = \"Gold\")\n",
    "plt.bar(clubs_all, silvers, bottom = golds,         color = \"silver\",    label = \"Silver\")\n",
    "plt.bar(clubs_all, bronzes, bottom = golds+silvers, color = \"goldenrod\", label = \"Bronze\")\n",
    "\n",
    "plt.legend(loc = \"upper left\")\n",
    "plt.show()"
   ]
  },
  {
   "cell_type": "code",
   "execution_count": 60,
   "id": "f88b4285-e28b-455d-9e5e-d206a3dc1c87",
   "metadata": {
    "tags": []
   },
   "outputs": [
    {
     "data": {
      "application/vnd.plotly.v1+json": {
       "config": {
        "plotlyServerURL": "https://plot.ly"
       },
       "data": [
        {
         "alignmentgroup": "True",
         "hovertemplate": "Final_rank=3<br>Club=%{x}<br>count=%{y}<extra></extra>",
         "legendgroup": "3",
         "marker": {
          "color": "goldenrod",
          "pattern": {
           "shape": ""
          }
         },
         "name": "3",
         "offsetgroup": "3",
         "orientation": "v",
         "showlegend": true,
         "textposition": "auto",
         "texttemplate": "%{y:.0f}",
         "type": "bar",
         "x": [
          "1.FC BELA POD BEZ",
          "DUKLA OLOMOUC",
          "SC PRAHA",
          "TJ DUKLA PRAHA",
          "TJ LOKO TEPLICE",
          "UKRAJINA",
          "USK PRAHA",
          "VENEZUELA"
         ],
         "xaxis": "x",
         "y": [
          2,
          3,
          16,
          3,
          2,
          1,
          2,
          1
         ],
         "yaxis": "y"
        },
        {
         "alignmentgroup": "True",
         "hovertemplate": "Final_rank=1<br>Club=%{x}<br>count=%{y}<extra></extra>",
         "legendgroup": "1",
         "marker": {
          "color": "gold",
          "pattern": {
           "shape": ""
          }
         },
         "name": "1",
         "offsetgroup": "1",
         "orientation": "v",
         "showlegend": true,
         "textposition": "auto",
         "texttemplate": "%{y:.0f}",
         "type": "bar",
         "x": [
          "SC PRAHA",
          "TJ DUKLA PRAHA",
          "TJ LOKO TEPLICE",
          "USK PRAHA",
          "VENEZUELA"
         ],
         "xaxis": "x",
         "y": [
          7,
          5,
          1,
          1,
          1
         ],
         "yaxis": "y"
        },
        {
         "alignmentgroup": "True",
         "hovertemplate": "Final_rank=2<br>Club=%{x}<br>count=%{y}<extra></extra>",
         "legendgroup": "2",
         "marker": {
          "color": "silver",
          "pattern": {
           "shape": ""
          }
         },
         "name": "2",
         "offsetgroup": "2",
         "orientation": "v",
         "showlegend": true,
         "textposition": "auto",
         "texttemplate": "%{y:.0f}",
         "type": "bar",
         "x": [
          "SC PRAHA",
          "TJ DUKLA PRAHA",
          "TJ LOKO PLZEN",
          "UKRAJINA",
          "VSK HUMANITA"
         ],
         "xaxis": "x",
         "y": [
          10,
          2,
          1,
          1,
          1
         ],
         "yaxis": "y"
        }
       ],
       "layout": {
        "barmode": "relative",
        "height": 700,
        "legend": {
         "title": {
          "text": "Final_rank"
         },
         "tracegroupgap": 0
        },
        "template": {
         "data": {
          "bar": [
           {
            "error_x": {
             "color": "#2a3f5f"
            },
            "error_y": {
             "color": "#2a3f5f"
            },
            "marker": {
             "line": {
              "color": "#E5ECF6",
              "width": 0.5
             },
             "pattern": {
              "fillmode": "overlay",
              "size": 10,
              "solidity": 0.2
             }
            },
            "type": "bar"
           }
          ],
          "barpolar": [
           {
            "marker": {
             "line": {
              "color": "#E5ECF6",
              "width": 0.5
             },
             "pattern": {
              "fillmode": "overlay",
              "size": 10,
              "solidity": 0.2
             }
            },
            "type": "barpolar"
           }
          ],
          "carpet": [
           {
            "aaxis": {
             "endlinecolor": "#2a3f5f",
             "gridcolor": "white",
             "linecolor": "white",
             "minorgridcolor": "white",
             "startlinecolor": "#2a3f5f"
            },
            "baxis": {
             "endlinecolor": "#2a3f5f",
             "gridcolor": "white",
             "linecolor": "white",
             "minorgridcolor": "white",
             "startlinecolor": "#2a3f5f"
            },
            "type": "carpet"
           }
          ],
          "choropleth": [
           {
            "colorbar": {
             "outlinewidth": 0,
             "ticks": ""
            },
            "type": "choropleth"
           }
          ],
          "contour": [
           {
            "colorbar": {
             "outlinewidth": 0,
             "ticks": ""
            },
            "colorscale": [
             [
              0,
              "#0d0887"
             ],
             [
              0.1111111111111111,
              "#46039f"
             ],
             [
              0.2222222222222222,
              "#7201a8"
             ],
             [
              0.3333333333333333,
              "#9c179e"
             ],
             [
              0.4444444444444444,
              "#bd3786"
             ],
             [
              0.5555555555555556,
              "#d8576b"
             ],
             [
              0.6666666666666666,
              "#ed7953"
             ],
             [
              0.7777777777777778,
              "#fb9f3a"
             ],
             [
              0.8888888888888888,
              "#fdca26"
             ],
             [
              1,
              "#f0f921"
             ]
            ],
            "type": "contour"
           }
          ],
          "contourcarpet": [
           {
            "colorbar": {
             "outlinewidth": 0,
             "ticks": ""
            },
            "type": "contourcarpet"
           }
          ],
          "heatmap": [
           {
            "colorbar": {
             "outlinewidth": 0,
             "ticks": ""
            },
            "colorscale": [
             [
              0,
              "#0d0887"
             ],
             [
              0.1111111111111111,
              "#46039f"
             ],
             [
              0.2222222222222222,
              "#7201a8"
             ],
             [
              0.3333333333333333,
              "#9c179e"
             ],
             [
              0.4444444444444444,
              "#bd3786"
             ],
             [
              0.5555555555555556,
              "#d8576b"
             ],
             [
              0.6666666666666666,
              "#ed7953"
             ],
             [
              0.7777777777777778,
              "#fb9f3a"
             ],
             [
              0.8888888888888888,
              "#fdca26"
             ],
             [
              1,
              "#f0f921"
             ]
            ],
            "type": "heatmap"
           }
          ],
          "heatmapgl": [
           {
            "colorbar": {
             "outlinewidth": 0,
             "ticks": ""
            },
            "colorscale": [
             [
              0,
              "#0d0887"
             ],
             [
              0.1111111111111111,
              "#46039f"
             ],
             [
              0.2222222222222222,
              "#7201a8"
             ],
             [
              0.3333333333333333,
              "#9c179e"
             ],
             [
              0.4444444444444444,
              "#bd3786"
             ],
             [
              0.5555555555555556,
              "#d8576b"
             ],
             [
              0.6666666666666666,
              "#ed7953"
             ],
             [
              0.7777777777777778,
              "#fb9f3a"
             ],
             [
              0.8888888888888888,
              "#fdca26"
             ],
             [
              1,
              "#f0f921"
             ]
            ],
            "type": "heatmapgl"
           }
          ],
          "histogram": [
           {
            "marker": {
             "pattern": {
              "fillmode": "overlay",
              "size": 10,
              "solidity": 0.2
             }
            },
            "type": "histogram"
           }
          ],
          "histogram2d": [
           {
            "colorbar": {
             "outlinewidth": 0,
             "ticks": ""
            },
            "colorscale": [
             [
              0,
              "#0d0887"
             ],
             [
              0.1111111111111111,
              "#46039f"
             ],
             [
              0.2222222222222222,
              "#7201a8"
             ],
             [
              0.3333333333333333,
              "#9c179e"
             ],
             [
              0.4444444444444444,
              "#bd3786"
             ],
             [
              0.5555555555555556,
              "#d8576b"
             ],
             [
              0.6666666666666666,
              "#ed7953"
             ],
             [
              0.7777777777777778,
              "#fb9f3a"
             ],
             [
              0.8888888888888888,
              "#fdca26"
             ],
             [
              1,
              "#f0f921"
             ]
            ],
            "type": "histogram2d"
           }
          ],
          "histogram2dcontour": [
           {
            "colorbar": {
             "outlinewidth": 0,
             "ticks": ""
            },
            "colorscale": [
             [
              0,
              "#0d0887"
             ],
             [
              0.1111111111111111,
              "#46039f"
             ],
             [
              0.2222222222222222,
              "#7201a8"
             ],
             [
              0.3333333333333333,
              "#9c179e"
             ],
             [
              0.4444444444444444,
              "#bd3786"
             ],
             [
              0.5555555555555556,
              "#d8576b"
             ],
             [
              0.6666666666666666,
              "#ed7953"
             ],
             [
              0.7777777777777778,
              "#fb9f3a"
             ],
             [
              0.8888888888888888,
              "#fdca26"
             ],
             [
              1,
              "#f0f921"
             ]
            ],
            "type": "histogram2dcontour"
           }
          ],
          "mesh3d": [
           {
            "colorbar": {
             "outlinewidth": 0,
             "ticks": ""
            },
            "type": "mesh3d"
           }
          ],
          "parcoords": [
           {
            "line": {
             "colorbar": {
              "outlinewidth": 0,
              "ticks": ""
             }
            },
            "type": "parcoords"
           }
          ],
          "pie": [
           {
            "automargin": true,
            "type": "pie"
           }
          ],
          "scatter": [
           {
            "marker": {
             "colorbar": {
              "outlinewidth": 0,
              "ticks": ""
             }
            },
            "type": "scatter"
           }
          ],
          "scatter3d": [
           {
            "line": {
             "colorbar": {
              "outlinewidth": 0,
              "ticks": ""
             }
            },
            "marker": {
             "colorbar": {
              "outlinewidth": 0,
              "ticks": ""
             }
            },
            "type": "scatter3d"
           }
          ],
          "scattercarpet": [
           {
            "marker": {
             "colorbar": {
              "outlinewidth": 0,
              "ticks": ""
             }
            },
            "type": "scattercarpet"
           }
          ],
          "scattergeo": [
           {
            "marker": {
             "colorbar": {
              "outlinewidth": 0,
              "ticks": ""
             }
            },
            "type": "scattergeo"
           }
          ],
          "scattergl": [
           {
            "marker": {
             "colorbar": {
              "outlinewidth": 0,
              "ticks": ""
             }
            },
            "type": "scattergl"
           }
          ],
          "scattermapbox": [
           {
            "marker": {
             "colorbar": {
              "outlinewidth": 0,
              "ticks": ""
             }
            },
            "type": "scattermapbox"
           }
          ],
          "scatterpolar": [
           {
            "marker": {
             "colorbar": {
              "outlinewidth": 0,
              "ticks": ""
             }
            },
            "type": "scatterpolar"
           }
          ],
          "scatterpolargl": [
           {
            "marker": {
             "colorbar": {
              "outlinewidth": 0,
              "ticks": ""
             }
            },
            "type": "scatterpolargl"
           }
          ],
          "scatterternary": [
           {
            "marker": {
             "colorbar": {
              "outlinewidth": 0,
              "ticks": ""
             }
            },
            "type": "scatterternary"
           }
          ],
          "surface": [
           {
            "colorbar": {
             "outlinewidth": 0,
             "ticks": ""
            },
            "colorscale": [
             [
              0,
              "#0d0887"
             ],
             [
              0.1111111111111111,
              "#46039f"
             ],
             [
              0.2222222222222222,
              "#7201a8"
             ],
             [
              0.3333333333333333,
              "#9c179e"
             ],
             [
              0.4444444444444444,
              "#bd3786"
             ],
             [
              0.5555555555555556,
              "#d8576b"
             ],
             [
              0.6666666666666666,
              "#ed7953"
             ],
             [
              0.7777777777777778,
              "#fb9f3a"
             ],
             [
              0.8888888888888888,
              "#fdca26"
             ],
             [
              1,
              "#f0f921"
             ]
            ],
            "type": "surface"
           }
          ],
          "table": [
           {
            "cells": {
             "fill": {
              "color": "#EBF0F8"
             },
             "line": {
              "color": "white"
             }
            },
            "header": {
             "fill": {
              "color": "#C8D4E3"
             },
             "line": {
              "color": "white"
             }
            },
            "type": "table"
           }
          ]
         },
         "layout": {
          "annotationdefaults": {
           "arrowcolor": "#2a3f5f",
           "arrowhead": 0,
           "arrowwidth": 1
          },
          "autotypenumbers": "strict",
          "coloraxis": {
           "colorbar": {
            "outlinewidth": 0,
            "ticks": ""
           }
          },
          "colorscale": {
           "diverging": [
            [
             0,
             "#8e0152"
            ],
            [
             0.1,
             "#c51b7d"
            ],
            [
             0.2,
             "#de77ae"
            ],
            [
             0.3,
             "#f1b6da"
            ],
            [
             0.4,
             "#fde0ef"
            ],
            [
             0.5,
             "#f7f7f7"
            ],
            [
             0.6,
             "#e6f5d0"
            ],
            [
             0.7,
             "#b8e186"
            ],
            [
             0.8,
             "#7fbc41"
            ],
            [
             0.9,
             "#4d9221"
            ],
            [
             1,
             "#276419"
            ]
           ],
           "sequential": [
            [
             0,
             "#0d0887"
            ],
            [
             0.1111111111111111,
             "#46039f"
            ],
            [
             0.2222222222222222,
             "#7201a8"
            ],
            [
             0.3333333333333333,
             "#9c179e"
            ],
            [
             0.4444444444444444,
             "#bd3786"
            ],
            [
             0.5555555555555556,
             "#d8576b"
            ],
            [
             0.6666666666666666,
             "#ed7953"
            ],
            [
             0.7777777777777778,
             "#fb9f3a"
            ],
            [
             0.8888888888888888,
             "#fdca26"
            ],
            [
             1,
             "#f0f921"
            ]
           ],
           "sequentialminus": [
            [
             0,
             "#0d0887"
            ],
            [
             0.1111111111111111,
             "#46039f"
            ],
            [
             0.2222222222222222,
             "#7201a8"
            ],
            [
             0.3333333333333333,
             "#9c179e"
            ],
            [
             0.4444444444444444,
             "#bd3786"
            ],
            [
             0.5555555555555556,
             "#d8576b"
            ],
            [
             0.6666666666666666,
             "#ed7953"
            ],
            [
             0.7777777777777778,
             "#fb9f3a"
            ],
            [
             0.8888888888888888,
             "#fdca26"
            ],
            [
             1,
             "#f0f921"
            ]
           ]
          },
          "colorway": [
           "#636efa",
           "#EF553B",
           "#00cc96",
           "#ab63fa",
           "#FFA15A",
           "#19d3f3",
           "#FF6692",
           "#B6E880",
           "#FF97FF",
           "#FECB52"
          ],
          "font": {
           "color": "#2a3f5f"
          },
          "geo": {
           "bgcolor": "white",
           "lakecolor": "white",
           "landcolor": "#E5ECF6",
           "showlakes": true,
           "showland": true,
           "subunitcolor": "white"
          },
          "hoverlabel": {
           "align": "left"
          },
          "hovermode": "closest",
          "mapbox": {
           "style": "light"
          },
          "paper_bgcolor": "white",
          "plot_bgcolor": "#E5ECF6",
          "polar": {
           "angularaxis": {
            "gridcolor": "white",
            "linecolor": "white",
            "ticks": ""
           },
           "bgcolor": "#E5ECF6",
           "radialaxis": {
            "gridcolor": "white",
            "linecolor": "white",
            "ticks": ""
           }
          },
          "scene": {
           "xaxis": {
            "backgroundcolor": "#E5ECF6",
            "gridcolor": "white",
            "gridwidth": 2,
            "linecolor": "white",
            "showbackground": true,
            "ticks": "",
            "zerolinecolor": "white"
           },
           "yaxis": {
            "backgroundcolor": "#E5ECF6",
            "gridcolor": "white",
            "gridwidth": 2,
            "linecolor": "white",
            "showbackground": true,
            "ticks": "",
            "zerolinecolor": "white"
           },
           "zaxis": {
            "backgroundcolor": "#E5ECF6",
            "gridcolor": "white",
            "gridwidth": 2,
            "linecolor": "white",
            "showbackground": true,
            "ticks": "",
            "zerolinecolor": "white"
           }
          },
          "shapedefaults": {
           "line": {
            "color": "#2a3f5f"
           }
          },
          "ternary": {
           "aaxis": {
            "gridcolor": "white",
            "linecolor": "white",
            "ticks": ""
           },
           "baxis": {
            "gridcolor": "white",
            "linecolor": "white",
            "ticks": ""
           },
           "bgcolor": "#E5ECF6",
           "caxis": {
            "gridcolor": "white",
            "linecolor": "white",
            "ticks": ""
           }
          },
          "title": {
           "x": 0.05
          },
          "xaxis": {
           "automargin": true,
           "gridcolor": "white",
           "linecolor": "white",
           "ticks": "",
           "title": {
            "standoff": 15
           },
           "zerolinecolor": "white",
           "zerolinewidth": 2
          },
          "yaxis": {
           "automargin": true,
           "gridcolor": "white",
           "linecolor": "white",
           "ticks": "",
           "title": {
            "standoff": 15
           },
           "zerolinecolor": "white",
           "zerolinewidth": 2
          }
         }
        },
        "title": {
         "text": "Medaile podle klubů"
        },
        "width": 950,
        "xaxis": {
         "anchor": "y",
         "autorange": true,
         "categoryorder": "total descending",
         "domain": [
          0,
          1
         ],
         "range": [
          -0.5,
          9.5
         ],
         "tickangle": -90,
         "tickvals": [
          "1.FC BELA POD BEZ",
          "DUKLA OLOMOUC",
          "SC PRAHA",
          "SC PRAHA",
          "SC PRAHA",
          "TJ DUKLA PRAHA",
          "TJ DUKLA PRAHA",
          "TJ DUKLA PRAHA",
          "TJ LOKO PLZEN",
          "TJ LOKO TEPLICE",
          "TJ LOKO TEPLICE",
          "UKRAJINA",
          "UKRAJINA",
          "USK PRAHA",
          "USK PRAHA",
          "VENEZUELA",
          "VENEZUELA",
          "VSK HUMANITA"
         ],
         "title": {
          "text": "Club"
         },
         "type": "category"
        },
        "yaxis": {
         "anchor": "x",
         "autorange": true,
         "domain": [
          0,
          1
         ],
         "range": [
          0,
          34.73684210526316
         ],
         "title": {
          "text": "count"
         },
         "type": "linear"
        }
       }
      },
      "image/png": "[encoded data removed]",
      "text/html": [
       "<div>                            <div id=\"03e9f29a-25c5-4184-98bd-b89317dd6400\" class=\"plotly-graph-div\" style=\"height:700px; width:950px;\"></div>            <script type=\"text/javascript\">                require([\"plotly\"], function(Plotly) {                    window.PLOTLYENV=window.PLOTLYENV || {};                                    if (document.getElementById(\"03e9f29a-25c5-4184-98bd-b89317dd6400\")) {                    Plotly.newPlot(                        \"03e9f29a-25c5-4184-98bd-b89317dd6400\",                        [{\"alignmentgroup\":\"True\",\"hovertemplate\":\"Final_rank=3<br>Club=%{x}<br>count=%{y}<extra></extra>\",\"legendgroup\":\"3\",\"marker\":{\"color\":\"goldenrod\",\"pattern\":{\"shape\":\"\"}},\"name\":\"3\",\"offsetgroup\":\"3\",\"orientation\":\"v\",\"showlegend\":true,\"textposition\":\"auto\",\"texttemplate\":\"%{y:.0f}\",\"x\":[\"1.FC BELA POD BEZ\",\"DUKLA OLOMOUC\",\"SC PRAHA\",\"TJ DUKLA PRAHA\",\"TJ LOKO TEPLICE\",\"UKRAJINA\",\"USK PRAHA\",\"VENEZUELA\"],\"xaxis\":\"x\",\"y\":[2,3,16,3,2,1,2,1],\"yaxis\":\"y\",\"type\":\"bar\"},{\"alignmentgroup\":\"True\",\"hovertemplate\":\"Final_rank=1<br>Club=%{x}<br>count=%{y}<extra></extra>\",\"legendgroup\":\"1\",\"marker\":{\"color\":\"gold\",\"pattern\":{\"shape\":\"\"}},\"name\":\"1\",\"offsetgroup\":\"1\",\"orientation\":\"v\",\"showlegend\":true,\"textposition\":\"auto\",\"texttemplate\":\"%{y:.0f}\",\"x\":[\"SC PRAHA\",\"TJ DUKLA PRAHA\",\"TJ LOKO TEPLICE\",\"USK PRAHA\",\"VENEZUELA\"],\"xaxis\":\"x\",\"y\":[7,5,1,1,1],\"yaxis\":\"y\",\"type\":\"bar\"},{\"alignmentgroup\":\"True\",\"hovertemplate\":\"Final_rank=2<br>Club=%{x}<br>count=%{y}<extra></extra>\",\"legendgroup\":\"2\",\"marker\":{\"color\":\"silver\",\"pattern\":{\"shape\":\"\"}},\"name\":\"2\",\"offsetgroup\":\"2\",\"orientation\":\"v\",\"showlegend\":true,\"textposition\":\"auto\",\"texttemplate\":\"%{y:.0f}\",\"x\":[\"SC PRAHA\",\"TJ DUKLA PRAHA\",\"TJ LOKO PLZEN\",\"UKRAJINA\",\"VSK HUMANITA\"],\"xaxis\":\"x\",\"y\":[10,2,1,1,1],\"yaxis\":\"y\",\"type\":\"bar\"}],                        {\"template\":{\"data\":{\"bar\":[{\"error_x\":{\"color\":\"#2a3f5f\"},\"error_y\":{\"color\":\"#2a3f5f\"},\"marker\":{\"line\":{\"color\":\"#E5ECF6\",\"width\":0.5},\"pattern\":{\"fillmode\":\"overlay\",\"size\":10,\"solidity\":0.2}},\"type\":\"bar\"}],\"barpolar\":[{\"marker\":{\"line\":{\"color\":\"#E5ECF6\",\"width\":0.5},\"pattern\":{\"fillmode\":\"overlay\",\"size\":10,\"solidity\":0.2}},\"type\":\"barpolar\"}],\"carpet\":[{\"aaxis\":{\"endlinecolor\":\"#2a3f5f\",\"gridcolor\":\"white\",\"linecolor\":\"white\",\"minorgridcolor\":\"white\",\"startlinecolor\":\"#2a3f5f\"},\"baxis\":{\"endlinecolor\":\"#2a3f5f\",\"gridcolor\":\"white\",\"linecolor\":\"white\",\"minorgridcolor\":\"white\",\"startlinecolor\":\"#2a3f5f\"},\"type\":\"carpet\"}],\"choropleth\":[{\"colorbar\":{\"outlinewidth\":0,\"ticks\":\"\"},\"type\":\"choropleth\"}],\"contour\":[{\"colorbar\":{\"outlinewidth\":0,\"ticks\":\"\"},\"colorscale\":[[0.0,\"#0d0887\"],[0.1111111111111111,\"#46039f\"],[0.2222222222222222,\"#7201a8\"],[0.3333333333333333,\"#9c179e\"],[0.4444444444444444,\"#bd3786\"],[0.5555555555555556,\"#d8576b\"],[0.6666666666666666,\"#ed7953\"],[0.7777777777777778,\"#fb9f3a\"],[0.8888888888888888,\"#fdca26\"],[1.0,\"#f0f921\"]],\"type\":\"contour\"}],\"contourcarpet\":[{\"colorbar\":{\"outlinewidth\":0,\"ticks\":\"\"},\"type\":\"contourcarpet\"}],\"heatmap\":[{\"colorbar\":{\"outlinewidth\":0,\"ticks\":\"\"},\"colorscale\":[[0.0,\"#0d0887\"],[0.1111111111111111,\"#46039f\"],[0.2222222222222222,\"#7201a8\"],[0.3333333333333333,\"#9c179e\"],[0.4444444444444444,\"#bd3786\"],[0.5555555555555556,\"#d8576b\"],[0.6666666666666666,\"#ed7953\"],[0.7777777777777778,\"#fb9f3a\"],[0.8888888888888888,\"#fdca26\"],[1.0,\"#f0f921\"]],\"type\":\"heatmap\"}],\"heatmapgl\":[{\"colorbar\":{\"outlinewidth\":0,\"ticks\":\"\"},\"colorscale\":[[0.0,\"#0d0887\"],[0.1111111111111111,\"#46039f\"],[0.2222222222222222,\"#7201a8\"],[0.3333333333333333,\"#9c179e\"],[0.4444444444444444,\"#bd3786\"],[0.5555555555555556,\"#d8576b\"],[0.6666666666666666,\"#ed7953\"],[0.7777777777777778,\"#fb9f3a\"],[0.8888888888888888,\"#fdca26\"],[1.0,\"#f0f921\"]],\"type\":\"heatmapgl\"}],\"histogram\":[{\"marker\":{\"pattern\":{\"fillmode\":\"overlay\",\"size\":10,\"solidity\":0.2}},\"type\":\"histogram\"}],\"histogram2d\":[{\"colorbar\":{\"outlinewidth\":0,\"ticks\":\"\"},\"colorscale\":[[0.0,\"#0d0887\"],[0.1111111111111111,\"#46039f\"],[0.2222222222222222,\"#7201a8\"],[0.3333333333333333,\"#9c179e\"],[0.4444444444444444,\"#bd3786\"],[0.5555555555555556,\"#d8576b\"],[0.6666666666666666,\"#ed7953\"],[0.7777777777777778,\"#fb9f3a\"],[0.8888888888888888,\"#fdca26\"],[1.0,\"#f0f921\"]],\"type\":\"histogram2d\"}],\"histogram2dcontour\":[{\"colorbar\":{\"outlinewidth\":0,\"ticks\":\"\"},\"colorscale\":[[0.0,\"#0d0887\"],[0.1111111111111111,\"#46039f\"],[0.2222222222222222,\"#7201a8\"],[0.3333333333333333,\"#9c179e\"],[0.4444444444444444,\"#bd3786\"],[0.5555555555555556,\"#d8576b\"],[0.6666666666666666,\"#ed7953\"],[0.7777777777777778,\"#fb9f3a\"],[0.8888888888888888,\"#fdca26\"],[1.0,\"#f0f921\"]],\"type\":\"histogram2dcontour\"}],\"mesh3d\":[{\"colorbar\":{\"outlinewidth\":0,\"ticks\":\"\"},\"type\":\"mesh3d\"}],\"parcoords\":[{\"line\":{\"colorbar\":{\"outlinewidth\":0,\"ticks\":\"\"}},\"type\":\"parcoords\"}],\"pie\":[{\"automargin\":true,\"type\":\"pie\"}],\"scatter\":[{\"marker\":{\"colorbar\":{\"outlinewidth\":0,\"ticks\":\"\"}},\"type\":\"scatter\"}],\"scatter3d\":[{\"line\":{\"colorbar\":{\"outlinewidth\":0,\"ticks\":\"\"}},\"marker\":{\"colorbar\":{\"outlinewidth\":0,\"ticks\":\"\"}},\"type\":\"scatter3d\"}],\"scattercarpet\":[{\"marker\":{\"colorbar\":{\"outlinewidth\":0,\"ticks\":\"\"}},\"type\":\"scattercarpet\"}],\"scattergeo\":[{\"marker\":{\"colorbar\":{\"outlinewidth\":0,\"ticks\":\"\"}},\"type\":\"scattergeo\"}],\"scattergl\":[{\"marker\":{\"colorbar\":{\"outlinewidth\":0,\"ticks\":\"\"}},\"type\":\"scattergl\"}],\"scattermapbox\":[{\"marker\":{\"colorbar\":{\"outlinewidth\":0,\"ticks\":\"\"}},\"type\":\"scattermapbox\"}],\"scatterpolar\":[{\"marker\":{\"colorbar\":{\"outlinewidth\":0,\"ticks\":\"\"}},\"type\":\"scatterpolar\"}],\"scatterpolargl\":[{\"marker\":{\"colorbar\":{\"outlinewidth\":0,\"ticks\":\"\"}},\"type\":\"scatterpolargl\"}],\"scatterternary\":[{\"marker\":{\"colorbar\":{\"outlinewidth\":0,\"ticks\":\"\"}},\"type\":\"scatterternary\"}],\"surface\":[{\"colorbar\":{\"outlinewidth\":0,\"ticks\":\"\"},\"colorscale\":[[0.0,\"#0d0887\"],[0.1111111111111111,\"#46039f\"],[0.2222222222222222,\"#7201a8\"],[0.3333333333333333,\"#9c179e\"],[0.4444444444444444,\"#bd3786\"],[0.5555555555555556,\"#d8576b\"],[0.6666666666666666,\"#ed7953\"],[0.7777777777777778,\"#fb9f3a\"],[0.8888888888888888,\"#fdca26\"],[1.0,\"#f0f921\"]],\"type\":\"surface\"}],\"table\":[{\"cells\":{\"fill\":{\"color\":\"#EBF0F8\"},\"line\":{\"color\":\"white\"}},\"header\":{\"fill\":{\"color\":\"#C8D4E3\"},\"line\":{\"color\":\"white\"}},\"type\":\"table\"}]},\"layout\":{\"annotationdefaults\":{\"arrowcolor\":\"#2a3f5f\",\"arrowhead\":0,\"arrowwidth\":1},\"autotypenumbers\":\"strict\",\"coloraxis\":{\"colorbar\":{\"outlinewidth\":0,\"ticks\":\"\"}},\"colorscale\":{\"diverging\":[[0,\"#8e0152\"],[0.1,\"#c51b7d\"],[0.2,\"#de77ae\"],[0.3,\"#f1b6da\"],[0.4,\"#fde0ef\"],[0.5,\"#f7f7f7\"],[0.6,\"#e6f5d0\"],[0.7,\"#b8e186\"],[0.8,\"#7fbc41\"],[0.9,\"#4d9221\"],[1,\"#276419\"]],\"sequential\":[[0.0,\"#0d0887\"],[0.1111111111111111,\"#46039f\"],[0.2222222222222222,\"#7201a8\"],[0.3333333333333333,\"#9c179e\"],[0.4444444444444444,\"#bd3786\"],[0.5555555555555556,\"#d8576b\"],[0.6666666666666666,\"#ed7953\"],[0.7777777777777778,\"#fb9f3a\"],[0.8888888888888888,\"#fdca26\"],[1.0,\"#f0f921\"]],\"sequentialminus\":[[0.0,\"#0d0887\"],[0.1111111111111111,\"#46039f\"],[0.2222222222222222,\"#7201a8\"],[0.3333333333333333,\"#9c179e\"],[0.4444444444444444,\"#bd3786\"],[0.5555555555555556,\"#d8576b\"],[0.6666666666666666,\"#ed7953\"],[0.7777777777777778,\"#fb9f3a\"],[0.8888888888888888,\"#fdca26\"],[1.0,\"#f0f921\"]]},\"colorway\":[\"#636efa\",\"#EF553B\",\"#00cc96\",\"#ab63fa\",\"#FFA15A\",\"#19d3f3\",\"#FF6692\",\"#B6E880\",\"#FF97FF\",\"#FECB52\"],\"font\":{\"color\":\"#2a3f5f\"},\"geo\":{\"bgcolor\":\"white\",\"lakecolor\":\"white\",\"landcolor\":\"#E5ECF6\",\"showlakes\":true,\"showland\":true,\"subunitcolor\":\"white\"},\"hoverlabel\":{\"align\":\"left\"},\"hovermode\":\"closest\",\"mapbox\":{\"style\":\"light\"},\"paper_bgcolor\":\"white\",\"plot_bgcolor\":\"#E5ECF6\",\"polar\":{\"angularaxis\":{\"gridcolor\":\"white\",\"linecolor\":\"white\",\"ticks\":\"\"},\"bgcolor\":\"#E5ECF6\",\"radialaxis\":{\"gridcolor\":\"white\",\"linecolor\":\"white\",\"ticks\":\"\"}},\"scene\":{\"xaxis\":{\"backgroundcolor\":\"#E5ECF6\",\"gridcolor\":\"white\",\"gridwidth\":2,\"linecolor\":\"white\",\"showbackground\":true,\"ticks\":\"\",\"zerolinecolor\":\"white\"},\"yaxis\":{\"backgroundcolor\":\"#E5ECF6\",\"gridcolor\":\"white\",\"gridwidth\":2,\"linecolor\":\"white\",\"showbackground\":true,\"ticks\":\"\",\"zerolinecolor\":\"white\"},\"zaxis\":{\"backgroundcolor\":\"#E5ECF6\",\"gridcolor\":\"white\",\"gridwidth\":2,\"linecolor\":\"white\",\"showbackground\":true,\"ticks\":\"\",\"zerolinecolor\":\"white\"}},\"shapedefaults\":{\"line\":{\"color\":\"#2a3f5f\"}},\"ternary\":{\"aaxis\":{\"gridcolor\":\"white\",\"linecolor\":\"white\",\"ticks\":\"\"},\"baxis\":{\"gridcolor\":\"white\",\"linecolor\":\"white\",\"ticks\":\"\"},\"bgcolor\":\"#E5ECF6\",\"caxis\":{\"gridcolor\":\"white\",\"linecolor\":\"white\",\"ticks\":\"\"}},\"title\":{\"x\":0.05},\"xaxis\":{\"automargin\":true,\"gridcolor\":\"white\",\"linecolor\":\"white\",\"ticks\":\"\",\"title\":{\"standoff\":15},\"zerolinecolor\":\"white\",\"zerolinewidth\":2},\"yaxis\":{\"automargin\":true,\"gridcolor\":\"white\",\"linecolor\":\"white\",\"ticks\":\"\",\"title\":{\"standoff\":15},\"zerolinecolor\":\"white\",\"zerolinewidth\":2}}},\"xaxis\":{\"anchor\":\"y\",\"domain\":[0.0,1.0],\"title\":{\"text\":\"Club\"},\"tickvals\":[\"1.FC BELA POD BEZ\",\"DUKLA OLOMOUC\",\"SC PRAHA\",\"SC PRAHA\",\"SC PRAHA\",\"TJ DUKLA PRAHA\",\"TJ DUKLA PRAHA\",\"TJ DUKLA PRAHA\",\"TJ LOKO PLZEN\",\"TJ LOKO TEPLICE\",\"TJ LOKO TEPLICE\",\"UKRAJINA\",\"UKRAJINA\",\"USK PRAHA\",\"USK PRAHA\",\"VENEZUELA\",\"VENEZUELA\",\"VSK HUMANITA\"],\"categoryorder\":\"total descending\",\"tickangle\":-90},\"yaxis\":{\"anchor\":\"x\",\"domain\":[0.0,1.0],\"title\":{\"text\":\"count\"}},\"legend\":{\"title\":{\"text\":\"Final_rank\"},\"tracegroupgap\":0},\"title\":{\"text\":\"Medaile podle klub\\u016f\"},\"barmode\":\"relative\",\"height\":700,\"width\":950},                        {\"responsive\": true}                    ).then(function(){\n",
       "                            \n",
       "var gd = document.getElementById('03e9f29a-25c5-4184-98bd-b89317dd6400');\n",
       "var x = new MutationObserver(function (mutations, observer) {{\n",
       "        var display = window.getComputedStyle(gd).display;\n",
       "        if (!display || display === 'none') {{\n",
       "            console.log([gd, 'removed!']);\n",
       "            Plotly.purge(gd);\n",
       "            observer.disconnect();\n",
       "        }}\n",
       "}});\n",
       "\n",
       "// Listen for the removal of the full notebook cells\n",
       "var notebookContainer = gd.closest('#notebook-container');\n",
       "if (notebookContainer) {{\n",
       "    x.observe(notebookContainer, {childList: true});\n",
       "}}\n",
       "\n",
       "// Listen for the clearing of the current output cell\n",
       "var outputEl = gd.closest('.output');\n",
       "if (outputEl) {{\n",
       "    x.observe(outputEl, {childList: true});\n",
       "}}\n",
       "\n",
       "                        })                };                });            </script>        </div>"
      ]
     },
     "metadata": {},
     "output_type": "display_data"
    }
   ],
   "source": [
    "medals = df_m.loc[df_m.Final_rank.isin([1,2,3]), :]\n",
    "d5 = pd.DataFrame({'count' : medals.groupby( ['Club', \"Final_rank\"] ).size()}).reset_index()\n",
    "d5[\"Final_rank\"] = d5[\"Final_rank\"].astype(str) # nezbytné pro diskrétní barvy: https://plotly.com/python/discrete-color/\n",
    "\n",
    "fig = px.bar(d5, x= d5[\"Club\"],\n",
    "             y= d5[\"count\"], \n",
    "             color = d5[\"Final_rank\"] ,\n",
    "             color_discrete_map={\"1\": \"gold\", \"2\":\"silver\", \"3\":\"goldenrod\"},  # definice barev\n",
    "             #hover_name=\"Final_rank\",   # extra info ve float popisku\n",
    "             text_auto='.0f',     # případně můžu zap/vyp číselné popisky  # .0f = přesné číslo, .0s je na desítky\n",
    "             width=950, height=700,\n",
    "             title=\"Medaile podle klubů\")\n",
    "\n",
    "fig.update_layout(xaxis = dict(tickvals = d5[\"Club\"]))\n",
    "fig.update_layout(xaxis={'categoryorder':'total descending'}) # extra řazeni od nejvyššího totalu\n",
    "fig.update_xaxes(tickangle=270)\n",
    "fig.show()\n",
    "\n",
    "pio.write_html(fig, file = f\"vizualizace/V4_Medals-Club_{SEX}.html\", auto_open=True)"
   ]
  },
  {
   "cell_type": "markdown",
   "id": "3c70c374-38a1-4db8-b30a-9db9600cc29b",
   "metadata": {},
   "source": [
    "## Pokus s dropdowny 1\n",
    "\n",
    "https://plotly.com/python/dropdowns/\n",
    "\n",
    " - zde nevím, co tam nacpat dovnitř Buttons, místo toho type - jako něco co filtruje moje data?\n",
    "\n",
    "https://stackoverflow.com/questions/68894919/how-to-set-the-values-of-args-and-args2-in-plotlys-buttons-in-updatemenus\n",
    "\n",
    "https://plotly.com/python/bar-charts/  - graph_objects obecně\n",
    "\n",
    "https://plotly.com/python/graph-objects/ - rozdíl plotly express vs. graph_objects\n",
    "\n",
    "https://plotly.com/python/dropdowns/ - sekce \"Update Dropdowns\" - zde jsou Příklady na Scatter Dropdown s graph_objects\n",
    "\n",
    " - musí se px.bar(...) předělat na go.Bar(...)\n",
    " - musí se používat listy atd.\n",
    " - musím mít připravené všechny add_trace s různými verzemi dat\n",
    " - ten dropdown je jen zviditelnuje\n",
    " \n",
    " https://plotly.com/python/bar-charts/  - Bar charts in Dash = budoucí alternativa"
   ]
  },
  {
   "cell_type": "markdown",
   "id": "0704227e-0b48-413e-9137-82042e5730df",
   "metadata": {},
   "source": [
    "## REAL DATA"
   ]
  },
  {
   "cell_type": "code",
   "execution_count": 61,
   "id": "ab2c01bc-7789-46c7-adc9-b66d28342039",
   "metadata": {},
   "outputs": [
    {
     "name": "stdout",
     "output_type": "stream",
     "text": [
      "139 624 763\n"
     ]
    }
   ],
   "source": [
    "df_tot = result = pd.concat([df_w, df_m])\n",
    "\n",
    "print(len(df_w), len(df_m), len(df_tot))"
   ]
  },
  {
   "cell_type": "markdown",
   "id": "664c9b07-2c12-4212-b48f-9a6b593c32fb",
   "metadata": {},
   "source": [
    "## Testy\n",
    "https://plotly.com/python/graph-objects/\n",
    "\n",
    "Hledání možnosti, jak zobrazit: \n",
    "* Dropdowny (potřbeuju graph_object, px.bar() to úplně nepodporuje)\n",
    "* Barevný split v graph_object (px.bar() to umí snadno)"
   ]
  },
  {
   "cell_type": "code",
   "execution_count": 25,
   "id": "c7463d43-5be8-4273-b0e5-ea054be45eff",
   "metadata": {},
   "outputs": [
    {
     "data": {
      "text/html": [
       "<div>\n",
       "<style scoped>\n",
       "    .dataframe tbody tr th:only-of-type {\n",
       "        vertical-align: middle;\n",
       "    }\n",
       "\n",
       "    .dataframe tbody tr th {\n",
       "        vertical-align: top;\n",
       "    }\n",
       "\n",
       "    .dataframe thead th {\n",
       "        text-align: right;\n",
       "    }\n",
       "</style>\n",
       "<table border=\"1\" class=\"dataframe\">\n",
       "  <thead>\n",
       "    <tr style=\"text-align: right;\">\n",
       "      <th></th>\n",
       "      <th>Name</th>\n",
       "      <th>Club</th>\n",
       "      <th>Country</th>\n",
       "      <th>Sex</th>\n",
       "      <th>Birthdate</th>\n",
       "      <th>Year</th>\n",
       "    </tr>\n",
       "  </thead>\n",
       "  <tbody>\n",
       "    <tr>\n",
       "      <th>0</th>\n",
       "      <td>ADAMCOVÁ Anita</td>\n",
       "      <td>TJ LOKO K.VARY</td>\n",
       "      <td>CZE</td>\n",
       "      <td>W</td>\n",
       "      <td>2006-01-22</td>\n",
       "      <td>2006</td>\n",
       "    </tr>\n",
       "    <tr>\n",
       "      <th>1</th>\n",
       "      <td>AIGERMANOVÁ Gabriela</td>\n",
       "      <td>TJ LOKO TEPLICE</td>\n",
       "      <td>CZE</td>\n",
       "      <td>W</td>\n",
       "      <td>2002-06-07</td>\n",
       "      <td>2002</td>\n",
       "    </tr>\n",
       "  </tbody>\n",
       "</table>\n",
       "</div>"
      ],
      "text/plain": [
       "                   Name             Club Country Sex  Birthdate  Year\n",
       "0        ADAMCOVÁ Anita   TJ LOKO K.VARY     CZE   W 2006-01-22  2006\n",
       "1  AIGERMANOVÁ Gabriela  TJ LOKO TEPLICE     CZE   W 2002-06-07  2002"
      ]
     },
     "metadata": {},
     "output_type": "display_data"
    },
    {
     "data": {
      "text/html": [
       "<div>\n",
       "<style scoped>\n",
       "    .dataframe tbody tr th:only-of-type {\n",
       "        vertical-align: middle;\n",
       "    }\n",
       "\n",
       "    .dataframe tbody tr th {\n",
       "        vertical-align: top;\n",
       "    }\n",
       "\n",
       "    .dataframe thead th {\n",
       "        text-align: right;\n",
       "    }\n",
       "</style>\n",
       "<table border=\"1\" class=\"dataframe\">\n",
       "  <thead>\n",
       "    <tr style=\"text-align: right;\">\n",
       "      <th></th>\n",
       "      <th>Year</th>\n",
       "      <th>Club</th>\n",
       "      <th>count</th>\n",
       "    </tr>\n",
       "  </thead>\n",
       "  <tbody>\n",
       "    <tr>\n",
       "      <th>0</th>\n",
       "      <td>1972</td>\n",
       "      <td>BOHEMIANS</td>\n",
       "      <td>1</td>\n",
       "    </tr>\n",
       "    <tr>\n",
       "      <th>1</th>\n",
       "      <td>1973</td>\n",
       "      <td>SS UH.HRADISTE</td>\n",
       "      <td>1</td>\n",
       "    </tr>\n",
       "    <tr>\n",
       "      <th>2</th>\n",
       "      <td>1975</td>\n",
       "      <td>USK PRAHA</td>\n",
       "      <td>1</td>\n",
       "    </tr>\n",
       "    <tr>\n",
       "      <th>3</th>\n",
       "      <td>1978</td>\n",
       "      <td>SC PRAHA</td>\n",
       "      <td>1</td>\n",
       "    </tr>\n",
       "    <tr>\n",
       "      <th>4</th>\n",
       "      <td>1978</td>\n",
       "      <td>TJ SOKOL PÍSEK</td>\n",
       "      <td>1</td>\n",
       "    </tr>\n",
       "  </tbody>\n",
       "</table>\n",
       "</div>"
      ],
      "text/plain": [
       "   Year            Club  count\n",
       "0  1972       BOHEMIANS      1\n",
       "1  1973  SS UH.HRADISTE      1\n",
       "2  1975       USK PRAHA      1\n",
       "3  1978        SC PRAHA      1\n",
       "4  1978  TJ SOKOL PÍSEK      1"
      ]
     },
     "execution_count": 25,
     "metadata": {},
     "output_type": "execute_result"
    }
   ],
   "source": [
    "display(df_w.head(2))\n",
    "\n",
    "df_w2 = pd.DataFrame({'count' : df_w.groupby( [ 'Year', \"Club\"] ).size()}).reset_index()\n",
    "df_w2.head(5)"
   ]
  },
  {
   "cell_type": "code",
   "execution_count": 26,
   "id": "f2342780-165f-47ba-8f7b-a183950c8601",
   "metadata": {
    "collapsed": true,
    "jupyter": {
     "outputs_hidden": true
    },
    "tags": []
   },
   "outputs": [
    {
     "name": "stdout",
     "output_type": "stream",
     "text": [
      "1.FC BELA POD BEZ\n",
      "                   Name               Club Country Sex  Birthdate  Year\n",
      "12       COUFALOVÁ Anna  1.FC BELA POD BEZ     CZE   W 2000-04-01  2000\n",
      "73       NOVÁKOVÁ Petra  1.FC BELA POD BEZ     CZE   W 2002-05-25  2002\n",
      "74   NOVÁČKOVÁ Dominika  1.FC BELA POD BEZ     CZE   W 2003-08-29  2003\n",
      "133    ŠAFRÁNKOVÁ Adéla  1.FC BELA POD BEZ     CZE   W 2006-06-06  2006\n",
      "############################################################################\n",
      "ASBVA\n",
      "              Name   Club Country Sex  Birthdate  Year\n",
      "60  LINDEROVÁ Nina  ASBVA     SVK   W 1991-01-01  1991\n",
      "############################################################################\n",
      "AŠ BRATISLAVA\n",
      "                Name           Club Country Sex  Birthdate  Year\n",
      "8     BURSOVÁ Regina  AŠ BRATISLAVA     SVK   W 2001-04-13  2001\n",
      "91     ROŠKOVÁ Sonja  AŠ BRATISLAVA     SVK   W 2000-02-10  2000\n",
      "94  SASVARIOVÁ Laura  AŠ BRATISLAVA     SVK   W 1999-01-01  1999\n",
      "############################################################################\n",
      "BOHEMIANS\n",
      "                   Name       Club Country Sex  Birthdate  Year\n",
      "6      BOROVIČKOVÁ Hana  BOHEMIANS     CZE   W 1972-11-01  1972\n",
      "120  VRŠNÍKOVÁ Karolína  BOHEMIANS     CZE   W 1991-04-02  1991\n",
      "############################################################################\n",
      "DUKLA OLOMOUC\n",
      "                    Name           Club Country Sex  Birthdate  Year\n",
      "37           JASNÁ Adéla  DUKLA OLOMOUC     CZE   W 2000-03-05  2000\n",
      "38          JASNÁ Tereza  DUKLA OLOMOUC     CZE   W 2000-03-05  2000\n",
      "40          JURKOVÁ Hana  DUKLA OLOMOUC     CZE   W 2009-07-20  2009\n",
      "47   KOŘÍNKOVÁ Magdaléna  DUKLA OLOMOUC     CZE   W 2000-12-29  2000\n",
      "51    KVETOVSKÁ Veronika  DUKLA OLOMOUC     CZE   W 2000-01-01  2000\n",
      "66    MIKLENDOVÁ Valérie  DUKLA OLOMOUC     CZE   W 2007-05-01  2007\n",
      "95     SEHNALOVÁ Markéta  DUKLA OLOMOUC     CZE   W 1999-08-08  1999\n",
      "114       VACKOVÁ Tereza  DUKLA OLOMOUC     CZE   W 1991-12-04  1991\n",
      "118        VOLÁKOVÁ Hana  DUKLA OLOMOUC     CZE   W 2002-07-04  2002\n",
      "128      ČAPKOVÁ Barbora  DUKLA OLOMOUC     CZE   W 1980-09-26  1980\n",
      "132       ŘÍHOVÁ Marcela  DUKLA OLOMOUC     CZE   W 1984-06-13  1984\n",
      "135      ŠMÍDOVÁ Daniela  DUKLA OLOMOUC     CZE   W 2005-04-16  2005\n",
      "136      ŠPATENKOVÁ Anna  DUKLA OLOMOUC     CZE   W 1999-09-26  1999\n",
      "137     ŽOLNOVÁ Karolína  DUKLA OLOMOUC     CZE   W 1995-10-23  1995\n",
      "138    ŽÁDNÍKOVÁ Daniela  DUKLA OLOMOUC     CZE   W 1984-07-31  1984\n",
      "############################################################################\n",
      "EKONOM PRAHA\n",
      "                 Name          Club Country Sex  Birthdate  Year\n",
      "111  TÓBISZOVÁ Monika  EKONOM PRAHA     SVK   W 2000-01-13  2000\n",
      "############################################################################\n",
      "FC LEIPZIG\n",
      "                    Name        Club Country Sex  Birthdate  Year\n",
      "22  GROLLMISCH Felicitas  FC LEIPZIG     GER   W 2002-05-08  2002\n",
      "36        JASKULLA Klara  FC LEIPZIG     GER   W 2001-10-13  2001\n",
      "49        KRAUSE Rebekka  FC LEIPZIG     GER   W 2000-12-27  2000\n",
      "############################################################################\n",
      "JISKRA H.BROD\n",
      "                  Name           Club Country Sex  Birthdate  Year\n",
      "119  VRATIŠOVSKÁ Zlata  JISKRA H.BROD     CZE   W 2004-01-15  2004\n",
      "############################################################################\n",
      "JPN\n",
      "                Name Club Country Sex  Birthdate  Year\n",
      "103  TAKAKURA Makoto  JPN     JPN   W 2002-01-01  2002\n",
      "############################################################################\n",
      "LAŠSSKFZ\n",
      "             Name      Club Country Sex  Birthdate  Year\n",
      "21  GAZDOVÁ Beáta  LAŠSSKFZ     CZE   W 2000-04-29  2000\n",
      "############################################################################\n",
      "OREL HR.KR.\n",
      "                Name         Club Country Sex  Birthdate  Year\n",
      "81  PRCHALOVÁ Eliška  OREL HR.KR.     CZE   W 1996-07-18  1996\n",
      "############################################################################\n",
      "RADEBEUL\n",
      "                   Name      Club Country Sex  Birthdate  Year\n",
      "117  VOGEL Leona_Emilia  RADEBEUL     GER   W 2002-01-29  2002\n",
      "############################################################################\n",
      "RIEGEL PRAHA\n",
      "                Name          Club Country Sex  Birthdate  Year\n",
      "27  HANZLÍKOVÁ Klára  RIEGEL PRAHA     CZE   W 1989-03-10  1989\n",
      "############################################################################\n",
      "SC PRAHA\n",
      "                      Name      Club Country Sex  Birthdate  Year\n",
      "3         BARTOŠKOVÁ Adéla  SC PRAHA     CZE   W 2009-11-26  2009\n",
      "5      BIELESZOVÁ Veronika  SC PRAHA     CZE   W 2002-04-25  2002\n",
      "9        CEJNAROVÁ Barbora  SC PRAHA     CZE   W 2007-04-22  2007\n",
      "13   DE VINCENZO Francesca  SC PRAHA     CZE   W 2003-10-09  2003\n",
      "16        DOUBOVÁ Dominika  SC PRAHA     CZE   W 1990-05-17  1990\n",
      "26         HANESZ Katarina  SC PRAHA     CZE   W 1995-06-08  1995\n",
      "29        HAVLÍNOVÁ Tereza  SC PRAHA     CZE   W 2003-11-09  2003\n",
      "33      HUNČÁROVÁ Katarína  SC PRAHA     SVK   W 1995-07-22  1995\n",
      "42        KAHABKOVÁ Eliška  SC PRAHA     CZE   W 2008-03-13  2008\n",
      "43           KINCLOVÁ Emma  SC PRAHA     CZE   W 2008-05-19  2008\n",
      "62           MAIELLO Ester  SC PRAHA     CZE   W 2005-04-12  2005\n",
      "67         MIROVSKÁ Eliška  SC PRAHA     CZE   W 2004-06-29  2004\n",
      "71       NEVOSADOVÁ Eliška  SC PRAHA     CZE   W 1998-12-01  1998\n",
      "80      POTOČKOVÁ Kateřina  SC PRAHA     CZE   W 1999-05-30  1999\n",
      "82     PROKŠÍKOVÁ Patricie  SC PRAHA     CZE   W 2002-07-07  2002\n",
      "87      RAKOUŠOVÁ Karolína  SC PRAHA     CZE   W 2007-07-01  2007\n",
      "90           ROVENSKÁ Emma  SC PRAHA     CZE   W 2007-08-10  2007\n",
      "92     SALIGEROVÁ Kateřina  SC PRAHA     CZE   W 1999-06-14  1999\n",
      "97    SKOČILASOVÁ Kristýna  SC PRAHA     CZE   W 2002-11-15  2002\n",
      "98         SLUŠNÁ Karolína  SC PRAHA     CZE   W 2006-09-23  2006\n",
      "107        TOTUŠKOVÁ Pavla  SC PRAHA     CZE   W 1978-01-01  1978\n",
      "110      TYRPEKLOVÁ Amélie  SC PRAHA     CZE   W 2006-01-12  2006\n",
      "115       VALENTOVÁ Amálie  SC PRAHA     CZE   W 2007-08-23  2007\n",
      "116       VINCENCOVÁ Ester  SC PRAHA     CZE   W 2001-10-07  2001\n",
      "121     VYSLOUŽILOVÁ Vanda  SC PRAHA     CZE   W 2007-01-13  2007\n",
      "127     ZÁVITKOVSKÁ Zuzana  SC PRAHA     CZE   W 2008-01-25  2008\n",
      "130    ČERVENKOVÁ Kateřina  SC PRAHA     CZE   W 2001-10-25  2001\n",
      "############################################################################\n",
      "SLAVOJ LITOMĚŘICE\n",
      "                  Name               Club Country Sex  Birthdate  Year\n",
      "44    KOCOURKOVÁ Marie  SLAVOJ LITOMĚŘICE     CZE   W 2005-11-04  2005\n",
      "50     KUGLEROVÁ Klára  SLAVOJ LITOMĚŘICE     CZE   W 2005-11-24  2005\n",
      "52    KÜHNOVÁ Karolína  SLAVOJ LITOMĚŘICE     CZE   W 2007-08-13  2007\n",
      "64    MATĚJČKOVÁ Lucie  SLAVOJ LITOMĚŘICE     CZE   W 2006-07-03  2006\n",
      "104  TITĚROVÁ Michaela  SLAVOJ LITOMĚŘICE     CZE   W 2006-07-15  2006\n",
      "############################################################################\n",
      "SOKOL DEJVICE\n",
      "                   Name           Club Country Sex  Birthdate  Year\n",
      "19   FRAŇKOVÁ Magdalena  SOKOL DEJVICE     CZE   W 2002-03-27  2002\n",
      "134      ŠEBESTOVÁ Nela  SOKOL DEJVICE     CZE   W 2004-08-09  2004\n",
      "############################################################################\n",
      "SS UH.HRADISTE\n",
      "                   Name            Club Country Sex  Birthdate  Year\n",
      "48  KOŘÍNKOVÁ Miroslava  SS UH.HRADISTE     CZE   W 1973-07-06  1973\n",
      "############################################################################\n",
      "SČ USTI NAD LABEM\n",
      "                  Name               Club Country Sex  Birthdate  Year\n",
      "4     BERTLOVÁ Barbora  SČ USTI NAD LABEM     CZE   W 1997-07-28  1997\n",
      "15       DLOUHÁ Tereza  SČ USTI NAD LABEM     CZE   W 2002-12-04  2002\n",
      "70   MĚSÍČKOVÁ Barbora  SČ USTI NAD LABEM     CZE   W 1999-09-01  1999\n",
      "100      STUPKOVÁ Sára  SČ USTI NAD LABEM     CZE   W 2006-01-30  2006\n",
      "125        YOUSEF Mira  SČ USTI NAD LABEM     UKR   W 2006-12-05  2006\n",
      "############################################################################\n",
      "TJ DUKLA PRAHA\n",
      "                     Name            Club Country Sex  Birthdate  Year\n",
      "10    CHALUPNÍKOVÁ Aranka  TJ DUKLA PRAHA     CZE   W 1997-04-17  1997\n",
      "23     GRÜNEROVÁ Michaela  TJ DUKLA PRAHA     CZE   W 2004-04-17  2004\n",
      "28     HARTMANOVÁ Barbora  TJ DUKLA PRAHA     CZE   W 2002-01-04  2002\n",
      "30       HLAVÁČKOVÁ Lucie  TJ DUKLA PRAHA     CZE   W 2005-09-30  2005\n",
      "32         HONOVÁ Markéta  TJ DUKLA PRAHA     CZE   W 1994-04-05  1994\n",
      "35       JANKOVÁ Karolína  TJ DUKLA PRAHA     CZE   W 1994-10-21  1994\n",
      "61           LIPOVÁ Aneta  TJ DUKLA PRAHA     CZE   W 2001-11-05  2001\n",
      "72       NOVOTNÁ Veronika  TJ DUKLA PRAHA     CZE   W 2000-11-11  2000\n",
      "84      PĚCHOVOVÁ Michala  TJ DUKLA PRAHA     CZE   W 1990-05-25  1990\n",
      "85       PŘIBYLOVÁ Eliška  TJ DUKLA PRAHA     CZE   W 1995-04-02  1995\n",
      "86        RAJNOCH Barbora  TJ DUKLA PRAHA     CZE   W 1996-05-09  1996\n",
      "89        ROUBÍČKOVÁ Anna  TJ DUKLA PRAHA     CZE   W 1999-11-17  1999\n",
      "96   SELICHAROVÁ Gabriela  TJ DUKLA PRAHA     CZE   W 2002-12-07  2002\n",
      "106     TOMANOVÁ Kateřina  TJ DUKLA PRAHA     CZE   W 2001-02-23  2001\n",
      "108    TROJANOVÁ Kristýna  TJ DUKLA PRAHA     CZE   W 1999-10-17  1999\n",
      "123       VÁŇOVÁ Kateřina  TJ DUKLA PRAHA     CZE   W 2005-06-10  2005\n",
      "131        ČÁPOVÁ Barbora  TJ DUKLA PRAHA     CZE   W 2004-04-07  2004\n",
      "############################################################################\n",
      "TJ LOKO K.VARY\n",
      "                    Name            Club Country Sex  Birthdate  Year\n",
      "0         ADAMCOVÁ Anita  TJ LOKO K.VARY     CZE   W 2006-01-22  2006\n",
      "18   FORMANOVÁ Elizabeth  TJ LOKO K.VARY     CZE   W 2008-05-21  2008\n",
      "68         MYŠKOVÁ Petra  TJ LOKO K.VARY     CZE   W 1991-06-14  1991\n",
      "76         NĚMCOVÁ Pavla  TJ LOKO K.VARY     CZE   W 2003-10-21  2003\n",
      "109  TVARŮŽKOVÁ Karolína  TJ LOKO K.VARY     CZE   W 2007-06-10  2007\n",
      "############################################################################\n",
      "TJ LOKO PLZEN\n",
      "                    Name           Club Country Sex  Birthdate  Year\n",
      "14        DIVIŠOVÁ Klára  TJ LOKO PLZEN     CZE   W 1988-11-08  1988\n",
      "24        HABRYCHOVÁ Eva  TJ LOKO PLZEN     CZE   W 1991-07-18  1991\n",
      "31  HONOMICHLOVÁ Martina  TJ LOKO PLZEN     CZE   W 2002-09-10  2002\n",
      "41        JÍLKOVÁ Nikola  TJ LOKO PLZEN     CZE   W 1995-06-23  1995\n",
      "53     KŘENKOVÁ Karolína  TJ LOKO PLZEN     CZE   W 1998-10-23  1998\n",
      "58    LAŠTOVKOVÁ Marcela  TJ LOKO PLZEN     CZE   W 1996-07-13  1996\n",
      "59     LAŠTOVKOVÁ Tereza  TJ LOKO PLZEN     CZE   W 2000-02-01  2000\n",
      "88         ROHANOVÁ Anna  TJ LOKO PLZEN     CZE   W 2008-11-17  2008\n",
      "############################################################################\n",
      "TJ LOKO TEPLICE\n",
      "                      Name             Club Country Sex  Birthdate  Year\n",
      "1     AIGERMANOVÁ Gabriela  TJ LOKO TEPLICE     CZE   W 2002-06-07  2002\n",
      "57    LANDGRAFOVÁ Veronika  TJ LOKO TEPLICE     CZE   W 2008-08-02  2008\n",
      "69         MÜLLEROVÁ Ivana  TJ LOKO TEPLICE     CZE   W 2005-07-21  2005\n",
      "113        URBÁNKOVÁ Klára  TJ LOKO TEPLICE     CZE   W 2005-05-04  2005\n",
      "124       WEISOVÁ Kateřina  TJ LOKO TEPLICE     CZE   W 2004-06-05  2004\n",
      "126  ZIEGLEROVÁ Adéla Anna  TJ LOKO TEPLICE     CZE   W 2005-01-23  2005\n",
      "129        ČERNÍKOVÁ Lucie  TJ LOKO TEPLICE     CZE   W 2004-09-30  2004\n",
      "############################################################################\n",
      "TJ SOKOL PÍSEK\n",
      "                      Name            Club Country Sex  Birthdate  Year\n",
      "54         KŘESINOVÁ Zlata  TJ SOKOL PÍSEK     CZE   W 1978-03-23  1978\n",
      "105  TODORYSHYNA Viktoriia  TJ SOKOL PÍSEK     UKR   W 2007-03-25  2007\n",
      "############################################################################\n",
      "UKRAJINA\n",
      "                Name      Club Country Sex  Birthdate  Year\n",
      "7        BROVKO Inna  UKRAJINA     CZE   W 1997-04-27  1997\n",
      "93  SAMKO Anastasiia  UKRAJINA     CZE   W 1999-02-20  1999\n",
      "############################################################################\n",
      "USK PRAHA\n",
      "                           Name       Club Country Sex  Birthdate  Year\n",
      "17             DOŠKOVÁ Kateřina  USK PRAHA     CZE   W 1999-12-22  1999\n",
      "46   KORYCH (VACÍNOVÁ) Gabriela  USK PRAHA     CZE   W 1989-10-11  1989\n",
      "63                  MARČÍK Sára  USK PRAHA     CZE   W 2006-06-13  2006\n",
      "83             PRŮŠOVÁ Kristýna  USK PRAHA     CZE   W 1999-02-08  1999\n",
      "99                SMUTNÁ Tereza  USK PRAHA     CZE   W 1975-06-12  1975\n",
      "101   SVOBODA (ŠEDIVÁ) Michaela  USK PRAHA     CZE   W 1997-10-04  1997\n",
      "122              VÁCHOVÁ Tereza  USK PRAHA     CZE   W 2005-01-07  2005\n",
      "############################################################################\n",
      "VENEZUELA\n",
      "                 Name       Club Country Sex  Birthdate  Year\n",
      "2    BALLESTER Scarly  VENEZUELA      VE   W 1999-01-01  1999\n",
      "65      MAYA Danierys  VENEZUELA      VE   W 1999-07-09  1999\n",
      "77  PIOVESAN Patrizia  VENEZUELA      VE   W 1991-03-29  1991\n",
      "79    POSADA Betyumil  VENEZUELA      VE   W 1999-06-08  1999\n",
      "############################################################################\n",
      "VSK HUMANITA\n",
      "                        Name          Club Country Sex  Birthdate  Year\n",
      "11           CHEVALLIER Vira  VSK HUMANITA     CZE   W 1992-12-18  1992\n",
      "20         FRDLÍKOVÁ Markéta  VSK HUMANITA     CZE   W 1991-07-01  1991\n",
      "25           HAIKAL Victoria  VSK HUMANITA     CZE   W 1999-08-16  1999\n",
      "34          HÁJEČKOVÁ Tereza  VSK HUMANITA     CZE   W 1998-04-03  1998\n",
      "39         JELÍNKOVÁ Martina  VSK HUMANITA     CZE   W 1998-03-09  1998\n",
      "55           KŘEČKOVÁ Kamila  VSK HUMANITA     CZE   W 1997-09-08  1997\n",
      "75      NÁDVORNÍKOVÁ Barbora  VSK HUMANITA     CZE   W 1997-05-27  1997\n",
      "78   POKORNÁ (ŠÁMALOVÁ) Anna  VSK HUMANITA     CZE   W 1995-07-31  1995\n",
      "102          SYROVÁTKOVÁ Iva  VSK HUMANITA     CZE   W 1998-11-02  1998\n",
      "112             TŮMOVÁ Šárka  VSK HUMANITA     CZE   W 1993-07-03  1993\n",
      "############################################################################\n",
      "VUT BRNO\n",
      "            Name      Club Country Sex  Birthdate  Year\n",
      "45  KOPKOVÁ Hana  VUT BRNO     CZE   W 2002-03-23  2002\n",
      "############################################################################\n",
      "ŠK RIEGEL\n",
      "              Name       Club Country Sex  Birthdate  Year\n",
      "56  KŘÍŽOVÁ Tereza  ŠK RIEGEL     CZE   W 1998-06-09  1998\n",
      "############################################################################\n"
     ]
    }
   ],
   "source": [
    "# zajímavý koncept, se kterým bych chtěl dál pracovat\n",
    "\n",
    "for club, group in df_w.groupby(\"Club\"):\n",
    "    print (club)\n",
    "    print(group)\n",
    "    print(\"############################################################################\")\n",
    "     "
   ]
  },
  {
   "cell_type": "markdown",
   "id": "b527b271-6035-4c01-828e-b3fe477c66a9",
   "metadata": {},
   "source": [
    "## Verze PX"
   ]
  },
  {
   "cell_type": "code",
   "execution_count": 27,
   "id": "3aa1ec07-e01f-4539-b0c1-ec7086506e9c",
   "metadata": {
    "tags": []
   },
   "outputs": [
    {
     "data": {
      "application/vnd.plotly.v1+json": {
       "config": {
        "plotlyServerURL": "https://plot.ly"
       },
       "data": [
        {
         "alignmentgroup": "True",
         "hovertemplate": "Club=BOHEMIANS<br>Year=%{x}<br>count=%{y}<extra></extra>",
         "legendgroup": "BOHEMIANS",
         "marker": {
          "color": "#636efa",
          "pattern": {
           "shape": ""
          }
         },
         "name": "BOHEMIANS",
         "offsetgroup": "BOHEMIANS",
         "orientation": "v",
         "showlegend": true,
         "textposition": "auto",
         "type": "bar",
         "x": [
          1972,
          1991
         ],
         "xaxis": "x",
         "y": [
          1,
          1
         ],
         "yaxis": "y"
        },
        {
         "alignmentgroup": "True",
         "hovertemplate": "Club=SS UH.HRADISTE<br>Year=%{x}<br>count=%{y}<extra></extra>",
         "legendgroup": "SS UH.HRADISTE",
         "marker": {
          "color": "#EF553B",
          "pattern": {
           "shape": ""
          }
         },
         "name": "SS UH.HRADISTE",
         "offsetgroup": "SS UH.HRADISTE",
         "orientation": "v",
         "showlegend": true,
         "textposition": "auto",
         "type": "bar",
         "x": [
          1973
         ],
         "xaxis": "x",
         "y": [
          1
         ],
         "yaxis": "y"
        },
        {
         "alignmentgroup": "True",
         "hovertemplate": "Club=USK PRAHA<br>Year=%{x}<br>count=%{y}<extra></extra>",
         "legendgroup": "USK PRAHA",
         "marker": {
          "color": "#00cc96",
          "pattern": {
           "shape": ""
          }
         },
         "name": "USK PRAHA",
         "offsetgroup": "USK PRAHA",
         "orientation": "v",
         "showlegend": true,
         "textposition": "auto",
         "type": "bar",
         "x": [
          1975,
          1989,
          1997,
          1999,
          2005,
          2006
         ],
         "xaxis": "x",
         "y": [
          1,
          1,
          1,
          2,
          1,
          1
         ],
         "yaxis": "y"
        },
        {
         "alignmentgroup": "True",
         "hovertemplate": "Club=SC PRAHA<br>Year=%{x}<br>count=%{y}<extra></extra>",
         "legendgroup": "SC PRAHA",
         "marker": {
          "color": "#ab63fa",
          "pattern": {
           "shape": ""
          }
         },
         "name": "SC PRAHA",
         "offsetgroup": "SC PRAHA",
         "orientation": "v",
         "showlegend": true,
         "textposition": "auto",
         "type": "bar",
         "x": [
          1978,
          1990,
          1995,
          1998,
          1999,
          2001,
          2002,
          2003,
          2004,
          2005,
          2006,
          2007,
          2008,
          2009
         ],
         "xaxis": "x",
         "y": [
          1,
          1,
          2,
          1,
          2,
          2,
          3,
          2,
          1,
          1,
          2,
          5,
          3,
          1
         ],
         "yaxis": "y"
        },
        {
         "alignmentgroup": "True",
         "hovertemplate": "Club=TJ SOKOL PÍSEK<br>Year=%{x}<br>count=%{y}<extra></extra>",
         "legendgroup": "TJ SOKOL PÍSEK",
         "marker": {
          "color": "#FFA15A",
          "pattern": {
           "shape": ""
          }
         },
         "name": "TJ SOKOL PÍSEK",
         "offsetgroup": "TJ SOKOL PÍSEK",
         "orientation": "v",
         "showlegend": true,
         "textposition": "auto",
         "type": "bar",
         "x": [
          1978,
          2007
         ],
         "xaxis": "x",
         "y": [
          1,
          1
         ],
         "yaxis": "y"
        },
        {
         "alignmentgroup": "True",
         "hovertemplate": "Club=DUKLA OLOMOUC<br>Year=%{x}<br>count=%{y}<extra></extra>",
         "legendgroup": "DUKLA OLOMOUC",
         "marker": {
          "color": "#19d3f3",
          "pattern": {
           "shape": ""
          }
         },
         "name": "DUKLA OLOMOUC",
         "offsetgroup": "DUKLA OLOMOUC",
         "orientation": "v",
         "showlegend": true,
         "textposition": "auto",
         "type": "bar",
         "x": [
          1980,
          1984,
          1991,
          1995,
          1999,
          2000,
          2002,
          2005,
          2007,
          2009
         ],
         "xaxis": "x",
         "y": [
          1,
          2,
          1,
          1,
          2,
          4,
          1,
          1,
          1,
          1
         ],
         "yaxis": "y"
        },
        {
         "alignmentgroup": "True",
         "hovertemplate": "Club=TJ LOKO PLZEN<br>Year=%{x}<br>count=%{y}<extra></extra>",
         "legendgroup": "TJ LOKO PLZEN",
         "marker": {
          "color": "#FF6692",
          "pattern": {
           "shape": ""
          }
         },
         "name": "TJ LOKO PLZEN",
         "offsetgroup": "TJ LOKO PLZEN",
         "orientation": "v",
         "showlegend": true,
         "textposition": "auto",
         "type": "bar",
         "x": [
          1988,
          1991,
          1995,
          1996,
          1998,
          2000,
          2002,
          2008
         ],
         "xaxis": "x",
         "y": [
          1,
          1,
          1,
          1,
          1,
          1,
          1,
          1
         ],
         "yaxis": "y"
        },
        {
         "alignmentgroup": "True",
         "hovertemplate": "Club=RIEGEL PRAHA<br>Year=%{x}<br>count=%{y}<extra></extra>",
         "legendgroup": "RIEGEL PRAHA",
         "marker": {
          "color": "#B6E880",
          "pattern": {
           "shape": ""
          }
         },
         "name": "RIEGEL PRAHA",
         "offsetgroup": "RIEGEL PRAHA",
         "orientation": "v",
         "showlegend": true,
         "textposition": "auto",
         "type": "bar",
         "x": [
          1989
         ],
         "xaxis": "x",
         "y": [
          1
         ],
         "yaxis": "y"
        },
        {
         "alignmentgroup": "True",
         "hovertemplate": "Club=TJ DUKLA PRAHA<br>Year=%{x}<br>count=%{y}<extra></extra>",
         "legendgroup": "TJ DUKLA PRAHA",
         "marker": {
          "color": "#FF97FF",
          "pattern": {
           "shape": ""
          }
         },
         "name": "TJ DUKLA PRAHA",
         "offsetgroup": "TJ DUKLA PRAHA",
         "orientation": "v",
         "showlegend": true,
         "textposition": "auto",
         "type": "bar",
         "x": [
          1990,
          1994,
          1995,
          1996,
          1997,
          1999,
          2000,
          2001,
          2002,
          2004,
          2005
         ],
         "xaxis": "x",
         "y": [
          1,
          2,
          1,
          1,
          1,
          2,
          1,
          2,
          2,
          2,
          2
         ],
         "yaxis": "y"
        },
        {
         "alignmentgroup": "True",
         "hovertemplate": "Club=ASBVA<br>Year=%{x}<br>count=%{y}<extra></extra>",
         "legendgroup": "ASBVA",
         "marker": {
          "color": "#FECB52",
          "pattern": {
           "shape": ""
          }
         },
         "name": "ASBVA",
         "offsetgroup": "ASBVA",
         "orientation": "v",
         "showlegend": true,
         "textposition": "auto",
         "type": "bar",
         "x": [
          1991
         ],
         "xaxis": "x",
         "y": [
          1
         ],
         "yaxis": "y"
        },
        {
         "alignmentgroup": "True",
         "hovertemplate": "Club=TJ LOKO K.VARY<br>Year=%{x}<br>count=%{y}<extra></extra>",
         "legendgroup": "TJ LOKO K.VARY",
         "marker": {
          "color": "#636efa",
          "pattern": {
           "shape": ""
          }
         },
         "name": "TJ LOKO K.VARY",
         "offsetgroup": "TJ LOKO K.VARY",
         "orientation": "v",
         "showlegend": true,
         "textposition": "auto",
         "type": "bar",
         "x": [
          1991,
          2003,
          2006,
          2007,
          2008
         ],
         "xaxis": "x",
         "y": [
          1,
          1,
          1,
          1,
          1
         ],
         "yaxis": "y"
        },
        {
         "alignmentgroup": "True",
         "hovertemplate": "Club=VENEZUELA<br>Year=%{x}<br>count=%{y}<extra></extra>",
         "legendgroup": "VENEZUELA",
         "marker": {
          "color": "#EF553B",
          "pattern": {
           "shape": ""
          }
         },
         "name": "VENEZUELA",
         "offsetgroup": "VENEZUELA",
         "orientation": "v",
         "showlegend": true,
         "textposition": "auto",
         "type": "bar",
         "x": [
          1991,
          1999
         ],
         "xaxis": "x",
         "y": [
          1,
          3
         ],
         "yaxis": "y"
        },
        {
         "alignmentgroup": "True",
         "hovertemplate": "Club=VSK HUMANITA<br>Year=%{x}<br>count=%{y}<extra></extra>",
         "legendgroup": "VSK HUMANITA",
         "marker": {
          "color": "#00cc96",
          "pattern": {
           "shape": ""
          }
         },
         "name": "VSK HUMANITA",
         "offsetgroup": "VSK HUMANITA",
         "orientation": "v",
         "showlegend": true,
         "textposition": "auto",
         "type": "bar",
         "x": [
          1991,
          1992,
          1993,
          1995,
          1997,
          1998,
          1999
         ],
         "xaxis": "x",
         "y": [
          1,
          1,
          1,
          1,
          2,
          3,
          1
         ],
         "yaxis": "y"
        },
        {
         "alignmentgroup": "True",
         "hovertemplate": "Club=OREL HR.KR.<br>Year=%{x}<br>count=%{y}<extra></extra>",
         "legendgroup": "OREL HR.KR.",
         "marker": {
          "color": "#ab63fa",
          "pattern": {
           "shape": ""
          }
         },
         "name": "OREL HR.KR.",
         "offsetgroup": "OREL HR.KR.",
         "orientation": "v",
         "showlegend": true,
         "textposition": "auto",
         "type": "bar",
         "x": [
          1996
         ],
         "xaxis": "x",
         "y": [
          1
         ],
         "yaxis": "y"
        },
        {
         "alignmentgroup": "True",
         "hovertemplate": "Club=SČ USTI NAD LABEM<br>Year=%{x}<br>count=%{y}<extra></extra>",
         "legendgroup": "SČ USTI NAD LABEM",
         "marker": {
          "color": "#FFA15A",
          "pattern": {
           "shape": ""
          }
         },
         "name": "SČ USTI NAD LABEM",
         "offsetgroup": "SČ USTI NAD LABEM",
         "orientation": "v",
         "showlegend": true,
         "textposition": "auto",
         "type": "bar",
         "x": [
          1997,
          1999,
          2002,
          2006
         ],
         "xaxis": "x",
         "y": [
          1,
          1,
          1,
          2
         ],
         "yaxis": "y"
        },
        {
         "alignmentgroup": "True",
         "hovertemplate": "Club=UKRAJINA<br>Year=%{x}<br>count=%{y}<extra></extra>",
         "legendgroup": "UKRAJINA",
         "marker": {
          "color": "#19d3f3",
          "pattern": {
           "shape": ""
          }
         },
         "name": "UKRAJINA",
         "offsetgroup": "UKRAJINA",
         "orientation": "v",
         "showlegend": true,
         "textposition": "auto",
         "type": "bar",
         "x": [
          1997,
          1999
         ],
         "xaxis": "x",
         "y": [
          1,
          1
         ],
         "yaxis": "y"
        },
        {
         "alignmentgroup": "True",
         "hovertemplate": "Club=ŠK RIEGEL<br>Year=%{x}<br>count=%{y}<extra></extra>",
         "legendgroup": "ŠK RIEGEL",
         "marker": {
          "color": "#FF6692",
          "pattern": {
           "shape": ""
          }
         },
         "name": "ŠK RIEGEL",
         "offsetgroup": "ŠK RIEGEL",
         "orientation": "v",
         "showlegend": true,
         "textposition": "auto",
         "type": "bar",
         "x": [
          1998
         ],
         "xaxis": "x",
         "y": [
          1
         ],
         "yaxis": "y"
        },
        {
         "alignmentgroup": "True",
         "hovertemplate": "Club=AŠ BRATISLAVA<br>Year=%{x}<br>count=%{y}<extra></extra>",
         "legendgroup": "AŠ BRATISLAVA",
         "marker": {
          "color": "#B6E880",
          "pattern": {
           "shape": ""
          }
         },
         "name": "AŠ BRATISLAVA",
         "offsetgroup": "AŠ BRATISLAVA",
         "orientation": "v",
         "showlegend": true,
         "textposition": "auto",
         "type": "bar",
         "x": [
          1999,
          2000,
          2001
         ],
         "xaxis": "x",
         "y": [
          1,
          1,
          1
         ],
         "yaxis": "y"
        },
        {
         "alignmentgroup": "True",
         "hovertemplate": "Club=1.FC BELA POD BEZ<br>Year=%{x}<br>count=%{y}<extra></extra>",
         "legendgroup": "1.FC BELA POD BEZ",
         "marker": {
          "color": "#FF97FF",
          "pattern": {
           "shape": ""
          }
         },
         "name": "1.FC BELA POD BEZ",
         "offsetgroup": "1.FC BELA POD BEZ",
         "orientation": "v",
         "showlegend": true,
         "textposition": "auto",
         "type": "bar",
         "x": [
          2000,
          2002,
          2003,
          2006
         ],
         "xaxis": "x",
         "y": [
          1,
          1,
          1,
          1
         ],
         "yaxis": "y"
        },
        {
         "alignmentgroup": "True",
         "hovertemplate": "Club=EKONOM PRAHA<br>Year=%{x}<br>count=%{y}<extra></extra>",
         "legendgroup": "EKONOM PRAHA",
         "marker": {
          "color": "#FECB52",
          "pattern": {
           "shape": ""
          }
         },
         "name": "EKONOM PRAHA",
         "offsetgroup": "EKONOM PRAHA",
         "orientation": "v",
         "showlegend": true,
         "textposition": "auto",
         "type": "bar",
         "x": [
          2000
         ],
         "xaxis": "x",
         "y": [
          1
         ],
         "yaxis": "y"
        },
        {
         "alignmentgroup": "True",
         "hovertemplate": "Club=FC LEIPZIG<br>Year=%{x}<br>count=%{y}<extra></extra>",
         "legendgroup": "FC LEIPZIG",
         "marker": {
          "color": "#636efa",
          "pattern": {
           "shape": ""
          }
         },
         "name": "FC LEIPZIG",
         "offsetgroup": "FC LEIPZIG",
         "orientation": "v",
         "showlegend": true,
         "textposition": "auto",
         "type": "bar",
         "x": [
          2000,
          2001,
          2002
         ],
         "xaxis": "x",
         "y": [
          1,
          1,
          1
         ],
         "yaxis": "y"
        },
        {
         "alignmentgroup": "True",
         "hovertemplate": "Club=LAŠSSKFZ<br>Year=%{x}<br>count=%{y}<extra></extra>",
         "legendgroup": "LAŠSSKFZ",
         "marker": {
          "color": "#EF553B",
          "pattern": {
           "shape": ""
          }
         },
         "name": "LAŠSSKFZ",
         "offsetgroup": "LAŠSSKFZ",
         "orientation": "v",
         "showlegend": true,
         "textposition": "auto",
         "type": "bar",
         "x": [
          2000
         ],
         "xaxis": "x",
         "y": [
          1
         ],
         "yaxis": "y"
        },
        {
         "alignmentgroup": "True",
         "hovertemplate": "Club=JPN<br>Year=%{x}<br>count=%{y}<extra></extra>",
         "legendgroup": "JPN",
         "marker": {
          "color": "#00cc96",
          "pattern": {
           "shape": ""
          }
         },
         "name": "JPN",
         "offsetgroup": "JPN",
         "orientation": "v",
         "showlegend": true,
         "textposition": "auto",
         "type": "bar",
         "x": [
          2002
         ],
         "xaxis": "x",
         "y": [
          1
         ],
         "yaxis": "y"
        },
        {
         "alignmentgroup": "True",
         "hovertemplate": "Club=RADEBEUL<br>Year=%{x}<br>count=%{y}<extra></extra>",
         "legendgroup": "RADEBEUL",
         "marker": {
          "color": "#ab63fa",
          "pattern": {
           "shape": ""
          }
         },
         "name": "RADEBEUL",
         "offsetgroup": "RADEBEUL",
         "orientation": "v",
         "showlegend": true,
         "textposition": "auto",
         "type": "bar",
         "x": [
          2002
         ],
         "xaxis": "x",
         "y": [
          1
         ],
         "yaxis": "y"
        },
        {
         "alignmentgroup": "True",
         "hovertemplate": "Club=SOKOL DEJVICE<br>Year=%{x}<br>count=%{y}<extra></extra>",
         "legendgroup": "SOKOL DEJVICE",
         "marker": {
          "color": "#FFA15A",
          "pattern": {
           "shape": ""
          }
         },
         "name": "SOKOL DEJVICE",
         "offsetgroup": "SOKOL DEJVICE",
         "orientation": "v",
         "showlegend": true,
         "textposition": "auto",
         "type": "bar",
         "x": [
          2002,
          2004
         ],
         "xaxis": "x",
         "y": [
          1,
          1
         ],
         "yaxis": "y"
        },
        {
         "alignmentgroup": "True",
         "hovertemplate": "Club=TJ LOKO TEPLICE<br>Year=%{x}<br>count=%{y}<extra></extra>",
         "legendgroup": "TJ LOKO TEPLICE",
         "marker": {
          "color": "#19d3f3",
          "pattern": {
           "shape": ""
          }
         },
         "name": "TJ LOKO TEPLICE",
         "offsetgroup": "TJ LOKO TEPLICE",
         "orientation": "v",
         "showlegend": true,
         "textposition": "auto",
         "type": "bar",
         "x": [
          2002,
          2004,
          2005,
          2008
         ],
         "xaxis": "x",
         "y": [
          1,
          2,
          3,
          1
         ],
         "yaxis": "y"
        },
        {
         "alignmentgroup": "True",
         "hovertemplate": "Club=VUT BRNO<br>Year=%{x}<br>count=%{y}<extra></extra>",
         "legendgroup": "VUT BRNO",
         "marker": {
          "color": "#FF6692",
          "pattern": {
           "shape": ""
          }
         },
         "name": "VUT BRNO",
         "offsetgroup": "VUT BRNO",
         "orientation": "v",
         "showlegend": true,
         "textposition": "auto",
         "type": "bar",
         "x": [
          2002
         ],
         "xaxis": "x",
         "y": [
          1
         ],
         "yaxis": "y"
        },
        {
         "alignmentgroup": "True",
         "hovertemplate": "Club=JISKRA H.BROD<br>Year=%{x}<br>count=%{y}<extra></extra>",
         "legendgroup": "JISKRA H.BROD",
         "marker": {
          "color": "#B6E880",
          "pattern": {
           "shape": ""
          }
         },
         "name": "JISKRA H.BROD",
         "offsetgroup": "JISKRA H.BROD",
         "orientation": "v",
         "showlegend": true,
         "textposition": "auto",
         "type": "bar",
         "x": [
          2004
         ],
         "xaxis": "x",
         "y": [
          1
         ],
         "yaxis": "y"
        },
        {
         "alignmentgroup": "True",
         "hovertemplate": "Club=SLAVOJ LITOMĚŘICE<br>Year=%{x}<br>count=%{y}<extra></extra>",
         "legendgroup": "SLAVOJ LITOMĚŘICE",
         "marker": {
          "color": "#FF97FF",
          "pattern": {
           "shape": ""
          }
         },
         "name": "SLAVOJ LITOMĚŘICE",
         "offsetgroup": "SLAVOJ LITOMĚŘICE",
         "orientation": "v",
         "showlegend": true,
         "textposition": "auto",
         "type": "bar",
         "x": [
          2005,
          2006,
          2007
         ],
         "xaxis": "x",
         "y": [
          2,
          2,
          1
         ],
         "yaxis": "y"
        }
       ],
       "layout": {
        "barmode": "relative",
        "height": 700,
        "legend": {
         "title": {
          "text": "Club"
         },
         "tracegroupgap": 0
        },
        "margin": {
         "t": 60
        },
        "template": {
         "data": {
          "bar": [
           {
            "error_x": {
             "color": "#2a3f5f"
            },
            "error_y": {
             "color": "#2a3f5f"
            },
            "marker": {
             "line": {
              "color": "#E5ECF6",
              "width": 0.5
             },
             "pattern": {
              "fillmode": "overlay",
              "size": 10,
              "solidity": 0.2
             }
            },
            "type": "bar"
           }
          ],
          "barpolar": [
           {
            "marker": {
             "line": {
              "color": "#E5ECF6",
              "width": 0.5
             },
             "pattern": {
              "fillmode": "overlay",
              "size": 10,
              "solidity": 0.2
             }
            },
            "type": "barpolar"
           }
          ],
          "carpet": [
           {
            "aaxis": {
             "endlinecolor": "#2a3f5f",
             "gridcolor": "white",
             "linecolor": "white",
             "minorgridcolor": "white",
             "startlinecolor": "#2a3f5f"
            },
            "baxis": {
             "endlinecolor": "#2a3f5f",
             "gridcolor": "white",
             "linecolor": "white",
             "minorgridcolor": "white",
             "startlinecolor": "#2a3f5f"
            },
            "type": "carpet"
           }
          ],
          "choropleth": [
           {
            "colorbar": {
             "outlinewidth": 0,
             "ticks": ""
            },
            "type": "choropleth"
           }
          ],
          "contour": [
           {
            "colorbar": {
             "outlinewidth": 0,
             "ticks": ""
            },
            "colorscale": [
             [
              0,
              "#0d0887"
             ],
             [
              0.1111111111111111,
              "#46039f"
             ],
             [
              0.2222222222222222,
              "#7201a8"
             ],
             [
              0.3333333333333333,
              "#9c179e"
             ],
             [
              0.4444444444444444,
              "#bd3786"
             ],
             [
              0.5555555555555556,
              "#d8576b"
             ],
             [
              0.6666666666666666,
              "#ed7953"
             ],
             [
              0.7777777777777778,
              "#fb9f3a"
             ],
             [
              0.8888888888888888,
              "#fdca26"
             ],
             [
              1,
              "#f0f921"
             ]
            ],
            "type": "contour"
           }
          ],
          "contourcarpet": [
           {
            "colorbar": {
             "outlinewidth": 0,
             "ticks": ""
            },
            "type": "contourcarpet"
           }
          ],
          "heatmap": [
           {
            "colorbar": {
             "outlinewidth": 0,
             "ticks": ""
            },
            "colorscale": [
             [
              0,
              "#0d0887"
             ],
             [
              0.1111111111111111,
              "#46039f"
             ],
             [
              0.2222222222222222,
              "#7201a8"
             ],
             [
              0.3333333333333333,
              "#9c179e"
             ],
             [
              0.4444444444444444,
              "#bd3786"
             ],
             [
              0.5555555555555556,
              "#d8576b"
             ],
             [
              0.6666666666666666,
              "#ed7953"
             ],
             [
              0.7777777777777778,
              "#fb9f3a"
             ],
             [
              0.8888888888888888,
              "#fdca26"
             ],
             [
              1,
              "#f0f921"
             ]
            ],
            "type": "heatmap"
           }
          ],
          "heatmapgl": [
           {
            "colorbar": {
             "outlinewidth": 0,
             "ticks": ""
            },
            "colorscale": [
             [
              0,
              "#0d0887"
             ],
             [
              0.1111111111111111,
              "#46039f"
             ],
             [
              0.2222222222222222,
              "#7201a8"
             ],
             [
              0.3333333333333333,
              "#9c179e"
             ],
             [
              0.4444444444444444,
              "#bd3786"
             ],
             [
              0.5555555555555556,
              "#d8576b"
             ],
             [
              0.6666666666666666,
              "#ed7953"
             ],
             [
              0.7777777777777778,
              "#fb9f3a"
             ],
             [
              0.8888888888888888,
              "#fdca26"
             ],
             [
              1,
              "#f0f921"
             ]
            ],
            "type": "heatmapgl"
           }
          ],
          "histogram": [
           {
            "marker": {
             "pattern": {
              "fillmode": "overlay",
              "size": 10,
              "solidity": 0.2
             }
            },
            "type": "histogram"
           }
          ],
          "histogram2d": [
           {
            "colorbar": {
             "outlinewidth": 0,
             "ticks": ""
            },
            "colorscale": [
             [
              0,
              "#0d0887"
             ],
             [
              0.1111111111111111,
              "#46039f"
             ],
             [
              0.2222222222222222,
              "#7201a8"
             ],
             [
              0.3333333333333333,
              "#9c179e"
             ],
             [
              0.4444444444444444,
              "#bd3786"
             ],
             [
              0.5555555555555556,
              "#d8576b"
             ],
             [
              0.6666666666666666,
              "#ed7953"
             ],
             [
              0.7777777777777778,
              "#fb9f3a"
             ],
             [
              0.8888888888888888,
              "#fdca26"
             ],
             [
              1,
              "#f0f921"
             ]
            ],
            "type": "histogram2d"
           }
          ],
          "histogram2dcontour": [
           {
            "colorbar": {
             "outlinewidth": 0,
             "ticks": ""
            },
            "colorscale": [
             [
              0,
              "#0d0887"
             ],
             [
              0.1111111111111111,
              "#46039f"
             ],
             [
              0.2222222222222222,
              "#7201a8"
             ],
             [
              0.3333333333333333,
              "#9c179e"
             ],
             [
              0.4444444444444444,
              "#bd3786"
             ],
             [
              0.5555555555555556,
              "#d8576b"
             ],
             [
              0.6666666666666666,
              "#ed7953"
             ],
             [
              0.7777777777777778,
              "#fb9f3a"
             ],
             [
              0.8888888888888888,
              "#fdca26"
             ],
             [
              1,
              "#f0f921"
             ]
            ],
            "type": "histogram2dcontour"
           }
          ],
          "mesh3d": [
           {
            "colorbar": {
             "outlinewidth": 0,
             "ticks": ""
            },
            "type": "mesh3d"
           }
          ],
          "parcoords": [
           {
            "line": {
             "colorbar": {
              "outlinewidth": 0,
              "ticks": ""
             }
            },
            "type": "parcoords"
           }
          ],
          "pie": [
           {
            "automargin": true,
            "type": "pie"
           }
          ],
          "scatter": [
           {
            "marker": {
             "colorbar": {
              "outlinewidth": 0,
              "ticks": ""
             }
            },
            "type": "scatter"
           }
          ],
          "scatter3d": [
           {
            "line": {
             "colorbar": {
              "outlinewidth": 0,
              "ticks": ""
             }
            },
            "marker": {
             "colorbar": {
              "outlinewidth": 0,
              "ticks": ""
             }
            },
            "type": "scatter3d"
           }
          ],
          "scattercarpet": [
           {
            "marker": {
             "colorbar": {
              "outlinewidth": 0,
              "ticks": ""
             }
            },
            "type": "scattercarpet"
           }
          ],
          "scattergeo": [
           {
            "marker": {
             "colorbar": {
              "outlinewidth": 0,
              "ticks": ""
             }
            },
            "type": "scattergeo"
           }
          ],
          "scattergl": [
           {
            "marker": {
             "colorbar": {
              "outlinewidth": 0,
              "ticks": ""
             }
            },
            "type": "scattergl"
           }
          ],
          "scattermapbox": [
           {
            "marker": {
             "colorbar": {
              "outlinewidth": 0,
              "ticks": ""
             }
            },
            "type": "scattermapbox"
           }
          ],
          "scatterpolar": [
           {
            "marker": {
             "colorbar": {
              "outlinewidth": 0,
              "ticks": ""
             }
            },
            "type": "scatterpolar"
           }
          ],
          "scatterpolargl": [
           {
            "marker": {
             "colorbar": {
              "outlinewidth": 0,
              "ticks": ""
             }
            },
            "type": "scatterpolargl"
           }
          ],
          "scatterternary": [
           {
            "marker": {
             "colorbar": {
              "outlinewidth": 0,
              "ticks": ""
             }
            },
            "type": "scatterternary"
           }
          ],
          "surface": [
           {
            "colorbar": {
             "outlinewidth": 0,
             "ticks": ""
            },
            "colorscale": [
             [
              0,
              "#0d0887"
             ],
             [
              0.1111111111111111,
              "#46039f"
             ],
             [
              0.2222222222222222,
              "#7201a8"
             ],
             [
              0.3333333333333333,
              "#9c179e"
             ],
             [
              0.4444444444444444,
              "#bd3786"
             ],
             [
              0.5555555555555556,
              "#d8576b"
             ],
             [
              0.6666666666666666,
              "#ed7953"
             ],
             [
              0.7777777777777778,
              "#fb9f3a"
             ],
             [
              0.8888888888888888,
              "#fdca26"
             ],
             [
              1,
              "#f0f921"
             ]
            ],
            "type": "surface"
           }
          ],
          "table": [
           {
            "cells": {
             "fill": {
              "color": "#EBF0F8"
             },
             "line": {
              "color": "white"
             }
            },
            "header": {
             "fill": {
              "color": "#C8D4E3"
             },
             "line": {
              "color": "white"
             }
            },
            "type": "table"
           }
          ]
         },
         "layout": {
          "annotationdefaults": {
           "arrowcolor": "#2a3f5f",
           "arrowhead": 0,
           "arrowwidth": 1
          },
          "autotypenumbers": "strict",
          "coloraxis": {
           "colorbar": {
            "outlinewidth": 0,
            "ticks": ""
           }
          },
          "colorscale": {
           "diverging": [
            [
             0,
             "#8e0152"
            ],
            [
             0.1,
             "#c51b7d"
            ],
            [
             0.2,
             "#de77ae"
            ],
            [
             0.3,
             "#f1b6da"
            ],
            [
             0.4,
             "#fde0ef"
            ],
            [
             0.5,
             "#f7f7f7"
            ],
            [
             0.6,
             "#e6f5d0"
            ],
            [
             0.7,
             "#b8e186"
            ],
            [
             0.8,
             "#7fbc41"
            ],
            [
             0.9,
             "#4d9221"
            ],
            [
             1,
             "#276419"
            ]
           ],
           "sequential": [
            [
             0,
             "#0d0887"
            ],
            [
             0.1111111111111111,
             "#46039f"
            ],
            [
             0.2222222222222222,
             "#7201a8"
            ],
            [
             0.3333333333333333,
             "#9c179e"
            ],
            [
             0.4444444444444444,
             "#bd3786"
            ],
            [
             0.5555555555555556,
             "#d8576b"
            ],
            [
             0.6666666666666666,
             "#ed7953"
            ],
            [
             0.7777777777777778,
             "#fb9f3a"
            ],
            [
             0.8888888888888888,
             "#fdca26"
            ],
            [
             1,
             "#f0f921"
            ]
           ],
           "sequentialminus": [
            [
             0,
             "#0d0887"
            ],
            [
             0.1111111111111111,
             "#46039f"
            ],
            [
             0.2222222222222222,
             "#7201a8"
            ],
            [
             0.3333333333333333,
             "#9c179e"
            ],
            [
             0.4444444444444444,
             "#bd3786"
            ],
            [
             0.5555555555555556,
             "#d8576b"
            ],
            [
             0.6666666666666666,
             "#ed7953"
            ],
            [
             0.7777777777777778,
             "#fb9f3a"
            ],
            [
             0.8888888888888888,
             "#fdca26"
            ],
            [
             1,
             "#f0f921"
            ]
           ]
          },
          "colorway": [
           "#636efa",
           "#EF553B",
           "#00cc96",
           "#ab63fa",
           "#FFA15A",
           "#19d3f3",
           "#FF6692",
           "#B6E880",
           "#FF97FF",
           "#FECB52"
          ],
          "font": {
           "color": "#2a3f5f"
          },
          "geo": {
           "bgcolor": "white",
           "lakecolor": "white",
           "landcolor": "#E5ECF6",
           "showlakes": true,
           "showland": true,
           "subunitcolor": "white"
          },
          "hoverlabel": {
           "align": "left"
          },
          "hovermode": "closest",
          "mapbox": {
           "style": "light"
          },
          "paper_bgcolor": "white",
          "plot_bgcolor": "#E5ECF6",
          "polar": {
           "angularaxis": {
            "gridcolor": "white",
            "linecolor": "white",
            "ticks": ""
           },
           "bgcolor": "#E5ECF6",
           "radialaxis": {
            "gridcolor": "white",
            "linecolor": "white",
            "ticks": ""
           }
          },
          "scene": {
           "xaxis": {
            "backgroundcolor": "#E5ECF6",
            "gridcolor": "white",
            "gridwidth": 2,
            "linecolor": "white",
            "showbackground": true,
            "ticks": "",
            "zerolinecolor": "white"
           },
           "yaxis": {
            "backgroundcolor": "#E5ECF6",
            "gridcolor": "white",
            "gridwidth": 2,
            "linecolor": "white",
            "showbackground": true,
            "ticks": "",
            "zerolinecolor": "white"
           },
           "zaxis": {
            "backgroundcolor": "#E5ECF6",
            "gridcolor": "white",
            "gridwidth": 2,
            "linecolor": "white",
            "showbackground": true,
            "ticks": "",
            "zerolinecolor": "white"
           }
          },
          "shapedefaults": {
           "line": {
            "color": "#2a3f5f"
           }
          },
          "ternary": {
           "aaxis": {
            "gridcolor": "white",
            "linecolor": "white",
            "ticks": ""
           },
           "baxis": {
            "gridcolor": "white",
            "linecolor": "white",
            "ticks": ""
           },
           "bgcolor": "#E5ECF6",
           "caxis": {
            "gridcolor": "white",
            "linecolor": "white",
            "ticks": ""
           }
          },
          "title": {
           "x": 0.05
          },
          "xaxis": {
           "automargin": true,
           "gridcolor": "white",
           "linecolor": "white",
           "ticks": "",
           "title": {
            "standoff": 15
           },
           "zerolinecolor": "white",
           "zerolinewidth": 2
          },
          "yaxis": {
           "automargin": true,
           "gridcolor": "white",
           "linecolor": "white",
           "ticks": "",
           "title": {
            "standoff": 15
           },
           "zerolinecolor": "white",
           "zerolinewidth": 2
          }
         }
        },
        "width": 950,
        "xaxis": {
         "anchor": "y",
         "autorange": true,
         "domain": [
          0,
          1
         ],
         "range": [
          1971.5,
          2009.5
         ],
         "tickangle": -90,
         "tickvals": [
          1972,
          1973,
          1975,
          1978,
          1978,
          1980,
          1984,
          1988,
          1989,
          1989,
          1990,
          1990,
          1991,
          1991,
          1991,
          1991,
          1991,
          1991,
          1991,
          1992,
          1993,
          1994,
          1995,
          1995,
          1995,
          1995,
          1995,
          1996,
          1996,
          1996,
          1997,
          1997,
          1997,
          1997,
          1997,
          1998,
          1998,
          1998,
          1998,
          1999,
          1999,
          1999,
          1999,
          1999,
          1999,
          1999,
          1999,
          1999,
          2000,
          2000,
          2000,
          2000,
          2000,
          2000,
          2000,
          2000,
          2001,
          2001,
          2001,
          2001,
          2002,
          2002,
          2002,
          2002,
          2002,
          2002,
          2002,
          2002,
          2002,
          2002,
          2002,
          2002,
          2003,
          2003,
          2003,
          2004,
          2004,
          2004,
          2004,
          2004,
          2005,
          2005,
          2005,
          2005,
          2005,
          2005,
          2006,
          2006,
          2006,
          2006,
          2006,
          2006,
          2007,
          2007,
          2007,
          2007,
          2007,
          2008,
          2008,
          2008,
          2008,
          2009,
          2009
         ],
         "title": {
          "text": "Year"
         },
         "type": "linear"
        },
        "yaxis": {
         "anchor": "x",
         "autorange": true,
         "domain": [
          0,
          1
         ],
         "range": [
          0,
          15.789473684210526
         ],
         "title": {
          "text": "count"
         },
         "type": "linear"
        }
       }
      },
      "image/png": "[encoded data removed]",
      "text/html": [
       "<div>                            <div id=\"9cfa9d1c-1467-446b-b63b-4be2876c0a77\" class=\"plotly-graph-div\" style=\"height:700px; width:950px;\"></div>            <script type=\"text/javascript\">                require([\"plotly\"], function(Plotly) {                    window.PLOTLYENV=window.PLOTLYENV || {};                                    if (document.getElementById(\"9cfa9d1c-1467-446b-b63b-4be2876c0a77\")) {                    Plotly.newPlot(                        \"9cfa9d1c-1467-446b-b63b-4be2876c0a77\",                        [{\"alignmentgroup\":\"True\",\"hovertemplate\":\"Club=BOHEMIANS<br>Year=%{x}<br>count=%{y}<extra></extra>\",\"legendgroup\":\"BOHEMIANS\",\"marker\":{\"color\":\"#636efa\",\"pattern\":{\"shape\":\"\"}},\"name\":\"BOHEMIANS\",\"offsetgroup\":\"BOHEMIANS\",\"orientation\":\"v\",\"showlegend\":true,\"textposition\":\"auto\",\"x\":[1972,1991],\"xaxis\":\"x\",\"y\":[1,1],\"yaxis\":\"y\",\"type\":\"bar\"},{\"alignmentgroup\":\"True\",\"hovertemplate\":\"Club=SS UH.HRADISTE<br>Year=%{x}<br>count=%{y}<extra></extra>\",\"legendgroup\":\"SS UH.HRADISTE\",\"marker\":{\"color\":\"#EF553B\",\"pattern\":{\"shape\":\"\"}},\"name\":\"SS UH.HRADISTE\",\"offsetgroup\":\"SS UH.HRADISTE\",\"orientation\":\"v\",\"showlegend\":true,\"textposition\":\"auto\",\"x\":[1973],\"xaxis\":\"x\",\"y\":[1],\"yaxis\":\"y\",\"type\":\"bar\"},{\"alignmentgroup\":\"True\",\"hovertemplate\":\"Club=USK PRAHA<br>Year=%{x}<br>count=%{y}<extra></extra>\",\"legendgroup\":\"USK PRAHA\",\"marker\":{\"color\":\"#00cc96\",\"pattern\":{\"shape\":\"\"}},\"name\":\"USK PRAHA\",\"offsetgroup\":\"USK PRAHA\",\"orientation\":\"v\",\"showlegend\":true,\"textposition\":\"auto\",\"x\":[1975,1989,1997,1999,2005,2006],\"xaxis\":\"x\",\"y\":[1,1,1,2,1,1],\"yaxis\":\"y\",\"type\":\"bar\"},{\"alignmentgroup\":\"True\",\"hovertemplate\":\"Club=SC PRAHA<br>Year=%{x}<br>count=%{y}<extra></extra>\",\"legendgroup\":\"SC PRAHA\",\"marker\":{\"color\":\"#ab63fa\",\"pattern\":{\"shape\":\"\"}},\"name\":\"SC PRAHA\",\"offsetgroup\":\"SC PRAHA\",\"orientation\":\"v\",\"showlegend\":true,\"textposition\":\"auto\",\"x\":[1978,1990,1995,1998,1999,2001,2002,2003,2004,2005,2006,2007,2008,2009],\"xaxis\":\"x\",\"y\":[1,1,2,1,2,2,3,2,1,1,2,5,3,1],\"yaxis\":\"y\",\"type\":\"bar\"},{\"alignmentgroup\":\"True\",\"hovertemplate\":\"Club=TJ SOKOL P\\u00cdSEK<br>Year=%{x}<br>count=%{y}<extra></extra>\",\"legendgroup\":\"TJ SOKOL P\\u00cdSEK\",\"marker\":{\"color\":\"#FFA15A\",\"pattern\":{\"shape\":\"\"}},\"name\":\"TJ SOKOL P\\u00cdSEK\",\"offsetgroup\":\"TJ SOKOL P\\u00cdSEK\",\"orientation\":\"v\",\"showlegend\":true,\"textposition\":\"auto\",\"x\":[1978,2007],\"xaxis\":\"x\",\"y\":[1,1],\"yaxis\":\"y\",\"type\":\"bar\"},{\"alignmentgroup\":\"True\",\"hovertemplate\":\"Club=DUKLA OLOMOUC<br>Year=%{x}<br>count=%{y}<extra></extra>\",\"legendgroup\":\"DUKLA OLOMOUC\",\"marker\":{\"color\":\"#19d3f3\",\"pattern\":{\"shape\":\"\"}},\"name\":\"DUKLA OLOMOUC\",\"offsetgroup\":\"DUKLA OLOMOUC\",\"orientation\":\"v\",\"showlegend\":true,\"textposition\":\"auto\",\"x\":[1980,1984,1991,1995,1999,2000,2002,2005,2007,2009],\"xaxis\":\"x\",\"y\":[1,2,1,1,2,4,1,1,1,1],\"yaxis\":\"y\",\"type\":\"bar\"},{\"alignmentgroup\":\"True\",\"hovertemplate\":\"Club=TJ LOKO PLZEN<br>Year=%{x}<br>count=%{y}<extra></extra>\",\"legendgroup\":\"TJ LOKO PLZEN\",\"marker\":{\"color\":\"#FF6692\",\"pattern\":{\"shape\":\"\"}},\"name\":\"TJ LOKO PLZEN\",\"offsetgroup\":\"TJ LOKO PLZEN\",\"orientation\":\"v\",\"showlegend\":true,\"textposition\":\"auto\",\"x\":[1988,1991,1995,1996,1998,2000,2002,2008],\"xaxis\":\"x\",\"y\":[1,1,1,1,1,1,1,1],\"yaxis\":\"y\",\"type\":\"bar\"},{\"alignmentgroup\":\"True\",\"hovertemplate\":\"Club=RIEGEL PRAHA<br>Year=%{x}<br>count=%{y}<extra></extra>\",\"legendgroup\":\"RIEGEL PRAHA\",\"marker\":{\"color\":\"#B6E880\",\"pattern\":{\"shape\":\"\"}},\"name\":\"RIEGEL PRAHA\",\"offsetgroup\":\"RIEGEL PRAHA\",\"orientation\":\"v\",\"showlegend\":true,\"textposition\":\"auto\",\"x\":[1989],\"xaxis\":\"x\",\"y\":[1],\"yaxis\":\"y\",\"type\":\"bar\"},{\"alignmentgroup\":\"True\",\"hovertemplate\":\"Club=TJ DUKLA PRAHA<br>Year=%{x}<br>count=%{y}<extra></extra>\",\"legendgroup\":\"TJ DUKLA PRAHA\",\"marker\":{\"color\":\"#FF97FF\",\"pattern\":{\"shape\":\"\"}},\"name\":\"TJ DUKLA PRAHA\",\"offsetgroup\":\"TJ DUKLA PRAHA\",\"orientation\":\"v\",\"showlegend\":true,\"textposition\":\"auto\",\"x\":[1990,1994,1995,1996,1997,1999,2000,2001,2002,2004,2005],\"xaxis\":\"x\",\"y\":[1,2,1,1,1,2,1,2,2,2,2],\"yaxis\":\"y\",\"type\":\"bar\"},{\"alignmentgroup\":\"True\",\"hovertemplate\":\"Club=ASBVA<br>Year=%{x}<br>count=%{y}<extra></extra>\",\"legendgroup\":\"ASBVA\",\"marker\":{\"color\":\"#FECB52\",\"pattern\":{\"shape\":\"\"}},\"name\":\"ASBVA\",\"offsetgroup\":\"ASBVA\",\"orientation\":\"v\",\"showlegend\":true,\"textposition\":\"auto\",\"x\":[1991],\"xaxis\":\"x\",\"y\":[1],\"yaxis\":\"y\",\"type\":\"bar\"},{\"alignmentgroup\":\"True\",\"hovertemplate\":\"Club=TJ LOKO K.VARY<br>Year=%{x}<br>count=%{y}<extra></extra>\",\"legendgroup\":\"TJ LOKO K.VARY\",\"marker\":{\"color\":\"#636efa\",\"pattern\":{\"shape\":\"\"}},\"name\":\"TJ LOKO K.VARY\",\"offsetgroup\":\"TJ LOKO K.VARY\",\"orientation\":\"v\",\"showlegend\":true,\"textposition\":\"auto\",\"x\":[1991,2003,2006,2007,2008],\"xaxis\":\"x\",\"y\":[1,1,1,1,1],\"yaxis\":\"y\",\"type\":\"bar\"},{\"alignmentgroup\":\"True\",\"hovertemplate\":\"Club=VENEZUELA<br>Year=%{x}<br>count=%{y}<extra></extra>\",\"legendgroup\":\"VENEZUELA\",\"marker\":{\"color\":\"#EF553B\",\"pattern\":{\"shape\":\"\"}},\"name\":\"VENEZUELA\",\"offsetgroup\":\"VENEZUELA\",\"orientation\":\"v\",\"showlegend\":true,\"textposition\":\"auto\",\"x\":[1991,1999],\"xaxis\":\"x\",\"y\":[1,3],\"yaxis\":\"y\",\"type\":\"bar\"},{\"alignmentgroup\":\"True\",\"hovertemplate\":\"Club=VSK HUMANITA<br>Year=%{x}<br>count=%{y}<extra></extra>\",\"legendgroup\":\"VSK HUMANITA\",\"marker\":{\"color\":\"#00cc96\",\"pattern\":{\"shape\":\"\"}},\"name\":\"VSK HUMANITA\",\"offsetgroup\":\"VSK HUMANITA\",\"orientation\":\"v\",\"showlegend\":true,\"textposition\":\"auto\",\"x\":[1991,1992,1993,1995,1997,1998,1999],\"xaxis\":\"x\",\"y\":[1,1,1,1,2,3,1],\"yaxis\":\"y\",\"type\":\"bar\"},{\"alignmentgroup\":\"True\",\"hovertemplate\":\"Club=OREL HR.KR.<br>Year=%{x}<br>count=%{y}<extra></extra>\",\"legendgroup\":\"OREL HR.KR.\",\"marker\":{\"color\":\"#ab63fa\",\"pattern\":{\"shape\":\"\"}},\"name\":\"OREL HR.KR.\",\"offsetgroup\":\"OREL HR.KR.\",\"orientation\":\"v\",\"showlegend\":true,\"textposition\":\"auto\",\"x\":[1996],\"xaxis\":\"x\",\"y\":[1],\"yaxis\":\"y\",\"type\":\"bar\"},{\"alignmentgroup\":\"True\",\"hovertemplate\":\"Club=S\\u010c USTI NAD LABEM<br>Year=%{x}<br>count=%{y}<extra></extra>\",\"legendgroup\":\"S\\u010c USTI NAD LABEM\",\"marker\":{\"color\":\"#FFA15A\",\"pattern\":{\"shape\":\"\"}},\"name\":\"S\\u010c USTI NAD LABEM\",\"offsetgroup\":\"S\\u010c USTI NAD LABEM\",\"orientation\":\"v\",\"showlegend\":true,\"textposition\":\"auto\",\"x\":[1997,1999,2002,2006],\"xaxis\":\"x\",\"y\":[1,1,1,2],\"yaxis\":\"y\",\"type\":\"bar\"},{\"alignmentgroup\":\"True\",\"hovertemplate\":\"Club=UKRAJINA<br>Year=%{x}<br>count=%{y}<extra></extra>\",\"legendgroup\":\"UKRAJINA\",\"marker\":{\"color\":\"#19d3f3\",\"pattern\":{\"shape\":\"\"}},\"name\":\"UKRAJINA\",\"offsetgroup\":\"UKRAJINA\",\"orientation\":\"v\",\"showlegend\":true,\"textposition\":\"auto\",\"x\":[1997,1999],\"xaxis\":\"x\",\"y\":[1,1],\"yaxis\":\"y\",\"type\":\"bar\"},{\"alignmentgroup\":\"True\",\"hovertemplate\":\"Club=\\u0160K RIEGEL<br>Year=%{x}<br>count=%{y}<extra></extra>\",\"legendgroup\":\"\\u0160K RIEGEL\",\"marker\":{\"color\":\"#FF6692\",\"pattern\":{\"shape\":\"\"}},\"name\":\"\\u0160K RIEGEL\",\"offsetgroup\":\"\\u0160K RIEGEL\",\"orientation\":\"v\",\"showlegend\":true,\"textposition\":\"auto\",\"x\":[1998],\"xaxis\":\"x\",\"y\":[1],\"yaxis\":\"y\",\"type\":\"bar\"},{\"alignmentgroup\":\"True\",\"hovertemplate\":\"Club=A\\u0160 BRATISLAVA<br>Year=%{x}<br>count=%{y}<extra></extra>\",\"legendgroup\":\"A\\u0160 BRATISLAVA\",\"marker\":{\"color\":\"#B6E880\",\"pattern\":{\"shape\":\"\"}},\"name\":\"A\\u0160 BRATISLAVA\",\"offsetgroup\":\"A\\u0160 BRATISLAVA\",\"orientation\":\"v\",\"showlegend\":true,\"textposition\":\"auto\",\"x\":[1999,2000,2001],\"xaxis\":\"x\",\"y\":[1,1,1],\"yaxis\":\"y\",\"type\":\"bar\"},{\"alignmentgroup\":\"True\",\"hovertemplate\":\"Club=1.FC BELA POD BEZ<br>Year=%{x}<br>count=%{y}<extra></extra>\",\"legendgroup\":\"1.FC BELA POD BEZ\",\"marker\":{\"color\":\"#FF97FF\",\"pattern\":{\"shape\":\"\"}},\"name\":\"1.FC BELA POD BEZ\",\"offsetgroup\":\"1.FC BELA POD BEZ\",\"orientation\":\"v\",\"showlegend\":true,\"textposition\":\"auto\",\"x\":[2000,2002,2003,2006],\"xaxis\":\"x\",\"y\":[1,1,1,1],\"yaxis\":\"y\",\"type\":\"bar\"},{\"alignmentgroup\":\"True\",\"hovertemplate\":\"Club=EKONOM PRAHA<br>Year=%{x}<br>count=%{y}<extra></extra>\",\"legendgroup\":\"EKONOM PRAHA\",\"marker\":{\"color\":\"#FECB52\",\"pattern\":{\"shape\":\"\"}},\"name\":\"EKONOM PRAHA\",\"offsetgroup\":\"EKONOM PRAHA\",\"orientation\":\"v\",\"showlegend\":true,\"textposition\":\"auto\",\"x\":[2000],\"xaxis\":\"x\",\"y\":[1],\"yaxis\":\"y\",\"type\":\"bar\"},{\"alignmentgroup\":\"True\",\"hovertemplate\":\"Club=FC LEIPZIG<br>Year=%{x}<br>count=%{y}<extra></extra>\",\"legendgroup\":\"FC LEIPZIG\",\"marker\":{\"color\":\"#636efa\",\"pattern\":{\"shape\":\"\"}},\"name\":\"FC LEIPZIG\",\"offsetgroup\":\"FC LEIPZIG\",\"orientation\":\"v\",\"showlegend\":true,\"textposition\":\"auto\",\"x\":[2000,2001,2002],\"xaxis\":\"x\",\"y\":[1,1,1],\"yaxis\":\"y\",\"type\":\"bar\"},{\"alignmentgroup\":\"True\",\"hovertemplate\":\"Club=LA\\u0160SSKFZ<br>Year=%{x}<br>count=%{y}<extra></extra>\",\"legendgroup\":\"LA\\u0160SSKFZ\",\"marker\":{\"color\":\"#EF553B\",\"pattern\":{\"shape\":\"\"}},\"name\":\"LA\\u0160SSKFZ\",\"offsetgroup\":\"LA\\u0160SSKFZ\",\"orientation\":\"v\",\"showlegend\":true,\"textposition\":\"auto\",\"x\":[2000],\"xaxis\":\"x\",\"y\":[1],\"yaxis\":\"y\",\"type\":\"bar\"},{\"alignmentgroup\":\"True\",\"hovertemplate\":\"Club=JPN<br>Year=%{x}<br>count=%{y}<extra></extra>\",\"legendgroup\":\"JPN\",\"marker\":{\"color\":\"#00cc96\",\"pattern\":{\"shape\":\"\"}},\"name\":\"JPN\",\"offsetgroup\":\"JPN\",\"orientation\":\"v\",\"showlegend\":true,\"textposition\":\"auto\",\"x\":[2002],\"xaxis\":\"x\",\"y\":[1],\"yaxis\":\"y\",\"type\":\"bar\"},{\"alignmentgroup\":\"True\",\"hovertemplate\":\"Club=RADEBEUL<br>Year=%{x}<br>count=%{y}<extra></extra>\",\"legendgroup\":\"RADEBEUL\",\"marker\":{\"color\":\"#ab63fa\",\"pattern\":{\"shape\":\"\"}},\"name\":\"RADEBEUL\",\"offsetgroup\":\"RADEBEUL\",\"orientation\":\"v\",\"showlegend\":true,\"textposition\":\"auto\",\"x\":[2002],\"xaxis\":\"x\",\"y\":[1],\"yaxis\":\"y\",\"type\":\"bar\"},{\"alignmentgroup\":\"True\",\"hovertemplate\":\"Club=SOKOL DEJVICE<br>Year=%{x}<br>count=%{y}<extra></extra>\",\"legendgroup\":\"SOKOL DEJVICE\",\"marker\":{\"color\":\"#FFA15A\",\"pattern\":{\"shape\":\"\"}},\"name\":\"SOKOL DEJVICE\",\"offsetgroup\":\"SOKOL DEJVICE\",\"orientation\":\"v\",\"showlegend\":true,\"textposition\":\"auto\",\"x\":[2002,2004],\"xaxis\":\"x\",\"y\":[1,1],\"yaxis\":\"y\",\"type\":\"bar\"},{\"alignmentgroup\":\"True\",\"hovertemplate\":\"Club=TJ LOKO TEPLICE<br>Year=%{x}<br>count=%{y}<extra></extra>\",\"legendgroup\":\"TJ LOKO TEPLICE\",\"marker\":{\"color\":\"#19d3f3\",\"pattern\":{\"shape\":\"\"}},\"name\":\"TJ LOKO TEPLICE\",\"offsetgroup\":\"TJ LOKO TEPLICE\",\"orientation\":\"v\",\"showlegend\":true,\"textposition\":\"auto\",\"x\":[2002,2004,2005,2008],\"xaxis\":\"x\",\"y\":[1,2,3,1],\"yaxis\":\"y\",\"type\":\"bar\"},{\"alignmentgroup\":\"True\",\"hovertemplate\":\"Club=VUT BRNO<br>Year=%{x}<br>count=%{y}<extra></extra>\",\"legendgroup\":\"VUT BRNO\",\"marker\":{\"color\":\"#FF6692\",\"pattern\":{\"shape\":\"\"}},\"name\":\"VUT BRNO\",\"offsetgroup\":\"VUT BRNO\",\"orientation\":\"v\",\"showlegend\":true,\"textposition\":\"auto\",\"x\":[2002],\"xaxis\":\"x\",\"y\":[1],\"yaxis\":\"y\",\"type\":\"bar\"},{\"alignmentgroup\":\"True\",\"hovertemplate\":\"Club=JISKRA H.BROD<br>Year=%{x}<br>count=%{y}<extra></extra>\",\"legendgroup\":\"JISKRA H.BROD\",\"marker\":{\"color\":\"#B6E880\",\"pattern\":{\"shape\":\"\"}},\"name\":\"JISKRA H.BROD\",\"offsetgroup\":\"JISKRA H.BROD\",\"orientation\":\"v\",\"showlegend\":true,\"textposition\":\"auto\",\"x\":[2004],\"xaxis\":\"x\",\"y\":[1],\"yaxis\":\"y\",\"type\":\"bar\"},{\"alignmentgroup\":\"True\",\"hovertemplate\":\"Club=SLAVOJ LITOM\\u011a\\u0158ICE<br>Year=%{x}<br>count=%{y}<extra></extra>\",\"legendgroup\":\"SLAVOJ LITOM\\u011a\\u0158ICE\",\"marker\":{\"color\":\"#FF97FF\",\"pattern\":{\"shape\":\"\"}},\"name\":\"SLAVOJ LITOM\\u011a\\u0158ICE\",\"offsetgroup\":\"SLAVOJ LITOM\\u011a\\u0158ICE\",\"orientation\":\"v\",\"showlegend\":true,\"textposition\":\"auto\",\"x\":[2005,2006,2007],\"xaxis\":\"x\",\"y\":[2,2,1],\"yaxis\":\"y\",\"type\":\"bar\"}],                        {\"template\":{\"data\":{\"bar\":[{\"error_x\":{\"color\":\"#2a3f5f\"},\"error_y\":{\"color\":\"#2a3f5f\"},\"marker\":{\"line\":{\"color\":\"#E5ECF6\",\"width\":0.5},\"pattern\":{\"fillmode\":\"overlay\",\"size\":10,\"solidity\":0.2}},\"type\":\"bar\"}],\"barpolar\":[{\"marker\":{\"line\":{\"color\":\"#E5ECF6\",\"width\":0.5},\"pattern\":{\"fillmode\":\"overlay\",\"size\":10,\"solidity\":0.2}},\"type\":\"barpolar\"}],\"carpet\":[{\"aaxis\":{\"endlinecolor\":\"#2a3f5f\",\"gridcolor\":\"white\",\"linecolor\":\"white\",\"minorgridcolor\":\"white\",\"startlinecolor\":\"#2a3f5f\"},\"baxis\":{\"endlinecolor\":\"#2a3f5f\",\"gridcolor\":\"white\",\"linecolor\":\"white\",\"minorgridcolor\":\"white\",\"startlinecolor\":\"#2a3f5f\"},\"type\":\"carpet\"}],\"choropleth\":[{\"colorbar\":{\"outlinewidth\":0,\"ticks\":\"\"},\"type\":\"choropleth\"}],\"contour\":[{\"colorbar\":{\"outlinewidth\":0,\"ticks\":\"\"},\"colorscale\":[[0.0,\"#0d0887\"],[0.1111111111111111,\"#46039f\"],[0.2222222222222222,\"#7201a8\"],[0.3333333333333333,\"#9c179e\"],[0.4444444444444444,\"#bd3786\"],[0.5555555555555556,\"#d8576b\"],[0.6666666666666666,\"#ed7953\"],[0.7777777777777778,\"#fb9f3a\"],[0.8888888888888888,\"#fdca26\"],[1.0,\"#f0f921\"]],\"type\":\"contour\"}],\"contourcarpet\":[{\"colorbar\":{\"outlinewidth\":0,\"ticks\":\"\"},\"type\":\"contourcarpet\"}],\"heatmap\":[{\"colorbar\":{\"outlinewidth\":0,\"ticks\":\"\"},\"colorscale\":[[0.0,\"#0d0887\"],[0.1111111111111111,\"#46039f\"],[0.2222222222222222,\"#7201a8\"],[0.3333333333333333,\"#9c179e\"],[0.4444444444444444,\"#bd3786\"],[0.5555555555555556,\"#d8576b\"],[0.6666666666666666,\"#ed7953\"],[0.7777777777777778,\"#fb9f3a\"],[0.8888888888888888,\"#fdca26\"],[1.0,\"#f0f921\"]],\"type\":\"heatmap\"}],\"heatmapgl\":[{\"colorbar\":{\"outlinewidth\":0,\"ticks\":\"\"},\"colorscale\":[[0.0,\"#0d0887\"],[0.1111111111111111,\"#46039f\"],[0.2222222222222222,\"#7201a8\"],[0.3333333333333333,\"#9c179e\"],[0.4444444444444444,\"#bd3786\"],[0.5555555555555556,\"#d8576b\"],[0.6666666666666666,\"#ed7953\"],[0.7777777777777778,\"#fb9f3a\"],[0.8888888888888888,\"#fdca26\"],[1.0,\"#f0f921\"]],\"type\":\"heatmapgl\"}],\"histogram\":[{\"marker\":{\"pattern\":{\"fillmode\":\"overlay\",\"size\":10,\"solidity\":0.2}},\"type\":\"histogram\"}],\"histogram2d\":[{\"colorbar\":{\"outlinewidth\":0,\"ticks\":\"\"},\"colorscale\":[[0.0,\"#0d0887\"],[0.1111111111111111,\"#46039f\"],[0.2222222222222222,\"#7201a8\"],[0.3333333333333333,\"#9c179e\"],[0.4444444444444444,\"#bd3786\"],[0.5555555555555556,\"#d8576b\"],[0.6666666666666666,\"#ed7953\"],[0.7777777777777778,\"#fb9f3a\"],[0.8888888888888888,\"#fdca26\"],[1.0,\"#f0f921\"]],\"type\":\"histogram2d\"}],\"histogram2dcontour\":[{\"colorbar\":{\"outlinewidth\":0,\"ticks\":\"\"},\"colorscale\":[[0.0,\"#0d0887\"],[0.1111111111111111,\"#46039f\"],[0.2222222222222222,\"#7201a8\"],[0.3333333333333333,\"#9c179e\"],[0.4444444444444444,\"#bd3786\"],[0.5555555555555556,\"#d8576b\"],[0.6666666666666666,\"#ed7953\"],[0.7777777777777778,\"#fb9f3a\"],[0.8888888888888888,\"#fdca26\"],[1.0,\"#f0f921\"]],\"type\":\"histogram2dcontour\"}],\"mesh3d\":[{\"colorbar\":{\"outlinewidth\":0,\"ticks\":\"\"},\"type\":\"mesh3d\"}],\"parcoords\":[{\"line\":{\"colorbar\":{\"outlinewidth\":0,\"ticks\":\"\"}},\"type\":\"parcoords\"}],\"pie\":[{\"automargin\":true,\"type\":\"pie\"}],\"scatter\":[{\"marker\":{\"colorbar\":{\"outlinewidth\":0,\"ticks\":\"\"}},\"type\":\"scatter\"}],\"scatter3d\":[{\"line\":{\"colorbar\":{\"outlinewidth\":0,\"ticks\":\"\"}},\"marker\":{\"colorbar\":{\"outlinewidth\":0,\"ticks\":\"\"}},\"type\":\"scatter3d\"}],\"scattercarpet\":[{\"marker\":{\"colorbar\":{\"outlinewidth\":0,\"ticks\":\"\"}},\"type\":\"scattercarpet\"}],\"scattergeo\":[{\"marker\":{\"colorbar\":{\"outlinewidth\":0,\"ticks\":\"\"}},\"type\":\"scattergeo\"}],\"scattergl\":[{\"marker\":{\"colorbar\":{\"outlinewidth\":0,\"ticks\":\"\"}},\"type\":\"scattergl\"}],\"scattermapbox\":[{\"marker\":{\"colorbar\":{\"outlinewidth\":0,\"ticks\":\"\"}},\"type\":\"scattermapbox\"}],\"scatterpolar\":[{\"marker\":{\"colorbar\":{\"outlinewidth\":0,\"ticks\":\"\"}},\"type\":\"scatterpolar\"}],\"scatterpolargl\":[{\"marker\":{\"colorbar\":{\"outlinewidth\":0,\"ticks\":\"\"}},\"type\":\"scatterpolargl\"}],\"scatterternary\":[{\"marker\":{\"colorbar\":{\"outlinewidth\":0,\"ticks\":\"\"}},\"type\":\"scatterternary\"}],\"surface\":[{\"colorbar\":{\"outlinewidth\":0,\"ticks\":\"\"},\"colorscale\":[[0.0,\"#0d0887\"],[0.1111111111111111,\"#46039f\"],[0.2222222222222222,\"#7201a8\"],[0.3333333333333333,\"#9c179e\"],[0.4444444444444444,\"#bd3786\"],[0.5555555555555556,\"#d8576b\"],[0.6666666666666666,\"#ed7953\"],[0.7777777777777778,\"#fb9f3a\"],[0.8888888888888888,\"#fdca26\"],[1.0,\"#f0f921\"]],\"type\":\"surface\"}],\"table\":[{\"cells\":{\"fill\":{\"color\":\"#EBF0F8\"},\"line\":{\"color\":\"white\"}},\"header\":{\"fill\":{\"color\":\"#C8D4E3\"},\"line\":{\"color\":\"white\"}},\"type\":\"table\"}]},\"layout\":{\"annotationdefaults\":{\"arrowcolor\":\"#2a3f5f\",\"arrowhead\":0,\"arrowwidth\":1},\"autotypenumbers\":\"strict\",\"coloraxis\":{\"colorbar\":{\"outlinewidth\":0,\"ticks\":\"\"}},\"colorscale\":{\"diverging\":[[0,\"#8e0152\"],[0.1,\"#c51b7d\"],[0.2,\"#de77ae\"],[0.3,\"#f1b6da\"],[0.4,\"#fde0ef\"],[0.5,\"#f7f7f7\"],[0.6,\"#e6f5d0\"],[0.7,\"#b8e186\"],[0.8,\"#7fbc41\"],[0.9,\"#4d9221\"],[1,\"#276419\"]],\"sequential\":[[0.0,\"#0d0887\"],[0.1111111111111111,\"#46039f\"],[0.2222222222222222,\"#7201a8\"],[0.3333333333333333,\"#9c179e\"],[0.4444444444444444,\"#bd3786\"],[0.5555555555555556,\"#d8576b\"],[0.6666666666666666,\"#ed7953\"],[0.7777777777777778,\"#fb9f3a\"],[0.8888888888888888,\"#fdca26\"],[1.0,\"#f0f921\"]],\"sequentialminus\":[[0.0,\"#0d0887\"],[0.1111111111111111,\"#46039f\"],[0.2222222222222222,\"#7201a8\"],[0.3333333333333333,\"#9c179e\"],[0.4444444444444444,\"#bd3786\"],[0.5555555555555556,\"#d8576b\"],[0.6666666666666666,\"#ed7953\"],[0.7777777777777778,\"#fb9f3a\"],[0.8888888888888888,\"#fdca26\"],[1.0,\"#f0f921\"]]},\"colorway\":[\"#636efa\",\"#EF553B\",\"#00cc96\",\"#ab63fa\",\"#FFA15A\",\"#19d3f3\",\"#FF6692\",\"#B6E880\",\"#FF97FF\",\"#FECB52\"],\"font\":{\"color\":\"#2a3f5f\"},\"geo\":{\"bgcolor\":\"white\",\"lakecolor\":\"white\",\"landcolor\":\"#E5ECF6\",\"showlakes\":true,\"showland\":true,\"subunitcolor\":\"white\"},\"hoverlabel\":{\"align\":\"left\"},\"hovermode\":\"closest\",\"mapbox\":{\"style\":\"light\"},\"paper_bgcolor\":\"white\",\"plot_bgcolor\":\"#E5ECF6\",\"polar\":{\"angularaxis\":{\"gridcolor\":\"white\",\"linecolor\":\"white\",\"ticks\":\"\"},\"bgcolor\":\"#E5ECF6\",\"radialaxis\":{\"gridcolor\":\"white\",\"linecolor\":\"white\",\"ticks\":\"\"}},\"scene\":{\"xaxis\":{\"backgroundcolor\":\"#E5ECF6\",\"gridcolor\":\"white\",\"gridwidth\":2,\"linecolor\":\"white\",\"showbackground\":true,\"ticks\":\"\",\"zerolinecolor\":\"white\"},\"yaxis\":{\"backgroundcolor\":\"#E5ECF6\",\"gridcolor\":\"white\",\"gridwidth\":2,\"linecolor\":\"white\",\"showbackground\":true,\"ticks\":\"\",\"zerolinecolor\":\"white\"},\"zaxis\":{\"backgroundcolor\":\"#E5ECF6\",\"gridcolor\":\"white\",\"gridwidth\":2,\"linecolor\":\"white\",\"showbackground\":true,\"ticks\":\"\",\"zerolinecolor\":\"white\"}},\"shapedefaults\":{\"line\":{\"color\":\"#2a3f5f\"}},\"ternary\":{\"aaxis\":{\"gridcolor\":\"white\",\"linecolor\":\"white\",\"ticks\":\"\"},\"baxis\":{\"gridcolor\":\"white\",\"linecolor\":\"white\",\"ticks\":\"\"},\"bgcolor\":\"#E5ECF6\",\"caxis\":{\"gridcolor\":\"white\",\"linecolor\":\"white\",\"ticks\":\"\"}},\"title\":{\"x\":0.05},\"xaxis\":{\"automargin\":true,\"gridcolor\":\"white\",\"linecolor\":\"white\",\"ticks\":\"\",\"title\":{\"standoff\":15},\"zerolinecolor\":\"white\",\"zerolinewidth\":2},\"yaxis\":{\"automargin\":true,\"gridcolor\":\"white\",\"linecolor\":\"white\",\"ticks\":\"\",\"title\":{\"standoff\":15},\"zerolinecolor\":\"white\",\"zerolinewidth\":2}}},\"xaxis\":{\"anchor\":\"y\",\"domain\":[0.0,1.0],\"title\":{\"text\":\"Year\"},\"tickvals\":[1972,1973,1975,1978,1978,1980,1984,1988,1989,1989,1990,1990,1991,1991,1991,1991,1991,1991,1991,1992,1993,1994,1995,1995,1995,1995,1995,1996,1996,1996,1997,1997,1997,1997,1997,1998,1998,1998,1998,1999,1999,1999,1999,1999,1999,1999,1999,1999,2000,2000,2000,2000,2000,2000,2000,2000,2001,2001,2001,2001,2002,2002,2002,2002,2002,2002,2002,2002,2002,2002,2002,2002,2003,2003,2003,2004,2004,2004,2004,2004,2005,2005,2005,2005,2005,2005,2006,2006,2006,2006,2006,2006,2007,2007,2007,2007,2007,2008,2008,2008,2008,2009,2009],\"tickangle\":-90},\"yaxis\":{\"anchor\":\"x\",\"domain\":[0.0,1.0],\"title\":{\"text\":\"count\"}},\"legend\":{\"title\":{\"text\":\"Club\"},\"tracegroupgap\":0},\"margin\":{\"t\":60},\"barmode\":\"relative\",\"height\":700,\"width\":950},                        {\"responsive\": true}                    ).then(function(){\n",
       "                            \n",
       "var gd = document.getElementById('9cfa9d1c-1467-446b-b63b-4be2876c0a77');\n",
       "var x = new MutationObserver(function (mutations, observer) {{\n",
       "        var display = window.getComputedStyle(gd).display;\n",
       "        if (!display || display === 'none') {{\n",
       "            console.log([gd, 'removed!']);\n",
       "            Plotly.purge(gd);\n",
       "            observer.disconnect();\n",
       "        }}\n",
       "}});\n",
       "\n",
       "// Listen for the removal of the full notebook cells\n",
       "var notebookContainer = gd.closest('#notebook-container');\n",
       "if (notebookContainer) {{\n",
       "    x.observe(notebookContainer, {childList: true});\n",
       "}}\n",
       "\n",
       "// Listen for the clearing of the current output cell\n",
       "var outputEl = gd.closest('.output');\n",
       "if (outputEl) {{\n",
       "    x.observe(outputEl, {childList: true});\n",
       "}}\n",
       "\n",
       "                        })                };                });            </script>        </div>"
      ]
     },
     "metadata": {},
     "output_type": "display_data"
    }
   ],
   "source": [
    "fig = px.bar(df_w2, x=\"Year\", y=\"count\", color=\"Club\", width=950, height=700,)\n",
    "fig.update_layout(xaxis = dict(tickvals = d2[\"Year\"]))\n",
    "fig.update_xaxes(tickangle=270)\n",
    "fig.show()"
   ]
  },
  {
   "cell_type": "markdown",
   "id": "83244165-827d-4c79-8c27-996d76cf918a",
   "metadata": {},
   "source": [
    "## Ekvivalent v graph_object\n",
    "* je to teda zvláštní, protože tam přidávám add_trace pro každý jeden klub/groupu"
   ]
  },
  {
   "cell_type": "code",
   "execution_count": 28,
   "id": "942d0c5d-b35e-4b08-a9e0-f35a9cec249b",
   "metadata": {
    "tags": []
   },
   "outputs": [
    {
     "ename": "NameError",
     "evalue": "name 'go' is not defined",
     "output_type": "error",
     "traceback": [
      "\u001b[1;31m---------------------------------------------------------------------------\u001b[0m",
      "\u001b[1;31mNameError\u001b[0m                                 Traceback (most recent call last)",
      "Input \u001b[1;32mIn [28]\u001b[0m, in \u001b[0;36m<cell line: 3>\u001b[1;34m()\u001b[0m\n\u001b[0;32m      1\u001b[0m df_w2 \u001b[38;5;241m=\u001b[39m pd\u001b[38;5;241m.\u001b[39mDataFrame({\u001b[38;5;124m'\u001b[39m\u001b[38;5;124mcount\u001b[39m\u001b[38;5;124m'\u001b[39m : df_w\u001b[38;5;241m.\u001b[39mgroupby( [ \u001b[38;5;124m'\u001b[39m\u001b[38;5;124mYear\u001b[39m\u001b[38;5;124m'\u001b[39m, \u001b[38;5;124m\"\u001b[39m\u001b[38;5;124mClub\u001b[39m\u001b[38;5;124m\"\u001b[39m] )\u001b[38;5;241m.\u001b[39msize()})\u001b[38;5;241m.\u001b[39mreset_index()\n\u001b[1;32m----> 3\u001b[0m fig \u001b[38;5;241m=\u001b[39m \u001b[43mgo\u001b[49m\u001b[38;5;241m.\u001b[39mFigure()\n\u001b[0;32m      5\u001b[0m \u001b[38;5;66;03m### verze která je obarvená podle klubu\u001b[39;00m\n\u001b[0;32m      6\u001b[0m \u001b[38;5;28;01mfor\u001b[39;00m club, group \u001b[38;5;129;01min\u001b[39;00m df_w2\u001b[38;5;241m.\u001b[39mgroupby(\u001b[38;5;124m\"\u001b[39m\u001b[38;5;124mClub\u001b[39m\u001b[38;5;124m\"\u001b[39m):\n",
      "\u001b[1;31mNameError\u001b[0m: name 'go' is not defined"
     ]
    }
   ],
   "source": [
    "df_w2 = pd.DataFrame({'count' : df_w.groupby( [ 'Year', \"Club\"] ).size()}).reset_index()\n",
    "\n",
    "fig = go.Figure()\n",
    "\n",
    "### verze která je obarvená podle klubu\n",
    "for club, group in df_w2.groupby(\"Club\"):\n",
    "    fig.add_trace(go.Bar(x=group[\"Year\"], y=group[\"count\"], name=club))\n",
    "\n",
    "### verze bez barev, jako jediný add_trace\n",
    "#fig.add_trace(go.Bar(x=df_w2[\"Year\"], y=df_w2[\"count\"] )) # name = df_w2[\"Club\"]))\n",
    "\n",
    "\n",
    "## toto byl trik, jak porazit defaultní \"group\" verzi sloupců. nejde to napsat do argumentu do go.Bar() !\n",
    "fig.update_layout(barmode='stack')  \n",
    "fig.update_layout(legend_title_text = \"Klub\", width=950, height=700,)\n",
    "\n",
    "fig.update_layout(xaxis = dict(tickvals = df_w2[\"Year\"]))          # je OK používat pro Ticks d2, když tu pracuju s df_w2? fungují oba\n",
    "fig.update_xaxes(tickangle=270)\n",
    "\n",
    "fig.update_xaxes(title_text=\"Year\")\n",
    "fig.update_yaxes(title_text=\"count\")\n",
    "fig.show()"
   ]
  },
  {
   "cell_type": "markdown",
   "id": "b6859cc7-b8e6-4bed-852a-dc3fa315e7ce",
   "metadata": {},
   "source": [
    "## kombinace s dropdowny - špatně se sčítají data\n",
    "* je to teda zvláštní, protože tam přidávám add_trace pro každý jeden klub/groupu\n",
    "* a pak to dělám ještě per dataset, abych mohl dropdownovat podle toho\n",
    "* docela mi i fungují dropdowny, ale data jsou divná:\n",
    "  - defaultně tam mám samozřejmě součet všeho, W+M+ALL\n",
    "  - a pak All odpovídá ženám, a zbylé dva grafy jsou divné\n",
    " \n",
    "PAK UŽ JEN DALŠÍ ŘEŠENÍ JSOU TY FACCETTES SPLIT"
   ]
  },
  {
   "cell_type": "code",
   "execution_count": null,
   "id": "195d782e-77db-4736-80fa-355d2e8814a4",
   "metadata": {
    "tags": []
   },
   "outputs": [],
   "source": [
    "df_w2 = pd.DataFrame({'count' : df_w.groupby( [ 'Year', \"Club\"] ).size()}).reset_index()\n",
    "display(df_w2.head())\n",
    "for club, group in df_w2.groupby(\"Club\"):\n",
    "    print(club, group)"
   ]
  },
  {
   "cell_type": "code",
   "execution_count": null,
   "id": "60d6648e-960a-4d72-a4d6-5280b9ecd580",
   "metadata": {
    "tags": []
   },
   "outputs": [],
   "source": [
    "df_w2 = pd.DataFrame({'count' : df_w.groupby( [ 'Year', \"Club\"] ).size()}).reset_index()\n",
    "df_m2 = pd.DataFrame({'count' : df_m.groupby( [ 'Year', \"Club\"] ).size()}).reset_index()\n",
    "df_tot = result = pd.concat([df_w, df_m])\n",
    "df_tot2 = pd.DataFrame({'count' : df_tot.groupby( [ 'Year', \"Club\"] ).size()}).reset_index()\n",
    "\n",
    "\n",
    "fig = go.Figure()\n",
    "for club, group in df_w2.groupby(\"Club\"):\n",
    "    fig.add_trace(go.Bar(x=group[\"Year\"], y=group[\"count\"], name=club))\n",
    "    \n",
    "for club, group in df_m2.groupby(\"Club\"):\n",
    "    fig.add_trace(go.Bar(x=group[\"Year\"], y=group[\"count\"], name=club))\n",
    "\n",
    "for club, group in df_tot2.groupby(\"Club\"):\n",
    "    fig.add_trace(go.Bar(x=group[\"Year\"], y=group[\"count\"], name=club))\n",
    "    \n",
    "## toto byl trik, jak porazit defaultní \"group\" verzi sloupců. nejde to napsat do argumentu do go.Bar() !\n",
    "fig.update_layout(barmode='stack')  \n",
    "fig.update_layout(legend_title_text = \"Klub\", width=950, height=700,)\n",
    "\n",
    "fig.update_layout(xaxis = dict(tickvals = df_w2[\"Year\"]))                 # je OK používat pro Ticks d2, když tu pracuju s df_w2? fungují oba\n",
    "fig.update_xaxes(tickangle=270)\n",
    "\n",
    "fig.update_layout(\n",
    "    updatemenus=[\n",
    "        dict(\n",
    "            active=0,\n",
    "            buttons=list([\n",
    "                dict(label=\"WOMEN\",\n",
    "                     method=\"update\",\n",
    "                     args=[{\"visible\": [True, False, False]},\n",
    "                           {\"title\": \"Women Titile\"}]),\n",
    "                dict(label=\"MEN\",\n",
    "                     method=\"update\",\n",
    "                     args=[{\"visible\": [False, True, False]},\n",
    "                           {\"title\": \"Men Title\"}]),\n",
    "                dict(label=\"ALL\",\n",
    "                    method=\"update\",\n",
    "                      args=[{\"visible\": [False, False, True]},\n",
    "                           {\"title\": \"All Title\"}])\n",
    "            ]))])\n",
    "\n",
    "\n",
    "fig.update_xaxes(title_text=\"Year\")\n",
    "fig.update_yaxes(title_text=\"count\")\n",
    "fig.show()"
   ]
  },
  {
   "cell_type": "markdown",
   "id": "90724265-d11a-4736-8a94-7f6f0f663ce4",
   "metadata": {},
   "source": [
    "\n",
    "* Eventuálně nápad druhé řešení, co bude trochu lame, by bylo si úplně totálně předpočítat všechny \"tři\" datasety, kde uř kluby budou po měsících posčítané, ještě bude sloupeček pohlaví, tak abych nemusel dávat ty ad_trace pro každou dvojici, ale jen jednou per pohlaví...? to musí jít nějak, ta data předžvýkat....\n",
    "* eventuálně si číct: chci tam rok, klub, pohlaví. abrvu chci podle klubu. Dropdown podle pohlaví. easy. step by step"
   ]
  },
  {
   "cell_type": "code",
   "execution_count": null,
   "id": "b47fa415-e609-45c8-8345-2e874f9e15e6",
   "metadata": {},
   "outputs": [],
   "source": [
    "data={'Year': ['1990', \"1990\",'1992','1993',\"1993\", \"1993\",'1996'],\n",
    "      'Club': [\"A\",\"A\", \"B\",\"B\", \"B\",\"C\", \"D\"], \n",
    "      \"count\":[3,  2, 3, 4, 5, 1, 4], \n",
    "      \"sex\":  [\"W\", \"M\", \"M\", \"W\", \"M\", \"M\", \"M\"]}\n",
    "test =pd.DataFrame(data)\n",
    "test"
   ]
  },
  {
   "cell_type": "markdown",
   "id": "6d772659-e140-4e57-808d-f6f473f4730b",
   "metadata": {},
   "source": [
    "## vyřeit proč to taky rozbíjí data, na tomto mimin příkladě, a pak i viz výše!!"
   ]
  },
  {
   "cell_type": "code",
   "execution_count": null,
   "id": "bc1683a3-66be-4c07-94d7-f774db3db472",
   "metadata": {
    "jupyter": {
     "source_hidden": true
    },
    "tags": []
   },
   "outputs": [],
   "source": [
    "fig = go.Figure()\n",
    "for club, group in test[test[\"sex\"] == \"W\"].groupby(\"Club\"):\n",
    "    fig.add_trace(go.Bar(x=group[\"Year\"], y=group[\"count\"], name=club))\n",
    "for club, group in test[test[\"sex\"] == \"M\"].groupby(\"Club\"):\n",
    "    fig.add_trace(go.Bar(x=group[\"Year\"], y=group[\"count\"], name=club))\n",
    "for club, group in test.groupby(\"Club\"):\n",
    "    fig.add_trace(go.Bar(x=group[\"Year\"], y=group[\"count\"], name=club))\n",
    "    \n",
    "fig.update_layout(barmode='stack')  \n",
    "\n",
    "fig.update_layout(\n",
    "    updatemenus=[\n",
    "        dict(\n",
    "            active=0,\n",
    "            buttons=list([\n",
    "                dict(label=\"WOMEN\",\n",
    "                     method=\"update\",\n",
    "                     args=[{\"visible\": [True, False, False]},\n",
    "                           {\"title\": \"Women Titile\"}]),\n",
    "                dict(label=\"MEN\",\n",
    "                     method=\"update\",\n",
    "                     args=[{\"visible\": [False, True, False]},\n",
    "                           {\"title\": \"Men Title\"}]),\n",
    "                dict(label=\"ALL\",\n",
    "                    method=\"update\",\n",
    "                      args=[{\"visible\": [False, False, True]},\n",
    "                           {\"title\": \"All Title\"}])\n",
    "            ]))])\n",
    "\n",
    "fig.show()"
   ]
  },
  {
   "cell_type": "code",
   "execution_count": null,
   "id": "b9289174-20af-4dfc-b778-2be028790b4f",
   "metadata": {},
   "outputs": [],
   "source": []
  },
  {
   "cell_type": "markdown",
   "id": "ba26b9b8-dabd-4b8f-8be7-c02dbc145aa4",
   "metadata": {},
   "source": [
    "## Best I can Do - problém s barvami, oproti px.bar() jdou blbě nastavit"
   ]
  },
  {
   "cell_type": "code",
   "execution_count": null,
   "id": "35eb28d4-027b-42ad-bbb0-72d76c8d4b90",
   "metadata": {},
   "outputs": [],
   "source": [
    "# barvičky: https://www.geeksforgeeks.org/how-to-change-a-color-bar-in-plotly-in-python/\n",
    "\n",
    "df_w2 = pd.DataFrame({'count' : df_w.groupby( [ 'Year', \"Club\"] ).size()}).reset_index()\n",
    "df_m2 = pd.DataFrame({'count' : df_m.groupby( [ 'Year', \"Club\"] ).size()}).reset_index()\n",
    "df_tot2 = pd.DataFrame({'count' : df_tot.groupby( [ 'Year', \"Club\"] ).size()}).reset_index()\n",
    "\n",
    "###\n",
    "# for contestant, group in df.groupby(\"Contestant\"):\n",
    "#     fig.add_trace(go.Bar(x=group[\"Fruit\"], y=group[\"Number Eaten\"], name=contestant\n",
    "####                         \n",
    "\n",
    "\n",
    "\n",
    "fig = go.Figure()\n",
    "\n",
    "fig.add_trace(go.Bar(x = df_w2[\"Year\"],\n",
    "                     y = list(df_w2[\"count\"]),  # používat určitě formát df[\"col_name\"], nikoli df.col_name\n",
    "                     #legend = df_w2[\"Club\"] ,  # to co mi právě nejde...\n",
    "                     marker = dict(\n",
    "                                 color=np.random.randn(500),\n",
    "                                 colorscale='hot',\n",
    "                                 showscale=True),\n",
    "                     \n",
    "                     name=\"Women\",\n",
    "                     visible = True))\n",
    "\n",
    "fig.add_trace(go.Bar(x = df_m2.Year,\n",
    "                     y = list(df_m2[\"count\"]),\n",
    "                     name=\"Men\",\n",
    "                     visible=False))\n",
    "\n",
    "fig.add_trace(go.Bar(x = df_tot2.Year,\n",
    "                     y = list(df_tot2[\"count\"]),\n",
    "                     name=\"All\",\n",
    "                     visible=False))\n",
    "\n",
    "fig.update_layout(\n",
    "    updatemenus=[\n",
    "        dict(\n",
    "            active=0,\n",
    "            buttons=list([\n",
    "                dict(label=\"WOMEN\",\n",
    "                     method=\"update\",\n",
    "                     args=[{\"visible\": [True, False, False]},\n",
    "                           {\"title\": \"Women Titile\"}]),\n",
    "                dict(label=\"MEN\",\n",
    "                     method=\"update\",\n",
    "                     args=[{\"visible\": [False, True, False]},\n",
    "                           {\"title\": \"Men Title\"}]),\n",
    "                dict(label=\"ALL\",\n",
    "                    method=\"update\",\n",
    "                      args=[{\"visible\": [False, False, True]},\n",
    "                           {\"title\": \"All Title\"}])\n",
    "            ]))])\n",
    "\n",
    "fig.update_layout(title_text=\"Test Dropíků\") \n",
    "fig.update_layout(xaxis = dict(tickvals = df_tot2[\"Year\"]))\n",
    "fig.update_xaxes(tickangle=270)\n",
    "\n",
    "fig.show()"
   ]
  },
  {
   "cell_type": "code",
   "execution_count": null,
   "id": "497c5a1f-4a1d-4fa2-a102-c21a55a08839",
   "metadata": {},
   "outputs": [],
   "source": []
  },
  {
   "cell_type": "markdown",
   "id": "fafbeedb-8725-4174-bbc0-86d6208335b0",
   "metadata": {},
   "source": [
    "## Pokus s dual-facette grafem (pohlaví)\n",
    "https://plotly.com/python/legend/"
   ]
  },
  {
   "cell_type": "code",
   "execution_count": null,
   "id": "00dae4c1-2616-454f-8340-14921c4aafe7",
   "metadata": {},
   "outputs": [],
   "source": []
  },
  {
   "cell_type": "code",
   "execution_count": null,
   "id": "8dce3e82-0236-405f-bc02-f82557f1db85",
   "metadata": {},
   "outputs": [],
   "source": []
  },
  {
   "cell_type": "markdown",
   "id": "2e9e6c1a-32c2-4b80-b8af-a20d4783f2fb",
   "metadata": {
    "tags": []
   },
   "source": [
    "## II.2 ZÁPASY\n"
   ]
  },
  {
   "cell_type": "code",
   "execution_count": null,
   "id": "e34f0ae3-8eae-4f72-b912-75e0bd96f1b9",
   "metadata": {},
   "outputs": [],
   "source": [
    "def merge_all_matches(list_of_events, sex):\n",
    "    df_tot = pd.DataFrame(columns = [\"Date\", \"Event\", \"Name\", \"Uni\", \"Sex\", \"Fight_lvl\",\n",
    "                                     \"Enemy\", \"Enemy_uni\", \"Result\", \"Scored\", \"Received\"])\n",
    "    if sex == \"M\":\n",
    "        s = \"men\"\n",
    "    else:\n",
    "        s = \"women\"\n",
    "    for event in list_of_events:\n",
    "        e = pd.ExcelFile(f\"C:/Users/jzelenka/Documents/python_j/fencing/data/{s}/\" + event)\n",
    "        df0 = pd.read_excel(e, 'pools')\n",
    "        df1 = pd.read_excel(e, 'eliminations')\n",
    "        \n",
    "        print(f\"Event {event} has {len(df0)} pool fights, {len(df1)} elimination fights and {len(df0['Name'].unique())} unique Names\")\n",
    "\n",
    "        df_tot = df_tot.append(pd.concat([df0, df1]))\n",
    "        print(f\"now total is: {len(df_tot)}\")\n",
    "        printbold(\"####################################\")\n",
    "        \n",
    "    df_tot.reset_index(inplace=True, drop = True)\n",
    "    df_tot = df_tot.rename(columns={\"Uni\":'Club', \"Enemy_uni\": \"Enemy_Club\" })\n",
    "    \n",
    "    return df_tot"
   ]
  },
  {
   "cell_type": "code",
   "execution_count": null,
   "id": "5290982a-fe29-48a9-bb9b-92d604cccbeb",
   "metadata": {
    "tags": []
   },
   "outputs": [],
   "source": [
    "df_m_matches = merge_all_matches(men, \"M\")\n",
    "print(len(df_m_matches))\n",
    "display(df_m_matches.head(2))\n",
    "display(df_m_matches.tail(2))"
   ]
  },
  {
   "cell_type": "code",
   "execution_count": null,
   "id": "e3cbfae7-6dbd-4140-ab15-afcf0fb7daf8",
   "metadata": {},
   "outputs": [],
   "source": [
    "df_m_matches.describe()"
   ]
  },
  {
   "cell_type": "code",
   "execution_count": null,
   "id": "af740528-b030-4620-b9cf-1138a33abfca",
   "metadata": {
    "tags": []
   },
   "outputs": [],
   "source": [
    "df_m_matches[\"Name\"] = df_m_matches[\"Name\"].replace(to_replace_man)     \n",
    "df_m_matches[\"Club\"] = df_m_matches[\"Club\"].replace(to_replace_club)  \n",
    "df_m_matches[\"Enemy_Club\"] = df_m_matches[\"Enemy_Club\"].replace(to_replace_club)  \n",
    "df_m_matches['Name'].str.strip()"
   ]
  },
  {
   "cell_type": "code",
   "execution_count": null,
   "id": "1a671aef-0fb8-4a70-8194-bec396d04ef0",
   "metadata": {
    "tags": []
   },
   "outputs": [],
   "source": [
    "df_m_matches.describe()"
   ]
  },
  {
   "cell_type": "code",
   "execution_count": null,
   "id": "66e7c5f9-03ee-41d8-90b2-b5c2b2a95bff",
   "metadata": {},
   "outputs": [],
   "source": [
    "# ANDERLE petr,\n",
    "# CHOUN Karim\n",
    "# D'AMICO Kristian\n",
    "# DOŠEK Jirí\n",
    "# HORBACHUCK Yuiriy\n",
    "# JAVAKHISHVILI Georgii '\n",
    "# KALUS Jonáš '\n",
    "# LOKAJ Václav ',\n",
    "# LUCOVIC Matej\n",
    "# MAŠATA Vojtech  10/19\n",
    "# POKORNÝ Richard '\n",
    "# PROCHÁZKA Ondrej\n",
    "# SALZER Jirí\n",
    "# SALZER Matej\n",
    "# SURMA Štepán\n",
    "# VAŠÍCEK Martin"
   ]
  },
  {
   "cell_type": "code",
   "execution_count": null,
   "id": "6e04e5aa-c557-42ec-ae50-fe143dea39ea",
   "metadata": {
    "tags": []
   },
   "outputs": [],
   "source": [
    "sorted(df_m_matches[\"Name\"].unique())"
   ]
  },
  {
   "cell_type": "markdown",
   "id": "8ab795c2-ee7e-4729-a940-4d63f19ae266",
   "metadata": {},
   "source": [
    "## až opravím jména (hromadně, nebo už v excelech?)\n",
    "## tak můžu přikročit ke kontrole V vs D, a k součtům Dal - dostal atd\n",
    "# kontrola jestli někdo nemá V a víc zásahů než bodů, a naopak."
   ]
  },
  {
   "cell_type": "code",
   "execution_count": null,
   "id": "0986d0c9-b018-4749-aaed-66f40e21ec01",
   "metadata": {},
   "outputs": [],
   "source": []
  }
 ],
 "metadata": {
  "kernelspec": {
   "display_name": "Python 3 (ipykernel)",
   "language": "python",
   "name": "python3"
  },
  "language_info": {
   "codemirror_mode": {
    "name": "ipython",
    "version": 3
   },
   "file_extension": ".py",
   "mimetype": "text/x-python",
   "name": "python",
   "nbconvert_exporter": "python",
   "pygments_lexer": "ipython3",
   "version": "3.9.12"
  }
 },
 "nbformat": 4,
 "nbformat_minor": 5
}
