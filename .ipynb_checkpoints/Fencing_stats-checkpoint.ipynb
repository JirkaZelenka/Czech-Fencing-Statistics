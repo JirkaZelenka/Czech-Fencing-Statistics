{
 "cells": [
  {
   "cell_type": "markdown",
   "id": "986af948-a877-4360-a52e-13ec29496562",
   "metadata": {},
   "source": [
    "## Fencing Statistics - ČR and World\n",
    "#### 7.11.2022 After a competition in Písek (5.-6.11.2022)\n",
    "#### 8.12. still manually preparing Men data...\n",
    "#### 21.12. creating local repo and GITHub https://github.com/JirkaZelenka/Czech-Fencing-Statistics"
   ]
  },
  {
   "cell_type": "markdown",
   "id": "edf3deb9-7261-4b3c-ad59-0854080788d4",
   "metadata": {},
   "source": [
    "* https://fie.org/athletes/                                      = Individual's Profile, D.o.B.\n",
    "* https://fie.org/competitions                                   = Event profile\n",
    "\n",
    "* https://www.czechfencing.cz/portal/teams/detail/14             = Club's profile\n",
    "* https://www.czechfencing.cz/portal/rankings/list               = Rankings + filters \n",
    "* https://www.czechfencing.cz/portal/members/detail/1175         = Individual's Profile\n",
    "* https://www.czechfencing.cz/portal/events/detail?eventId=3095  = Event profile with a File included\n",
    "* https://www.czechfencing.cz/user_files/propositions/63541c9150a35/Lazensky-pohar-2022.pdf = File with details\n",
    "\n",
    "* http://sermliga.eu/  = univerzitní liga, 3. kola, 2. teď v praze"
   ]
  },
  {
   "cell_type": "markdown",
   "id": "bc3b7b05-ead5-4e91-ba16-7912da13a23b",
   "metadata": {
    "jp-MarkdownHeadingCollapsed": true,
    "tags": []
   },
   "source": [
    "### Ideas:\n",
    "\n",
    "##### Hlavní metriky:\n",
    "* Poměr výher/proher\n",
    "* Index = zásahy dal minus dostal\n",
    "* Průměrné umístění (vždy přepočítat na percentily kvůli různým počtům účastníků?)\n",
    "* Počet medailí celkem \n",
    "\n",
    "#### 4 úrovně: Kluby, Závodníci obecně, Zápasy (vzájemné skore dvojic) a pak predikce (sázky, regrese,simulace ...)\n",
    "\n",
    "#### Kluby:\n",
    "* ~~celkový počet členů~~, průměrné nasazení na zápas\n",
    "* ~~věkové statistiky~~ - V1_Year-Club.html\n",
    "* žebříčky po turnajích, po medailích, podle typu turnaje (UŠL/ČR/Svět), podle zbraně (Jen kord)\n",
    "* statistiky států (měst) a klubů\n",
    "* průměrné umístění za klub v daném turnaji, který klub má kolik medailí..\n",
    "* pro každého človeka/klub mít průměrný počet zásahů na zápas, přičemž oddělovat poolové a eliminační (15b)\n",
    "* PŘIDAT KROM KLUBU JEŠTĚ MĚSTO, odkud klub pochází?\n",
    "\n",
    "#### Závodníci obecně:\n",
    "* ~~věkové statistiky~~ V1_Year-Club.html\n",
    "* průměrný \"aktivní\" věk výherců, ale i ten reálný\n",
    "* věk - vyhrává stáří a xp vs mládí a energie?\n",
    "* leváci vs praváci. jejich zastoupení u obou pohlaví, u klubů atd.\n",
    "* muži vs ženy. věk ,skore, zbraně, ruka... histogramy\n",
    "* pro každého človeka/klub mít průměrný počet zásahů na zápas, přičemž oddělovat poolové a eliminační (15b)\n",
    "* Znamení zvěrokruhu xD\n",
    "\n",
    "#### Závoddníci- profily + vzájemné info (když se vyberou dva lidi), společné zápasy\n",
    "* po zvolení člověka vidím jeho medailonek jako na webu (věk, klub, ??ruka??)\n",
    "* ale taky účast na všech turnajích, co si ještě můřu rozfiltrovat podle typu soutěže.\n",
    "* kalendář, kdy byl aktivní.\n",
    "* nejlepší umístění, průměrné umístění (zas podle typu soutěže)\n",
    "* počet odehraných zápasů, TS, TR ...\n",
    "* největí nemesis, nejlepší terč?\n",
    "* co by koho osobně ještě mohlo zajímat???\n",
    "#### \n",
    "* vzájemné soutěže, kde se potkali, i když spolu třeba nebojovali\n",
    "* vzájemné souboje, historie duelů pro danou dvojici (nebo klub), skore a počty výher pro každou dvojici. = vybrat si libovolnou dovjici lidí a ukázat celou jejich soubojovu historii, jednak přímé boje, ale i to na kterých turnajích se potkali a jak dopadli.\n",
    "* pořadí, ale i eliminace, kolikrát vypadnutí nazčátku atd., kolikrát ve finále.\n",
    "* počet zápasů. zlepšování se v čase. Sankey diagramy umístění (v rámci klubu?)\n",
    "* overall matice, každý s každým, aby se vidělo, kdo se s kým už potkal ve skupině nebo v eliminaci, ajak to dopadlo. V případě že už vícekrát,tak vytvořit jejich vzájemný skore, podle počtu výher? - příklad A v řádku porazí B ve sloupci ve 2 bojích ze 3, tak dostane skore +2? nebo prostě zelený čtvereček. naopak červený. nebo žlutý na remízu nebo šedivý pokud nic)\n",
    "\n",
    "#### Predikce (bonusová část)\n",
    "* -> Předpovědět když se potká někdo z SC a někdo z VSK, jak to pravděpodobně dopadne\n",
    "* srovnávačka, jak moc první kolo předpoví i finální výsledek\n",
    "* nějaká regrese, jak se klub a věk podílí na pořadí, resp korelace věku a pořadí. asi bude kvadratický vztah?\n",
    "* regrese - jak se index podepíše na postupu, resp na pozici. protože některé s -16 prošli a čestmír s -6 neprošel\n",
    "* procentuální šance na výhru. Pak by se dalo sázet :O Odhadnout, že Vávra vyhrává 90 % zápasů a nejhůř dává 4 zásahy. Nebo že například Vávra vždy porazil kohokoliv z VUT a Olomouce. \n",
    "* Pokémon systém xD udělat modelové souboje\n",
    "* možnost nasimulovat celý zápas podle historických dat, znovu vytvořit pooly i žebříček\n",
    "* možnost vidět jak by dopadl tehdejší turnaj, kdyby se odehrál dnes -> tj záleží na pořadí a historii zápasů.\n",
    "* v případě simulace celého zápasu, vidět jak by se zpřesNoval kyž mu dodám postupně třeba poolová data."
   ]
  },
  {
   "cell_type": "markdown",
   "id": "d512778e-b293-4714-ba0f-2c0b29bc58ad",
   "metadata": {
    "jp-MarkdownHeadingCollapsed": true,
    "tags": []
   },
   "source": [
    "### Data format:\n",
    "* **Tři tabulky**\n",
    "* 1) **Závodníci** - ID / Jméno / Klub (potenciálně víc)  / Stát / Pohlaví / D.narození / Ruka / Zbraň / Skore v žebříčku k poslednímu update \n",
    "* // dopočítaný počet všech turnajů, počet poolových zápasů a počet eliminačních zápasů, a jejich koeficienty Výher. / Počet vítězství? nebo to až později...\n",
    "\n",
    "* 2) **Eventy** - ID / Datum / Event / Město / Pohlaví / Počet účastníků / Počet účastníků obou pohlaví\n",
    "\n",
    "* 3) **Výsledky Eventů** - ID / ID Event / ID závodníka / Rank ČR před / Rank po Poolu / Status po Poolu (Adv./Elim.)/ Rank Celkově \n",
    "\n",
    "* 4) **Zápasy** - ID / ID Eventu / ID závodníka 1 / ID závodníka 2 / Fight Lvl (Pool/Eliminace_32) / Výsledek (V/D) / Scored / Received \n",
    "\n",
    "#### Zatím:\n",
    "1) **1_zavodnici.xlsx**\n",
    "2) **2_ranky.xlsx** = **Výsledky Eventů**\n",
    "3) **Zápasy** "
   ]
  },
  {
   "cell_type": "markdown",
   "id": "6e846ab0-8b54-49dc-a6a2-9a38751ad3c2",
   "metadata": {
    "tags": []
   },
   "source": [
    "### Notes\n",
    "* https://www.czechfencing.cz/portal/rankings/list - po Exportu vyjede textak, kde sice nejsou body za jendotlivé soutěže, ale je tam zas celé datum narození !\n",
    "\n",
    "* v žebříčcích se dá sehnat 600 bodů za jediný event, i když standardní český turnaj je třeba za 80\n",
    "\n",
    "- ze závodu 09 - MCR USK - tak jsou tam i týmy. hromada dalších tabulek,ale to zatím neřeším beru základ.\n",
    "\n",
    "- zajímavé formátování outputu:\n",
    "| Default | Left-aligned | Center-aligned | Right-aligned |\n",
    "|---------|:-------------|:--------------:|--------------:|\n",
    "| Default | Left | Center | Right |\n",
    "\n",
    "~~--Index je vždycky rozdíl dal-dostal = TS-TR; TS = touche scored = ZD (zásahů dal); TR = touches received ~~--\n",
    "\n",
    "~~-- v posledním turnaji v Písku, všem (mužům) posunuli den narození o den dřív :D včetně mě, Rubeše a všech co jsem si kontrolov.~~-\n",
    "\n",
    "~~Rozbitá jména v písku - ADAM Sykora je Sýkora Adam Herbert~~\n",
    "\n",
    "~~* zrovna VSK Humanita je nějaká divná, protože ve výsledcích turnaje se jmenuje **HF PRAHA**, teď jsem akorát našel **HUMANITA PHA** a taky **VSK HUMANITA**, potom ještě **VSKHPZ** přes Aničku~~\n",
    "\n"
   ]
  },
  {
   "cell_type": "code",
   "execution_count": 2,
   "id": "2ec48ec5-258f-4d17-addf-d8bf9f9b02a5",
   "metadata": {},
   "outputs": [],
   "source": [
    "import pandas as pd\n",
    "import numpy as np\n",
    "from matplotlib import pyplot as plt\n",
    "from matplotlib.pyplot import figure\n",
    "import plotly.express as px\n",
    "import plotly.io as pio\n"
   ]
  },
  {
   "cell_type": "code",
   "execution_count": 4,
   "id": "c8ce20fb-a43c-4ab4-b05a-9ea7060c4efb",
   "metadata": {},
   "outputs": [],
   "source": [
    "def printbold(s):\n",
    "    print(\"\\033[1m\" + s + \"\\033[0m\")"
   ]
  },
  {
   "cell_type": "markdown",
   "id": "8fba38c4-2676-46a3-932d-138401fece23",
   "metadata": {},
   "source": [
    "# I. KLUBY A ZÁVODNÍCI \n",
    "### a zatím nepoužitý výsledek po Poolovém kole"
   ]
  },
  {
   "cell_type": "markdown",
   "id": "ffb101f7-87cc-4b78-98f7-169a706efd40",
   "metadata": {},
   "source": [
    "## I.1 - PŘÍPRAVA A ČIŠTĚNÍ DAT"
   ]
  },
  {
   "cell_type": "code",
   "execution_count": 92,
   "id": "6b03185b-e3d8-4c44-904f-127ffad4c96e",
   "metadata": {},
   "outputs": [],
   "source": [
    "men = [\"M_2021_11_Pisek.xlsx\", \"M_2021_12_Memorial.xlsx\", \"M_2022_03_Dukla_Olomouc.xlsx\", \"M_2022_04_Jested.xlsx\",\n",
    "      \"M_2022_05_MCR_USK.xlsx\", \"M_2022_10_Lazensky_pohar.xlsx\", \"M_2022_11_Pisek.xlsx\", \n",
    "      \"M_2022_12_Memorial.xlsx\"]\n",
    "\n",
    "#women = [\"W_2022_04_Dukla_Olomouc.xlsx\", \"W_2022_05_Teplice.xlsx\",\n",
    "#         \"W_2022_07_MCR_USK.xlsx\", \"W_2022_12_Lazensky_pohar.xlsx\", \"W_2022_13_Pisek.xlsx\" ]"
   ]
  },
  {
   "cell_type": "markdown",
   "id": "a388e355-3024-4711-bf3c-eba8d7732a6a",
   "metadata": {
    "tags": []
   },
   "source": [
    "## Transformace:\n",
    "* Excel - velká manuální část - stáhnutí PDF tabulek do excelu, přepis Ranků na integer (jsou tam T), namnožení sloupečků s Datumem, Eventem, Pohlavím, sortování první tabulky podle příjmení, Kontrola useknutých jmen,\n",
    "* a hlavně: Vytvoření Poolových tabulek a záznamů z eliminace\n",
    "* Kontrola Birthdate oproti exportu z webu ve formě CSV, a oproti ostatním záznamům z minulých turnajů\n",
    "* chybí mi \"ruka\"\n",
    "* Challenge: Najít ženy, co změnily příjmení a propojit staré a nové záznamy, viz A.Š.->A.P.\n",
    "* Challenge: najít lidi co možná změnili klub, podle věku"
   ]
  },
  {
   "cell_type": "code",
   "execution_count": 22,
   "id": "15b26a52-74fa-4472-ba4f-ca9d8cd5c4a8",
   "metadata": {
    "tags": []
   },
   "outputs": [],
   "source": [
    "def merge_all(list_of_events, sex):\n",
    "    df_tot = pd.DataFrame(columns = ['Name', 'Club', 'Country', 'Sex', 'Birthdate',\n",
    "                                 \"Date\", \"Event\", \"Rank\", \"Init_rank\", \"First_rank\", \"Final_rank\",\n",
    "                                 \"V\",  \"V/M\",  \"TS\", \"TR\", \"Ind\", \"Notes\"])\n",
    "    if sex == \"M\":\n",
    "        s = \"men\"\n",
    "    else:\n",
    "        s = \"women\"\n",
    "    for event in list_of_events:\n",
    "        e = pd.ExcelFile(f\"C:/Users/jzelenka/Documents/python_j/fencing/data/{s}/\" + event)\n",
    "        df0 = pd.read_excel(e, 'initiation')\n",
    "        df1 = pd.read_excel(e, 'first_round')\n",
    "        df2 = pd.read_excel(e, 'total_rank')\n",
    "        \n",
    "        if len(df0) == len(df1) == len(df2) and sorted(df0['Name'].unique()) == sorted(df1['Name'].unique()) == sorted(df2['Name'].unique()):\n",
    "            print(f\"Event {event} has {len(df0)} people per each list, {len(df0['Name'].unique())} unique Names\")\n",
    "        else:\n",
    "            printbold(\"There is an inconsistency in the length of the lists !!!!!!!!\")\n",
    "        \n",
    "        df3 = pd.merge(df0, df1, on = ['Name',\"Club\", \"Country\"])\n",
    "        df4 = pd.merge(df3, df2, on = ['Name',\"Club\", \"Country\"])\n",
    "                                                                                                            \n",
    "        if len(df0) == len(df4) and len(df0['Name'].unique()) == len(df4['Name'].unique()):                                               \n",
    "            print(f\"Correct after merging\")\n",
    "        else:\n",
    "            printbold(\"Something is wrong, during merging or before !!!!!!!!!!!!!!!!!!!!\")\n",
    "        \n",
    "        df_tot=df_tot.append(df4)\n",
    "        print(f\"new length of total = {len(df_tot)}\")\n",
    "        printbold(\"####################################\")\n",
    "        \n",
    "    df_tot = df_tot[[\"Name\", \"Club\", \"Country\",\"Birthdate_x\", \"Date_x\", \"Event_x\", \"Sex_x\", \"Rank\", \"First_rank\", \"Final_rank\", \"Notes\"]]\n",
    "    df_tot = df_tot.rename(columns={\"Birthdate_x\":'Birthdate', \"Date_x\": \"Date\", \"Event_x\": \"Event\", \"Sex_x\": \"Sex\" })\n",
    "    df_tot.reset_index(inplace=True, drop = True)\n",
    "    \n",
    "    return df_tot"
   ]
  },
  {
   "cell_type": "code",
   "execution_count": 23,
   "id": "e8d791af-9282-4286-8274-3222b9b3a41a",
   "metadata": {
    "collapsed": true,
    "jupyter": {
     "outputs_hidden": true
    },
    "tags": []
   },
   "outputs": [
    {
     "name": "stdout",
     "output_type": "stream",
     "text": [
      "Event M_2021_12_Memorial.xlsx has 80 people per each list, 80 unique Names\n",
      "Correct after merging\n",
      "new length of total = 80\n",
      "\u001b[1m####################################\u001b[0m\n",
      "Event M_2022_03_Dukla_Olomouc.xlsx has 61 people per each list, 61 unique Names\n"
     ]
    },
    {
     "name": "stderr",
     "output_type": "stream",
     "text": [
      "C:\\Users\\jzelenka\\AppData\\Local\\Temp\\ipykernel_20408\\1178287989.py:28: FutureWarning: The frame.append method is deprecated and will be removed from pandas in a future version. Use pandas.concat instead.\n",
      "  df_tot=df_tot.append(df4)\n",
      "C:\\Users\\jzelenka\\AppData\\Local\\Temp\\ipykernel_20408\\1178287989.py:28: FutureWarning: The frame.append method is deprecated and will be removed from pandas in a future version. Use pandas.concat instead.\n",
      "  df_tot=df_tot.append(df4)\n"
     ]
    },
    {
     "name": "stdout",
     "output_type": "stream",
     "text": [
      "Correct after merging\n",
      "new length of total = 141\n",
      "\u001b[1m####################################\u001b[0m\n",
      "Event M_2022_04_Jested.xlsx has 73 people per each list, 73 unique Names\n",
      "Correct after merging\n",
      "new length of total = 214\n",
      "\u001b[1m####################################\u001b[0m\n"
     ]
    },
    {
     "name": "stderr",
     "output_type": "stream",
     "text": [
      "C:\\Users\\jzelenka\\AppData\\Local\\Temp\\ipykernel_20408\\1178287989.py:28: FutureWarning: The frame.append method is deprecated and will be removed from pandas in a future version. Use pandas.concat instead.\n",
      "  df_tot=df_tot.append(df4)\n",
      "C:\\Users\\jzelenka\\AppData\\Local\\Temp\\ipykernel_20408\\1178287989.py:28: FutureWarning: The frame.append method is deprecated and will be removed from pandas in a future version. Use pandas.concat instead.\n",
      "  df_tot=df_tot.append(df4)\n"
     ]
    },
    {
     "name": "stdout",
     "output_type": "stream",
     "text": [
      "Event M_2022_05_MCR_USK.xlsx has 75 people per each list, 75 unique Names\n",
      "Correct after merging\n",
      "new length of total = 289\n",
      "\u001b[1m####################################\u001b[0m\n",
      "Event M_2022_10_Lazensky_pohar.xlsx has 82 people per each list, 82 unique Names\n",
      "Correct after merging\n",
      "new length of total = 371\n",
      "\u001b[1m####################################\u001b[0m\n"
     ]
    },
    {
     "name": "stderr",
     "output_type": "stream",
     "text": [
      "C:\\Users\\jzelenka\\AppData\\Local\\Temp\\ipykernel_20408\\1178287989.py:28: FutureWarning: The frame.append method is deprecated and will be removed from pandas in a future version. Use pandas.concat instead.\n",
      "  df_tot=df_tot.append(df4)\n",
      "C:\\Users\\jzelenka\\AppData\\Local\\Temp\\ipykernel_20408\\1178287989.py:28: FutureWarning: The frame.append method is deprecated and will be removed from pandas in a future version. Use pandas.concat instead.\n",
      "  df_tot=df_tot.append(df4)\n"
     ]
    },
    {
     "name": "stdout",
     "output_type": "stream",
     "text": [
      "Event M_2022_11_Pisek.xlsx has 76 people per each list, 76 unique Names\n",
      "Correct after merging\n",
      "new length of total = 447\n",
      "\u001b[1m####################################\u001b[0m\n",
      "Event M_2022_12_Memorial.xlsx has 98 people per each list, 98 unique Names\n",
      "Correct after merging\n",
      "new length of total = 545\n",
      "\u001b[1m####################################\u001b[0m\n",
      "545\n",
      "                Name      Club Country  Birthdate       Date     Event Sex  \\\n",
      "0  ADDO DJAN Theodor    TJSPDI     CZE 2006-11-06 2021-12-18  Memorial   M   \n",
      "1       ANDERLE Petr  ČESKŠKRZ     CZE 1977-07-07 2021-12-18  Memorial   M   \n",
      "\n",
      "    Rank First_rank Final_rank     Notes  \n",
      "0  999.0         56         56  Advanced  \n",
      "1   24.0         45         16  Advanced  \n",
      "             Name      Club Country  Birthdate       Date     Event Sex Rank  \\\n",
      "543  WALLER Jonáš  SC PRAHA     CZE 2008-10-10 2022-12-17  Memorial   M   25   \n",
      "544  ZELENKA Jiří  HF PRAHA     CZE 1993-06-04 2022-12-17  Memorial   M  131   \n",
      "\n",
      "    First_rank Final_rank       Notes  \n",
      "543         35         29    Advanced  \n",
      "544         95         95  Eliminated  \n"
     ]
    },
    {
     "name": "stderr",
     "output_type": "stream",
     "text": [
      "C:\\Users\\jzelenka\\AppData\\Local\\Temp\\ipykernel_20408\\1178287989.py:28: FutureWarning: The frame.append method is deprecated and will be removed from pandas in a future version. Use pandas.concat instead.\n",
      "  df_tot=df_tot.append(df4)\n"
     ]
    }
   ],
   "source": [
    "df_m = merge_all(men, \"M\")\n",
    "print(len(df_m))\n",
    "print(df_m.head(2))\n",
    "print(df_m.tail(2))"
   ]
  },
  {
   "cell_type": "code",
   "execution_count": null,
   "id": "82b10cf4-e20b-499f-9317-fdae074a1432",
   "metadata": {
    "tags": []
   },
   "outputs": [],
   "source": [
    "df_m.tail()"
   ]
  },
  {
   "cell_type": "code",
   "execution_count": null,
   "id": "3a37a0f5-d648-432a-9699-abd6fd6b5c9d",
   "metadata": {
    "tags": []
   },
   "outputs": [],
   "source": [
    "display(df_m.describe())\n",
    "#display(df_m.describe(datetime_is_numeric=True))"
   ]
  },
  {
   "cell_type": "code",
   "execution_count": null,
   "id": "e47ce9a7-bb5c-4aac-b7cc-9da45a3842be",
   "metadata": {
    "tags": []
   },
   "outputs": [],
   "source": [
    "for col in df_m.columns:\n",
    "    printbold(f\"# {col}\")\n",
    "    display(df_m[col].value_counts())\n",
    "    printbold(\"######################################\")"
   ]
  },
  {
   "cell_type": "code",
   "execution_count": null,
   "id": "a2ab4528-4c17-44ee-86e1-9ec66e67f8f7",
   "metadata": {
    "tags": []
   },
   "outputs": [],
   "source": [
    "df_m[df_m[\"Notes\"]==\"Withdrew\"]"
   ]
  },
  {
   "cell_type": "markdown",
   "id": "085f3469-cc1c-4fe4-ae2d-eda33fd7c402",
   "metadata": {
    "jupyter": {
     "outputs_hidden": true
    },
    "tags": []
   },
   "source": [
    "## Duplicity ve jménech\n",
    "#### Export vs. Soutěže (sjednoceno):\n",
    "#### 'SVOBODA Tomáš Kristián' = SVOBODA Tomáš_st. \n",
    "#### SVOBODA Tomáš = 'SVOBODA Tomáš_ml.',\n"
   ]
  },
  {
   "cell_type": "code",
   "execution_count": 11,
   "id": "5cd959ae-35a6-49f8-baee-36a4c44ae9b8",
   "metadata": {
    "tags": []
   },
   "outputs": [
    {
     "name": "stdout",
     "output_type": "stream",
     "text": [
      "32\n"
     ]
    }
   ],
   "source": [
    "# 32 jmen opravuju získávám: 106-> 77 (některé vlastně jen updatuju samy sebe)\n",
    "\n",
    "to_replace_woman = {\"AIGERMANOVA Gabriela\": \"AIGERMANOVÁ Gabriela\",\n",
    "             \"SALIGEROVA Katerina\": \"SALIGEROVÁ Kateřina\",\n",
    "             \"HAVLINOVA Tereza\": \"HAVLÍNOVÁ Tereza\",\n",
    "             \"PROKSIKOVA Patricie\": \"PROKŠÍKOVÁ Patricie\",\n",
    "             \"COUFALOVA Anna\": \"COUFALOVÁ Anna\",\n",
    "             \"BIELESZOVA Veronika\": \"BIELESZOVÁ Veronika\",\n",
    "             \"PECHOVOVA Michala\": \"PĚCHOVOVÁ Michala\",\n",
    "             \"MYSKOVA Petra\": \"MYŠKOVÁ Petra\",\n",
    "             \"VINCENCOVA Ester\": \"VINCENCOVÁ Ester\",\n",
    "             \"NOVAKOVA Petra\": \"NOVÁKOVÁ Petra\",\n",
    "             \"HUNCAROVA Katarína\": \"HUNČÁROVÁ Katarína\",\n",
    "             \"ADAMCOVA Anita\": \"ADAMCOVÁ Anita\",\n",
    "             \"SLUSNA Karolína\": \"SLUŠNÁ Karolína\",\n",
    "             \"POKORNA Anna\": \"POKORNÁ Anna\",\n",
    "             \"CHALUPNIKOVA Aranka\": \"CHALUPNÍKOVÁ Aranka\",\n",
    "             \"CEJNAROVA Barbora\": \"CEJNAROVÁ Barbora\",\n",
    "             \"KAHABKOVA Eliska\": \"KAHABKOVÁ Eliška\",\n",
    "             \"POTOCKOVA Katerina\": \"POTOČKOVÁ Kateřina\",\n",
    "             \"BARTOSKOVA Adéla\": \"BARTOŠKOVÁ Adéla\",\n",
    "             \"WEISOVA Katerrina\": \"WEISOVÁ Kateřina\",   ##?##\n",
    "             \"SMIDOVA Daniela\": \"ŠMÍDOVÁ Daniela\",\n",
    "             \"LASTOVKOVA Tereza\": \"LAŠTOVKOVÁ Tereza\",\n",
    "             \"TUMOVA Šárka\": \"TŮMOVÁ Šárka\",\n",
    "             \"HONOVA Marketa\": \"HONOVÁ Markéta\",\n",
    "             \"VACHOVA Tereza\": \"VÁCHOVÁ Tereza\",\n",
    "             \"DIVISOVA Klára\": \"DIVIŠOVÁ Klára\",\n",
    "             \"KUHNOVA Korolína\": \"KÜHNOVÁ Karolína\",  ##?##\n",
    "             \"KOCOURKOVA Marie\": \"KOCOURKOVÁ Marie\",\n",
    "             \"MATEJCKOVA Lucie\": \"MATĚJČKOVÁ Lucie\",\n",
    "             \"FRDLIKOVA Markéta\": \"FRDLÍKOVÁ Markéta\",\n",
    "             \"SYROVATKOVA Iva\": \"SYROVÁTKOVÁ Iva\",\n",
    "             \"ZIEGLEROVA Adéla Anna\": \"ZIEGLEROVÁ Adéla Anna\"\n",
    "            }\n",
    "\n",
    "print(len(to_replace_woman))"
   ]
  },
  {
   "cell_type": "code",
   "execution_count": 27,
   "id": "fd8a8ad4-23ab-43ad-b411-5b181234e294",
   "metadata": {},
   "outputs": [
    {
     "name": "stdout",
     "output_type": "stream",
     "text": [
      "48\n"
     ]
    }
   ],
   "source": [
    "# 35 jmen opravuju získávám: 189-> 155   -> 154 -> 153 (Svoboda Tomáš st. = Tomáš Kristián)\n",
    "\n",
    "to_replace_man = {\"ADAM Sykora\" : \"SÝKORA Adam Herbert\",\n",
    "             \"ADDO DJAN Theodor\": \"ADDO DJAN Theodor Ezekiel\",\n",
    "             \"ARTAZOV Maxmilian\": \"ARTAZOV Maxmilián\",\n",
    "             \"BOSAK Stepan\": \"BOSÁK Štěpán\",\n",
    "             \"BEDNAR Kryštof\":\"BEDNÁR Kryštof\",  ##?##\n",
    "             \"BRADAC Petr\": \"BRADÁČ Petr\",\n",
    "             \"CAPEK Martin\": \"ČAPEK Martin\",\n",
    "             \"CUPR Michal\": \"ČUPR Michal\",\n",
    "             \"D´AMICO Kristian\": \"D'AMICO Kristian\",\n",
    "             \"DOLEJSI Marek\": \"DOLEJŠÍ Marek\",\n",
    "             \"DUDUC Alex\": \"DUDUC Alex Vladimír\", ##?##\n",
    "             \"DUDUC Alex Vladimir\": \"DUDUC Alex Vladimír\",\n",
    "             \"ERNEÉ Jan\":\"ERNÉE Jan\",\n",
    "             \"FOLDES Tomáš\": \"FÖLDES Tomáš\",\n",
    "             \"HLAVAC Jakub\": \"HLAVÁČ Jakub\",\n",
    "             \"HOBAUS Max\": \"HÖBAUS Max\",\n",
    "             \"HORBACHUCK Yuriy\": \"HORBACHUK Yuriy\",\n",
    "             \"IVANCO Alexander\": \"IVANČO Alexandr\",  ## Alexander -> Alexandr\n",
    "             \"IVANCO Robin\": \"IVANČO Robin\",\n",
    "             \"IVANCO Mikuláš\": \"IVANČO Mikuláš\",\n",
    "             \"JANU Gael\": \"JANŮ Gael\",\n",
    "             \"JILEK Jaroslav\": \"JÍLEK Jaroslav\",\n",
    "             \"KOURIL Jan\": \"KOUŘIL Jan\",\n",
    "             \"KRUZECKY Tomáš\": \"KROUŽECKÝ Tomáš\",  ##?##\n",
    "             \"KUCHAR Matěj\": \"KUCHAŘ Matěj\",\n",
    "             \"LANIK Jan\": \"LÁNÍK Jan\",\n",
    "             \"LOKAJ Vaclav\": \"LOKAJ Václav\",\n",
    "             \"LUSTICKY Josef\": \"LUŠTICKÝ Josef\",\n",
    "             \"MOTALIK Libor\": \"MOTALÍK Libor\",\n",
    "             \"NOVAK Martin\": \"NOVÁK Martin\",\n",
    "             \"PAVLIK Matyáš\": \"PAVLÍK Matyáš\",\n",
    "             \"PROCHAZKA Ondřej\": \"PROCHÁZKA Ondřej\",\n",
    "             \"PUSTEJOVSKY Vladimír\": \"PUSTĚJOVSKÝ Vladimír\",\n",
    "             \"RUBES Martin\": \"RUBEŠ Martin\",\n",
    "             'SADSKY Jaroslav': 'SADSKÝ Jaroslav',\n",
    "             \"SKROVNY Petr\": \"SKROVNÝ Petr\",\n",
    "             \"SMITKA Jan\": \"SMÍTKA Jan\",\n",
    "             \"SMRCEK Šimon\": \"SMRČEK Šimon\",\n",
    "             \"STIRBER Sebastian\": \"STIRBER Sebastián\",\n",
    "             \"SVOBODA Tomáš_st.\": \"SVOBODA Tomáš Kristián\",\n",
    "             \"SVOBODA Tomáš_ml.\": \"SVOBODA Tomáš\",\n",
    "             \"ŠILHAN Jindřich\": \"ŠILHÁN Jindřich\",\n",
    "             \"ŠTVERAK Martin\": \"ŠTVERÁK Martin\",\n",
    "             \"TABORSKY Lukas\": \"TÁBORSKÝ Lukáš\",\n",
    "             \"TUMA Marek\": \"TŮMA Marek\",\n",
    "             \"VACHOVEC Matej\": \"VACHOVEC Matěj\",\n",
    "             \"VALKOVIC Martin\": \"VALKOVIČ Martin\",\n",
    "             \"VONDRA Matous\":\"VONDRA Matouš\"\n",
    "                }\n",
    "                  \n",
    "print(len(to_replace_man))\n",
    "\n",
    "df_m[\"Name\"] = df_m[\"Name\"].replace(to_replace_man)             "
   ]
  },
  {
   "cell_type": "code",
   "execution_count": 164,
   "id": "e282e80b-c062-4926-bb2b-1b086281dfc7",
   "metadata": {
    "tags": []
   },
   "outputs": [
    {
     "name": "stdout",
     "output_type": "stream",
     "text": [
      "\u001b[1m174\u001b[0m\n"
     ]
    }
   ],
   "source": [
    "pd.options.display.max_rows = 999\n",
    "printbold(str(len(df_m[\"Name\"].unique())))"
   ]
  },
  {
   "cell_type": "code",
   "execution_count": null,
   "id": "2909bb71-2275-4486-bc5f-70bbc59c45af",
   "metadata": {
    "tags": []
   },
   "outputs": [],
   "source": [
    "print(sorted(df_m[\"Name\"].unique()))"
   ]
  },
  {
   "cell_type": "markdown",
   "id": "148d20fb-d698-442b-9877-020d4019d8f2",
   "metadata": {},
   "source": [
    "## Duplicity v Klubech\n",
    "#### Vždy je diskutabilní, který je ten správný..beru nejdelší \n",
    "#### vyřešit kluby: \"UKRAJINA\", \"SVK\", \"GEO\", ...\n",
    "#### pořešit: HUNČÁROVÁ Katarína - KS SNINA = jediná, která změnila klub v průběhu\n"
   ]
  },
  {
   "cell_type": "code",
   "execution_count": 30,
   "id": "0d01261d-f8ad-4026-8a53-38797256e7d1",
   "metadata": {},
   "outputs": [],
   "source": [
    "to_replace_club = {\n",
    "    \"LOKO K.VARY\": \"TJ LOKO K.VARY\",    ####\n",
    "    \"LOKO KV\": \"TJ LOKO K.VARY\",    \n",
    "    \"TJLKV-ŠZ\": \"TJ LOKO K.VARY\",   \n",
    "    \"LOKO TEPLICE\": \"TJ LOKO TEPLICE\",   ####\n",
    "    \"LOKO TP\": \"TJ LOKO TEPLICE\",\n",
    "    \"TJLTZ\": \"TJ LOKO TEPLICE\",\n",
    "    \"SCPŠS\": \"SC PRAHA\",    ####\n",
    "    \"D.PRAHA\": \"TJ DUKLA PRAHA\",  ####\n",
    "    \"DUKLA PRAHA\": \"TJ DUKLA PRAHA\", \n",
    "    \"TJDP\": \"TJ DUKLA PRAHA\",\n",
    "    \"TJDPZ\": \"TJ DUKLA PRAHA\",\n",
    "    \"1.1.FC BĚLÁ\": \"1.FC BELA POD BEZ\", ####\n",
    "    \"1.FC BĚLÁ\": \"1.FC BELA POD BEZ\",\n",
    "    \"1.FC BELA\": \"1.FC BELA POD BEZ\",\n",
    "    \"1.FCB\": \"1.FC BELA POD BEZ\",\n",
    "    \"1.FCBPBZ\": \"1.FC BELA POD BEZ\",\n",
    "    \"LOKO PLZ\": \"TJ LOKO PLZEN\", ####\n",
    "    \"LOKO PLZEŇ\": \"TJ LOKO PLZEN\",\n",
    "    \"TJLPZ\": \"TJ LOKO PLZEN\",\n",
    "    \"HF PRAHA\": \"VSK HUMANITA\", ####\n",
    "    \"HUMANITA PHA\": \"VSK HUMANITA\",\n",
    "    \"VSKHPZ\": \"VSK HUMANITA\",\n",
    "    \"ČŠKRP\": \"RIEGEL PRAHA\",  ####\n",
    "    \"ČESKŠKRZ\": \"RIEGEL PRAHA\",\n",
    "    \"ČŠK RIEGEL\": \"RIEGEL PRAHA\",\n",
    "    \"DUKLA OL\": \"DUKLA OLOMOUC\",  ####\n",
    "    \"TĚLOJDOZ\": \"DUKLA OLOMOUC\",\n",
    "    \"TJ DUKLA OLOMOU\": \"DUKLA OLOMOUC\",\n",
    "    \"D.OLOMOUC\": \"DUKLA OLOMOUC\",\n",
    "    \"SL.LITOMĚŘICE\": \"SLAVOJ LITOMERICE\", ####\n",
    "    \"SLAVOJ LIT\": \"SLAVOJ LITOMERICE\",\n",
    "    \"SLAVOJ LITOMERIC\": \"SLAVOJ LITOMERICE\",\n",
    "    \"S.S.UH.HRAD.\": \"SS UH.HRADISTE\", ####\n",
    "    \"TJSSUHZ\": \"SS UH.HRADISTE\",\n",
    "    \"UNIVSKPS\": \"USK PRAHA\", ####\n",
    "    \"USK PHA\": \"USK PRAHA\",\n",
    "    \"J.H.BROD\": \"HAV BROD\",  ####\n",
    "    \"SP.Š.ÚSTÍ/L.\": \"SČ USTI NAD LABEM\", ####\n",
    "    \"SPŠ ÚSTÍ\": \"SČ USTI NAD LABEM\",\n",
    "    \"SPORŠÚNLZ\": \"SČ USTI NAD LABEM\",\n",
    "    \"SŠ USTI N. LABEM\": \"SČ USTI NAD LABEM\",\n",
    "    ###############################\n",
    "    \"S.DEJVICE\": \"SOKOL DEJVICE\", ####\n",
    "    \"TJSPDI\": \"SOKOL DEJVICE\", \n",
    "    \"EKONOM\": \"EKONOM PRAHA\", ####\n",
    "    \"VYSOTJEPZ\": \"EKONOM PRAHA\",\n",
    "    \"BSKM\": \"BSK MARTINENGO\", ####\n",
    "    \"BŠKMARTINENGO\": \"BSK MARTINENGO\",\n",
    "    \"ŠERMLZ\": \"ŠERM LIBEREC\", ####\n",
    "    \"SERM LIBEREC\": \"ŠERM LIBEREC\",\n",
    "    \"SLOV HORKY\": \"TJ SLOVAN HORKY\", ####\n",
    "    \"SLOVAN HORKY\": \"TJ SLOVAN HORKY\", \n",
    "    \"TĚLOJSHZ\": \"TJ SLOVAN HORKY\",\n",
    "    \"TJSBI\": \"S.BRNO I\",  ####\n",
    "    \"SLAVLZ\": \"SLAVOJ LITOMERICE\", ####\n",
    "    \"AKADSB\": \"AKADÉMIA ŠERMU BRATISLAVA\",  ####\n",
    "    \"SLAV ČTĚŠ\": \"SLAVOJ Č.TĚŠÍN\", ####\n",
    "    \"SLAVOJ TESIN\": \"SLAVOJ Č.TĚŠÍN\",\n",
    "    \"TJSČTZ\": \"SLAVOJ Č.TĚŠÍN\",\n",
    "    \"OREL HK\": \"OREL HR.KR.\", ####\n",
    "    \"ORELJHK\": \"OREL HR.KR.\",\n",
    "    \"SP Š TÁBOR\": \"SP.Š. TÁBOR\"\n",
    "            }"
   ]
  },
  {
   "cell_type": "code",
   "execution_count": 31,
   "id": "fc300f44-3379-4fa4-8261-cb71709ad79d",
   "metadata": {
    "tags": []
   },
   "outputs": [],
   "source": [
    "# pro 77 žen mám původně 153 klubo-kombinací -> 78\n",
    "## hapruje mi: HUNČÁROVÁ Katarína\n",
    "\n",
    "# pro 154 mužů původně 285 name-klub kombinací \n",
    "# -> nyní 154, což odpovídá počtu mužů -> každý má unikátní klub\n",
    "\n",
    "# .size() vs .count(), zajímavé\n",
    "\n",
    "df_m[\"Club\"] = df_m[\"Club\"].replace(to_replace_club)"
   ]
  },
  {
   "cell_type": "code",
   "execution_count": 165,
   "id": "286fa057-012e-4285-b097-f03ce389000d",
   "metadata": {
    "tags": []
   },
   "outputs": [
    {
     "name": "stdout",
     "output_type": "stream",
     "text": [
      "\u001b[1m174\u001b[0m\n"
     ]
    }
   ],
   "source": [
    "men_clubs = df_m.groupby(['Name','Club']).size().reset_index().rename(columns={0:'count'})\n",
    "printbold(str(len(men_clubs)))\n",
    "#men_clubs"
   ]
  },
  {
   "cell_type": "markdown",
   "id": "be30c8ce-2c37-44c3-b253-0b8ffcf4d9a7",
   "metadata": {},
   "source": [
    "## Duplicity v Datumech narození - UPŘESNIT \n",
    "* i po opravě datumů v turnaji v Písku mám 163 řádků místo 153\n",
    "* předpoklad - kdo má 1.1., tak datum nejdřív nevěděli, později doplnili\n",
    "* toto aplikuji sem: BALCAR Josef, BEDNÁR Kryštof, MIČINEC Adam, STEHLÍK Jan, STOLAR Samuel, VÁVRA Vojtěch,\n",
    "* , HEREY Anatoliy, JAVAKHISHVILI Georgii, NOVOTNÝ Šimon\n",
    "* DUDUC Alex Vladimir (má 3 různé - zatím volím 1.6.97)\n",
    "* GAISLER Jakub (jiný měsíc - zatím volím 29.4., byl víckrát, shodně s exportem Mužů)\n",
    "* KURÁŇ Martin (stále o den - zatím volím 24.8., shodně s exportem Mužů)\n",
    "* Stehlík Vojtěch - na webu 2001, ale v Lázenském poháru 2011\n",
    "* SVOBODA Bohumil Jiří - dva různé datumy, volím ten častější 2003-03-17"
   ]
  },
  {
   "cell_type": "code",
   "execution_count": 40,
   "id": "8804f25f-c373-415e-ac19-5cc03459c8fb",
   "metadata": {
    "tags": []
   },
   "outputs": [
    {
     "name": "stdout",
     "output_type": "stream",
     "text": [
      "\u001b[1m174\u001b[0m\n",
      "174\n"
     ]
    },
    {
     "data": {
      "text/html": [
       "<div>\n",
       "<style scoped>\n",
       "    .dataframe tbody tr th:only-of-type {\n",
       "        vertical-align: middle;\n",
       "    }\n",
       "\n",
       "    .dataframe tbody tr th {\n",
       "        vertical-align: top;\n",
       "    }\n",
       "\n",
       "    .dataframe thead th {\n",
       "        text-align: right;\n",
       "    }\n",
       "</style>\n",
       "<table border=\"1\" class=\"dataframe\">\n",
       "  <thead>\n",
       "    <tr style=\"text-align: right;\">\n",
       "      <th></th>\n",
       "      <th>Name</th>\n",
       "      <th>Birthdate</th>\n",
       "      <th>count</th>\n",
       "    </tr>\n",
       "  </thead>\n",
       "  <tbody>\n",
       "    <tr>\n",
       "      <th>0</th>\n",
       "      <td>ADAM Ondřej</td>\n",
       "      <td>1993-08-26</td>\n",
       "      <td>1</td>\n",
       "    </tr>\n",
       "    <tr>\n",
       "      <th>1</th>\n",
       "      <td>ADDO DJAN Theodor Ezekiel</td>\n",
       "      <td>2006-11-06</td>\n",
       "      <td>5</td>\n",
       "    </tr>\n",
       "  </tbody>\n",
       "</table>\n",
       "</div>"
      ],
      "text/plain": [
       "                        Name  Birthdate  count\n",
       "0                ADAM Ondřej 1993-08-26      1\n",
       "1  ADDO DJAN Theodor Ezekiel 2006-11-06      5"
      ]
     },
     "execution_count": 40,
     "metadata": {},
     "output_type": "execute_result"
    }
   ],
   "source": [
    "men_birthdates = df_m.groupby(['Name','Birthdate']).size().reset_index().rename(columns={0:'count'})\n",
    "printbold(str(len(men_birthdates)))\n",
    "print(len(men_birthdates))\n",
    "men_birthdates.head(2)"
   ]
  },
  {
   "cell_type": "code",
   "execution_count": 39,
   "id": "59e9d535-76b2-4fb8-a0e4-16bdbea503f3",
   "metadata": {
    "tags": []
   },
   "outputs": [
    {
     "data": {
      "text/html": [
       "<div>\n",
       "<style scoped>\n",
       "    .dataframe tbody tr th:only-of-type {\n",
       "        vertical-align: middle;\n",
       "    }\n",
       "\n",
       "    .dataframe tbody tr th {\n",
       "        vertical-align: top;\n",
       "    }\n",
       "\n",
       "    .dataframe thead th {\n",
       "        text-align: right;\n",
       "    }\n",
       "</style>\n",
       "<table border=\"1\" class=\"dataframe\">\n",
       "  <thead>\n",
       "    <tr style=\"text-align: right;\">\n",
       "      <th></th>\n",
       "      <th>Name</th>\n",
       "      <th>Birthdate</th>\n",
       "    </tr>\n",
       "  </thead>\n",
       "  <tbody>\n",
       "  </tbody>\n",
       "</table>\n",
       "</div>"
      ],
      "text/plain": [
       "Empty DataFrame\n",
       "Columns: [Name, Birthdate]\n",
       "Index: []"
      ]
     },
     "execution_count": 39,
     "metadata": {},
     "output_type": "execute_result"
    }
   ],
   "source": [
    "## Problémisti:\n",
    "\n",
    "df2 = df_m.groupby(['Name','Birthdate']).size().reset_index().rename(columns={0:'count'})\n",
    "df2 = df2[[\"Name\", \"Birthdate\"]]\n",
    "#display(df2)\n",
    "v = df2.Name.value_counts()   # kolikrát se jméno objevuje v našem Name-Birthdate groupáči, kde jsou unikátní dvojice\n",
    "df2[df2.Name.isin(v.index[v.gt(1)])]  # nevím co je to v.gt(1), ale 1 v tuto chvíli říká 2 a více výskytů :D"
   ]
  },
  {
   "cell_type": "code",
   "execution_count": 38,
   "id": "7bc549b9-6ff2-493a-9338-b154ea3b7ca2",
   "metadata": {},
   "outputs": [],
   "source": [
    "## MANUÁLNÍ OPRAVA\n",
    "\n",
    "df_m.loc[df_m.Name == \"BALCAR Josef\", \"Birthdate\"] = \"1998-10-31\"\n",
    "df_m.loc[df_m.Name == \"BEDNÁR Kryštof\", \"Birthdate\"] = \"1997-04-02\"\n",
    "df_m.loc[df_m.Name == \"DUDUC Alex Vladimír\", \"Birthdate\"] = \"1997-06-01\"\n",
    "df_m.loc[df_m.Name == \"GAISLER Jakub\", \"Birthdate\"] = \"2005-04-29\"\n",
    "df_m.loc[df_m.Name == \"KURÁŇ Martin\", \"Birthdate\"] = \"2005-08-24\"\n",
    "df_m.loc[df_m.Name == \"MIČINEC Adam\", \"Birthdate\"] = \"1991-07-01\"\n",
    "df_m.loc[df_m.Name == \"STEHLÍK Jan\", \"Birthdate\"] = \"1999-02-28\"\n",
    "df_m.loc[df_m.Name == \"STOLAR Samuel\", \"Birthdate\"] = \"1998-06-16\"\n",
    "df_m.loc[df_m.Name == \"VÁVRA Vojtěch\", \"Birthdate\"] = \"1996-11-19\"\n",
    "df_m.loc[df_m.Name == \"STEHLÍK Vojtěch\", \"Birthdate\"] = \"2001-11-07\"\n",
    "\n",
    "# 2022_12_Memorial:\n",
    "df_m.loc[df_m.Name == \"SVOBODA Bohumil Jiří\", \"Birthdate\"] = \"2003-03-17\"\n",
    "df_m.loc[df_m.Name == \"NOVOTNÝ Šimon\", \"Birthdate\"] = \"2006-05-17\"\n",
    "df_m.loc[df_m.Name == \"JAVAKHISHVILI Georgii\", \"Birthdate\"] = \"1999-05-05\"\n",
    "df_m.loc[df_m.Name == \"HEREY Anatoliy\", \"Birthdate\"] = \"1989-03-31\""
   ]
  },
  {
   "cell_type": "markdown",
   "id": "ac46971c-922b-40b1-a336-f43a405719c9",
   "metadata": {},
   "source": [
    "## Kontrola zemí \n",
    "\n",
    "#### DUDUC Alex Vladimir & STEIS Matúš - oba víckrát SVK než CZE -> SVK"
   ]
  },
  {
   "cell_type": "code",
   "execution_count": 166,
   "id": "e40214a4-a4b9-4f06-82fd-13003a38fe93",
   "metadata": {
    "tags": []
   },
   "outputs": [
    {
     "name": "stdout",
     "output_type": "stream",
     "text": [
      "\u001b[1m174\u001b[0m\n"
     ]
    }
   ],
   "source": [
    "# 155 místo 153\n",
    "\n",
    "men_countries = df_m.groupby(['Name','Club', \"Country\", \"Sex\", \"Birthdate\"]).size().reset_index().rename(columns={0:'count'})\n",
    "printbold(str(len(men_countries)))\n",
    "#men_countries"
   ]
  },
  {
   "cell_type": "code",
   "execution_count": 44,
   "id": "d1c5a94a-e4ae-4cea-920a-c7b83570a52f",
   "metadata": {},
   "outputs": [],
   "source": [
    "df_m.loc[df_m.Name == \"DUDUC Alex Vladimír\", \"Country\"] = \"SVK\"\n",
    "df_m.loc[df_m.Name == \"STEIS Matúš\", \"Country\"] = \"SVK\"\n",
    "# 2022_12_Memorial \n",
    "df_m.loc[df_m.Name == \"BÉREŠ Daniel\", \"Country\"] = \"CZE\"\n"
   ]
  },
  {
   "cell_type": "markdown",
   "id": "125beca7-62ac-41ca-96c3-ed27016a3900",
   "metadata": {},
   "source": [
    "## Kontrola Final Ranků\n",
    "#### otázka: čím nahradit DNF? 99 ? 999? Pomlčkou, a pak vynechávat?"
   ]
  },
  {
   "cell_type": "code",
   "execution_count": 46,
   "id": "6cea1b32-0f4f-403e-8e2a-f0bc115ab718",
   "metadata": {
    "tags": []
   },
   "outputs": [],
   "source": [
    "df_m[\"Final_rank\"].value_counts()\n",
    "\n",
    "df_m[\"Final_rank\"] = df_m[\"Final_rank\"].replace({\"DNF\": 99})"
   ]
  },
  {
   "cell_type": "code",
   "execution_count": 47,
   "id": "5e94961f-1c3d-4187-b793-78e4aa1ae996",
   "metadata": {},
   "outputs": [
    {
     "data": {
      "text/html": [
       "<div>\n",
       "<style scoped>\n",
       "    .dataframe tbody tr th:only-of-type {\n",
       "        vertical-align: middle;\n",
       "    }\n",
       "\n",
       "    .dataframe tbody tr th {\n",
       "        vertical-align: top;\n",
       "    }\n",
       "\n",
       "    .dataframe thead th {\n",
       "        text-align: right;\n",
       "    }\n",
       "</style>\n",
       "<table border=\"1\" class=\"dataframe\">\n",
       "  <thead>\n",
       "    <tr style=\"text-align: right;\">\n",
       "      <th></th>\n",
       "      <th>Name</th>\n",
       "      <th>Club</th>\n",
       "      <th>Country</th>\n",
       "      <th>Birthdate</th>\n",
       "      <th>Date</th>\n",
       "      <th>Event</th>\n",
       "      <th>Sex</th>\n",
       "      <th>Rank</th>\n",
       "      <th>First_rank</th>\n",
       "      <th>Final_rank</th>\n",
       "      <th>Notes</th>\n",
       "    </tr>\n",
       "  </thead>\n",
       "  <tbody>\n",
       "    <tr>\n",
       "      <th>240</th>\n",
       "      <td>JURKA Jakub</td>\n",
       "      <td>DUKLA OLOMOUC</td>\n",
       "      <td>CZE</td>\n",
       "      <td>1999-06-13</td>\n",
       "      <td>2022-05-21</td>\n",
       "      <td>MČR USK</td>\n",
       "      <td>M</td>\n",
       "      <td>2</td>\n",
       "      <td>5</td>\n",
       "      <td>1</td>\n",
       "      <td>Advanced</td>\n",
       "    </tr>\n",
       "    <tr>\n",
       "      <th>318</th>\n",
       "      <td>JURKA Jakub</td>\n",
       "      <td>DUKLA OLOMOUC</td>\n",
       "      <td>CZE</td>\n",
       "      <td>1999-06-13</td>\n",
       "      <td>2022-10-22</td>\n",
       "      <td>Lázeňský pohár</td>\n",
       "      <td>M</td>\n",
       "      <td>1.0</td>\n",
       "      <td>1</td>\n",
       "      <td>1</td>\n",
       "      <td>Advanced</td>\n",
       "    </tr>\n",
       "  </tbody>\n",
       "</table>\n",
       "</div>"
      ],
      "text/plain": [
       "            Name           Club Country  Birthdate       Date           Event  \\\n",
       "240  JURKA Jakub  DUKLA OLOMOUC     CZE 1999-06-13 2022-05-21         MČR USK   \n",
       "318  JURKA Jakub  DUKLA OLOMOUC     CZE 1999-06-13 2022-10-22  Lázeňský pohár   \n",
       "\n",
       "    Sex Rank First_rank  Final_rank     Notes  \n",
       "240   M    2          5           1  Advanced  \n",
       "318   M  1.0          1           1  Advanced  "
      ]
     },
     "execution_count": 47,
     "metadata": {},
     "output_type": "execute_result"
    }
   ],
   "source": [
    "df_m[df_m.Name == \"JURKA Jakub\"]  # opravdu, má dvě čisté výhry turnajů"
   ]
  },
  {
   "cell_type": "code",
   "execution_count": 48,
   "id": "b274b262-430f-417c-86b0-824cb2600f0b",
   "metadata": {
    "collapsed": true,
    "jupyter": {
     "outputs_hidden": true
    },
    "tags": []
   },
   "outputs": [
    {
     "data": {
      "text/plain": [
       "Name\n",
       "JURKA Jakub                   1.0\n",
       "BERAN Jiří                    2.0\n",
       "RUBEŠ Martin                  3.0\n",
       "ČUPR Michal                   5.0\n",
       "HEREY Anatoliy                6.0\n",
       "KUF Jan                       6.0\n",
       "BALCAR Josef                  7.0\n",
       "COUFAL František              8.0\n",
       "DUDUC Alex Vladimír           8.0\n",
       "D'AMICO Kristian              8.0\n",
       "ČAPEK Martin                  9.0\n",
       "PAVLÍK Matyáš                10.0\n",
       "JAVAKHISHVILI Georgii        10.0\n",
       "KLAUS Robert                 10.0\n",
       "DOLEJŠÍ Marek                13.0\n",
       "PITRA Pavel                  13.0\n",
       "SALZER Matěj                 13.0\n",
       "VACHOVEC Matěj               15.0\n",
       "HABARTA Ondřej               16.0\n",
       "STEHLÍK Jan                  17.0\n",
       "KOVACKI Milos                18.0\n",
       "TOMAN Jan                    18.0\n",
       "VOLÁK Samuel                 20.0\n",
       "KULT Pavel                   21.0\n",
       "ANDERLE Petr                 21.0\n",
       "POKORNÝ Richard              22.0\n",
       "IVANČO Alexandr              23.0\n",
       "OSIČKA Adam                  23.0\n",
       "POHNAN Kryštof               24.0\n",
       "STIRBER Sebastián            24.0\n",
       "PROCHÁZKA Ondřej             25.0\n",
       "FIEDOR Michal                25.0\n",
       "MATOUŠEK David               26.0\n",
       "KALUS Jonáš                  26.0\n",
       "ŠVANDA Pavel                 26.0\n",
       "LOKAJ Václav                 27.0\n",
       "DÁŇA Vojtěch                 27.0\n",
       "JANŮ Gael                    28.0\n",
       "KAŠPAR Daniel                28.0\n",
       "MOTALÍK Libor                28.0\n",
       "SVOBODA Bohumil Jiří         28.0\n",
       "STOLAR Samuel                29.0\n",
       "SZALAY Jan                   29.0\n",
       "JINDRA Jakub                 30.0\n",
       "BILKO Martin                 30.0\n",
       "DURYCH Martin                30.0\n",
       "MUSIL Tomáš                  31.0\n",
       "HORBACHUK Yuriy              31.0\n",
       "STRAKA Tomáš                 31.0\n",
       "ERNÉE Jan                    32.0\n",
       "KOUŘIL Jan                   32.0\n",
       "WALLER Jonáš                 32.0\n",
       "HOYER Martin                 32.0\n",
       "CHOUN Karím                  32.0\n",
       "BERKA Adam                   32.0\n",
       "ŠPATENKA Martin              35.0\n",
       "FRANK Kilián                 35.0\n",
       "VAŠÍČEK Martin               37.0\n",
       "SALZER Jiří                  38.0\n",
       "NOVÁK Martin                 38.0\n",
       "JURKA Tomáš                  38.0\n",
       "VONDRA Matouš                39.0\n",
       "SOKOL Vratislav              39.0\n",
       "BRADÁČ Petr                  39.0\n",
       "MAŠATA Vojtěch               39.0\n",
       "STEIS Matúš                  39.0\n",
       "HLAVÁČ Jakub                 39.0\n",
       "KOTALA Jan                   40.0\n",
       "LÁNÍK Jan                    40.0\n",
       "PUSTĚJOVSKÝ Vladimír         40.0\n",
       "KURÁŇ Martin                 41.0\n",
       "KŘÍŽ Petr                    42.0\n",
       "KUCHAŘ Matěj                 42.0\n",
       "KRAJSA Tomáš                 42.0\n",
       "BOSÁK Štěpán                 42.0\n",
       "JAMBOR Stanislav             43.0\n",
       "BEDNÁR Kryštof               44.0\n",
       "VÁVRA Vojtěch                44.0\n",
       "KROUŽECKÝ Tomáš              44.0\n",
       "ADDO DJAN Theodor Ezekiel    44.0\n",
       "IVANČO Robin                 45.0\n",
       "KARÁSEK Libor                45.0\n",
       "TKACHENKO Danil              45.0\n",
       "WALLER Adam                  46.0\n",
       "KEDER Michal                 46.0\n",
       "VLACH Šimon                  47.0\n",
       "BUREŠ Lukáš                  47.0\n",
       "KLSÁK Adam                   48.0\n",
       "TÁBORSKÝ Lukáš               48.0\n",
       "IVANČO Mikuláš               48.0\n",
       "SOKOLOV Sevastyan            49.0\n",
       "SEJKORA Adam                 49.0\n",
       "SKROVNÝ Petr                 50.0\n",
       "PRYL Dobromil                50.0\n",
       "HRONEK Ondřej                50.0\n",
       "MIČINEC Adam                 50.0\n",
       "SMRČEK Šimon                 51.0\n",
       "FÖLDES Tomáš                 51.0\n",
       "GAISLER Jakub                51.0\n",
       "SURMA Štěpán                 52.0\n",
       "DOŠEK Jiří                   52.0\n",
       "NOVOTNÝ Šimon                53.0\n",
       "GERŽA Jakub                  53.0\n",
       "ŠTVERÁK Martin               53.0\n",
       "MALEČEK Jakub                55.0\n",
       "JEŘÁBEK Petr                 55.0\n",
       "HERDA Jan                    55.0\n",
       "SMÍTKA Jan                   57.0\n",
       "JÍLEK Jaroslav               57.0\n",
       "MALÝ Vojtěch                 57.0\n",
       "BINICHAKIS Emannouil         57.0\n",
       "KRÁL Jiří                    58.0\n",
       "LUCOVIČ Matěj                58.0\n",
       "KAREL Petr                   58.0\n",
       "SMUTNÝ Richard               58.0\n",
       "RUSIN Illia                  59.0\n",
       "TŮMA Marek                   60.0\n",
       "VALKOVIČ Martin              60.0\n",
       "STUDENÝ Václav               61.0\n",
       "KAIL Daniel                  61.0\n",
       "GENZER Jiří                  61.0\n",
       "MÜNZBERGER Vladimír          62.0\n",
       "CIMLER Čestmír               62.0\n",
       "KNAP Ladislav                63.0\n",
       "SVOBODA Tomáš                63.0\n",
       "SVOBODA Tomáš Kristián       63.0\n",
       "STEHLÍK Vojtěch              63.0\n",
       "ALMER Vojtěch                64.0\n",
       "OMELKA Jakub                 64.0\n",
       "LUKEŠ Matěj                  65.0\n",
       "JINDRA Jan                   65.0\n",
       "ŠILHÁN Jindřich              66.0\n",
       "SADSKÝ Jaroslav              66.0\n",
       "ŘEZANKA_ST. Ota              66.0\n",
       "MAZANEC Matěj                67.0\n",
       "NECHAY Pavel                 67.0\n",
       "LUŠTICKÝ Josef               68.0\n",
       "SÝKORA Adam Herbert          68.0\n",
       "CIMPA Miroslav               68.0\n",
       "AIGERMAN Oliver              69.0\n",
       "KONEČNÝ Antonín              69.0\n",
       "JIRAN Jan                    69.0\n",
       "BÓR Karel                    70.0\n",
       "GIL Matyáš                   70.0\n",
       "NÁROVEC Václav               70.0\n",
       "VASIC Filip                  71.0\n",
       "SVOBODA Ivo                  72.0\n",
       "BĚLOHOUBEK Matouš            72.0\n",
       "SALAČ Vojtěch                72.0\n",
       "VÍTEK Daniel                 72.0\n",
       "GRUMMICH Petr                73.0\n",
       "HÖBAUS Max                   74.0\n",
       "ARTAZOV Maxmilián            74.0\n",
       "KNOP Tadeáš                  74.0\n",
       "ADAM Ondřej                  76.0\n",
       "TOMAN Štěpán                 76.0\n",
       "BAUER Jiří                   76.0\n",
       "OMELKA Antonín               78.0\n",
       "SEDLÁK Petr                  78.0\n",
       "VÁVRA Miroslav               79.0\n",
       "AIGERMAN František           79.0\n",
       "MRÁZ Pavel                   79.0\n",
       "SCHÖPPEL Karel               80.0\n",
       "VALENTA Jiří                 80.0\n",
       "BÉREŠ Daniel                 81.0\n",
       "LIBICH Vladimír              82.0\n",
       "ZELENKA Jiří                 85.0\n",
       "KOLBE Stanislav              87.0\n",
       "OCHEC Prokop                 91.0\n",
       "KRACMAN Tomáš                92.0\n",
       "PATOČKA Marek                93.0\n",
       "HRADEČNÝ Vojtěch             94.0\n",
       "MAZANEC Vojtěch              96.0\n",
       "SVOBODA Jakub                97.0\n",
       "Name: Final_rank, dtype: float64"
      ]
     },
     "execution_count": 48,
     "metadata": {},
     "output_type": "execute_result"
    }
   ],
   "source": [
    "# seřazeno podle průměrného Final_ranku přes všechyn jejich závody\n",
    "df_m.groupby('Name')['Final_rank'].mean().round().sort_values()"
   ]
  },
  {
   "cell_type": "markdown",
   "id": "66496510-ae56-4e52-8208-6c75738f3bc3",
   "metadata": {},
   "source": [
    "## Vytvoření tabulky závodníků a tabulky Ranků. Ještě bude tabulka zápasů\n",
    "#### vyřešit sortování jmen dle české abecedy\n",
    "#### Případně příjmení psát bez diakritiky...\n",
    "\n",
    "* ID / Jméno /Klub (potenciálně víc) / Stát / Pohlaví / D.narození / Ruka / Zbraň / Skore v žebříčku k poslednímu update \n",
    "* // dopočítaný počet všech turnajů, počet poolových zápasů a počet eliminačních zápasů, a jejich koeficienty Výher. / Počet vítězství? nebo to až později...\n"
   ]
  },
  {
   "cell_type": "code",
   "execution_count": 49,
   "id": "5b096f6e-be3b-4eb5-b92d-0cfd74a8d55f",
   "metadata": {},
   "outputs": [
    {
     "name": "stdout",
     "output_type": "stream",
     "text": [
      "\u001b[1m545\u001b[0m\n"
     ]
    },
    {
     "data": {
      "text/html": [
       "<div>\n",
       "<style scoped>\n",
       "    .dataframe tbody tr th:only-of-type {\n",
       "        vertical-align: middle;\n",
       "    }\n",
       "\n",
       "    .dataframe tbody tr th {\n",
       "        vertical-align: top;\n",
       "    }\n",
       "\n",
       "    .dataframe thead th {\n",
       "        text-align: right;\n",
       "    }\n",
       "</style>\n",
       "<table border=\"1\" class=\"dataframe\">\n",
       "  <thead>\n",
       "    <tr style=\"text-align: right;\">\n",
       "      <th></th>\n",
       "      <th>Name</th>\n",
       "      <th>Club</th>\n",
       "      <th>Country</th>\n",
       "      <th>Birthdate</th>\n",
       "      <th>Date</th>\n",
       "      <th>Event</th>\n",
       "      <th>Sex</th>\n",
       "      <th>Rank</th>\n",
       "      <th>First_rank</th>\n",
       "      <th>Final_rank</th>\n",
       "      <th>Notes</th>\n",
       "      <th>Year</th>\n",
       "    </tr>\n",
       "  </thead>\n",
       "  <tbody>\n",
       "    <tr>\n",
       "      <th>0</th>\n",
       "      <td>ADDO DJAN Theodor Ezekiel</td>\n",
       "      <td>SOKOL DEJVICE</td>\n",
       "      <td>CZE</td>\n",
       "      <td>2006-11-06</td>\n",
       "      <td>2021-12-18</td>\n",
       "      <td>Memorial</td>\n",
       "      <td>M</td>\n",
       "      <td>999.0</td>\n",
       "      <td>56</td>\n",
       "      <td>56</td>\n",
       "      <td>Advanced</td>\n",
       "      <td>2006</td>\n",
       "    </tr>\n",
       "    <tr>\n",
       "      <th>1</th>\n",
       "      <td>ANDERLE Petr</td>\n",
       "      <td>RIEGEL PRAHA</td>\n",
       "      <td>CZE</td>\n",
       "      <td>1977-07-07</td>\n",
       "      <td>2021-12-18</td>\n",
       "      <td>Memorial</td>\n",
       "      <td>M</td>\n",
       "      <td>24.0</td>\n",
       "      <td>45</td>\n",
       "      <td>16</td>\n",
       "      <td>Advanced</td>\n",
       "      <td>1977</td>\n",
       "    </tr>\n",
       "  </tbody>\n",
       "</table>\n",
       "</div>"
      ],
      "text/plain": [
       "                        Name           Club Country  Birthdate       Date  \\\n",
       "0  ADDO DJAN Theodor Ezekiel  SOKOL DEJVICE     CZE 2006-11-06 2021-12-18   \n",
       "1               ANDERLE Petr   RIEGEL PRAHA     CZE 1977-07-07 2021-12-18   \n",
       "\n",
       "      Event Sex   Rank First_rank  Final_rank     Notes  Year  \n",
       "0  Memorial   M  999.0         56          56  Advanced  2006  \n",
       "1  Memorial   M   24.0         45          16  Advanced  1977  "
      ]
     },
     "execution_count": 49,
     "metadata": {},
     "output_type": "execute_result"
    }
   ],
   "source": [
    "df_m[\"Year\"]  = pd.DatetimeIndex(df_m['Birthdate']).year\n",
    "printbold(str(len(df_m)))\n",
    "df_m.head(2)"
   ]
  },
  {
   "cell_type": "code",
   "execution_count": 50,
   "id": "6af9c0c4-6f6c-426b-8d25-42aa6f7a7a45",
   "metadata": {
    "tags": []
   },
   "outputs": [
    {
     "name": "stdout",
     "output_type": "stream",
     "text": [
      "\u001b[1m174\u001b[0m\n"
     ]
    },
    {
     "data": {
      "text/html": [
       "<div>\n",
       "<style scoped>\n",
       "    .dataframe tbody tr th:only-of-type {\n",
       "        vertical-align: middle;\n",
       "    }\n",
       "\n",
       "    .dataframe tbody tr th {\n",
       "        vertical-align: top;\n",
       "    }\n",
       "\n",
       "    .dataframe thead th {\n",
       "        text-align: right;\n",
       "    }\n",
       "</style>\n",
       "<table border=\"1\" class=\"dataframe\">\n",
       "  <thead>\n",
       "    <tr style=\"text-align: right;\">\n",
       "      <th></th>\n",
       "      <th>Name</th>\n",
       "      <th>Club</th>\n",
       "      <th>Country</th>\n",
       "      <th>Sex</th>\n",
       "      <th>Birthdate</th>\n",
       "      <th>Year</th>\n",
       "    </tr>\n",
       "  </thead>\n",
       "  <tbody>\n",
       "    <tr>\n",
       "      <th>169</th>\n",
       "      <td>ŘEZANKA_ST. Ota</td>\n",
       "      <td>TJ LOKO K.VARY</td>\n",
       "      <td>CZE</td>\n",
       "      <td>M</td>\n",
       "      <td>1970-07-24</td>\n",
       "      <td>1970</td>\n",
       "    </tr>\n",
       "    <tr>\n",
       "      <th>170</th>\n",
       "      <td>ŠILHÁN Jindřich</td>\n",
       "      <td>ŠERM LIBEREC</td>\n",
       "      <td>CZE</td>\n",
       "      <td>M</td>\n",
       "      <td>1996-12-20</td>\n",
       "      <td>1996</td>\n",
       "    </tr>\n",
       "    <tr>\n",
       "      <th>171</th>\n",
       "      <td>ŠPATENKA Martin</td>\n",
       "      <td>DUKLA OLOMOUC</td>\n",
       "      <td>CZE</td>\n",
       "      <td>M</td>\n",
       "      <td>1971-10-13</td>\n",
       "      <td>1971</td>\n",
       "    </tr>\n",
       "    <tr>\n",
       "      <th>172</th>\n",
       "      <td>ŠTVERÁK Martin</td>\n",
       "      <td>TJ SOKOL PISEK</td>\n",
       "      <td>CZE</td>\n",
       "      <td>M</td>\n",
       "      <td>1993-07-13</td>\n",
       "      <td>1993</td>\n",
       "    </tr>\n",
       "    <tr>\n",
       "      <th>173</th>\n",
       "      <td>ŠVANDA Pavel</td>\n",
       "      <td>USK PRAHA</td>\n",
       "      <td>CZE</td>\n",
       "      <td>M</td>\n",
       "      <td>1975-02-02</td>\n",
       "      <td>1975</td>\n",
       "    </tr>\n",
       "  </tbody>\n",
       "</table>\n",
       "</div>"
      ],
      "text/plain": [
       "                Name            Club Country Sex  Birthdate  Year\n",
       "169  ŘEZANKA_ST. Ota  TJ LOKO K.VARY     CZE   M 1970-07-24  1970\n",
       "170  ŠILHÁN Jindřich    ŠERM LIBEREC     CZE   M 1996-12-20  1996\n",
       "171  ŠPATENKA Martin   DUKLA OLOMOUC     CZE   M 1971-10-13  1971\n",
       "172   ŠTVERÁK Martin  TJ SOKOL PISEK     CZE   M 1993-07-13  1993\n",
       "173     ŠVANDA Pavel       USK PRAHA     CZE   M 1975-02-02  1975"
      ]
     },
     "execution_count": 50,
     "metadata": {},
     "output_type": "execute_result"
    }
   ],
   "source": [
    "df_m_people = df_m.groupby(['Name','Club', \"Country\", \"Sex\", \"Birthdate\", \"Year\"]).size().reset_index().rename(columns={0:'count'})\n",
    "df_m_people = df_m_people[[\"Name\", \"Club\", \"Country\", \"Sex\", \"Birthdate\", \"Year\"]]\n",
    "\n",
    "#df_m_people.to_excel(\"C:/Users/jzelenka/Documents/python_j/fencing/1_zavodnici.xlsx\", index=False)\n",
    "#df_m.to_excel(\"C:/Users/jzelenka/Documents/python_j/fencing/2_ranky.xlsx\", index=False)\n",
    "\n",
    "printbold(str(len(df_m_people)))\n",
    "df_m_people.tail()"
   ]
  },
  {
   "cell_type": "markdown",
   "id": "29010bfe-c5d6-47a5-8424-d8ebb53f1396",
   "metadata": {},
   "source": [
    "## I.2 - STATISTIKY závodníci a kluby obecně"
   ]
  },
  {
   "cell_type": "code",
   "execution_count": 179,
   "id": "43a1736a-5e71-4fbf-8bea-17a0369efec5",
   "metadata": {},
   "outputs": [
    {
     "name": "stdout",
     "output_type": "stream",
     "text": [
      "\u001b[1m174\u001b[0m\n"
     ]
    },
    {
     "data": {
      "text/html": [
       "<div>\n",
       "<style scoped>\n",
       "    .dataframe tbody tr th:only-of-type {\n",
       "        vertical-align: middle;\n",
       "    }\n",
       "\n",
       "    .dataframe tbody tr th {\n",
       "        vertical-align: top;\n",
       "    }\n",
       "\n",
       "    .dataframe thead th {\n",
       "        text-align: right;\n",
       "    }\n",
       "</style>\n",
       "<table border=\"1\" class=\"dataframe\">\n",
       "  <thead>\n",
       "    <tr style=\"text-align: right;\">\n",
       "      <th></th>\n",
       "      <th>Name</th>\n",
       "      <th>Club</th>\n",
       "      <th>Country</th>\n",
       "      <th>Sex</th>\n",
       "      <th>Birthdate</th>\n",
       "      <th>Year</th>\n",
       "    </tr>\n",
       "  </thead>\n",
       "  <tbody>\n",
       "    <tr>\n",
       "      <th>0</th>\n",
       "      <td>ADAM Ondřej</td>\n",
       "      <td>VUT BRNO</td>\n",
       "      <td>CZE</td>\n",
       "      <td>M</td>\n",
       "      <td>1993-08-26</td>\n",
       "      <td>1993</td>\n",
       "    </tr>\n",
       "    <tr>\n",
       "      <th>1</th>\n",
       "      <td>ADDO DJAN Theodor Ezekiel</td>\n",
       "      <td>SOKOL DEJVICE</td>\n",
       "      <td>CZE</td>\n",
       "      <td>M</td>\n",
       "      <td>2006-11-06</td>\n",
       "      <td>2006</td>\n",
       "    </tr>\n",
       "  </tbody>\n",
       "</table>\n",
       "</div>"
      ],
      "text/plain": [
       "                        Name           Club Country Sex  Birthdate  Year\n",
       "0                ADAM Ondřej       VUT BRNO     CZE   M 1993-08-26  1993\n",
       "1  ADDO DJAN Theodor Ezekiel  SOKOL DEJVICE     CZE   M 2006-11-06  2006"
      ]
     },
     "metadata": {},
     "output_type": "display_data"
    },
    {
     "data": {
      "text/html": [
       "<div>\n",
       "<style scoped>\n",
       "    .dataframe tbody tr th:only-of-type {\n",
       "        vertical-align: middle;\n",
       "    }\n",
       "\n",
       "    .dataframe tbody tr th {\n",
       "        vertical-align: top;\n",
       "    }\n",
       "\n",
       "    .dataframe thead th {\n",
       "        text-align: right;\n",
       "    }\n",
       "</style>\n",
       "<table border=\"1\" class=\"dataframe\">\n",
       "  <thead>\n",
       "    <tr style=\"text-align: right;\">\n",
       "      <th></th>\n",
       "      <th>Name</th>\n",
       "      <th>Club</th>\n",
       "      <th>Country</th>\n",
       "      <th>Sex</th>\n",
       "      <th>Birthdate</th>\n",
       "      <th>Year</th>\n",
       "    </tr>\n",
       "  </thead>\n",
       "  <tbody>\n",
       "    <tr>\n",
       "      <th>172</th>\n",
       "      <td>ŠTVERÁK Martin</td>\n",
       "      <td>TJ SOKOL PISEK</td>\n",
       "      <td>CZE</td>\n",
       "      <td>M</td>\n",
       "      <td>1993-07-13</td>\n",
       "      <td>1993</td>\n",
       "    </tr>\n",
       "    <tr>\n",
       "      <th>173</th>\n",
       "      <td>ŠVANDA Pavel</td>\n",
       "      <td>USK PRAHA</td>\n",
       "      <td>CZE</td>\n",
       "      <td>M</td>\n",
       "      <td>1975-02-02</td>\n",
       "      <td>1975</td>\n",
       "    </tr>\n",
       "  </tbody>\n",
       "</table>\n",
       "</div>"
      ],
      "text/plain": [
       "               Name            Club Country Sex  Birthdate  Year\n",
       "172  ŠTVERÁK Martin  TJ SOKOL PISEK     CZE   M 1993-07-13  1993\n",
       "173    ŠVANDA Pavel       USK PRAHA     CZE   M 1975-02-02  1975"
      ]
     },
     "metadata": {},
     "output_type": "display_data"
    }
   ],
   "source": [
    "df = pd.read_excel(\"C:/Users/jzelenka/Documents/python_j/fencing/1_zavodnici.xlsx\")\n",
    "printbold(str(len(df)))\n",
    "display(df.head(2))\n",
    "display(df.tail(2))"
   ]
  },
  {
   "cell_type": "code",
   "execution_count": 141,
   "id": "8632ca69-16f6-4374-9eda-cb0d8266fa36",
   "metadata": {
    "tags": []
   },
   "outputs": [
    {
     "data": {
      "text/html": [
       "<div>\n",
       "<style scoped>\n",
       "    .dataframe tbody tr th:only-of-type {\n",
       "        vertical-align: middle;\n",
       "    }\n",
       "\n",
       "    .dataframe tbody tr th {\n",
       "        vertical-align: top;\n",
       "    }\n",
       "\n",
       "    .dataframe thead th {\n",
       "        text-align: right;\n",
       "    }\n",
       "</style>\n",
       "<table border=\"1\" class=\"dataframe\">\n",
       "  <thead>\n",
       "    <tr style=\"text-align: right;\">\n",
       "      <th></th>\n",
       "      <th>Name</th>\n",
       "      <th>Club</th>\n",
       "      <th>Country</th>\n",
       "      <th>Sex</th>\n",
       "      <th>Birthdate</th>\n",
       "      <th>Year</th>\n",
       "    </tr>\n",
       "  </thead>\n",
       "  <tbody>\n",
       "    <tr>\n",
       "      <th>18</th>\n",
       "      <td>BÓR Karel</td>\n",
       "      <td>ŠERM LIBEREC</td>\n",
       "      <td>CZE</td>\n",
       "      <td>M</td>\n",
       "      <td>2007-02-16</td>\n",
       "      <td>2007</td>\n",
       "    </tr>\n",
       "    <tr>\n",
       "      <th>46</th>\n",
       "      <td>HRONEK Ondřej</td>\n",
       "      <td>TJ SOKOL PISEK</td>\n",
       "      <td>CZE</td>\n",
       "      <td>M</td>\n",
       "      <td>2007-12-16</td>\n",
       "      <td>2007</td>\n",
       "    </tr>\n",
       "    <tr>\n",
       "      <th>102</th>\n",
       "      <td>NECHAY Pavel</td>\n",
       "      <td>SOKOL PLZEN</td>\n",
       "      <td>CZE</td>\n",
       "      <td>M</td>\n",
       "      <td>2007-04-16</td>\n",
       "      <td>2007</td>\n",
       "    </tr>\n",
       "    <tr>\n",
       "      <th>126</th>\n",
       "      <td>SEJKORA Adam</td>\n",
       "      <td>SC PRAHA</td>\n",
       "      <td>CZE</td>\n",
       "      <td>M</td>\n",
       "      <td>2007-08-28</td>\n",
       "      <td>2007</td>\n",
       "    </tr>\n",
       "    <tr>\n",
       "      <th>164</th>\n",
       "      <td>WALLER Adam</td>\n",
       "      <td>SC PRAHA</td>\n",
       "      <td>CZE</td>\n",
       "      <td>M</td>\n",
       "      <td>2007-08-27</td>\n",
       "      <td>2007</td>\n",
       "    </tr>\n",
       "    <tr>\n",
       "      <th>165</th>\n",
       "      <td>WALLER Jonáš</td>\n",
       "      <td>SC PRAHA</td>\n",
       "      <td>CZE</td>\n",
       "      <td>M</td>\n",
       "      <td>2008-10-10</td>\n",
       "      <td>2008</td>\n",
       "    </tr>\n",
       "  </tbody>\n",
       "</table>\n",
       "</div>"
      ],
      "text/plain": [
       "              Name            Club Country Sex  Birthdate  Year\n",
       "18       BÓR Karel    ŠERM LIBEREC     CZE   M 2007-02-16  2007\n",
       "46   HRONEK Ondřej  TJ SOKOL PISEK     CZE   M 2007-12-16  2007\n",
       "102   NECHAY Pavel     SOKOL PLZEN     CZE   M 2007-04-16  2007\n",
       "126   SEJKORA Adam        SC PRAHA     CZE   M 2007-08-28  2007\n",
       "164    WALLER Adam        SC PRAHA     CZE   M 2007-08-27  2007\n",
       "165   WALLER Jonáš        SC PRAHA     CZE   M 2008-10-10  2008"
      ]
     },
     "execution_count": 141,
     "metadata": {},
     "output_type": "execute_result"
    }
   ],
   "source": [
    "df[df.Year > 2006]  # ti nejmladší - potenciální chyba v datu narození"
   ]
  },
  {
   "cell_type": "markdown",
   "id": "c374f523-2a11-44ca-84aa-de7041443821",
   "metadata": {},
   "source": [
    "## Počty závodníků podle roku narození"
   ]
  },
  {
   "cell_type": "code",
   "execution_count": 142,
   "id": "83c369be-3656-4785-afac-89f26e30991b",
   "metadata": {},
   "outputs": [
    {
     "data": {
      "image/png": "[encoded data removed]",
      "text/plain": [
       "<Figure size 1000x400 with 1 Axes>"
      ]
     },
     "metadata": {
      "needs_background": "light"
     },
     "output_type": "display_data"
    }
   ],
   "source": [
    "#plt.style.use('ggplot')\n",
    "#plt.hist(df[\"Year\"])\n",
    "\n",
    "figure(figsize=(10, 4), dpi=100)\n",
    "\n",
    "years = sorted(df[\"Year\"].unique())\n",
    "counts = df.groupby('Year')['Year'].count()\n",
    "plt.xticks(years, rotation='vertical')\n",
    "plt.bar(years, counts, width=0.8)  # šířka sloupečku\n",
    "\n",
    "plt.show()"
   ]
  },
  {
   "cell_type": "code",
   "execution_count": 202,
   "id": "55bca897-db30-4136-8bae-3817fd7fb189",
   "metadata": {},
   "outputs": [
    {
     "data": {
      "application/vnd.plotly.v1+json": {
       "config": {
        "plotlyServerURL": "https://plot.ly"
       },
       "data": [
        {
         "alignmentgroup": "True",
         "hovertemplate": "Club=SOKOL DEJVICE<br>Year=%{x}<br>count=%{y}<extra></extra>",
         "legendgroup": "SOKOL DEJVICE",
         "marker": {
          "color": "#636efa",
          "pattern": {
           "shape": ""
          }
         },
         "name": "SOKOL DEJVICE",
         "offsetgroup": "SOKOL DEJVICE",
         "orientation": "v",
         "showlegend": true,
         "textposition": "auto",
         "type": "bar",
         "x": [
          1950,
          1978,
          1988,
          1993,
          1997,
          2006
         ],
         "xaxis": "x",
         "y": [
          1,
          1,
          1,
          1,
          1,
          2
         ],
         "yaxis": "y"
        },
        {
         "alignmentgroup": "True",
         "hovertemplate": "Club=SC PRAHA<br>Year=%{x}<br>count=%{y}<extra></extra>",
         "legendgroup": "SC PRAHA",
         "marker": {
          "color": "#EF553B",
          "pattern": {
           "shape": ""
          }
         },
         "name": "SC PRAHA",
         "offsetgroup": "SC PRAHA",
         "orientation": "v",
         "showlegend": true,
         "textposition": "auto",
         "type": "bar",
         "x": [
          1956,
          1962,
          1975,
          1982,
          1983,
          1988,
          1991,
          1992,
          1993,
          1995,
          1997,
          1998,
          2000,
          2001,
          2002,
          2003,
          2004,
          2005,
          2006,
          2007,
          2008
         ],
         "xaxis": "x",
         "y": [
          1,
          1,
          1,
          1,
          2,
          1,
          1,
          1,
          2,
          1,
          1,
          1,
          1,
          2,
          1,
          3,
          3,
          1,
          2,
          2,
          1
         ],
         "yaxis": "y"
        },
        {
         "alignmentgroup": "True",
         "hovertemplate": "Club=USK PRAHA<br>Year=%{x}<br>count=%{y}<extra></extra>",
         "legendgroup": "USK PRAHA",
         "marker": {
          "color": "#00cc96",
          "pattern": {
           "shape": ""
          }
         },
         "name": "USK PRAHA",
         "offsetgroup": "USK PRAHA",
         "orientation": "v",
         "showlegend": true,
         "textposition": "auto",
         "type": "bar",
         "x": [
          1957,
          1967,
          1975,
          1996,
          1998,
          2001,
          2004,
          2005
         ],
         "xaxis": "x",
         "y": [
          1,
          1,
          1,
          1,
          2,
          2,
          2,
          1
         ],
         "yaxis": "y"
        },
        {
         "alignmentgroup": "True",
         "hovertemplate": "Club=ŠERM MASTERS<br>Year=%{x}<br>count=%{y}<extra></extra>",
         "legendgroup": "ŠERM MASTERS",
         "marker": {
          "color": "#ab63fa",
          "pattern": {
           "shape": ""
          }
         },
         "name": "ŠERM MASTERS",
         "offsetgroup": "ŠERM MASTERS",
         "orientation": "v",
         "showlegend": true,
         "textposition": "auto",
         "type": "bar",
         "x": [
          1957,
          1994,
          2003
         ],
         "xaxis": "x",
         "y": [
          1,
          1,
          1
         ],
         "yaxis": "y"
        },
        {
         "alignmentgroup": "True",
         "hovertemplate": "Club=VSK ČVUT<br>Year=%{x}<br>count=%{y}<extra></extra>",
         "legendgroup": "VSK ČVUT",
         "marker": {
          "color": "#FFA15A",
          "pattern": {
           "shape": ""
          }
         },
         "name": "VSK ČVUT",
         "offsetgroup": "VSK ČVUT",
         "orientation": "v",
         "showlegend": true,
         "textposition": "auto",
         "type": "bar",
         "x": [
          1961,
          2005
         ],
         "xaxis": "x",
         "y": [
          1,
          1
         ],
         "yaxis": "y"
        },
        {
         "alignmentgroup": "True",
         "hovertemplate": "Club=S.BRNO I<br>Year=%{x}<br>count=%{y}<extra></extra>",
         "legendgroup": "S.BRNO I",
         "marker": {
          "color": "#19d3f3",
          "pattern": {
           "shape": ""
          }
         },
         "name": "S.BRNO I",
         "offsetgroup": "S.BRNO I",
         "orientation": "v",
         "showlegend": true,
         "textposition": "auto",
         "type": "bar",
         "x": [
          1966,
          1990
         ],
         "xaxis": "x",
         "y": [
          1,
          1
         ],
         "yaxis": "y"
        },
        {
         "alignmentgroup": "True",
         "hovertemplate": "Club=TJ SLOVAN HORKY<br>Year=%{x}<br>count=%{y}<extra></extra>",
         "legendgroup": "TJ SLOVAN HORKY",
         "marker": {
          "color": "#FF6692",
          "pattern": {
           "shape": ""
          }
         },
         "name": "TJ SLOVAN HORKY",
         "offsetgroup": "TJ SLOVAN HORKY",
         "orientation": "v",
         "showlegend": true,
         "textposition": "auto",
         "type": "bar",
         "x": [
          1967
         ],
         "xaxis": "x",
         "y": [
          1
         ],
         "yaxis": "y"
        },
        {
         "alignmentgroup": "True",
         "hovertemplate": "Club=TJ LOKO PLZEN<br>Year=%{x}<br>count=%{y}<extra></extra>",
         "legendgroup": "TJ LOKO PLZEN",
         "marker": {
          "color": "#B6E880",
          "pattern": {
           "shape": ""
          }
         },
         "name": "TJ LOKO PLZEN",
         "offsetgroup": "TJ LOKO PLZEN",
         "orientation": "v",
         "showlegend": true,
         "textposition": "auto",
         "type": "bar",
         "x": [
          1968,
          1982,
          1984,
          2002,
          2004,
          2005
         ],
         "xaxis": "x",
         "y": [
          1,
          1,
          1,
          1,
          1,
          2
         ],
         "yaxis": "y"
        },
        {
         "alignmentgroup": "True",
         "hovertemplate": "Club=TJ LOKO K.VARY<br>Year=%{x}<br>count=%{y}<extra></extra>",
         "legendgroup": "TJ LOKO K.VARY",
         "marker": {
          "color": "#FF97FF",
          "pattern": {
           "shape": ""
          }
         },
         "name": "TJ LOKO K.VARY",
         "offsetgroup": "TJ LOKO K.VARY",
         "orientation": "v",
         "showlegend": true,
         "textposition": "auto",
         "type": "bar",
         "x": [
          1970,
          1974,
          1981,
          1982,
          1991,
          1996,
          2001,
          2002
         ],
         "xaxis": "x",
         "y": [
          1,
          1,
          1,
          1,
          1,
          1,
          1,
          1
         ],
         "yaxis": "y"
        },
        {
         "alignmentgroup": "True",
         "hovertemplate": "Club=DUKLA OLOMOUC<br>Year=%{x}<br>count=%{y}<extra></extra>",
         "legendgroup": "DUKLA OLOMOUC",
         "marker": {
          "color": "#FECB52",
          "pattern": {
           "shape": ""
          }
         },
         "name": "DUKLA OLOMOUC",
         "offsetgroup": "DUKLA OLOMOUC",
         "orientation": "v",
         "showlegend": true,
         "textposition": "auto",
         "type": "bar",
         "x": [
          1971,
          1983,
          1986,
          1989,
          1997,
          1999,
          2000,
          2002,
          2003,
          2004,
          2005
         ],
         "xaxis": "x",
         "y": [
          2,
          1,
          1,
          1,
          1,
          2,
          2,
          1,
          1,
          1,
          2
         ],
         "yaxis": "y"
        },
        {
         "alignmentgroup": "True",
         "hovertemplate": "Club=TJ DUKLA PRAHA<br>Year=%{x}<br>count=%{y}<extra></extra>",
         "legendgroup": "TJ DUKLA PRAHA",
         "marker": {
          "color": "#636efa",
          "pattern": {
           "shape": ""
          }
         },
         "name": "TJ DUKLA PRAHA",
         "offsetgroup": "TJ DUKLA PRAHA",
         "orientation": "v",
         "showlegend": true,
         "textposition": "auto",
         "type": "bar",
         "x": [
          1971,
          1980,
          1991,
          1993,
          1994,
          2001,
          2002,
          2003
         ],
         "xaxis": "x",
         "y": [
          1,
          1,
          2,
          1,
          1,
          1,
          4,
          3
         ],
         "yaxis": "y"
        },
        {
         "alignmentgroup": "True",
         "hovertemplate": "Club=TJ LOKO TEPLICE<br>Year=%{x}<br>count=%{y}<extra></extra>",
         "legendgroup": "TJ LOKO TEPLICE",
         "marker": {
          "color": "#EF553B",
          "pattern": {
           "shape": ""
          }
         },
         "name": "TJ LOKO TEPLICE",
         "offsetgroup": "TJ LOKO TEPLICE",
         "orientation": "v",
         "showlegend": true,
         "textposition": "auto",
         "type": "bar",
         "x": [
          1972,
          1998,
          2004,
          2005,
          2006
         ],
         "xaxis": "x",
         "y": [
          1,
          1,
          1,
          1,
          2
         ],
         "yaxis": "y"
        },
        {
         "alignmentgroup": "True",
         "hovertemplate": "Club=ŠERM LIBEREC<br>Year=%{x}<br>count=%{y}<extra></extra>",
         "legendgroup": "ŠERM LIBEREC",
         "marker": {
          "color": "#00cc96",
          "pattern": {
           "shape": ""
          }
         },
         "name": "ŠERM LIBEREC",
         "offsetgroup": "ŠERM LIBEREC",
         "orientation": "v",
         "showlegend": true,
         "textposition": "auto",
         "type": "bar",
         "x": [
          1972,
          1974,
          1978,
          1996,
          2001,
          2004,
          2006,
          2007
         ],
         "xaxis": "x",
         "y": [
          1,
          1,
          1,
          1,
          1,
          1,
          1,
          1
         ],
         "yaxis": "y"
        },
        {
         "alignmentgroup": "True",
         "hovertemplate": "Club=SILNI BEOGRAD<br>Year=%{x}<br>count=%{y}<extra></extra>",
         "legendgroup": "SILNI BEOGRAD",
         "marker": {
          "color": "#ab63fa",
          "pattern": {
           "shape": ""
          }
         },
         "name": "SILNI BEOGRAD",
         "offsetgroup": "SILNI BEOGRAD",
         "orientation": "v",
         "showlegend": true,
         "textposition": "auto",
         "type": "bar",
         "x": [
          1973
         ],
         "xaxis": "x",
         "y": [
          1
         ],
         "yaxis": "y"
        },
        {
         "alignmentgroup": "True",
         "hovertemplate": "Club=SČ USTI NAD LABEM<br>Year=%{x}<br>count=%{y}<extra></extra>",
         "legendgroup": "SČ USTI NAD LABEM",
         "marker": {
          "color": "#FFA15A",
          "pattern": {
           "shape": ""
          }
         },
         "name": "SČ USTI NAD LABEM",
         "offsetgroup": "SČ USTI NAD LABEM",
         "orientation": "v",
         "showlegend": true,
         "textposition": "auto",
         "type": "bar",
         "x": [
          1973,
          1991,
          1999,
          2001,
          2002
         ],
         "xaxis": "x",
         "y": [
          2,
          1,
          1,
          1,
          1
         ],
         "yaxis": "y"
        },
        {
         "alignmentgroup": "True",
         "hovertemplate": "Club=RIEGEL PRAHA<br>Year=%{x}<br>count=%{y}<extra></extra>",
         "legendgroup": "RIEGEL PRAHA",
         "marker": {
          "color": "#19d3f3",
          "pattern": {
           "shape": ""
          }
         },
         "name": "RIEGEL PRAHA",
         "offsetgroup": "RIEGEL PRAHA",
         "orientation": "v",
         "showlegend": true,
         "textposition": "auto",
         "type": "bar",
         "x": [
          1975,
          1977,
          1990,
          2003
         ],
         "xaxis": "x",
         "y": [
          1,
          1,
          1,
          1
         ],
         "yaxis": "y"
        },
        {
         "alignmentgroup": "True",
         "hovertemplate": "Club=SLAVOJ Č.TĚŠÍN<br>Year=%{x}<br>count=%{y}<extra></extra>",
         "legendgroup": "SLAVOJ Č.TĚŠÍN",
         "marker": {
          "color": "#FF6692",
          "pattern": {
           "shape": ""
          }
         },
         "name": "SLAVOJ Č.TĚŠÍN",
         "offsetgroup": "SLAVOJ Č.TĚŠÍN",
         "orientation": "v",
         "showlegend": true,
         "textposition": "auto",
         "type": "bar",
         "x": [
          1976
         ],
         "xaxis": "x",
         "y": [
          1
         ],
         "yaxis": "y"
        },
        {
         "alignmentgroup": "True",
         "hovertemplate": "Club=EKONOM PRAHA<br>Year=%{x}<br>count=%{y}<extra></extra>",
         "legendgroup": "EKONOM PRAHA",
         "marker": {
          "color": "#B6E880",
          "pattern": {
           "shape": ""
          }
         },
         "name": "EKONOM PRAHA",
         "offsetgroup": "EKONOM PRAHA",
         "orientation": "v",
         "showlegend": true,
         "textposition": "auto",
         "type": "bar",
         "x": [
          1978,
          1991,
          1993,
          1996,
          1997
         ],
         "xaxis": "x",
         "y": [
          2,
          1,
          1,
          2,
          1
         ],
         "yaxis": "y"
        },
        {
         "alignmentgroup": "True",
         "hovertemplate": "Club=BSK MARTINENGO<br>Year=%{x}<br>count=%{y}<extra></extra>",
         "legendgroup": "BSK MARTINENGO",
         "marker": {
          "color": "#FF97FF",
          "pattern": {
           "shape": ""
          }
         },
         "name": "BSK MARTINENGO",
         "offsetgroup": "BSK MARTINENGO",
         "orientation": "v",
         "showlegend": true,
         "textposition": "auto",
         "type": "bar",
         "x": [
          1982,
          1997
         ],
         "xaxis": "x",
         "y": [
          1,
          1
         ],
         "yaxis": "y"
        },
        {
         "alignmentgroup": "True",
         "hovertemplate": "Club=SP.Š. TÁBOR<br>Year=%{x}<br>count=%{y}<extra></extra>",
         "legendgroup": "SP.Š. TÁBOR",
         "marker": {
          "color": "#FECB52",
          "pattern": {
           "shape": ""
          }
         },
         "name": "SP.Š. TÁBOR",
         "offsetgroup": "SP.Š. TÁBOR",
         "orientation": "v",
         "showlegend": true,
         "textposition": "auto",
         "type": "bar",
         "x": [
          1982,
          1998,
          2003
         ],
         "xaxis": "x",
         "y": [
          1,
          1,
          1
         ],
         "yaxis": "y"
        },
        {
         "alignmentgroup": "True",
         "hovertemplate": "Club=SS UH.HRADISTE<br>Year=%{x}<br>count=%{y}<extra></extra>",
         "legendgroup": "SS UH.HRADISTE",
         "marker": {
          "color": "#636efa",
          "pattern": {
           "shape": ""
          }
         },
         "name": "SS UH.HRADISTE",
         "offsetgroup": "SS UH.HRADISTE",
         "orientation": "v",
         "showlegend": true,
         "textposition": "auto",
         "type": "bar",
         "x": [
          1984,
          1988
         ],
         "xaxis": "x",
         "y": [
          2,
          1
         ],
         "yaxis": "y"
        },
        {
         "alignmentgroup": "True",
         "hovertemplate": "Club=DYNAMO UŽHOROD<br>Year=%{x}<br>count=%{y}<extra></extra>",
         "legendgroup": "DYNAMO UŽHOROD",
         "marker": {
          "color": "#EF553B",
          "pattern": {
           "shape": ""
          }
         },
         "name": "DYNAMO UŽHOROD",
         "offsetgroup": "DYNAMO UŽHOROD",
         "orientation": "v",
         "showlegend": true,
         "textposition": "auto",
         "type": "bar",
         "x": [
          1989
         ],
         "xaxis": "x",
         "y": [
          1
         ],
         "yaxis": "y"
        },
        {
         "alignmentgroup": "True",
         "hovertemplate": "Club=SLAVOJ LITOMERICE<br>Year=%{x}<br>count=%{y}<extra></extra>",
         "legendgroup": "SLAVOJ LITOMERICE",
         "marker": {
          "color": "#00cc96",
          "pattern": {
           "shape": ""
          }
         },
         "name": "SLAVOJ LITOMERICE",
         "offsetgroup": "SLAVOJ LITOMERICE",
         "orientation": "v",
         "showlegend": true,
         "textposition": "auto",
         "type": "bar",
         "x": [
          1991,
          1998,
          2001
         ],
         "xaxis": "x",
         "y": [
          1,
          1,
          1
         ],
         "yaxis": "y"
        },
        {
         "alignmentgroup": "True",
         "hovertemplate": "Club=BA MPC<br>Year=%{x}<br>count=%{y}<extra></extra>",
         "legendgroup": "BA MPC",
         "marker": {
          "color": "#ab63fa",
          "pattern": {
           "shape": ""
          }
         },
         "name": "BA MPC",
         "offsetgroup": "BA MPC",
         "orientation": "v",
         "showlegend": true,
         "textposition": "auto",
         "type": "bar",
         "x": [
          1992
         ],
         "xaxis": "x",
         "y": [
          1
         ],
         "yaxis": "y"
        },
        {
         "alignmentgroup": "True",
         "hovertemplate": "Club=SPORŠZZ<br>Year=%{x}<br>count=%{y}<extra></extra>",
         "legendgroup": "SPORŠZZ",
         "marker": {
          "color": "#FFA15A",
          "pattern": {
           "shape": ""
          }
         },
         "name": "SPORŠZZ",
         "offsetgroup": "SPORŠZZ",
         "orientation": "v",
         "showlegend": true,
         "textposition": "auto",
         "type": "bar",
         "x": [
          1992,
          1994,
          2000
         ],
         "xaxis": "x",
         "y": [
          1,
          1,
          1
         ],
         "yaxis": "y"
        },
        {
         "alignmentgroup": "True",
         "hovertemplate": "Club=TJ SOKOL PISEK<br>Year=%{x}<br>count=%{y}<extra></extra>",
         "legendgroup": "TJ SOKOL PISEK",
         "marker": {
          "color": "#19d3f3",
          "pattern": {
           "shape": ""
          }
         },
         "name": "TJ SOKOL PISEK",
         "offsetgroup": "TJ SOKOL PISEK",
         "orientation": "v",
         "showlegend": true,
         "textposition": "auto",
         "type": "bar",
         "x": [
          1993,
          2001,
          2007
         ],
         "xaxis": "x",
         "y": [
          1,
          1,
          1
         ],
         "yaxis": "y"
        },
        {
         "alignmentgroup": "True",
         "hovertemplate": "Club=VSK HUMANITA<br>Year=%{x}<br>count=%{y}<extra></extra>",
         "legendgroup": "VSK HUMANITA",
         "marker": {
          "color": "#FF6692",
          "pattern": {
           "shape": ""
          }
         },
         "name": "VSK HUMANITA",
         "offsetgroup": "VSK HUMANITA",
         "orientation": "v",
         "showlegend": true,
         "textposition": "auto",
         "type": "bar",
         "x": [
          1993,
          1998,
          1999,
          2000
         ],
         "xaxis": "x",
         "y": [
          2,
          1,
          1,
          1
         ],
         "yaxis": "y"
        },
        {
         "alignmentgroup": "True",
         "hovertemplate": "Club=VUT BRNO<br>Year=%{x}<br>count=%{y}<extra></extra>",
         "legendgroup": "VUT BRNO",
         "marker": {
          "color": "#B6E880",
          "pattern": {
           "shape": ""
          }
         },
         "name": "VUT BRNO",
         "offsetgroup": "VUT BRNO",
         "orientation": "v",
         "showlegend": true,
         "textposition": "auto",
         "type": "bar",
         "x": [
          1993,
          1996,
          1999,
          2001
         ],
         "xaxis": "x",
         "y": [
          1,
          1,
          1,
          1
         ],
         "yaxis": "y"
        },
        {
         "alignmentgroup": "True",
         "hovertemplate": "Club=AUT<br>Year=%{x}<br>count=%{y}<extra></extra>",
         "legendgroup": "AUT",
         "marker": {
          "color": "#FF97FF",
          "pattern": {
           "shape": ""
          }
         },
         "name": "AUT",
         "offsetgroup": "AUT",
         "orientation": "v",
         "showlegend": true,
         "textposition": "auto",
         "type": "bar",
         "x": [
          1996
         ],
         "xaxis": "x",
         "y": [
          1
         ],
         "yaxis": "y"
        },
        {
         "alignmentgroup": "True",
         "hovertemplate": "Club=AKADÉMIA ŠERMU BRATISLAVA<br>Year=%{x}<br>count=%{y}<extra></extra>",
         "legendgroup": "AKADÉMIA ŠERMU BRATISLAVA",
         "marker": {
          "color": "#FECB52",
          "pattern": {
           "shape": ""
          }
         },
         "name": "AKADÉMIA ŠERMU BRATISLAVA",
         "offsetgroup": "AKADÉMIA ŠERMU BRATISLAVA",
         "orientation": "v",
         "showlegend": true,
         "textposition": "auto",
         "type": "bar",
         "x": [
          1998
         ],
         "xaxis": "x",
         "y": [
          1
         ],
         "yaxis": "y"
        },
        {
         "alignmentgroup": "True",
         "hovertemplate": "Club=TBILISI<br>Year=%{x}<br>count=%{y}<extra></extra>",
         "legendgroup": "TBILISI",
         "marker": {
          "color": "#636efa",
          "pattern": {
           "shape": ""
          }
         },
         "name": "TBILISI",
         "offsetgroup": "TBILISI",
         "orientation": "v",
         "showlegend": true,
         "textposition": "auto",
         "type": "bar",
         "x": [
          1999
         ],
         "xaxis": "x",
         "y": [
          1
         ],
         "yaxis": "y"
        },
        {
         "alignmentgroup": "True",
         "hovertemplate": "Club=SOKOL PLZEN<br>Year=%{x}<br>count=%{y}<extra></extra>",
         "legendgroup": "SOKOL PLZEN",
         "marker": {
          "color": "#EF553B",
          "pattern": {
           "shape": ""
          }
         },
         "name": "SOKOL PLZEN",
         "offsetgroup": "SOKOL PLZEN",
         "orientation": "v",
         "showlegend": true,
         "textposition": "auto",
         "type": "bar",
         "x": [
          2001,
          2007
         ],
         "xaxis": "x",
         "y": [
          1,
          1
         ],
         "yaxis": "y"
        },
        {
         "alignmentgroup": "True",
         "hovertemplate": "Club=1.FC BELA POD BEZ<br>Year=%{x}<br>count=%{y}<extra></extra>",
         "legendgroup": "1.FC BELA POD BEZ",
         "marker": {
          "color": "#00cc96",
          "pattern": {
           "shape": ""
          }
         },
         "name": "1.FC BELA POD BEZ",
         "offsetgroup": "1.FC BELA POD BEZ",
         "orientation": "v",
         "showlegend": true,
         "textposition": "auto",
         "type": "bar",
         "x": [
          2003,
          2004,
          2005,
          2006
         ],
         "xaxis": "x",
         "y": [
          1,
          1,
          1,
          2
         ],
         "yaxis": "y"
        },
        {
         "alignmentgroup": "True",
         "hovertemplate": "Club=LAŠSSKFZ<br>Year=%{x}<br>count=%{y}<extra></extra>",
         "legendgroup": "LAŠSSKFZ",
         "marker": {
          "color": "#ab63fa",
          "pattern": {
           "shape": ""
          }
         },
         "name": "LAŠSSKFZ",
         "offsetgroup": "LAŠSSKFZ",
         "orientation": "v",
         "showlegend": true,
         "textposition": "auto",
         "type": "bar",
         "x": [
          2004
         ],
         "xaxis": "x",
         "y": [
          1
         ],
         "yaxis": "y"
        },
        {
         "alignmentgroup": "True",
         "hovertemplate": "Club=OREL HR.KR.<br>Year=%{x}<br>count=%{y}<extra></extra>",
         "legendgroup": "OREL HR.KR.",
         "marker": {
          "color": "#FFA15A",
          "pattern": {
           "shape": ""
          }
         },
         "name": "OREL HR.KR.",
         "offsetgroup": "OREL HR.KR.",
         "orientation": "v",
         "showlegend": true,
         "textposition": "auto",
         "type": "bar",
         "x": [
          2004
         ],
         "xaxis": "x",
         "y": [
          1
         ],
         "yaxis": "y"
        },
        {
         "alignmentgroup": "True",
         "hovertemplate": "Club=POL<br>Year=%{x}<br>count=%{y}<extra></extra>",
         "legendgroup": "POL",
         "marker": {
          "color": "#19d3f3",
          "pattern": {
           "shape": ""
          }
         },
         "name": "POL",
         "offsetgroup": "POL",
         "orientation": "v",
         "showlegend": true,
         "textposition": "auto",
         "type": "bar",
         "x": [
          2005
         ],
         "xaxis": "x",
         "y": [
          1
         ],
         "yaxis": "y"
        }
       ],
       "layout": {
        "barmode": "relative",
        "height": 700,
        "legend": {
         "title": {
          "text": "Club"
         },
         "tracegroupgap": 0
        },
        "template": {
         "data": {
          "bar": [
           {
            "error_x": {
             "color": "#2a3f5f"
            },
            "error_y": {
             "color": "#2a3f5f"
            },
            "marker": {
             "line": {
              "color": "#E5ECF6",
              "width": 0.5
             },
             "pattern": {
              "fillmode": "overlay",
              "size": 10,
              "solidity": 0.2
             }
            },
            "type": "bar"
           }
          ],
          "barpolar": [
           {
            "marker": {
             "line": {
              "color": "#E5ECF6",
              "width": 0.5
             },
             "pattern": {
              "fillmode": "overlay",
              "size": 10,
              "solidity": 0.2
             }
            },
            "type": "barpolar"
           }
          ],
          "carpet": [
           {
            "aaxis": {
             "endlinecolor": "#2a3f5f",
             "gridcolor": "white",
             "linecolor": "white",
             "minorgridcolor": "white",
             "startlinecolor": "#2a3f5f"
            },
            "baxis": {
             "endlinecolor": "#2a3f5f",
             "gridcolor": "white",
             "linecolor": "white",
             "minorgridcolor": "white",
             "startlinecolor": "#2a3f5f"
            },
            "type": "carpet"
           }
          ],
          "choropleth": [
           {
            "colorbar": {
             "outlinewidth": 0,
             "ticks": ""
            },
            "type": "choropleth"
           }
          ],
          "contour": [
           {
            "colorbar": {
             "outlinewidth": 0,
             "ticks": ""
            },
            "colorscale": [
             [
              0,
              "#0d0887"
             ],
             [
              0.1111111111111111,
              "#46039f"
             ],
             [
              0.2222222222222222,
              "#7201a8"
             ],
             [
              0.3333333333333333,
              "#9c179e"
             ],
             [
              0.4444444444444444,
              "#bd3786"
             ],
             [
              0.5555555555555556,
              "#d8576b"
             ],
             [
              0.6666666666666666,
              "#ed7953"
             ],
             [
              0.7777777777777778,
              "#fb9f3a"
             ],
             [
              0.8888888888888888,
              "#fdca26"
             ],
             [
              1,
              "#f0f921"
             ]
            ],
            "type": "contour"
           }
          ],
          "contourcarpet": [
           {
            "colorbar": {
             "outlinewidth": 0,
             "ticks": ""
            },
            "type": "contourcarpet"
           }
          ],
          "heatmap": [
           {
            "colorbar": {
             "outlinewidth": 0,
             "ticks": ""
            },
            "colorscale": [
             [
              0,
              "#0d0887"
             ],
             [
              0.1111111111111111,
              "#46039f"
             ],
             [
              0.2222222222222222,
              "#7201a8"
             ],
             [
              0.3333333333333333,
              "#9c179e"
             ],
             [
              0.4444444444444444,
              "#bd3786"
             ],
             [
              0.5555555555555556,
              "#d8576b"
             ],
             [
              0.6666666666666666,
              "#ed7953"
             ],
             [
              0.7777777777777778,
              "#fb9f3a"
             ],
             [
              0.8888888888888888,
              "#fdca26"
             ],
             [
              1,
              "#f0f921"
             ]
            ],
            "type": "heatmap"
           }
          ],
          "heatmapgl": [
           {
            "colorbar": {
             "outlinewidth": 0,
             "ticks": ""
            },
            "colorscale": [
             [
              0,
              "#0d0887"
             ],
             [
              0.1111111111111111,
              "#46039f"
             ],
             [
              0.2222222222222222,
              "#7201a8"
             ],
             [
              0.3333333333333333,
              "#9c179e"
             ],
             [
              0.4444444444444444,
              "#bd3786"
             ],
             [
              0.5555555555555556,
              "#d8576b"
             ],
             [
              0.6666666666666666,
              "#ed7953"
             ],
             [
              0.7777777777777778,
              "#fb9f3a"
             ],
             [
              0.8888888888888888,
              "#fdca26"
             ],
             [
              1,
              "#f0f921"
             ]
            ],
            "type": "heatmapgl"
           }
          ],
          "histogram": [
           {
            "marker": {
             "pattern": {
              "fillmode": "overlay",
              "size": 10,
              "solidity": 0.2
             }
            },
            "type": "histogram"
           }
          ],
          "histogram2d": [
           {
            "colorbar": {
             "outlinewidth": 0,
             "ticks": ""
            },
            "colorscale": [
             [
              0,
              "#0d0887"
             ],
             [
              0.1111111111111111,
              "#46039f"
             ],
             [
              0.2222222222222222,
              "#7201a8"
             ],
             [
              0.3333333333333333,
              "#9c179e"
             ],
             [
              0.4444444444444444,
              "#bd3786"
             ],
             [
              0.5555555555555556,
              "#d8576b"
             ],
             [
              0.6666666666666666,
              "#ed7953"
             ],
             [
              0.7777777777777778,
              "#fb9f3a"
             ],
             [
              0.8888888888888888,
              "#fdca26"
             ],
             [
              1,
              "#f0f921"
             ]
            ],
            "type": "histogram2d"
           }
          ],
          "histogram2dcontour": [
           {
            "colorbar": {
             "outlinewidth": 0,
             "ticks": ""
            },
            "colorscale": [
             [
              0,
              "#0d0887"
             ],
             [
              0.1111111111111111,
              "#46039f"
             ],
             [
              0.2222222222222222,
              "#7201a8"
             ],
             [
              0.3333333333333333,
              "#9c179e"
             ],
             [
              0.4444444444444444,
              "#bd3786"
             ],
             [
              0.5555555555555556,
              "#d8576b"
             ],
             [
              0.6666666666666666,
              "#ed7953"
             ],
             [
              0.7777777777777778,
              "#fb9f3a"
             ],
             [
              0.8888888888888888,
              "#fdca26"
             ],
             [
              1,
              "#f0f921"
             ]
            ],
            "type": "histogram2dcontour"
           }
          ],
          "mesh3d": [
           {
            "colorbar": {
             "outlinewidth": 0,
             "ticks": ""
            },
            "type": "mesh3d"
           }
          ],
          "parcoords": [
           {
            "line": {
             "colorbar": {
              "outlinewidth": 0,
              "ticks": ""
             }
            },
            "type": "parcoords"
           }
          ],
          "pie": [
           {
            "automargin": true,
            "type": "pie"
           }
          ],
          "scatter": [
           {
            "marker": {
             "colorbar": {
              "outlinewidth": 0,
              "ticks": ""
             }
            },
            "type": "scatter"
           }
          ],
          "scatter3d": [
           {
            "line": {
             "colorbar": {
              "outlinewidth": 0,
              "ticks": ""
             }
            },
            "marker": {
             "colorbar": {
              "outlinewidth": 0,
              "ticks": ""
             }
            },
            "type": "scatter3d"
           }
          ],
          "scattercarpet": [
           {
            "marker": {
             "colorbar": {
              "outlinewidth": 0,
              "ticks": ""
             }
            },
            "type": "scattercarpet"
           }
          ],
          "scattergeo": [
           {
            "marker": {
             "colorbar": {
              "outlinewidth": 0,
              "ticks": ""
             }
            },
            "type": "scattergeo"
           }
          ],
          "scattergl": [
           {
            "marker": {
             "colorbar": {
              "outlinewidth": 0,
              "ticks": ""
             }
            },
            "type": "scattergl"
           }
          ],
          "scattermapbox": [
           {
            "marker": {
             "colorbar": {
              "outlinewidth": 0,
              "ticks": ""
             }
            },
            "type": "scattermapbox"
           }
          ],
          "scatterpolar": [
           {
            "marker": {
             "colorbar": {
              "outlinewidth": 0,
              "ticks": ""
             }
            },
            "type": "scatterpolar"
           }
          ],
          "scatterpolargl": [
           {
            "marker": {
             "colorbar": {
              "outlinewidth": 0,
              "ticks": ""
             }
            },
            "type": "scatterpolargl"
           }
          ],
          "scatterternary": [
           {
            "marker": {
             "colorbar": {
              "outlinewidth": 0,
              "ticks": ""
             }
            },
            "type": "scatterternary"
           }
          ],
          "surface": [
           {
            "colorbar": {
             "outlinewidth": 0,
             "ticks": ""
            },
            "colorscale": [
             [
              0,
              "#0d0887"
             ],
             [
              0.1111111111111111,
              "#46039f"
             ],
             [
              0.2222222222222222,
              "#7201a8"
             ],
             [
              0.3333333333333333,
              "#9c179e"
             ],
             [
              0.4444444444444444,
              "#bd3786"
             ],
             [
              0.5555555555555556,
              "#d8576b"
             ],
             [
              0.6666666666666666,
              "#ed7953"
             ],
             [
              0.7777777777777778,
              "#fb9f3a"
             ],
             [
              0.8888888888888888,
              "#fdca26"
             ],
             [
              1,
              "#f0f921"
             ]
            ],
            "type": "surface"
           }
          ],
          "table": [
           {
            "cells": {
             "fill": {
              "color": "#EBF0F8"
             },
             "line": {
              "color": "white"
             }
            },
            "header": {
             "fill": {
              "color": "#C8D4E3"
             },
             "line": {
              "color": "white"
             }
            },
            "type": "table"
           }
          ]
         },
         "layout": {
          "annotationdefaults": {
           "arrowcolor": "#2a3f5f",
           "arrowhead": 0,
           "arrowwidth": 1
          },
          "autotypenumbers": "strict",
          "coloraxis": {
           "colorbar": {
            "outlinewidth": 0,
            "ticks": ""
           }
          },
          "colorscale": {
           "diverging": [
            [
             0,
             "#8e0152"
            ],
            [
             0.1,
             "#c51b7d"
            ],
            [
             0.2,
             "#de77ae"
            ],
            [
             0.3,
             "#f1b6da"
            ],
            [
             0.4,
             "#fde0ef"
            ],
            [
             0.5,
             "#f7f7f7"
            ],
            [
             0.6,
             "#e6f5d0"
            ],
            [
             0.7,
             "#b8e186"
            ],
            [
             0.8,
             "#7fbc41"
            ],
            [
             0.9,
             "#4d9221"
            ],
            [
             1,
             "#276419"
            ]
           ],
           "sequential": [
            [
             0,
             "#0d0887"
            ],
            [
             0.1111111111111111,
             "#46039f"
            ],
            [
             0.2222222222222222,
             "#7201a8"
            ],
            [
             0.3333333333333333,
             "#9c179e"
            ],
            [
             0.4444444444444444,
             "#bd3786"
            ],
            [
             0.5555555555555556,
             "#d8576b"
            ],
            [
             0.6666666666666666,
             "#ed7953"
            ],
            [
             0.7777777777777778,
             "#fb9f3a"
            ],
            [
             0.8888888888888888,
             "#fdca26"
            ],
            [
             1,
             "#f0f921"
            ]
           ],
           "sequentialminus": [
            [
             0,
             "#0d0887"
            ],
            [
             0.1111111111111111,
             "#46039f"
            ],
            [
             0.2222222222222222,
             "#7201a8"
            ],
            [
             0.3333333333333333,
             "#9c179e"
            ],
            [
             0.4444444444444444,
             "#bd3786"
            ],
            [
             0.5555555555555556,
             "#d8576b"
            ],
            [
             0.6666666666666666,
             "#ed7953"
            ],
            [
             0.7777777777777778,
             "#fb9f3a"
            ],
            [
             0.8888888888888888,
             "#fdca26"
            ],
            [
             1,
             "#f0f921"
            ]
           ]
          },
          "colorway": [
           "#636efa",
           "#EF553B",
           "#00cc96",
           "#ab63fa",
           "#FFA15A",
           "#19d3f3",
           "#FF6692",
           "#B6E880",
           "#FF97FF",
           "#FECB52"
          ],
          "font": {
           "color": "#2a3f5f"
          },
          "geo": {
           "bgcolor": "white",
           "lakecolor": "white",
           "landcolor": "#E5ECF6",
           "showlakes": true,
           "showland": true,
           "subunitcolor": "white"
          },
          "hoverlabel": {
           "align": "left"
          },
          "hovermode": "closest",
          "mapbox": {
           "style": "light"
          },
          "paper_bgcolor": "white",
          "plot_bgcolor": "#E5ECF6",
          "polar": {
           "angularaxis": {
            "gridcolor": "white",
            "linecolor": "white",
            "ticks": ""
           },
           "bgcolor": "#E5ECF6",
           "radialaxis": {
            "gridcolor": "white",
            "linecolor": "white",
            "ticks": ""
           }
          },
          "scene": {
           "xaxis": {
            "backgroundcolor": "#E5ECF6",
            "gridcolor": "white",
            "gridwidth": 2,
            "linecolor": "white",
            "showbackground": true,
            "ticks": "",
            "zerolinecolor": "white"
           },
           "yaxis": {
            "backgroundcolor": "#E5ECF6",
            "gridcolor": "white",
            "gridwidth": 2,
            "linecolor": "white",
            "showbackground": true,
            "ticks": "",
            "zerolinecolor": "white"
           },
           "zaxis": {
            "backgroundcolor": "#E5ECF6",
            "gridcolor": "white",
            "gridwidth": 2,
            "linecolor": "white",
            "showbackground": true,
            "ticks": "",
            "zerolinecolor": "white"
           }
          },
          "shapedefaults": {
           "line": {
            "color": "#2a3f5f"
           }
          },
          "ternary": {
           "aaxis": {
            "gridcolor": "white",
            "linecolor": "white",
            "ticks": ""
           },
           "baxis": {
            "gridcolor": "white",
            "linecolor": "white",
            "ticks": ""
           },
           "bgcolor": "#E5ECF6",
           "caxis": {
            "gridcolor": "white",
            "linecolor": "white",
            "ticks": ""
           }
          },
          "title": {
           "x": 0.05
          },
          "xaxis": {
           "automargin": true,
           "gridcolor": "white",
           "linecolor": "white",
           "ticks": "",
           "title": {
            "standoff": 15
           },
           "zerolinecolor": "white",
           "zerolinewidth": 2
          },
          "yaxis": {
           "automargin": true,
           "gridcolor": "white",
           "linecolor": "white",
           "ticks": "",
           "title": {
            "standoff": 15
           },
           "zerolinecolor": "white",
           "zerolinewidth": 2
          }
         }
        },
        "title": {
         "text": "Závodníci podle roku narození a Klubu"
        },
        "width": 950,
        "xaxis": {
         "anchor": "y",
         "autorange": true,
         "domain": [
          0,
          1
         ],
         "range": [
          1949.5,
          2008.5
         ],
         "tickangle": -90,
         "tickvals": [
          1950,
          1956,
          1957,
          1957,
          1961,
          1962,
          1966,
          1967,
          1967,
          1968,
          1970,
          1971,
          1971,
          1972,
          1972,
          1973,
          1973,
          1974,
          1974,
          1975,
          1975,
          1975,
          1976,
          1977,
          1978,
          1978,
          1978,
          1980,
          1981,
          1982,
          1982,
          1982,
          1982,
          1982,
          1983,
          1983,
          1984,
          1984,
          1986,
          1988,
          1988,
          1988,
          1989,
          1989,
          1990,
          1990,
          1991,
          1991,
          1991,
          1991,
          1991,
          1991,
          1992,
          1992,
          1992,
          1993,
          1993,
          1993,
          1993,
          1993,
          1993,
          1993,
          1994,
          1994,
          1994,
          1995,
          1996,
          1996,
          1996,
          1996,
          1996,
          1996,
          1997,
          1997,
          1997,
          1997,
          1997,
          1998,
          1998,
          1998,
          1998,
          1998,
          1998,
          1998,
          1999,
          1999,
          1999,
          1999,
          1999,
          2000,
          2000,
          2000,
          2000,
          2001,
          2001,
          2001,
          2001,
          2001,
          2001,
          2001,
          2001,
          2001,
          2001,
          2002,
          2002,
          2002,
          2002,
          2002,
          2002,
          2003,
          2003,
          2003,
          2003,
          2003,
          2003,
          2003,
          2004,
          2004,
          2004,
          2004,
          2004,
          2004,
          2004,
          2004,
          2004,
          2005,
          2005,
          2005,
          2005,
          2005,
          2005,
          2005,
          2005,
          2006,
          2006,
          2006,
          2006,
          2006,
          2007,
          2007,
          2007,
          2007,
          2008
         ],
         "title": {
          "text": "Year"
         },
         "type": "linear"
        },
        "yaxis": {
         "anchor": "x",
         "autorange": true,
         "domain": [
          0,
          1
         ],
         "range": [
          0,
          12.631578947368421
         ],
         "title": {
          "text": "count"
         },
         "type": "linear"
        }
       }
      },
      "image/png": "[encoded data removed]",
      "text/html": [
       "<div>                            <div id=\"af87bc8a-540c-44ec-9855-dcaa5d7bf1ea\" class=\"plotly-graph-div\" style=\"height:700px; width:950px;\"></div>            <script type=\"text/javascript\">                require([\"plotly\"], function(Plotly) {                    window.PLOTLYENV=window.PLOTLYENV || {};                                    if (document.getElementById(\"af87bc8a-540c-44ec-9855-dcaa5d7bf1ea\")) {                    Plotly.newPlot(                        \"af87bc8a-540c-44ec-9855-dcaa5d7bf1ea\",                        [{\"alignmentgroup\":\"True\",\"hovertemplate\":\"Club=SOKOL DEJVICE<br>Year=%{x}<br>count=%{y}<extra></extra>\",\"legendgroup\":\"SOKOL DEJVICE\",\"marker\":{\"color\":\"#636efa\",\"pattern\":{\"shape\":\"\"}},\"name\":\"SOKOL DEJVICE\",\"offsetgroup\":\"SOKOL DEJVICE\",\"orientation\":\"v\",\"showlegend\":true,\"textposition\":\"auto\",\"x\":[1950,1978,1988,1993,1997,2006],\"xaxis\":\"x\",\"y\":[1,1,1,1,1,2],\"yaxis\":\"y\",\"type\":\"bar\"},{\"alignmentgroup\":\"True\",\"hovertemplate\":\"Club=SC PRAHA<br>Year=%{x}<br>count=%{y}<extra></extra>\",\"legendgroup\":\"SC PRAHA\",\"marker\":{\"color\":\"#EF553B\",\"pattern\":{\"shape\":\"\"}},\"name\":\"SC PRAHA\",\"offsetgroup\":\"SC PRAHA\",\"orientation\":\"v\",\"showlegend\":true,\"textposition\":\"auto\",\"x\":[1956,1962,1975,1982,1983,1988,1991,1992,1993,1995,1997,1998,2000,2001,2002,2003,2004,2005,2006,2007,2008],\"xaxis\":\"x\",\"y\":[1,1,1,1,2,1,1,1,2,1,1,1,1,2,1,3,3,1,2,2,1],\"yaxis\":\"y\",\"type\":\"bar\"},{\"alignmentgroup\":\"True\",\"hovertemplate\":\"Club=USK PRAHA<br>Year=%{x}<br>count=%{y}<extra></extra>\",\"legendgroup\":\"USK PRAHA\",\"marker\":{\"color\":\"#00cc96\",\"pattern\":{\"shape\":\"\"}},\"name\":\"USK PRAHA\",\"offsetgroup\":\"USK PRAHA\",\"orientation\":\"v\",\"showlegend\":true,\"textposition\":\"auto\",\"x\":[1957,1967,1975,1996,1998,2001,2004,2005],\"xaxis\":\"x\",\"y\":[1,1,1,1,2,2,2,1],\"yaxis\":\"y\",\"type\":\"bar\"},{\"alignmentgroup\":\"True\",\"hovertemplate\":\"Club=\\u0160ERM MASTERS<br>Year=%{x}<br>count=%{y}<extra></extra>\",\"legendgroup\":\"\\u0160ERM MASTERS\",\"marker\":{\"color\":\"#ab63fa\",\"pattern\":{\"shape\":\"\"}},\"name\":\"\\u0160ERM MASTERS\",\"offsetgroup\":\"\\u0160ERM MASTERS\",\"orientation\":\"v\",\"showlegend\":true,\"textposition\":\"auto\",\"x\":[1957,1994,2003],\"xaxis\":\"x\",\"y\":[1,1,1],\"yaxis\":\"y\",\"type\":\"bar\"},{\"alignmentgroup\":\"True\",\"hovertemplate\":\"Club=VSK \\u010cVUT<br>Year=%{x}<br>count=%{y}<extra></extra>\",\"legendgroup\":\"VSK \\u010cVUT\",\"marker\":{\"color\":\"#FFA15A\",\"pattern\":{\"shape\":\"\"}},\"name\":\"VSK \\u010cVUT\",\"offsetgroup\":\"VSK \\u010cVUT\",\"orientation\":\"v\",\"showlegend\":true,\"textposition\":\"auto\",\"x\":[1961,2005],\"xaxis\":\"x\",\"y\":[1,1],\"yaxis\":\"y\",\"type\":\"bar\"},{\"alignmentgroup\":\"True\",\"hovertemplate\":\"Club=S.BRNO I<br>Year=%{x}<br>count=%{y}<extra></extra>\",\"legendgroup\":\"S.BRNO I\",\"marker\":{\"color\":\"#19d3f3\",\"pattern\":{\"shape\":\"\"}},\"name\":\"S.BRNO I\",\"offsetgroup\":\"S.BRNO I\",\"orientation\":\"v\",\"showlegend\":true,\"textposition\":\"auto\",\"x\":[1966,1990],\"xaxis\":\"x\",\"y\":[1,1],\"yaxis\":\"y\",\"type\":\"bar\"},{\"alignmentgroup\":\"True\",\"hovertemplate\":\"Club=TJ SLOVAN HORKY<br>Year=%{x}<br>count=%{y}<extra></extra>\",\"legendgroup\":\"TJ SLOVAN HORKY\",\"marker\":{\"color\":\"#FF6692\",\"pattern\":{\"shape\":\"\"}},\"name\":\"TJ SLOVAN HORKY\",\"offsetgroup\":\"TJ SLOVAN HORKY\",\"orientation\":\"v\",\"showlegend\":true,\"textposition\":\"auto\",\"x\":[1967],\"xaxis\":\"x\",\"y\":[1],\"yaxis\":\"y\",\"type\":\"bar\"},{\"alignmentgroup\":\"True\",\"hovertemplate\":\"Club=TJ LOKO PLZEN<br>Year=%{x}<br>count=%{y}<extra></extra>\",\"legendgroup\":\"TJ LOKO PLZEN\",\"marker\":{\"color\":\"#B6E880\",\"pattern\":{\"shape\":\"\"}},\"name\":\"TJ LOKO PLZEN\",\"offsetgroup\":\"TJ LOKO PLZEN\",\"orientation\":\"v\",\"showlegend\":true,\"textposition\":\"auto\",\"x\":[1968,1982,1984,2002,2004,2005],\"xaxis\":\"x\",\"y\":[1,1,1,1,1,2],\"yaxis\":\"y\",\"type\":\"bar\"},{\"alignmentgroup\":\"True\",\"hovertemplate\":\"Club=TJ LOKO K.VARY<br>Year=%{x}<br>count=%{y}<extra></extra>\",\"legendgroup\":\"TJ LOKO K.VARY\",\"marker\":{\"color\":\"#FF97FF\",\"pattern\":{\"shape\":\"\"}},\"name\":\"TJ LOKO K.VARY\",\"offsetgroup\":\"TJ LOKO K.VARY\",\"orientation\":\"v\",\"showlegend\":true,\"textposition\":\"auto\",\"x\":[1970,1974,1981,1982,1991,1996,2001,2002],\"xaxis\":\"x\",\"y\":[1,1,1,1,1,1,1,1],\"yaxis\":\"y\",\"type\":\"bar\"},{\"alignmentgroup\":\"True\",\"hovertemplate\":\"Club=DUKLA OLOMOUC<br>Year=%{x}<br>count=%{y}<extra></extra>\",\"legendgroup\":\"DUKLA OLOMOUC\",\"marker\":{\"color\":\"#FECB52\",\"pattern\":{\"shape\":\"\"}},\"name\":\"DUKLA OLOMOUC\",\"offsetgroup\":\"DUKLA OLOMOUC\",\"orientation\":\"v\",\"showlegend\":true,\"textposition\":\"auto\",\"x\":[1971,1983,1986,1989,1997,1999,2000,2002,2003,2004,2005],\"xaxis\":\"x\",\"y\":[2,1,1,1,1,2,2,1,1,1,2],\"yaxis\":\"y\",\"type\":\"bar\"},{\"alignmentgroup\":\"True\",\"hovertemplate\":\"Club=TJ DUKLA PRAHA<br>Year=%{x}<br>count=%{y}<extra></extra>\",\"legendgroup\":\"TJ DUKLA PRAHA\",\"marker\":{\"color\":\"#636efa\",\"pattern\":{\"shape\":\"\"}},\"name\":\"TJ DUKLA PRAHA\",\"offsetgroup\":\"TJ DUKLA PRAHA\",\"orientation\":\"v\",\"showlegend\":true,\"textposition\":\"auto\",\"x\":[1971,1980,1991,1993,1994,2001,2002,2003],\"xaxis\":\"x\",\"y\":[1,1,2,1,1,1,4,3],\"yaxis\":\"y\",\"type\":\"bar\"},{\"alignmentgroup\":\"True\",\"hovertemplate\":\"Club=TJ LOKO TEPLICE<br>Year=%{x}<br>count=%{y}<extra></extra>\",\"legendgroup\":\"TJ LOKO TEPLICE\",\"marker\":{\"color\":\"#EF553B\",\"pattern\":{\"shape\":\"\"}},\"name\":\"TJ LOKO TEPLICE\",\"offsetgroup\":\"TJ LOKO TEPLICE\",\"orientation\":\"v\",\"showlegend\":true,\"textposition\":\"auto\",\"x\":[1972,1998,2004,2005,2006],\"xaxis\":\"x\",\"y\":[1,1,1,1,2],\"yaxis\":\"y\",\"type\":\"bar\"},{\"alignmentgroup\":\"True\",\"hovertemplate\":\"Club=\\u0160ERM LIBEREC<br>Year=%{x}<br>count=%{y}<extra></extra>\",\"legendgroup\":\"\\u0160ERM LIBEREC\",\"marker\":{\"color\":\"#00cc96\",\"pattern\":{\"shape\":\"\"}},\"name\":\"\\u0160ERM LIBEREC\",\"offsetgroup\":\"\\u0160ERM LIBEREC\",\"orientation\":\"v\",\"showlegend\":true,\"textposition\":\"auto\",\"x\":[1972,1974,1978,1996,2001,2004,2006,2007],\"xaxis\":\"x\",\"y\":[1,1,1,1,1,1,1,1],\"yaxis\":\"y\",\"type\":\"bar\"},{\"alignmentgroup\":\"True\",\"hovertemplate\":\"Club=SILNI BEOGRAD<br>Year=%{x}<br>count=%{y}<extra></extra>\",\"legendgroup\":\"SILNI BEOGRAD\",\"marker\":{\"color\":\"#ab63fa\",\"pattern\":{\"shape\":\"\"}},\"name\":\"SILNI BEOGRAD\",\"offsetgroup\":\"SILNI BEOGRAD\",\"orientation\":\"v\",\"showlegend\":true,\"textposition\":\"auto\",\"x\":[1973],\"xaxis\":\"x\",\"y\":[1],\"yaxis\":\"y\",\"type\":\"bar\"},{\"alignmentgroup\":\"True\",\"hovertemplate\":\"Club=S\\u010c USTI NAD LABEM<br>Year=%{x}<br>count=%{y}<extra></extra>\",\"legendgroup\":\"S\\u010c USTI NAD LABEM\",\"marker\":{\"color\":\"#FFA15A\",\"pattern\":{\"shape\":\"\"}},\"name\":\"S\\u010c USTI NAD LABEM\",\"offsetgroup\":\"S\\u010c USTI NAD LABEM\",\"orientation\":\"v\",\"showlegend\":true,\"textposition\":\"auto\",\"x\":[1973,1991,1999,2001,2002],\"xaxis\":\"x\",\"y\":[2,1,1,1,1],\"yaxis\":\"y\",\"type\":\"bar\"},{\"alignmentgroup\":\"True\",\"hovertemplate\":\"Club=RIEGEL PRAHA<br>Year=%{x}<br>count=%{y}<extra></extra>\",\"legendgroup\":\"RIEGEL PRAHA\",\"marker\":{\"color\":\"#19d3f3\",\"pattern\":{\"shape\":\"\"}},\"name\":\"RIEGEL PRAHA\",\"offsetgroup\":\"RIEGEL PRAHA\",\"orientation\":\"v\",\"showlegend\":true,\"textposition\":\"auto\",\"x\":[1975,1977,1990,2003],\"xaxis\":\"x\",\"y\":[1,1,1,1],\"yaxis\":\"y\",\"type\":\"bar\"},{\"alignmentgroup\":\"True\",\"hovertemplate\":\"Club=SLAVOJ \\u010c.T\\u011a\\u0160\\u00cdN<br>Year=%{x}<br>count=%{y}<extra></extra>\",\"legendgroup\":\"SLAVOJ \\u010c.T\\u011a\\u0160\\u00cdN\",\"marker\":{\"color\":\"#FF6692\",\"pattern\":{\"shape\":\"\"}},\"name\":\"SLAVOJ \\u010c.T\\u011a\\u0160\\u00cdN\",\"offsetgroup\":\"SLAVOJ \\u010c.T\\u011a\\u0160\\u00cdN\",\"orientation\":\"v\",\"showlegend\":true,\"textposition\":\"auto\",\"x\":[1976],\"xaxis\":\"x\",\"y\":[1],\"yaxis\":\"y\",\"type\":\"bar\"},{\"alignmentgroup\":\"True\",\"hovertemplate\":\"Club=EKONOM PRAHA<br>Year=%{x}<br>count=%{y}<extra></extra>\",\"legendgroup\":\"EKONOM PRAHA\",\"marker\":{\"color\":\"#B6E880\",\"pattern\":{\"shape\":\"\"}},\"name\":\"EKONOM PRAHA\",\"offsetgroup\":\"EKONOM PRAHA\",\"orientation\":\"v\",\"showlegend\":true,\"textposition\":\"auto\",\"x\":[1978,1991,1993,1996,1997],\"xaxis\":\"x\",\"y\":[2,1,1,2,1],\"yaxis\":\"y\",\"type\":\"bar\"},{\"alignmentgroup\":\"True\",\"hovertemplate\":\"Club=BSK MARTINENGO<br>Year=%{x}<br>count=%{y}<extra></extra>\",\"legendgroup\":\"BSK MARTINENGO\",\"marker\":{\"color\":\"#FF97FF\",\"pattern\":{\"shape\":\"\"}},\"name\":\"BSK MARTINENGO\",\"offsetgroup\":\"BSK MARTINENGO\",\"orientation\":\"v\",\"showlegend\":true,\"textposition\":\"auto\",\"x\":[1982,1997],\"xaxis\":\"x\",\"y\":[1,1],\"yaxis\":\"y\",\"type\":\"bar\"},{\"alignmentgroup\":\"True\",\"hovertemplate\":\"Club=SP.\\u0160. T\\u00c1BOR<br>Year=%{x}<br>count=%{y}<extra></extra>\",\"legendgroup\":\"SP.\\u0160. T\\u00c1BOR\",\"marker\":{\"color\":\"#FECB52\",\"pattern\":{\"shape\":\"\"}},\"name\":\"SP.\\u0160. T\\u00c1BOR\",\"offsetgroup\":\"SP.\\u0160. T\\u00c1BOR\",\"orientation\":\"v\",\"showlegend\":true,\"textposition\":\"auto\",\"x\":[1982,1998,2003],\"xaxis\":\"x\",\"y\":[1,1,1],\"yaxis\":\"y\",\"type\":\"bar\"},{\"alignmentgroup\":\"True\",\"hovertemplate\":\"Club=SS UH.HRADISTE<br>Year=%{x}<br>count=%{y}<extra></extra>\",\"legendgroup\":\"SS UH.HRADISTE\",\"marker\":{\"color\":\"#636efa\",\"pattern\":{\"shape\":\"\"}},\"name\":\"SS UH.HRADISTE\",\"offsetgroup\":\"SS UH.HRADISTE\",\"orientation\":\"v\",\"showlegend\":true,\"textposition\":\"auto\",\"x\":[1984,1988],\"xaxis\":\"x\",\"y\":[2,1],\"yaxis\":\"y\",\"type\":\"bar\"},{\"alignmentgroup\":\"True\",\"hovertemplate\":\"Club=DYNAMO U\\u017dHOROD<br>Year=%{x}<br>count=%{y}<extra></extra>\",\"legendgroup\":\"DYNAMO U\\u017dHOROD\",\"marker\":{\"color\":\"#EF553B\",\"pattern\":{\"shape\":\"\"}},\"name\":\"DYNAMO U\\u017dHOROD\",\"offsetgroup\":\"DYNAMO U\\u017dHOROD\",\"orientation\":\"v\",\"showlegend\":true,\"textposition\":\"auto\",\"x\":[1989],\"xaxis\":\"x\",\"y\":[1],\"yaxis\":\"y\",\"type\":\"bar\"},{\"alignmentgroup\":\"True\",\"hovertemplate\":\"Club=SLAVOJ LITOMERICE<br>Year=%{x}<br>count=%{y}<extra></extra>\",\"legendgroup\":\"SLAVOJ LITOMERICE\",\"marker\":{\"color\":\"#00cc96\",\"pattern\":{\"shape\":\"\"}},\"name\":\"SLAVOJ LITOMERICE\",\"offsetgroup\":\"SLAVOJ LITOMERICE\",\"orientation\":\"v\",\"showlegend\":true,\"textposition\":\"auto\",\"x\":[1991,1998,2001],\"xaxis\":\"x\",\"y\":[1,1,1],\"yaxis\":\"y\",\"type\":\"bar\"},{\"alignmentgroup\":\"True\",\"hovertemplate\":\"Club=BA MPC<br>Year=%{x}<br>count=%{y}<extra></extra>\",\"legendgroup\":\"BA MPC\",\"marker\":{\"color\":\"#ab63fa\",\"pattern\":{\"shape\":\"\"}},\"name\":\"BA MPC\",\"offsetgroup\":\"BA MPC\",\"orientation\":\"v\",\"showlegend\":true,\"textposition\":\"auto\",\"x\":[1992],\"xaxis\":\"x\",\"y\":[1],\"yaxis\":\"y\",\"type\":\"bar\"},{\"alignmentgroup\":\"True\",\"hovertemplate\":\"Club=SPOR\\u0160ZZ<br>Year=%{x}<br>count=%{y}<extra></extra>\",\"legendgroup\":\"SPOR\\u0160ZZ\",\"marker\":{\"color\":\"#FFA15A\",\"pattern\":{\"shape\":\"\"}},\"name\":\"SPOR\\u0160ZZ\",\"offsetgroup\":\"SPOR\\u0160ZZ\",\"orientation\":\"v\",\"showlegend\":true,\"textposition\":\"auto\",\"x\":[1992,1994,2000],\"xaxis\":\"x\",\"y\":[1,1,1],\"yaxis\":\"y\",\"type\":\"bar\"},{\"alignmentgroup\":\"True\",\"hovertemplate\":\"Club=TJ SOKOL PISEK<br>Year=%{x}<br>count=%{y}<extra></extra>\",\"legendgroup\":\"TJ SOKOL PISEK\",\"marker\":{\"color\":\"#19d3f3\",\"pattern\":{\"shape\":\"\"}},\"name\":\"TJ SOKOL PISEK\",\"offsetgroup\":\"TJ SOKOL PISEK\",\"orientation\":\"v\",\"showlegend\":true,\"textposition\":\"auto\",\"x\":[1993,2001,2007],\"xaxis\":\"x\",\"y\":[1,1,1],\"yaxis\":\"y\",\"type\":\"bar\"},{\"alignmentgroup\":\"True\",\"hovertemplate\":\"Club=VSK HUMANITA<br>Year=%{x}<br>count=%{y}<extra></extra>\",\"legendgroup\":\"VSK HUMANITA\",\"marker\":{\"color\":\"#FF6692\",\"pattern\":{\"shape\":\"\"}},\"name\":\"VSK HUMANITA\",\"offsetgroup\":\"VSK HUMANITA\",\"orientation\":\"v\",\"showlegend\":true,\"textposition\":\"auto\",\"x\":[1993,1998,1999,2000],\"xaxis\":\"x\",\"y\":[2,1,1,1],\"yaxis\":\"y\",\"type\":\"bar\"},{\"alignmentgroup\":\"True\",\"hovertemplate\":\"Club=VUT BRNO<br>Year=%{x}<br>count=%{y}<extra></extra>\",\"legendgroup\":\"VUT BRNO\",\"marker\":{\"color\":\"#B6E880\",\"pattern\":{\"shape\":\"\"}},\"name\":\"VUT BRNO\",\"offsetgroup\":\"VUT BRNO\",\"orientation\":\"v\",\"showlegend\":true,\"textposition\":\"auto\",\"x\":[1993,1996,1999,2001],\"xaxis\":\"x\",\"y\":[1,1,1,1],\"yaxis\":\"y\",\"type\":\"bar\"},{\"alignmentgroup\":\"True\",\"hovertemplate\":\"Club=AUT<br>Year=%{x}<br>count=%{y}<extra></extra>\",\"legendgroup\":\"AUT\",\"marker\":{\"color\":\"#FF97FF\",\"pattern\":{\"shape\":\"\"}},\"name\":\"AUT\",\"offsetgroup\":\"AUT\",\"orientation\":\"v\",\"showlegend\":true,\"textposition\":\"auto\",\"x\":[1996],\"xaxis\":\"x\",\"y\":[1],\"yaxis\":\"y\",\"type\":\"bar\"},{\"alignmentgroup\":\"True\",\"hovertemplate\":\"Club=AKAD\\u00c9MIA \\u0160ERMU BRATISLAVA<br>Year=%{x}<br>count=%{y}<extra></extra>\",\"legendgroup\":\"AKAD\\u00c9MIA \\u0160ERMU BRATISLAVA\",\"marker\":{\"color\":\"#FECB52\",\"pattern\":{\"shape\":\"\"}},\"name\":\"AKAD\\u00c9MIA \\u0160ERMU BRATISLAVA\",\"offsetgroup\":\"AKAD\\u00c9MIA \\u0160ERMU BRATISLAVA\",\"orientation\":\"v\",\"showlegend\":true,\"textposition\":\"auto\",\"x\":[1998],\"xaxis\":\"x\",\"y\":[1],\"yaxis\":\"y\",\"type\":\"bar\"},{\"alignmentgroup\":\"True\",\"hovertemplate\":\"Club=TBILISI<br>Year=%{x}<br>count=%{y}<extra></extra>\",\"legendgroup\":\"TBILISI\",\"marker\":{\"color\":\"#636efa\",\"pattern\":{\"shape\":\"\"}},\"name\":\"TBILISI\",\"offsetgroup\":\"TBILISI\",\"orientation\":\"v\",\"showlegend\":true,\"textposition\":\"auto\",\"x\":[1999],\"xaxis\":\"x\",\"y\":[1],\"yaxis\":\"y\",\"type\":\"bar\"},{\"alignmentgroup\":\"True\",\"hovertemplate\":\"Club=SOKOL PLZEN<br>Year=%{x}<br>count=%{y}<extra></extra>\",\"legendgroup\":\"SOKOL PLZEN\",\"marker\":{\"color\":\"#EF553B\",\"pattern\":{\"shape\":\"\"}},\"name\":\"SOKOL PLZEN\",\"offsetgroup\":\"SOKOL PLZEN\",\"orientation\":\"v\",\"showlegend\":true,\"textposition\":\"auto\",\"x\":[2001,2007],\"xaxis\":\"x\",\"y\":[1,1],\"yaxis\":\"y\",\"type\":\"bar\"},{\"alignmentgroup\":\"True\",\"hovertemplate\":\"Club=1.FC BELA POD BEZ<br>Year=%{x}<br>count=%{y}<extra></extra>\",\"legendgroup\":\"1.FC BELA POD BEZ\",\"marker\":{\"color\":\"#00cc96\",\"pattern\":{\"shape\":\"\"}},\"name\":\"1.FC BELA POD BEZ\",\"offsetgroup\":\"1.FC BELA POD BEZ\",\"orientation\":\"v\",\"showlegend\":true,\"textposition\":\"auto\",\"x\":[2003,2004,2005,2006],\"xaxis\":\"x\",\"y\":[1,1,1,2],\"yaxis\":\"y\",\"type\":\"bar\"},{\"alignmentgroup\":\"True\",\"hovertemplate\":\"Club=LA\\u0160SSKFZ<br>Year=%{x}<br>count=%{y}<extra></extra>\",\"legendgroup\":\"LA\\u0160SSKFZ\",\"marker\":{\"color\":\"#ab63fa\",\"pattern\":{\"shape\":\"\"}},\"name\":\"LA\\u0160SSKFZ\",\"offsetgroup\":\"LA\\u0160SSKFZ\",\"orientation\":\"v\",\"showlegend\":true,\"textposition\":\"auto\",\"x\":[2004],\"xaxis\":\"x\",\"y\":[1],\"yaxis\":\"y\",\"type\":\"bar\"},{\"alignmentgroup\":\"True\",\"hovertemplate\":\"Club=OREL HR.KR.<br>Year=%{x}<br>count=%{y}<extra></extra>\",\"legendgroup\":\"OREL HR.KR.\",\"marker\":{\"color\":\"#FFA15A\",\"pattern\":{\"shape\":\"\"}},\"name\":\"OREL HR.KR.\",\"offsetgroup\":\"OREL HR.KR.\",\"orientation\":\"v\",\"showlegend\":true,\"textposition\":\"auto\",\"x\":[2004],\"xaxis\":\"x\",\"y\":[1],\"yaxis\":\"y\",\"type\":\"bar\"},{\"alignmentgroup\":\"True\",\"hovertemplate\":\"Club=POL<br>Year=%{x}<br>count=%{y}<extra></extra>\",\"legendgroup\":\"POL\",\"marker\":{\"color\":\"#19d3f3\",\"pattern\":{\"shape\":\"\"}},\"name\":\"POL\",\"offsetgroup\":\"POL\",\"orientation\":\"v\",\"showlegend\":true,\"textposition\":\"auto\",\"x\":[2005],\"xaxis\":\"x\",\"y\":[1],\"yaxis\":\"y\",\"type\":\"bar\"}],                        {\"template\":{\"data\":{\"bar\":[{\"error_x\":{\"color\":\"#2a3f5f\"},\"error_y\":{\"color\":\"#2a3f5f\"},\"marker\":{\"line\":{\"color\":\"#E5ECF6\",\"width\":0.5},\"pattern\":{\"fillmode\":\"overlay\",\"size\":10,\"solidity\":0.2}},\"type\":\"bar\"}],\"barpolar\":[{\"marker\":{\"line\":{\"color\":\"#E5ECF6\",\"width\":0.5},\"pattern\":{\"fillmode\":\"overlay\",\"size\":10,\"solidity\":0.2}},\"type\":\"barpolar\"}],\"carpet\":[{\"aaxis\":{\"endlinecolor\":\"#2a3f5f\",\"gridcolor\":\"white\",\"linecolor\":\"white\",\"minorgridcolor\":\"white\",\"startlinecolor\":\"#2a3f5f\"},\"baxis\":{\"endlinecolor\":\"#2a3f5f\",\"gridcolor\":\"white\",\"linecolor\":\"white\",\"minorgridcolor\":\"white\",\"startlinecolor\":\"#2a3f5f\"},\"type\":\"carpet\"}],\"choropleth\":[{\"colorbar\":{\"outlinewidth\":0,\"ticks\":\"\"},\"type\":\"choropleth\"}],\"contour\":[{\"colorbar\":{\"outlinewidth\":0,\"ticks\":\"\"},\"colorscale\":[[0.0,\"#0d0887\"],[0.1111111111111111,\"#46039f\"],[0.2222222222222222,\"#7201a8\"],[0.3333333333333333,\"#9c179e\"],[0.4444444444444444,\"#bd3786\"],[0.5555555555555556,\"#d8576b\"],[0.6666666666666666,\"#ed7953\"],[0.7777777777777778,\"#fb9f3a\"],[0.8888888888888888,\"#fdca26\"],[1.0,\"#f0f921\"]],\"type\":\"contour\"}],\"contourcarpet\":[{\"colorbar\":{\"outlinewidth\":0,\"ticks\":\"\"},\"type\":\"contourcarpet\"}],\"heatmap\":[{\"colorbar\":{\"outlinewidth\":0,\"ticks\":\"\"},\"colorscale\":[[0.0,\"#0d0887\"],[0.1111111111111111,\"#46039f\"],[0.2222222222222222,\"#7201a8\"],[0.3333333333333333,\"#9c179e\"],[0.4444444444444444,\"#bd3786\"],[0.5555555555555556,\"#d8576b\"],[0.6666666666666666,\"#ed7953\"],[0.7777777777777778,\"#fb9f3a\"],[0.8888888888888888,\"#fdca26\"],[1.0,\"#f0f921\"]],\"type\":\"heatmap\"}],\"heatmapgl\":[{\"colorbar\":{\"outlinewidth\":0,\"ticks\":\"\"},\"colorscale\":[[0.0,\"#0d0887\"],[0.1111111111111111,\"#46039f\"],[0.2222222222222222,\"#7201a8\"],[0.3333333333333333,\"#9c179e\"],[0.4444444444444444,\"#bd3786\"],[0.5555555555555556,\"#d8576b\"],[0.6666666666666666,\"#ed7953\"],[0.7777777777777778,\"#fb9f3a\"],[0.8888888888888888,\"#fdca26\"],[1.0,\"#f0f921\"]],\"type\":\"heatmapgl\"}],\"histogram\":[{\"marker\":{\"pattern\":{\"fillmode\":\"overlay\",\"size\":10,\"solidity\":0.2}},\"type\":\"histogram\"}],\"histogram2d\":[{\"colorbar\":{\"outlinewidth\":0,\"ticks\":\"\"},\"colorscale\":[[0.0,\"#0d0887\"],[0.1111111111111111,\"#46039f\"],[0.2222222222222222,\"#7201a8\"],[0.3333333333333333,\"#9c179e\"],[0.4444444444444444,\"#bd3786\"],[0.5555555555555556,\"#d8576b\"],[0.6666666666666666,\"#ed7953\"],[0.7777777777777778,\"#fb9f3a\"],[0.8888888888888888,\"#fdca26\"],[1.0,\"#f0f921\"]],\"type\":\"histogram2d\"}],\"histogram2dcontour\":[{\"colorbar\":{\"outlinewidth\":0,\"ticks\":\"\"},\"colorscale\":[[0.0,\"#0d0887\"],[0.1111111111111111,\"#46039f\"],[0.2222222222222222,\"#7201a8\"],[0.3333333333333333,\"#9c179e\"],[0.4444444444444444,\"#bd3786\"],[0.5555555555555556,\"#d8576b\"],[0.6666666666666666,\"#ed7953\"],[0.7777777777777778,\"#fb9f3a\"],[0.8888888888888888,\"#fdca26\"],[1.0,\"#f0f921\"]],\"type\":\"histogram2dcontour\"}],\"mesh3d\":[{\"colorbar\":{\"outlinewidth\":0,\"ticks\":\"\"},\"type\":\"mesh3d\"}],\"parcoords\":[{\"line\":{\"colorbar\":{\"outlinewidth\":0,\"ticks\":\"\"}},\"type\":\"parcoords\"}],\"pie\":[{\"automargin\":true,\"type\":\"pie\"}],\"scatter\":[{\"marker\":{\"colorbar\":{\"outlinewidth\":0,\"ticks\":\"\"}},\"type\":\"scatter\"}],\"scatter3d\":[{\"line\":{\"colorbar\":{\"outlinewidth\":0,\"ticks\":\"\"}},\"marker\":{\"colorbar\":{\"outlinewidth\":0,\"ticks\":\"\"}},\"type\":\"scatter3d\"}],\"scattercarpet\":[{\"marker\":{\"colorbar\":{\"outlinewidth\":0,\"ticks\":\"\"}},\"type\":\"scattercarpet\"}],\"scattergeo\":[{\"marker\":{\"colorbar\":{\"outlinewidth\":0,\"ticks\":\"\"}},\"type\":\"scattergeo\"}],\"scattergl\":[{\"marker\":{\"colorbar\":{\"outlinewidth\":0,\"ticks\":\"\"}},\"type\":\"scattergl\"}],\"scattermapbox\":[{\"marker\":{\"colorbar\":{\"outlinewidth\":0,\"ticks\":\"\"}},\"type\":\"scattermapbox\"}],\"scatterpolar\":[{\"marker\":{\"colorbar\":{\"outlinewidth\":0,\"ticks\":\"\"}},\"type\":\"scatterpolar\"}],\"scatterpolargl\":[{\"marker\":{\"colorbar\":{\"outlinewidth\":0,\"ticks\":\"\"}},\"type\":\"scatterpolargl\"}],\"scatterternary\":[{\"marker\":{\"colorbar\":{\"outlinewidth\":0,\"ticks\":\"\"}},\"type\":\"scatterternary\"}],\"surface\":[{\"colorbar\":{\"outlinewidth\":0,\"ticks\":\"\"},\"colorscale\":[[0.0,\"#0d0887\"],[0.1111111111111111,\"#46039f\"],[0.2222222222222222,\"#7201a8\"],[0.3333333333333333,\"#9c179e\"],[0.4444444444444444,\"#bd3786\"],[0.5555555555555556,\"#d8576b\"],[0.6666666666666666,\"#ed7953\"],[0.7777777777777778,\"#fb9f3a\"],[0.8888888888888888,\"#fdca26\"],[1.0,\"#f0f921\"]],\"type\":\"surface\"}],\"table\":[{\"cells\":{\"fill\":{\"color\":\"#EBF0F8\"},\"line\":{\"color\":\"white\"}},\"header\":{\"fill\":{\"color\":\"#C8D4E3\"},\"line\":{\"color\":\"white\"}},\"type\":\"table\"}]},\"layout\":{\"annotationdefaults\":{\"arrowcolor\":\"#2a3f5f\",\"arrowhead\":0,\"arrowwidth\":1},\"autotypenumbers\":\"strict\",\"coloraxis\":{\"colorbar\":{\"outlinewidth\":0,\"ticks\":\"\"}},\"colorscale\":{\"diverging\":[[0,\"#8e0152\"],[0.1,\"#c51b7d\"],[0.2,\"#de77ae\"],[0.3,\"#f1b6da\"],[0.4,\"#fde0ef\"],[0.5,\"#f7f7f7\"],[0.6,\"#e6f5d0\"],[0.7,\"#b8e186\"],[0.8,\"#7fbc41\"],[0.9,\"#4d9221\"],[1,\"#276419\"]],\"sequential\":[[0.0,\"#0d0887\"],[0.1111111111111111,\"#46039f\"],[0.2222222222222222,\"#7201a8\"],[0.3333333333333333,\"#9c179e\"],[0.4444444444444444,\"#bd3786\"],[0.5555555555555556,\"#d8576b\"],[0.6666666666666666,\"#ed7953\"],[0.7777777777777778,\"#fb9f3a\"],[0.8888888888888888,\"#fdca26\"],[1.0,\"#f0f921\"]],\"sequentialminus\":[[0.0,\"#0d0887\"],[0.1111111111111111,\"#46039f\"],[0.2222222222222222,\"#7201a8\"],[0.3333333333333333,\"#9c179e\"],[0.4444444444444444,\"#bd3786\"],[0.5555555555555556,\"#d8576b\"],[0.6666666666666666,\"#ed7953\"],[0.7777777777777778,\"#fb9f3a\"],[0.8888888888888888,\"#fdca26\"],[1.0,\"#f0f921\"]]},\"colorway\":[\"#636efa\",\"#EF553B\",\"#00cc96\",\"#ab63fa\",\"#FFA15A\",\"#19d3f3\",\"#FF6692\",\"#B6E880\",\"#FF97FF\",\"#FECB52\"],\"font\":{\"color\":\"#2a3f5f\"},\"geo\":{\"bgcolor\":\"white\",\"lakecolor\":\"white\",\"landcolor\":\"#E5ECF6\",\"showlakes\":true,\"showland\":true,\"subunitcolor\":\"white\"},\"hoverlabel\":{\"align\":\"left\"},\"hovermode\":\"closest\",\"mapbox\":{\"style\":\"light\"},\"paper_bgcolor\":\"white\",\"plot_bgcolor\":\"#E5ECF6\",\"polar\":{\"angularaxis\":{\"gridcolor\":\"white\",\"linecolor\":\"white\",\"ticks\":\"\"},\"bgcolor\":\"#E5ECF6\",\"radialaxis\":{\"gridcolor\":\"white\",\"linecolor\":\"white\",\"ticks\":\"\"}},\"scene\":{\"xaxis\":{\"backgroundcolor\":\"#E5ECF6\",\"gridcolor\":\"white\",\"gridwidth\":2,\"linecolor\":\"white\",\"showbackground\":true,\"ticks\":\"\",\"zerolinecolor\":\"white\"},\"yaxis\":{\"backgroundcolor\":\"#E5ECF6\",\"gridcolor\":\"white\",\"gridwidth\":2,\"linecolor\":\"white\",\"showbackground\":true,\"ticks\":\"\",\"zerolinecolor\":\"white\"},\"zaxis\":{\"backgroundcolor\":\"#E5ECF6\",\"gridcolor\":\"white\",\"gridwidth\":2,\"linecolor\":\"white\",\"showbackground\":true,\"ticks\":\"\",\"zerolinecolor\":\"white\"}},\"shapedefaults\":{\"line\":{\"color\":\"#2a3f5f\"}},\"ternary\":{\"aaxis\":{\"gridcolor\":\"white\",\"linecolor\":\"white\",\"ticks\":\"\"},\"baxis\":{\"gridcolor\":\"white\",\"linecolor\":\"white\",\"ticks\":\"\"},\"bgcolor\":\"#E5ECF6\",\"caxis\":{\"gridcolor\":\"white\",\"linecolor\":\"white\",\"ticks\":\"\"}},\"title\":{\"x\":0.05},\"xaxis\":{\"automargin\":true,\"gridcolor\":\"white\",\"linecolor\":\"white\",\"ticks\":\"\",\"title\":{\"standoff\":15},\"zerolinecolor\":\"white\",\"zerolinewidth\":2},\"yaxis\":{\"automargin\":true,\"gridcolor\":\"white\",\"linecolor\":\"white\",\"ticks\":\"\",\"title\":{\"standoff\":15},\"zerolinecolor\":\"white\",\"zerolinewidth\":2}}},\"xaxis\":{\"anchor\":\"y\",\"domain\":[0.0,1.0],\"title\":{\"text\":\"Year\"},\"tickvals\":[1950,1956,1957,1957,1961,1962,1966,1967,1967,1968,1970,1971,1971,1972,1972,1973,1973,1974,1974,1975,1975,1975,1976,1977,1978,1978,1978,1980,1981,1982,1982,1982,1982,1982,1983,1983,1984,1984,1986,1988,1988,1988,1989,1989,1990,1990,1991,1991,1991,1991,1991,1991,1992,1992,1992,1993,1993,1993,1993,1993,1993,1993,1994,1994,1994,1995,1996,1996,1996,1996,1996,1996,1997,1997,1997,1997,1997,1998,1998,1998,1998,1998,1998,1998,1999,1999,1999,1999,1999,2000,2000,2000,2000,2001,2001,2001,2001,2001,2001,2001,2001,2001,2001,2002,2002,2002,2002,2002,2002,2003,2003,2003,2003,2003,2003,2003,2004,2004,2004,2004,2004,2004,2004,2004,2004,2005,2005,2005,2005,2005,2005,2005,2005,2006,2006,2006,2006,2006,2007,2007,2007,2007,2008],\"tickangle\":-90},\"yaxis\":{\"anchor\":\"x\",\"domain\":[0.0,1.0],\"title\":{\"text\":\"count\"}},\"legend\":{\"title\":{\"text\":\"Club\"},\"tracegroupgap\":0},\"title\":{\"text\":\"Z\\u00e1vodn\\u00edci podle roku narozen\\u00ed a Klubu\"},\"barmode\":\"relative\",\"height\":700,\"width\":950},                        {\"responsive\": true}                    ).then(function(){\n",
       "                            \n",
       "var gd = document.getElementById('af87bc8a-540c-44ec-9855-dcaa5d7bf1ea');\n",
       "var x = new MutationObserver(function (mutations, observer) {{\n",
       "        var display = window.getComputedStyle(gd).display;\n",
       "        if (!display || display === 'none') {{\n",
       "            console.log([gd, 'removed!']);\n",
       "            Plotly.purge(gd);\n",
       "            observer.disconnect();\n",
       "        }}\n",
       "}});\n",
       "\n",
       "// Listen for the removal of the full notebook cells\n",
       "var notebookContainer = gd.closest('#notebook-container');\n",
       "if (notebookContainer) {{\n",
       "    x.observe(notebookContainer, {childList: true});\n",
       "}}\n",
       "\n",
       "// Listen for the clearing of the current output cell\n",
       "var outputEl = gd.closest('.output');\n",
       "if (outputEl) {{\n",
       "    x.observe(outputEl, {childList: true});\n",
       "}}\n",
       "\n",
       "                        })                };                });            </script>        </div>"
      ]
     },
     "metadata": {},
     "output_type": "display_data"
    }
   ],
   "source": [
    "# obyčejný groupby podle dvou sloupců nestačí:\n",
    "# d1 = df.groupby(['Year', \"Club\"])[\"Year\"].count() \n",
    "# potřbeuju z toho udělat standardní dataframe se všemi popsanými řádky\n",
    "# 1960 - Club - počet,, 1960 - Klub 2 - počet 2\n",
    "\n",
    "#https://stackoverflow.com/questions/10373660/converting-a-pandas-groupby-output-from-series-to-dataframe\n",
    "d2 = pd.DataFrame({'count' : df.groupby( [ 'Year', \"Club\"] ).size()}).reset_index()\n",
    "#d2\n",
    "\n",
    "fig = px.bar(d2, x= d2[\"Year\"],\n",
    "             y= d2[\"count\"], \n",
    "             color = d2[\"Club\"] ,\n",
    "             #text_auto='.0s',       # případně můžu zap/vyp číselné popisky\n",
    "             width=950, height=700,\n",
    "             title=\"Závodníci podle roku narození a Klubu\")\n",
    "\n",
    "#fig.update_traces(textfont_size=12, textangle=0, cliponaxis=False)\n",
    "fig.update_layout(xaxis = dict(tickvals = d2[\"Year\"]))\n",
    "fig.update_xaxes(tickangle=270)\n",
    "\n",
    "fig.show()\n",
    "\n",
    "pio.write_html(fig, file=\"vizualizace/V1_Year-Club.html\", auto_open=True)\n",
    "\n",
    "# ještě jde přidat dropdown například pro Pohlaví. případně checkboxy by byly super\n",
    "# https://plotly.com/python/bar-charts/"
   ]
  },
  {
   "cell_type": "markdown",
   "id": "35de7d76-e8f3-40b1-a231-7bb28f3b88fa",
   "metadata": {},
   "source": [
    "## Počty závodníků podle klubů\n",
    "#### Zde by se hodil rozpad na může a ženy, v plotly verzi "
   ]
  },
  {
   "cell_type": "code",
   "execution_count": 147,
   "id": "b3fe8297-a508-49a0-ba26-c97ba34e441c",
   "metadata": {},
   "outputs": [
    {
     "data": {
      "image/png": "[encoded data removed]",
      "text/plain": [
       "<Figure size 1000x400 with 1 Axes>"
      ]
     },
     "metadata": {
      "needs_background": "light"
     },
     "output_type": "display_data"
    }
   ],
   "source": [
    "# Verze 2 - přes Dictionary\n",
    "# https://www.includehelp.com/python/groupby-results-to-dictionary-of-lists.aspx\n",
    "# https://matplotlib.org/stable/gallery/lines_bars_and_markers/categorical_variables.html\n",
    "\n",
    "figure(figsize=(10, 4), dpi=100)\n",
    "\n",
    "clubs = df.groupby(['Club'])['Club'].count().to_dict()\n",
    "clubs = dict(sorted(clubs.items(), key=lambda item: item[1], reverse = True))\n",
    "\n",
    "plt.xticks(rotation='vertical')                             # muselo se tu jen odebrat to jméno z labelů, kůli problémům že to je kategorická proměnná\n",
    "plt.bar(list(clubs.keys()), list(clubs.values()), width=0.8)# šířka sloupečku\n",
    "\n",
    "plt.show()"
   ]
  },
  {
   "cell_type": "code",
   "execution_count": 203,
   "id": "54e6f6f3-c206-4905-a9c2-16852a514f6a",
   "metadata": {},
   "outputs": [
    {
     "data": {
      "application/vnd.plotly.v1+json": {
       "config": {
        "plotlyServerURL": "https://plot.ly"
       },
       "data": [
        {
         "alignmentgroup": "True",
         "hovertemplate": "Club=%{x}<br>count=%{y}<extra></extra>",
         "legendgroup": "SC PRAHA",
         "marker": {
          "color": "#636efa",
          "pattern": {
           "shape": ""
          }
         },
         "name": "SC PRAHA",
         "offsetgroup": "SC PRAHA",
         "orientation": "v",
         "showlegend": true,
         "textposition": "auto",
         "texttemplate": "%{y:.0s}",
         "type": "bar",
         "x": [
          "SC PRAHA"
         ],
         "xaxis": "x",
         "y": [
          30
         ],
         "yaxis": "y"
        },
        {
         "alignmentgroup": "True",
         "hovertemplate": "Club=%{x}<br>count=%{y}<extra></extra>",
         "legendgroup": "DUKLA OLOMOUC",
         "marker": {
          "color": "#EF553B",
          "pattern": {
           "shape": ""
          }
         },
         "name": "DUKLA OLOMOUC",
         "offsetgroup": "DUKLA OLOMOUC",
         "orientation": "v",
         "showlegend": true,
         "textposition": "auto",
         "texttemplate": "%{y:.0s}",
         "type": "bar",
         "x": [
          "DUKLA OLOMOUC"
         ],
         "xaxis": "x",
         "y": [
          15
         ],
         "yaxis": "y"
        },
        {
         "alignmentgroup": "True",
         "hovertemplate": "Club=%{x}<br>count=%{y}<extra></extra>",
         "legendgroup": "TJ DUKLA PRAHA",
         "marker": {
          "color": "#00cc96",
          "pattern": {
           "shape": ""
          }
         },
         "name": "TJ DUKLA PRAHA",
         "offsetgroup": "TJ DUKLA PRAHA",
         "orientation": "v",
         "showlegend": true,
         "textposition": "auto",
         "texttemplate": "%{y:.0s}",
         "type": "bar",
         "x": [
          "TJ DUKLA PRAHA"
         ],
         "xaxis": "x",
         "y": [
          14
         ],
         "yaxis": "y"
        },
        {
         "alignmentgroup": "True",
         "hovertemplate": "Club=%{x}<br>count=%{y}<extra></extra>",
         "legendgroup": "USK PRAHA",
         "marker": {
          "color": "#ab63fa",
          "pattern": {
           "shape": ""
          }
         },
         "name": "USK PRAHA",
         "offsetgroup": "USK PRAHA",
         "orientation": "v",
         "showlegend": true,
         "textposition": "auto",
         "texttemplate": "%{y:.0s}",
         "type": "bar",
         "x": [
          "USK PRAHA"
         ],
         "xaxis": "x",
         "y": [
          11
         ],
         "yaxis": "y"
        },
        {
         "alignmentgroup": "True",
         "hovertemplate": "Club=%{x}<br>count=%{y}<extra></extra>",
         "legendgroup": "TJ LOKO K.VARY",
         "marker": {
          "color": "#FFA15A",
          "pattern": {
           "shape": ""
          }
         },
         "name": "TJ LOKO K.VARY",
         "offsetgroup": "TJ LOKO K.VARY",
         "orientation": "v",
         "showlegend": true,
         "textposition": "auto",
         "texttemplate": "%{y:.0s}",
         "type": "bar",
         "x": [
          "TJ LOKO K.VARY"
         ],
         "xaxis": "x",
         "y": [
          8
         ],
         "yaxis": "y"
        },
        {
         "alignmentgroup": "True",
         "hovertemplate": "Club=%{x}<br>count=%{y}<extra></extra>",
         "legendgroup": "ŠERM LIBEREC",
         "marker": {
          "color": "#19d3f3",
          "pattern": {
           "shape": ""
          }
         },
         "name": "ŠERM LIBEREC",
         "offsetgroup": "ŠERM LIBEREC",
         "orientation": "v",
         "showlegend": true,
         "textposition": "auto",
         "texttemplate": "%{y:.0s}",
         "type": "bar",
         "x": [
          "ŠERM LIBEREC"
         ],
         "xaxis": "x",
         "y": [
          8
         ],
         "yaxis": "y"
        },
        {
         "alignmentgroup": "True",
         "hovertemplate": "Club=%{x}<br>count=%{y}<extra></extra>",
         "legendgroup": "SOKOL DEJVICE",
         "marker": {
          "color": "#FF6692",
          "pattern": {
           "shape": ""
          }
         },
         "name": "SOKOL DEJVICE",
         "offsetgroup": "SOKOL DEJVICE",
         "orientation": "v",
         "showlegend": true,
         "textposition": "auto",
         "texttemplate": "%{y:.0s}",
         "type": "bar",
         "x": [
          "SOKOL DEJVICE"
         ],
         "xaxis": "x",
         "y": [
          7
         ],
         "yaxis": "y"
        },
        {
         "alignmentgroup": "True",
         "hovertemplate": "Club=%{x}<br>count=%{y}<extra></extra>",
         "legendgroup": "EKONOM PRAHA",
         "marker": {
          "color": "#B6E880",
          "pattern": {
           "shape": ""
          }
         },
         "name": "EKONOM PRAHA",
         "offsetgroup": "EKONOM PRAHA",
         "orientation": "v",
         "showlegend": true,
         "textposition": "auto",
         "texttemplate": "%{y:.0s}",
         "type": "bar",
         "x": [
          "EKONOM PRAHA"
         ],
         "xaxis": "x",
         "y": [
          7
         ],
         "yaxis": "y"
        },
        {
         "alignmentgroup": "True",
         "hovertemplate": "Club=%{x}<br>count=%{y}<extra></extra>",
         "legendgroup": "TJ LOKO PLZEN",
         "marker": {
          "color": "#FF97FF",
          "pattern": {
           "shape": ""
          }
         },
         "name": "TJ LOKO PLZEN",
         "offsetgroup": "TJ LOKO PLZEN",
         "orientation": "v",
         "showlegend": true,
         "textposition": "auto",
         "texttemplate": "%{y:.0s}",
         "type": "bar",
         "x": [
          "TJ LOKO PLZEN"
         ],
         "xaxis": "x",
         "y": [
          7
         ],
         "yaxis": "y"
        },
        {
         "alignmentgroup": "True",
         "hovertemplate": "Club=%{x}<br>count=%{y}<extra></extra>",
         "legendgroup": "TJ LOKO TEPLICE",
         "marker": {
          "color": "#FECB52",
          "pattern": {
           "shape": ""
          }
         },
         "name": "TJ LOKO TEPLICE",
         "offsetgroup": "TJ LOKO TEPLICE",
         "orientation": "v",
         "showlegend": true,
         "textposition": "auto",
         "texttemplate": "%{y:.0s}",
         "type": "bar",
         "x": [
          "TJ LOKO TEPLICE"
         ],
         "xaxis": "x",
         "y": [
          6
         ],
         "yaxis": "y"
        },
        {
         "alignmentgroup": "True",
         "hovertemplate": "Club=%{x}<br>count=%{y}<extra></extra>",
         "legendgroup": "SČ USTI NAD LABEM",
         "marker": {
          "color": "#636efa",
          "pattern": {
           "shape": ""
          }
         },
         "name": "SČ USTI NAD LABEM",
         "offsetgroup": "SČ USTI NAD LABEM",
         "orientation": "v",
         "showlegend": true,
         "textposition": "auto",
         "texttemplate": "%{y:.0s}",
         "type": "bar",
         "x": [
          "SČ USTI NAD LABEM"
         ],
         "xaxis": "x",
         "y": [
          6
         ],
         "yaxis": "y"
        },
        {
         "alignmentgroup": "True",
         "hovertemplate": "Club=%{x}<br>count=%{y}<extra></extra>",
         "legendgroup": "1.FC BELA POD BEZ",
         "marker": {
          "color": "#EF553B",
          "pattern": {
           "shape": ""
          }
         },
         "name": "1.FC BELA POD BEZ",
         "offsetgroup": "1.FC BELA POD BEZ",
         "orientation": "v",
         "showlegend": true,
         "textposition": "auto",
         "texttemplate": "%{y:.0s}",
         "type": "bar",
         "x": [
          "1.FC BELA POD BEZ"
         ],
         "xaxis": "x",
         "y": [
          5
         ],
         "yaxis": "y"
        },
        {
         "alignmentgroup": "True",
         "hovertemplate": "Club=%{x}<br>count=%{y}<extra></extra>",
         "legendgroup": "VSK HUMANITA",
         "marker": {
          "color": "#00cc96",
          "pattern": {
           "shape": ""
          }
         },
         "name": "VSK HUMANITA",
         "offsetgroup": "VSK HUMANITA",
         "orientation": "v",
         "showlegend": true,
         "textposition": "auto",
         "texttemplate": "%{y:.0s}",
         "type": "bar",
         "x": [
          "VSK HUMANITA"
         ],
         "xaxis": "x",
         "y": [
          5
         ],
         "yaxis": "y"
        },
        {
         "alignmentgroup": "True",
         "hovertemplate": "Club=%{x}<br>count=%{y}<extra></extra>",
         "legendgroup": "RIEGEL PRAHA",
         "marker": {
          "color": "#ab63fa",
          "pattern": {
           "shape": ""
          }
         },
         "name": "RIEGEL PRAHA",
         "offsetgroup": "RIEGEL PRAHA",
         "orientation": "v",
         "showlegend": true,
         "textposition": "auto",
         "texttemplate": "%{y:.0s}",
         "type": "bar",
         "x": [
          "RIEGEL PRAHA"
         ],
         "xaxis": "x",
         "y": [
          4
         ],
         "yaxis": "y"
        },
        {
         "alignmentgroup": "True",
         "hovertemplate": "Club=%{x}<br>count=%{y}<extra></extra>",
         "legendgroup": "VUT BRNO",
         "marker": {
          "color": "#FFA15A",
          "pattern": {
           "shape": ""
          }
         },
         "name": "VUT BRNO",
         "offsetgroup": "VUT BRNO",
         "orientation": "v",
         "showlegend": true,
         "textposition": "auto",
         "texttemplate": "%{y:.0s}",
         "type": "bar",
         "x": [
          "VUT BRNO"
         ],
         "xaxis": "x",
         "y": [
          4
         ],
         "yaxis": "y"
        },
        {
         "alignmentgroup": "True",
         "hovertemplate": "Club=%{x}<br>count=%{y}<extra></extra>",
         "legendgroup": "SP.Š. TÁBOR",
         "marker": {
          "color": "#19d3f3",
          "pattern": {
           "shape": ""
          }
         },
         "name": "SP.Š. TÁBOR",
         "offsetgroup": "SP.Š. TÁBOR",
         "orientation": "v",
         "showlegend": true,
         "textposition": "auto",
         "texttemplate": "%{y:.0s}",
         "type": "bar",
         "x": [
          "SP.Š. TÁBOR"
         ],
         "xaxis": "x",
         "y": [
          3
         ],
         "yaxis": "y"
        },
        {
         "alignmentgroup": "True",
         "hovertemplate": "Club=%{x}<br>count=%{y}<extra></extra>",
         "legendgroup": "TJ SOKOL PISEK",
         "marker": {
          "color": "#FF6692",
          "pattern": {
           "shape": ""
          }
         },
         "name": "TJ SOKOL PISEK",
         "offsetgroup": "TJ SOKOL PISEK",
         "orientation": "v",
         "showlegend": true,
         "textposition": "auto",
         "texttemplate": "%{y:.0s}",
         "type": "bar",
         "x": [
          "TJ SOKOL PISEK"
         ],
         "xaxis": "x",
         "y": [
          3
         ],
         "yaxis": "y"
        },
        {
         "alignmentgroup": "True",
         "hovertemplate": "Club=%{x}<br>count=%{y}<extra></extra>",
         "legendgroup": "SS UH.HRADISTE",
         "marker": {
          "color": "#B6E880",
          "pattern": {
           "shape": ""
          }
         },
         "name": "SS UH.HRADISTE",
         "offsetgroup": "SS UH.HRADISTE",
         "orientation": "v",
         "showlegend": true,
         "textposition": "auto",
         "texttemplate": "%{y:.0s}",
         "type": "bar",
         "x": [
          "SS UH.HRADISTE"
         ],
         "xaxis": "x",
         "y": [
          3
         ],
         "yaxis": "y"
        },
        {
         "alignmentgroup": "True",
         "hovertemplate": "Club=%{x}<br>count=%{y}<extra></extra>",
         "legendgroup": "SPORŠZZ",
         "marker": {
          "color": "#FF97FF",
          "pattern": {
           "shape": ""
          }
         },
         "name": "SPORŠZZ",
         "offsetgroup": "SPORŠZZ",
         "orientation": "v",
         "showlegend": true,
         "textposition": "auto",
         "texttemplate": "%{y:.0s}",
         "type": "bar",
         "x": [
          "SPORŠZZ"
         ],
         "xaxis": "x",
         "y": [
          3
         ],
         "yaxis": "y"
        },
        {
         "alignmentgroup": "True",
         "hovertemplate": "Club=%{x}<br>count=%{y}<extra></extra>",
         "legendgroup": "ŠERM MASTERS",
         "marker": {
          "color": "#FECB52",
          "pattern": {
           "shape": ""
          }
         },
         "name": "ŠERM MASTERS",
         "offsetgroup": "ŠERM MASTERS",
         "orientation": "v",
         "showlegend": true,
         "textposition": "auto",
         "texttemplate": "%{y:.0s}",
         "type": "bar",
         "x": [
          "ŠERM MASTERS"
         ],
         "xaxis": "x",
         "y": [
          3
         ],
         "yaxis": "y"
        },
        {
         "alignmentgroup": "True",
         "hovertemplate": "Club=%{x}<br>count=%{y}<extra></extra>",
         "legendgroup": "SLAVOJ LITOMERICE",
         "marker": {
          "color": "#636efa",
          "pattern": {
           "shape": ""
          }
         },
         "name": "SLAVOJ LITOMERICE",
         "offsetgroup": "SLAVOJ LITOMERICE",
         "orientation": "v",
         "showlegend": true,
         "textposition": "auto",
         "texttemplate": "%{y:.0s}",
         "type": "bar",
         "x": [
          "SLAVOJ LITOMERICE"
         ],
         "xaxis": "x",
         "y": [
          3
         ],
         "yaxis": "y"
        },
        {
         "alignmentgroup": "True",
         "hovertemplate": "Club=%{x}<br>count=%{y}<extra></extra>",
         "legendgroup": "S.BRNO I",
         "marker": {
          "color": "#EF553B",
          "pattern": {
           "shape": ""
          }
         },
         "name": "S.BRNO I",
         "offsetgroup": "S.BRNO I",
         "orientation": "v",
         "showlegend": true,
         "textposition": "auto",
         "texttemplate": "%{y:.0s}",
         "type": "bar",
         "x": [
          "S.BRNO I"
         ],
         "xaxis": "x",
         "y": [
          2
         ],
         "yaxis": "y"
        },
        {
         "alignmentgroup": "True",
         "hovertemplate": "Club=%{x}<br>count=%{y}<extra></extra>",
         "legendgroup": "BSK MARTINENGO",
         "marker": {
          "color": "#00cc96",
          "pattern": {
           "shape": ""
          }
         },
         "name": "BSK MARTINENGO",
         "offsetgroup": "BSK MARTINENGO",
         "orientation": "v",
         "showlegend": true,
         "textposition": "auto",
         "texttemplate": "%{y:.0s}",
         "type": "bar",
         "x": [
          "BSK MARTINENGO"
         ],
         "xaxis": "x",
         "y": [
          2
         ],
         "yaxis": "y"
        },
        {
         "alignmentgroup": "True",
         "hovertemplate": "Club=%{x}<br>count=%{y}<extra></extra>",
         "legendgroup": "VSK ČVUT",
         "marker": {
          "color": "#ab63fa",
          "pattern": {
           "shape": ""
          }
         },
         "name": "VSK ČVUT",
         "offsetgroup": "VSK ČVUT",
         "orientation": "v",
         "showlegend": true,
         "textposition": "auto",
         "texttemplate": "%{y:.0s}",
         "type": "bar",
         "x": [
          "VSK ČVUT"
         ],
         "xaxis": "x",
         "y": [
          2
         ],
         "yaxis": "y"
        },
        {
         "alignmentgroup": "True",
         "hovertemplate": "Club=%{x}<br>count=%{y}<extra></extra>",
         "legendgroup": "SOKOL PLZEN",
         "marker": {
          "color": "#FFA15A",
          "pattern": {
           "shape": ""
          }
         },
         "name": "SOKOL PLZEN",
         "offsetgroup": "SOKOL PLZEN",
         "orientation": "v",
         "showlegend": true,
         "textposition": "auto",
         "texttemplate": "%{y:.0s}",
         "type": "bar",
         "x": [
          "SOKOL PLZEN"
         ],
         "xaxis": "x",
         "y": [
          2
         ],
         "yaxis": "y"
        },
        {
         "alignmentgroup": "True",
         "hovertemplate": "Club=%{x}<br>count=%{y}<extra></extra>",
         "legendgroup": "AKADÉMIA ŠERMU BRATISLAVA",
         "marker": {
          "color": "#19d3f3",
          "pattern": {
           "shape": ""
          }
         },
         "name": "AKADÉMIA ŠERMU BRATISLAVA",
         "offsetgroup": "AKADÉMIA ŠERMU BRATISLAVA",
         "orientation": "v",
         "showlegend": true,
         "textposition": "auto",
         "texttemplate": "%{y:.0s}",
         "type": "bar",
         "x": [
          "AKADÉMIA ŠERMU BRATISLAVA"
         ],
         "xaxis": "x",
         "y": [
          1
         ],
         "yaxis": "y"
        },
        {
         "alignmentgroup": "True",
         "hovertemplate": "Club=%{x}<br>count=%{y}<extra></extra>",
         "legendgroup": "SLAVOJ Č.TĚŠÍN",
         "marker": {
          "color": "#FF6692",
          "pattern": {
           "shape": ""
          }
         },
         "name": "SLAVOJ Č.TĚŠÍN",
         "offsetgroup": "SLAVOJ Č.TĚŠÍN",
         "orientation": "v",
         "showlegend": true,
         "textposition": "auto",
         "texttemplate": "%{y:.0s}",
         "type": "bar",
         "x": [
          "SLAVOJ Č.TĚŠÍN"
         ],
         "xaxis": "x",
         "y": [
          1
         ],
         "yaxis": "y"
        },
        {
         "alignmentgroup": "True",
         "hovertemplate": "Club=%{x}<br>count=%{y}<extra></extra>",
         "legendgroup": "TBILISI",
         "marker": {
          "color": "#B6E880",
          "pattern": {
           "shape": ""
          }
         },
         "name": "TBILISI",
         "offsetgroup": "TBILISI",
         "orientation": "v",
         "showlegend": true,
         "textposition": "auto",
         "texttemplate": "%{y:.0s}",
         "type": "bar",
         "x": [
          "TBILISI"
         ],
         "xaxis": "x",
         "y": [
          1
         ],
         "yaxis": "y"
        },
        {
         "alignmentgroup": "True",
         "hovertemplate": "Club=%{x}<br>count=%{y}<extra></extra>",
         "legendgroup": "SILNI BEOGRAD",
         "marker": {
          "color": "#FF97FF",
          "pattern": {
           "shape": ""
          }
         },
         "name": "SILNI BEOGRAD",
         "offsetgroup": "SILNI BEOGRAD",
         "orientation": "v",
         "showlegend": true,
         "textposition": "auto",
         "texttemplate": "%{y:.0s}",
         "type": "bar",
         "x": [
          "SILNI BEOGRAD"
         ],
         "xaxis": "x",
         "y": [
          1
         ],
         "yaxis": "y"
        },
        {
         "alignmentgroup": "True",
         "hovertemplate": "Club=%{x}<br>count=%{y}<extra></extra>",
         "legendgroup": "POL",
         "marker": {
          "color": "#FECB52",
          "pattern": {
           "shape": ""
          }
         },
         "name": "POL",
         "offsetgroup": "POL",
         "orientation": "v",
         "showlegend": true,
         "textposition": "auto",
         "texttemplate": "%{y:.0s}",
         "type": "bar",
         "x": [
          "POL"
         ],
         "xaxis": "x",
         "y": [
          1
         ],
         "yaxis": "y"
        },
        {
         "alignmentgroup": "True",
         "hovertemplate": "Club=%{x}<br>count=%{y}<extra></extra>",
         "legendgroup": "OREL HR.KR.",
         "marker": {
          "color": "#636efa",
          "pattern": {
           "shape": ""
          }
         },
         "name": "OREL HR.KR.",
         "offsetgroup": "OREL HR.KR.",
         "orientation": "v",
         "showlegend": true,
         "textposition": "auto",
         "texttemplate": "%{y:.0s}",
         "type": "bar",
         "x": [
          "OREL HR.KR."
         ],
         "xaxis": "x",
         "y": [
          1
         ],
         "yaxis": "y"
        },
        {
         "alignmentgroup": "True",
         "hovertemplate": "Club=%{x}<br>count=%{y}<extra></extra>",
         "legendgroup": "TJ SLOVAN HORKY",
         "marker": {
          "color": "#EF553B",
          "pattern": {
           "shape": ""
          }
         },
         "name": "TJ SLOVAN HORKY",
         "offsetgroup": "TJ SLOVAN HORKY",
         "orientation": "v",
         "showlegend": true,
         "textposition": "auto",
         "texttemplate": "%{y:.0s}",
         "type": "bar",
         "x": [
          "TJ SLOVAN HORKY"
         ],
         "xaxis": "x",
         "y": [
          1
         ],
         "yaxis": "y"
        },
        {
         "alignmentgroup": "True",
         "hovertemplate": "Club=%{x}<br>count=%{y}<extra></extra>",
         "legendgroup": "LAŠSSKFZ",
         "marker": {
          "color": "#00cc96",
          "pattern": {
           "shape": ""
          }
         },
         "name": "LAŠSSKFZ",
         "offsetgroup": "LAŠSSKFZ",
         "orientation": "v",
         "showlegend": true,
         "textposition": "auto",
         "texttemplate": "%{y:.0s}",
         "type": "bar",
         "x": [
          "LAŠSSKFZ"
         ],
         "xaxis": "x",
         "y": [
          1
         ],
         "yaxis": "y"
        },
        {
         "alignmentgroup": "True",
         "hovertemplate": "Club=%{x}<br>count=%{y}<extra></extra>",
         "legendgroup": "DYNAMO UŽHOROD",
         "marker": {
          "color": "#ab63fa",
          "pattern": {
           "shape": ""
          }
         },
         "name": "DYNAMO UŽHOROD",
         "offsetgroup": "DYNAMO UŽHOROD",
         "orientation": "v",
         "showlegend": true,
         "textposition": "auto",
         "texttemplate": "%{y:.0s}",
         "type": "bar",
         "x": [
          "DYNAMO UŽHOROD"
         ],
         "xaxis": "x",
         "y": [
          1
         ],
         "yaxis": "y"
        },
        {
         "alignmentgroup": "True",
         "hovertemplate": "Club=%{x}<br>count=%{y}<extra></extra>",
         "legendgroup": "BA MPC",
         "marker": {
          "color": "#FFA15A",
          "pattern": {
           "shape": ""
          }
         },
         "name": "BA MPC",
         "offsetgroup": "BA MPC",
         "orientation": "v",
         "showlegend": true,
         "textposition": "auto",
         "texttemplate": "%{y:.0s}",
         "type": "bar",
         "x": [
          "BA MPC"
         ],
         "xaxis": "x",
         "y": [
          1
         ],
         "yaxis": "y"
        },
        {
         "alignmentgroup": "True",
         "hovertemplate": "Club=%{x}<br>count=%{y}<extra></extra>",
         "legendgroup": "AUT",
         "marker": {
          "color": "#19d3f3",
          "pattern": {
           "shape": ""
          }
         },
         "name": "AUT",
         "offsetgroup": "AUT",
         "orientation": "v",
         "showlegend": true,
         "textposition": "auto",
         "texttemplate": "%{y:.0s}",
         "type": "bar",
         "x": [
          "AUT"
         ],
         "xaxis": "x",
         "y": [
          1
         ],
         "yaxis": "y"
        }
       ],
       "layout": {
        "barmode": "relative",
        "height": 700,
        "legend": {
         "title": {
          "text": "Club"
         },
         "tracegroupgap": 0
        },
        "template": {
         "data": {
          "bar": [
           {
            "error_x": {
             "color": "#2a3f5f"
            },
            "error_y": {
             "color": "#2a3f5f"
            },
            "marker": {
             "line": {
              "color": "#E5ECF6",
              "width": 0.5
             },
             "pattern": {
              "fillmode": "overlay",
              "size": 10,
              "solidity": 0.2
             }
            },
            "type": "bar"
           }
          ],
          "barpolar": [
           {
            "marker": {
             "line": {
              "color": "#E5ECF6",
              "width": 0.5
             },
             "pattern": {
              "fillmode": "overlay",
              "size": 10,
              "solidity": 0.2
             }
            },
            "type": "barpolar"
           }
          ],
          "carpet": [
           {
            "aaxis": {
             "endlinecolor": "#2a3f5f",
             "gridcolor": "white",
             "linecolor": "white",
             "minorgridcolor": "white",
             "startlinecolor": "#2a3f5f"
            },
            "baxis": {
             "endlinecolor": "#2a3f5f",
             "gridcolor": "white",
             "linecolor": "white",
             "minorgridcolor": "white",
             "startlinecolor": "#2a3f5f"
            },
            "type": "carpet"
           }
          ],
          "choropleth": [
           {
            "colorbar": {
             "outlinewidth": 0,
             "ticks": ""
            },
            "type": "choropleth"
           }
          ],
          "contour": [
           {
            "colorbar": {
             "outlinewidth": 0,
             "ticks": ""
            },
            "colorscale": [
             [
              0,
              "#0d0887"
             ],
             [
              0.1111111111111111,
              "#46039f"
             ],
             [
              0.2222222222222222,
              "#7201a8"
             ],
             [
              0.3333333333333333,
              "#9c179e"
             ],
             [
              0.4444444444444444,
              "#bd3786"
             ],
             [
              0.5555555555555556,
              "#d8576b"
             ],
             [
              0.6666666666666666,
              "#ed7953"
             ],
             [
              0.7777777777777778,
              "#fb9f3a"
             ],
             [
              0.8888888888888888,
              "#fdca26"
             ],
             [
              1,
              "#f0f921"
             ]
            ],
            "type": "contour"
           }
          ],
          "contourcarpet": [
           {
            "colorbar": {
             "outlinewidth": 0,
             "ticks": ""
            },
            "type": "contourcarpet"
           }
          ],
          "heatmap": [
           {
            "colorbar": {
             "outlinewidth": 0,
             "ticks": ""
            },
            "colorscale": [
             [
              0,
              "#0d0887"
             ],
             [
              0.1111111111111111,
              "#46039f"
             ],
             [
              0.2222222222222222,
              "#7201a8"
             ],
             [
              0.3333333333333333,
              "#9c179e"
             ],
             [
              0.4444444444444444,
              "#bd3786"
             ],
             [
              0.5555555555555556,
              "#d8576b"
             ],
             [
              0.6666666666666666,
              "#ed7953"
             ],
             [
              0.7777777777777778,
              "#fb9f3a"
             ],
             [
              0.8888888888888888,
              "#fdca26"
             ],
             [
              1,
              "#f0f921"
             ]
            ],
            "type": "heatmap"
           }
          ],
          "heatmapgl": [
           {
            "colorbar": {
             "outlinewidth": 0,
             "ticks": ""
            },
            "colorscale": [
             [
              0,
              "#0d0887"
             ],
             [
              0.1111111111111111,
              "#46039f"
             ],
             [
              0.2222222222222222,
              "#7201a8"
             ],
             [
              0.3333333333333333,
              "#9c179e"
             ],
             [
              0.4444444444444444,
              "#bd3786"
             ],
             [
              0.5555555555555556,
              "#d8576b"
             ],
             [
              0.6666666666666666,
              "#ed7953"
             ],
             [
              0.7777777777777778,
              "#fb9f3a"
             ],
             [
              0.8888888888888888,
              "#fdca26"
             ],
             [
              1,
              "#f0f921"
             ]
            ],
            "type": "heatmapgl"
           }
          ],
          "histogram": [
           {
            "marker": {
             "pattern": {
              "fillmode": "overlay",
              "size": 10,
              "solidity": 0.2
             }
            },
            "type": "histogram"
           }
          ],
          "histogram2d": [
           {
            "colorbar": {
             "outlinewidth": 0,
             "ticks": ""
            },
            "colorscale": [
             [
              0,
              "#0d0887"
             ],
             [
              0.1111111111111111,
              "#46039f"
             ],
             [
              0.2222222222222222,
              "#7201a8"
             ],
             [
              0.3333333333333333,
              "#9c179e"
             ],
             [
              0.4444444444444444,
              "#bd3786"
             ],
             [
              0.5555555555555556,
              "#d8576b"
             ],
             [
              0.6666666666666666,
              "#ed7953"
             ],
             [
              0.7777777777777778,
              "#fb9f3a"
             ],
             [
              0.8888888888888888,
              "#fdca26"
             ],
             [
              1,
              "#f0f921"
             ]
            ],
            "type": "histogram2d"
           }
          ],
          "histogram2dcontour": [
           {
            "colorbar": {
             "outlinewidth": 0,
             "ticks": ""
            },
            "colorscale": [
             [
              0,
              "#0d0887"
             ],
             [
              0.1111111111111111,
              "#46039f"
             ],
             [
              0.2222222222222222,
              "#7201a8"
             ],
             [
              0.3333333333333333,
              "#9c179e"
             ],
             [
              0.4444444444444444,
              "#bd3786"
             ],
             [
              0.5555555555555556,
              "#d8576b"
             ],
             [
              0.6666666666666666,
              "#ed7953"
             ],
             [
              0.7777777777777778,
              "#fb9f3a"
             ],
             [
              0.8888888888888888,
              "#fdca26"
             ],
             [
              1,
              "#f0f921"
             ]
            ],
            "type": "histogram2dcontour"
           }
          ],
          "mesh3d": [
           {
            "colorbar": {
             "outlinewidth": 0,
             "ticks": ""
            },
            "type": "mesh3d"
           }
          ],
          "parcoords": [
           {
            "line": {
             "colorbar": {
              "outlinewidth": 0,
              "ticks": ""
             }
            },
            "type": "parcoords"
           }
          ],
          "pie": [
           {
            "automargin": true,
            "type": "pie"
           }
          ],
          "scatter": [
           {
            "marker": {
             "colorbar": {
              "outlinewidth": 0,
              "ticks": ""
             }
            },
            "type": "scatter"
           }
          ],
          "scatter3d": [
           {
            "line": {
             "colorbar": {
              "outlinewidth": 0,
              "ticks": ""
             }
            },
            "marker": {
             "colorbar": {
              "outlinewidth": 0,
              "ticks": ""
             }
            },
            "type": "scatter3d"
           }
          ],
          "scattercarpet": [
           {
            "marker": {
             "colorbar": {
              "outlinewidth": 0,
              "ticks": ""
             }
            },
            "type": "scattercarpet"
           }
          ],
          "scattergeo": [
           {
            "marker": {
             "colorbar": {
              "outlinewidth": 0,
              "ticks": ""
             }
            },
            "type": "scattergeo"
           }
          ],
          "scattergl": [
           {
            "marker": {
             "colorbar": {
              "outlinewidth": 0,
              "ticks": ""
             }
            },
            "type": "scattergl"
           }
          ],
          "scattermapbox": [
           {
            "marker": {
             "colorbar": {
              "outlinewidth": 0,
              "ticks": ""
             }
            },
            "type": "scattermapbox"
           }
          ],
          "scatterpolar": [
           {
            "marker": {
             "colorbar": {
              "outlinewidth": 0,
              "ticks": ""
             }
            },
            "type": "scatterpolar"
           }
          ],
          "scatterpolargl": [
           {
            "marker": {
             "colorbar": {
              "outlinewidth": 0,
              "ticks": ""
             }
            },
            "type": "scatterpolargl"
           }
          ],
          "scatterternary": [
           {
            "marker": {
             "colorbar": {
              "outlinewidth": 0,
              "ticks": ""
             }
            },
            "type": "scatterternary"
           }
          ],
          "surface": [
           {
            "colorbar": {
             "outlinewidth": 0,
             "ticks": ""
            },
            "colorscale": [
             [
              0,
              "#0d0887"
             ],
             [
              0.1111111111111111,
              "#46039f"
             ],
             [
              0.2222222222222222,
              "#7201a8"
             ],
             [
              0.3333333333333333,
              "#9c179e"
             ],
             [
              0.4444444444444444,
              "#bd3786"
             ],
             [
              0.5555555555555556,
              "#d8576b"
             ],
             [
              0.6666666666666666,
              "#ed7953"
             ],
             [
              0.7777777777777778,
              "#fb9f3a"
             ],
             [
              0.8888888888888888,
              "#fdca26"
             ],
             [
              1,
              "#f0f921"
             ]
            ],
            "type": "surface"
           }
          ],
          "table": [
           {
            "cells": {
             "fill": {
              "color": "#EBF0F8"
             },
             "line": {
              "color": "white"
             }
            },
            "header": {
             "fill": {
              "color": "#C8D4E3"
             },
             "line": {
              "color": "white"
             }
            },
            "type": "table"
           }
          ]
         },
         "layout": {
          "annotationdefaults": {
           "arrowcolor": "#2a3f5f",
           "arrowhead": 0,
           "arrowwidth": 1
          },
          "autotypenumbers": "strict",
          "coloraxis": {
           "colorbar": {
            "outlinewidth": 0,
            "ticks": ""
           }
          },
          "colorscale": {
           "diverging": [
            [
             0,
             "#8e0152"
            ],
            [
             0.1,
             "#c51b7d"
            ],
            [
             0.2,
             "#de77ae"
            ],
            [
             0.3,
             "#f1b6da"
            ],
            [
             0.4,
             "#fde0ef"
            ],
            [
             0.5,
             "#f7f7f7"
            ],
            [
             0.6,
             "#e6f5d0"
            ],
            [
             0.7,
             "#b8e186"
            ],
            [
             0.8,
             "#7fbc41"
            ],
            [
             0.9,
             "#4d9221"
            ],
            [
             1,
             "#276419"
            ]
           ],
           "sequential": [
            [
             0,
             "#0d0887"
            ],
            [
             0.1111111111111111,
             "#46039f"
            ],
            [
             0.2222222222222222,
             "#7201a8"
            ],
            [
             0.3333333333333333,
             "#9c179e"
            ],
            [
             0.4444444444444444,
             "#bd3786"
            ],
            [
             0.5555555555555556,
             "#d8576b"
            ],
            [
             0.6666666666666666,
             "#ed7953"
            ],
            [
             0.7777777777777778,
             "#fb9f3a"
            ],
            [
             0.8888888888888888,
             "#fdca26"
            ],
            [
             1,
             "#f0f921"
            ]
           ],
           "sequentialminus": [
            [
             0,
             "#0d0887"
            ],
            [
             0.1111111111111111,
             "#46039f"
            ],
            [
             0.2222222222222222,
             "#7201a8"
            ],
            [
             0.3333333333333333,
             "#9c179e"
            ],
            [
             0.4444444444444444,
             "#bd3786"
            ],
            [
             0.5555555555555556,
             "#d8576b"
            ],
            [
             0.6666666666666666,
             "#ed7953"
            ],
            [
             0.7777777777777778,
             "#fb9f3a"
            ],
            [
             0.8888888888888888,
             "#fdca26"
            ],
            [
             1,
             "#f0f921"
            ]
           ]
          },
          "colorway": [
           "#636efa",
           "#EF553B",
           "#00cc96",
           "#ab63fa",
           "#FFA15A",
           "#19d3f3",
           "#FF6692",
           "#B6E880",
           "#FF97FF",
           "#FECB52"
          ],
          "font": {
           "color": "#2a3f5f"
          },
          "geo": {
           "bgcolor": "white",
           "lakecolor": "white",
           "landcolor": "#E5ECF6",
           "showlakes": true,
           "showland": true,
           "subunitcolor": "white"
          },
          "hoverlabel": {
           "align": "left"
          },
          "hovermode": "closest",
          "mapbox": {
           "style": "light"
          },
          "paper_bgcolor": "white",
          "plot_bgcolor": "#E5ECF6",
          "polar": {
           "angularaxis": {
            "gridcolor": "white",
            "linecolor": "white",
            "ticks": ""
           },
           "bgcolor": "#E5ECF6",
           "radialaxis": {
            "gridcolor": "white",
            "linecolor": "white",
            "ticks": ""
           }
          },
          "scene": {
           "xaxis": {
            "backgroundcolor": "#E5ECF6",
            "gridcolor": "white",
            "gridwidth": 2,
            "linecolor": "white",
            "showbackground": true,
            "ticks": "",
            "zerolinecolor": "white"
           },
           "yaxis": {
            "backgroundcolor": "#E5ECF6",
            "gridcolor": "white",
            "gridwidth": 2,
            "linecolor": "white",
            "showbackground": true,
            "ticks": "",
            "zerolinecolor": "white"
           },
           "zaxis": {
            "backgroundcolor": "#E5ECF6",
            "gridcolor": "white",
            "gridwidth": 2,
            "linecolor": "white",
            "showbackground": true,
            "ticks": "",
            "zerolinecolor": "white"
           }
          },
          "shapedefaults": {
           "line": {
            "color": "#2a3f5f"
           }
          },
          "ternary": {
           "aaxis": {
            "gridcolor": "white",
            "linecolor": "white",
            "ticks": ""
           },
           "baxis": {
            "gridcolor": "white",
            "linecolor": "white",
            "ticks": ""
           },
           "bgcolor": "#E5ECF6",
           "caxis": {
            "gridcolor": "white",
            "linecolor": "white",
            "ticks": ""
           }
          },
          "title": {
           "x": 0.05
          },
          "xaxis": {
           "automargin": true,
           "gridcolor": "white",
           "linecolor": "white",
           "ticks": "",
           "title": {
            "standoff": 15
           },
           "zerolinecolor": "white",
           "zerolinewidth": 2
          },
          "yaxis": {
           "automargin": true,
           "gridcolor": "white",
           "linecolor": "white",
           "ticks": "",
           "title": {
            "standoff": 15
           },
           "zerolinecolor": "white",
           "zerolinewidth": 2
          }
         }
        },
        "title": {
         "text": "Kluby podle počtu závodníků"
        },
        "width": 950,
        "xaxis": {
         "anchor": "y",
         "autorange": true,
         "categoryarray": [
          "SC PRAHA",
          "DUKLA OLOMOUC",
          "TJ DUKLA PRAHA",
          "USK PRAHA",
          "TJ LOKO K.VARY",
          "ŠERM LIBEREC",
          "SOKOL DEJVICE",
          "EKONOM PRAHA",
          "TJ LOKO PLZEN",
          "TJ LOKO TEPLICE",
          "SČ USTI NAD LABEM",
          "1.FC BELA POD BEZ",
          "VSK HUMANITA",
          "RIEGEL PRAHA",
          "VUT BRNO",
          "SP.Š. TÁBOR",
          "TJ SOKOL PISEK",
          "SS UH.HRADISTE",
          "SPORŠZZ",
          "ŠERM MASTERS",
          "SLAVOJ LITOMERICE",
          "S.BRNO I",
          "BSK MARTINENGO",
          "VSK ČVUT",
          "SOKOL PLZEN",
          "AKADÉMIA ŠERMU BRATISLAVA",
          "SLAVOJ Č.TĚŠÍN",
          "TBILISI",
          "SILNI BEOGRAD",
          "POL",
          "OREL HR.KR.",
          "TJ SLOVAN HORKY",
          "LAŠSSKFZ",
          "DYNAMO UŽHOROD",
          "BA MPC",
          "AUT"
         ],
         "categoryorder": "array",
         "domain": [
          0,
          1
         ],
         "range": [
          -0.5,
          35.5
         ],
         "tickangle": -90,
         "tickvals": [
          "SC PRAHA",
          "DUKLA OLOMOUC",
          "TJ DUKLA PRAHA",
          "USK PRAHA",
          "TJ LOKO K.VARY",
          "ŠERM LIBEREC",
          "SOKOL DEJVICE",
          "EKONOM PRAHA",
          "TJ LOKO PLZEN",
          "TJ LOKO TEPLICE",
          "SČ USTI NAD LABEM",
          "1.FC BELA POD BEZ",
          "VSK HUMANITA",
          "RIEGEL PRAHA",
          "VUT BRNO",
          "SP.Š. TÁBOR",
          "TJ SOKOL PISEK",
          "SS UH.HRADISTE",
          "SPORŠZZ",
          "ŠERM MASTERS",
          "SLAVOJ LITOMERICE",
          "S.BRNO I",
          "BSK MARTINENGO",
          "VSK ČVUT",
          "SOKOL PLZEN",
          "AKADÉMIA ŠERMU BRATISLAVA",
          "SLAVOJ Č.TĚŠÍN",
          "TBILISI",
          "SILNI BEOGRAD",
          "POL",
          "OREL HR.KR.",
          "TJ SLOVAN HORKY",
          "LAŠSSKFZ",
          "DYNAMO UŽHOROD",
          "BA MPC",
          "AUT"
         ],
         "title": {
          "text": "Club"
         },
         "type": "category"
        },
        "yaxis": {
         "anchor": "x",
         "autorange": true,
         "domain": [
          0,
          1
         ],
         "range": [
          0,
          31.57894736842105
         ],
         "title": {
          "text": "count"
         },
         "type": "linear"
        }
       }
      },
      "image/png": "[encoded data removed]",
      "text/html": [
       "<div>                            <div id=\"6d3c70bc-9983-443a-a430-485f9e4190e4\" class=\"plotly-graph-div\" style=\"height:700px; width:950px;\"></div>            <script type=\"text/javascript\">                require([\"plotly\"], function(Plotly) {                    window.PLOTLYENV=window.PLOTLYENV || {};                                    if (document.getElementById(\"6d3c70bc-9983-443a-a430-485f9e4190e4\")) {                    Plotly.newPlot(                        \"6d3c70bc-9983-443a-a430-485f9e4190e4\",                        [{\"alignmentgroup\":\"True\",\"hovertemplate\":\"Club=%{x}<br>count=%{y}<extra></extra>\",\"legendgroup\":\"SC PRAHA\",\"marker\":{\"color\":\"#636efa\",\"pattern\":{\"shape\":\"\"}},\"name\":\"SC PRAHA\",\"offsetgroup\":\"SC PRAHA\",\"orientation\":\"v\",\"showlegend\":true,\"textposition\":\"auto\",\"texttemplate\":\"%{y:.0s}\",\"x\":[\"SC PRAHA\"],\"xaxis\":\"x\",\"y\":[30],\"yaxis\":\"y\",\"type\":\"bar\"},{\"alignmentgroup\":\"True\",\"hovertemplate\":\"Club=%{x}<br>count=%{y}<extra></extra>\",\"legendgroup\":\"DUKLA OLOMOUC\",\"marker\":{\"color\":\"#EF553B\",\"pattern\":{\"shape\":\"\"}},\"name\":\"DUKLA OLOMOUC\",\"offsetgroup\":\"DUKLA OLOMOUC\",\"orientation\":\"v\",\"showlegend\":true,\"textposition\":\"auto\",\"texttemplate\":\"%{y:.0s}\",\"x\":[\"DUKLA OLOMOUC\"],\"xaxis\":\"x\",\"y\":[15],\"yaxis\":\"y\",\"type\":\"bar\"},{\"alignmentgroup\":\"True\",\"hovertemplate\":\"Club=%{x}<br>count=%{y}<extra></extra>\",\"legendgroup\":\"TJ DUKLA PRAHA\",\"marker\":{\"color\":\"#00cc96\",\"pattern\":{\"shape\":\"\"}},\"name\":\"TJ DUKLA PRAHA\",\"offsetgroup\":\"TJ DUKLA PRAHA\",\"orientation\":\"v\",\"showlegend\":true,\"textposition\":\"auto\",\"texttemplate\":\"%{y:.0s}\",\"x\":[\"TJ DUKLA PRAHA\"],\"xaxis\":\"x\",\"y\":[14],\"yaxis\":\"y\",\"type\":\"bar\"},{\"alignmentgroup\":\"True\",\"hovertemplate\":\"Club=%{x}<br>count=%{y}<extra></extra>\",\"legendgroup\":\"USK PRAHA\",\"marker\":{\"color\":\"#ab63fa\",\"pattern\":{\"shape\":\"\"}},\"name\":\"USK PRAHA\",\"offsetgroup\":\"USK PRAHA\",\"orientation\":\"v\",\"showlegend\":true,\"textposition\":\"auto\",\"texttemplate\":\"%{y:.0s}\",\"x\":[\"USK PRAHA\"],\"xaxis\":\"x\",\"y\":[11],\"yaxis\":\"y\",\"type\":\"bar\"},{\"alignmentgroup\":\"True\",\"hovertemplate\":\"Club=%{x}<br>count=%{y}<extra></extra>\",\"legendgroup\":\"TJ LOKO K.VARY\",\"marker\":{\"color\":\"#FFA15A\",\"pattern\":{\"shape\":\"\"}},\"name\":\"TJ LOKO K.VARY\",\"offsetgroup\":\"TJ LOKO K.VARY\",\"orientation\":\"v\",\"showlegend\":true,\"textposition\":\"auto\",\"texttemplate\":\"%{y:.0s}\",\"x\":[\"TJ LOKO K.VARY\"],\"xaxis\":\"x\",\"y\":[8],\"yaxis\":\"y\",\"type\":\"bar\"},{\"alignmentgroup\":\"True\",\"hovertemplate\":\"Club=%{x}<br>count=%{y}<extra></extra>\",\"legendgroup\":\"\\u0160ERM LIBEREC\",\"marker\":{\"color\":\"#19d3f3\",\"pattern\":{\"shape\":\"\"}},\"name\":\"\\u0160ERM LIBEREC\",\"offsetgroup\":\"\\u0160ERM LIBEREC\",\"orientation\":\"v\",\"showlegend\":true,\"textposition\":\"auto\",\"texttemplate\":\"%{y:.0s}\",\"x\":[\"\\u0160ERM LIBEREC\"],\"xaxis\":\"x\",\"y\":[8],\"yaxis\":\"y\",\"type\":\"bar\"},{\"alignmentgroup\":\"True\",\"hovertemplate\":\"Club=%{x}<br>count=%{y}<extra></extra>\",\"legendgroup\":\"SOKOL DEJVICE\",\"marker\":{\"color\":\"#FF6692\",\"pattern\":{\"shape\":\"\"}},\"name\":\"SOKOL DEJVICE\",\"offsetgroup\":\"SOKOL DEJVICE\",\"orientation\":\"v\",\"showlegend\":true,\"textposition\":\"auto\",\"texttemplate\":\"%{y:.0s}\",\"x\":[\"SOKOL DEJVICE\"],\"xaxis\":\"x\",\"y\":[7],\"yaxis\":\"y\",\"type\":\"bar\"},{\"alignmentgroup\":\"True\",\"hovertemplate\":\"Club=%{x}<br>count=%{y}<extra></extra>\",\"legendgroup\":\"EKONOM PRAHA\",\"marker\":{\"color\":\"#B6E880\",\"pattern\":{\"shape\":\"\"}},\"name\":\"EKONOM PRAHA\",\"offsetgroup\":\"EKONOM PRAHA\",\"orientation\":\"v\",\"showlegend\":true,\"textposition\":\"auto\",\"texttemplate\":\"%{y:.0s}\",\"x\":[\"EKONOM PRAHA\"],\"xaxis\":\"x\",\"y\":[7],\"yaxis\":\"y\",\"type\":\"bar\"},{\"alignmentgroup\":\"True\",\"hovertemplate\":\"Club=%{x}<br>count=%{y}<extra></extra>\",\"legendgroup\":\"TJ LOKO PLZEN\",\"marker\":{\"color\":\"#FF97FF\",\"pattern\":{\"shape\":\"\"}},\"name\":\"TJ LOKO PLZEN\",\"offsetgroup\":\"TJ LOKO PLZEN\",\"orientation\":\"v\",\"showlegend\":true,\"textposition\":\"auto\",\"texttemplate\":\"%{y:.0s}\",\"x\":[\"TJ LOKO PLZEN\"],\"xaxis\":\"x\",\"y\":[7],\"yaxis\":\"y\",\"type\":\"bar\"},{\"alignmentgroup\":\"True\",\"hovertemplate\":\"Club=%{x}<br>count=%{y}<extra></extra>\",\"legendgroup\":\"TJ LOKO TEPLICE\",\"marker\":{\"color\":\"#FECB52\",\"pattern\":{\"shape\":\"\"}},\"name\":\"TJ LOKO TEPLICE\",\"offsetgroup\":\"TJ LOKO TEPLICE\",\"orientation\":\"v\",\"showlegend\":true,\"textposition\":\"auto\",\"texttemplate\":\"%{y:.0s}\",\"x\":[\"TJ LOKO TEPLICE\"],\"xaxis\":\"x\",\"y\":[6],\"yaxis\":\"y\",\"type\":\"bar\"},{\"alignmentgroup\":\"True\",\"hovertemplate\":\"Club=%{x}<br>count=%{y}<extra></extra>\",\"legendgroup\":\"S\\u010c USTI NAD LABEM\",\"marker\":{\"color\":\"#636efa\",\"pattern\":{\"shape\":\"\"}},\"name\":\"S\\u010c USTI NAD LABEM\",\"offsetgroup\":\"S\\u010c USTI NAD LABEM\",\"orientation\":\"v\",\"showlegend\":true,\"textposition\":\"auto\",\"texttemplate\":\"%{y:.0s}\",\"x\":[\"S\\u010c USTI NAD LABEM\"],\"xaxis\":\"x\",\"y\":[6],\"yaxis\":\"y\",\"type\":\"bar\"},{\"alignmentgroup\":\"True\",\"hovertemplate\":\"Club=%{x}<br>count=%{y}<extra></extra>\",\"legendgroup\":\"1.FC BELA POD BEZ\",\"marker\":{\"color\":\"#EF553B\",\"pattern\":{\"shape\":\"\"}},\"name\":\"1.FC BELA POD BEZ\",\"offsetgroup\":\"1.FC BELA POD BEZ\",\"orientation\":\"v\",\"showlegend\":true,\"textposition\":\"auto\",\"texttemplate\":\"%{y:.0s}\",\"x\":[\"1.FC BELA POD BEZ\"],\"xaxis\":\"x\",\"y\":[5],\"yaxis\":\"y\",\"type\":\"bar\"},{\"alignmentgroup\":\"True\",\"hovertemplate\":\"Club=%{x}<br>count=%{y}<extra></extra>\",\"legendgroup\":\"VSK HUMANITA\",\"marker\":{\"color\":\"#00cc96\",\"pattern\":{\"shape\":\"\"}},\"name\":\"VSK HUMANITA\",\"offsetgroup\":\"VSK HUMANITA\",\"orientation\":\"v\",\"showlegend\":true,\"textposition\":\"auto\",\"texttemplate\":\"%{y:.0s}\",\"x\":[\"VSK HUMANITA\"],\"xaxis\":\"x\",\"y\":[5],\"yaxis\":\"y\",\"type\":\"bar\"},{\"alignmentgroup\":\"True\",\"hovertemplate\":\"Club=%{x}<br>count=%{y}<extra></extra>\",\"legendgroup\":\"RIEGEL PRAHA\",\"marker\":{\"color\":\"#ab63fa\",\"pattern\":{\"shape\":\"\"}},\"name\":\"RIEGEL PRAHA\",\"offsetgroup\":\"RIEGEL PRAHA\",\"orientation\":\"v\",\"showlegend\":true,\"textposition\":\"auto\",\"texttemplate\":\"%{y:.0s}\",\"x\":[\"RIEGEL PRAHA\"],\"xaxis\":\"x\",\"y\":[4],\"yaxis\":\"y\",\"type\":\"bar\"},{\"alignmentgroup\":\"True\",\"hovertemplate\":\"Club=%{x}<br>count=%{y}<extra></extra>\",\"legendgroup\":\"VUT BRNO\",\"marker\":{\"color\":\"#FFA15A\",\"pattern\":{\"shape\":\"\"}},\"name\":\"VUT BRNO\",\"offsetgroup\":\"VUT BRNO\",\"orientation\":\"v\",\"showlegend\":true,\"textposition\":\"auto\",\"texttemplate\":\"%{y:.0s}\",\"x\":[\"VUT BRNO\"],\"xaxis\":\"x\",\"y\":[4],\"yaxis\":\"y\",\"type\":\"bar\"},{\"alignmentgroup\":\"True\",\"hovertemplate\":\"Club=%{x}<br>count=%{y}<extra></extra>\",\"legendgroup\":\"SP.\\u0160. T\\u00c1BOR\",\"marker\":{\"color\":\"#19d3f3\",\"pattern\":{\"shape\":\"\"}},\"name\":\"SP.\\u0160. T\\u00c1BOR\",\"offsetgroup\":\"SP.\\u0160. T\\u00c1BOR\",\"orientation\":\"v\",\"showlegend\":true,\"textposition\":\"auto\",\"texttemplate\":\"%{y:.0s}\",\"x\":[\"SP.\\u0160. T\\u00c1BOR\"],\"xaxis\":\"x\",\"y\":[3],\"yaxis\":\"y\",\"type\":\"bar\"},{\"alignmentgroup\":\"True\",\"hovertemplate\":\"Club=%{x}<br>count=%{y}<extra></extra>\",\"legendgroup\":\"TJ SOKOL PISEK\",\"marker\":{\"color\":\"#FF6692\",\"pattern\":{\"shape\":\"\"}},\"name\":\"TJ SOKOL PISEK\",\"offsetgroup\":\"TJ SOKOL PISEK\",\"orientation\":\"v\",\"showlegend\":true,\"textposition\":\"auto\",\"texttemplate\":\"%{y:.0s}\",\"x\":[\"TJ SOKOL PISEK\"],\"xaxis\":\"x\",\"y\":[3],\"yaxis\":\"y\",\"type\":\"bar\"},{\"alignmentgroup\":\"True\",\"hovertemplate\":\"Club=%{x}<br>count=%{y}<extra></extra>\",\"legendgroup\":\"SS UH.HRADISTE\",\"marker\":{\"color\":\"#B6E880\",\"pattern\":{\"shape\":\"\"}},\"name\":\"SS UH.HRADISTE\",\"offsetgroup\":\"SS UH.HRADISTE\",\"orientation\":\"v\",\"showlegend\":true,\"textposition\":\"auto\",\"texttemplate\":\"%{y:.0s}\",\"x\":[\"SS UH.HRADISTE\"],\"xaxis\":\"x\",\"y\":[3],\"yaxis\":\"y\",\"type\":\"bar\"},{\"alignmentgroup\":\"True\",\"hovertemplate\":\"Club=%{x}<br>count=%{y}<extra></extra>\",\"legendgroup\":\"SPOR\\u0160ZZ\",\"marker\":{\"color\":\"#FF97FF\",\"pattern\":{\"shape\":\"\"}},\"name\":\"SPOR\\u0160ZZ\",\"offsetgroup\":\"SPOR\\u0160ZZ\",\"orientation\":\"v\",\"showlegend\":true,\"textposition\":\"auto\",\"texttemplate\":\"%{y:.0s}\",\"x\":[\"SPOR\\u0160ZZ\"],\"xaxis\":\"x\",\"y\":[3],\"yaxis\":\"y\",\"type\":\"bar\"},{\"alignmentgroup\":\"True\",\"hovertemplate\":\"Club=%{x}<br>count=%{y}<extra></extra>\",\"legendgroup\":\"\\u0160ERM MASTERS\",\"marker\":{\"color\":\"#FECB52\",\"pattern\":{\"shape\":\"\"}},\"name\":\"\\u0160ERM MASTERS\",\"offsetgroup\":\"\\u0160ERM MASTERS\",\"orientation\":\"v\",\"showlegend\":true,\"textposition\":\"auto\",\"texttemplate\":\"%{y:.0s}\",\"x\":[\"\\u0160ERM MASTERS\"],\"xaxis\":\"x\",\"y\":[3],\"yaxis\":\"y\",\"type\":\"bar\"},{\"alignmentgroup\":\"True\",\"hovertemplate\":\"Club=%{x}<br>count=%{y}<extra></extra>\",\"legendgroup\":\"SLAVOJ LITOMERICE\",\"marker\":{\"color\":\"#636efa\",\"pattern\":{\"shape\":\"\"}},\"name\":\"SLAVOJ LITOMERICE\",\"offsetgroup\":\"SLAVOJ LITOMERICE\",\"orientation\":\"v\",\"showlegend\":true,\"textposition\":\"auto\",\"texttemplate\":\"%{y:.0s}\",\"x\":[\"SLAVOJ LITOMERICE\"],\"xaxis\":\"x\",\"y\":[3],\"yaxis\":\"y\",\"type\":\"bar\"},{\"alignmentgroup\":\"True\",\"hovertemplate\":\"Club=%{x}<br>count=%{y}<extra></extra>\",\"legendgroup\":\"S.BRNO I\",\"marker\":{\"color\":\"#EF553B\",\"pattern\":{\"shape\":\"\"}},\"name\":\"S.BRNO I\",\"offsetgroup\":\"S.BRNO I\",\"orientation\":\"v\",\"showlegend\":true,\"textposition\":\"auto\",\"texttemplate\":\"%{y:.0s}\",\"x\":[\"S.BRNO I\"],\"xaxis\":\"x\",\"y\":[2],\"yaxis\":\"y\",\"type\":\"bar\"},{\"alignmentgroup\":\"True\",\"hovertemplate\":\"Club=%{x}<br>count=%{y}<extra></extra>\",\"legendgroup\":\"BSK MARTINENGO\",\"marker\":{\"color\":\"#00cc96\",\"pattern\":{\"shape\":\"\"}},\"name\":\"BSK MARTINENGO\",\"offsetgroup\":\"BSK MARTINENGO\",\"orientation\":\"v\",\"showlegend\":true,\"textposition\":\"auto\",\"texttemplate\":\"%{y:.0s}\",\"x\":[\"BSK MARTINENGO\"],\"xaxis\":\"x\",\"y\":[2],\"yaxis\":\"y\",\"type\":\"bar\"},{\"alignmentgroup\":\"True\",\"hovertemplate\":\"Club=%{x}<br>count=%{y}<extra></extra>\",\"legendgroup\":\"VSK \\u010cVUT\",\"marker\":{\"color\":\"#ab63fa\",\"pattern\":{\"shape\":\"\"}},\"name\":\"VSK \\u010cVUT\",\"offsetgroup\":\"VSK \\u010cVUT\",\"orientation\":\"v\",\"showlegend\":true,\"textposition\":\"auto\",\"texttemplate\":\"%{y:.0s}\",\"x\":[\"VSK \\u010cVUT\"],\"xaxis\":\"x\",\"y\":[2],\"yaxis\":\"y\",\"type\":\"bar\"},{\"alignmentgroup\":\"True\",\"hovertemplate\":\"Club=%{x}<br>count=%{y}<extra></extra>\",\"legendgroup\":\"SOKOL PLZEN\",\"marker\":{\"color\":\"#FFA15A\",\"pattern\":{\"shape\":\"\"}},\"name\":\"SOKOL PLZEN\",\"offsetgroup\":\"SOKOL PLZEN\",\"orientation\":\"v\",\"showlegend\":true,\"textposition\":\"auto\",\"texttemplate\":\"%{y:.0s}\",\"x\":[\"SOKOL PLZEN\"],\"xaxis\":\"x\",\"y\":[2],\"yaxis\":\"y\",\"type\":\"bar\"},{\"alignmentgroup\":\"True\",\"hovertemplate\":\"Club=%{x}<br>count=%{y}<extra></extra>\",\"legendgroup\":\"AKAD\\u00c9MIA \\u0160ERMU BRATISLAVA\",\"marker\":{\"color\":\"#19d3f3\",\"pattern\":{\"shape\":\"\"}},\"name\":\"AKAD\\u00c9MIA \\u0160ERMU BRATISLAVA\",\"offsetgroup\":\"AKAD\\u00c9MIA \\u0160ERMU BRATISLAVA\",\"orientation\":\"v\",\"showlegend\":true,\"textposition\":\"auto\",\"texttemplate\":\"%{y:.0s}\",\"x\":[\"AKAD\\u00c9MIA \\u0160ERMU BRATISLAVA\"],\"xaxis\":\"x\",\"y\":[1],\"yaxis\":\"y\",\"type\":\"bar\"},{\"alignmentgroup\":\"True\",\"hovertemplate\":\"Club=%{x}<br>count=%{y}<extra></extra>\",\"legendgroup\":\"SLAVOJ \\u010c.T\\u011a\\u0160\\u00cdN\",\"marker\":{\"color\":\"#FF6692\",\"pattern\":{\"shape\":\"\"}},\"name\":\"SLAVOJ \\u010c.T\\u011a\\u0160\\u00cdN\",\"offsetgroup\":\"SLAVOJ \\u010c.T\\u011a\\u0160\\u00cdN\",\"orientation\":\"v\",\"showlegend\":true,\"textposition\":\"auto\",\"texttemplate\":\"%{y:.0s}\",\"x\":[\"SLAVOJ \\u010c.T\\u011a\\u0160\\u00cdN\"],\"xaxis\":\"x\",\"y\":[1],\"yaxis\":\"y\",\"type\":\"bar\"},{\"alignmentgroup\":\"True\",\"hovertemplate\":\"Club=%{x}<br>count=%{y}<extra></extra>\",\"legendgroup\":\"TBILISI\",\"marker\":{\"color\":\"#B6E880\",\"pattern\":{\"shape\":\"\"}},\"name\":\"TBILISI\",\"offsetgroup\":\"TBILISI\",\"orientation\":\"v\",\"showlegend\":true,\"textposition\":\"auto\",\"texttemplate\":\"%{y:.0s}\",\"x\":[\"TBILISI\"],\"xaxis\":\"x\",\"y\":[1],\"yaxis\":\"y\",\"type\":\"bar\"},{\"alignmentgroup\":\"True\",\"hovertemplate\":\"Club=%{x}<br>count=%{y}<extra></extra>\",\"legendgroup\":\"SILNI BEOGRAD\",\"marker\":{\"color\":\"#FF97FF\",\"pattern\":{\"shape\":\"\"}},\"name\":\"SILNI BEOGRAD\",\"offsetgroup\":\"SILNI BEOGRAD\",\"orientation\":\"v\",\"showlegend\":true,\"textposition\":\"auto\",\"texttemplate\":\"%{y:.0s}\",\"x\":[\"SILNI BEOGRAD\"],\"xaxis\":\"x\",\"y\":[1],\"yaxis\":\"y\",\"type\":\"bar\"},{\"alignmentgroup\":\"True\",\"hovertemplate\":\"Club=%{x}<br>count=%{y}<extra></extra>\",\"legendgroup\":\"POL\",\"marker\":{\"color\":\"#FECB52\",\"pattern\":{\"shape\":\"\"}},\"name\":\"POL\",\"offsetgroup\":\"POL\",\"orientation\":\"v\",\"showlegend\":true,\"textposition\":\"auto\",\"texttemplate\":\"%{y:.0s}\",\"x\":[\"POL\"],\"xaxis\":\"x\",\"y\":[1],\"yaxis\":\"y\",\"type\":\"bar\"},{\"alignmentgroup\":\"True\",\"hovertemplate\":\"Club=%{x}<br>count=%{y}<extra></extra>\",\"legendgroup\":\"OREL HR.KR.\",\"marker\":{\"color\":\"#636efa\",\"pattern\":{\"shape\":\"\"}},\"name\":\"OREL HR.KR.\",\"offsetgroup\":\"OREL HR.KR.\",\"orientation\":\"v\",\"showlegend\":true,\"textposition\":\"auto\",\"texttemplate\":\"%{y:.0s}\",\"x\":[\"OREL HR.KR.\"],\"xaxis\":\"x\",\"y\":[1],\"yaxis\":\"y\",\"type\":\"bar\"},{\"alignmentgroup\":\"True\",\"hovertemplate\":\"Club=%{x}<br>count=%{y}<extra></extra>\",\"legendgroup\":\"TJ SLOVAN HORKY\",\"marker\":{\"color\":\"#EF553B\",\"pattern\":{\"shape\":\"\"}},\"name\":\"TJ SLOVAN HORKY\",\"offsetgroup\":\"TJ SLOVAN HORKY\",\"orientation\":\"v\",\"showlegend\":true,\"textposition\":\"auto\",\"texttemplate\":\"%{y:.0s}\",\"x\":[\"TJ SLOVAN HORKY\"],\"xaxis\":\"x\",\"y\":[1],\"yaxis\":\"y\",\"type\":\"bar\"},{\"alignmentgroup\":\"True\",\"hovertemplate\":\"Club=%{x}<br>count=%{y}<extra></extra>\",\"legendgroup\":\"LA\\u0160SSKFZ\",\"marker\":{\"color\":\"#00cc96\",\"pattern\":{\"shape\":\"\"}},\"name\":\"LA\\u0160SSKFZ\",\"offsetgroup\":\"LA\\u0160SSKFZ\",\"orientation\":\"v\",\"showlegend\":true,\"textposition\":\"auto\",\"texttemplate\":\"%{y:.0s}\",\"x\":[\"LA\\u0160SSKFZ\"],\"xaxis\":\"x\",\"y\":[1],\"yaxis\":\"y\",\"type\":\"bar\"},{\"alignmentgroup\":\"True\",\"hovertemplate\":\"Club=%{x}<br>count=%{y}<extra></extra>\",\"legendgroup\":\"DYNAMO U\\u017dHOROD\",\"marker\":{\"color\":\"#ab63fa\",\"pattern\":{\"shape\":\"\"}},\"name\":\"DYNAMO U\\u017dHOROD\",\"offsetgroup\":\"DYNAMO U\\u017dHOROD\",\"orientation\":\"v\",\"showlegend\":true,\"textposition\":\"auto\",\"texttemplate\":\"%{y:.0s}\",\"x\":[\"DYNAMO U\\u017dHOROD\"],\"xaxis\":\"x\",\"y\":[1],\"yaxis\":\"y\",\"type\":\"bar\"},{\"alignmentgroup\":\"True\",\"hovertemplate\":\"Club=%{x}<br>count=%{y}<extra></extra>\",\"legendgroup\":\"BA MPC\",\"marker\":{\"color\":\"#FFA15A\",\"pattern\":{\"shape\":\"\"}},\"name\":\"BA MPC\",\"offsetgroup\":\"BA MPC\",\"orientation\":\"v\",\"showlegend\":true,\"textposition\":\"auto\",\"texttemplate\":\"%{y:.0s}\",\"x\":[\"BA MPC\"],\"xaxis\":\"x\",\"y\":[1],\"yaxis\":\"y\",\"type\":\"bar\"},{\"alignmentgroup\":\"True\",\"hovertemplate\":\"Club=%{x}<br>count=%{y}<extra></extra>\",\"legendgroup\":\"AUT\",\"marker\":{\"color\":\"#19d3f3\",\"pattern\":{\"shape\":\"\"}},\"name\":\"AUT\",\"offsetgroup\":\"AUT\",\"orientation\":\"v\",\"showlegend\":true,\"textposition\":\"auto\",\"texttemplate\":\"%{y:.0s}\",\"x\":[\"AUT\"],\"xaxis\":\"x\",\"y\":[1],\"yaxis\":\"y\",\"type\":\"bar\"}],                        {\"template\":{\"data\":{\"bar\":[{\"error_x\":{\"color\":\"#2a3f5f\"},\"error_y\":{\"color\":\"#2a3f5f\"},\"marker\":{\"line\":{\"color\":\"#E5ECF6\",\"width\":0.5},\"pattern\":{\"fillmode\":\"overlay\",\"size\":10,\"solidity\":0.2}},\"type\":\"bar\"}],\"barpolar\":[{\"marker\":{\"line\":{\"color\":\"#E5ECF6\",\"width\":0.5},\"pattern\":{\"fillmode\":\"overlay\",\"size\":10,\"solidity\":0.2}},\"type\":\"barpolar\"}],\"carpet\":[{\"aaxis\":{\"endlinecolor\":\"#2a3f5f\",\"gridcolor\":\"white\",\"linecolor\":\"white\",\"minorgridcolor\":\"white\",\"startlinecolor\":\"#2a3f5f\"},\"baxis\":{\"endlinecolor\":\"#2a3f5f\",\"gridcolor\":\"white\",\"linecolor\":\"white\",\"minorgridcolor\":\"white\",\"startlinecolor\":\"#2a3f5f\"},\"type\":\"carpet\"}],\"choropleth\":[{\"colorbar\":{\"outlinewidth\":0,\"ticks\":\"\"},\"type\":\"choropleth\"}],\"contour\":[{\"colorbar\":{\"outlinewidth\":0,\"ticks\":\"\"},\"colorscale\":[[0.0,\"#0d0887\"],[0.1111111111111111,\"#46039f\"],[0.2222222222222222,\"#7201a8\"],[0.3333333333333333,\"#9c179e\"],[0.4444444444444444,\"#bd3786\"],[0.5555555555555556,\"#d8576b\"],[0.6666666666666666,\"#ed7953\"],[0.7777777777777778,\"#fb9f3a\"],[0.8888888888888888,\"#fdca26\"],[1.0,\"#f0f921\"]],\"type\":\"contour\"}],\"contourcarpet\":[{\"colorbar\":{\"outlinewidth\":0,\"ticks\":\"\"},\"type\":\"contourcarpet\"}],\"heatmap\":[{\"colorbar\":{\"outlinewidth\":0,\"ticks\":\"\"},\"colorscale\":[[0.0,\"#0d0887\"],[0.1111111111111111,\"#46039f\"],[0.2222222222222222,\"#7201a8\"],[0.3333333333333333,\"#9c179e\"],[0.4444444444444444,\"#bd3786\"],[0.5555555555555556,\"#d8576b\"],[0.6666666666666666,\"#ed7953\"],[0.7777777777777778,\"#fb9f3a\"],[0.8888888888888888,\"#fdca26\"],[1.0,\"#f0f921\"]],\"type\":\"heatmap\"}],\"heatmapgl\":[{\"colorbar\":{\"outlinewidth\":0,\"ticks\":\"\"},\"colorscale\":[[0.0,\"#0d0887\"],[0.1111111111111111,\"#46039f\"],[0.2222222222222222,\"#7201a8\"],[0.3333333333333333,\"#9c179e\"],[0.4444444444444444,\"#bd3786\"],[0.5555555555555556,\"#d8576b\"],[0.6666666666666666,\"#ed7953\"],[0.7777777777777778,\"#fb9f3a\"],[0.8888888888888888,\"#fdca26\"],[1.0,\"#f0f921\"]],\"type\":\"heatmapgl\"}],\"histogram\":[{\"marker\":{\"pattern\":{\"fillmode\":\"overlay\",\"size\":10,\"solidity\":0.2}},\"type\":\"histogram\"}],\"histogram2d\":[{\"colorbar\":{\"outlinewidth\":0,\"ticks\":\"\"},\"colorscale\":[[0.0,\"#0d0887\"],[0.1111111111111111,\"#46039f\"],[0.2222222222222222,\"#7201a8\"],[0.3333333333333333,\"#9c179e\"],[0.4444444444444444,\"#bd3786\"],[0.5555555555555556,\"#d8576b\"],[0.6666666666666666,\"#ed7953\"],[0.7777777777777778,\"#fb9f3a\"],[0.8888888888888888,\"#fdca26\"],[1.0,\"#f0f921\"]],\"type\":\"histogram2d\"}],\"histogram2dcontour\":[{\"colorbar\":{\"outlinewidth\":0,\"ticks\":\"\"},\"colorscale\":[[0.0,\"#0d0887\"],[0.1111111111111111,\"#46039f\"],[0.2222222222222222,\"#7201a8\"],[0.3333333333333333,\"#9c179e\"],[0.4444444444444444,\"#bd3786\"],[0.5555555555555556,\"#d8576b\"],[0.6666666666666666,\"#ed7953\"],[0.7777777777777778,\"#fb9f3a\"],[0.8888888888888888,\"#fdca26\"],[1.0,\"#f0f921\"]],\"type\":\"histogram2dcontour\"}],\"mesh3d\":[{\"colorbar\":{\"outlinewidth\":0,\"ticks\":\"\"},\"type\":\"mesh3d\"}],\"parcoords\":[{\"line\":{\"colorbar\":{\"outlinewidth\":0,\"ticks\":\"\"}},\"type\":\"parcoords\"}],\"pie\":[{\"automargin\":true,\"type\":\"pie\"}],\"scatter\":[{\"marker\":{\"colorbar\":{\"outlinewidth\":0,\"ticks\":\"\"}},\"type\":\"scatter\"}],\"scatter3d\":[{\"line\":{\"colorbar\":{\"outlinewidth\":0,\"ticks\":\"\"}},\"marker\":{\"colorbar\":{\"outlinewidth\":0,\"ticks\":\"\"}},\"type\":\"scatter3d\"}],\"scattercarpet\":[{\"marker\":{\"colorbar\":{\"outlinewidth\":0,\"ticks\":\"\"}},\"type\":\"scattercarpet\"}],\"scattergeo\":[{\"marker\":{\"colorbar\":{\"outlinewidth\":0,\"ticks\":\"\"}},\"type\":\"scattergeo\"}],\"scattergl\":[{\"marker\":{\"colorbar\":{\"outlinewidth\":0,\"ticks\":\"\"}},\"type\":\"scattergl\"}],\"scattermapbox\":[{\"marker\":{\"colorbar\":{\"outlinewidth\":0,\"ticks\":\"\"}},\"type\":\"scattermapbox\"}],\"scatterpolar\":[{\"marker\":{\"colorbar\":{\"outlinewidth\":0,\"ticks\":\"\"}},\"type\":\"scatterpolar\"}],\"scatterpolargl\":[{\"marker\":{\"colorbar\":{\"outlinewidth\":0,\"ticks\":\"\"}},\"type\":\"scatterpolargl\"}],\"scatterternary\":[{\"marker\":{\"colorbar\":{\"outlinewidth\":0,\"ticks\":\"\"}},\"type\":\"scatterternary\"}],\"surface\":[{\"colorbar\":{\"outlinewidth\":0,\"ticks\":\"\"},\"colorscale\":[[0.0,\"#0d0887\"],[0.1111111111111111,\"#46039f\"],[0.2222222222222222,\"#7201a8\"],[0.3333333333333333,\"#9c179e\"],[0.4444444444444444,\"#bd3786\"],[0.5555555555555556,\"#d8576b\"],[0.6666666666666666,\"#ed7953\"],[0.7777777777777778,\"#fb9f3a\"],[0.8888888888888888,\"#fdca26\"],[1.0,\"#f0f921\"]],\"type\":\"surface\"}],\"table\":[{\"cells\":{\"fill\":{\"color\":\"#EBF0F8\"},\"line\":{\"color\":\"white\"}},\"header\":{\"fill\":{\"color\":\"#C8D4E3\"},\"line\":{\"color\":\"white\"}},\"type\":\"table\"}]},\"layout\":{\"annotationdefaults\":{\"arrowcolor\":\"#2a3f5f\",\"arrowhead\":0,\"arrowwidth\":1},\"autotypenumbers\":\"strict\",\"coloraxis\":{\"colorbar\":{\"outlinewidth\":0,\"ticks\":\"\"}},\"colorscale\":{\"diverging\":[[0,\"#8e0152\"],[0.1,\"#c51b7d\"],[0.2,\"#de77ae\"],[0.3,\"#f1b6da\"],[0.4,\"#fde0ef\"],[0.5,\"#f7f7f7\"],[0.6,\"#e6f5d0\"],[0.7,\"#b8e186\"],[0.8,\"#7fbc41\"],[0.9,\"#4d9221\"],[1,\"#276419\"]],\"sequential\":[[0.0,\"#0d0887\"],[0.1111111111111111,\"#46039f\"],[0.2222222222222222,\"#7201a8\"],[0.3333333333333333,\"#9c179e\"],[0.4444444444444444,\"#bd3786\"],[0.5555555555555556,\"#d8576b\"],[0.6666666666666666,\"#ed7953\"],[0.7777777777777778,\"#fb9f3a\"],[0.8888888888888888,\"#fdca26\"],[1.0,\"#f0f921\"]],\"sequentialminus\":[[0.0,\"#0d0887\"],[0.1111111111111111,\"#46039f\"],[0.2222222222222222,\"#7201a8\"],[0.3333333333333333,\"#9c179e\"],[0.4444444444444444,\"#bd3786\"],[0.5555555555555556,\"#d8576b\"],[0.6666666666666666,\"#ed7953\"],[0.7777777777777778,\"#fb9f3a\"],[0.8888888888888888,\"#fdca26\"],[1.0,\"#f0f921\"]]},\"colorway\":[\"#636efa\",\"#EF553B\",\"#00cc96\",\"#ab63fa\",\"#FFA15A\",\"#19d3f3\",\"#FF6692\",\"#B6E880\",\"#FF97FF\",\"#FECB52\"],\"font\":{\"color\":\"#2a3f5f\"},\"geo\":{\"bgcolor\":\"white\",\"lakecolor\":\"white\",\"landcolor\":\"#E5ECF6\",\"showlakes\":true,\"showland\":true,\"subunitcolor\":\"white\"},\"hoverlabel\":{\"align\":\"left\"},\"hovermode\":\"closest\",\"mapbox\":{\"style\":\"light\"},\"paper_bgcolor\":\"white\",\"plot_bgcolor\":\"#E5ECF6\",\"polar\":{\"angularaxis\":{\"gridcolor\":\"white\",\"linecolor\":\"white\",\"ticks\":\"\"},\"bgcolor\":\"#E5ECF6\",\"radialaxis\":{\"gridcolor\":\"white\",\"linecolor\":\"white\",\"ticks\":\"\"}},\"scene\":{\"xaxis\":{\"backgroundcolor\":\"#E5ECF6\",\"gridcolor\":\"white\",\"gridwidth\":2,\"linecolor\":\"white\",\"showbackground\":true,\"ticks\":\"\",\"zerolinecolor\":\"white\"},\"yaxis\":{\"backgroundcolor\":\"#E5ECF6\",\"gridcolor\":\"white\",\"gridwidth\":2,\"linecolor\":\"white\",\"showbackground\":true,\"ticks\":\"\",\"zerolinecolor\":\"white\"},\"zaxis\":{\"backgroundcolor\":\"#E5ECF6\",\"gridcolor\":\"white\",\"gridwidth\":2,\"linecolor\":\"white\",\"showbackground\":true,\"ticks\":\"\",\"zerolinecolor\":\"white\"}},\"shapedefaults\":{\"line\":{\"color\":\"#2a3f5f\"}},\"ternary\":{\"aaxis\":{\"gridcolor\":\"white\",\"linecolor\":\"white\",\"ticks\":\"\"},\"baxis\":{\"gridcolor\":\"white\",\"linecolor\":\"white\",\"ticks\":\"\"},\"bgcolor\":\"#E5ECF6\",\"caxis\":{\"gridcolor\":\"white\",\"linecolor\":\"white\",\"ticks\":\"\"}},\"title\":{\"x\":0.05},\"xaxis\":{\"automargin\":true,\"gridcolor\":\"white\",\"linecolor\":\"white\",\"ticks\":\"\",\"title\":{\"standoff\":15},\"zerolinecolor\":\"white\",\"zerolinewidth\":2},\"yaxis\":{\"automargin\":true,\"gridcolor\":\"white\",\"linecolor\":\"white\",\"ticks\":\"\",\"title\":{\"standoff\":15},\"zerolinecolor\":\"white\",\"zerolinewidth\":2}}},\"xaxis\":{\"anchor\":\"y\",\"domain\":[0.0,1.0],\"title\":{\"text\":\"Club\"},\"categoryorder\":\"array\",\"categoryarray\":[\"SC PRAHA\",\"DUKLA OLOMOUC\",\"TJ DUKLA PRAHA\",\"USK PRAHA\",\"TJ LOKO K.VARY\",\"\\u0160ERM LIBEREC\",\"SOKOL DEJVICE\",\"EKONOM PRAHA\",\"TJ LOKO PLZEN\",\"TJ LOKO TEPLICE\",\"S\\u010c USTI NAD LABEM\",\"1.FC BELA POD BEZ\",\"VSK HUMANITA\",\"RIEGEL PRAHA\",\"VUT BRNO\",\"SP.\\u0160. T\\u00c1BOR\",\"TJ SOKOL PISEK\",\"SS UH.HRADISTE\",\"SPOR\\u0160ZZ\",\"\\u0160ERM MASTERS\",\"SLAVOJ LITOMERICE\",\"S.BRNO I\",\"BSK MARTINENGO\",\"VSK \\u010cVUT\",\"SOKOL PLZEN\",\"AKAD\\u00c9MIA \\u0160ERMU BRATISLAVA\",\"SLAVOJ \\u010c.T\\u011a\\u0160\\u00cdN\",\"TBILISI\",\"SILNI BEOGRAD\",\"POL\",\"OREL HR.KR.\",\"TJ SLOVAN HORKY\",\"LA\\u0160SSKFZ\",\"DYNAMO U\\u017dHOROD\",\"BA MPC\",\"AUT\"],\"tickvals\":[\"SC PRAHA\",\"DUKLA OLOMOUC\",\"TJ DUKLA PRAHA\",\"USK PRAHA\",\"TJ LOKO K.VARY\",\"\\u0160ERM LIBEREC\",\"SOKOL DEJVICE\",\"EKONOM PRAHA\",\"TJ LOKO PLZEN\",\"TJ LOKO TEPLICE\",\"S\\u010c USTI NAD LABEM\",\"1.FC BELA POD BEZ\",\"VSK HUMANITA\",\"RIEGEL PRAHA\",\"VUT BRNO\",\"SP.\\u0160. T\\u00c1BOR\",\"TJ SOKOL PISEK\",\"SS UH.HRADISTE\",\"SPOR\\u0160ZZ\",\"\\u0160ERM MASTERS\",\"SLAVOJ LITOMERICE\",\"S.BRNO I\",\"BSK MARTINENGO\",\"VSK \\u010cVUT\",\"SOKOL PLZEN\",\"AKAD\\u00c9MIA \\u0160ERMU BRATISLAVA\",\"SLAVOJ \\u010c.T\\u011a\\u0160\\u00cdN\",\"TBILISI\",\"SILNI BEOGRAD\",\"POL\",\"OREL HR.KR.\",\"TJ SLOVAN HORKY\",\"LA\\u0160SSKFZ\",\"DYNAMO U\\u017dHOROD\",\"BA MPC\",\"AUT\"],\"tickangle\":-90},\"yaxis\":{\"anchor\":\"x\",\"domain\":[0.0,1.0],\"title\":{\"text\":\"count\"}},\"legend\":{\"title\":{\"text\":\"Club\"},\"tracegroupgap\":0},\"title\":{\"text\":\"Kluby podle po\\u010dtu z\\u00e1vodn\\u00edk\\u016f\"},\"barmode\":\"relative\",\"height\":700,\"width\":950},                        {\"responsive\": true}                    ).then(function(){\n",
       "                            \n",
       "var gd = document.getElementById('6d3c70bc-9983-443a-a430-485f9e4190e4');\n",
       "var x = new MutationObserver(function (mutations, observer) {{\n",
       "        var display = window.getComputedStyle(gd).display;\n",
       "        if (!display || display === 'none') {{\n",
       "            console.log([gd, 'removed!']);\n",
       "            Plotly.purge(gd);\n",
       "            observer.disconnect();\n",
       "        }}\n",
       "}});\n",
       "\n",
       "// Listen for the removal of the full notebook cells\n",
       "var notebookContainer = gd.closest('#notebook-container');\n",
       "if (notebookContainer) {{\n",
       "    x.observe(notebookContainer, {childList: true});\n",
       "}}\n",
       "\n",
       "// Listen for the clearing of the current output cell\n",
       "var outputEl = gd.closest('.output');\n",
       "if (outputEl) {{\n",
       "    x.observe(outputEl, {childList: true});\n",
       "}}\n",
       "\n",
       "                        })                };                });            </script>        </div>"
      ]
     },
     "metadata": {},
     "output_type": "display_data"
    }
   ],
   "source": [
    "d3 = pd.DataFrame({'count' : df.groupby( [\"Club\"] ).size()}).reset_index()\n",
    "d3 = d3.sort_values(\"count\", ascending = False)\n",
    "#d3\n",
    "\n",
    "fig = px.bar(d3, x= d3[\"Club\"],\n",
    "             y= d3[\"count\"], \n",
    "             color = d3[\"Club\"] ,\n",
    "             text_auto='.0s',       # případně můžu zap/vyp číselné popisky\n",
    "             width=950, height=700,\n",
    "             title=\"Kluby podle počtu závodníků\")\n",
    "\n",
    "#fig.update_traces(textfont_size=12, textangle=0, cliponaxis=False)\n",
    "fig.update_layout(xaxis = dict(tickvals = d3[\"Club\"]))\n",
    "fig.update_xaxes(tickangle=270)\n",
    "\n",
    "fig.show()\n",
    "\n",
    "pio.write_html(fig, file=\"vizualizace/V2_Club.html\", auto_open=True)"
   ]
  },
  {
   "cell_type": "markdown",
   "id": "4551ff16-9af1-4553-b1b4-9b6908dbf503",
   "metadata": {},
   "source": [
    "## Statistiky k Rankům - opět z celého datasetu df_m (447 řádků)\n",
    "* medaile podle kovu - nutnost vyřešit překrývání sloupců\n",
    "* pro složitější ploty (víc než jeden simple groupby) budou lepší dictionaries, případně listy i s nulami\n",
    "* např. pro stacked nebo sdružené sloupce"
   ]
  },
  {
   "cell_type": "code",
   "execution_count": 5,
   "id": "3d3d4b3b-a140-4d59-aa5f-37b674ccd23b",
   "metadata": {},
   "outputs": [
    {
     "name": "stdout",
     "output_type": "stream",
     "text": [
      "\u001b[1m545\u001b[0m\n"
     ]
    },
    {
     "data": {
      "text/html": [
       "<div>\n",
       "<style scoped>\n",
       "    .dataframe tbody tr th:only-of-type {\n",
       "        vertical-align: middle;\n",
       "    }\n",
       "\n",
       "    .dataframe tbody tr th {\n",
       "        vertical-align: top;\n",
       "    }\n",
       "\n",
       "    .dataframe thead th {\n",
       "        text-align: right;\n",
       "    }\n",
       "</style>\n",
       "<table border=\"1\" class=\"dataframe\">\n",
       "  <thead>\n",
       "    <tr style=\"text-align: right;\">\n",
       "      <th></th>\n",
       "      <th>Name</th>\n",
       "      <th>Club</th>\n",
       "      <th>Country</th>\n",
       "      <th>Birthdate</th>\n",
       "      <th>Date</th>\n",
       "      <th>Event</th>\n",
       "      <th>Sex</th>\n",
       "      <th>Rank</th>\n",
       "      <th>First_rank</th>\n",
       "      <th>Final_rank</th>\n",
       "      <th>Notes</th>\n",
       "      <th>Year</th>\n",
       "    </tr>\n",
       "  </thead>\n",
       "  <tbody>\n",
       "    <tr>\n",
       "      <th>0</th>\n",
       "      <td>ADDO DJAN Theodor Ezekiel</td>\n",
       "      <td>SOKOL DEJVICE</td>\n",
       "      <td>CZE</td>\n",
       "      <td>2006-11-06</td>\n",
       "      <td>2021-12-18</td>\n",
       "      <td>Memorial</td>\n",
       "      <td>M</td>\n",
       "      <td>999.0</td>\n",
       "      <td>56</td>\n",
       "      <td>56</td>\n",
       "      <td>Advanced</td>\n",
       "      <td>2006</td>\n",
       "    </tr>\n",
       "    <tr>\n",
       "      <th>1</th>\n",
       "      <td>ANDERLE Petr</td>\n",
       "      <td>RIEGEL PRAHA</td>\n",
       "      <td>CZE</td>\n",
       "      <td>1977-07-07</td>\n",
       "      <td>2021-12-18</td>\n",
       "      <td>Memorial</td>\n",
       "      <td>M</td>\n",
       "      <td>24.0</td>\n",
       "      <td>45</td>\n",
       "      <td>16</td>\n",
       "      <td>Advanced</td>\n",
       "      <td>1977</td>\n",
       "    </tr>\n",
       "  </tbody>\n",
       "</table>\n",
       "</div>"
      ],
      "text/plain": [
       "                        Name           Club Country  Birthdate       Date  \\\n",
       "0  ADDO DJAN Theodor Ezekiel  SOKOL DEJVICE     CZE 2006-11-06 2021-12-18   \n",
       "1               ANDERLE Petr   RIEGEL PRAHA     CZE 1977-07-07 2021-12-18   \n",
       "\n",
       "      Event Sex   Rank  First_rank  Final_rank     Notes  Year  \n",
       "0  Memorial   M  999.0          56          56  Advanced  2006  \n",
       "1  Memorial   M   24.0          45          16  Advanced  1977  "
      ]
     },
     "metadata": {},
     "output_type": "display_data"
    },
    {
     "data": {
      "text/html": [
       "<div>\n",
       "<style scoped>\n",
       "    .dataframe tbody tr th:only-of-type {\n",
       "        vertical-align: middle;\n",
       "    }\n",
       "\n",
       "    .dataframe tbody tr th {\n",
       "        vertical-align: top;\n",
       "    }\n",
       "\n",
       "    .dataframe thead th {\n",
       "        text-align: right;\n",
       "    }\n",
       "</style>\n",
       "<table border=\"1\" class=\"dataframe\">\n",
       "  <thead>\n",
       "    <tr style=\"text-align: right;\">\n",
       "      <th></th>\n",
       "      <th>Name</th>\n",
       "      <th>Club</th>\n",
       "      <th>Country</th>\n",
       "      <th>Birthdate</th>\n",
       "      <th>Date</th>\n",
       "      <th>Event</th>\n",
       "      <th>Sex</th>\n",
       "      <th>Rank</th>\n",
       "      <th>First_rank</th>\n",
       "      <th>Final_rank</th>\n",
       "      <th>Notes</th>\n",
       "      <th>Year</th>\n",
       "    </tr>\n",
       "  </thead>\n",
       "  <tbody>\n",
       "    <tr>\n",
       "      <th>543</th>\n",
       "      <td>WALLER Jonáš</td>\n",
       "      <td>SC PRAHA</td>\n",
       "      <td>CZE</td>\n",
       "      <td>2008-10-10</td>\n",
       "      <td>2022-12-17</td>\n",
       "      <td>Memorial</td>\n",
       "      <td>M</td>\n",
       "      <td>25.0</td>\n",
       "      <td>35</td>\n",
       "      <td>29</td>\n",
       "      <td>Advanced</td>\n",
       "      <td>2008</td>\n",
       "    </tr>\n",
       "    <tr>\n",
       "      <th>544</th>\n",
       "      <td>ZELENKA Jiří</td>\n",
       "      <td>VSK HUMANITA</td>\n",
       "      <td>CZE</td>\n",
       "      <td>1993-06-04</td>\n",
       "      <td>2022-12-17</td>\n",
       "      <td>Memorial</td>\n",
       "      <td>M</td>\n",
       "      <td>131.0</td>\n",
       "      <td>95</td>\n",
       "      <td>95</td>\n",
       "      <td>Eliminated</td>\n",
       "      <td>1993</td>\n",
       "    </tr>\n",
       "  </tbody>\n",
       "</table>\n",
       "</div>"
      ],
      "text/plain": [
       "             Name          Club Country  Birthdate       Date     Event Sex  \\\n",
       "543  WALLER Jonáš      SC PRAHA     CZE 2008-10-10 2022-12-17  Memorial   M   \n",
       "544  ZELENKA Jiří  VSK HUMANITA     CZE 1993-06-04 2022-12-17  Memorial   M   \n",
       "\n",
       "      Rank  First_rank  Final_rank       Notes  Year  \n",
       "543   25.0          35          29    Advanced  2008  \n",
       "544  131.0          95          95  Eliminated  1993  "
      ]
     },
     "metadata": {},
     "output_type": "display_data"
    }
   ],
   "source": [
    "df_m = pd.read_excel(\"C:/Users/jzelenka/Documents/python_j/fencing/2_ranky.xlsx\")\n",
    "printbold(str(len(df_m)))\n",
    "display(df_m.head(2))\n",
    "display(df_m.tail(2))"
   ]
  },
  {
   "cell_type": "code",
   "execution_count": 6,
   "id": "5b1d9c86-785c-450c-b9f6-f1083b79aeed",
   "metadata": {},
   "outputs": [
    {
     "name": "stdout",
     "output_type": "stream",
     "text": [
      "545\n"
     ]
    }
   ],
   "source": [
    "# lets drop DNFs\n",
    "df_m = df_m[df_m.Final_rank != \"DNF\"]\n",
    "print(len(df_m))"
   ]
  },
  {
   "cell_type": "code",
   "execution_count": null,
   "id": "96607fe0-31df-4bce-a49d-b2c3215365c9",
   "metadata": {
    "tags": []
   },
   "outputs": [],
   "source": [
    "df_m.groupby([\"Name\", \"Club\", \"Year\"])['Final_rank'].min()"
   ]
  },
  {
   "cell_type": "markdown",
   "id": "ccb3a731-3eeb-47f6-94eb-5d7c6d8e474a",
   "metadata": {
    "tags": []
   },
   "source": [
    "## Medaile souhrnně podle roku narození"
   ]
  },
  {
   "cell_type": "code",
   "execution_count": 57,
   "id": "8595271f-c2f7-41a5-acac-f22f2ae84cf9",
   "metadata": {
    "tags": []
   },
   "outputs": [],
   "source": [
    "medals = df_m.loc[df_m.Final_rank.isin([1,2,3]), :]"
   ]
  },
  {
   "cell_type": "code",
   "execution_count": 58,
   "id": "fa7caebf-40ec-4217-bc4e-847db6df8caa",
   "metadata": {},
   "outputs": [
    {
     "data": {
      "image/png": "[encoded data removed]",
      "text/plain": [
       "<Figure size 480x400 with 1 Axes>"
      ]
     },
     "metadata": {
      "needs_background": "light"
     },
     "output_type": "display_data"
    }
   ],
   "source": [
    "figure(figsize=(6, 5), dpi=80)\n",
    "\n",
    "years = sorted(medals[\"Year\"].unique())\n",
    "counts = medals.groupby('Year')['Year'].count()\n",
    "plt.xticks(years, rotation='vertical')\n",
    "plt.bar(years, counts, width=0.8)  # šířka sloupečku\n",
    "\n",
    "plt.show()"
   ]
  },
  {
   "cell_type": "markdown",
   "id": "c3ef0bfb-bead-499d-a550-cd34af9e8833",
   "metadata": {},
   "source": [
    "### Rozdělení na jednotlivé kovy\n",
    "* medaile podle kovu - vyřešeno překrývání sloupců !"
   ]
  },
  {
   "cell_type": "code",
   "execution_count": 7,
   "id": "55830461-1ee6-41c8-b18c-7d68c56764ff",
   "metadata": {},
   "outputs": [
    {
     "name": "stdout",
     "output_type": "stream",
     "text": [
      "44\n",
      "44\n"
     ]
    }
   ],
   "source": [
    "# nutnost mít list se všemi (nenulovými) roky\n",
    "\n",
    "years_all = sorted(df_m.Year.unique())  # 1956-2008\n",
    "print(len(years_all))\n",
    "golds, silvers, bronzes = [0 for i in years_all],[0 for i in years_all],[0 for i in years_all]\n",
    "print(len(golds))"
   ]
  },
  {
   "cell_type": "code",
   "execution_count": 8,
   "id": "f83871e6-346b-4919-8773-2eaedc71c2ed",
   "metadata": {},
   "outputs": [],
   "source": [
    "# jeden list pro každou medaili\n",
    "# nutnost změnit na numpy array, protože jinak nefungovalo dvojité stackování, ale jen jednoduché \n",
    "# (silver: bottom = gold, ale bronze = gold + silver, tak to už ne)\n",
    "\n",
    "for i in range(len(years_all)):\n",
    "    df = df_m.loc[df_m.Year == years_all[i]].copy()\n",
    "    df_g = df.loc[df.Final_rank == 1]\n",
    "    df_s = df.loc[df.Final_rank == 2]\n",
    "    df_b = df.loc[df.Final_rank == 3]\n",
    "    \n",
    "    golds[i], silvers[i], bronzes[i] = len(df_g), len(df_s), len(df_b) \n",
    "\n",
    "golds = np.array(golds)\n",
    "silvers = np.array(silvers)\n",
    "bronzes = np.array(bronzes)"
   ]
  },
  {
   "cell_type": "code",
   "execution_count": 61,
   "id": "764d5da1-0afa-4920-b202-16d2efb99d8e",
   "metadata": {
    "tags": []
   },
   "outputs": [
    {
     "data": {
      "image/png": "[encoded data removed]",
      "text/plain": [
       "<Figure size 960x640 with 1 Axes>"
      ]
     },
     "metadata": {
      "needs_background": "light"
     },
     "output_type": "display_data"
    }
   ],
   "source": [
    "figure(figsize=(12, 8), dpi=80)\n",
    "\n",
    "plt.xticks(years_all ,rotation='vertical') \n",
    "plt.bar(years_all, golds,                          color = \"gold\",         label = \"Gold\")\n",
    "plt.bar(years_all, silvers, bottom = golds,        color = \"silver\",     label = \"Silver\")\n",
    "plt.bar(years_all, bronzes, bottom = golds+silvers, color = \"goldenrod\",  label = \"Bronze\")\n",
    "\n",
    "plt.legend(loc = \"upper left\")\n",
    "plt.show()"
   ]
  },
  {
   "cell_type": "code",
   "execution_count": 29,
   "id": "5986f716-e5df-4c6b-ba74-53001f5ee564",
   "metadata": {
    "tags": []
   },
   "outputs": [
    {
     "data": {
      "application/vnd.plotly.v1+json": {
       "config": {
        "plotlyServerURL": "https://plot.ly"
       },
       "data": [
        {
         "alignmentgroup": "True",
         "hovertemplate": "Final_rank=1<br>Year=%{x}<br>count=%{y}<extra></extra>",
         "legendgroup": "1",
         "marker": {
          "color": "gold",
          "pattern": {
           "shape": ""
          }
         },
         "name": "1",
         "offsetgroup": "1",
         "orientation": "v",
         "showlegend": true,
         "textposition": "auto",
         "texttemplate": "%{y:.0s}",
         "type": "bar",
         "x": [
          1982,
          1983,
          1996,
          1999,
          2000
         ],
         "xaxis": "x",
         "y": [
          1,
          1,
          2,
          2,
          1
         ],
         "yaxis": "y"
        },
        {
         "alignmentgroup": "True",
         "hovertemplate": "Final_rank=3<br>Year=%{x}<br>count=%{y}<extra></extra>",
         "legendgroup": "3",
         "marker": {
          "color": "goldenrod",
          "pattern": {
           "shape": ""
          }
         },
         "name": "3",
         "offsetgroup": "3",
         "orientation": "v",
         "showlegend": true,
         "textposition": "auto",
         "texttemplate": "%{y:.0s}",
         "type": "bar",
         "x": [
          1982,
          1989,
          1991,
          1992,
          1993,
          1996,
          1997,
          1999,
          2003
         ],
         "xaxis": "x",
         "y": [
          1,
          1,
          3,
          1,
          1,
          2,
          1,
          1,
          2
         ],
         "yaxis": "y"
        },
        {
         "alignmentgroup": "True",
         "hovertemplate": "Final_rank=2<br>Year=%{x}<br>count=%{y}<extra></extra>",
         "legendgroup": "2",
         "marker": {
          "color": "silver",
          "pattern": {
           "shape": ""
          }
         },
         "name": "2",
         "offsetgroup": "2",
         "orientation": "v",
         "showlegend": true,
         "textposition": "auto",
         "texttemplate": "%{y:.0s}",
         "type": "bar",
         "x": [
          1988,
          1991,
          1996,
          1997,
          1998,
          2003
         ],
         "xaxis": "x",
         "y": [
          1,
          1,
          1,
          1,
          2,
          1
         ],
         "yaxis": "y"
        }
       ],
       "layout": {
        "barmode": "relative",
        "height": 700,
        "legend": {
         "title": {
          "text": "Final_rank"
         },
         "tracegroupgap": 0
        },
        "template": {
         "data": {
          "bar": [
           {
            "error_x": {
             "color": "#2a3f5f"
            },
            "error_y": {
             "color": "#2a3f5f"
            },
            "marker": {
             "line": {
              "color": "#E5ECF6",
              "width": 0.5
             },
             "pattern": {
              "fillmode": "overlay",
              "size": 10,
              "solidity": 0.2
             }
            },
            "type": "bar"
           }
          ],
          "barpolar": [
           {
            "marker": {
             "line": {
              "color": "#E5ECF6",
              "width": 0.5
             },
             "pattern": {
              "fillmode": "overlay",
              "size": 10,
              "solidity": 0.2
             }
            },
            "type": "barpolar"
           }
          ],
          "carpet": [
           {
            "aaxis": {
             "endlinecolor": "#2a3f5f",
             "gridcolor": "white",
             "linecolor": "white",
             "minorgridcolor": "white",
             "startlinecolor": "#2a3f5f"
            },
            "baxis": {
             "endlinecolor": "#2a3f5f",
             "gridcolor": "white",
             "linecolor": "white",
             "minorgridcolor": "white",
             "startlinecolor": "#2a3f5f"
            },
            "type": "carpet"
           }
          ],
          "choropleth": [
           {
            "colorbar": {
             "outlinewidth": 0,
             "ticks": ""
            },
            "type": "choropleth"
           }
          ],
          "contour": [
           {
            "colorbar": {
             "outlinewidth": 0,
             "ticks": ""
            },
            "colorscale": [
             [
              0,
              "#0d0887"
             ],
             [
              0.1111111111111111,
              "#46039f"
             ],
             [
              0.2222222222222222,
              "#7201a8"
             ],
             [
              0.3333333333333333,
              "#9c179e"
             ],
             [
              0.4444444444444444,
              "#bd3786"
             ],
             [
              0.5555555555555556,
              "#d8576b"
             ],
             [
              0.6666666666666666,
              "#ed7953"
             ],
             [
              0.7777777777777778,
              "#fb9f3a"
             ],
             [
              0.8888888888888888,
              "#fdca26"
             ],
             [
              1,
              "#f0f921"
             ]
            ],
            "type": "contour"
           }
          ],
          "contourcarpet": [
           {
            "colorbar": {
             "outlinewidth": 0,
             "ticks": ""
            },
            "type": "contourcarpet"
           }
          ],
          "heatmap": [
           {
            "colorbar": {
             "outlinewidth": 0,
             "ticks": ""
            },
            "colorscale": [
             [
              0,
              "#0d0887"
             ],
             [
              0.1111111111111111,
              "#46039f"
             ],
             [
              0.2222222222222222,
              "#7201a8"
             ],
             [
              0.3333333333333333,
              "#9c179e"
             ],
             [
              0.4444444444444444,
              "#bd3786"
             ],
             [
              0.5555555555555556,
              "#d8576b"
             ],
             [
              0.6666666666666666,
              "#ed7953"
             ],
             [
              0.7777777777777778,
              "#fb9f3a"
             ],
             [
              0.8888888888888888,
              "#fdca26"
             ],
             [
              1,
              "#f0f921"
             ]
            ],
            "type": "heatmap"
           }
          ],
          "heatmapgl": [
           {
            "colorbar": {
             "outlinewidth": 0,
             "ticks": ""
            },
            "colorscale": [
             [
              0,
              "#0d0887"
             ],
             [
              0.1111111111111111,
              "#46039f"
             ],
             [
              0.2222222222222222,
              "#7201a8"
             ],
             [
              0.3333333333333333,
              "#9c179e"
             ],
             [
              0.4444444444444444,
              "#bd3786"
             ],
             [
              0.5555555555555556,
              "#d8576b"
             ],
             [
              0.6666666666666666,
              "#ed7953"
             ],
             [
              0.7777777777777778,
              "#fb9f3a"
             ],
             [
              0.8888888888888888,
              "#fdca26"
             ],
             [
              1,
              "#f0f921"
             ]
            ],
            "type": "heatmapgl"
           }
          ],
          "histogram": [
           {
            "marker": {
             "pattern": {
              "fillmode": "overlay",
              "size": 10,
              "solidity": 0.2
             }
            },
            "type": "histogram"
           }
          ],
          "histogram2d": [
           {
            "colorbar": {
             "outlinewidth": 0,
             "ticks": ""
            },
            "colorscale": [
             [
              0,
              "#0d0887"
             ],
             [
              0.1111111111111111,
              "#46039f"
             ],
             [
              0.2222222222222222,
              "#7201a8"
             ],
             [
              0.3333333333333333,
              "#9c179e"
             ],
             [
              0.4444444444444444,
              "#bd3786"
             ],
             [
              0.5555555555555556,
              "#d8576b"
             ],
             [
              0.6666666666666666,
              "#ed7953"
             ],
             [
              0.7777777777777778,
              "#fb9f3a"
             ],
             [
              0.8888888888888888,
              "#fdca26"
             ],
             [
              1,
              "#f0f921"
             ]
            ],
            "type": "histogram2d"
           }
          ],
          "histogram2dcontour": [
           {
            "colorbar": {
             "outlinewidth": 0,
             "ticks": ""
            },
            "colorscale": [
             [
              0,
              "#0d0887"
             ],
             [
              0.1111111111111111,
              "#46039f"
             ],
             [
              0.2222222222222222,
              "#7201a8"
             ],
             [
              0.3333333333333333,
              "#9c179e"
             ],
             [
              0.4444444444444444,
              "#bd3786"
             ],
             [
              0.5555555555555556,
              "#d8576b"
             ],
             [
              0.6666666666666666,
              "#ed7953"
             ],
             [
              0.7777777777777778,
              "#fb9f3a"
             ],
             [
              0.8888888888888888,
              "#fdca26"
             ],
             [
              1,
              "#f0f921"
             ]
            ],
            "type": "histogram2dcontour"
           }
          ],
          "mesh3d": [
           {
            "colorbar": {
             "outlinewidth": 0,
             "ticks": ""
            },
            "type": "mesh3d"
           }
          ],
          "parcoords": [
           {
            "line": {
             "colorbar": {
              "outlinewidth": 0,
              "ticks": ""
             }
            },
            "type": "parcoords"
           }
          ],
          "pie": [
           {
            "automargin": true,
            "type": "pie"
           }
          ],
          "scatter": [
           {
            "marker": {
             "colorbar": {
              "outlinewidth": 0,
              "ticks": ""
             }
            },
            "type": "scatter"
           }
          ],
          "scatter3d": [
           {
            "line": {
             "colorbar": {
              "outlinewidth": 0,
              "ticks": ""
             }
            },
            "marker": {
             "colorbar": {
              "outlinewidth": 0,
              "ticks": ""
             }
            },
            "type": "scatter3d"
           }
          ],
          "scattercarpet": [
           {
            "marker": {
             "colorbar": {
              "outlinewidth": 0,
              "ticks": ""
             }
            },
            "type": "scattercarpet"
           }
          ],
          "scattergeo": [
           {
            "marker": {
             "colorbar": {
              "outlinewidth": 0,
              "ticks": ""
             }
            },
            "type": "scattergeo"
           }
          ],
          "scattergl": [
           {
            "marker": {
             "colorbar": {
              "outlinewidth": 0,
              "ticks": ""
             }
            },
            "type": "scattergl"
           }
          ],
          "scattermapbox": [
           {
            "marker": {
             "colorbar": {
              "outlinewidth": 0,
              "ticks": ""
             }
            },
            "type": "scattermapbox"
           }
          ],
          "scatterpolar": [
           {
            "marker": {
             "colorbar": {
              "outlinewidth": 0,
              "ticks": ""
             }
            },
            "type": "scatterpolar"
           }
          ],
          "scatterpolargl": [
           {
            "marker": {
             "colorbar": {
              "outlinewidth": 0,
              "ticks": ""
             }
            },
            "type": "scatterpolargl"
           }
          ],
          "scatterternary": [
           {
            "marker": {
             "colorbar": {
              "outlinewidth": 0,
              "ticks": ""
             }
            },
            "type": "scatterternary"
           }
          ],
          "surface": [
           {
            "colorbar": {
             "outlinewidth": 0,
             "ticks": ""
            },
            "colorscale": [
             [
              0,
              "#0d0887"
             ],
             [
              0.1111111111111111,
              "#46039f"
             ],
             [
              0.2222222222222222,
              "#7201a8"
             ],
             [
              0.3333333333333333,
              "#9c179e"
             ],
             [
              0.4444444444444444,
              "#bd3786"
             ],
             [
              0.5555555555555556,
              "#d8576b"
             ],
             [
              0.6666666666666666,
              "#ed7953"
             ],
             [
              0.7777777777777778,
              "#fb9f3a"
             ],
             [
              0.8888888888888888,
              "#fdca26"
             ],
             [
              1,
              "#f0f921"
             ]
            ],
            "type": "surface"
           }
          ],
          "table": [
           {
            "cells": {
             "fill": {
              "color": "#EBF0F8"
             },
             "line": {
              "color": "white"
             }
            },
            "header": {
             "fill": {
              "color": "#C8D4E3"
             },
             "line": {
              "color": "white"
             }
            },
            "type": "table"
           }
          ]
         },
         "layout": {
          "annotationdefaults": {
           "arrowcolor": "#2a3f5f",
           "arrowhead": 0,
           "arrowwidth": 1
          },
          "autotypenumbers": "strict",
          "coloraxis": {
           "colorbar": {
            "outlinewidth": 0,
            "ticks": ""
           }
          },
          "colorscale": {
           "diverging": [
            [
             0,
             "#8e0152"
            ],
            [
             0.1,
             "#c51b7d"
            ],
            [
             0.2,
             "#de77ae"
            ],
            [
             0.3,
             "#f1b6da"
            ],
            [
             0.4,
             "#fde0ef"
            ],
            [
             0.5,
             "#f7f7f7"
            ],
            [
             0.6,
             "#e6f5d0"
            ],
            [
             0.7,
             "#b8e186"
            ],
            [
             0.8,
             "#7fbc41"
            ],
            [
             0.9,
             "#4d9221"
            ],
            [
             1,
             "#276419"
            ]
           ],
           "sequential": [
            [
             0,
             "#0d0887"
            ],
            [
             0.1111111111111111,
             "#46039f"
            ],
            [
             0.2222222222222222,
             "#7201a8"
            ],
            [
             0.3333333333333333,
             "#9c179e"
            ],
            [
             0.4444444444444444,
             "#bd3786"
            ],
            [
             0.5555555555555556,
             "#d8576b"
            ],
            [
             0.6666666666666666,
             "#ed7953"
            ],
            [
             0.7777777777777778,
             "#fb9f3a"
            ],
            [
             0.8888888888888888,
             "#fdca26"
            ],
            [
             1,
             "#f0f921"
            ]
           ],
           "sequentialminus": [
            [
             0,
             "#0d0887"
            ],
            [
             0.1111111111111111,
             "#46039f"
            ],
            [
             0.2222222222222222,
             "#7201a8"
            ],
            [
             0.3333333333333333,
             "#9c179e"
            ],
            [
             0.4444444444444444,
             "#bd3786"
            ],
            [
             0.5555555555555556,
             "#d8576b"
            ],
            [
             0.6666666666666666,
             "#ed7953"
            ],
            [
             0.7777777777777778,
             "#fb9f3a"
            ],
            [
             0.8888888888888888,
             "#fdca26"
            ],
            [
             1,
             "#f0f921"
            ]
           ]
          },
          "colorway": [
           "#636efa",
           "#EF553B",
           "#00cc96",
           "#ab63fa",
           "#FFA15A",
           "#19d3f3",
           "#FF6692",
           "#B6E880",
           "#FF97FF",
           "#FECB52"
          ],
          "font": {
           "color": "#2a3f5f"
          },
          "geo": {
           "bgcolor": "white",
           "lakecolor": "white",
           "landcolor": "#E5ECF6",
           "showlakes": true,
           "showland": true,
           "subunitcolor": "white"
          },
          "hoverlabel": {
           "align": "left"
          },
          "hovermode": "closest",
          "mapbox": {
           "style": "light"
          },
          "paper_bgcolor": "white",
          "plot_bgcolor": "#E5ECF6",
          "polar": {
           "angularaxis": {
            "gridcolor": "white",
            "linecolor": "white",
            "ticks": ""
           },
           "bgcolor": "#E5ECF6",
           "radialaxis": {
            "gridcolor": "white",
            "linecolor": "white",
            "ticks": ""
           }
          },
          "scene": {
           "xaxis": {
            "backgroundcolor": "#E5ECF6",
            "gridcolor": "white",
            "gridwidth": 2,
            "linecolor": "white",
            "showbackground": true,
            "ticks": "",
            "zerolinecolor": "white"
           },
           "yaxis": {
            "backgroundcolor": "#E5ECF6",
            "gridcolor": "white",
            "gridwidth": 2,
            "linecolor": "white",
            "showbackground": true,
            "ticks": "",
            "zerolinecolor": "white"
           },
           "zaxis": {
            "backgroundcolor": "#E5ECF6",
            "gridcolor": "white",
            "gridwidth": 2,
            "linecolor": "white",
            "showbackground": true,
            "ticks": "",
            "zerolinecolor": "white"
           }
          },
          "shapedefaults": {
           "line": {
            "color": "#2a3f5f"
           }
          },
          "ternary": {
           "aaxis": {
            "gridcolor": "white",
            "linecolor": "white",
            "ticks": ""
           },
           "baxis": {
            "gridcolor": "white",
            "linecolor": "white",
            "ticks": ""
           },
           "bgcolor": "#E5ECF6",
           "caxis": {
            "gridcolor": "white",
            "linecolor": "white",
            "ticks": ""
           }
          },
          "title": {
           "x": 0.05
          },
          "xaxis": {
           "automargin": true,
           "gridcolor": "white",
           "linecolor": "white",
           "ticks": "",
           "title": {
            "standoff": 15
           },
           "zerolinecolor": "white",
           "zerolinewidth": 2
          },
          "yaxis": {
           "automargin": true,
           "gridcolor": "white",
           "linecolor": "white",
           "ticks": "",
           "title": {
            "standoff": 15
           },
           "zerolinecolor": "white",
           "zerolinewidth": 2
          }
         }
        },
        "title": {
         "text": "Medaile podle roku narození"
        },
        "width": 950,
        "xaxis": {
         "anchor": "y",
         "autorange": true,
         "domain": [
          0,
          1
         ],
         "range": [
          1981.5,
          2003.5
         ],
         "tickangle": -90,
         "tickvals": [
          1982,
          1982,
          1983,
          1988,
          1989,
          1991,
          1991,
          1992,
          1993,
          1996,
          1996,
          1996,
          1997,
          1997,
          1998,
          1999,
          1999,
          2000,
          2003,
          2003
         ],
         "title": {
          "text": "Year"
         },
         "type": "linear"
        },
        "yaxis": {
         "anchor": "x",
         "autorange": true,
         "domain": [
          0,
          1
         ],
         "range": [
          0,
          5.2631578947368425
         ],
         "title": {
          "text": "count"
         },
         "type": "linear"
        }
       }
      },
      "image/png": "[encoded data removed]",
      "text/html": [
       "<div>                            <div id=\"9262f9eb-64ca-48ea-8e19-3d6070dd0227\" class=\"plotly-graph-div\" style=\"height:700px; width:950px;\"></div>            <script type=\"text/javascript\">                require([\"plotly\"], function(Plotly) {                    window.PLOTLYENV=window.PLOTLYENV || {};                                    if (document.getElementById(\"9262f9eb-64ca-48ea-8e19-3d6070dd0227\")) {                    Plotly.newPlot(                        \"9262f9eb-64ca-48ea-8e19-3d6070dd0227\",                        [{\"alignmentgroup\":\"True\",\"hovertemplate\":\"Final_rank=1<br>Year=%{x}<br>count=%{y}<extra></extra>\",\"legendgroup\":\"1\",\"marker\":{\"color\":\"gold\",\"pattern\":{\"shape\":\"\"}},\"name\":\"1\",\"offsetgroup\":\"1\",\"orientation\":\"v\",\"showlegend\":true,\"textposition\":\"auto\",\"texttemplate\":\"%{y:.0s}\",\"x\":[1982,1983,1996,1999,2000],\"xaxis\":\"x\",\"y\":[1,1,2,2,1],\"yaxis\":\"y\",\"type\":\"bar\"},{\"alignmentgroup\":\"True\",\"hovertemplate\":\"Final_rank=3<br>Year=%{x}<br>count=%{y}<extra></extra>\",\"legendgroup\":\"3\",\"marker\":{\"color\":\"goldenrod\",\"pattern\":{\"shape\":\"\"}},\"name\":\"3\",\"offsetgroup\":\"3\",\"orientation\":\"v\",\"showlegend\":true,\"textposition\":\"auto\",\"texttemplate\":\"%{y:.0s}\",\"x\":[1982,1989,1991,1992,1993,1996,1997,1999,2003],\"xaxis\":\"x\",\"y\":[1,1,3,1,1,2,1,1,2],\"yaxis\":\"y\",\"type\":\"bar\"},{\"alignmentgroup\":\"True\",\"hovertemplate\":\"Final_rank=2<br>Year=%{x}<br>count=%{y}<extra></extra>\",\"legendgroup\":\"2\",\"marker\":{\"color\":\"silver\",\"pattern\":{\"shape\":\"\"}},\"name\":\"2\",\"offsetgroup\":\"2\",\"orientation\":\"v\",\"showlegend\":true,\"textposition\":\"auto\",\"texttemplate\":\"%{y:.0s}\",\"x\":[1988,1991,1996,1997,1998,2003],\"xaxis\":\"x\",\"y\":[1,1,1,1,2,1],\"yaxis\":\"y\",\"type\":\"bar\"}],                        {\"template\":{\"data\":{\"bar\":[{\"error_x\":{\"color\":\"#2a3f5f\"},\"error_y\":{\"color\":\"#2a3f5f\"},\"marker\":{\"line\":{\"color\":\"#E5ECF6\",\"width\":0.5},\"pattern\":{\"fillmode\":\"overlay\",\"size\":10,\"solidity\":0.2}},\"type\":\"bar\"}],\"barpolar\":[{\"marker\":{\"line\":{\"color\":\"#E5ECF6\",\"width\":0.5},\"pattern\":{\"fillmode\":\"overlay\",\"size\":10,\"solidity\":0.2}},\"type\":\"barpolar\"}],\"carpet\":[{\"aaxis\":{\"endlinecolor\":\"#2a3f5f\",\"gridcolor\":\"white\",\"linecolor\":\"white\",\"minorgridcolor\":\"white\",\"startlinecolor\":\"#2a3f5f\"},\"baxis\":{\"endlinecolor\":\"#2a3f5f\",\"gridcolor\":\"white\",\"linecolor\":\"white\",\"minorgridcolor\":\"white\",\"startlinecolor\":\"#2a3f5f\"},\"type\":\"carpet\"}],\"choropleth\":[{\"colorbar\":{\"outlinewidth\":0,\"ticks\":\"\"},\"type\":\"choropleth\"}],\"contour\":[{\"colorbar\":{\"outlinewidth\":0,\"ticks\":\"\"},\"colorscale\":[[0.0,\"#0d0887\"],[0.1111111111111111,\"#46039f\"],[0.2222222222222222,\"#7201a8\"],[0.3333333333333333,\"#9c179e\"],[0.4444444444444444,\"#bd3786\"],[0.5555555555555556,\"#d8576b\"],[0.6666666666666666,\"#ed7953\"],[0.7777777777777778,\"#fb9f3a\"],[0.8888888888888888,\"#fdca26\"],[1.0,\"#f0f921\"]],\"type\":\"contour\"}],\"contourcarpet\":[{\"colorbar\":{\"outlinewidth\":0,\"ticks\":\"\"},\"type\":\"contourcarpet\"}],\"heatmap\":[{\"colorbar\":{\"outlinewidth\":0,\"ticks\":\"\"},\"colorscale\":[[0.0,\"#0d0887\"],[0.1111111111111111,\"#46039f\"],[0.2222222222222222,\"#7201a8\"],[0.3333333333333333,\"#9c179e\"],[0.4444444444444444,\"#bd3786\"],[0.5555555555555556,\"#d8576b\"],[0.6666666666666666,\"#ed7953\"],[0.7777777777777778,\"#fb9f3a\"],[0.8888888888888888,\"#fdca26\"],[1.0,\"#f0f921\"]],\"type\":\"heatmap\"}],\"heatmapgl\":[{\"colorbar\":{\"outlinewidth\":0,\"ticks\":\"\"},\"colorscale\":[[0.0,\"#0d0887\"],[0.1111111111111111,\"#46039f\"],[0.2222222222222222,\"#7201a8\"],[0.3333333333333333,\"#9c179e\"],[0.4444444444444444,\"#bd3786\"],[0.5555555555555556,\"#d8576b\"],[0.6666666666666666,\"#ed7953\"],[0.7777777777777778,\"#fb9f3a\"],[0.8888888888888888,\"#fdca26\"],[1.0,\"#f0f921\"]],\"type\":\"heatmapgl\"}],\"histogram\":[{\"marker\":{\"pattern\":{\"fillmode\":\"overlay\",\"size\":10,\"solidity\":0.2}},\"type\":\"histogram\"}],\"histogram2d\":[{\"colorbar\":{\"outlinewidth\":0,\"ticks\":\"\"},\"colorscale\":[[0.0,\"#0d0887\"],[0.1111111111111111,\"#46039f\"],[0.2222222222222222,\"#7201a8\"],[0.3333333333333333,\"#9c179e\"],[0.4444444444444444,\"#bd3786\"],[0.5555555555555556,\"#d8576b\"],[0.6666666666666666,\"#ed7953\"],[0.7777777777777778,\"#fb9f3a\"],[0.8888888888888888,\"#fdca26\"],[1.0,\"#f0f921\"]],\"type\":\"histogram2d\"}],\"histogram2dcontour\":[{\"colorbar\":{\"outlinewidth\":0,\"ticks\":\"\"},\"colorscale\":[[0.0,\"#0d0887\"],[0.1111111111111111,\"#46039f\"],[0.2222222222222222,\"#7201a8\"],[0.3333333333333333,\"#9c179e\"],[0.4444444444444444,\"#bd3786\"],[0.5555555555555556,\"#d8576b\"],[0.6666666666666666,\"#ed7953\"],[0.7777777777777778,\"#fb9f3a\"],[0.8888888888888888,\"#fdca26\"],[1.0,\"#f0f921\"]],\"type\":\"histogram2dcontour\"}],\"mesh3d\":[{\"colorbar\":{\"outlinewidth\":0,\"ticks\":\"\"},\"type\":\"mesh3d\"}],\"parcoords\":[{\"line\":{\"colorbar\":{\"outlinewidth\":0,\"ticks\":\"\"}},\"type\":\"parcoords\"}],\"pie\":[{\"automargin\":true,\"type\":\"pie\"}],\"scatter\":[{\"marker\":{\"colorbar\":{\"outlinewidth\":0,\"ticks\":\"\"}},\"type\":\"scatter\"}],\"scatter3d\":[{\"line\":{\"colorbar\":{\"outlinewidth\":0,\"ticks\":\"\"}},\"marker\":{\"colorbar\":{\"outlinewidth\":0,\"ticks\":\"\"}},\"type\":\"scatter3d\"}],\"scattercarpet\":[{\"marker\":{\"colorbar\":{\"outlinewidth\":0,\"ticks\":\"\"}},\"type\":\"scattercarpet\"}],\"scattergeo\":[{\"marker\":{\"colorbar\":{\"outlinewidth\":0,\"ticks\":\"\"}},\"type\":\"scattergeo\"}],\"scattergl\":[{\"marker\":{\"colorbar\":{\"outlinewidth\":0,\"ticks\":\"\"}},\"type\":\"scattergl\"}],\"scattermapbox\":[{\"marker\":{\"colorbar\":{\"outlinewidth\":0,\"ticks\":\"\"}},\"type\":\"scattermapbox\"}],\"scatterpolar\":[{\"marker\":{\"colorbar\":{\"outlinewidth\":0,\"ticks\":\"\"}},\"type\":\"scatterpolar\"}],\"scatterpolargl\":[{\"marker\":{\"colorbar\":{\"outlinewidth\":0,\"ticks\":\"\"}},\"type\":\"scatterpolargl\"}],\"scatterternary\":[{\"marker\":{\"colorbar\":{\"outlinewidth\":0,\"ticks\":\"\"}},\"type\":\"scatterternary\"}],\"surface\":[{\"colorbar\":{\"outlinewidth\":0,\"ticks\":\"\"},\"colorscale\":[[0.0,\"#0d0887\"],[0.1111111111111111,\"#46039f\"],[0.2222222222222222,\"#7201a8\"],[0.3333333333333333,\"#9c179e\"],[0.4444444444444444,\"#bd3786\"],[0.5555555555555556,\"#d8576b\"],[0.6666666666666666,\"#ed7953\"],[0.7777777777777778,\"#fb9f3a\"],[0.8888888888888888,\"#fdca26\"],[1.0,\"#f0f921\"]],\"type\":\"surface\"}],\"table\":[{\"cells\":{\"fill\":{\"color\":\"#EBF0F8\"},\"line\":{\"color\":\"white\"}},\"header\":{\"fill\":{\"color\":\"#C8D4E3\"},\"line\":{\"color\":\"white\"}},\"type\":\"table\"}]},\"layout\":{\"annotationdefaults\":{\"arrowcolor\":\"#2a3f5f\",\"arrowhead\":0,\"arrowwidth\":1},\"autotypenumbers\":\"strict\",\"coloraxis\":{\"colorbar\":{\"outlinewidth\":0,\"ticks\":\"\"}},\"colorscale\":{\"diverging\":[[0,\"#8e0152\"],[0.1,\"#c51b7d\"],[0.2,\"#de77ae\"],[0.3,\"#f1b6da\"],[0.4,\"#fde0ef\"],[0.5,\"#f7f7f7\"],[0.6,\"#e6f5d0\"],[0.7,\"#b8e186\"],[0.8,\"#7fbc41\"],[0.9,\"#4d9221\"],[1,\"#276419\"]],\"sequential\":[[0.0,\"#0d0887\"],[0.1111111111111111,\"#46039f\"],[0.2222222222222222,\"#7201a8\"],[0.3333333333333333,\"#9c179e\"],[0.4444444444444444,\"#bd3786\"],[0.5555555555555556,\"#d8576b\"],[0.6666666666666666,\"#ed7953\"],[0.7777777777777778,\"#fb9f3a\"],[0.8888888888888888,\"#fdca26\"],[1.0,\"#f0f921\"]],\"sequentialminus\":[[0.0,\"#0d0887\"],[0.1111111111111111,\"#46039f\"],[0.2222222222222222,\"#7201a8\"],[0.3333333333333333,\"#9c179e\"],[0.4444444444444444,\"#bd3786\"],[0.5555555555555556,\"#d8576b\"],[0.6666666666666666,\"#ed7953\"],[0.7777777777777778,\"#fb9f3a\"],[0.8888888888888888,\"#fdca26\"],[1.0,\"#f0f921\"]]},\"colorway\":[\"#636efa\",\"#EF553B\",\"#00cc96\",\"#ab63fa\",\"#FFA15A\",\"#19d3f3\",\"#FF6692\",\"#B6E880\",\"#FF97FF\",\"#FECB52\"],\"font\":{\"color\":\"#2a3f5f\"},\"geo\":{\"bgcolor\":\"white\",\"lakecolor\":\"white\",\"landcolor\":\"#E5ECF6\",\"showlakes\":true,\"showland\":true,\"subunitcolor\":\"white\"},\"hoverlabel\":{\"align\":\"left\"},\"hovermode\":\"closest\",\"mapbox\":{\"style\":\"light\"},\"paper_bgcolor\":\"white\",\"plot_bgcolor\":\"#E5ECF6\",\"polar\":{\"angularaxis\":{\"gridcolor\":\"white\",\"linecolor\":\"white\",\"ticks\":\"\"},\"bgcolor\":\"#E5ECF6\",\"radialaxis\":{\"gridcolor\":\"white\",\"linecolor\":\"white\",\"ticks\":\"\"}},\"scene\":{\"xaxis\":{\"backgroundcolor\":\"#E5ECF6\",\"gridcolor\":\"white\",\"gridwidth\":2,\"linecolor\":\"white\",\"showbackground\":true,\"ticks\":\"\",\"zerolinecolor\":\"white\"},\"yaxis\":{\"backgroundcolor\":\"#E5ECF6\",\"gridcolor\":\"white\",\"gridwidth\":2,\"linecolor\":\"white\",\"showbackground\":true,\"ticks\":\"\",\"zerolinecolor\":\"white\"},\"zaxis\":{\"backgroundcolor\":\"#E5ECF6\",\"gridcolor\":\"white\",\"gridwidth\":2,\"linecolor\":\"white\",\"showbackground\":true,\"ticks\":\"\",\"zerolinecolor\":\"white\"}},\"shapedefaults\":{\"line\":{\"color\":\"#2a3f5f\"}},\"ternary\":{\"aaxis\":{\"gridcolor\":\"white\",\"linecolor\":\"white\",\"ticks\":\"\"},\"baxis\":{\"gridcolor\":\"white\",\"linecolor\":\"white\",\"ticks\":\"\"},\"bgcolor\":\"#E5ECF6\",\"caxis\":{\"gridcolor\":\"white\",\"linecolor\":\"white\",\"ticks\":\"\"}},\"title\":{\"x\":0.05},\"xaxis\":{\"automargin\":true,\"gridcolor\":\"white\",\"linecolor\":\"white\",\"ticks\":\"\",\"title\":{\"standoff\":15},\"zerolinecolor\":\"white\",\"zerolinewidth\":2},\"yaxis\":{\"automargin\":true,\"gridcolor\":\"white\",\"linecolor\":\"white\",\"ticks\":\"\",\"title\":{\"standoff\":15},\"zerolinecolor\":\"white\",\"zerolinewidth\":2}}},\"xaxis\":{\"anchor\":\"y\",\"domain\":[0.0,1.0],\"title\":{\"text\":\"Year\"},\"tickvals\":[1982,1982,1983,1988,1989,1991,1991,1992,1993,1996,1996,1996,1997,1997,1998,1999,1999,2000,2003,2003],\"tickangle\":-90},\"yaxis\":{\"anchor\":\"x\",\"domain\":[0.0,1.0],\"title\":{\"text\":\"count\"}},\"legend\":{\"title\":{\"text\":\"Final_rank\"},\"tracegroupgap\":0},\"title\":{\"text\":\"Medaile podle roku narozen\\u00ed\"},\"barmode\":\"relative\",\"height\":700,\"width\":950},                        {\"responsive\": true}                    ).then(function(){\n",
       "                            \n",
       "var gd = document.getElementById('9262f9eb-64ca-48ea-8e19-3d6070dd0227');\n",
       "var x = new MutationObserver(function (mutations, observer) {{\n",
       "        var display = window.getComputedStyle(gd).display;\n",
       "        if (!display || display === 'none') {{\n",
       "            console.log([gd, 'removed!']);\n",
       "            Plotly.purge(gd);\n",
       "            observer.disconnect();\n",
       "        }}\n",
       "}});\n",
       "\n",
       "// Listen for the removal of the full notebook cells\n",
       "var notebookContainer = gd.closest('#notebook-container');\n",
       "if (notebookContainer) {{\n",
       "    x.observe(notebookContainer, {childList: true});\n",
       "}}\n",
       "\n",
       "// Listen for the clearing of the current output cell\n",
       "var outputEl = gd.closest('.output');\n",
       "if (outputEl) {{\n",
       "    x.observe(outputEl, {childList: true});\n",
       "}}\n",
       "\n",
       "                        })                };                });            </script>        </div>"
      ]
     },
     "metadata": {},
     "output_type": "display_data"
    }
   ],
   "source": [
    "medals = df_m.loc[df_m.Final_rank.isin([1,2,3]), :]\n",
    "d4 = pd.DataFrame({'count' : medals.groupby( ['Year', \"Final_rank\"] ).size()}).reset_index()\n",
    "d4[\"Final_rank\"] = d4[\"Final_rank\"].astype(str) # nezbytné pro diskrétní barvy: https://plotly.com/python/discrete-color/\n",
    "\n",
    "fig = px.bar(d4, x= d4[\"Year\"],\n",
    "             y= d4[\"count\"], \n",
    "             color = d4[\"Final_rank\"] ,\n",
    "             color_discrete_map={\"1\": \"gold\", \"2\":\"silver\", \"3\":\"goldenrod\"},  # definice barev\n",
    "             #hover_name=\"Final_rank\",   # extra info ve float popisku\n",
    "             text_auto='.0s',    \n",
    "             width=950, height=700,\n",
    "             title=\"Medaile podle roku narození\")\n",
    "\n",
    "fig.update_layout(xaxis = dict(tickvals = d4[\"Year\"]))\n",
    "fig.update_xaxes(tickangle=270)\n",
    "fig.show()\n",
    "\n",
    "pio.write_html(fig, file=\"vizualizace/V3_Medals-Year.html\", auto_open=True)"
   ]
  },
  {
   "cell_type": "markdown",
   "id": "0ad19d33-e754-4426-b274-91740a4a3963",
   "metadata": {},
   "source": [
    "## Medaile souhrn podle klubu"
   ]
  },
  {
   "cell_type": "code",
   "execution_count": 62,
   "id": "0c265150-37fc-4897-a75e-1876bb86531a",
   "metadata": {},
   "outputs": [
    {
     "data": {
      "image/png": "[encoded data removed]",
      "text/plain": [
       "<Figure size 480x400 with 1 Axes>"
      ]
     },
     "metadata": {
      "needs_background": "light"
     },
     "output_type": "display_data"
    }
   ],
   "source": [
    "figure(figsize=(6, 5), dpi=80)\n",
    "\n",
    "clubs = medals.groupby(['Club'])['Club'].count().to_dict()\n",
    "clubs = dict(sorted(clubs.items(), key=lambda item: item[1], reverse = True))\n",
    "\n",
    "plt.xticks(rotation='vertical')                             \n",
    "plt.bar(list(clubs.keys()), list(clubs.values()), width=0.8)\n",
    "\n",
    "plt.show()"
   ]
  },
  {
   "cell_type": "markdown",
   "id": "71d93dee-20c8-4383-9b4a-b037e9c57761",
   "metadata": {},
   "source": [
    "### Rozdělení na jednotlivé kovy\n",
    "* jediné co chybí, je řazení podle nejvyššího součtu, jako výše\n",
    "* na to bych potřeboval dictionary"
   ]
  },
  {
   "cell_type": "code",
   "execution_count": 63,
   "id": "2cff03fe-0c83-44a1-85c4-9598c168119b",
   "metadata": {},
   "outputs": [
    {
     "name": "stdout",
     "output_type": "stream",
     "text": [
      "36\n",
      "36\n"
     ]
    }
   ],
   "source": [
    "clubs_all = sorted(df_m.Club.unique()) \n",
    "print(len(clubs_all))\n",
    "golds, silvers, bronzes = [0 for i in clubs_all],[0 for i in clubs_all],[0 for i in clubs_all]\n",
    "print(len(golds))"
   ]
  },
  {
   "cell_type": "code",
   "execution_count": 64,
   "id": "047c06af-3ffe-4c74-9e52-a6a55265b852",
   "metadata": {},
   "outputs": [],
   "source": [
    "# jeden list pro každou medaili\n",
    "# nutnost změnit na numpy array, protože jinak nefungovalo dvojité stackování, ale jen jednoduché \n",
    "# (silver: bottom = gold, ale bronze = gold + silver, tak to už ne)\n",
    "\n",
    "for i in range(len(clubs_all)):\n",
    "    df = df_m.loc[df_m.Club == clubs_all[i]].copy()\n",
    "    df_g = df.loc[df.Final_rank == 1]\n",
    "    df_s = df.loc[df.Final_rank == 2]\n",
    "    df_b = df.loc[df.Final_rank == 3]\n",
    "    \n",
    "    golds[i], silvers[i], bronzes[i] = len(df_g), len(df_s), len(df_b) \n",
    "\n",
    "golds = np.array(golds)\n",
    "silvers = np.array(silvers)\n",
    "bronzes = np.array(bronzes)"
   ]
  },
  {
   "cell_type": "code",
   "execution_count": 65,
   "id": "4b7f9a49-b738-4453-93b7-96a336a620ae",
   "metadata": {},
   "outputs": [
    {
     "data": {
      "image/png": "[encoded data removed]",
      "text/plain": [
       "<Figure size 960x640 with 1 Axes>"
      ]
     },
     "metadata": {
      "needs_background": "light"
     },
     "output_type": "display_data"
    }
   ],
   "source": [
    "figure(figsize=(12, 8), dpi=80)\n",
    "\n",
    " #stačilo zas odmazat clubs_all z xticks\n",
    "plt.xticks(rotation='vertical')  \n",
    "plt.bar(clubs_all, golds,                           color = \"gold\",      label = \"Gold\")\n",
    "plt.bar(clubs_all, silvers, bottom = golds,         color = \"silver\",    label = \"Silver\")\n",
    "plt.bar(clubs_all, bronzes, bottom = golds+silvers, color = \"goldenrod\", label = \"Bronze\")\n",
    "\n",
    "plt.legend(loc = \"upper left\")\n",
    "plt.show()"
   ]
  },
  {
   "cell_type": "code",
   "execution_count": 83,
   "id": "f88b4285-e28b-455d-9e5e-d206a3dc1c87",
   "metadata": {
    "tags": []
   },
   "outputs": [
    {
     "data": {
      "application/vnd.plotly.v1+json": {
       "config": {
        "plotlyServerURL": "https://plot.ly"
       },
       "data": [
        {
         "alignmentgroup": "True",
         "hovertemplate": "Final_rank=2<br>Club=%{x}<br>count=%{y}<extra></extra>",
         "legendgroup": "2",
         "marker": {
          "color": "silver",
          "pattern": {
           "shape": ""
          }
         },
         "name": "2",
         "offsetgroup": "2",
         "orientation": "v",
         "showlegend": true,
         "textposition": "auto",
         "texttemplate": "%{y:.0s}",
         "type": "bar",
         "x": [
          "1.FC BELA POD BEZ",
          "SC PRAHA",
          "SLAVOJ LITOMERICE",
          "TJ LOKO K.VARY",
          "TJ LOKO TEPLICE"
         ],
         "xaxis": "x",
         "y": [
          1,
          2,
          1,
          1,
          2
         ],
         "yaxis": "y"
        },
        {
         "alignmentgroup": "True",
         "hovertemplate": "Final_rank=1<br>Club=%{x}<br>count=%{y}<extra></extra>",
         "legendgroup": "1",
         "marker": {
          "color": "gold",
          "pattern": {
           "shape": ""
          }
         },
         "name": "1",
         "offsetgroup": "1",
         "orientation": "v",
         "showlegend": true,
         "textposition": "auto",
         "texttemplate": "%{y:.0s}",
         "type": "bar",
         "x": [
          "DUKLA OLOMOUC",
          "SC PRAHA",
          "TJ LOKO K.VARY"
         ],
         "xaxis": "x",
         "y": [
          2,
          3,
          2
         ],
         "yaxis": "y"
        },
        {
         "alignmentgroup": "True",
         "hovertemplate": "Final_rank=3<br>Club=%{x}<br>count=%{y}<extra></extra>",
         "legendgroup": "3",
         "marker": {
          "color": "goldenrod",
          "pattern": {
           "shape": ""
          }
         },
         "name": "3",
         "offsetgroup": "3",
         "orientation": "v",
         "showlegend": true,
         "textposition": "auto",
         "texttemplate": "%{y:.0s}",
         "type": "bar",
         "x": [
          "DYNAMO UŽHOROD",
          "SC PRAHA",
          "SLAVOJ LITOMERICE",
          "TBILISI",
          "TJ LOKO K.VARY"
         ],
         "xaxis": "x",
         "y": [
          1,
          6,
          3,
          1,
          2
         ],
         "yaxis": "y"
        }
       ],
       "layout": {
        "barmode": "relative",
        "height": 700,
        "legend": {
         "title": {
          "text": "Final_rank"
         },
         "tracegroupgap": 0
        },
        "template": {
         "data": {
          "bar": [
           {
            "error_x": {
             "color": "#2a3f5f"
            },
            "error_y": {
             "color": "#2a3f5f"
            },
            "marker": {
             "line": {
              "color": "#E5ECF6",
              "width": 0.5
             },
             "pattern": {
              "fillmode": "overlay",
              "size": 10,
              "solidity": 0.2
             }
            },
            "type": "bar"
           }
          ],
          "barpolar": [
           {
            "marker": {
             "line": {
              "color": "#E5ECF6",
              "width": 0.5
             },
             "pattern": {
              "fillmode": "overlay",
              "size": 10,
              "solidity": 0.2
             }
            },
            "type": "barpolar"
           }
          ],
          "carpet": [
           {
            "aaxis": {
             "endlinecolor": "#2a3f5f",
             "gridcolor": "white",
             "linecolor": "white",
             "minorgridcolor": "white",
             "startlinecolor": "#2a3f5f"
            },
            "baxis": {
             "endlinecolor": "#2a3f5f",
             "gridcolor": "white",
             "linecolor": "white",
             "minorgridcolor": "white",
             "startlinecolor": "#2a3f5f"
            },
            "type": "carpet"
           }
          ],
          "choropleth": [
           {
            "colorbar": {
             "outlinewidth": 0,
             "ticks": ""
            },
            "type": "choropleth"
           }
          ],
          "contour": [
           {
            "colorbar": {
             "outlinewidth": 0,
             "ticks": ""
            },
            "colorscale": [
             [
              0,
              "#0d0887"
             ],
             [
              0.1111111111111111,
              "#46039f"
             ],
             [
              0.2222222222222222,
              "#7201a8"
             ],
             [
              0.3333333333333333,
              "#9c179e"
             ],
             [
              0.4444444444444444,
              "#bd3786"
             ],
             [
              0.5555555555555556,
              "#d8576b"
             ],
             [
              0.6666666666666666,
              "#ed7953"
             ],
             [
              0.7777777777777778,
              "#fb9f3a"
             ],
             [
              0.8888888888888888,
              "#fdca26"
             ],
             [
              1,
              "#f0f921"
             ]
            ],
            "type": "contour"
           }
          ],
          "contourcarpet": [
           {
            "colorbar": {
             "outlinewidth": 0,
             "ticks": ""
            },
            "type": "contourcarpet"
           }
          ],
          "heatmap": [
           {
            "colorbar": {
             "outlinewidth": 0,
             "ticks": ""
            },
            "colorscale": [
             [
              0,
              "#0d0887"
             ],
             [
              0.1111111111111111,
              "#46039f"
             ],
             [
              0.2222222222222222,
              "#7201a8"
             ],
             [
              0.3333333333333333,
              "#9c179e"
             ],
             [
              0.4444444444444444,
              "#bd3786"
             ],
             [
              0.5555555555555556,
              "#d8576b"
             ],
             [
              0.6666666666666666,
              "#ed7953"
             ],
             [
              0.7777777777777778,
              "#fb9f3a"
             ],
             [
              0.8888888888888888,
              "#fdca26"
             ],
             [
              1,
              "#f0f921"
             ]
            ],
            "type": "heatmap"
           }
          ],
          "heatmapgl": [
           {
            "colorbar": {
             "outlinewidth": 0,
             "ticks": ""
            },
            "colorscale": [
             [
              0,
              "#0d0887"
             ],
             [
              0.1111111111111111,
              "#46039f"
             ],
             [
              0.2222222222222222,
              "#7201a8"
             ],
             [
              0.3333333333333333,
              "#9c179e"
             ],
             [
              0.4444444444444444,
              "#bd3786"
             ],
             [
              0.5555555555555556,
              "#d8576b"
             ],
             [
              0.6666666666666666,
              "#ed7953"
             ],
             [
              0.7777777777777778,
              "#fb9f3a"
             ],
             [
              0.8888888888888888,
              "#fdca26"
             ],
             [
              1,
              "#f0f921"
             ]
            ],
            "type": "heatmapgl"
           }
          ],
          "histogram": [
           {
            "marker": {
             "pattern": {
              "fillmode": "overlay",
              "size": 10,
              "solidity": 0.2
             }
            },
            "type": "histogram"
           }
          ],
          "histogram2d": [
           {
            "colorbar": {
             "outlinewidth": 0,
             "ticks": ""
            },
            "colorscale": [
             [
              0,
              "#0d0887"
             ],
             [
              0.1111111111111111,
              "#46039f"
             ],
             [
              0.2222222222222222,
              "#7201a8"
             ],
             [
              0.3333333333333333,
              "#9c179e"
             ],
             [
              0.4444444444444444,
              "#bd3786"
             ],
             [
              0.5555555555555556,
              "#d8576b"
             ],
             [
              0.6666666666666666,
              "#ed7953"
             ],
             [
              0.7777777777777778,
              "#fb9f3a"
             ],
             [
              0.8888888888888888,
              "#fdca26"
             ],
             [
              1,
              "#f0f921"
             ]
            ],
            "type": "histogram2d"
           }
          ],
          "histogram2dcontour": [
           {
            "colorbar": {
             "outlinewidth": 0,
             "ticks": ""
            },
            "colorscale": [
             [
              0,
              "#0d0887"
             ],
             [
              0.1111111111111111,
              "#46039f"
             ],
             [
              0.2222222222222222,
              "#7201a8"
             ],
             [
              0.3333333333333333,
              "#9c179e"
             ],
             [
              0.4444444444444444,
              "#bd3786"
             ],
             [
              0.5555555555555556,
              "#d8576b"
             ],
             [
              0.6666666666666666,
              "#ed7953"
             ],
             [
              0.7777777777777778,
              "#fb9f3a"
             ],
             [
              0.8888888888888888,
              "#fdca26"
             ],
             [
              1,
              "#f0f921"
             ]
            ],
            "type": "histogram2dcontour"
           }
          ],
          "mesh3d": [
           {
            "colorbar": {
             "outlinewidth": 0,
             "ticks": ""
            },
            "type": "mesh3d"
           }
          ],
          "parcoords": [
           {
            "line": {
             "colorbar": {
              "outlinewidth": 0,
              "ticks": ""
             }
            },
            "type": "parcoords"
           }
          ],
          "pie": [
           {
            "automargin": true,
            "type": "pie"
           }
          ],
          "scatter": [
           {
            "marker": {
             "colorbar": {
              "outlinewidth": 0,
              "ticks": ""
             }
            },
            "type": "scatter"
           }
          ],
          "scatter3d": [
           {
            "line": {
             "colorbar": {
              "outlinewidth": 0,
              "ticks": ""
             }
            },
            "marker": {
             "colorbar": {
              "outlinewidth": 0,
              "ticks": ""
             }
            },
            "type": "scatter3d"
           }
          ],
          "scattercarpet": [
           {
            "marker": {
             "colorbar": {
              "outlinewidth": 0,
              "ticks": ""
             }
            },
            "type": "scattercarpet"
           }
          ],
          "scattergeo": [
           {
            "marker": {
             "colorbar": {
              "outlinewidth": 0,
              "ticks": ""
             }
            },
            "type": "scattergeo"
           }
          ],
          "scattergl": [
           {
            "marker": {
             "colorbar": {
              "outlinewidth": 0,
              "ticks": ""
             }
            },
            "type": "scattergl"
           }
          ],
          "scattermapbox": [
           {
            "marker": {
             "colorbar": {
              "outlinewidth": 0,
              "ticks": ""
             }
            },
            "type": "scattermapbox"
           }
          ],
          "scatterpolar": [
           {
            "marker": {
             "colorbar": {
              "outlinewidth": 0,
              "ticks": ""
             }
            },
            "type": "scatterpolar"
           }
          ],
          "scatterpolargl": [
           {
            "marker": {
             "colorbar": {
              "outlinewidth": 0,
              "ticks": ""
             }
            },
            "type": "scatterpolargl"
           }
          ],
          "scatterternary": [
           {
            "marker": {
             "colorbar": {
              "outlinewidth": 0,
              "ticks": ""
             }
            },
            "type": "scatterternary"
           }
          ],
          "surface": [
           {
            "colorbar": {
             "outlinewidth": 0,
             "ticks": ""
            },
            "colorscale": [
             [
              0,
              "#0d0887"
             ],
             [
              0.1111111111111111,
              "#46039f"
             ],
             [
              0.2222222222222222,
              "#7201a8"
             ],
             [
              0.3333333333333333,
              "#9c179e"
             ],
             [
              0.4444444444444444,
              "#bd3786"
             ],
             [
              0.5555555555555556,
              "#d8576b"
             ],
             [
              0.6666666666666666,
              "#ed7953"
             ],
             [
              0.7777777777777778,
              "#fb9f3a"
             ],
             [
              0.8888888888888888,
              "#fdca26"
             ],
             [
              1,
              "#f0f921"
             ]
            ],
            "type": "surface"
           }
          ],
          "table": [
           {
            "cells": {
             "fill": {
              "color": "#EBF0F8"
             },
             "line": {
              "color": "white"
             }
            },
            "header": {
             "fill": {
              "color": "#C8D4E3"
             },
             "line": {
              "color": "white"
             }
            },
            "type": "table"
           }
          ]
         },
         "layout": {
          "annotationdefaults": {
           "arrowcolor": "#2a3f5f",
           "arrowhead": 0,
           "arrowwidth": 1
          },
          "autotypenumbers": "strict",
          "coloraxis": {
           "colorbar": {
            "outlinewidth": 0,
            "ticks": ""
           }
          },
          "colorscale": {
           "diverging": [
            [
             0,
             "#8e0152"
            ],
            [
             0.1,
             "#c51b7d"
            ],
            [
             0.2,
             "#de77ae"
            ],
            [
             0.3,
             "#f1b6da"
            ],
            [
             0.4,
             "#fde0ef"
            ],
            [
             0.5,
             "#f7f7f7"
            ],
            [
             0.6,
             "#e6f5d0"
            ],
            [
             0.7,
             "#b8e186"
            ],
            [
             0.8,
             "#7fbc41"
            ],
            [
             0.9,
             "#4d9221"
            ],
            [
             1,
             "#276419"
            ]
           ],
           "sequential": [
            [
             0,
             "#0d0887"
            ],
            [
             0.1111111111111111,
             "#46039f"
            ],
            [
             0.2222222222222222,
             "#7201a8"
            ],
            [
             0.3333333333333333,
             "#9c179e"
            ],
            [
             0.4444444444444444,
             "#bd3786"
            ],
            [
             0.5555555555555556,
             "#d8576b"
            ],
            [
             0.6666666666666666,
             "#ed7953"
            ],
            [
             0.7777777777777778,
             "#fb9f3a"
            ],
            [
             0.8888888888888888,
             "#fdca26"
            ],
            [
             1,
             "#f0f921"
            ]
           ],
           "sequentialminus": [
            [
             0,
             "#0d0887"
            ],
            [
             0.1111111111111111,
             "#46039f"
            ],
            [
             0.2222222222222222,
             "#7201a8"
            ],
            [
             0.3333333333333333,
             "#9c179e"
            ],
            [
             0.4444444444444444,
             "#bd3786"
            ],
            [
             0.5555555555555556,
             "#d8576b"
            ],
            [
             0.6666666666666666,
             "#ed7953"
            ],
            [
             0.7777777777777778,
             "#fb9f3a"
            ],
            [
             0.8888888888888888,
             "#fdca26"
            ],
            [
             1,
             "#f0f921"
            ]
           ]
          },
          "colorway": [
           "#636efa",
           "#EF553B",
           "#00cc96",
           "#ab63fa",
           "#FFA15A",
           "#19d3f3",
           "#FF6692",
           "#B6E880",
           "#FF97FF",
           "#FECB52"
          ],
          "font": {
           "color": "#2a3f5f"
          },
          "geo": {
           "bgcolor": "white",
           "lakecolor": "white",
           "landcolor": "#E5ECF6",
           "showlakes": true,
           "showland": true,
           "subunitcolor": "white"
          },
          "hoverlabel": {
           "align": "left"
          },
          "hovermode": "closest",
          "mapbox": {
           "style": "light"
          },
          "paper_bgcolor": "white",
          "plot_bgcolor": "#E5ECF6",
          "polar": {
           "angularaxis": {
            "gridcolor": "white",
            "linecolor": "white",
            "ticks": ""
           },
           "bgcolor": "#E5ECF6",
           "radialaxis": {
            "gridcolor": "white",
            "linecolor": "white",
            "ticks": ""
           }
          },
          "scene": {
           "xaxis": {
            "backgroundcolor": "#E5ECF6",
            "gridcolor": "white",
            "gridwidth": 2,
            "linecolor": "white",
            "showbackground": true,
            "ticks": "",
            "zerolinecolor": "white"
           },
           "yaxis": {
            "backgroundcolor": "#E5ECF6",
            "gridcolor": "white",
            "gridwidth": 2,
            "linecolor": "white",
            "showbackground": true,
            "ticks": "",
            "zerolinecolor": "white"
           },
           "zaxis": {
            "backgroundcolor": "#E5ECF6",
            "gridcolor": "white",
            "gridwidth": 2,
            "linecolor": "white",
            "showbackground": true,
            "ticks": "",
            "zerolinecolor": "white"
           }
          },
          "shapedefaults": {
           "line": {
            "color": "#2a3f5f"
           }
          },
          "ternary": {
           "aaxis": {
            "gridcolor": "white",
            "linecolor": "white",
            "ticks": ""
           },
           "baxis": {
            "gridcolor": "white",
            "linecolor": "white",
            "ticks": ""
           },
           "bgcolor": "#E5ECF6",
           "caxis": {
            "gridcolor": "white",
            "linecolor": "white",
            "ticks": ""
           }
          },
          "title": {
           "x": 0.05
          },
          "xaxis": {
           "automargin": true,
           "gridcolor": "white",
           "linecolor": "white",
           "ticks": "",
           "title": {
            "standoff": 15
           },
           "zerolinecolor": "white",
           "zerolinewidth": 2
          },
          "yaxis": {
           "automargin": true,
           "gridcolor": "white",
           "linecolor": "white",
           "ticks": "",
           "title": {
            "standoff": 15
           },
           "zerolinecolor": "white",
           "zerolinewidth": 2
          }
         }
        },
        "title": {
         "text": "Medaile podle klubů"
        },
        "width": 950,
        "xaxis": {
         "anchor": "y",
         "autorange": true,
         "categoryorder": "total descending",
         "domain": [
          0,
          1
         ],
         "range": [
          -0.5,
          7.5
         ],
         "tickangle": -90,
         "tickvals": [
          "1.FC BELA POD BEZ",
          "DUKLA OLOMOUC",
          "DYNAMO UŽHOROD",
          "SC PRAHA",
          "SC PRAHA",
          "SC PRAHA",
          "SLAVOJ LITOMERICE",
          "SLAVOJ LITOMERICE",
          "TBILISI",
          "TJ LOKO K.VARY",
          "TJ LOKO K.VARY",
          "TJ LOKO K.VARY",
          "TJ LOKO TEPLICE"
         ],
         "title": {
          "text": "Club"
         },
         "type": "category"
        },
        "yaxis": {
         "anchor": "x",
         "autorange": true,
         "domain": [
          0,
          1
         ],
         "range": [
          0,
          11.578947368421053
         ],
         "title": {
          "text": "count"
         },
         "type": "linear"
        }
       }
      },
      "image/png": "[encoded data removed]",
      "text/html": [
       "<div>                            <div id=\"5adb5204-df17-4e11-b44e-3c0f2ceb2246\" class=\"plotly-graph-div\" style=\"height:700px; width:950px;\"></div>            <script type=\"text/javascript\">                require([\"plotly\"], function(Plotly) {                    window.PLOTLYENV=window.PLOTLYENV || {};                                    if (document.getElementById(\"5adb5204-df17-4e11-b44e-3c0f2ceb2246\")) {                    Plotly.newPlot(                        \"5adb5204-df17-4e11-b44e-3c0f2ceb2246\",                        [{\"alignmentgroup\":\"True\",\"hovertemplate\":\"Final_rank=2<br>Club=%{x}<br>count=%{y}<extra></extra>\",\"legendgroup\":\"2\",\"marker\":{\"color\":\"silver\",\"pattern\":{\"shape\":\"\"}},\"name\":\"2\",\"offsetgroup\":\"2\",\"orientation\":\"v\",\"showlegend\":true,\"textposition\":\"auto\",\"texttemplate\":\"%{y:.0s}\",\"x\":[\"1.FC BELA POD BEZ\",\"SC PRAHA\",\"SLAVOJ LITOMERICE\",\"TJ LOKO K.VARY\",\"TJ LOKO TEPLICE\"],\"xaxis\":\"x\",\"y\":[1,2,1,1,2],\"yaxis\":\"y\",\"type\":\"bar\"},{\"alignmentgroup\":\"True\",\"hovertemplate\":\"Final_rank=1<br>Club=%{x}<br>count=%{y}<extra></extra>\",\"legendgroup\":\"1\",\"marker\":{\"color\":\"gold\",\"pattern\":{\"shape\":\"\"}},\"name\":\"1\",\"offsetgroup\":\"1\",\"orientation\":\"v\",\"showlegend\":true,\"textposition\":\"auto\",\"texttemplate\":\"%{y:.0s}\",\"x\":[\"DUKLA OLOMOUC\",\"SC PRAHA\",\"TJ LOKO K.VARY\"],\"xaxis\":\"x\",\"y\":[2,3,2],\"yaxis\":\"y\",\"type\":\"bar\"},{\"alignmentgroup\":\"True\",\"hovertemplate\":\"Final_rank=3<br>Club=%{x}<br>count=%{y}<extra></extra>\",\"legendgroup\":\"3\",\"marker\":{\"color\":\"goldenrod\",\"pattern\":{\"shape\":\"\"}},\"name\":\"3\",\"offsetgroup\":\"3\",\"orientation\":\"v\",\"showlegend\":true,\"textposition\":\"auto\",\"texttemplate\":\"%{y:.0s}\",\"x\":[\"DYNAMO U\\u017dHOROD\",\"SC PRAHA\",\"SLAVOJ LITOMERICE\",\"TBILISI\",\"TJ LOKO K.VARY\"],\"xaxis\":\"x\",\"y\":[1,6,3,1,2],\"yaxis\":\"y\",\"type\":\"bar\"}],                        {\"template\":{\"data\":{\"bar\":[{\"error_x\":{\"color\":\"#2a3f5f\"},\"error_y\":{\"color\":\"#2a3f5f\"},\"marker\":{\"line\":{\"color\":\"#E5ECF6\",\"width\":0.5},\"pattern\":{\"fillmode\":\"overlay\",\"size\":10,\"solidity\":0.2}},\"type\":\"bar\"}],\"barpolar\":[{\"marker\":{\"line\":{\"color\":\"#E5ECF6\",\"width\":0.5},\"pattern\":{\"fillmode\":\"overlay\",\"size\":10,\"solidity\":0.2}},\"type\":\"barpolar\"}],\"carpet\":[{\"aaxis\":{\"endlinecolor\":\"#2a3f5f\",\"gridcolor\":\"white\",\"linecolor\":\"white\",\"minorgridcolor\":\"white\",\"startlinecolor\":\"#2a3f5f\"},\"baxis\":{\"endlinecolor\":\"#2a3f5f\",\"gridcolor\":\"white\",\"linecolor\":\"white\",\"minorgridcolor\":\"white\",\"startlinecolor\":\"#2a3f5f\"},\"type\":\"carpet\"}],\"choropleth\":[{\"colorbar\":{\"outlinewidth\":0,\"ticks\":\"\"},\"type\":\"choropleth\"}],\"contour\":[{\"colorbar\":{\"outlinewidth\":0,\"ticks\":\"\"},\"colorscale\":[[0.0,\"#0d0887\"],[0.1111111111111111,\"#46039f\"],[0.2222222222222222,\"#7201a8\"],[0.3333333333333333,\"#9c179e\"],[0.4444444444444444,\"#bd3786\"],[0.5555555555555556,\"#d8576b\"],[0.6666666666666666,\"#ed7953\"],[0.7777777777777778,\"#fb9f3a\"],[0.8888888888888888,\"#fdca26\"],[1.0,\"#f0f921\"]],\"type\":\"contour\"}],\"contourcarpet\":[{\"colorbar\":{\"outlinewidth\":0,\"ticks\":\"\"},\"type\":\"contourcarpet\"}],\"heatmap\":[{\"colorbar\":{\"outlinewidth\":0,\"ticks\":\"\"},\"colorscale\":[[0.0,\"#0d0887\"],[0.1111111111111111,\"#46039f\"],[0.2222222222222222,\"#7201a8\"],[0.3333333333333333,\"#9c179e\"],[0.4444444444444444,\"#bd3786\"],[0.5555555555555556,\"#d8576b\"],[0.6666666666666666,\"#ed7953\"],[0.7777777777777778,\"#fb9f3a\"],[0.8888888888888888,\"#fdca26\"],[1.0,\"#f0f921\"]],\"type\":\"heatmap\"}],\"heatmapgl\":[{\"colorbar\":{\"outlinewidth\":0,\"ticks\":\"\"},\"colorscale\":[[0.0,\"#0d0887\"],[0.1111111111111111,\"#46039f\"],[0.2222222222222222,\"#7201a8\"],[0.3333333333333333,\"#9c179e\"],[0.4444444444444444,\"#bd3786\"],[0.5555555555555556,\"#d8576b\"],[0.6666666666666666,\"#ed7953\"],[0.7777777777777778,\"#fb9f3a\"],[0.8888888888888888,\"#fdca26\"],[1.0,\"#f0f921\"]],\"type\":\"heatmapgl\"}],\"histogram\":[{\"marker\":{\"pattern\":{\"fillmode\":\"overlay\",\"size\":10,\"solidity\":0.2}},\"type\":\"histogram\"}],\"histogram2d\":[{\"colorbar\":{\"outlinewidth\":0,\"ticks\":\"\"},\"colorscale\":[[0.0,\"#0d0887\"],[0.1111111111111111,\"#46039f\"],[0.2222222222222222,\"#7201a8\"],[0.3333333333333333,\"#9c179e\"],[0.4444444444444444,\"#bd3786\"],[0.5555555555555556,\"#d8576b\"],[0.6666666666666666,\"#ed7953\"],[0.7777777777777778,\"#fb9f3a\"],[0.8888888888888888,\"#fdca26\"],[1.0,\"#f0f921\"]],\"type\":\"histogram2d\"}],\"histogram2dcontour\":[{\"colorbar\":{\"outlinewidth\":0,\"ticks\":\"\"},\"colorscale\":[[0.0,\"#0d0887\"],[0.1111111111111111,\"#46039f\"],[0.2222222222222222,\"#7201a8\"],[0.3333333333333333,\"#9c179e\"],[0.4444444444444444,\"#bd3786\"],[0.5555555555555556,\"#d8576b\"],[0.6666666666666666,\"#ed7953\"],[0.7777777777777778,\"#fb9f3a\"],[0.8888888888888888,\"#fdca26\"],[1.0,\"#f0f921\"]],\"type\":\"histogram2dcontour\"}],\"mesh3d\":[{\"colorbar\":{\"outlinewidth\":0,\"ticks\":\"\"},\"type\":\"mesh3d\"}],\"parcoords\":[{\"line\":{\"colorbar\":{\"outlinewidth\":0,\"ticks\":\"\"}},\"type\":\"parcoords\"}],\"pie\":[{\"automargin\":true,\"type\":\"pie\"}],\"scatter\":[{\"marker\":{\"colorbar\":{\"outlinewidth\":0,\"ticks\":\"\"}},\"type\":\"scatter\"}],\"scatter3d\":[{\"line\":{\"colorbar\":{\"outlinewidth\":0,\"ticks\":\"\"}},\"marker\":{\"colorbar\":{\"outlinewidth\":0,\"ticks\":\"\"}},\"type\":\"scatter3d\"}],\"scattercarpet\":[{\"marker\":{\"colorbar\":{\"outlinewidth\":0,\"ticks\":\"\"}},\"type\":\"scattercarpet\"}],\"scattergeo\":[{\"marker\":{\"colorbar\":{\"outlinewidth\":0,\"ticks\":\"\"}},\"type\":\"scattergeo\"}],\"scattergl\":[{\"marker\":{\"colorbar\":{\"outlinewidth\":0,\"ticks\":\"\"}},\"type\":\"scattergl\"}],\"scattermapbox\":[{\"marker\":{\"colorbar\":{\"outlinewidth\":0,\"ticks\":\"\"}},\"type\":\"scattermapbox\"}],\"scatterpolar\":[{\"marker\":{\"colorbar\":{\"outlinewidth\":0,\"ticks\":\"\"}},\"type\":\"scatterpolar\"}],\"scatterpolargl\":[{\"marker\":{\"colorbar\":{\"outlinewidth\":0,\"ticks\":\"\"}},\"type\":\"scatterpolargl\"}],\"scatterternary\":[{\"marker\":{\"colorbar\":{\"outlinewidth\":0,\"ticks\":\"\"}},\"type\":\"scatterternary\"}],\"surface\":[{\"colorbar\":{\"outlinewidth\":0,\"ticks\":\"\"},\"colorscale\":[[0.0,\"#0d0887\"],[0.1111111111111111,\"#46039f\"],[0.2222222222222222,\"#7201a8\"],[0.3333333333333333,\"#9c179e\"],[0.4444444444444444,\"#bd3786\"],[0.5555555555555556,\"#d8576b\"],[0.6666666666666666,\"#ed7953\"],[0.7777777777777778,\"#fb9f3a\"],[0.8888888888888888,\"#fdca26\"],[1.0,\"#f0f921\"]],\"type\":\"surface\"}],\"table\":[{\"cells\":{\"fill\":{\"color\":\"#EBF0F8\"},\"line\":{\"color\":\"white\"}},\"header\":{\"fill\":{\"color\":\"#C8D4E3\"},\"line\":{\"color\":\"white\"}},\"type\":\"table\"}]},\"layout\":{\"annotationdefaults\":{\"arrowcolor\":\"#2a3f5f\",\"arrowhead\":0,\"arrowwidth\":1},\"autotypenumbers\":\"strict\",\"coloraxis\":{\"colorbar\":{\"outlinewidth\":0,\"ticks\":\"\"}},\"colorscale\":{\"diverging\":[[0,\"#8e0152\"],[0.1,\"#c51b7d\"],[0.2,\"#de77ae\"],[0.3,\"#f1b6da\"],[0.4,\"#fde0ef\"],[0.5,\"#f7f7f7\"],[0.6,\"#e6f5d0\"],[0.7,\"#b8e186\"],[0.8,\"#7fbc41\"],[0.9,\"#4d9221\"],[1,\"#276419\"]],\"sequential\":[[0.0,\"#0d0887\"],[0.1111111111111111,\"#46039f\"],[0.2222222222222222,\"#7201a8\"],[0.3333333333333333,\"#9c179e\"],[0.4444444444444444,\"#bd3786\"],[0.5555555555555556,\"#d8576b\"],[0.6666666666666666,\"#ed7953\"],[0.7777777777777778,\"#fb9f3a\"],[0.8888888888888888,\"#fdca26\"],[1.0,\"#f0f921\"]],\"sequentialminus\":[[0.0,\"#0d0887\"],[0.1111111111111111,\"#46039f\"],[0.2222222222222222,\"#7201a8\"],[0.3333333333333333,\"#9c179e\"],[0.4444444444444444,\"#bd3786\"],[0.5555555555555556,\"#d8576b\"],[0.6666666666666666,\"#ed7953\"],[0.7777777777777778,\"#fb9f3a\"],[0.8888888888888888,\"#fdca26\"],[1.0,\"#f0f921\"]]},\"colorway\":[\"#636efa\",\"#EF553B\",\"#00cc96\",\"#ab63fa\",\"#FFA15A\",\"#19d3f3\",\"#FF6692\",\"#B6E880\",\"#FF97FF\",\"#FECB52\"],\"font\":{\"color\":\"#2a3f5f\"},\"geo\":{\"bgcolor\":\"white\",\"lakecolor\":\"white\",\"landcolor\":\"#E5ECF6\",\"showlakes\":true,\"showland\":true,\"subunitcolor\":\"white\"},\"hoverlabel\":{\"align\":\"left\"},\"hovermode\":\"closest\",\"mapbox\":{\"style\":\"light\"},\"paper_bgcolor\":\"white\",\"plot_bgcolor\":\"#E5ECF6\",\"polar\":{\"angularaxis\":{\"gridcolor\":\"white\",\"linecolor\":\"white\",\"ticks\":\"\"},\"bgcolor\":\"#E5ECF6\",\"radialaxis\":{\"gridcolor\":\"white\",\"linecolor\":\"white\",\"ticks\":\"\"}},\"scene\":{\"xaxis\":{\"backgroundcolor\":\"#E5ECF6\",\"gridcolor\":\"white\",\"gridwidth\":2,\"linecolor\":\"white\",\"showbackground\":true,\"ticks\":\"\",\"zerolinecolor\":\"white\"},\"yaxis\":{\"backgroundcolor\":\"#E5ECF6\",\"gridcolor\":\"white\",\"gridwidth\":2,\"linecolor\":\"white\",\"showbackground\":true,\"ticks\":\"\",\"zerolinecolor\":\"white\"},\"zaxis\":{\"backgroundcolor\":\"#E5ECF6\",\"gridcolor\":\"white\",\"gridwidth\":2,\"linecolor\":\"white\",\"showbackground\":true,\"ticks\":\"\",\"zerolinecolor\":\"white\"}},\"shapedefaults\":{\"line\":{\"color\":\"#2a3f5f\"}},\"ternary\":{\"aaxis\":{\"gridcolor\":\"white\",\"linecolor\":\"white\",\"ticks\":\"\"},\"baxis\":{\"gridcolor\":\"white\",\"linecolor\":\"white\",\"ticks\":\"\"},\"bgcolor\":\"#E5ECF6\",\"caxis\":{\"gridcolor\":\"white\",\"linecolor\":\"white\",\"ticks\":\"\"}},\"title\":{\"x\":0.05},\"xaxis\":{\"automargin\":true,\"gridcolor\":\"white\",\"linecolor\":\"white\",\"ticks\":\"\",\"title\":{\"standoff\":15},\"zerolinecolor\":\"white\",\"zerolinewidth\":2},\"yaxis\":{\"automargin\":true,\"gridcolor\":\"white\",\"linecolor\":\"white\",\"ticks\":\"\",\"title\":{\"standoff\":15},\"zerolinecolor\":\"white\",\"zerolinewidth\":2}}},\"xaxis\":{\"anchor\":\"y\",\"domain\":[0.0,1.0],\"title\":{\"text\":\"Club\"},\"tickvals\":[\"1.FC BELA POD BEZ\",\"DUKLA OLOMOUC\",\"DYNAMO U\\u017dHOROD\",\"SC PRAHA\",\"SC PRAHA\",\"SC PRAHA\",\"SLAVOJ LITOMERICE\",\"SLAVOJ LITOMERICE\",\"TBILISI\",\"TJ LOKO K.VARY\",\"TJ LOKO K.VARY\",\"TJ LOKO K.VARY\",\"TJ LOKO TEPLICE\"],\"categoryorder\":\"total descending\",\"tickangle\":-90},\"yaxis\":{\"anchor\":\"x\",\"domain\":[0.0,1.0],\"title\":{\"text\":\"count\"}},\"legend\":{\"title\":{\"text\":\"Final_rank\"},\"tracegroupgap\":0},\"title\":{\"text\":\"Medaile podle klub\\u016f\"},\"barmode\":\"relative\",\"height\":700,\"width\":950},                        {\"responsive\": true}                    ).then(function(){\n",
       "                            \n",
       "var gd = document.getElementById('5adb5204-df17-4e11-b44e-3c0f2ceb2246');\n",
       "var x = new MutationObserver(function (mutations, observer) {{\n",
       "        var display = window.getComputedStyle(gd).display;\n",
       "        if (!display || display === 'none') {{\n",
       "            console.log([gd, 'removed!']);\n",
       "            Plotly.purge(gd);\n",
       "            observer.disconnect();\n",
       "        }}\n",
       "}});\n",
       "\n",
       "// Listen for the removal of the full notebook cells\n",
       "var notebookContainer = gd.closest('#notebook-container');\n",
       "if (notebookContainer) {{\n",
       "    x.observe(notebookContainer, {childList: true});\n",
       "}}\n",
       "\n",
       "// Listen for the clearing of the current output cell\n",
       "var outputEl = gd.closest('.output');\n",
       "if (outputEl) {{\n",
       "    x.observe(outputEl, {childList: true});\n",
       "}}\n",
       "\n",
       "                        })                };                });            </script>        </div>"
      ]
     },
     "metadata": {},
     "output_type": "display_data"
    }
   ],
   "source": [
    "medals = df_m.loc[df_m.Final_rank.isin([1,2,3]), :]\n",
    "d5 = pd.DataFrame({'count' : medals.groupby( ['Club', \"Final_rank\"] ).size()}).reset_index()\n",
    "d5[\"Final_rank\"] = d5[\"Final_rank\"].astype(str) # nezbytné pro diskrétní barvy: https://plotly.com/python/discrete-color/\n",
    "\n",
    "fig = px.bar(d5, x= d5[\"Club\"],\n",
    "             y= d5[\"count\"], \n",
    "             color = d5[\"Final_rank\"] ,\n",
    "             color_discrete_map={\"1\": \"gold\", \"2\":\"silver\", \"3\":\"goldenrod\"},  # definice barev\n",
    "             #hover_name=\"Final_rank\",   # extra info ve float popisku\n",
    "             text_auto='.0s',    \n",
    "             width=950, height=700,\n",
    "             title=\"Medaile podle klubů\")\n",
    "\n",
    "fig.update_layout(xaxis = dict(tickvals = d5[\"Club\"]))\n",
    "fig.update_layout(xaxis={'categoryorder':'total descending'}) # extra řazeni od nejvyššího totalu\n",
    "fig.update_xaxes(tickangle=270)\n",
    "fig.show()\n",
    "\n",
    "pio.write_html(fig, file=\"vizualizace/V4_Medals-Club.html\", auto_open=True)"
   ]
  },
  {
   "cell_type": "markdown",
   "id": "3c70c374-38a1-4db8-b30a-9db9600cc29b",
   "metadata": {},
   "source": [
    "## Pokus s dropdowny 1\n",
    "\n",
    "https://plotly.com/python/dropdowns/\n",
    "\n",
    " - zde nevím, co tam nacpat dovnitř Buttons, místo toho type - jako něco co filtruje moje data?\n",
    "\n",
    "https://stackoverflow.com/questions/68894919/how-to-set-the-values-of-args-and-args2-in-plotlys-buttons-in-updatemenus\n",
    "\n",
    "https://plotly.com/python/bar-charts/  - graph_objects obecně\n",
    "\n",
    "https://plotly.com/python/graph-objects/ - rozdíl plotly express vs. graph_objects\n",
    "\n",
    "https://plotly.com/python/dropdowns/ - sekce \"Update Dropdowns\" - zde jsou Příklady na Scatter Dropdown s graph_objects\n",
    "\n",
    " - musí se px.bar(...) předělat na go.Bar(...)\n",
    " - musí se používat listy atd.\n",
    " - musím mít připravené všechny add_trace s různými verzemi dat\n",
    " - ten dropdown je jen zviditelnuje\n",
    " \n",
    " https://plotly.com/python/bar-charts/  - Bar charts in Dash = budoucí alternativa"
   ]
  },
  {
   "cell_type": "code",
   "execution_count": 133,
   "id": "f93eb354-5f1e-498a-aee2-3e53d83a2069",
   "metadata": {
    "collapsed": true,
    "jupyter": {
     "outputs_hidden": true
    },
    "tags": []
   },
   "outputs": [
    {
     "data": {
      "text/html": [
       "<div>\n",
       "<style scoped>\n",
       "    .dataframe tbody tr th:only-of-type {\n",
       "        vertical-align: middle;\n",
       "    }\n",
       "\n",
       "    .dataframe tbody tr th {\n",
       "        vertical-align: top;\n",
       "    }\n",
       "\n",
       "    .dataframe thead th {\n",
       "        text-align: right;\n",
       "    }\n",
       "</style>\n",
       "<table border=\"1\" class=\"dataframe\">\n",
       "  <thead>\n",
       "    <tr style=\"text-align: right;\">\n",
       "      <th></th>\n",
       "      <th>Club</th>\n",
       "      <th>Final_rank</th>\n",
       "      <th>count</th>\n",
       "    </tr>\n",
       "  </thead>\n",
       "  <tbody>\n",
       "    <tr>\n",
       "      <th>0</th>\n",
       "      <td>1.FC BELA POD BEZ</td>\n",
       "      <td>2</td>\n",
       "      <td>1</td>\n",
       "    </tr>\n",
       "    <tr>\n",
       "      <th>1</th>\n",
       "      <td>DUKLA OLOMOUC</td>\n",
       "      <td>1</td>\n",
       "      <td>2</td>\n",
       "    </tr>\n",
       "    <tr>\n",
       "      <th>2</th>\n",
       "      <td>DYNAMO UŽHOROD</td>\n",
       "      <td>3</td>\n",
       "      <td>1</td>\n",
       "    </tr>\n",
       "    <tr>\n",
       "      <th>3</th>\n",
       "      <td>SC PRAHA</td>\n",
       "      <td>1</td>\n",
       "      <td>3</td>\n",
       "    </tr>\n",
       "    <tr>\n",
       "      <th>4</th>\n",
       "      <td>SC PRAHA</td>\n",
       "      <td>2</td>\n",
       "      <td>2</td>\n",
       "    </tr>\n",
       "    <tr>\n",
       "      <th>5</th>\n",
       "      <td>SC PRAHA</td>\n",
       "      <td>3</td>\n",
       "      <td>6</td>\n",
       "    </tr>\n",
       "    <tr>\n",
       "      <th>6</th>\n",
       "      <td>SLAVOJ LITOMERICE</td>\n",
       "      <td>2</td>\n",
       "      <td>1</td>\n",
       "    </tr>\n",
       "    <tr>\n",
       "      <th>7</th>\n",
       "      <td>SLAVOJ LITOMERICE</td>\n",
       "      <td>3</td>\n",
       "      <td>3</td>\n",
       "    </tr>\n",
       "    <tr>\n",
       "      <th>8</th>\n",
       "      <td>TBILISI</td>\n",
       "      <td>3</td>\n",
       "      <td>1</td>\n",
       "    </tr>\n",
       "    <tr>\n",
       "      <th>9</th>\n",
       "      <td>TJ LOKO K.VARY</td>\n",
       "      <td>1</td>\n",
       "      <td>2</td>\n",
       "    </tr>\n",
       "    <tr>\n",
       "      <th>10</th>\n",
       "      <td>TJ LOKO K.VARY</td>\n",
       "      <td>2</td>\n",
       "      <td>1</td>\n",
       "    </tr>\n",
       "    <tr>\n",
       "      <th>11</th>\n",
       "      <td>TJ LOKO K.VARY</td>\n",
       "      <td>3</td>\n",
       "      <td>2</td>\n",
       "    </tr>\n",
       "    <tr>\n",
       "      <th>12</th>\n",
       "      <td>TJ LOKO TEPLICE</td>\n",
       "      <td>2</td>\n",
       "      <td>2</td>\n",
       "    </tr>\n",
       "  </tbody>\n",
       "</table>\n",
       "</div>"
      ],
      "text/plain": [
       "                 Club Final_rank  count\n",
       "0   1.FC BELA POD BEZ          2      1\n",
       "1       DUKLA OLOMOUC          1      2\n",
       "2      DYNAMO UŽHOROD          3      1\n",
       "3            SC PRAHA          1      3\n",
       "4            SC PRAHA          2      2\n",
       "5            SC PRAHA          3      6\n",
       "6   SLAVOJ LITOMERICE          2      1\n",
       "7   SLAVOJ LITOMERICE          3      3\n",
       "8             TBILISI          3      1\n",
       "9      TJ LOKO K.VARY          1      2\n",
       "10     TJ LOKO K.VARY          2      1\n",
       "11     TJ LOKO K.VARY          3      2\n",
       "12    TJ LOKO TEPLICE          2      2"
      ]
     },
     "execution_count": 133,
     "metadata": {},
     "output_type": "execute_result"
    }
   ],
   "source": [
    "## dummy data\n",
    "\n",
    "medals = df_m.loc[df_m.Final_rank.isin([1,2,3]), :]\n",
    "d5 = pd.DataFrame({'count' : medals.groupby( ['Club', \"Final_rank\"] ).size()}).reset_index()\n",
    "d5[\"Final_rank\"] = d5[\"Final_rank\"].astype(str) # nezbytné pro diskrétní barvy: https://plotly.com/python/discrete-color/\n",
    "\n",
    "data1 = d5.copy()\n",
    "data2 = d5.copy()\n",
    "data3 = d5.copy()\n",
    "data2[\"count\"] = data2[\"count\"] + 10\n",
    "data3[\"count\"] = data3[\"count\"] + 100\n",
    "\n",
    "d5"
   ]
  },
  {
   "cell_type": "code",
   "execution_count": 140,
   "id": "217f5956-20d0-48a0-9584-e257484806c8",
   "metadata": {},
   "outputs": [
    {
     "data": {
      "application/vnd.plotly.v1+json": {
       "config": {
        "plotlyServerURL": "https://plot.ly"
       },
       "data": [
        {
         "name": "Basic",
         "type": "bar",
         "visible": true,
         "x": [
          "1.FC BELA POD BEZ",
          "DUKLA OLOMOUC",
          "DYNAMO UŽHOROD",
          "SC PRAHA",
          "SC PRAHA",
          "SC PRAHA",
          "SLAVOJ LITOMERICE",
          "SLAVOJ LITOMERICE",
          "TBILISI",
          "TJ LOKO K.VARY",
          "TJ LOKO K.VARY",
          "TJ LOKO K.VARY",
          "TJ LOKO TEPLICE"
         ],
         "y": [
          1,
          2,
          1,
          3,
          2,
          6,
          1,
          3,
          1,
          2,
          1,
          2,
          2
         ]
        },
        {
         "name": "Updated",
         "type": "bar",
         "visible": false,
         "x": [
          "1.FC BELA POD BEZ",
          "DUKLA OLOMOUC",
          "DYNAMO UŽHOROD",
          "SC PRAHA",
          "SC PRAHA",
          "SC PRAHA",
          "SLAVOJ LITOMERICE",
          "SLAVOJ LITOMERICE",
          "TBILISI",
          "TJ LOKO K.VARY",
          "TJ LOKO K.VARY",
          "TJ LOKO K.VARY",
          "TJ LOKO TEPLICE"
         ],
         "y": [
          11,
          12,
          11,
          13,
          12,
          16,
          11,
          13,
          11,
          12,
          11,
          12,
          12
         ]
        },
        {
         "name": "Updated v.2",
         "type": "bar",
         "visible": false,
         "x": [
          "1.FC BELA POD BEZ",
          "DUKLA OLOMOUC",
          "DYNAMO UŽHOROD",
          "SC PRAHA",
          "SC PRAHA",
          "SC PRAHA",
          "SLAVOJ LITOMERICE",
          "SLAVOJ LITOMERICE",
          "TBILISI",
          "TJ LOKO K.VARY",
          "TJ LOKO K.VARY",
          "TJ LOKO K.VARY",
          "TJ LOKO TEPLICE"
         ],
         "y": [
          101,
          102,
          101,
          103,
          102,
          106,
          101,
          103,
          101,
          102,
          101,
          102,
          102
         ]
        }
       ],
       "layout": {
        "autosize": true,
        "template": {
         "data": {
          "bar": [
           {
            "error_x": {
             "color": "#2a3f5f"
            },
            "error_y": {
             "color": "#2a3f5f"
            },
            "marker": {
             "line": {
              "color": "#E5ECF6",
              "width": 0.5
             },
             "pattern": {
              "fillmode": "overlay",
              "size": 10,
              "solidity": 0.2
             }
            },
            "type": "bar"
           }
          ],
          "barpolar": [
           {
            "marker": {
             "line": {
              "color": "#E5ECF6",
              "width": 0.5
             },
             "pattern": {
              "fillmode": "overlay",
              "size": 10,
              "solidity": 0.2
             }
            },
            "type": "barpolar"
           }
          ],
          "carpet": [
           {
            "aaxis": {
             "endlinecolor": "#2a3f5f",
             "gridcolor": "white",
             "linecolor": "white",
             "minorgridcolor": "white",
             "startlinecolor": "#2a3f5f"
            },
            "baxis": {
             "endlinecolor": "#2a3f5f",
             "gridcolor": "white",
             "linecolor": "white",
             "minorgridcolor": "white",
             "startlinecolor": "#2a3f5f"
            },
            "type": "carpet"
           }
          ],
          "choropleth": [
           {
            "colorbar": {
             "outlinewidth": 0,
             "ticks": ""
            },
            "type": "choropleth"
           }
          ],
          "contour": [
           {
            "colorbar": {
             "outlinewidth": 0,
             "ticks": ""
            },
            "colorscale": [
             [
              0,
              "#0d0887"
             ],
             [
              0.1111111111111111,
              "#46039f"
             ],
             [
              0.2222222222222222,
              "#7201a8"
             ],
             [
              0.3333333333333333,
              "#9c179e"
             ],
             [
              0.4444444444444444,
              "#bd3786"
             ],
             [
              0.5555555555555556,
              "#d8576b"
             ],
             [
              0.6666666666666666,
              "#ed7953"
             ],
             [
              0.7777777777777778,
              "#fb9f3a"
             ],
             [
              0.8888888888888888,
              "#fdca26"
             ],
             [
              1,
              "#f0f921"
             ]
            ],
            "type": "contour"
           }
          ],
          "contourcarpet": [
           {
            "colorbar": {
             "outlinewidth": 0,
             "ticks": ""
            },
            "type": "contourcarpet"
           }
          ],
          "heatmap": [
           {
            "colorbar": {
             "outlinewidth": 0,
             "ticks": ""
            },
            "colorscale": [
             [
              0,
              "#0d0887"
             ],
             [
              0.1111111111111111,
              "#46039f"
             ],
             [
              0.2222222222222222,
              "#7201a8"
             ],
             [
              0.3333333333333333,
              "#9c179e"
             ],
             [
              0.4444444444444444,
              "#bd3786"
             ],
             [
              0.5555555555555556,
              "#d8576b"
             ],
             [
              0.6666666666666666,
              "#ed7953"
             ],
             [
              0.7777777777777778,
              "#fb9f3a"
             ],
             [
              0.8888888888888888,
              "#fdca26"
             ],
             [
              1,
              "#f0f921"
             ]
            ],
            "type": "heatmap"
           }
          ],
          "heatmapgl": [
           {
            "colorbar": {
             "outlinewidth": 0,
             "ticks": ""
            },
            "colorscale": [
             [
              0,
              "#0d0887"
             ],
             [
              0.1111111111111111,
              "#46039f"
             ],
             [
              0.2222222222222222,
              "#7201a8"
             ],
             [
              0.3333333333333333,
              "#9c179e"
             ],
             [
              0.4444444444444444,
              "#bd3786"
             ],
             [
              0.5555555555555556,
              "#d8576b"
             ],
             [
              0.6666666666666666,
              "#ed7953"
             ],
             [
              0.7777777777777778,
              "#fb9f3a"
             ],
             [
              0.8888888888888888,
              "#fdca26"
             ],
             [
              1,
              "#f0f921"
             ]
            ],
            "type": "heatmapgl"
           }
          ],
          "histogram": [
           {
            "marker": {
             "pattern": {
              "fillmode": "overlay",
              "size": 10,
              "solidity": 0.2
             }
            },
            "type": "histogram"
           }
          ],
          "histogram2d": [
           {
            "colorbar": {
             "outlinewidth": 0,
             "ticks": ""
            },
            "colorscale": [
             [
              0,
              "#0d0887"
             ],
             [
              0.1111111111111111,
              "#46039f"
             ],
             [
              0.2222222222222222,
              "#7201a8"
             ],
             [
              0.3333333333333333,
              "#9c179e"
             ],
             [
              0.4444444444444444,
              "#bd3786"
             ],
             [
              0.5555555555555556,
              "#d8576b"
             ],
             [
              0.6666666666666666,
              "#ed7953"
             ],
             [
              0.7777777777777778,
              "#fb9f3a"
             ],
             [
              0.8888888888888888,
              "#fdca26"
             ],
             [
              1,
              "#f0f921"
             ]
            ],
            "type": "histogram2d"
           }
          ],
          "histogram2dcontour": [
           {
            "colorbar": {
             "outlinewidth": 0,
             "ticks": ""
            },
            "colorscale": [
             [
              0,
              "#0d0887"
             ],
             [
              0.1111111111111111,
              "#46039f"
             ],
             [
              0.2222222222222222,
              "#7201a8"
             ],
             [
              0.3333333333333333,
              "#9c179e"
             ],
             [
              0.4444444444444444,
              "#bd3786"
             ],
             [
              0.5555555555555556,
              "#d8576b"
             ],
             [
              0.6666666666666666,
              "#ed7953"
             ],
             [
              0.7777777777777778,
              "#fb9f3a"
             ],
             [
              0.8888888888888888,
              "#fdca26"
             ],
             [
              1,
              "#f0f921"
             ]
            ],
            "type": "histogram2dcontour"
           }
          ],
          "mesh3d": [
           {
            "colorbar": {
             "outlinewidth": 0,
             "ticks": ""
            },
            "type": "mesh3d"
           }
          ],
          "parcoords": [
           {
            "line": {
             "colorbar": {
              "outlinewidth": 0,
              "ticks": ""
             }
            },
            "type": "parcoords"
           }
          ],
          "pie": [
           {
            "automargin": true,
            "type": "pie"
           }
          ],
          "scatter": [
           {
            "marker": {
             "colorbar": {
              "outlinewidth": 0,
              "ticks": ""
             }
            },
            "type": "scatter"
           }
          ],
          "scatter3d": [
           {
            "line": {
             "colorbar": {
              "outlinewidth": 0,
              "ticks": ""
             }
            },
            "marker": {
             "colorbar": {
              "outlinewidth": 0,
              "ticks": ""
             }
            },
            "type": "scatter3d"
           }
          ],
          "scattercarpet": [
           {
            "marker": {
             "colorbar": {
              "outlinewidth": 0,
              "ticks": ""
             }
            },
            "type": "scattercarpet"
           }
          ],
          "scattergeo": [
           {
            "marker": {
             "colorbar": {
              "outlinewidth": 0,
              "ticks": ""
             }
            },
            "type": "scattergeo"
           }
          ],
          "scattergl": [
           {
            "marker": {
             "colorbar": {
              "outlinewidth": 0,
              "ticks": ""
             }
            },
            "type": "scattergl"
           }
          ],
          "scattermapbox": [
           {
            "marker": {
             "colorbar": {
              "outlinewidth": 0,
              "ticks": ""
             }
            },
            "type": "scattermapbox"
           }
          ],
          "scatterpolar": [
           {
            "marker": {
             "colorbar": {
              "outlinewidth": 0,
              "ticks": ""
             }
            },
            "type": "scatterpolar"
           }
          ],
          "scatterpolargl": [
           {
            "marker": {
             "colorbar": {
              "outlinewidth": 0,
              "ticks": ""
             }
            },
            "type": "scatterpolargl"
           }
          ],
          "scatterternary": [
           {
            "marker": {
             "colorbar": {
              "outlinewidth": 0,
              "ticks": ""
             }
            },
            "type": "scatterternary"
           }
          ],
          "surface": [
           {
            "colorbar": {
             "outlinewidth": 0,
             "ticks": ""
            },
            "colorscale": [
             [
              0,
              "#0d0887"
             ],
             [
              0.1111111111111111,
              "#46039f"
             ],
             [
              0.2222222222222222,
              "#7201a8"
             ],
             [
              0.3333333333333333,
              "#9c179e"
             ],
             [
              0.4444444444444444,
              "#bd3786"
             ],
             [
              0.5555555555555556,
              "#d8576b"
             ],
             [
              0.6666666666666666,
              "#ed7953"
             ],
             [
              0.7777777777777778,
              "#fb9f3a"
             ],
             [
              0.8888888888888888,
              "#fdca26"
             ],
             [
              1,
              "#f0f921"
             ]
            ],
            "type": "surface"
           }
          ],
          "table": [
           {
            "cells": {
             "fill": {
              "color": "#EBF0F8"
             },
             "line": {
              "color": "white"
             }
            },
            "header": {
             "fill": {
              "color": "#C8D4E3"
             },
             "line": {
              "color": "white"
             }
            },
            "type": "table"
           }
          ]
         },
         "layout": {
          "annotationdefaults": {
           "arrowcolor": "#2a3f5f",
           "arrowhead": 0,
           "arrowwidth": 1
          },
          "autotypenumbers": "strict",
          "coloraxis": {
           "colorbar": {
            "outlinewidth": 0,
            "ticks": ""
           }
          },
          "colorscale": {
           "diverging": [
            [
             0,
             "#8e0152"
            ],
            [
             0.1,
             "#c51b7d"
            ],
            [
             0.2,
             "#de77ae"
            ],
            [
             0.3,
             "#f1b6da"
            ],
            [
             0.4,
             "#fde0ef"
            ],
            [
             0.5,
             "#f7f7f7"
            ],
            [
             0.6,
             "#e6f5d0"
            ],
            [
             0.7,
             "#b8e186"
            ],
            [
             0.8,
             "#7fbc41"
            ],
            [
             0.9,
             "#4d9221"
            ],
            [
             1,
             "#276419"
            ]
           ],
           "sequential": [
            [
             0,
             "#0d0887"
            ],
            [
             0.1111111111111111,
             "#46039f"
            ],
            [
             0.2222222222222222,
             "#7201a8"
            ],
            [
             0.3333333333333333,
             "#9c179e"
            ],
            [
             0.4444444444444444,
             "#bd3786"
            ],
            [
             0.5555555555555556,
             "#d8576b"
            ],
            [
             0.6666666666666666,
             "#ed7953"
            ],
            [
             0.7777777777777778,
             "#fb9f3a"
            ],
            [
             0.8888888888888888,
             "#fdca26"
            ],
            [
             1,
             "#f0f921"
            ]
           ],
           "sequentialminus": [
            [
             0,
             "#0d0887"
            ],
            [
             0.1111111111111111,
             "#46039f"
            ],
            [
             0.2222222222222222,
             "#7201a8"
            ],
            [
             0.3333333333333333,
             "#9c179e"
            ],
            [
             0.4444444444444444,
             "#bd3786"
            ],
            [
             0.5555555555555556,
             "#d8576b"
            ],
            [
             0.6666666666666666,
             "#ed7953"
            ],
            [
             0.7777777777777778,
             "#fb9f3a"
            ],
            [
             0.8888888888888888,
             "#fdca26"
            ],
            [
             1,
             "#f0f921"
            ]
           ]
          },
          "colorway": [
           "#636efa",
           "#EF553B",
           "#00cc96",
           "#ab63fa",
           "#FFA15A",
           "#19d3f3",
           "#FF6692",
           "#B6E880",
           "#FF97FF",
           "#FECB52"
          ],
          "font": {
           "color": "#2a3f5f"
          },
          "geo": {
           "bgcolor": "white",
           "lakecolor": "white",
           "landcolor": "#E5ECF6",
           "showlakes": true,
           "showland": true,
           "subunitcolor": "white"
          },
          "hoverlabel": {
           "align": "left"
          },
          "hovermode": "closest",
          "mapbox": {
           "style": "light"
          },
          "paper_bgcolor": "white",
          "plot_bgcolor": "#E5ECF6",
          "polar": {
           "angularaxis": {
            "gridcolor": "white",
            "linecolor": "white",
            "ticks": ""
           },
           "bgcolor": "#E5ECF6",
           "radialaxis": {
            "gridcolor": "white",
            "linecolor": "white",
            "ticks": ""
           }
          },
          "scene": {
           "xaxis": {
            "backgroundcolor": "#E5ECF6",
            "gridcolor": "white",
            "gridwidth": 2,
            "linecolor": "white",
            "showbackground": true,
            "ticks": "",
            "zerolinecolor": "white"
           },
           "yaxis": {
            "backgroundcolor": "#E5ECF6",
            "gridcolor": "white",
            "gridwidth": 2,
            "linecolor": "white",
            "showbackground": true,
            "ticks": "",
            "zerolinecolor": "white"
           },
           "zaxis": {
            "backgroundcolor": "#E5ECF6",
            "gridcolor": "white",
            "gridwidth": 2,
            "linecolor": "white",
            "showbackground": true,
            "ticks": "",
            "zerolinecolor": "white"
           }
          },
          "shapedefaults": {
           "line": {
            "color": "#2a3f5f"
           }
          },
          "ternary": {
           "aaxis": {
            "gridcolor": "white",
            "linecolor": "white",
            "ticks": ""
           },
           "baxis": {
            "gridcolor": "white",
            "linecolor": "white",
            "ticks": ""
           },
           "bgcolor": "#E5ECF6",
           "caxis": {
            "gridcolor": "white",
            "linecolor": "white",
            "ticks": ""
           }
          },
          "title": {
           "x": 0.05
          },
          "xaxis": {
           "automargin": true,
           "gridcolor": "white",
           "linecolor": "white",
           "ticks": "",
           "title": {
            "standoff": 15
           },
           "zerolinecolor": "white",
           "zerolinewidth": 2
          },
          "yaxis": {
           "automargin": true,
           "gridcolor": "white",
           "linecolor": "white",
           "ticks": "",
           "title": {
            "standoff": 15
           },
           "zerolinecolor": "white",
           "zerolinewidth": 2
          }
         }
        },
        "title": {
         "text": "Yahoo"
        },
        "updatemenus": [
         {
          "active": 0,
          "buttons": [
           {
            "args": [
             {
              "visible": [
               true,
               false,
               false
              ]
             },
             {
              "title": "Yahoo Basic"
             }
            ],
            "label": "BASIC",
            "method": "update"
           },
           {
            "args": [
             {
              "visible": [
               false,
               true,
               false
              ]
             },
             {
              "title": "Yahoo Updated"
             }
            ],
            "label": "Basic + 10",
            "method": "update"
           },
           {
            "args": [
             {
              "visible": [
               false,
               false,
               true
              ]
             },
             {
              "title": "Yahoo Updated v.2"
             }
            ],
            "label": "Basic + 100",
            "method": "update"
           }
          ]
         }
        ],
        "xaxis": {
         "autorange": true,
         "range": [
          -0.5,
          7.5
         ],
         "type": "category"
        },
        "yaxis": {
         "autorange": true,
         "range": [
          0,
          11.578947368421053
         ],
         "type": "linear"
        }
       }
      },
      "image/png": "[encoded data removed]",
      "text/html": [
       "<div>                            <div id=\"b3697d90-abba-4c46-9afd-5f57e2071918\" class=\"plotly-graph-div\" style=\"height:525px; width:100%;\"></div>            <script type=\"text/javascript\">                require([\"plotly\"], function(Plotly) {                    window.PLOTLYENV=window.PLOTLYENV || {};                                    if (document.getElementById(\"b3697d90-abba-4c46-9afd-5f57e2071918\")) {                    Plotly.newPlot(                        \"b3697d90-abba-4c46-9afd-5f57e2071918\",                        [{\"name\":\"Basic\",\"visible\":true,\"x\":[\"1.FC BELA POD BEZ\",\"DUKLA OLOMOUC\",\"DYNAMO U\\u017dHOROD\",\"SC PRAHA\",\"SC PRAHA\",\"SC PRAHA\",\"SLAVOJ LITOMERICE\",\"SLAVOJ LITOMERICE\",\"TBILISI\",\"TJ LOKO K.VARY\",\"TJ LOKO K.VARY\",\"TJ LOKO K.VARY\",\"TJ LOKO TEPLICE\"],\"y\":[1,2,1,3,2,6,1,3,1,2,1,2,2],\"type\":\"bar\"},{\"name\":\"Updated\",\"visible\":false,\"x\":[\"1.FC BELA POD BEZ\",\"DUKLA OLOMOUC\",\"DYNAMO U\\u017dHOROD\",\"SC PRAHA\",\"SC PRAHA\",\"SC PRAHA\",\"SLAVOJ LITOMERICE\",\"SLAVOJ LITOMERICE\",\"TBILISI\",\"TJ LOKO K.VARY\",\"TJ LOKO K.VARY\",\"TJ LOKO K.VARY\",\"TJ LOKO TEPLICE\"],\"y\":[11,12,11,13,12,16,11,13,11,12,11,12,12],\"type\":\"bar\"},{\"name\":\"Updated v.2\",\"visible\":false,\"x\":[\"1.FC BELA POD BEZ\",\"DUKLA OLOMOUC\",\"DYNAMO U\\u017dHOROD\",\"SC PRAHA\",\"SC PRAHA\",\"SC PRAHA\",\"SLAVOJ LITOMERICE\",\"SLAVOJ LITOMERICE\",\"TBILISI\",\"TJ LOKO K.VARY\",\"TJ LOKO K.VARY\",\"TJ LOKO K.VARY\",\"TJ LOKO TEPLICE\"],\"y\":[101,102,101,103,102,106,101,103,101,102,101,102,102],\"type\":\"bar\"}],                        {\"template\":{\"data\":{\"bar\":[{\"error_x\":{\"color\":\"#2a3f5f\"},\"error_y\":{\"color\":\"#2a3f5f\"},\"marker\":{\"line\":{\"color\":\"#E5ECF6\",\"width\":0.5},\"pattern\":{\"fillmode\":\"overlay\",\"size\":10,\"solidity\":0.2}},\"type\":\"bar\"}],\"barpolar\":[{\"marker\":{\"line\":{\"color\":\"#E5ECF6\",\"width\":0.5},\"pattern\":{\"fillmode\":\"overlay\",\"size\":10,\"solidity\":0.2}},\"type\":\"barpolar\"}],\"carpet\":[{\"aaxis\":{\"endlinecolor\":\"#2a3f5f\",\"gridcolor\":\"white\",\"linecolor\":\"white\",\"minorgridcolor\":\"white\",\"startlinecolor\":\"#2a3f5f\"},\"baxis\":{\"endlinecolor\":\"#2a3f5f\",\"gridcolor\":\"white\",\"linecolor\":\"white\",\"minorgridcolor\":\"white\",\"startlinecolor\":\"#2a3f5f\"},\"type\":\"carpet\"}],\"choropleth\":[{\"colorbar\":{\"outlinewidth\":0,\"ticks\":\"\"},\"type\":\"choropleth\"}],\"contour\":[{\"colorbar\":{\"outlinewidth\":0,\"ticks\":\"\"},\"colorscale\":[[0.0,\"#0d0887\"],[0.1111111111111111,\"#46039f\"],[0.2222222222222222,\"#7201a8\"],[0.3333333333333333,\"#9c179e\"],[0.4444444444444444,\"#bd3786\"],[0.5555555555555556,\"#d8576b\"],[0.6666666666666666,\"#ed7953\"],[0.7777777777777778,\"#fb9f3a\"],[0.8888888888888888,\"#fdca26\"],[1.0,\"#f0f921\"]],\"type\":\"contour\"}],\"contourcarpet\":[{\"colorbar\":{\"outlinewidth\":0,\"ticks\":\"\"},\"type\":\"contourcarpet\"}],\"heatmap\":[{\"colorbar\":{\"outlinewidth\":0,\"ticks\":\"\"},\"colorscale\":[[0.0,\"#0d0887\"],[0.1111111111111111,\"#46039f\"],[0.2222222222222222,\"#7201a8\"],[0.3333333333333333,\"#9c179e\"],[0.4444444444444444,\"#bd3786\"],[0.5555555555555556,\"#d8576b\"],[0.6666666666666666,\"#ed7953\"],[0.7777777777777778,\"#fb9f3a\"],[0.8888888888888888,\"#fdca26\"],[1.0,\"#f0f921\"]],\"type\":\"heatmap\"}],\"heatmapgl\":[{\"colorbar\":{\"outlinewidth\":0,\"ticks\":\"\"},\"colorscale\":[[0.0,\"#0d0887\"],[0.1111111111111111,\"#46039f\"],[0.2222222222222222,\"#7201a8\"],[0.3333333333333333,\"#9c179e\"],[0.4444444444444444,\"#bd3786\"],[0.5555555555555556,\"#d8576b\"],[0.6666666666666666,\"#ed7953\"],[0.7777777777777778,\"#fb9f3a\"],[0.8888888888888888,\"#fdca26\"],[1.0,\"#f0f921\"]],\"type\":\"heatmapgl\"}],\"histogram\":[{\"marker\":{\"pattern\":{\"fillmode\":\"overlay\",\"size\":10,\"solidity\":0.2}},\"type\":\"histogram\"}],\"histogram2d\":[{\"colorbar\":{\"outlinewidth\":0,\"ticks\":\"\"},\"colorscale\":[[0.0,\"#0d0887\"],[0.1111111111111111,\"#46039f\"],[0.2222222222222222,\"#7201a8\"],[0.3333333333333333,\"#9c179e\"],[0.4444444444444444,\"#bd3786\"],[0.5555555555555556,\"#d8576b\"],[0.6666666666666666,\"#ed7953\"],[0.7777777777777778,\"#fb9f3a\"],[0.8888888888888888,\"#fdca26\"],[1.0,\"#f0f921\"]],\"type\":\"histogram2d\"}],\"histogram2dcontour\":[{\"colorbar\":{\"outlinewidth\":0,\"ticks\":\"\"},\"colorscale\":[[0.0,\"#0d0887\"],[0.1111111111111111,\"#46039f\"],[0.2222222222222222,\"#7201a8\"],[0.3333333333333333,\"#9c179e\"],[0.4444444444444444,\"#bd3786\"],[0.5555555555555556,\"#d8576b\"],[0.6666666666666666,\"#ed7953\"],[0.7777777777777778,\"#fb9f3a\"],[0.8888888888888888,\"#fdca26\"],[1.0,\"#f0f921\"]],\"type\":\"histogram2dcontour\"}],\"mesh3d\":[{\"colorbar\":{\"outlinewidth\":0,\"ticks\":\"\"},\"type\":\"mesh3d\"}],\"parcoords\":[{\"line\":{\"colorbar\":{\"outlinewidth\":0,\"ticks\":\"\"}},\"type\":\"parcoords\"}],\"pie\":[{\"automargin\":true,\"type\":\"pie\"}],\"scatter\":[{\"marker\":{\"colorbar\":{\"outlinewidth\":0,\"ticks\":\"\"}},\"type\":\"scatter\"}],\"scatter3d\":[{\"line\":{\"colorbar\":{\"outlinewidth\":0,\"ticks\":\"\"}},\"marker\":{\"colorbar\":{\"outlinewidth\":0,\"ticks\":\"\"}},\"type\":\"scatter3d\"}],\"scattercarpet\":[{\"marker\":{\"colorbar\":{\"outlinewidth\":0,\"ticks\":\"\"}},\"type\":\"scattercarpet\"}],\"scattergeo\":[{\"marker\":{\"colorbar\":{\"outlinewidth\":0,\"ticks\":\"\"}},\"type\":\"scattergeo\"}],\"scattergl\":[{\"marker\":{\"colorbar\":{\"outlinewidth\":0,\"ticks\":\"\"}},\"type\":\"scattergl\"}],\"scattermapbox\":[{\"marker\":{\"colorbar\":{\"outlinewidth\":0,\"ticks\":\"\"}},\"type\":\"scattermapbox\"}],\"scatterpolar\":[{\"marker\":{\"colorbar\":{\"outlinewidth\":0,\"ticks\":\"\"}},\"type\":\"scatterpolar\"}],\"scatterpolargl\":[{\"marker\":{\"colorbar\":{\"outlinewidth\":0,\"ticks\":\"\"}},\"type\":\"scatterpolargl\"}],\"scatterternary\":[{\"marker\":{\"colorbar\":{\"outlinewidth\":0,\"ticks\":\"\"}},\"type\":\"scatterternary\"}],\"surface\":[{\"colorbar\":{\"outlinewidth\":0,\"ticks\":\"\"},\"colorscale\":[[0.0,\"#0d0887\"],[0.1111111111111111,\"#46039f\"],[0.2222222222222222,\"#7201a8\"],[0.3333333333333333,\"#9c179e\"],[0.4444444444444444,\"#bd3786\"],[0.5555555555555556,\"#d8576b\"],[0.6666666666666666,\"#ed7953\"],[0.7777777777777778,\"#fb9f3a\"],[0.8888888888888888,\"#fdca26\"],[1.0,\"#f0f921\"]],\"type\":\"surface\"}],\"table\":[{\"cells\":{\"fill\":{\"color\":\"#EBF0F8\"},\"line\":{\"color\":\"white\"}},\"header\":{\"fill\":{\"color\":\"#C8D4E3\"},\"line\":{\"color\":\"white\"}},\"type\":\"table\"}]},\"layout\":{\"annotationdefaults\":{\"arrowcolor\":\"#2a3f5f\",\"arrowhead\":0,\"arrowwidth\":1},\"autotypenumbers\":\"strict\",\"coloraxis\":{\"colorbar\":{\"outlinewidth\":0,\"ticks\":\"\"}},\"colorscale\":{\"diverging\":[[0,\"#8e0152\"],[0.1,\"#c51b7d\"],[0.2,\"#de77ae\"],[0.3,\"#f1b6da\"],[0.4,\"#fde0ef\"],[0.5,\"#f7f7f7\"],[0.6,\"#e6f5d0\"],[0.7,\"#b8e186\"],[0.8,\"#7fbc41\"],[0.9,\"#4d9221\"],[1,\"#276419\"]],\"sequential\":[[0.0,\"#0d0887\"],[0.1111111111111111,\"#46039f\"],[0.2222222222222222,\"#7201a8\"],[0.3333333333333333,\"#9c179e\"],[0.4444444444444444,\"#bd3786\"],[0.5555555555555556,\"#d8576b\"],[0.6666666666666666,\"#ed7953\"],[0.7777777777777778,\"#fb9f3a\"],[0.8888888888888888,\"#fdca26\"],[1.0,\"#f0f921\"]],\"sequentialminus\":[[0.0,\"#0d0887\"],[0.1111111111111111,\"#46039f\"],[0.2222222222222222,\"#7201a8\"],[0.3333333333333333,\"#9c179e\"],[0.4444444444444444,\"#bd3786\"],[0.5555555555555556,\"#d8576b\"],[0.6666666666666666,\"#ed7953\"],[0.7777777777777778,\"#fb9f3a\"],[0.8888888888888888,\"#fdca26\"],[1.0,\"#f0f921\"]]},\"colorway\":[\"#636efa\",\"#EF553B\",\"#00cc96\",\"#ab63fa\",\"#FFA15A\",\"#19d3f3\",\"#FF6692\",\"#B6E880\",\"#FF97FF\",\"#FECB52\"],\"font\":{\"color\":\"#2a3f5f\"},\"geo\":{\"bgcolor\":\"white\",\"lakecolor\":\"white\",\"landcolor\":\"#E5ECF6\",\"showlakes\":true,\"showland\":true,\"subunitcolor\":\"white\"},\"hoverlabel\":{\"align\":\"left\"},\"hovermode\":\"closest\",\"mapbox\":{\"style\":\"light\"},\"paper_bgcolor\":\"white\",\"plot_bgcolor\":\"#E5ECF6\",\"polar\":{\"angularaxis\":{\"gridcolor\":\"white\",\"linecolor\":\"white\",\"ticks\":\"\"},\"bgcolor\":\"#E5ECF6\",\"radialaxis\":{\"gridcolor\":\"white\",\"linecolor\":\"white\",\"ticks\":\"\"}},\"scene\":{\"xaxis\":{\"backgroundcolor\":\"#E5ECF6\",\"gridcolor\":\"white\",\"gridwidth\":2,\"linecolor\":\"white\",\"showbackground\":true,\"ticks\":\"\",\"zerolinecolor\":\"white\"},\"yaxis\":{\"backgroundcolor\":\"#E5ECF6\",\"gridcolor\":\"white\",\"gridwidth\":2,\"linecolor\":\"white\",\"showbackground\":true,\"ticks\":\"\",\"zerolinecolor\":\"white\"},\"zaxis\":{\"backgroundcolor\":\"#E5ECF6\",\"gridcolor\":\"white\",\"gridwidth\":2,\"linecolor\":\"white\",\"showbackground\":true,\"ticks\":\"\",\"zerolinecolor\":\"white\"}},\"shapedefaults\":{\"line\":{\"color\":\"#2a3f5f\"}},\"ternary\":{\"aaxis\":{\"gridcolor\":\"white\",\"linecolor\":\"white\",\"ticks\":\"\"},\"baxis\":{\"gridcolor\":\"white\",\"linecolor\":\"white\",\"ticks\":\"\"},\"bgcolor\":\"#E5ECF6\",\"caxis\":{\"gridcolor\":\"white\",\"linecolor\":\"white\",\"ticks\":\"\"}},\"title\":{\"x\":0.05},\"xaxis\":{\"automargin\":true,\"gridcolor\":\"white\",\"linecolor\":\"white\",\"ticks\":\"\",\"title\":{\"standoff\":15},\"zerolinecolor\":\"white\",\"zerolinewidth\":2},\"yaxis\":{\"automargin\":true,\"gridcolor\":\"white\",\"linecolor\":\"white\",\"ticks\":\"\",\"title\":{\"standoff\":15},\"zerolinecolor\":\"white\",\"zerolinewidth\":2}}},\"updatemenus\":[{\"active\":0,\"buttons\":[{\"args\":[{\"visible\":[true,false,false]},{\"title\":\"Yahoo Basic\"}],\"label\":\"BASIC\",\"method\":\"update\"},{\"args\":[{\"visible\":[false,true,false]},{\"title\":\"Yahoo Updated\"}],\"label\":\"Basic + 10\",\"method\":\"update\"},{\"args\":[{\"visible\":[false,false,true]},{\"title\":\"Yahoo Updated v.2\"}],\"label\":\"Basic + 100\",\"method\":\"update\"}]}],\"title\":{\"text\":\"Yahoo\"}},                        {\"responsive\": true}                    ).then(function(){\n",
       "                            \n",
       "var gd = document.getElementById('b3697d90-abba-4c46-9afd-5f57e2071918');\n",
       "var x = new MutationObserver(function (mutations, observer) {{\n",
       "        var display = window.getComputedStyle(gd).display;\n",
       "        if (!display || display === 'none') {{\n",
       "            console.log([gd, 'removed!']);\n",
       "            Plotly.purge(gd);\n",
       "            observer.disconnect();\n",
       "        }}\n",
       "}});\n",
       "\n",
       "// Listen for the removal of the full notebook cells\n",
       "var notebookContainer = gd.closest('#notebook-container');\n",
       "if (notebookContainer) {{\n",
       "    x.observe(notebookContainer, {childList: true});\n",
       "}}\n",
       "\n",
       "// Listen for the clearing of the current output cell\n",
       "var outputEl = gd.closest('.output');\n",
       "if (outputEl) {{\n",
       "    x.observe(outputEl, {childList: true});\n",
       "}}\n",
       "\n",
       "                        })                };                });            </script>        </div>"
      ]
     },
     "metadata": {},
     "output_type": "display_data"
    }
   ],
   "source": [
    "import plotly.graph_objects as go\n",
    "import pandas as pd\n",
    "\n",
    "fig = go.Figure()\n",
    "\n",
    "fig.add_trace(go.Bar(x = data1.Club, y = list(data1[\"count\"]),\n",
    "               name=\"Basic\",\n",
    "               visible = True))\n",
    "\n",
    "fig.add_trace(go.Bar(x = data2.Club, y = list(data2[\"count\"]),\n",
    "               name=\"Updated\",\n",
    "               visible=False))\n",
    "\n",
    "fig.add_trace(go.Bar(x = data3.Club, y = list(data3[\"count\"]),\n",
    "               name=\"Updated v.2\",\n",
    "               visible=False))\n",
    "\n",
    "# Add Buttons\n",
    "fig.update_layout(\n",
    "    updatemenus=[\n",
    "        dict(\n",
    "            active=0,\n",
    "            buttons=list([\n",
    "                dict(label=\"BASIC\",\n",
    "                     method=\"update\",\n",
    "                     args=[{\"visible\": [True, False, False]},\n",
    "                           {\"title\": \"Yahoo Basic\"}]),\n",
    "                dict(label=\"Basic + 10\",\n",
    "                     method=\"update\",\n",
    "                     args=[{\"visible\": [False, True, False]},\n",
    "                           {\"title\": \"Yahoo Updated\"}]),\n",
    "                dict(label=\"Basic + 100\",\n",
    "                     method=\"update\",\n",
    "                     args=[{\"visible\": [False, False, True]},\n",
    "                           {\"title\": \"Yahoo Updated v.2\"}])\n",
    "            ]))])\n",
    "\n",
    "#fig.update_layout(xaxis = dict(tickvals = d5[\"Club\"]))  ## není potřeba\n",
    "#fig.update_layout(xaxis={'categoryorder':'total descending'}) ## nefunguje :(((\n",
    "\n",
    "#fig.update_xaxes(tickangle=270)  ## není moc hezké :)\n",
    "fig.update_layout(title_text=\"Yahoo\")  # úvodní název, co se může přepsat při změně dropdownu\n",
    "\n",
    "fig.show()"
   ]
  },
  {
   "cell_type": "markdown",
   "id": "fafbeedb-8725-4174-bbc0-86d6208335b0",
   "metadata": {},
   "source": [
    "## Pokus s dual-facette grafem (pohlaví)\n",
    "https://plotly.com/python/legend/"
   ]
  },
  {
   "cell_type": "code",
   "execution_count": null,
   "id": "00dae4c1-2616-454f-8340-14921c4aafe7",
   "metadata": {},
   "outputs": [],
   "source": []
  },
  {
   "cell_type": "code",
   "execution_count": null,
   "id": "8dce3e82-0236-405f-bc02-f82557f1db85",
   "metadata": {},
   "outputs": [],
   "source": []
  },
  {
   "cell_type": "markdown",
   "id": "2e9e6c1a-32c2-4b80-b8af-a20d4783f2fb",
   "metadata": {},
   "source": [
    "# II. ZÁPASY\n",
    "## II.1 - PŘÍPRAVA A ČIŠTĚNÍ DAT"
   ]
  },
  {
   "cell_type": "code",
   "execution_count": null,
   "id": "e34f0ae3-8eae-4f72-b912-75e0bd96f1b9",
   "metadata": {},
   "outputs": [],
   "source": [
    "def merge_all_matches(list_of_events, sex):\n",
    "    df_tot = pd.DataFrame(columns = [\"Date\", \"Event\", \"Name\", \"Uni\", \"Sex\", \"Fight_lvl\",\n",
    "                                     \"Enemy\", \"Enemy_uni\", \"Result\", \"Scored\", \"Received\"])\n",
    "    if sex == \"M\":\n",
    "        s = \"men\"\n",
    "    else:\n",
    "        s = \"women\"\n",
    "    for event in list_of_events:\n",
    "        e = pd.ExcelFile(f\"C:/Users/jzelenka/Documents/python_j/fencing/data/{s}/\" + event)\n",
    "        df0 = pd.read_excel(e, 'pools')\n",
    "        df1 = pd.read_excel(e, 'eliminations')\n",
    "        \n",
    "        print(f\"Event {event} has {len(df0)} pool fights, {len(df1)} elimination fights and {len(df0['Name'].unique())} unique Names\")\n",
    "\n",
    "        df_tot = df_tot.append(pd.concat([df0, df1]))\n",
    "        print(f\"now total is: {len(df_tot)}\")\n",
    "        printbold(\"####################################\")\n",
    "        \n",
    "    df_tot.reset_index(inplace=True, drop = True)\n",
    "    df_tot = df_tot.rename(columns={\"Uni\":'Club', \"Enemy_uni\": \"Enemy_Club\" })\n",
    "    \n",
    "    return df_tot"
   ]
  },
  {
   "cell_type": "code",
   "execution_count": null,
   "id": "5290982a-fe29-48a9-bb9b-92d604cccbeb",
   "metadata": {
    "tags": []
   },
   "outputs": [],
   "source": [
    "df_m_matches = merge_all_matches(men, \"M\")\n",
    "print(len(df_m_matches))\n",
    "display(df_m_matches.head(2))\n",
    "display(df_m_matches.tail(2))"
   ]
  },
  {
   "cell_type": "code",
   "execution_count": null,
   "id": "e3cbfae7-6dbd-4140-ab15-afcf0fb7daf8",
   "metadata": {},
   "outputs": [],
   "source": [
    "df_m_matches.describe()"
   ]
  },
  {
   "cell_type": "code",
   "execution_count": null,
   "id": "af740528-b030-4620-b9cf-1138a33abfca",
   "metadata": {
    "tags": []
   },
   "outputs": [],
   "source": [
    "df_m_matches[\"Name\"] = df_m_matches[\"Name\"].replace(to_replace_man)     \n",
    "df_m_matches[\"Club\"] = df_m_matches[\"Club\"].replace(to_replace_club)  \n",
    "df_m_matches[\"Enemy_Club\"] = df_m_matches[\"Enemy_Club\"].replace(to_replace_club)  \n",
    "df_m_matches['Name'].str.strip()"
   ]
  },
  {
   "cell_type": "code",
   "execution_count": null,
   "id": "1a671aef-0fb8-4a70-8194-bec396d04ef0",
   "metadata": {
    "tags": []
   },
   "outputs": [],
   "source": [
    "df_m_matches.describe()"
   ]
  },
  {
   "cell_type": "code",
   "execution_count": null,
   "id": "66e7c5f9-03ee-41d8-90b2-b5c2b2a95bff",
   "metadata": {},
   "outputs": [],
   "source": [
    "# ANDERLE petr,\n",
    "# CHOUN Karim\n",
    "# D'AMICO Kristian\n",
    "# DOŠEK Jirí\n",
    "# HORBACHUCK Yuiriy\n",
    "# JAVAKHISHVILI Georgii '\n",
    "# KALUS Jonáš '\n",
    "# LOKAJ Václav ',\n",
    "# LUCOVIC Matej\n",
    "# MAŠATA Vojtech  10/19\n",
    "# POKORNÝ Richard '\n",
    "# PROCHÁZKA Ondrej\n",
    "# SALZER Jirí\n",
    "# SALZER Matej\n",
    "# SURMA Štepán\n",
    "# VAŠÍCEK Martin"
   ]
  },
  {
   "cell_type": "code",
   "execution_count": null,
   "id": "6e04e5aa-c557-42ec-ae50-fe143dea39ea",
   "metadata": {
    "tags": []
   },
   "outputs": [],
   "source": [
    "sorted(df_m_matches[\"Name\"].unique())"
   ]
  },
  {
   "cell_type": "markdown",
   "id": "8ab795c2-ee7e-4729-a940-4d63f19ae266",
   "metadata": {},
   "source": [
    "## až opravím jména (hromadně, nebo už v excelech?)\n",
    "## tak můžu přikročit ke kontrole V vs D, a k součtům Dal - dostal atd\n",
    "# kontrola jestli někdo nemá V a víc zásahů než bodů, a naopak."
   ]
  },
  {
   "cell_type": "code",
   "execution_count": 136,
   "id": "d90f0bb9-f6b8-4da4-a7fd-b6d75a3a05da",
   "metadata": {},
   "outputs": [],
   "source": [
    "import plotly.express as px"
   ]
  },
  {
   "cell_type": "code",
   "execution_count": 137,
   "id": "507a37a4-ed66-4632-92d6-934e4410fc52",
   "metadata": {},
   "outputs": [
    {
     "data": {
      "application/vnd.plotly.v1+json": {
       "config": {
        "plotlyServerURL": "https://plot.ly"
       },
       "data": [
        {
         "hovertemplate": "<b>%{hovertext}</b><br><br>continent=Asia<br>gdpPercap=%{x}<br>lifeExp=%{y}<br>pop=%{marker.size}<extra></extra>",
         "hovertext": [
          "Afghanistan",
          "Bahrain",
          "Bangladesh",
          "Cambodia",
          "China",
          "Hong Kong, China",
          "India",
          "Indonesia",
          "Iran",
          "Iraq",
          "Israel",
          "Japan",
          "Jordan",
          "Korea, Dem. Rep.",
          "Korea, Rep.",
          "Kuwait",
          "Lebanon",
          "Malaysia",
          "Mongolia",
          "Myanmar",
          "Nepal",
          "Oman",
          "Pakistan",
          "Philippines",
          "Saudi Arabia",
          "Singapore",
          "Sri Lanka",
          "Syria",
          "Taiwan",
          "Thailand",
          "Vietnam",
          "West Bank and Gaza",
          "Yemen, Rep."
         ],
         "legendgroup": "Asia",
         "marker": {
          "color": "#636efa",
          "size": [
           31889923,
           708573,
           150448339,
           14131858,
           1318683096,
           6980412,
           1110396331,
           223547000,
           69453570,
           27499638,
           6426679,
           127467972,
           6053193,
           23301725,
           49044790,
           2505559,
           3921278,
           24821286,
           2874127,
           47761980,
           28901790,
           3204897,
           169270617,
           91077287,
           27601038,
           4553009,
           20378239,
           19314747,
           23174294,
           65068149,
           85262356,
           4018332,
           22211743
          ],
          "sizemode": "area",
          "sizeref": 366300.86,
          "symbol": "circle"
         },
         "mode": "markers",
         "name": "Asia",
         "orientation": "v",
         "showlegend": true,
         "type": "scatter",
         "x": [
          974.5803384,
          29796.04834,
          1391.253792,
          1713.778686,
          4959.114854,
          39724.97867,
          2452.210407,
          3540.651564,
          11605.71449,
          4471.061906,
          25523.2771,
          31656.06806,
          4519.461171,
          1593.06548,
          23348.139730000006,
          47306.98978,
          10461.05868,
          12451.6558,
          3095.7722710000007,
          944,
          1091.359778,
          22316.19287,
          2605.94758,
          3190.481016,
          21654.83194,
          47143.17964,
          3970.095407,
          4184.548089,
          28718.27684,
          7458.396326999998,
          2441.576404,
          3025.349798,
          2280.769906
         ],
         "xaxis": "x",
         "y": [
          43.828,
          75.635,
          64.062,
          59.723,
          72.961,
          82.208,
          64.69800000000001,
          70.65,
          70.964,
          59.545,
          80.745,
          82.603,
          72.535,
          67.297,
          78.623,
          77.58800000000002,
          71.993,
          74.241,
          66.803,
          62.069,
          63.785,
          75.64,
          65.483,
          71.688,
          72.777,
          79.972,
          72.396,
          74.143,
          78.4,
          70.616,
          74.249,
          73.422,
          62.698
         ],
         "yaxis": "y"
        },
        {
         "hovertemplate": "<b>%{hovertext}</b><br><br>continent=Europe<br>gdpPercap=%{x}<br>lifeExp=%{y}<br>pop=%{marker.size}<extra></extra>",
         "hovertext": [
          "Albania",
          "Austria",
          "Belgium",
          "Bosnia and Herzegovina",
          "Bulgaria",
          "Croatia",
          "Czech Republic",
          "Denmark",
          "Finland",
          "France",
          "Germany",
          "Greece",
          "Hungary",
          "Iceland",
          "Ireland",
          "Italy",
          "Montenegro",
          "Netherlands",
          "Norway",
          "Poland",
          "Portugal",
          "Romania",
          "Serbia",
          "Slovak Republic",
          "Slovenia",
          "Spain",
          "Sweden",
          "Switzerland",
          "Turkey",
          "United Kingdom"
         ],
         "legendgroup": "Europe",
         "marker": {
          "color": "#EF553B",
          "size": [
           3600523,
           8199783,
           10392226,
           4552198,
           7322858,
           4493312,
           10228744,
           5468120,
           5238460,
           61083916,
           82400996,
           10706290,
           9956108,
           301931,
           4109086,
           58147733,
           684736,
           16570613,
           4627926,
           38518241,
           10642836,
           22276056,
           10150265,
           5447502,
           2009245,
           40448191,
           9031088,
           7554661,
           71158647,
           60776238
          ],
          "sizemode": "area",
          "sizeref": 366300.86,
          "symbol": "circle"
         },
         "mode": "markers",
         "name": "Europe",
         "orientation": "v",
         "showlegend": true,
         "type": "scatter",
         "x": [
          5937.029525999998,
          36126.4927,
          33692.60508,
          7446.298803,
          10680.79282,
          14619.222719999998,
          22833.30851,
          35278.41874,
          33207.0844,
          30470.0167,
          32170.37442,
          27538.41188,
          18008.94444,
          36180.78919,
          40675.99635,
          28569.7197,
          9253.896111,
          36797.93332,
          49357.19017,
          15389.924680000002,
          20509.64777,
          10808.47561,
          9786.534714,
          18678.31435,
          25768.25759,
          28821.0637,
          33859.74835,
          37506.41907,
          8458.276384,
          33203.26128
         ],
         "xaxis": "x",
         "y": [
          76.423,
          79.829,
          79.441,
          74.852,
          73.005,
          75.748,
          76.486,
          78.332,
          79.313,
          80.657,
          79.406,
          79.483,
          73.33800000000002,
          81.757,
          78.885,
          80.546,
          74.543,
          79.762,
          80.196,
          75.563,
          78.098,
          72.476,
          74.002,
          74.663,
          77.926,
          80.941,
          80.884,
          81.70100000000002,
          71.777,
          79.425
         ],
         "yaxis": "y"
        },
        {
         "hovertemplate": "<b>%{hovertext}</b><br><br>continent=Africa<br>gdpPercap=%{x}<br>lifeExp=%{y}<br>pop=%{marker.size}<extra></extra>",
         "hovertext": [
          "Algeria",
          "Angola",
          "Benin",
          "Botswana",
          "Burkina Faso",
          "Burundi",
          "Cameroon",
          "Central African Republic",
          "Chad",
          "Comoros",
          "Congo, Dem. Rep.",
          "Congo, Rep.",
          "Cote d'Ivoire",
          "Djibouti",
          "Egypt",
          "Equatorial Guinea",
          "Eritrea",
          "Ethiopia",
          "Gabon",
          "Gambia",
          "Ghana",
          "Guinea",
          "Guinea-Bissau",
          "Kenya",
          "Lesotho",
          "Liberia",
          "Libya",
          "Madagascar",
          "Malawi",
          "Mali",
          "Mauritania",
          "Mauritius",
          "Morocco",
          "Mozambique",
          "Namibia",
          "Niger",
          "Nigeria",
          "Reunion",
          "Rwanda",
          "Sao Tome and Principe",
          "Senegal",
          "Sierra Leone",
          "Somalia",
          "South Africa",
          "Sudan",
          "Swaziland",
          "Tanzania",
          "Togo",
          "Tunisia",
          "Uganda",
          "Zambia",
          "Zimbabwe"
         ],
         "legendgroup": "Africa",
         "marker": {
          "color": "#00cc96",
          "size": [
           33333216,
           12420476,
           8078314,
           1639131,
           14326203,
           8390505,
           17696293,
           4369038,
           10238807,
           710960,
           64606759,
           3800610,
           18013409,
           496374,
           80264543,
           551201,
           4906585,
           76511887,
           1454867,
           1688359,
           22873338,
           9947814,
           1472041,
           35610177,
           2012649,
           3193942,
           6036914,
           19167654,
           13327079,
           12031795,
           3270065,
           1250882,
           33757175,
           19951656,
           2055080,
           12894865,
           135031164,
           798094,
           8860588,
           199579,
           12267493,
           6144562,
           9118773,
           43997828,
           42292929,
           1133066,
           38139640,
           5701579,
           10276158,
           29170398,
           11746035,
           12311143
          ],
          "sizemode": "area",
          "sizeref": 366300.86,
          "symbol": "circle"
         },
         "mode": "markers",
         "name": "Africa",
         "orientation": "v",
         "showlegend": true,
         "type": "scatter",
         "x": [
          6223.367465,
          4797.231267,
          1441.284873,
          12569.85177,
          1217.032994,
          430.0706916,
          2042.09524,
          706.016537,
          1704.063724,
          986.1478792,
          277.5518587,
          3632.557798,
          1544.750112,
          2082.4815670000007,
          5581.180998,
          12154.08975,
          641.3695236000002,
          690.8055759,
          13206.48452,
          752.7497265,
          1327.60891,
          942.6542111,
          579.2317429999998,
          1463.249282,
          1569.331442,
          414.5073415,
          12057.49928,
          1044.770126,
          759.3499101,
          1042.581557,
          1803.151496,
          10956.99112,
          3820.17523,
          823.6856205,
          4811.060429,
          619.6768923999998,
          2013.977305,
          7670.122558,
          863.0884639000002,
          1598.435089,
          1712.472136,
          862.5407561000002,
          926.1410683,
          9269.657808,
          2602.394995,
          4513.480643,
          1107.482182,
          882.9699437999999,
          7092.923025,
          1056.380121,
          1271.211593,
          469.70929810000007
         ],
         "xaxis": "x",
         "y": [
          72.301,
          42.731,
          56.728,
          50.728,
          52.295,
          49.58,
          50.43,
          44.74100000000001,
          50.651,
          65.152,
          46.462,
          55.322,
          48.328,
          54.791,
          71.33800000000002,
          51.57899999999999,
          58.04,
          52.947,
          56.735,
          59.448,
          60.022,
          56.007,
          46.38800000000001,
          54.11,
          42.592,
          45.678,
          73.952,
          59.44300000000001,
          48.303,
          54.467,
          64.164,
          72.801,
          71.164,
          42.082,
          52.90600000000001,
          56.867,
          46.859,
          76.442,
          46.242,
          65.528,
          63.062,
          42.56800000000001,
          48.159,
          49.339,
          58.556,
          39.613,
          52.517,
          58.42,
          73.923,
          51.542,
          42.38399999999999,
          43.487
         ],
         "yaxis": "y"
        },
        {
         "hovertemplate": "<b>%{hovertext}</b><br><br>continent=Americas<br>gdpPercap=%{x}<br>lifeExp=%{y}<br>pop=%{marker.size}<extra></extra>",
         "hovertext": [
          "Argentina",
          "Bolivia",
          "Brazil",
          "Canada",
          "Chile",
          "Colombia",
          "Costa Rica",
          "Cuba",
          "Dominican Republic",
          "Ecuador",
          "El Salvador",
          "Guatemala",
          "Haiti",
          "Honduras",
          "Jamaica",
          "Mexico",
          "Nicaragua",
          "Panama",
          "Paraguay",
          "Peru",
          "Puerto Rico",
          "Trinidad and Tobago",
          "United States",
          "Uruguay",
          "Venezuela"
         ],
         "legendgroup": "Americas",
         "marker": {
          "color": "#ab63fa",
          "size": [
           40301927,
           9119152,
           190010647,
           33390141,
           16284741,
           44227550,
           4133884,
           11416987,
           9319622,
           13755680,
           6939688,
           12572928,
           8502814,
           7483763,
           2780132,
           108700891,
           5675356,
           3242173,
           6667147,
           28674757,
           3942491,
           1056608,
           301139947,
           3447496,
           26084662
          ],
          "sizemode": "area",
          "sizeref": 366300.86,
          "symbol": "circle"
         },
         "mode": "markers",
         "name": "Americas",
         "orientation": "v",
         "showlegend": true,
         "type": "scatter",
         "x": [
          12779.37964,
          3822.137084,
          9065.800825,
          36319.23501,
          13171.63885,
          7006.580419,
          9645.06142,
          8948.102923,
          6025.3747520000015,
          6873.262326000001,
          5728.353514,
          5186.050003,
          1201.637154,
          3548.3308460000007,
          7320.8802620000015,
          11977.57496,
          2749.320965,
          9809.185636,
          4172.838464,
          7408.905561,
          19328.70901,
          18008.50924,
          42951.65309,
          10611.46299,
          11415.80569
         ],
         "xaxis": "x",
         "y": [
          75.32,
          65.554,
          72.39,
          80.653,
          78.553,
          72.889,
          78.782,
          78.273,
          72.235,
          74.994,
          71.878,
          70.259,
          60.916,
          70.19800000000001,
          72.567,
          76.195,
          72.899,
          75.53699999999998,
          71.752,
          71.421,
          78.74600000000002,
          69.819,
          78.242,
          76.384,
          73.747
         ],
         "yaxis": "y"
        },
        {
         "hovertemplate": "<b>%{hovertext}</b><br><br>continent=Oceania<br>gdpPercap=%{x}<br>lifeExp=%{y}<br>pop=%{marker.size}<extra></extra>",
         "hovertext": [
          "Australia",
          "New Zealand"
         ],
         "legendgroup": "Oceania",
         "marker": {
          "color": "#FFA15A",
          "size": [
           20434176,
           4115771
          ],
          "sizemode": "area",
          "sizeref": 366300.86,
          "symbol": "circle"
         },
         "mode": "markers",
         "name": "Oceania",
         "orientation": "v",
         "showlegend": true,
         "type": "scatter",
         "x": [
          34435.367439999995,
          25185.00911
         ],
         "xaxis": "x",
         "y": [
          81.235,
          80.204
         ],
         "yaxis": "y"
        }
       ],
       "layout": {
        "autosize": true,
        "legend": {
         "itemsizing": "constant",
         "title": {
          "text": "continent"
         },
         "tracegroupgap": 0
        },
        "margin": {
         "t": 60
        },
        "template": {
         "data": {
          "bar": [
           {
            "error_x": {
             "color": "#2a3f5f"
            },
            "error_y": {
             "color": "#2a3f5f"
            },
            "marker": {
             "line": {
              "color": "#E5ECF6",
              "width": 0.5
             },
             "pattern": {
              "fillmode": "overlay",
              "size": 10,
              "solidity": 0.2
             }
            },
            "type": "bar"
           }
          ],
          "barpolar": [
           {
            "marker": {
             "line": {
              "color": "#E5ECF6",
              "width": 0.5
             },
             "pattern": {
              "fillmode": "overlay",
              "size": 10,
              "solidity": 0.2
             }
            },
            "type": "barpolar"
           }
          ],
          "carpet": [
           {
            "aaxis": {
             "endlinecolor": "#2a3f5f",
             "gridcolor": "white",
             "linecolor": "white",
             "minorgridcolor": "white",
             "startlinecolor": "#2a3f5f"
            },
            "baxis": {
             "endlinecolor": "#2a3f5f",
             "gridcolor": "white",
             "linecolor": "white",
             "minorgridcolor": "white",
             "startlinecolor": "#2a3f5f"
            },
            "type": "carpet"
           }
          ],
          "choropleth": [
           {
            "colorbar": {
             "outlinewidth": 0,
             "ticks": ""
            },
            "type": "choropleth"
           }
          ],
          "contour": [
           {
            "colorbar": {
             "outlinewidth": 0,
             "ticks": ""
            },
            "colorscale": [
             [
              0,
              "#0d0887"
             ],
             [
              0.1111111111111111,
              "#46039f"
             ],
             [
              0.2222222222222222,
              "#7201a8"
             ],
             [
              0.3333333333333333,
              "#9c179e"
             ],
             [
              0.4444444444444444,
              "#bd3786"
             ],
             [
              0.5555555555555556,
              "#d8576b"
             ],
             [
              0.6666666666666666,
              "#ed7953"
             ],
             [
              0.7777777777777778,
              "#fb9f3a"
             ],
             [
              0.8888888888888888,
              "#fdca26"
             ],
             [
              1,
              "#f0f921"
             ]
            ],
            "type": "contour"
           }
          ],
          "contourcarpet": [
           {
            "colorbar": {
             "outlinewidth": 0,
             "ticks": ""
            },
            "type": "contourcarpet"
           }
          ],
          "heatmap": [
           {
            "colorbar": {
             "outlinewidth": 0,
             "ticks": ""
            },
            "colorscale": [
             [
              0,
              "#0d0887"
             ],
             [
              0.1111111111111111,
              "#46039f"
             ],
             [
              0.2222222222222222,
              "#7201a8"
             ],
             [
              0.3333333333333333,
              "#9c179e"
             ],
             [
              0.4444444444444444,
              "#bd3786"
             ],
             [
              0.5555555555555556,
              "#d8576b"
             ],
             [
              0.6666666666666666,
              "#ed7953"
             ],
             [
              0.7777777777777778,
              "#fb9f3a"
             ],
             [
              0.8888888888888888,
              "#fdca26"
             ],
             [
              1,
              "#f0f921"
             ]
            ],
            "type": "heatmap"
           }
          ],
          "heatmapgl": [
           {
            "colorbar": {
             "outlinewidth": 0,
             "ticks": ""
            },
            "colorscale": [
             [
              0,
              "#0d0887"
             ],
             [
              0.1111111111111111,
              "#46039f"
             ],
             [
              0.2222222222222222,
              "#7201a8"
             ],
             [
              0.3333333333333333,
              "#9c179e"
             ],
             [
              0.4444444444444444,
              "#bd3786"
             ],
             [
              0.5555555555555556,
              "#d8576b"
             ],
             [
              0.6666666666666666,
              "#ed7953"
             ],
             [
              0.7777777777777778,
              "#fb9f3a"
             ],
             [
              0.8888888888888888,
              "#fdca26"
             ],
             [
              1,
              "#f0f921"
             ]
            ],
            "type": "heatmapgl"
           }
          ],
          "histogram": [
           {
            "marker": {
             "pattern": {
              "fillmode": "overlay",
              "size": 10,
              "solidity": 0.2
             }
            },
            "type": "histogram"
           }
          ],
          "histogram2d": [
           {
            "colorbar": {
             "outlinewidth": 0,
             "ticks": ""
            },
            "colorscale": [
             [
              0,
              "#0d0887"
             ],
             [
              0.1111111111111111,
              "#46039f"
             ],
             [
              0.2222222222222222,
              "#7201a8"
             ],
             [
              0.3333333333333333,
              "#9c179e"
             ],
             [
              0.4444444444444444,
              "#bd3786"
             ],
             [
              0.5555555555555556,
              "#d8576b"
             ],
             [
              0.6666666666666666,
              "#ed7953"
             ],
             [
              0.7777777777777778,
              "#fb9f3a"
             ],
             [
              0.8888888888888888,
              "#fdca26"
             ],
             [
              1,
              "#f0f921"
             ]
            ],
            "type": "histogram2d"
           }
          ],
          "histogram2dcontour": [
           {
            "colorbar": {
             "outlinewidth": 0,
             "ticks": ""
            },
            "colorscale": [
             [
              0,
              "#0d0887"
             ],
             [
              0.1111111111111111,
              "#46039f"
             ],
             [
              0.2222222222222222,
              "#7201a8"
             ],
             [
              0.3333333333333333,
              "#9c179e"
             ],
             [
              0.4444444444444444,
              "#bd3786"
             ],
             [
              0.5555555555555556,
              "#d8576b"
             ],
             [
              0.6666666666666666,
              "#ed7953"
             ],
             [
              0.7777777777777778,
              "#fb9f3a"
             ],
             [
              0.8888888888888888,
              "#fdca26"
             ],
             [
              1,
              "#f0f921"
             ]
            ],
            "type": "histogram2dcontour"
           }
          ],
          "mesh3d": [
           {
            "colorbar": {
             "outlinewidth": 0,
             "ticks": ""
            },
            "type": "mesh3d"
           }
          ],
          "parcoords": [
           {
            "line": {
             "colorbar": {
              "outlinewidth": 0,
              "ticks": ""
             }
            },
            "type": "parcoords"
           }
          ],
          "pie": [
           {
            "automargin": true,
            "type": "pie"
           }
          ],
          "scatter": [
           {
            "marker": {
             "colorbar": {
              "outlinewidth": 0,
              "ticks": ""
             }
            },
            "type": "scatter"
           }
          ],
          "scatter3d": [
           {
            "line": {
             "colorbar": {
              "outlinewidth": 0,
              "ticks": ""
             }
            },
            "marker": {
             "colorbar": {
              "outlinewidth": 0,
              "ticks": ""
             }
            },
            "type": "scatter3d"
           }
          ],
          "scattercarpet": [
           {
            "marker": {
             "colorbar": {
              "outlinewidth": 0,
              "ticks": ""
             }
            },
            "type": "scattercarpet"
           }
          ],
          "scattergeo": [
           {
            "marker": {
             "colorbar": {
              "outlinewidth": 0,
              "ticks": ""
             }
            },
            "type": "scattergeo"
           }
          ],
          "scattergl": [
           {
            "marker": {
             "colorbar": {
              "outlinewidth": 0,
              "ticks": ""
             }
            },
            "type": "scattergl"
           }
          ],
          "scattermapbox": [
           {
            "marker": {
             "colorbar": {
              "outlinewidth": 0,
              "ticks": ""
             }
            },
            "type": "scattermapbox"
           }
          ],
          "scatterpolar": [
           {
            "marker": {
             "colorbar": {
              "outlinewidth": 0,
              "ticks": ""
             }
            },
            "type": "scatterpolar"
           }
          ],
          "scatterpolargl": [
           {
            "marker": {
             "colorbar": {
              "outlinewidth": 0,
              "ticks": ""
             }
            },
            "type": "scatterpolargl"
           }
          ],
          "scatterternary": [
           {
            "marker": {
             "colorbar": {
              "outlinewidth": 0,
              "ticks": ""
             }
            },
            "type": "scatterternary"
           }
          ],
          "surface": [
           {
            "colorbar": {
             "outlinewidth": 0,
             "ticks": ""
            },
            "colorscale": [
             [
              0,
              "#0d0887"
             ],
             [
              0.1111111111111111,
              "#46039f"
             ],
             [
              0.2222222222222222,
              "#7201a8"
             ],
             [
              0.3333333333333333,
              "#9c179e"
             ],
             [
              0.4444444444444444,
              "#bd3786"
             ],
             [
              0.5555555555555556,
              "#d8576b"
             ],
             [
              0.6666666666666666,
              "#ed7953"
             ],
             [
              0.7777777777777778,
              "#fb9f3a"
             ],
             [
              0.8888888888888888,
              "#fdca26"
             ],
             [
              1,
              "#f0f921"
             ]
            ],
            "type": "surface"
           }
          ],
          "table": [
           {
            "cells": {
             "fill": {
              "color": "#EBF0F8"
             },
             "line": {
              "color": "white"
             }
            },
            "header": {
             "fill": {
              "color": "#C8D4E3"
             },
             "line": {
              "color": "white"
             }
            },
            "type": "table"
           }
          ]
         },
         "layout": {
          "annotationdefaults": {
           "arrowcolor": "#2a3f5f",
           "arrowhead": 0,
           "arrowwidth": 1
          },
          "autotypenumbers": "strict",
          "coloraxis": {
           "colorbar": {
            "outlinewidth": 0,
            "ticks": ""
           }
          },
          "colorscale": {
           "diverging": [
            [
             0,
             "#8e0152"
            ],
            [
             0.1,
             "#c51b7d"
            ],
            [
             0.2,
             "#de77ae"
            ],
            [
             0.3,
             "#f1b6da"
            ],
            [
             0.4,
             "#fde0ef"
            ],
            [
             0.5,
             "#f7f7f7"
            ],
            [
             0.6,
             "#e6f5d0"
            ],
            [
             0.7,
             "#b8e186"
            ],
            [
             0.8,
             "#7fbc41"
            ],
            [
             0.9,
             "#4d9221"
            ],
            [
             1,
             "#276419"
            ]
           ],
           "sequential": [
            [
             0,
             "#0d0887"
            ],
            [
             0.1111111111111111,
             "#46039f"
            ],
            [
             0.2222222222222222,
             "#7201a8"
            ],
            [
             0.3333333333333333,
             "#9c179e"
            ],
            [
             0.4444444444444444,
             "#bd3786"
            ],
            [
             0.5555555555555556,
             "#d8576b"
            ],
            [
             0.6666666666666666,
             "#ed7953"
            ],
            [
             0.7777777777777778,
             "#fb9f3a"
            ],
            [
             0.8888888888888888,
             "#fdca26"
            ],
            [
             1,
             "#f0f921"
            ]
           ],
           "sequentialminus": [
            [
             0,
             "#0d0887"
            ],
            [
             0.1111111111111111,
             "#46039f"
            ],
            [
             0.2222222222222222,
             "#7201a8"
            ],
            [
             0.3333333333333333,
             "#9c179e"
            ],
            [
             0.4444444444444444,
             "#bd3786"
            ],
            [
             0.5555555555555556,
             "#d8576b"
            ],
            [
             0.6666666666666666,
             "#ed7953"
            ],
            [
             0.7777777777777778,
             "#fb9f3a"
            ],
            [
             0.8888888888888888,
             "#fdca26"
            ],
            [
             1,
             "#f0f921"
            ]
           ]
          },
          "colorway": [
           "#636efa",
           "#EF553B",
           "#00cc96",
           "#ab63fa",
           "#FFA15A",
           "#19d3f3",
           "#FF6692",
           "#B6E880",
           "#FF97FF",
           "#FECB52"
          ],
          "font": {
           "color": "#2a3f5f"
          },
          "geo": {
           "bgcolor": "white",
           "lakecolor": "white",
           "landcolor": "#E5ECF6",
           "showlakes": true,
           "showland": true,
           "subunitcolor": "white"
          },
          "hoverlabel": {
           "align": "left"
          },
          "hovermode": "closest",
          "mapbox": {
           "style": "light"
          },
          "paper_bgcolor": "white",
          "plot_bgcolor": "#E5ECF6",
          "polar": {
           "angularaxis": {
            "gridcolor": "white",
            "linecolor": "white",
            "ticks": ""
           },
           "bgcolor": "#E5ECF6",
           "radialaxis": {
            "gridcolor": "white",
            "linecolor": "white",
            "ticks": ""
           }
          },
          "scene": {
           "xaxis": {
            "backgroundcolor": "#E5ECF6",
            "gridcolor": "white",
            "gridwidth": 2,
            "linecolor": "white",
            "showbackground": true,
            "ticks": "",
            "zerolinecolor": "white"
           },
           "yaxis": {
            "backgroundcolor": "#E5ECF6",
            "gridcolor": "white",
            "gridwidth": 2,
            "linecolor": "white",
            "showbackground": true,
            "ticks": "",
            "zerolinecolor": "white"
           },
           "zaxis": {
            "backgroundcolor": "#E5ECF6",
            "gridcolor": "white",
            "gridwidth": 2,
            "linecolor": "white",
            "showbackground": true,
            "ticks": "",
            "zerolinecolor": "white"
           }
          },
          "shapedefaults": {
           "line": {
            "color": "#2a3f5f"
           }
          },
          "ternary": {
           "aaxis": {
            "gridcolor": "white",
            "linecolor": "white",
            "ticks": ""
           },
           "baxis": {
            "gridcolor": "white",
            "linecolor": "white",
            "ticks": ""
           },
           "bgcolor": "#E5ECF6",
           "caxis": {
            "gridcolor": "white",
            "linecolor": "white",
            "ticks": ""
           }
          },
          "title": {
           "x": 0.05
          },
          "xaxis": {
           "automargin": true,
           "gridcolor": "white",
           "linecolor": "white",
           "ticks": "",
           "title": {
            "standoff": 15
           },
           "zerolinecolor": "white",
           "zerolinewidth": 2
          },
          "yaxis": {
           "automargin": true,
           "gridcolor": "white",
           "linecolor": "white",
           "ticks": "",
           "title": {
            "standoff": 15
           },
           "zerolinecolor": "white",
           "zerolinewidth": 2
          }
         }
        },
        "xaxis": {
         "anchor": "y",
         "autorange": true,
         "domain": [
          0,
          1
         ],
         "range": [
          2.2723232868634655,
          4.852680643954566
         ],
         "title": {
          "text": "gdpPercap"
         },
         "type": "log"
        },
        "yaxis": {
         "anchor": "x",
         "autorange": true,
         "domain": [
          0,
          1
         ],
         "range": [
          36.27401518843649,
          88.74377651300591
         ],
         "title": {
          "text": "lifeExp"
         },
         "type": "linear"
        }
       }
      },
      "image/png": "[encoded data removed]",
      "text/html": [
       "<div>                            <div id=\"be81f447-ff26-4e28-8517-8be83e86c208\" class=\"plotly-graph-div\" style=\"height:525px; width:100%;\"></div>            <script type=\"text/javascript\">                require([\"plotly\"], function(Plotly) {                    window.PLOTLYENV=window.PLOTLYENV || {};                                    if (document.getElementById(\"be81f447-ff26-4e28-8517-8be83e86c208\")) {                    Plotly.newPlot(                        \"be81f447-ff26-4e28-8517-8be83e86c208\",                        [{\"hovertemplate\":\"<b>%{hovertext}</b><br><br>continent=Asia<br>gdpPercap=%{x}<br>lifeExp=%{y}<br>pop=%{marker.size}<extra></extra>\",\"hovertext\":[\"Afghanistan\",\"Bahrain\",\"Bangladesh\",\"Cambodia\",\"China\",\"Hong Kong, China\",\"India\",\"Indonesia\",\"Iran\",\"Iraq\",\"Israel\",\"Japan\",\"Jordan\",\"Korea, Dem. Rep.\",\"Korea, Rep.\",\"Kuwait\",\"Lebanon\",\"Malaysia\",\"Mongolia\",\"Myanmar\",\"Nepal\",\"Oman\",\"Pakistan\",\"Philippines\",\"Saudi Arabia\",\"Singapore\",\"Sri Lanka\",\"Syria\",\"Taiwan\",\"Thailand\",\"Vietnam\",\"West Bank and Gaza\",\"Yemen, Rep.\"],\"legendgroup\":\"Asia\",\"marker\":{\"color\":\"#636efa\",\"size\":[31889923,708573,150448339,14131858,1318683096,6980412,1110396331,223547000,69453570,27499638,6426679,127467972,6053193,23301725,49044790,2505559,3921278,24821286,2874127,47761980,28901790,3204897,169270617,91077287,27601038,4553009,20378239,19314747,23174294,65068149,85262356,4018332,22211743],\"sizemode\":\"area\",\"sizeref\":366300.86,\"symbol\":\"circle\"},\"mode\":\"markers\",\"name\":\"Asia\",\"orientation\":\"v\",\"showlegend\":true,\"x\":[974.5803384,29796.04834,1391.253792,1713.778686,4959.114854,39724.97867,2452.210407,3540.651564,11605.71449,4471.061906,25523.2771,31656.06806,4519.461171,1593.06548,23348.139730000006,47306.98978,10461.05868,12451.6558,3095.7722710000007,944.0,1091.359778,22316.19287,2605.94758,3190.481016,21654.83194,47143.17964,3970.095407,4184.548089,28718.27684,7458.396326999998,2441.576404,3025.349798,2280.769906],\"xaxis\":\"x\",\"y\":[43.828,75.635,64.062,59.723,72.961,82.208,64.69800000000001,70.65,70.964,59.545,80.745,82.603,72.535,67.297,78.623,77.58800000000002,71.993,74.241,66.803,62.069,63.785,75.64,65.483,71.688,72.777,79.972,72.396,74.143,78.4,70.616,74.249,73.422,62.698],\"yaxis\":\"y\",\"type\":\"scatter\"},{\"hovertemplate\":\"<b>%{hovertext}</b><br><br>continent=Europe<br>gdpPercap=%{x}<br>lifeExp=%{y}<br>pop=%{marker.size}<extra></extra>\",\"hovertext\":[\"Albania\",\"Austria\",\"Belgium\",\"Bosnia and Herzegovina\",\"Bulgaria\",\"Croatia\",\"Czech Republic\",\"Denmark\",\"Finland\",\"France\",\"Germany\",\"Greece\",\"Hungary\",\"Iceland\",\"Ireland\",\"Italy\",\"Montenegro\",\"Netherlands\",\"Norway\",\"Poland\",\"Portugal\",\"Romania\",\"Serbia\",\"Slovak Republic\",\"Slovenia\",\"Spain\",\"Sweden\",\"Switzerland\",\"Turkey\",\"United Kingdom\"],\"legendgroup\":\"Europe\",\"marker\":{\"color\":\"#EF553B\",\"size\":[3600523,8199783,10392226,4552198,7322858,4493312,10228744,5468120,5238460,61083916,82400996,10706290,9956108,301931,4109086,58147733,684736,16570613,4627926,38518241,10642836,22276056,10150265,5447502,2009245,40448191,9031088,7554661,71158647,60776238],\"sizemode\":\"area\",\"sizeref\":366300.86,\"symbol\":\"circle\"},\"mode\":\"markers\",\"name\":\"Europe\",\"orientation\":\"v\",\"showlegend\":true,\"x\":[5937.029525999998,36126.4927,33692.60508,7446.298803,10680.79282,14619.222719999998,22833.30851,35278.41874,33207.0844,30470.0167,32170.37442,27538.41188,18008.94444,36180.78919,40675.99635,28569.7197,9253.896111,36797.93332,49357.19017,15389.924680000002,20509.64777,10808.47561,9786.534714,18678.31435,25768.25759,28821.0637,33859.74835,37506.41907,8458.276384,33203.26128],\"xaxis\":\"x\",\"y\":[76.423,79.829,79.441,74.852,73.005,75.748,76.486,78.332,79.313,80.657,79.406,79.483,73.33800000000002,81.757,78.885,80.546,74.543,79.762,80.196,75.563,78.098,72.476,74.002,74.663,77.926,80.941,80.884,81.70100000000002,71.777,79.425],\"yaxis\":\"y\",\"type\":\"scatter\"},{\"hovertemplate\":\"<b>%{hovertext}</b><br><br>continent=Africa<br>gdpPercap=%{x}<br>lifeExp=%{y}<br>pop=%{marker.size}<extra></extra>\",\"hovertext\":[\"Algeria\",\"Angola\",\"Benin\",\"Botswana\",\"Burkina Faso\",\"Burundi\",\"Cameroon\",\"Central African Republic\",\"Chad\",\"Comoros\",\"Congo, Dem. Rep.\",\"Congo, Rep.\",\"Cote d'Ivoire\",\"Djibouti\",\"Egypt\",\"Equatorial Guinea\",\"Eritrea\",\"Ethiopia\",\"Gabon\",\"Gambia\",\"Ghana\",\"Guinea\",\"Guinea-Bissau\",\"Kenya\",\"Lesotho\",\"Liberia\",\"Libya\",\"Madagascar\",\"Malawi\",\"Mali\",\"Mauritania\",\"Mauritius\",\"Morocco\",\"Mozambique\",\"Namibia\",\"Niger\",\"Nigeria\",\"Reunion\",\"Rwanda\",\"Sao Tome and Principe\",\"Senegal\",\"Sierra Leone\",\"Somalia\",\"South Africa\",\"Sudan\",\"Swaziland\",\"Tanzania\",\"Togo\",\"Tunisia\",\"Uganda\",\"Zambia\",\"Zimbabwe\"],\"legendgroup\":\"Africa\",\"marker\":{\"color\":\"#00cc96\",\"size\":[33333216,12420476,8078314,1639131,14326203,8390505,17696293,4369038,10238807,710960,64606759,3800610,18013409,496374,80264543,551201,4906585,76511887,1454867,1688359,22873338,9947814,1472041,35610177,2012649,3193942,6036914,19167654,13327079,12031795,3270065,1250882,33757175,19951656,2055080,12894865,135031164,798094,8860588,199579,12267493,6144562,9118773,43997828,42292929,1133066,38139640,5701579,10276158,29170398,11746035,12311143],\"sizemode\":\"area\",\"sizeref\":366300.86,\"symbol\":\"circle\"},\"mode\":\"markers\",\"name\":\"Africa\",\"orientation\":\"v\",\"showlegend\":true,\"x\":[6223.367465,4797.231267,1441.284873,12569.85177,1217.032994,430.0706916,2042.09524,706.016537,1704.063724,986.1478792,277.5518587,3632.557798,1544.750112,2082.4815670000007,5581.180998,12154.08975,641.3695236000002,690.8055759,13206.48452,752.7497265,1327.60891,942.6542111,579.2317429999998,1463.249282,1569.331442,414.5073415,12057.49928,1044.770126,759.3499101,1042.581557,1803.151496,10956.99112,3820.17523,823.6856205,4811.060429,619.6768923999998,2013.977305,7670.122558,863.0884639000002,1598.435089,1712.472136,862.5407561000002,926.1410683,9269.657808,2602.394995,4513.480643,1107.482182,882.9699437999999,7092.923025,1056.380121,1271.211593,469.70929810000007],\"xaxis\":\"x\",\"y\":[72.301,42.731,56.728,50.728,52.295,49.58,50.43,44.74100000000001,50.651,65.152,46.462,55.322,48.328,54.791,71.33800000000002,51.57899999999999,58.04,52.947,56.735,59.448,60.022,56.007,46.38800000000001,54.11,42.592,45.678,73.952,59.44300000000001,48.303,54.467,64.164,72.801,71.164,42.082,52.90600000000001,56.867,46.859,76.442,46.242,65.528,63.062,42.56800000000001,48.159,49.339,58.556,39.613,52.517,58.42,73.923,51.542,42.38399999999999,43.487],\"yaxis\":\"y\",\"type\":\"scatter\"},{\"hovertemplate\":\"<b>%{hovertext}</b><br><br>continent=Americas<br>gdpPercap=%{x}<br>lifeExp=%{y}<br>pop=%{marker.size}<extra></extra>\",\"hovertext\":[\"Argentina\",\"Bolivia\",\"Brazil\",\"Canada\",\"Chile\",\"Colombia\",\"Costa Rica\",\"Cuba\",\"Dominican Republic\",\"Ecuador\",\"El Salvador\",\"Guatemala\",\"Haiti\",\"Honduras\",\"Jamaica\",\"Mexico\",\"Nicaragua\",\"Panama\",\"Paraguay\",\"Peru\",\"Puerto Rico\",\"Trinidad and Tobago\",\"United States\",\"Uruguay\",\"Venezuela\"],\"legendgroup\":\"Americas\",\"marker\":{\"color\":\"#ab63fa\",\"size\":[40301927,9119152,190010647,33390141,16284741,44227550,4133884,11416987,9319622,13755680,6939688,12572928,8502814,7483763,2780132,108700891,5675356,3242173,6667147,28674757,3942491,1056608,301139947,3447496,26084662],\"sizemode\":\"area\",\"sizeref\":366300.86,\"symbol\":\"circle\"},\"mode\":\"markers\",\"name\":\"Americas\",\"orientation\":\"v\",\"showlegend\":true,\"x\":[12779.37964,3822.137084,9065.800825,36319.23501,13171.63885,7006.580419,9645.06142,8948.102923,6025.3747520000015,6873.262326000001,5728.353514,5186.050003,1201.637154,3548.3308460000007,7320.8802620000015,11977.57496,2749.320965,9809.185636,4172.838464,7408.905561,19328.70901,18008.50924,42951.65309,10611.46299,11415.80569],\"xaxis\":\"x\",\"y\":[75.32,65.554,72.39,80.653,78.553,72.889,78.782,78.273,72.235,74.994,71.878,70.259,60.916,70.19800000000001,72.567,76.195,72.899,75.53699999999998,71.752,71.421,78.74600000000002,69.819,78.242,76.384,73.747],\"yaxis\":\"y\",\"type\":\"scatter\"},{\"hovertemplate\":\"<b>%{hovertext}</b><br><br>continent=Oceania<br>gdpPercap=%{x}<br>lifeExp=%{y}<br>pop=%{marker.size}<extra></extra>\",\"hovertext\":[\"Australia\",\"New Zealand\"],\"legendgroup\":\"Oceania\",\"marker\":{\"color\":\"#FFA15A\",\"size\":[20434176,4115771],\"sizemode\":\"area\",\"sizeref\":366300.86,\"symbol\":\"circle\"},\"mode\":\"markers\",\"name\":\"Oceania\",\"orientation\":\"v\",\"showlegend\":true,\"x\":[34435.367439999995,25185.00911],\"xaxis\":\"x\",\"y\":[81.235,80.204],\"yaxis\":\"y\",\"type\":\"scatter\"}],                        {\"template\":{\"data\":{\"bar\":[{\"error_x\":{\"color\":\"#2a3f5f\"},\"error_y\":{\"color\":\"#2a3f5f\"},\"marker\":{\"line\":{\"color\":\"#E5ECF6\",\"width\":0.5},\"pattern\":{\"fillmode\":\"overlay\",\"size\":10,\"solidity\":0.2}},\"type\":\"bar\"}],\"barpolar\":[{\"marker\":{\"line\":{\"color\":\"#E5ECF6\",\"width\":0.5},\"pattern\":{\"fillmode\":\"overlay\",\"size\":10,\"solidity\":0.2}},\"type\":\"barpolar\"}],\"carpet\":[{\"aaxis\":{\"endlinecolor\":\"#2a3f5f\",\"gridcolor\":\"white\",\"linecolor\":\"white\",\"minorgridcolor\":\"white\",\"startlinecolor\":\"#2a3f5f\"},\"baxis\":{\"endlinecolor\":\"#2a3f5f\",\"gridcolor\":\"white\",\"linecolor\":\"white\",\"minorgridcolor\":\"white\",\"startlinecolor\":\"#2a3f5f\"},\"type\":\"carpet\"}],\"choropleth\":[{\"colorbar\":{\"outlinewidth\":0,\"ticks\":\"\"},\"type\":\"choropleth\"}],\"contour\":[{\"colorbar\":{\"outlinewidth\":0,\"ticks\":\"\"},\"colorscale\":[[0.0,\"#0d0887\"],[0.1111111111111111,\"#46039f\"],[0.2222222222222222,\"#7201a8\"],[0.3333333333333333,\"#9c179e\"],[0.4444444444444444,\"#bd3786\"],[0.5555555555555556,\"#d8576b\"],[0.6666666666666666,\"#ed7953\"],[0.7777777777777778,\"#fb9f3a\"],[0.8888888888888888,\"#fdca26\"],[1.0,\"#f0f921\"]],\"type\":\"contour\"}],\"contourcarpet\":[{\"colorbar\":{\"outlinewidth\":0,\"ticks\":\"\"},\"type\":\"contourcarpet\"}],\"heatmap\":[{\"colorbar\":{\"outlinewidth\":0,\"ticks\":\"\"},\"colorscale\":[[0.0,\"#0d0887\"],[0.1111111111111111,\"#46039f\"],[0.2222222222222222,\"#7201a8\"],[0.3333333333333333,\"#9c179e\"],[0.4444444444444444,\"#bd3786\"],[0.5555555555555556,\"#d8576b\"],[0.6666666666666666,\"#ed7953\"],[0.7777777777777778,\"#fb9f3a\"],[0.8888888888888888,\"#fdca26\"],[1.0,\"#f0f921\"]],\"type\":\"heatmap\"}],\"heatmapgl\":[{\"colorbar\":{\"outlinewidth\":0,\"ticks\":\"\"},\"colorscale\":[[0.0,\"#0d0887\"],[0.1111111111111111,\"#46039f\"],[0.2222222222222222,\"#7201a8\"],[0.3333333333333333,\"#9c179e\"],[0.4444444444444444,\"#bd3786\"],[0.5555555555555556,\"#d8576b\"],[0.6666666666666666,\"#ed7953\"],[0.7777777777777778,\"#fb9f3a\"],[0.8888888888888888,\"#fdca26\"],[1.0,\"#f0f921\"]],\"type\":\"heatmapgl\"}],\"histogram\":[{\"marker\":{\"pattern\":{\"fillmode\":\"overlay\",\"size\":10,\"solidity\":0.2}},\"type\":\"histogram\"}],\"histogram2d\":[{\"colorbar\":{\"outlinewidth\":0,\"ticks\":\"\"},\"colorscale\":[[0.0,\"#0d0887\"],[0.1111111111111111,\"#46039f\"],[0.2222222222222222,\"#7201a8\"],[0.3333333333333333,\"#9c179e\"],[0.4444444444444444,\"#bd3786\"],[0.5555555555555556,\"#d8576b\"],[0.6666666666666666,\"#ed7953\"],[0.7777777777777778,\"#fb9f3a\"],[0.8888888888888888,\"#fdca26\"],[1.0,\"#f0f921\"]],\"type\":\"histogram2d\"}],\"histogram2dcontour\":[{\"colorbar\":{\"outlinewidth\":0,\"ticks\":\"\"},\"colorscale\":[[0.0,\"#0d0887\"],[0.1111111111111111,\"#46039f\"],[0.2222222222222222,\"#7201a8\"],[0.3333333333333333,\"#9c179e\"],[0.4444444444444444,\"#bd3786\"],[0.5555555555555556,\"#d8576b\"],[0.6666666666666666,\"#ed7953\"],[0.7777777777777778,\"#fb9f3a\"],[0.8888888888888888,\"#fdca26\"],[1.0,\"#f0f921\"]],\"type\":\"histogram2dcontour\"}],\"mesh3d\":[{\"colorbar\":{\"outlinewidth\":0,\"ticks\":\"\"},\"type\":\"mesh3d\"}],\"parcoords\":[{\"line\":{\"colorbar\":{\"outlinewidth\":0,\"ticks\":\"\"}},\"type\":\"parcoords\"}],\"pie\":[{\"automargin\":true,\"type\":\"pie\"}],\"scatter\":[{\"marker\":{\"colorbar\":{\"outlinewidth\":0,\"ticks\":\"\"}},\"type\":\"scatter\"}],\"scatter3d\":[{\"line\":{\"colorbar\":{\"outlinewidth\":0,\"ticks\":\"\"}},\"marker\":{\"colorbar\":{\"outlinewidth\":0,\"ticks\":\"\"}},\"type\":\"scatter3d\"}],\"scattercarpet\":[{\"marker\":{\"colorbar\":{\"outlinewidth\":0,\"ticks\":\"\"}},\"type\":\"scattercarpet\"}],\"scattergeo\":[{\"marker\":{\"colorbar\":{\"outlinewidth\":0,\"ticks\":\"\"}},\"type\":\"scattergeo\"}],\"scattergl\":[{\"marker\":{\"colorbar\":{\"outlinewidth\":0,\"ticks\":\"\"}},\"type\":\"scattergl\"}],\"scattermapbox\":[{\"marker\":{\"colorbar\":{\"outlinewidth\":0,\"ticks\":\"\"}},\"type\":\"scattermapbox\"}],\"scatterpolar\":[{\"marker\":{\"colorbar\":{\"outlinewidth\":0,\"ticks\":\"\"}},\"type\":\"scatterpolar\"}],\"scatterpolargl\":[{\"marker\":{\"colorbar\":{\"outlinewidth\":0,\"ticks\":\"\"}},\"type\":\"scatterpolargl\"}],\"scatterternary\":[{\"marker\":{\"colorbar\":{\"outlinewidth\":0,\"ticks\":\"\"}},\"type\":\"scatterternary\"}],\"surface\":[{\"colorbar\":{\"outlinewidth\":0,\"ticks\":\"\"},\"colorscale\":[[0.0,\"#0d0887\"],[0.1111111111111111,\"#46039f\"],[0.2222222222222222,\"#7201a8\"],[0.3333333333333333,\"#9c179e\"],[0.4444444444444444,\"#bd3786\"],[0.5555555555555556,\"#d8576b\"],[0.6666666666666666,\"#ed7953\"],[0.7777777777777778,\"#fb9f3a\"],[0.8888888888888888,\"#fdca26\"],[1.0,\"#f0f921\"]],\"type\":\"surface\"}],\"table\":[{\"cells\":{\"fill\":{\"color\":\"#EBF0F8\"},\"line\":{\"color\":\"white\"}},\"header\":{\"fill\":{\"color\":\"#C8D4E3\"},\"line\":{\"color\":\"white\"}},\"type\":\"table\"}]},\"layout\":{\"annotationdefaults\":{\"arrowcolor\":\"#2a3f5f\",\"arrowhead\":0,\"arrowwidth\":1},\"autotypenumbers\":\"strict\",\"coloraxis\":{\"colorbar\":{\"outlinewidth\":0,\"ticks\":\"\"}},\"colorscale\":{\"diverging\":[[0,\"#8e0152\"],[0.1,\"#c51b7d\"],[0.2,\"#de77ae\"],[0.3,\"#f1b6da\"],[0.4,\"#fde0ef\"],[0.5,\"#f7f7f7\"],[0.6,\"#e6f5d0\"],[0.7,\"#b8e186\"],[0.8,\"#7fbc41\"],[0.9,\"#4d9221\"],[1,\"#276419\"]],\"sequential\":[[0.0,\"#0d0887\"],[0.1111111111111111,\"#46039f\"],[0.2222222222222222,\"#7201a8\"],[0.3333333333333333,\"#9c179e\"],[0.4444444444444444,\"#bd3786\"],[0.5555555555555556,\"#d8576b\"],[0.6666666666666666,\"#ed7953\"],[0.7777777777777778,\"#fb9f3a\"],[0.8888888888888888,\"#fdca26\"],[1.0,\"#f0f921\"]],\"sequentialminus\":[[0.0,\"#0d0887\"],[0.1111111111111111,\"#46039f\"],[0.2222222222222222,\"#7201a8\"],[0.3333333333333333,\"#9c179e\"],[0.4444444444444444,\"#bd3786\"],[0.5555555555555556,\"#d8576b\"],[0.6666666666666666,\"#ed7953\"],[0.7777777777777778,\"#fb9f3a\"],[0.8888888888888888,\"#fdca26\"],[1.0,\"#f0f921\"]]},\"colorway\":[\"#636efa\",\"#EF553B\",\"#00cc96\",\"#ab63fa\",\"#FFA15A\",\"#19d3f3\",\"#FF6692\",\"#B6E880\",\"#FF97FF\",\"#FECB52\"],\"font\":{\"color\":\"#2a3f5f\"},\"geo\":{\"bgcolor\":\"white\",\"lakecolor\":\"white\",\"landcolor\":\"#E5ECF6\",\"showlakes\":true,\"showland\":true,\"subunitcolor\":\"white\"},\"hoverlabel\":{\"align\":\"left\"},\"hovermode\":\"closest\",\"mapbox\":{\"style\":\"light\"},\"paper_bgcolor\":\"white\",\"plot_bgcolor\":\"#E5ECF6\",\"polar\":{\"angularaxis\":{\"gridcolor\":\"white\",\"linecolor\":\"white\",\"ticks\":\"\"},\"bgcolor\":\"#E5ECF6\",\"radialaxis\":{\"gridcolor\":\"white\",\"linecolor\":\"white\",\"ticks\":\"\"}},\"scene\":{\"xaxis\":{\"backgroundcolor\":\"#E5ECF6\",\"gridcolor\":\"white\",\"gridwidth\":2,\"linecolor\":\"white\",\"showbackground\":true,\"ticks\":\"\",\"zerolinecolor\":\"white\"},\"yaxis\":{\"backgroundcolor\":\"#E5ECF6\",\"gridcolor\":\"white\",\"gridwidth\":2,\"linecolor\":\"white\",\"showbackground\":true,\"ticks\":\"\",\"zerolinecolor\":\"white\"},\"zaxis\":{\"backgroundcolor\":\"#E5ECF6\",\"gridcolor\":\"white\",\"gridwidth\":2,\"linecolor\":\"white\",\"showbackground\":true,\"ticks\":\"\",\"zerolinecolor\":\"white\"}},\"shapedefaults\":{\"line\":{\"color\":\"#2a3f5f\"}},\"ternary\":{\"aaxis\":{\"gridcolor\":\"white\",\"linecolor\":\"white\",\"ticks\":\"\"},\"baxis\":{\"gridcolor\":\"white\",\"linecolor\":\"white\",\"ticks\":\"\"},\"bgcolor\":\"#E5ECF6\",\"caxis\":{\"gridcolor\":\"white\",\"linecolor\":\"white\",\"ticks\":\"\"}},\"title\":{\"x\":0.05},\"xaxis\":{\"automargin\":true,\"gridcolor\":\"white\",\"linecolor\":\"white\",\"ticks\":\"\",\"title\":{\"standoff\":15},\"zerolinecolor\":\"white\",\"zerolinewidth\":2},\"yaxis\":{\"automargin\":true,\"gridcolor\":\"white\",\"linecolor\":\"white\",\"ticks\":\"\",\"title\":{\"standoff\":15},\"zerolinecolor\":\"white\",\"zerolinewidth\":2}}},\"xaxis\":{\"anchor\":\"y\",\"domain\":[0.0,1.0],\"title\":{\"text\":\"gdpPercap\"},\"type\":\"log\"},\"yaxis\":{\"anchor\":\"x\",\"domain\":[0.0,1.0],\"title\":{\"text\":\"lifeExp\"}},\"legend\":{\"title\":{\"text\":\"continent\"},\"tracegroupgap\":0,\"itemsizing\":\"constant\"},\"margin\":{\"t\":60}},                        {\"responsive\": true}                    ).then(function(){\n",
       "                            \n",
       "var gd = document.getElementById('be81f447-ff26-4e28-8517-8be83e86c208');\n",
       "var x = new MutationObserver(function (mutations, observer) {{\n",
       "        var display = window.getComputedStyle(gd).display;\n",
       "        if (!display || display === 'none') {{\n",
       "            console.log([gd, 'removed!']);\n",
       "            Plotly.purge(gd);\n",
       "            observer.disconnect();\n",
       "        }}\n",
       "}});\n",
       "\n",
       "// Listen for the removal of the full notebook cells\n",
       "var notebookContainer = gd.closest('#notebook-container');\n",
       "if (notebookContainer) {{\n",
       "    x.observe(notebookContainer, {childList: true});\n",
       "}}\n",
       "\n",
       "// Listen for the clearing of the current output cell\n",
       "var outputEl = gd.closest('.output');\n",
       "if (outputEl) {{\n",
       "    x.observe(outputEl, {childList: true});\n",
       "}}\n",
       "\n",
       "                        })                };                });            </script>        </div>"
      ]
     },
     "metadata": {},
     "output_type": "display_data"
    }
   ],
   "source": [
    "gapminder = px.data.gapminder()\n",
    "fig = px.scatter(gapminder.query(\"year==2007\"), x=\"gdpPercap\", y=\"lifeExp\", size=\"pop\", color=\"continent\",\n",
    "           hover_name=\"country\", log_x=True, size_max=60)\n",
    "fig.show()"
   ]
  },
  {
   "cell_type": "code",
   "execution_count": 139,
   "id": "0b89d7bb-5a36-43cd-b406-743c951690e8",
   "metadata": {},
   "outputs": [],
   "source": [
    "import plotly.io as pio\n",
    "pio.write_html(fig, file=\"vizu1.html\", auto_open=True)"
   ]
  },
  {
   "cell_type": "code",
   "execution_count": null,
   "id": "0986d0c9-b018-4749-aaed-66f40e21ec01",
   "metadata": {},
   "outputs": [],
   "source": []
  }
 ],
 "metadata": {
  "kernelspec": {
   "display_name": "Python 3 (ipykernel)",
   "language": "python",
   "name": "python3"
  },
  "language_info": {
   "codemirror_mode": {
    "name": "ipython",
    "version": 3
   },
   "file_extension": ".py",
   "mimetype": "text/x-python",
   "name": "python",
   "nbconvert_exporter": "python",
   "pygments_lexer": "ipython3",
   "version": "3.9.12"
  }
 },
 "nbformat": 4,
 "nbformat_minor": 5
}
