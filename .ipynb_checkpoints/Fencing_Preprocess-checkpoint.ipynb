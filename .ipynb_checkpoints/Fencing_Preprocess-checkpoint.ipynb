{
 "cells": [
  {
   "cell_type": "markdown",
   "id": "986af948-a877-4360-a52e-13ec29496562",
   "metadata": {},
   "source": [
    "## Fencing Statistics - ČR and World\n",
    "#### 7.11.2022 After a competition in Písek (5.-6.11.2022)\n",
    "#### 8.12. still manually preparing Men data...\n",
    "#### 21.12. creating local repo and GITHub https://github.com/JirkaZelenka/Czech-Fencing-Statistics"
   ]
  },
  {
   "cell_type": "markdown",
   "id": "edf3deb9-7261-4b3c-ad59-0854080788d4",
   "metadata": {
    "tags": []
   },
   "source": [
    "* https://fie.org/athletes/                                      = Individual's Profile, D.o.B.\n",
    "* https://fie.org/competitions                                   = Event profile\n",
    "\n",
    "* https://www.czechfencing.cz/portal/teams/detail/14             = Club's profile\n",
    "* https://www.czechfencing.cz/portal/rankings/list               = Rankings + filters \n",
    "* https://www.czechfencing.cz/portal/members/detail/1175         = Individual's Profile\n",
    "* https://www.czechfencing.cz/portal/events/detail?eventId=3095  = Event profile with a File included\n",
    "* https://www.czechfencing.cz/user_files/propositions/63541c9150a35/Lazensky-pohar-2022.pdf = File with details\n",
    "\n",
    "* http://sermliga.eu/  = univerzitní liga, 3. kola, 2. teď v praze\n",
    "\n",
    "* http://www.fencing.cz/  = aktivní čeští veteráni - překrývá se s czechfencing, ale jiné turnaje -> zpracovat též"
   ]
  },
  {
   "cell_type": "markdown",
   "id": "bc3b7b05-ead5-4e91-ba16-7912da13a23b",
   "metadata": {
    "jp-MarkdownHeadingCollapsed": true,
    "tags": []
   },
   "source": [
    "### Ideas:\n",
    "\n",
    "##### Hlavní metriky:\n",
    "* Poměr výher/proher\n",
    "* Index = zásahy dal minus dostal\n",
    "* Průměrné umístění (vždy přepočítat na percentily kvůli různým počtům účastníků?)\n",
    "* Počet medailí celkem \n",
    "\n",
    "#### 4 úrovně: Kluby, Závodníci obecně, Zápasy (vzájemné skore dvojic) a pak predikce (sázky, regrese,simulace ...)\n",
    "\n",
    "#### Kluby:\n",
    "* ~~celkový počet členů~~, **V2_Club.html**\n",
    "* ~~věkové statistiky~~ - **V1_Year-Club.html**\n",
    "* žebříčky po turnajích, ~~po medailích,~~  \n",
    "* žebříčky podle typu turnaje (UŠL/ČR/Svět), podle zbraně (Jen kord)\n",
    "* statistiky států (měst) a klubů\n",
    "* průměrný věk a počet nasazených za klub\n",
    "* průměrné umístění za klub v daném turnaji\n",
    "* ~~který klub má kolik medailí.~~  **V4_Medals-Club.html**\n",
    "* pro každého človeka/klub mít průměrný počet zásahů na zápas, přičemž oddělovat poolové a eliminační (15b)\n",
    "* PŘIDAT KROM KLUBU JEŠTĚ MĚSTO, odkud klub pochází?\n",
    "* vyjet si interní statistiky klubu, vzájemné duely, \"žebříček\"\n",
    "\n",
    "#### Závodníci obecně:\n",
    "* ~~věkové statistiky~~ **V1_Year-Club.html**\n",
    "* ~~průměrný \"aktivní\" věk výherců, ale i ten reálný~~ **V3_Medals-Year.html**\n",
    "* ~~(věk - vyhrává stáří a xp vs mládí a energie?)~~\n",
    "* leváci vs praváci. jejich zastoupení u obou pohlaví, u klubů atd.\n",
    "* Do tabulek zápasů si doplnit skore, jaké dostali za ten turnaj -> abych mohl udělat jakoby pseudo žebříček jen na základě těchto bodů\n",
    "* muži vs ženy. věk , rozložení medailí, zbraně, ruka... histogramy\n",
    "* pro každého človeka/klub mít průměrný počet zásahů na zápas, přičemž oddělovat poolové a eliminační (15b)\n",
    "* Znamení zvěrokruhu xD\n",
    "\n",
    "#### Závodníci- profily jednotlivců + vzájemné info (když se vyberou dva lidi), společné zápasy\n",
    "* po zvolení člověka vidím jeho medailonek jako na webu (věk, klub, ??ruka??)\n",
    "* ale taky účast na všech turnajích, co si ještě můřu rozfiltrovat podle typu soutěže: přidat LVL závodu, tj UŠL < Klasický závod < MČR < Evropské < Světové\n",
    "* kalendář, kdy byl aktivní.\n",
    "* nejlepší umístění, průměrné umístění (zas podle typu soutěže)\n",
    "* počet odehraných zápasů, TS, TR ...\n",
    "* největí nemesis, nejlepší terč?\n",
    "* co by koho osobně ještě mohlo zajímat???\n",
    "#### \n",
    "* vzájemné soutěže, kde se potkali, i když spolu třeba nebojovali, nebo i jen ty kde spolu bojovali. - ty zvýraznit\n",
    "* vzájemné souboje, historie duelů pro danou dvojici (nebo klub), skore a počty výher pro každou dvojici. = vybrat si libovolnou dovjici lidí a ukázat celou jejich soubojovu historii, jednak přímé boje, ale i to na kterých turnajích se potkali a jak dopadli.\n",
    "* pořadí, ale i eliminace, kolikrát vypadnutí nazčátku atd., kolikrát ve finále.\n",
    "* počet zápasů. zlepšování se v čase. Sankey diagramy umístění (v rámci klubu?)\n",
    "* overall matice, každý s každým, aby se vidělo, kdo se s kým už potkal ve skupině nebo v eliminaci, ajak to dopadlo. V případě že už vícekrát,tak vytvořit jejich vzájemný skore, podle počtu výher? - příklad A v řádku porazí B ve sloupci ve 2 bojích ze 3, tak dostane skore +2? nebo prostě zelený čtvereček. naopak červený. nebo žlutý na remízu nebo šedivý pokud nic)\n",
    "* vyjet si duely sourozenců\n",
    "\n",
    "#### Predikce (bonusová část)\n",
    "* -> Předpovědět když se potká někdo z SC a někdo z VSK, jak to pravděpodobně dopadne\n",
    "* srovnávačka, jak moc první kolo předpoví i finální výsledek\n",
    "* nějaká regrese, jak se klub a věk podílí na pořadí, resp korelace věku a pořadí. asi bude kvadratický vztah?\n",
    "* regrese - jak se index podepíše na postupu, resp na pozici. protože některé s -16 prošli a čestmír s -6 neprošel\n",
    "* procentuální šance na výhru. Pak by se dalo sázet :O Odhadnout, že Vávra vyhrává 90 % zápasů a nejhůř dává 4 zásahy. Nebo že například Vávra vždy porazil kohokoliv z VUT a Olomouce. \n",
    "* Pokémon systém xD udělat modelové souboje\n",
    "* možnost nasimulovat celý zápas podle historických dat, znovu vytvořit pooly i žebříček\n",
    "* možnost vidět jak by dopadl tehdejší turnaj, kdyby se odehrál dnes -> tj záleží na pořadí a historii zápasů.\n",
    "* v případě simulace celého zápasu, vidět jak by se zpřesNoval kyž mu dodám postupně třeba poolová data."
   ]
  },
  {
   "cell_type": "markdown",
   "id": "d512778e-b293-4714-ba0f-2c0b29bc58ad",
   "metadata": {
    "jp-MarkdownHeadingCollapsed": true,
    "tags": []
   },
   "source": [
    "### Data format:\n",
    "* **Tři tabulky**\n",
    "* 1) **Závodníci** - ID / Jméno / Klub (potenciálně víc)  / Stát / Pohlaví / D.narození / Ruka / Zbraň / Skore v žebříčku k poslednímu update \n",
    "* // dopočítaný počet všech turnajů, počet poolových zápasů a počet eliminačních zápasů, a jejich koeficienty Výher. / Počet vítězství? nebo to až později...\n",
    "\n",
    "* 2) **Eventy** - ID / Datum / Event / Město / Pohlaví / Počet účastníků / Počet účastníků obou pohlaví\n",
    "\n",
    "* 3) **Výsledky Eventů** - ID / ID Event / ID závodníka / Rank ČR před / Rank po Poolu / Status po Poolu (Adv./Elim.)/ Rank Celkově \n",
    "\n",
    "* 4) **Zápasy** - ID / ID Eventu / ID závodníka 1 / ID závodníka 2 / Fight Lvl (Pool/Eliminace_32) / Výsledek (V/D) / Scored / Received \n",
    "\n",
    "#### Zatím:\n",
    "1) **1_zavodnici.xlsx**\n",
    "2) **2_ranky.xlsx** = **Výsledky Eventů**\n",
    "3) **Zápasy** "
   ]
  },
  {
   "cell_type": "markdown",
   "id": "6e846ab0-8b54-49dc-a6a2-9a38751ad3c2",
   "metadata": {
    "tags": []
   },
   "source": [
    "### Notes\n",
    "* https://www.czechfencing.cz/portal/rankings/list - po Exportu vyjede textak, kde sice nejsou body za jendotlivé soutěže, ale je tam zas celé datum narození !\n",
    "\n",
    "* v žebříčcích se dá sehnat 600 bodů za jediný event, i když standardní český turnaj je třeba za 80\n",
    "\n",
    "- ze závodu 09 - MCR USK - tak jsou tam i týmy. hromada dalších tabulek,ale to zatím neřeším beru základ.\n",
    "\n",
    "- zajímavé formátování outputu:\n",
    "| Default | Left-aligned | Center-aligned | Right-aligned |\n",
    "|---------|:-------------|:--------------:|--------------:|\n",
    "| Default | Left | Center | Right |\n",
    "\n",
    "5.1. Souboje s opravami (polovina ženských zápasů):\n",
    "- zavádím tam v eliminaci značení: Eliminace_32, Eliminace_16_A, Eliminace_16_B, \n",
    "- Eliminace_8_A (výherci z 16_A)\n",
    "- Eliminace_16_AB, Eliminace_8_AB (spojení prohraných 16_A a vítězů 16_B, dvakrát po sobě -> 4 zbydou )\n",
    "- Eliminace_8_B (pohravší 8_A a vítězové Eliminace_8_AB)\n",
    "- Eliminace_8 = klasická Osmička, a dál ...\n",
    "\n",
    "\n",
    "- Vizualizace V1-V4 uděat přepínání mezi muži, ženami, a součtem\n",
    "- ještě řeším roky - šlo by místocheckboxů mít ty toggle tlačítka? pokdu každé může mít dva stavy, tak jich prostě mít víc? jen je dobře posčítat pak?\n",
    "- u V3 by bylo hekzé do pozadí dát počet lidí té dané věkovéískupiny, takovou tu populační křivku\n",
    "- step 1 dropdowny na 4 grafy - muží, ženy, součet. \n",
    "- Step 2 možná i dropdown na roky. \n",
    "- step 3) data ženy čistění a ukložení. \n",
    "- 4) spojení s muži\n",
    "- UPRAVIT názvy grafů, aby taky reflektovaly pohlaví? pokud teda budou oddělené.\n",
    "\n",
    "\n",
    "~~--Index je vždycky rozdíl dal-dostal = TS-TR; TS = touche scored = ZD (zásahů dal); TR = touches received ~~--\n",
    "\n",
    "~~-- v posledním turnaji v Písku, všem (mužům) posunuli den narození o den dřív :D včetně mě, Rubeše a všech co jsem si kontrolov.~~-\n",
    "\n",
    "~~Rozbitá jména v písku - ADAM Sykora je Sýkora Adam Herbert~~\n",
    "\n",
    "~~* zrovna VSK Humanita je nějaká divná, protože ve výsledcích turnaje se jmenuje **HF PRAHA**, teď jsem akorát našel **HUMANITA PHA** a taky **VSK HUMANITA**, potom ještě **VSKHPZ** přes Aničku~~\n",
    "\n"
   ]
  },
  {
   "cell_type": "code",
   "execution_count": null,
   "id": "2ec48ec5-258f-4d17-addf-d8bf9f9b02a5",
   "metadata": {},
   "outputs": [],
   "source": [
    "import pandas as pd\n",
    "import numpy as np\n",
    "import os\n",
    "\n",
    "from matplotlib import pyplot as plt\n",
    "from matplotlib.pyplot import figure\n",
    "import plotly.express as px\n",
    "import plotly.io as pio\n",
    "import plotly.graph_objects as go\n",
    "\n",
    "def printbold(s):\n",
    "    print(\"\\033[1m\" + str(s) + \"\\033[0m\")"
   ]
  },
  {
   "cell_type": "markdown",
   "id": "8fba38c4-2676-46a3-932d-138401fece23",
   "metadata": {},
   "source": [
    "# I. PREPROCESSING\n",
    "### ((a zatím nepoužitý výsledek po Poolovém kole))\n",
    "### TO DO: Cleaning ranků (nikoliv Final_ranků), mám tan integery, floaty, a Missing values !!  -> Mrkni do I.7 !!"
   ]
  },
  {
   "cell_type": "markdown",
   "id": "ffb101f7-87cc-4b78-98f7-169a706efd40",
   "metadata": {},
   "source": [
    "## I.1 - LOADING připravených excelů"
   ]
  },
  {
   "cell_type": "markdown",
   "id": "a388e355-3024-4711-bf3c-eba8d7732a6a",
   "metadata": {
    "tags": []
   },
   "source": [
    "* Excel - velká manuální část - stáhnutí PDF tabulek do excelu, přepis Ranků na integer (jsou tam T), namnožení sloupečků s Datumem, Eventem, Pohlavím, sortování první tabulky podle příjmení, Kontrola useknutých jmen,\n",
    "* a hlavně: Vytvoření Poolových tabulek a záznamů z eliminace\n",
    "* Kontrola Birthdate oproti exportu z webu ve formě CSV, a oproti ostatním záznamům z minulých turnajů\n",
    "* chybí mi \"ruka\""
   ]
  },
  {
   "cell_type": "code",
   "execution_count": null,
   "id": "05513422-815a-441a-a1b6-226738fdcd16",
   "metadata": {
    "tags": []
   },
   "outputs": [],
   "source": [
    "files = os.listdir('C:/Users/jzelenka/Documents/python_j/fencing/data/men/')\n",
    "excels = [x for x in files if x.split(\".\")[1]== \"xlsx\"]\n",
    "print(len(excels))\n",
    "excels"
   ]
  },
  {
   "cell_type": "code",
   "execution_count": null,
   "id": "6b03185b-e3d8-4c44-904f-127ffad4c96e",
   "metadata": {},
   "outputs": [],
   "source": [
    "men = ['M_2019_02_Dukla_Olomouc.xlsx','M_2019_04_Jested.xlsx', 'M_2019_05_MCR.xlsx', 'M_2019_10_Lazensky_pohar.xlsx', 'M_2019_11_Pisek.xlsx',\n",
    " 'M_2019_12_Memorial.xlsx',\"M_2020_02_Dukla_Olomouc.xlsx\", \"M_2021_09_MCR.xlsx\",\"M_2021_10_Lazensky_pohar.xlsx\",\"M_2021_11_Pisek.xlsx\", \n",
    "       \"M_2021_12_Memorial.xlsx\", \"M_2022_03_Dukla_Olomouc.xlsx\", \"M_2022_04_Jested.xlsx\",\"M_2022_05_MCR_USK.xlsx\",\n",
    "       \"M_2022_10_Lazensky_pohar.xlsx\", \"M_2022_11_Pisek.xlsx\", \"M_2022_12_Memorial.xlsx\"]\n",
    "print(len(men))\n",
    "women = [\"W_2019_05_MCR.xlsx\", \"W_2019_10_Pohar_CEZ.xlsx\", \"W_2019_12_Cup_USK.xlsx\", \"W_2020_01_Letnany.xlsx\", \n",
    "         \"W_2020_02_Dukla_Olomouc.xlsx\", \"W_2020_09_MCR.xlsx\", \"W_2021_09_MCR.xlsx\", \"W_2021_11_Letnany.xlsx\", \"W_2021_11_Pisek.xlsx\",\n",
    "         \"W_2022_03_Dukla_Olomouc.xlsx\", \"W_2022_04_Teplice.xlsx\", \"W_2022_05_MCR_USK.xlsx\", \"W_2022_10_Lazensky_pohar.xlsx\",\n",
    "         \"W_2022_11_Pisek.xlsx\" , \"W_2022_12_Memorial.xlsx\"]\n",
    "print(len(women))"
   ]
  },
  {
   "cell_type": "code",
   "execution_count": null,
   "id": "65f7ad42-1b94-4790-a1b6-915b4f86f2a2",
   "metadata": {},
   "outputs": [],
   "source": [
    "SEX = \"M\""
   ]
  },
  {
   "cell_type": "code",
   "execution_count": null,
   "id": "15b26a52-74fa-4472-ba4f-ca9d8cd5c4a8",
   "metadata": {
    "tags": []
   },
   "outputs": [],
   "source": [
    "def merge_all(list_of_events, sex):\n",
    "    df_tot = pd.DataFrame(columns = ['Name', 'Club', 'Country', 'Sex', 'Birthdate',\n",
    "                                 \"Date\", \"Event\", \"Rank\", \"Init_rank\", \"First_rank\", \"Final_rank\",\n",
    "                                 \"V\",  \"V/M\",  \"TS\", \"TR\", \"Ind\", \"Notes\"])\n",
    "    if sex == \"M\":\n",
    "        s = \"men\"\n",
    "    else:\n",
    "        s = \"women\"\n",
    "    for event in list_of_events:\n",
    "        e = pd.ExcelFile(f\"C:/Users/jzelenka/Documents/python_j/fencing/data/{s}/\" + event)\n",
    "        df0 = pd.read_excel(e, 'initiation')\n",
    "        df1 = pd.read_excel(e, 'first_round')\n",
    "        df2 = pd.read_excel(e, 'total_rank')\n",
    "        \n",
    "        if len(df0) == len(df1) == len(df2):\n",
    "            if sorted(df0['Name'].unique()) == sorted(df1['Name'].unique()) == sorted(df2['Name'].unique()):\n",
    "                print(f\"Event {event} has {len(df0)} people per each list, {len(df0['Name'].unique())} unique Names\")\n",
    "            else:\n",
    "                printbold(f\"Event {event} has an inconsistency in the uniqueness of names !!!!!!!!\")\n",
    "                printbold(f\"unique names: {len(df0['Name'].unique())}, {len(df1['Name'].unique())}, and {len(df2['Name'].unique())}\")\n",
    "                \n",
    "        else:\n",
    "            printbold(f\"Event {event} has an inconsistency in the length of the lists !!!!!!!!\")\n",
    "            printbold(f\"length initiation: {len(df0)}, first_round: {len(df1)}, and total_rank: {len(df2)}\")\n",
    "            \n",
    "        \n",
    "        df3 = pd.merge(df0, df1, on = ['Name',\"Club\", \"Country\"])\n",
    "        df4 = pd.merge(df3, df2, on = ['Name',\"Club\", \"Country\"])\n",
    "                                                                                                            \n",
    "        if len(df0) == len(df4) and len(df0['Name'].unique()) == len(df4['Name'].unique()):                                               \n",
    "            print(f\"Correct after merging\")\n",
    "        else:\n",
    "            printbold(\"Something is wrong, during merging or before !!!!!!!!!!!!!!!!!!!!\")\n",
    "        \n",
    "        df_tot=df_tot.append(df4)\n",
    "        print(f\"new length of total = {len(df_tot)}\")\n",
    "        printbold(\"####################################\")\n",
    "        \n",
    "    df_tot = df_tot[[\"Name\", \"Club\", \"Country\",\"Birthdate_x\", \"Date_x\", \"Event_x\", \"Sex_x\", \"Rank\", \"First_rank\", \"Final_rank\", \"Notes\"]]\n",
    "    df_tot = df_tot.rename(columns={\"Birthdate_x\":'Birthdate', \"Date_x\": \"Date\", \"Event_x\": \"Event\", \"Sex_x\": \"Sex\" })\n",
    "    df_tot.reset_index(inplace=True, drop = True)\n",
    "    \n",
    "    return df_tot"
   ]
  },
  {
   "cell_type": "code",
   "execution_count": null,
   "id": "e8d791af-9282-4286-8274-3222b9b3a41a",
   "metadata": {
    "tags": []
   },
   "outputs": [],
   "source": [
    "df_m = merge_all(men, \"M\")\n",
    "print(len(df_m))\n",
    "print(df_m.head(2))\n",
    "print(df_m.tail(2))"
   ]
  },
  {
   "cell_type": "code",
   "execution_count": null,
   "id": "82b10cf4-e20b-499f-9317-fdae074a1432",
   "metadata": {
    "tags": []
   },
   "outputs": [],
   "source": [
    "df_m.tail()"
   ]
  },
  {
   "cell_type": "code",
   "execution_count": null,
   "id": "3a37a0f5-d648-432a-9699-abd6fd6b5c9d",
   "metadata": {
    "tags": []
   },
   "outputs": [],
   "source": [
    "display(df_m.describe())\n",
    "#display(df_m.describe(datetime_is_numeric=True))"
   ]
  },
  {
   "cell_type": "code",
   "execution_count": null,
   "id": "e47ce9a7-bb5c-4aac-b7cc-9da45a3842be",
   "metadata": {
    "tags": []
   },
   "outputs": [],
   "source": [
    "for col in df_m.columns:\n",
    "    printbold(f\"# {col}\")\n",
    "    display(df_m[col].value_counts())\n",
    "    printbold(\"######################################\")"
   ]
  },
  {
   "cell_type": "code",
   "execution_count": null,
   "id": "a2ab4528-4c17-44ee-86e1-9ec66e67f8f7",
   "metadata": {
    "tags": []
   },
   "outputs": [],
   "source": [
    "df_m[df_m[\"Notes\"]==\"Withdrew\"]"
   ]
  },
  {
   "cell_type": "markdown",
   "id": "085f3469-cc1c-4fe4-ae2d-eda33fd7c402",
   "metadata": {
    "jupyter": {
     "outputs_hidden": true
    },
    "tags": []
   },
   "source": [
    "## I.2 - Duplicity ve jménech\n",
    "* Export vs. Soutěže (sjednoceno):\n",
    "    * Svoboda Tomáš st. => SVOBODA Tomáš Kristián (st.)\n",
    "    * Svoboda Tomáš ml. => SVOBODA Tomáš (ml.)\n",
    "\n",
    "\n",
    "* Nejasné, beru převládající: LEVI Josef, oproti LEVY Josef"
   ]
  },
  {
   "cell_type": "code",
   "execution_count": null,
   "id": "9b1c200a-8aba-4c98-b390-2a90956a3f8e",
   "metadata": {},
   "outputs": [],
   "source": [
    "# OPRAVA JMEN:\n",
    "# Svoboda Tomáš st. => SVOBODA Tomáš Kristián\n",
    "# Svoboda Tomáš ml. => SVOBODA Tomáš\n",
    "\n",
    "\n",
    "to_replace_man = {\"ADAM Sykora\" : \"SÝKORA Adam Herbert\",\n",
    "             \"ADDO DJAN Theodor\": \"ADDO DJAN Theodor Ezekiel\",\n",
    "             \"ARTAZOV Maxmilian\": \"ARTAZOV Maxmilián\",\n",
    "             \"BOSAK Stepan\": \"BOSÁK Štěpán\",\n",
    "             \"BEDNAR Kryštof\":\"BEDNÁR Kryštof\",  ##?##\n",
    "             \"BRADAC Petr\": \"BRADÁČ Petr\",\n",
    "             \"CAPEK Martin\": \"ČAPEK Martin\",\n",
    "             \"CUPR Michal\": \"ČUPR Michal\",\n",
    "             \"D´AMICO Kristian\": \"D'AMICO Kristian\",\n",
    "             \"DOLEJSI Marek\": \"DOLEJŠÍ Marek\",\n",
    "             \"DUDUC Alex\": \"DUDUC Alex Vladimír\", ##?##\n",
    "             \"DUDUC Alex Vladimir\": \"DUDUC Alex Vladimír\",\n",
    "             \"DUDUC Alex_Vladimír\": \"DUDUC Alex Vladimír\",\n",
    "             \"ERNEÉ Jan\":\"ERNÉE Jan\",\n",
    "             \"FOLDES Tomáš\": \"FÖLDES Tomáš\",\n",
    "             \"HLAVAC Jakub\": \"HLAVÁČ Jakub\",\n",
    "             \"HOBAUS Max\": \"HÖBAUS Max\",\n",
    "             \"HORBACHUCK Yuriy\": \"HORBACHUK Yuriy\",\n",
    "             \"HORBACHUCK Jurij\": \"HORBACHUK Yuriy\",\n",
    "             \"IVANCO Alexander\": \"IVANČO Alexandr\",  ## Alexander -> Alexandr\n",
    "             \"IVANCO Robin\": \"IVANČO Robin\",\n",
    "             \"IVANCO Mikuláš\": \"IVANČO Mikuláš\",\n",
    "             \"JANU Gael\": \"JANŮ Gael\",\n",
    "             \"JILEK Jaroslav\": \"JÍLEK Jaroslav\",\n",
    "             \"JURÁŇ Jiri\": \"JURÁŇ Jiří\",\n",
    "             \"KOURIL Jan\": \"KOUŘIL Jan\",\n",
    "             \"KRUZECKY Tomáš\": \"KROUŽECKÝ Tomáš\",  ##?##\n",
    "             \"KUCHAR Matěj\": \"KUCHAŘ Matěj\",\n",
    "             \"LANIK Jan\": \"LÁNÍK Jan\",\n",
    "             \"LEVY Josef\": \"LEVI Josef\",      ##?##\n",
    "             \"LOKAJ Vaclav\": \"LOKAJ Václav\",\n",
    "             \"LUSTICKY Josef\": \"LUŠTICKÝ Josef\",\n",
    "             \"MOTALIK Libor\": \"MOTALÍK Libor\",\n",
    "             \"NOVAK Martin\": \"NOVÁK Martin\",\n",
    "             \"PAVLIK Matyáš\": \"PAVLÍK Matyáš\",\n",
    "             \"PROCHAZKA Ondřej\": \"PROCHÁZKA Ondřej\",\n",
    "             \"PUSTEJOVSKY Vladimír\": \"PUSTĚJOVSKÝ Vladimír\",\n",
    "             \"RUBES Martin\": \"RUBEŠ Martin\",\n",
    "             \"ŘEZANKA_ST. Ota\": \"ŘEZANKA Ota\",\n",
    "             'SADSKY Jaroslav': 'SADSKÝ Jaroslav',\n",
    "             \"SKROVNY Petr\": \"SKROVNÝ Petr\",\n",
    "             \"SMITKA Jan\": \"SMÍTKA Jan\",\n",
    "             \"SMRCEK Šimon\": \"SMRČEK Šimon\",\n",
    "             \"STIRBER Sebastian\": \"STIRBER Sebastián\",\n",
    "             ################################################\n",
    "             \"SVOBODA Tomáš Kristián\": \"SVOBODA Tomáš Kristián (st.)\",\n",
    "             \"SVOBODA Tomáš_St.\": \"SVOBODA Tomáš Kristián (st.)\",\n",
    "             \"SVOBODA Tomáš_st.\": \"SVOBODA Tomáš Kristián (st.)\",\n",
    "             \"SVOBODA 67 Tomas\": \"SVOBODA Tomáš Kristián (st.)\",\n",
    "             \"SVOBODA ST Tomáš\": \"SVOBODA Tomáš Kristián (st.)\",\n",
    "             \"SVOBODA_ST Tomáš\": \"SVOBODA Tomáš Kristián (st.)\",\n",
    "             \"SVOBODA Tomáš\": \"SVOBODA Tomáš (ml.)\",          # riskantní - ale pak mám kontrolu na r.narození - částečně\n",
    "             \"SVOBODA Tomáš_ml.\": \"SVOBODA Tomáš (ml.)\",\n",
    "             \"SVOBODA Tomáš_Ml.\": \"SVOBODA Tomáš (ml.)\",\n",
    "             \"SVOBODA_ML Tomáš\": \"SVOBODA Tomáš (ml.)\",  \n",
    "             ################################################\n",
    "             \"ŠILHAN Jindřich\": \"ŠILHÁN Jindřich\",\n",
    "             \"ŠTVERAK Martin\": \"ŠTVERÁK Martin\",\n",
    "             \"TABORSKY Lukas\": \"TÁBORSKÝ Lukáš\",\n",
    "             \"TKAČENKO Danil\": \"TKACHENKO Danil\",\n",
    "             \"TUMA Marek\": \"TŮMA Marek\",\n",
    "             \"VACHOVEC Matej\": \"VACHOVEC Matěj\",\n",
    "             \"VALKOVIC Martin\": \"VALKOVIČ Martin\",\n",
    "             \"VAVRA Miroslav\": \"VÁVRA Miroslav\",\n",
    "             \"VONDRA Matous\":\"VONDRA Matouš\"\n",
    "                }\n",
    "                  \n",
    "print(len(to_replace_man))\n",
    "\n",
    "df_m[\"Name\"] = df_m[\"Name\"].replace(to_replace_man)             "
   ]
  },
  {
   "cell_type": "code",
   "execution_count": null,
   "id": "5cd959ae-35a6-49f8-baee-36a4c44ae9b8",
   "metadata": {
    "tags": []
   },
   "outputs": [],
   "source": [
    "# 189 jmen -> 15 orpav -> 142 unikátních jmen\n",
    "\n",
    "to_replace_woman = {\"ADAMCOVA Anita\": \"ADAMCOVÁ Anita\",\n",
    "                    \"AIGERMANOVA Gabriela\": \"AIGERMANOVÁ Gabriela\",\n",
    "                    \"BARTOSKOVA Adéla\": \"BARTOŠKOVÁ Adéla\",\n",
    "                    \"BIELESZOVA Veronika\": \"BIELESZOVÁ Veronika\",\n",
    "                    \"CEJNAROVA Barbora\": \"CEJNAROVÁ Barbora\",\n",
    "                    'CHALUPNÍKOVÁ Arana': 'CHALUPNÍKOVÁ Aranka',\n",
    "                    'CHEVALIER Vira': 'CHEVALLIER Vira',          # novější a častější, + FB check\n",
    "                    \"COUFALOVA Anna\": \"COUFALOVÁ Anna\",\n",
    "                    'DE_VINCENZO Francesca': 'DE VINCENZO Francesca',\n",
    "                    \"DIVISOVA Klára\": \"DIVIŠOVÁ Klára\",\n",
    "                    'DIVIŠOVÁ, ROZ. JÍLKOVÁ Klára': \"DIVIŠOVÁ Klára\",   #tohle je otázka...\n",
    "                    \"FRDLIKOVA Markéta\": \"FRDLÍKOVÁ Markéta\",\n",
    "                    \"HAVLINOVA Tereza\": \"HAVLÍNOVÁ Tereza\",\n",
    "                    'HONOVÁ Markéte': 'HONOVÁ Markéta',\n",
    "                    \"HONOVA Marketa\": \"HONOVÁ Markéta\",\n",
    "                    \"HUNCAROVA Katarína\": \"HUNČÁROVÁ Katarína\",\n",
    "                    'HUNČÁROVÁ Katarina': 'HUNČÁROVÁ Katarína',\n",
    "                    \"CHALUPNIKOVA Aranka\": \"CHALUPNÍKOVÁ Aranka\",\n",
    "                    'JANKOVÁ Karolina': 'JANKOVÁ Karolína',\n",
    "                    \"KAHABKOVA Eliska\": \"KAHABKOVÁ Eliška\",\n",
    "                    'KINCLOVÁ Ema': 'KINCLOVÁ Emma',\n",
    "                    \"KOCOURKOVA Marie\": \"KOCOURKOVÁ Marie\",\n",
    "                    'KOCOUROVÁ Marie': 'KOCOURKOVÁ Marie',     # ověřeno přes datum narození\n",
    "                    'KOŘÍNKOVÁ Magdalena': 'KOŘÍNKOVÁ Magdaléna',\n",
    "                    'KRAUSE Rebeka': 'KRAUSE Rebekka',        # podle FB\n",
    "                    'KŘEČKOVÁ Kamila_Marie': 'KŘEČKOVÁ Kamila',  # naší Kamče jsem zkrátil jméno)\n",
    "                    \"KUHNOVA Korolína\": \"KÜHNOVÁ Karolína\",   # pravděpodobně OK\n",
    "                    \"LASTOVKOVA Tereza\": \"LAŠTOVKOVÁ Tereza\",\n",
    "                    \"MATEJCKOVA Lucie\": \"MATĚJČKOVÁ Lucie\",\n",
    "                    \"MYSKOVA Petra\": \"MYŠKOVÁ Petra\",\n",
    "                    \"NOVAKOVA Petra\": \"NOVÁKOVÁ Petra\",\n",
    "                    \"PECHOVOVA Michala\": \"PĚCHOVOVÁ Michala\",\n",
    "                    \"POKORNA Anna\": \"POKORNÁ Anna\",\n",
    "                    \"POTOCKOVA Katerina\": \"POTOČKOVÁ Kateřina\",\n",
    "                    \"PROKSIKOVA Patricie\": \"PROKŠÍKOVÁ Patricie\",\n",
    "                    'ROSKOVÁ Sonja_Maria': 'ROŠKOVÁ Sonja',        # zkrátil jsem jméno...\n",
    "                    \"SALIGEROVA Katerina\": \"SALIGEROVÁ Kateřina\",\n",
    "                    \"SLUSNA Karolína\": \"SLUŠNÁ Karolína\",\n",
    "                    \"SMIDOVA Daniela\": \"ŠMÍDOVÁ Daniela\",\n",
    "                    \"SYROVATKOVA Iva\": \"SYROVÁTKOVÁ Iva\",\n",
    "                    'TODORYSHYNA Virkoriia': 'TODORYSHYNA Viktoriia',\n",
    "                    \"TUMOVA Šárka\": \"TŮMOVÁ Šárka\",\n",
    "                    'TYRPEKLOVÁ Amálie': 'TYRPEKLOVÁ Amélie',\n",
    "                    \"VACHOVA Tereza\": \"VÁCHOVÁ Tereza\",\n",
    "                    \"VINCENCOVA Ester\": \"VINCENCOVÁ Ester\",\n",
    "                    \"WEISOVA Katerrina\": \"WEISOVÁ Kateřina\",\n",
    "                    \"ZIEGLEROVA Adéla Anna\": \"ZIEGLEROVÁ Adéla Anna\"\n",
    "            }\n",
    "\n",
    "print(len(to_replace_woman))\n",
    "df_m[\"Name\"] = df_m[\"Name\"].replace(to_replace_woman)      "
   ]
  },
  {
   "cell_type": "markdown",
   "id": "1ef107ad-f939-4fb0-a6f8-28e057948c73",
   "metadata": {},
   "source": [
    "## I.3 - Ženy & změny příjmení\n",
    "* Dvě zbývají k ověření"
   ]
  },
  {
   "cell_type": "code",
   "execution_count": null,
   "id": "d1bf8e92-c531-47c6-b25b-fabcaef7fc0f",
   "metadata": {
    "tags": []
   },
   "outputs": [],
   "source": [
    "df2 = df_m.groupby(['Name','Birthdate']).size().reset_index().rename(columns={0:'count'})\n",
    "\n",
    "#vytáhne z groupby, který má 142 unikátních dvojic člověk-datum, počet výskytů datumů narození\n",
    "df2[\"Birthdate\"].value_counts().head(8) \n",
    "\n",
    "# troublemakers:\n",
    "# 2000-03-05   2 -> OK, dvojčata Jasné\n",
    "# 1989-10-11   2 -> VACÍNOVÁ Gabriela -> KORYCH Gabriela, klub sedí, nepřekrývají se, je mezi účastmi pauza...\n",
    "# 1999-01-01   2 -> OK, nesouvisí\n",
    "# 1997-10-04   2 -> ŠEDIVÁ Michaela -> SVOBODA Michaela, klub sedí, nepřekrývají se, je mezi účastmi pauza...\n",
    "# 1995-07-31   2 -> ŠÁMALOVÁ Anna -> POKORNÁ Anna\n",
    "\n",
    "df_m.loc[df_m.Name == \"VACÍNOVÁ Gabriela\", \"Name\"] = \"KORYCH (VACÍNOVÁ) Gabriela\" \n",
    "df_m.loc[df_m.Name == \"KORYCH Gabriela\", \"Name\"]   = \"KORYCH (VACÍNOVÁ) Gabriela\" \n",
    "\n",
    "df_m.loc[df_m.Name == \"ŠEDIVÁ Michaela\", \"Name\"]  = \"SVOBODA (ŠEDIVÁ) Michaela\" \n",
    "df_m.loc[df_m.Name == \"SVOBODA Michaela\", \"Name\"] = \"SVOBODA (ŠEDIVÁ) Michaela\" \n",
    "\n",
    "df_m.loc[df_m.Name == \"ŠÁMALOVÁ Anna\", \"Name\"] = \"POKORNÁ (ŠÁMALOVÁ) Anna\" \n",
    "df_m.loc[df_m.Name == \"POKORNÁ Anna\", \"Name\"]  = \"POKORNÁ (ŠÁMALOVÁ) Anna\" \n"
   ]
  },
  {
   "cell_type": "code",
   "execution_count": null,
   "id": "e282e80b-c062-4926-bb2b-1b086281dfc7",
   "metadata": {
    "tags": []
   },
   "outputs": [],
   "source": [
    "pd.options.display.max_rows = 999\n",
    "printbold(len(df_m[\"Name\"].unique()))"
   ]
  },
  {
   "cell_type": "code",
   "execution_count": null,
   "id": "2909bb71-2275-4486-bc5f-70bbc59c45af",
   "metadata": {
    "tags": []
   },
   "outputs": [],
   "source": [
    "print(sorted(df_m[\"Name\"].unique()))"
   ]
  },
  {
   "cell_type": "markdown",
   "id": "148d20fb-d698-442b-9877-020d4019d8f2",
   "metadata": {},
   "source": [
    "## I.4 - Duplicity v Klubech\n",
    "* Vždy je diskutabilní, který název klubu je ten správný..beru nejdelší \n",
    "* vyřešit kluby: \"UKRAJINA\", \"SVK\", \"GEO\", ...\n",
    "* jeden sporný: ASBVA = Akademie šermu Bratislava??\n",
    "\n",
    "## I.4.1 -  Lidé, co změnili Klub:\n",
    "* **BRADÁČ Petr**: TJ LOKO PLZEN  ->  USK PRAHA\n",
    "* **CIMLER**: Bohemka -> RIEGEL PRAHA \n",
    "* **DUDUC Alex_Vladimír**: BA MPC BRATISLAV -> BSK MARTINENGO\n",
    "* **HABARTA Ondřej**: SS UH.HRADISTE -> SC PRAHA\n",
    "* **HOYER**: SC PRAHA -> TJ SLOVAN HORKY\n",
    "* **JINDRA**: TJ DUKLA PRAHA -> SC PRAHA\n",
    "* **KRAJSA**: SLAVOJ LITOMERICE -> TJ LOKO K.VARY\n",
    "* **KROUŽECKÝ**: TJ LOKO PLZEN -> USK PRAHA\n",
    "* **LOKAJ**: USK PRAHA -> VSK HUMANITA\n",
    "* **NÁROVEC**: OREL HR.KR. -> DUKLA OLOMOUC\n",
    "* **NAVRÁTIL**: TJ SOKOL PLZEŇ-PETŘÍN -> SOKOL PLZEŇ\n",
    "* **SMRČEK**: TJ LOKO PLZEN ->USK PRAHA\n",
    "* **SMÍTKA**: TJ SOKOL PLZEŇ-PETŘÍN -> SOKOL PLZEŇ \n",
    "* **TKACHENKO**: RUS -> SPORTOVNÍ ŠERM ZLÍN\n",
    "* **ZHÁŇAL**: SC PRAHA -> TJ DUKLA PRAHA\n",
    "###### -\n",
    "* **HUNČÁROVÁ**: KS SNINA \n",
    "* **CHEVALLIER**: BOHEMIANS -> VSK HUMANITA\n",
    "* **DOŠKOVÁ**: SLAVOJ LITOMERICE -> USK PRAHA\n",
    "* **FRDLÍKOVÁ**: BOHEMIANS -> VSK HUMANITA\n",
    "* **HUNČÁROVÁ**: KŠ SNINA -> SC PRAHA\n",
    "* **KOŘÍNKOVÁ Magdaléna**: SS UH.HRADISTE -> Dukla Olomouc\n",
    "* **LINDEROVÁ**: AŠ BR -> ASBVA   # možná to není změna..ale nevadí\n",
    "* **MIROVSKÁ**: USK PRAHA -> SC PRAHA\n",
    "* **ŠÁMALOVÁ** USK PRAHA -> VSK HUMANITA"
   ]
  },
  {
   "cell_type": "code",
   "execution_count": null,
   "id": "50a423fb-acf3-421d-ba99-c277e443edaf",
   "metadata": {},
   "outputs": [],
   "source": [
    "df_m.loc[df_m.Name == \"BRADÁČ Petr\", \"Club\"] = \"USK PRAHA\"\n",
    "df_m.loc[df_m.Name == \"CIMLER Čestmír\", \"Club\"] = \"RIEGEL PRAHA\"\n",
    "df_m.loc[df_m.Name == \"DUDUC Alex Vladimír\", \"Club\"] = \"BSK MARTINENGO\"\n",
    "df_m.loc[df_m.Name == \"HABARTA Ondřej\", \"Club\"] = \"SC PRAHA\"\n",
    "df_m.loc[df_m.Name == \"HOYER Martin\", \"Club\"] = \"TJ SLOVAN HORKY\"\n",
    "df_m.loc[df_m.Name == \"JINDRA Jan\", \"Club\"] = \"SC PRAHA\"\n",
    "df_m.loc[df_m.Name == \"KRAJSA Tomáš\", \"Club\"] = \"TJ LOKO K.VARY\"\n",
    "df_m.loc[df_m.Name == \"KROUŽECKÝ Tomáš\", \"Club\"] = \"USK PRAHA\"\n",
    "df_m.loc[df_m.Name == \"LOKAJ Václav\", \"Club\"] = \"VSK HUMANITA\"\n",
    "df_m.loc[df_m.Name == \"NAVRÁTIL Jindřich\", \"Club\"] = \"SOKOL PLZEŇ\"\n",
    "df_m.loc[df_m.Name == \"NÁROVEC Václav\", \"Club\"] = \"DUKLA OLOMOUC\"\n",
    "df_m.loc[df_m.Name == \"SMRČEK Šimon\", \"Club\"] = \"USK PRAHA\"\n",
    "df_m.loc[df_m.Name == \"SMÍTKA Jan\", \"Club\"] = \"SOKOL PLZEŇ\"\n",
    "df_m.loc[df_m.Name == \"TKACHENKO Danil\", \"Club\"] = \"SPORTOVNÍ ŠERM ZLÍN\"\n",
    "df_m.loc[df_m.Name == \"ZHÁŇAL Petr\", \"Club\"] = \"TJ DUKLA PRAHA\"\n",
    "\n",
    "df_m.loc[df_m.Name == \"CHEVALLIER Vira\", \"Club\"] = \"VSK HUMANITA\"\n",
    "df_m.loc[df_m.Name == \"DOŠKOVÁ Kateřina\", \"Club\"] = \"USK PRAHA\"\n",
    "df_m.loc[df_m.Name == \"FRDLÍKOVÁ Markéta\", \"Club\"] = \"VSK HUMANITA\"\n",
    "df_m.loc[df_m.Name == \"HUNČÁROVÁ Katarína\", \"Club\"] = \"SC PRAHA\"\n",
    "df_m.loc[df_m.Name == \"KOŘÍNKOVÁ Magdaléna\", \"Club\"] = \"DUKLA OLOMOUC\" \n",
    "df_m.loc[df_m.Name == \"LINDEROVÁ Nina\", \"Club\"] = \"ASBVA\" \n",
    "df_m.loc[df_m.Name == \"MIROVSKÁ Eliška\", \"Club\"] = \"SC PRAHA\" \n",
    "df_m.loc[df_m.Name == \"POKORNÁ (ŠÁMALOVÁ) Anna\", \"Club\"] = \"VSK HUMANITA\" "
   ]
  },
  {
   "cell_type": "code",
   "execution_count": null,
   "id": "0d01261d-f8ad-4026-8a53-38797256e7d1",
   "metadata": {},
   "outputs": [],
   "source": [
    "to_replace_club = {\n",
    "    \"LOKO K.VARY\": \"TJ LOKO K.VARY\",    ####\n",
    "    \"LOKO KV\": \"TJ LOKO K.VARY\",    \n",
    "    \"TJLKV-ŠZ\": \"TJ LOKO K.VARY\",  \n",
    "    \"LOKOK\": \"TJ LOKO K.VARY\",\n",
    "    \"LOKO KARLOVY VARY-ŠERM, O.S.\": \"TJ LOKO K.VARY\",\n",
    "    \n",
    "    \"LOKO TEPLICE\": \"TJ LOKO TEPLICE\",   ####\n",
    "    \"LOKO TP\": \"TJ LOKO TEPLICE\",\n",
    "    \"TJLTZ\": \"TJ LOKO TEPLICE\",\n",
    "    \"LOKOT\": \"TJ LOKO TEPLICE\",\n",
    "    \"TJ LOKOMOTIVA TEPLICE\": \"TJ LOKO TEPLICE\",\n",
    "    \n",
    "    \"SCPŠS\": \"SC PRAHA\",    ####\n",
    "    \"SCP\": \"SC PRAHA\",\n",
    "    \"SC PRAHA ŠERM, SPOLEK\":\"SC PRAHA\",\n",
    "    \n",
    "    \"D.PRAHA\": \"TJ DUKLA PRAHA\",  ####\n",
    "    \"DUKLA PRAHA\": \"TJ DUKLA PRAHA\", \n",
    "    \"TJDP\": \"TJ DUKLA PRAHA\",\n",
    "    \"TJDPZ\": \"TJ DUKLA PRAHA\",\n",
    "    \"D.PR\": \"TJ DUKLA PRAHA\",\n",
    "    \n",
    "    \"1.1.FC BĚLÁ\": \"1.FC BELA POD BEZ\", ####\n",
    "    \"1.FC BĚLÁ\": \"1.FC BELA POD BEZ\",\n",
    "    \"1.FC BELA\": \"1.FC BELA POD BEZ\",\n",
    "    \"1.FCB\": \"1.FC BELA POD BEZ\",\n",
    "    \"1.FCBPBZ\": \"1.FC BELA POD BEZ\",\n",
    "    \n",
    "    \"LOKO PLZ\": \"TJ LOKO PLZEN\", ####\n",
    "    \"LOKO PLZEŇ\": \"TJ LOKO PLZEN\",\n",
    "    \"TJLPZ\": \"TJ LOKO PLZEN\",\n",
    "    \"TJ LOKOMOTIVA PLZEŇ\": \"TJ LOKO PLZEN\",\n",
    "    \n",
    "    \"S.PÍSEK\": \"TJ SOKOL PÍSEK\", ###\n",
    "    \"TJ SOKOL PISEK\": \"TJ SOKOL PÍSEK\" ,\n",
    "    \"SOKOL PÍSEK\": \"TJ SOKOL PÍSEK\",\n",
    "    \n",
    "    \"HF PRAHA\": \"VSK HUMANITA\", ####\n",
    "    \"HUMANITA PHA\": \"VSK HUMANITA\",\n",
    "    \"VSKHPZ\": \"VSK HUMANITA\",\n",
    "    \"HUM\": \"VSK HUMANITA\",\n",
    "    \n",
    "    \"ČŠKRP\": \"RIEGEL PRAHA\",  ####\n",
    "    \"ČESKŠKRZ\": \"RIEGEL PRAHA\",\n",
    "    \"ČŠK RIEGEL\": \"RIEGEL PRAHA\",\n",
    "    \"RIEGP\": \"RIEGEL PRAHA\",\n",
    "    \"ČESKÝ ŠERMÍŘSKÝ KLUB RIEGEL Z.S.\": \"RIEGEL PRAHA\",\n",
    "    \n",
    "    \"DUKLA OL\": \"TJ DUKLA OLOMOUC\",  ####\n",
    "    \"TĚLOJDOZ\": \"TJ DUKLA OLOMOUC\",\n",
    "    \"D.OL\": \"TJ DUKLA OLOMOUC\",\n",
    "    \"TJ DUKLA OLOMOU\": \"TJ DUKLA OLOMOUC\",\n",
    "    \"D.OLOMOUC\": \"TJ DUKLA OLOMOUC\",\n",
    "    \"Dukla Olomouc\": \"TJ DUKLA OLOMOUC\",\n",
    "    \"DUKLA OLOMOUC\": \"TJ DUKLA OLOMOUC\",\n",
    "    \n",
    "    \"SL.LITOMĚŘICE\": \"TJ SLAVOJ LITOMĚŘICE\", ####\n",
    "    \"SLAVOJ LIT\": \"TJ SLAVOJ LITOMĚŘICE\",\n",
    "    \"SLAVOJ LITOMERIC\": \"TJ SLAVOJ LITOMĚŘICE\",\n",
    "    \"SL.L\": \"TJ SLAVOJ LITOMĚŘICE\",\n",
    "    \"SL. LITOMĚŘICE\": \"TJ SLAVOJ LITOMĚŘICE\",\n",
    "    \"SLAVOJ LITOMERICE\": \"TJ SLAVOJ LITOMĚŘICE\",\n",
    "    \"SLAVOJ LITOMĚŘIC\": \"TJ SLAVOJ LITOMĚŘICE\",\n",
    "    \"SLAVOJ LITOMERICE\": \"TJ SLAVOJ LITOMĚŘICE\",\n",
    "    \"SLAVLZ\": \"TJ SLAVOJ LITOMĚŘICE\",\n",
    "    \n",
    "    \"S.S.UH.HRAD.\": \"SS UH.HRADISTE\", ####\n",
    "     \"S.S.\": \"SS UH.HRADISTE\",\n",
    "    \"TJSSUHZ\": \"SS UH.HRADISTE\",\n",
    "    \"TJ SLOV.SLÁVIA UHERSKÉ HRAD.\": \"SS UH.HRADISTE\",\n",
    "    \n",
    "    \"UNIVSKPS\": \"USK PRAHA\", ####\n",
    "    \"USK PHA\": \"USK PRAHA\",\n",
    "    \"USKP\": \"USK PRAHA\",\n",
    "    \"UNIVERZITNÍ SPORT.KLUB PRAHA\": \"USK PRAHA\",\n",
    "    \n",
    "    \"J.H.BROD\": \"JISKRA H.BROD\",  ####\n",
    "    \"HAV BROD\": \"JISKRA H.BROD\",\n",
    "    \n",
    "    \"SP.Š.ÚSTÍ/L.\": \"SČ USTI NAD LABEM\", ####\n",
    "    \"SPŠ ÚSTÍ\": \"SČ USTI NAD LABEM\",\n",
    "    \"SPORŠÚNLZ\": \"SČ USTI NAD LABEM\",\n",
    "    \"SŠ USTI N. LABEM\": \"SČ USTI NAD LABEM\",\n",
    "    \"SČ USTI NAD LABE\": \"SČ USTI NAD LABEM\",\n",
    "    \"SP.Š\": \"SČ USTI NAD LABEM\",\n",
    "    \n",
    "    \"S.DEJVICE\": \"SOKOL DEJVICE\", ####\n",
    "    \"S.DE\": \"SOKOL DEJVICE\",\n",
    "    \"TJSPDI\": \"SOKOL DEJVICE\", \n",
    "    \"TJ SOKOL PRAHA DEJVICE I\": \"SOKOL DEJVICE\", \n",
    "    \n",
    "    \"EKONOM\": \"EKONOM PRAHA\", ####\n",
    "    \"VYSOTJEPZ\": \"EKONOM PRAHA\",\n",
    "    \"EKONP\": \"EKONOM PRAHA\",\n",
    "    \n",
    "    \"BSKM\": \"BSK MARTINENGO\", ####\n",
    "    \"BŠKMARTINENGO\": \"BSK MARTINENGO\",\n",
    "    \n",
    "    \"ŠERMLZ\": \"ŠERM LIBEREC\", ####\n",
    "    \"SERM LIBEREC\": \"ŠERM LIBEREC\",\n",
    "    \n",
    "    \"SLOV HORKY\": \"TJ SLOVAN HORKY\", ####\n",
    "    \"SLOVAN HORKY\": \"TJ SLOVAN HORKY\", \n",
    "    \"TĚLOJSHZ\": \"TJ SLOVAN HORKY\",\n",
    "    \"SL HORKY\": \"TJ SLOVAN HORKY\",\n",
    "    \n",
    "    \"TJSBI\": \"S.BRNO I\",  ####\n",
    "    \"S.BRNO I\": \"SOKOL BRNO I\",\n",
    "    \"S.BRNO I\": \"SOKOL BRNO I\",\n",
    "    \"TJ SOKOL BRNO I\": \"SOKOL BRNO I\",\n",
    "    \"S.BRI\": \"SOKOL BRNO I\",\n",
    "    \n",
    "    \"AKADSB\": \"AKADÉMIA ŠERMU BRATISLAVA\",  ####\n",
    "    \n",
    "    \"SLAV ČTĚŠ\": \"SLAVOJ Č.TĚŠÍN\", ####\n",
    "    \"SLAVOJ TESIN\": \"SLAVOJ Č.TĚŠÍN\",\n",
    "    \"SL.Č.TĚŠÍN\": \"SLAVOJ Č.TĚŠÍN\",\n",
    "    \"TJSČTZ\": \"SLAVOJ Č.TĚŠÍN\",\n",
    "    \"SLAVOJ Č. TĚŠÍN\": \"SLAVOJ Č.TĚŠÍN\",\n",
    "    \n",
    "    \"OREL HK\": \"OREL HR.KR.\", ####\n",
    "    \"ORELJHK\": \"OREL HR.KR.\",\n",
    "    \n",
    "    \"SP.Š. TÁBOR\": \"SPORTOVNÍ ŠERM TÁBOR\", ####\n",
    "    \"SP Š TÁBOR\": \"SPORTOVNÍ ŠERM TÁBOR\",\n",
    "    \"SP.Š.TÁBOR\": \"SPORTOVNÍ ŠERM TÁBOR\",\n",
    "    \"ŠERM TÁBOR\": \"SPORTOVNÍ ŠERM TÁBOR\",\n",
    "    \"TABOR\": \"SPORTOVNÍ ŠERM TÁBOR\",\n",
    "    \n",
    "    \"SPORT. ŠERM ZLÍN\": \"SPORTOVNÍ ŠERM ZLÍN\", ###\n",
    "    \"SPORŠZZ\": \"SPORTOVNÍ ŠERM ZLÍN\",\n",
    "    \"SP.Š.ZLÍN\": \"SPORTOVNÍ ŠERM ZLÍN\",\n",
    "    \n",
    "    ###   \n",
    "    \"LOKOP\": \"TJ LOKO PLZEN\",\n",
    "    \"OREL H.K.\" : \"OREL HR.KR.\",\n",
    "    \"OREL, JEDNOTA HRADEC KRÁL.\": \"OREL HR.KR.\",\n",
    "    \"SP PLZEŇ\": \"SOKOL PLZEŇ\",\n",
    "    \"SOKOL PLZEN\": \"SOKOL PLZEŇ\",\n",
    "    \"BOHEP\": \"BOHEMIANS\",\n",
    "    \"KS SNINA\": \"KŠ SNINA\",  # Klub šermu snina\n",
    "    \"AŠ BR\": \"AŠ BRATISLAVA\",\n",
    "    \"BA MPC BRATISLAV\": \"BA MPC\",\n",
    "            }\n",
    "\n",
    "df_m[\"Club\"] = df_m[\"Club\"].replace(to_replace_club)"
   ]
  },
  {
   "cell_type": "code",
   "execution_count": null,
   "id": "286fa057-012e-4285-b097-f03ce389000d",
   "metadata": {
    "tags": []
   },
   "outputs": [],
   "source": [
    "men_clubs = df_m.groupby(['Name','Club']).size().reset_index().rename(columns={0:'count'})\n",
    "# .size() vs .count(), zajímavé\n",
    "\n",
    "printbold(len(men_clubs))\n",
    "#men_clubs"
   ]
  },
  {
   "cell_type": "markdown",
   "id": "be30c8ce-2c37-44c3-b253-0b8ffcf4d9a7",
   "metadata": {},
   "source": [
    "## I.5 -  Duplicity v Datumech narození - NEJASNE \n",
    "* předpoklad - kdo má 1.1., tak datum nejdřív nevěděli, později doplnili\n",
    "* toto aplikuji sem: BALCAR Josef, BEDNÁR Kryštof, GRUMMICH Petr, HEREY Anatoliy, CHLEBÍK Michal, JAVAKHISHVILI Georgii,JURÁŇ Jiří, MIČINEC Adam, NOVOTNÝ Šimon, STEHLÍK Jan, STOLAR Samuel, SZALAY Jan, SVOBODA Tomáš Kristián (st.), TÁBORSKÝ Lukáš, VACH Daniel,VÁVRA Miroslav, VÁVRA Vojtěch,\n",
    "* DUDUC Alex Vladimir (má 3 různé - zatím volím 1.6.97)\n",
    "* GAISLER Jakub (jiný měsíc - zatím volím 29.4., byl víckrát, shodně s exportem Mužů)\n",
    "* KURÁŇ Martin (stále o den - zatím volím 24.8., shodně s exportem Mužů)\n",
    "* OMELKA Jakub - dvě verze, volím častější: 1994-07-22\n",
    "* Stehlík Vojtěch - na webu 2001, ale v Lázenském poháru 2011 = to musí být error\n",
    "* SVOBODA Bohumil Jiří - dva různé datumy, volím ten častější 2003-03-17\n",
    "\n",
    "#### ženy\n",
    "* 1.1. vs. Jiné datum: CHEVALLIER Vira, COUFALOVÁ Anna, JASNÁ Adéla, JASNÁ Tereza, JELÍNKOVÁ Martina, KRAUSE Rebekka, KŘEČKOVÁ Kamila, \n",
    "* PROKŠÍKOVÁ Patricie, ROŠKOVÁ Sonja, SALIGEROVÁ Kateřina, SYROVÁTKOVÁ Iva, VACKOVÁ Tereza, VOLÁKOVÁ Hana, VRŠNÍKOVÁ Karolína, ŠPATENKOVÁ Anna\n",
    "* DOŠKOVÁ Kateřina - Dvě různé, volím to častější (1999-12-22)\n",
    "* NOVOTNÁ Veronika - dvě různé, to častější a dávající smysl (2000-11-11)\n",
    "* URBÁNKOVÁ Klára - dvě různé, to častější (2005-05-04)"
   ]
  },
  {
   "cell_type": "code",
   "execution_count": null,
   "id": "8804f25f-c373-415e-ac19-5cc03459c8fb",
   "metadata": {
    "tags": []
   },
   "outputs": [],
   "source": [
    "men_birthdates = df_m.groupby(['Name','Birthdate']).size().reset_index().rename(columns={0:'count'})\n",
    "printbold(len(men_birthdates))\n",
    "print(len(men_birthdates))"
   ]
  },
  {
   "cell_type": "code",
   "execution_count": null,
   "id": "59e9d535-76b2-4fb8-a0e4-16bdbea503f3",
   "metadata": {
    "tags": []
   },
   "outputs": [],
   "source": [
    "## Problémisti:\n",
    "\n",
    "df2 = df_m.groupby(['Name','Birthdate']).size().reset_index().rename(columns={0:'count'})\n",
    "df2 = df2[[\"Name\", \"Birthdate\"]]\n",
    "#display(df2)\n",
    "v = df2.Name.value_counts()   # kolikrát se jméno objevuje v našem Name-Birthdate groupáči, kde jsou unikátní dvojice\n",
    "df2[df2.Name.isin(v.index[v.gt(1)])]  # nevím co je to v.gt(1), ale 1 v tuto chvíli říká 2 a více výskytů :D"
   ]
  },
  {
   "cell_type": "code",
   "execution_count": null,
   "id": "7bc549b9-6ff2-493a-9338-b154ea3b7ca2",
   "metadata": {},
   "outputs": [],
   "source": [
    "## MANUÁLNÍ OPRAVA Muži\n",
    "\n",
    "df_m.loc[df_m.Name == \"BALCAR Josef\", \"Birthdate\"] = \"1998-10-31\"\n",
    "df_m.loc[df_m.Name == \"BEDNÁR Kryštof\", \"Birthdate\"] = \"1997-04-02\"\n",
    "df_m.loc[df_m.Name == \"DUDUC Alex Vladimír\", \"Birthdate\"] = \"1997-06-01\"\n",
    "df_m.loc[df_m.Name == \"GAISLER Jakub\", \"Birthdate\"] = \"2005-04-29\"\n",
    "df_m.loc[df_m.Name == \"GRUMMICH Petr\", \"Birthdate\"] = \"1991-11-20\"\n",
    "df_m.loc[df_m.Name == \"HEREY Anatoliy\", \"Birthdate\"] = \"1989-03-31\"\n",
    "df_m.loc[df_m.Name == \"CHLEBÍK Michal\", \"Birthdate\"] = \"1987-08-05\"\n",
    "df_m.loc[df_m.Name == \"JAVAKHISHVILI Georgii\", \"Birthdate\"] = \"1999-05-05\"\n",
    "df_m.loc[df_m.Name == \"JURÁŇ Jiří\", \"Birthdate\"] = \"2003-09-14\"\n",
    "df_m.loc[df_m.Name == \"KURÁŇ Martin\", \"Birthdate\"] = \"2005-08-24\"\n",
    "df_m.loc[df_m.Name == \"MIČINEC Adam\", \"Birthdate\"] = \"1991-07-01\"\n",
    "df_m.loc[df_m.Name == \"NOVOTNÝ Šimon\", \"Birthdate\"] = \"2006-05-17\"\n",
    "df_m.loc[df_m.Name == \"OMELKA Jakub\", \"Birthdate\"] = \"1994-07-22\"\n",
    "df_m.loc[df_m.Name == \"STEHLÍK Jan\", \"Birthdate\"] = \"1999-02-28\"\n",
    "df_m.loc[df_m.Name == \"STOLAR Samuel\", \"Birthdate\"] = \"1998-06-16\"\n",
    "df_m.loc[df_m.Name == \"SVOBODA Tomáš Kristián (st.)\", \"Birthdate\"] = \"1967-09-09\"\n",
    "df_m.loc[df_m.Name == \"SZALAY Jan\", \"Birthdate\"] = \"1992-06-29\"\n",
    "df_m.loc[df_m.Name == \"TÁBORSKÝ Lukáš\", \"Birthdate\"] = \"2004-06-03\"\n",
    "df_m.loc[df_m.Name == \"VACH Daniel\", \"Birthdate\"] = \"2005-07-23\"\n",
    "df_m.loc[df_m.Name == \"VÁVRA Miroslav\", \"Birthdate\"] = \"1961-08-17\"\n",
    "df_m.loc[df_m.Name == \"VÁVRA Vojtěch\", \"Birthdate\"] = \"1996-11-19\"\n",
    "\n",
    "# ?????\n",
    "df_m.loc[df_m.Name == \"IVANČO Robin\", \"Birthdate\"] = \"1999-10-08\"\n",
    "df_m.loc[df_m.Name == \"JIRAN Jan\", \"Birthdate\"] = \"1996-07-31\"\n",
    "df_m.loc[df_m.Name == \"JURKA Jakub\", \"Birthdate\"] = \"1999-06-13\"\n",
    "df_m.loc[df_m.Name == \"JURKA Tomáš\", \"Birthdate\"] = \"1997-01-20\"\n",
    "df_m.loc[df_m.Name == \"MAZANEC Matěj\", \"Birthdate\"] = \"1998-03-02\"\n",
    "df_m.loc[df_m.Name == \"OSIČKA Adam\", \"Birthdate\"] = \"2000-10-22\"\n",
    "df_m.loc[df_m.Name == \"PRYL Dobromil\", \"Birthdate\"] = \"1975-05-06\"\n",
    "df_m.loc[df_m.Name == \"STEHLÍK Vojtěch\", \"Birthdate\"] = \"2001-11-07\"\n",
    "df_m.loc[df_m.Name == \"SVOBODA Bohumil Jiří\", \"Birthdate\"] = \"2003-03-17\"\n",
    "df_m.loc[df_m.Name == \"TKACHENKO Danil\", \"Birthdate\"] = \"2000-10-31\"\n"
   ]
  },
  {
   "cell_type": "code",
   "execution_count": null,
   "id": "17b06a4f-42f8-4814-8627-8cfe91ec85ae",
   "metadata": {},
   "outputs": [],
   "source": [
    "## MANUÁLNÍ OPRAVA Ženy\n",
    "\n",
    "df_m.loc[df_m.Name == \"CHEVALLIER Vira\", \"Birthdate\"] = \"1992-12-18\"\n",
    "df_m.loc[df_m.Name == \"COUFALOVÁ Anna\", \"Birthdate\"] = \"2000-04-01\"\n",
    "df_m.loc[df_m.Name == \"DOŠKOVÁ Kateřina\", \"Birthdate\"] = \"1999-12-22\"\n",
    "df_m.loc[df_m.Name == \"JASNÁ Adéla\", \"Birthdate\"] = \"2000-03-05\"\n",
    "df_m.loc[df_m.Name == \"JASNÁ Tereza\", \"Birthdate\"] = \"2000-03-05\"\n",
    "df_m.loc[df_m.Name == \"JELÍNKOVÁ Martina\", \"Birthdate\"] = \"1998-03-09\"\n",
    "df_m.loc[df_m.Name == \"KRAUSE Rebekka\", \"Birthdate\"] = \"2000-12-27\"\n",
    "df_m.loc[df_m.Name == \"KŘEČKOVÁ Kamila\", \"Birthdate\"] = \"1997-09-08\"\n",
    "df_m.loc[df_m.Name == \"NOVOTNÁ Veronika\", \"Birthdate\"] = \"2000-11-11\"\n",
    "df_m.loc[df_m.Name == \"PROKŠÍKOVÁ Patricie\", \"Birthdate\"] = \"2002-07-07\"\n",
    "df_m.loc[df_m.Name == \"ROŠKOVÁ Sonja\", \"Birthdate\"] = \"2000-02-10\"\n",
    "df_m.loc[df_m.Name == \"SALIGEROVÁ Kateřina\", \"Birthdate\"] = \"1999-06-14\"\n",
    "df_m.loc[df_m.Name == \"SYROVÁTKOVÁ Iva\", \"Birthdate\"] = \"1998-11-02\"\n",
    "df_m.loc[df_m.Name == \"URBÁNKOVÁ Klára\", \"Birthdate\"] = \"2005-05-04\"\n",
    "df_m.loc[df_m.Name == \"VACKOVÁ Tereza\", \"Birthdate\"] = \"1991-12-04\"\n",
    "df_m.loc[df_m.Name == \"VOLÁKOVÁ Hana\", \"Birthdate\"] = \"2002-07-04\"\n",
    "df_m.loc[df_m.Name == \"VRŠNÍKOVÁ Karolína\", \"Birthdate\"] = \"1991-04-02\"\n",
    "df_m.loc[df_m.Name == \"ŠPATENKOVÁ Anna\", \"Birthdate\"] = \"1999-09-26\"\n"
   ]
  },
  {
   "cell_type": "markdown",
   "id": "ec681fc9-e6f7-409e-b81f-ff4a4e924472",
   "metadata": {},
   "source": [
    "## Četnost Birthdate, jestli se neopakuje u různých lidí\n",
    "* Jedni sourozenci\n",
    "* Jednou je to asi souhra náhoda\n",
    "* Dvakrát je to 1.1. Error datum\n",
    "* Jednou jsou to PLN, asi nedbalost vyplňování"
   ]
  },
  {
   "cell_type": "code",
   "execution_count": null,
   "id": "13fd95bc-6f7e-4eaf-813b-900afb657866",
   "metadata": {},
   "outputs": [],
   "source": [
    "#V1 viz výše - ořezáno\n",
    "\n",
    "df2 = df_m.groupby(['Name','Birthdate']).size().reset_index().rename(columns={0:'count'})\n",
    "df2 = df2[[\"Name\", \"Birthdate\"]]\n",
    "display(df2.Birthdate.value_counts().head(10))\n",
    "\n",
    "# V2\n",
    "#df_m[df_m.groupby('Birthdate')['Birthdate'].transform('size') > 1]\n"
   ]
  },
  {
   "cell_type": "code",
   "execution_count": null,
   "id": "91a93f28-8b70-4563-a311-df96b4880336",
   "metadata": {},
   "outputs": [],
   "source": [
    "df_m[df_m[\"Birthdate\"]==\"1996-01-01\"]"
   ]
  },
  {
   "cell_type": "markdown",
   "id": "ac46971c-922b-40b1-a336-f43a405719c9",
   "metadata": {},
   "source": [
    "## I.6 - Kontrola zemí \n",
    "\n",
    "* DUDUC Alex Vladimir & STEIS Matúš - oba víckrát SVK než CZE -> SVK\n",
    "* CHEVALLIER Vira = CZE podle většiny\n",
    "* CHLEBÍK Michal - půl napůl -> vyberu CZE\n",
    "* HUNČÁROVÁ Katarína - má to tak půl napůl -> novější =  SVK\n",
    "* SZALAY Jan -> novější =  CZE\n",
    "* TODORYSHYNA Viktoriia - půl napůl -> novější = UKR\n",
    "* YOUSEF Mira - půl napůl -> novější = UKR\n"
   ]
  },
  {
   "cell_type": "code",
   "execution_count": null,
   "id": "e40214a4-a4b9-4f06-82fd-13003a38fe93",
   "metadata": {
    "tags": []
   },
   "outputs": [],
   "source": [
    "men_countries = df_m.groupby(['Name','Club', \"Country\", \"Sex\", \"Birthdate\"]).size().reset_index().rename(columns={0:'count'})\n",
    "printbold(len(men_countries))\n",
    "#men_countries"
   ]
  },
  {
   "cell_type": "code",
   "execution_count": null,
   "id": "d1c5a94a-e4ae-4cea-920a-c7b83570a52f",
   "metadata": {},
   "outputs": [],
   "source": [
    "df_m.loc[df_m.Name == \"BÉREŠ Daniel\", \"Country\"] = \"CZE\"\n",
    "df_m.loc[df_m.Name == \"DUDUC Alex Vladimír\", \"Country\"] = \"SVK\"\n",
    "df_m.loc[df_m.Name == \"CHLEBÍK Michal\", \"Country\"] = \"CZE\"\n",
    "df_m.loc[df_m.Name == \"STEIS Matúš\", \"Country\"] = \"SVK\"\n",
    "df_m.loc[df_m.Name == \"SZALAY Jan\", \"Country\"] = \"CZE\"\n",
    "\n",
    "df_m.loc[df_m.Name == \"CHEVALLIER Vira\", \"Country\"] = \"CZE\"\n",
    "df_m.loc[df_m.Name == \"HUNČÁROVÁ Katarína\", \"Country\"] = \"SVK\"\n",
    "df_m.loc[df_m.Name == \"TODORYSHYNA Viktoriia\", \"Country\"] = \"UKR\"\n",
    "df_m.loc[df_m.Name == \"YOUSEF Mira\", \"Country\"] = \"UKR\""
   ]
  },
  {
   "cell_type": "markdown",
   "id": "125beca7-62ac-41ca-96c3-ed27016a3900",
   "metadata": {},
   "source": [
    "## I.7 - Kontrola Final Ranků\n",
    "* otázka: čím nahradit DNF? 99 ? 999? Pomlčkou, a pak vynechávat?"
   ]
  },
  {
   "cell_type": "code",
   "execution_count": null,
   "id": "6cea1b32-0f4f-403e-8e2a-f0bc115ab718",
   "metadata": {
    "tags": []
   },
   "outputs": [],
   "source": [
    "df_m[\"Final_rank\"].value_counts()\n",
    "\n",
    "df_m[\"Final_rank\"] = df_m[\"Final_rank\"].replace({\"DNF\": 999})"
   ]
  },
  {
   "cell_type": "code",
   "execution_count": null,
   "id": "2eb2076b-b02f-469f-bae2-9d79d7b91eb4",
   "metadata": {
    "tags": []
   },
   "outputs": [],
   "source": [
    "# divná syntax, buď používám přímo na df, a k tomu .any(axis=1)\n",
    "# nebo zvolím soupec a pak nejde nic, ani isnull(), ani s any(), ani s any(axis=1)\n",
    "df_m[df_m.isnull().any(axis=1)]"
   ]
  },
  {
   "cell_type": "code",
   "execution_count": null,
   "id": "5e94961f-1c3d-4187-b793-78e4aa1ae996",
   "metadata": {
    "tags": []
   },
   "outputs": [],
   "source": [
    "df_m[df_m.Name == \"JURKA Jakub\"]  # opravdu, měl dvě čisté výhry turnajů - Not any more,  mám tu vícero turnajů už "
   ]
  },
  {
   "cell_type": "code",
   "execution_count": null,
   "id": "b274b262-430f-417c-86b0-824cb2600f0b",
   "metadata": {
    "tags": []
   },
   "outputs": [],
   "source": [
    "# seřazeno podle průměrného Final_ranku přes všechyn jejich závody\n",
    "# samozřemě DNF = 999 mi to pokazí\n",
    "\n",
    "df_m.groupby('Name')['Final_rank'].mean().round(1).sort_values().head(10)"
   ]
  },
  {
   "cell_type": "markdown",
   "id": "1bc96737-d841-47bc-a6e6-e81132838b58",
   "metadata": {},
   "source": [
    "## I.8 - Finální Kontrola, na počet unikátních jedinců, pro porovnání se stávajícími excely:"
   ]
  },
  {
   "cell_type": "code",
   "execution_count": null,
   "id": "cc99c6ee-409d-49d2-bd22-c20863164e93",
   "metadata": {
    "tags": []
   },
   "outputs": [],
   "source": [
    "df_fin = df_m.groupby(['Name','Birthdate', \"Club\", \"Country\"]).size().reset_index().rename(columns={0:'count'})\n",
    "printbold(len(df_fin))\n",
    "df_fin"
   ]
  },
  {
   "cell_type": "markdown",
   "id": "66496510-ae56-4e52-8208-6c75738f3bc3",
   "metadata": {},
   "source": [
    "## I.9 - Vytvoření tabulky závodníků a tabulky Ranků. Ještě bude tabulka zápasů\n",
    "* vyřešit sortování jmen dle české abecedy\n",
    "* Případně příjmení psát bez diakritiky...\n",
    "\n",
    "* ID / Jméno /Klub (potenciálně víc) / Stát / Pohlaví / D.narození / Ruka / Zbraň / Skore v žebříčku k poslednímu update \n",
    "* // dopočítaný počet všech turnajů, počet poolových zápasů a počet eliminačních zápasů, a jejich koeficienty Výher. / Počet vítězství? nebo to až později...\n"
   ]
  },
  {
   "cell_type": "code",
   "execution_count": null,
   "id": "5b096f6e-be3b-4eb5-b92d-0cfd74a8d55f",
   "metadata": {},
   "outputs": [],
   "source": [
    "df_m[\"Year\"]  = pd.DatetimeIndex(df_m['Birthdate']).year\n",
    "printbold(len(df_m))"
   ]
  },
  {
   "cell_type": "code",
   "execution_count": null,
   "id": "6af9c0c4-6f6c-426b-8d25-42aa6f7a7a45",
   "metadata": {
    "tags": []
   },
   "outputs": [],
   "source": [
    "df_m_people = df_m.groupby(['Name','Club', \"Country\", \"Sex\", \"Birthdate\", \"Year\"]).size().reset_index().rename(columns={0:'count'})\n",
    "df_m_people = df_m_people[[\"Name\", \"Club\", \"Country\", \"Sex\", \"Birthdate\", \"Year\"]]\n",
    "\n",
    "df_m_people.to_excel(f\"C:/Users/jzelenka/Documents/python_j/fencing/1_zavodnici_{SEX}_NEW.xlsx\", index=False)\n",
    "df_m.to_excel(f\"C:/Users/jzelenka/Documents/python_j/fencing/2_ranky_{SEX}_NEW.xlsx\", index=False)\n",
    "\n",
    "printbold(len(df_m_people))\n",
    "df_m_people.head(2)\n",
    "df_m_people.tail(2)"
   ]
  },
  {
   "cell_type": "markdown",
   "id": "4274af37-2953-4468-b7f7-dde7e96ede64",
   "metadata": {
    "jp-MarkdownHeadingCollapsed": true,
    "tags": []
   },
   "source": [
    "## The End\n",
    "\n",
    "## --> Fencing_Visualizations"
   ]
  }
 ],
 "metadata": {
  "kernelspec": {
   "display_name": "Python 3 (ipykernel)",
   "language": "python",
   "name": "python3"
  },
  "language_info": {
   "codemirror_mode": {
    "name": "ipython",
    "version": 3
   },
   "file_extension": ".py",
   "mimetype": "text/x-python",
   "name": "python",
   "nbconvert_exporter": "python",
   "pygments_lexer": "ipython3",
   "version": "3.9.12"
  },
  "vscode": {
   "interpreter": {
    "hash": "c0ba1f5d10f3fed5a5402e4b34f8af18ee84350ba327ed92312810a0d943b994"
   }
  }
 },
 "nbformat": 4,
 "nbformat_minor": 5
}
