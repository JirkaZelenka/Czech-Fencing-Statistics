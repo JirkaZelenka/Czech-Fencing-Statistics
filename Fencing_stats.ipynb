{
 "cells": [
  {
   "cell_type": "markdown",
   "id": "986af948-a877-4360-a52e-13ec29496562",
   "metadata": {},
   "source": [
    "## Fencing Statistics - ČR and World\n",
    "#### 7.11.2022 After a competition in Písek (5.-6.11.2022)\n",
    "#### 8.12. still manually preparing Men data...\n",
    "#### 21.12. creating local repo and GITHub https://github.com/JirkaZelenka/Czech-Fencing-Statistics"
   ]
  },
  {
   "cell_type": "markdown",
   "id": "edf3deb9-7261-4b3c-ad59-0854080788d4",
   "metadata": {},
   "source": [
    "* https://fie.org/athletes/                                      = Individual's Profile, D.o.B.\n",
    "* https://fie.org/competitions                                   = Event profile\n",
    "\n",
    "* https://www.czechfencing.cz/portal/teams/detail/14             = Club's profile\n",
    "* https://www.czechfencing.cz/portal/rankings/list               = Rankings + filters \n",
    "* https://www.czechfencing.cz/portal/members/detail/1175         = Individual's Profile\n",
    "* https://www.czechfencing.cz/portal/events/detail?eventId=3095  = Event profile with a File included\n",
    "* https://www.czechfencing.cz/user_files/propositions/63541c9150a35/Lazensky-pohar-2022.pdf = File with details\n",
    "\n",
    "* http://sermliga.eu/  = univerzitní liga, 3. kola, 2. teď v praze"
   ]
  },
  {
   "cell_type": "markdown",
   "id": "bc3b7b05-ead5-4e91-ba16-7912da13a23b",
   "metadata": {
    "jp-MarkdownHeadingCollapsed": true,
    "tags": []
   },
   "source": [
    "### Ideas:\n",
    "\n",
    "##### Hlavní metriky:\n",
    "* Poměr výher/proher\n",
    "* Index = zásahy dal minus dostal\n",
    "* Průměrné umístění (vždy přepočítat na percentily kvůli různým počtům účastníků?)\n",
    "* Počet medailí celkem \n",
    "\n",
    "#### 4 úrovně: Kluby, Závodníci obecně, Zápasy (vzájemné skore dvojic) a pak predikce (sázky, regrese,simulace ...)\n",
    "\n",
    "#### Kluby:\n",
    "* ~~celkový počet členů~~, **V2_Club.html**\n",
    "* ~~věkové statistiky~~ - **V1_Year-Club.html**\n",
    "* žebříčky po turnajích, ~~po medailích,~~  \n",
    "* žebříčky podle typu turnaje (UŠL/ČR/Svět), podle zbraně (Jen kord)\n",
    "* statistiky států (měst) a klubů\n",
    "* průměrné umístění za klub v daném turnaji\n",
    "* ~~který klub má kolik medailí.~~  **V4_Medals-Club.html**\n",
    "* pro každého človeka/klub mít průměrný počet zásahů na zápas, přičemž oddělovat poolové a eliminační (15b)\n",
    "* PŘIDAT KROM KLUBU JEŠTĚ MĚSTO, odkud klub pochází?\n",
    "\n",
    "#### Závodníci obecně:\n",
    "* ~~věkové statistiky~~ **V1_Year-Club.html**\n",
    "* ~~průměrný \"aktivní\" věk výherců, ale i ten reálný~~ **V3_Medals-Year.html**\n",
    "* ~~(věk - vyhrává stáří a xp vs mládí a energie?)~~\n",
    "* leváci vs praváci. jejich zastoupení u obou pohlaví, u klubů atd.\n",
    "* muži vs ženy. věk , rozložení medailí, zbraně, ruka... histogramy\n",
    "* pro každého človeka/klub mít průměrný počet zásahů na zápas, přičemž oddělovat poolové a eliminační (15b)\n",
    "* Znamení zvěrokruhu xD\n",
    "\n",
    "#### Závodníci- profily jednotlivců + vzájemné info (když se vyberou dva lidi), společné zápasy\n",
    "* po zvolení člověka vidím jeho medailonek jako na webu (věk, klub, ??ruka??)\n",
    "* ale taky účast na všech turnajích, co si ještě můřu rozfiltrovat podle typu soutěže.\n",
    "* kalendář, kdy byl aktivní.\n",
    "* nejlepší umístění, průměrné umístění (zas podle typu soutěže)\n",
    "* počet odehraných zápasů, TS, TR ...\n",
    "* největí nemesis, nejlepší terč?\n",
    "* co by koho osobně ještě mohlo zajímat???\n",
    "#### \n",
    "* vzájemné soutěže, kde se potkali, i když spolu třeba nebojovali\n",
    "* vzájemné souboje, historie duelů pro danou dvojici (nebo klub), skore a počty výher pro každou dvojici. = vybrat si libovolnou dovjici lidí a ukázat celou jejich soubojovu historii, jednak přímé boje, ale i to na kterých turnajích se potkali a jak dopadli.\n",
    "* pořadí, ale i eliminace, kolikrát vypadnutí nazčátku atd., kolikrát ve finále.\n",
    "* počet zápasů. zlepšování se v čase. Sankey diagramy umístění (v rámci klubu?)\n",
    "* overall matice, každý s každým, aby se vidělo, kdo se s kým už potkal ve skupině nebo v eliminaci, ajak to dopadlo. V případě že už vícekrát,tak vytvořit jejich vzájemný skore, podle počtu výher? - příklad A v řádku porazí B ve sloupci ve 2 bojích ze 3, tak dostane skore +2? nebo prostě zelený čtvereček. naopak červený. nebo žlutý na remízu nebo šedivý pokud nic)\n",
    "\n",
    "#### Predikce (bonusová část)\n",
    "* -> Předpovědět když se potká někdo z SC a někdo z VSK, jak to pravděpodobně dopadne\n",
    "* srovnávačka, jak moc první kolo předpoví i finální výsledek\n",
    "* nějaká regrese, jak se klub a věk podílí na pořadí, resp korelace věku a pořadí. asi bude kvadratický vztah?\n",
    "* regrese - jak se index podepíše na postupu, resp na pozici. protože některé s -16 prošli a čestmír s -6 neprošel\n",
    "* procentuální šance na výhru. Pak by se dalo sázet :O Odhadnout, že Vávra vyhrává 90 % zápasů a nejhůř dává 4 zásahy. Nebo že například Vávra vždy porazil kohokoliv z VUT a Olomouce. \n",
    "* Pokémon systém xD udělat modelové souboje\n",
    "* možnost nasimulovat celý zápas podle historických dat, znovu vytvořit pooly i žebříček\n",
    "* možnost vidět jak by dopadl tehdejší turnaj, kdyby se odehrál dnes -> tj záleží na pořadí a historii zápasů.\n",
    "* v případě simulace celého zápasu, vidět jak by se zpřesNoval kyž mu dodám postupně třeba poolová data."
   ]
  },
  {
   "cell_type": "markdown",
   "id": "d512778e-b293-4714-ba0f-2c0b29bc58ad",
   "metadata": {
    "jp-MarkdownHeadingCollapsed": true,
    "tags": []
   },
   "source": [
    "### Data format:\n",
    "* **Tři tabulky**\n",
    "* 1) **Závodníci** - ID / Jméno / Klub (potenciálně víc)  / Stát / Pohlaví / D.narození / Ruka / Zbraň / Skore v žebříčku k poslednímu update \n",
    "* // dopočítaný počet všech turnajů, počet poolových zápasů a počet eliminačních zápasů, a jejich koeficienty Výher. / Počet vítězství? nebo to až později...\n",
    "\n",
    "* 2) **Eventy** - ID / Datum / Event / Město / Pohlaví / Počet účastníků / Počet účastníků obou pohlaví\n",
    "\n",
    "* 3) **Výsledky Eventů** - ID / ID Event / ID závodníka / Rank ČR před / Rank po Poolu / Status po Poolu (Adv./Elim.)/ Rank Celkově \n",
    "\n",
    "* 4) **Zápasy** - ID / ID Eventu / ID závodníka 1 / ID závodníka 2 / Fight Lvl (Pool/Eliminace_32) / Výsledek (V/D) / Scored / Received \n",
    "\n",
    "#### Zatím:\n",
    "1) **1_zavodnici.xlsx**\n",
    "2) **2_ranky.xlsx** = **Výsledky Eventů**\n",
    "3) **Zápasy** "
   ]
  },
  {
   "cell_type": "markdown",
   "id": "6e846ab0-8b54-49dc-a6a2-9a38751ad3c2",
   "metadata": {
    "tags": []
   },
   "source": [
    "### Notes\n",
    "* https://www.czechfencing.cz/portal/rankings/list - po Exportu vyjede textak, kde sice nejsou body za jendotlivé soutěže, ale je tam zas celé datum narození !\n",
    "\n",
    "* v žebříčcích se dá sehnat 600 bodů za jediný event, i když standardní český turnaj je třeba za 80\n",
    "\n",
    "- ze závodu 09 - MCR USK - tak jsou tam i týmy. hromada dalších tabulek,ale to zatím neřeším beru základ.\n",
    "\n",
    "- zajímavé formátování outputu:\n",
    "| Default | Left-aligned | Center-aligned | Right-aligned |\n",
    "|---------|:-------------|:--------------:|--------------:|\n",
    "| Default | Left | Center | Right |\n",
    "\n",
    "- souboje s opravami (polovina ženských zápasů):\n",
    "- zavádím tam v eliminaci značení: Eliminace_32, Eliminace_16_A, Eliminace_16_B, \n",
    "- Eliminace_8_A (výherci z 16_A)\n",
    "- Eliminace_16_AB, Eliminace_8_AB (spojení prohraných 16_A a vítězů 16_B, dvakrát po sobě -> 4 zbydou )\n",
    "- Eliminace_8_B (pohravší 8_A a vítězové Eliminace_8_AB)\n",
    "- Eliminace_8 = klasická Osmička, a dál ...\n",
    "\n",
    "\n",
    "~~--Index je vždycky rozdíl dal-dostal = TS-TR; TS = touche scored = ZD (zásahů dal); TR = touches received ~~--\n",
    "\n",
    "~~-- v posledním turnaji v Písku, všem (mužům) posunuli den narození o den dřív :D včetně mě, Rubeše a všech co jsem si kontrolov.~~-\n",
    "\n",
    "~~Rozbitá jména v písku - ADAM Sykora je Sýkora Adam Herbert~~\n",
    "\n",
    "~~* zrovna VSK Humanita je nějaká divná, protože ve výsledcích turnaje se jmenuje **HF PRAHA**, teď jsem akorát našel **HUMANITA PHA** a taky **VSK HUMANITA**, potom ještě **VSKHPZ** přes Aničku~~\n",
    "\n"
   ]
  },
  {
   "cell_type": "code",
   "execution_count": 4,
   "id": "2ec48ec5-258f-4d17-addf-d8bf9f9b02a5",
   "metadata": {},
   "outputs": [],
   "source": [
    "import pandas as pd\n",
    "import numpy as np\n",
    "from matplotlib import pyplot as plt\n",
    "from matplotlib.pyplot import figure\n",
    "import plotly.express as px\n",
    "import plotly.io as pio\n"
   ]
  },
  {
   "cell_type": "code",
   "execution_count": 5,
   "id": "c8ce20fb-a43c-4ab4-b05a-9ea7060c4efb",
   "metadata": {},
   "outputs": [],
   "source": [
    "def printbold(s):\n",
    "    print(\"\\033[1m\" + s + \"\\033[0m\")"
   ]
  },
  {
   "cell_type": "markdown",
   "id": "8fba38c4-2676-46a3-932d-138401fece23",
   "metadata": {},
   "source": [
    "# I. KLUBY A ZÁVODNÍCI \n",
    "### a zatím nepoužitý výsledek po Poolovém kole"
   ]
  },
  {
   "cell_type": "markdown",
   "id": "ffb101f7-87cc-4b78-98f7-169a706efd40",
   "metadata": {},
   "source": [
    "## I.1 - PŘÍPRAVA A ČIŠTĚNÍ DAT"
   ]
  },
  {
   "cell_type": "code",
   "execution_count": 9,
   "id": "6b03185b-e3d8-4c44-904f-127ffad4c96e",
   "metadata": {},
   "outputs": [],
   "source": [
    "men = [\"M_2020_02_Dukla_Olomouc.xlsx\", \"M_2021_09_MCR.xlsx\",\"M_2021_10_Lazensky_pohar.xlsx\",\"M_2021_11_Pisek.xlsx\", \n",
    "       \"M_2021_12_Memorial.xlsx\", \"M_2022_03_Dukla_Olomouc.xlsx\", \"M_2022_04_Jested.xlsx\",\"M_2022_05_MCR_USK.xlsx\",\n",
    "       \"M_2022_10_Lazensky_pohar.xlsx\", \"M_2022_11_Pisek.xlsx\", \"M_2022_12_Memorial.xlsx\"]\n",
    "\n",
    "women = [\"W_2021_09_MCR.xlsx\", \"W_2021_11_Pisek.xlsx\", \"W_2022_03_Dukla_Olomouc\", \"W_2022_04_Teplice.xlsx\", \n",
    "        \"W_2022_05_MCR_USK.xlsx\", \"W_2022_10_Lazensky_pohar.xlsx\", \"W_2022_11_Pisek.xlsx\" , \"W_2022_12_Memorial.xlsx\"]"
   ]
  },
  {
   "cell_type": "markdown",
   "id": "a388e355-3024-4711-bf3c-eba8d7732a6a",
   "metadata": {
    "tags": []
   },
   "source": [
    "## Transformace:\n",
    "* Excel - velká manuální část - stáhnutí PDF tabulek do excelu, přepis Ranků na integer (jsou tam T), namnožení sloupečků s Datumem, Eventem, Pohlavím, sortování první tabulky podle příjmení, Kontrola useknutých jmen,\n",
    "* a hlavně: Vytvoření Poolových tabulek a záznamů z eliminace\n",
    "* Kontrola Birthdate oproti exportu z webu ve formě CSV, a oproti ostatním záznamům z minulých turnajů\n",
    "* chybí mi \"ruka\"\n",
    "* Challenge: Najít ženy, co změnily příjmení a propojit staré a nové záznamy, viz A.Š.->A.P.\n",
    "* Challenge: najít lidi co možná změnili klub, podle věku"
   ]
  },
  {
   "cell_type": "code",
   "execution_count": 10,
   "id": "15b26a52-74fa-4472-ba4f-ca9d8cd5c4a8",
   "metadata": {
    "tags": []
   },
   "outputs": [],
   "source": [
    "def merge_all(list_of_events, sex):\n",
    "    df_tot = pd.DataFrame(columns = ['Name', 'Club', 'Country', 'Sex', 'Birthdate',\n",
    "                                 \"Date\", \"Event\", \"Rank\", \"Init_rank\", \"First_rank\", \"Final_rank\",\n",
    "                                 \"V\",  \"V/M\",  \"TS\", \"TR\", \"Ind\", \"Notes\"])\n",
    "    if sex == \"M\":\n",
    "        s = \"men\"\n",
    "    else:\n",
    "        s = \"women\"\n",
    "    for event in list_of_events:\n",
    "        e = pd.ExcelFile(f\"C:/Users/jzelenka/Documents/python_j/fencing/data/{s}/\" + event)\n",
    "        df0 = pd.read_excel(e, 'initiation')\n",
    "        df1 = pd.read_excel(e, 'first_round')\n",
    "        df2 = pd.read_excel(e, 'total_rank')\n",
    "        \n",
    "        if len(df0) == len(df1) == len(df2):\n",
    "            if sorted(df0['Name'].unique()) == sorted(df1['Name'].unique()) == sorted(df2['Name'].unique()):\n",
    "                print(f\"Event {event} has {len(df0)} people per each list, {len(df0['Name'].unique())} unique Names\")\n",
    "            else:\n",
    "                printbold(\"There is an inconsistency in the length of the lists !!!!!!!!\")\n",
    "                printbold(f\"unique names: {len(df0['Name'].unique())}, {len(df1['Name'].unique())}, and {len(df2['Name'].unique())}\")\n",
    "                \n",
    "        else:\n",
    "            printbold(\"There is an inconsistency in the length of the lists !!!!!!!!\")\n",
    "            printbold(f\"length initiation: {len(df0)}, first_round: {len(df1)}, and total_rank: {len(df2)}\")\n",
    "            \n",
    "        \n",
    "        df3 = pd.merge(df0, df1, on = ['Name',\"Club\", \"Country\"])\n",
    "        df4 = pd.merge(df3, df2, on = ['Name',\"Club\", \"Country\"])\n",
    "                                                                                                            \n",
    "        if len(df0) == len(df4) and len(df0['Name'].unique()) == len(df4['Name'].unique()):                                               \n",
    "            print(f\"Correct after merging\")\n",
    "        else:\n",
    "            printbold(\"Something is wrong, during merging or before !!!!!!!!!!!!!!!!!!!!\")\n",
    "        \n",
    "        df_tot=df_tot.append(df4)\n",
    "        print(f\"new length of total = {len(df_tot)}\")\n",
    "        printbold(\"####################################\")\n",
    "        \n",
    "    df_tot = df_tot[[\"Name\", \"Club\", \"Country\",\"Birthdate_x\", \"Date_x\", \"Event_x\", \"Sex_x\", \"Rank\", \"First_rank\", \"Final_rank\", \"Notes\"]]\n",
    "    df_tot = df_tot.rename(columns={\"Birthdate_x\":'Birthdate', \"Date_x\": \"Date\", \"Event_x\": \"Event\", \"Sex_x\": \"Sex\" })\n",
    "    df_tot.reset_index(inplace=True, drop = True)\n",
    "    \n",
    "    return df_tot"
   ]
  },
  {
   "cell_type": "code",
   "execution_count": 11,
   "id": "e8d791af-9282-4286-8274-3222b9b3a41a",
   "metadata": {
    "tags": []
   },
   "outputs": [
    {
     "name": "stdout",
     "output_type": "stream",
     "text": [
      "Event M_2020_02_Dukla_Olomouc.xlsx has 61 people per each list, 61 unique Names\n",
      "Correct after merging\n",
      "new length of total = 61\n",
      "\u001b[1m####################################\u001b[0m\n",
      "Event M_2021_09_MCR.xlsx has 82 people per each list, 82 unique Names\n",
      "Correct after merging\n",
      "new length of total = 143\n",
      "\u001b[1m####################################\u001b[0m\n"
     ]
    },
    {
     "name": "stderr",
     "output_type": "stream",
     "text": [
      "C:\\Users\\jzelenka\\AppData\\Local\\Temp\\ipykernel_22624\\574823733.py:35: FutureWarning: The frame.append method is deprecated and will be removed from pandas in a future version. Use pandas.concat instead.\n",
      "  df_tot=df_tot.append(df4)\n",
      "C:\\Users\\jzelenka\\AppData\\Local\\Temp\\ipykernel_22624\\574823733.py:35: FutureWarning: The frame.append method is deprecated and will be removed from pandas in a future version. Use pandas.concat instead.\n",
      "  df_tot=df_tot.append(df4)\n"
     ]
    },
    {
     "name": "stdout",
     "output_type": "stream",
     "text": [
      "Event M_2021_10_Lazensky_pohar.xlsx has 70 people per each list, 70 unique Names\n",
      "Correct after merging\n",
      "new length of total = 213\n",
      "\u001b[1m####################################\u001b[0m\n",
      "Event M_2021_11_Pisek.xlsx has 81 people per each list, 81 unique Names\n",
      "Correct after merging\n",
      "new length of total = 294\n",
      "\u001b[1m####################################\u001b[0m\n"
     ]
    },
    {
     "name": "stderr",
     "output_type": "stream",
     "text": [
      "C:\\Users\\jzelenka\\AppData\\Local\\Temp\\ipykernel_22624\\574823733.py:35: FutureWarning: The frame.append method is deprecated and will be removed from pandas in a future version. Use pandas.concat instead.\n",
      "  df_tot=df_tot.append(df4)\n",
      "C:\\Users\\jzelenka\\AppData\\Local\\Temp\\ipykernel_22624\\574823733.py:35: FutureWarning: The frame.append method is deprecated and will be removed from pandas in a future version. Use pandas.concat instead.\n",
      "  df_tot=df_tot.append(df4)\n"
     ]
    },
    {
     "name": "stdout",
     "output_type": "stream",
     "text": [
      "Event M_2021_12_Memorial.xlsx has 80 people per each list, 80 unique Names\n",
      "Correct after merging\n",
      "new length of total = 374\n",
      "\u001b[1m####################################\u001b[0m\n",
      "Event M_2022_03_Dukla_Olomouc.xlsx has 61 people per each list, 61 unique Names\n"
     ]
    },
    {
     "name": "stderr",
     "output_type": "stream",
     "text": [
      "C:\\Users\\jzelenka\\AppData\\Local\\Temp\\ipykernel_22624\\574823733.py:35: FutureWarning: The frame.append method is deprecated and will be removed from pandas in a future version. Use pandas.concat instead.\n",
      "  df_tot=df_tot.append(df4)\n",
      "C:\\Users\\jzelenka\\AppData\\Local\\Temp\\ipykernel_22624\\574823733.py:35: FutureWarning: The frame.append method is deprecated and will be removed from pandas in a future version. Use pandas.concat instead.\n",
      "  df_tot=df_tot.append(df4)\n"
     ]
    },
    {
     "name": "stdout",
     "output_type": "stream",
     "text": [
      "Correct after merging\n",
      "new length of total = 435\n",
      "\u001b[1m####################################\u001b[0m\n",
      "Event M_2022_04_Jested.xlsx has 73 people per each list, 73 unique Names\n",
      "Correct after merging\n",
      "new length of total = 508\n",
      "\u001b[1m####################################\u001b[0m\n"
     ]
    },
    {
     "name": "stderr",
     "output_type": "stream",
     "text": [
      "C:\\Users\\jzelenka\\AppData\\Local\\Temp\\ipykernel_22624\\574823733.py:35: FutureWarning: The frame.append method is deprecated and will be removed from pandas in a future version. Use pandas.concat instead.\n",
      "  df_tot=df_tot.append(df4)\n",
      "C:\\Users\\jzelenka\\AppData\\Local\\Temp\\ipykernel_22624\\574823733.py:35: FutureWarning: The frame.append method is deprecated and will be removed from pandas in a future version. Use pandas.concat instead.\n",
      "  df_tot=df_tot.append(df4)\n"
     ]
    },
    {
     "name": "stdout",
     "output_type": "stream",
     "text": [
      "Event M_2022_05_MCR_USK.xlsx has 75 people per each list, 75 unique Names\n",
      "Correct after merging\n",
      "new length of total = 583\n",
      "\u001b[1m####################################\u001b[0m\n",
      "Event M_2022_10_Lazensky_pohar.xlsx has 82 people per each list, 82 unique Names\n",
      "Correct after merging\n",
      "new length of total = 665\n",
      "\u001b[1m####################################\u001b[0m\n"
     ]
    },
    {
     "name": "stderr",
     "output_type": "stream",
     "text": [
      "C:\\Users\\jzelenka\\AppData\\Local\\Temp\\ipykernel_22624\\574823733.py:35: FutureWarning: The frame.append method is deprecated and will be removed from pandas in a future version. Use pandas.concat instead.\n",
      "  df_tot=df_tot.append(df4)\n",
      "C:\\Users\\jzelenka\\AppData\\Local\\Temp\\ipykernel_22624\\574823733.py:35: FutureWarning: The frame.append method is deprecated and will be removed from pandas in a future version. Use pandas.concat instead.\n",
      "  df_tot=df_tot.append(df4)\n"
     ]
    },
    {
     "name": "stdout",
     "output_type": "stream",
     "text": [
      "Event M_2022_11_Pisek.xlsx has 76 people per each list, 76 unique Names\n",
      "Correct after merging\n",
      "new length of total = 741\n",
      "\u001b[1m####################################\u001b[0m\n",
      "Event M_2022_12_Memorial.xlsx has 98 people per each list, 98 unique Names\n",
      "Correct after merging\n",
      "new length of total = 839\n",
      "\u001b[1m####################################\u001b[0m\n",
      "839\n",
      "           Name   Club Country  Birthdate       Date          Event Sex Rank  \\\n",
      "0  ANDERLE Petr  RIEGP     CZE 1977-07-07 2020-02-22  Dukla Olomouc   M   36   \n",
      "1  BALCAR Josef  LOKOT     CZE 1998-10-31 2020-02-22  Dukla Olomouc   M   10   \n",
      "\n",
      "  First_rank Final_rank     Notes  \n",
      "0         16         19  Advanced  \n",
      "1         17         14  Advanced  \n",
      "             Name      Club Country  Birthdate       Date     Event Sex Rank  \\\n",
      "837  WALLER Jonáš  SC PRAHA     CZE 2008-10-10 2022-12-17  Memorial   M   25   \n",
      "838  ZELENKA Jiří  HF PRAHA     CZE 1993-06-04 2022-12-17  Memorial   M  131   \n",
      "\n",
      "    First_rank Final_rank       Notes  \n",
      "837         35         29    Advanced  \n",
      "838         95         95  Eliminated  \n"
     ]
    },
    {
     "name": "stderr",
     "output_type": "stream",
     "text": [
      "C:\\Users\\jzelenka\\AppData\\Local\\Temp\\ipykernel_22624\\574823733.py:35: FutureWarning: The frame.append method is deprecated and will be removed from pandas in a future version. Use pandas.concat instead.\n",
      "  df_tot=df_tot.append(df4)\n"
     ]
    }
   ],
   "source": [
    "df_m = merge_all(men, \"M\")\n",
    "print(len(df_m))\n",
    "print(df_m.head(2))\n",
    "print(df_m.tail(2))"
   ]
  },
  {
   "cell_type": "code",
   "execution_count": null,
   "id": "82b10cf4-e20b-499f-9317-fdae074a1432",
   "metadata": {
    "tags": []
   },
   "outputs": [],
   "source": [
    "df_m.tail()"
   ]
  },
  {
   "cell_type": "code",
   "execution_count": null,
   "id": "3a37a0f5-d648-432a-9699-abd6fd6b5c9d",
   "metadata": {
    "tags": []
   },
   "outputs": [],
   "source": [
    "display(df_m.describe())\n",
    "#display(df_m.describe(datetime_is_numeric=True))"
   ]
  },
  {
   "cell_type": "code",
   "execution_count": null,
   "id": "e47ce9a7-bb5c-4aac-b7cc-9da45a3842be",
   "metadata": {
    "tags": []
   },
   "outputs": [],
   "source": [
    "for col in df_m.columns:\n",
    "    printbold(f\"# {col}\")\n",
    "    display(df_m[col].value_counts())\n",
    "    printbold(\"######################################\")"
   ]
  },
  {
   "cell_type": "code",
   "execution_count": null,
   "id": "a2ab4528-4c17-44ee-86e1-9ec66e67f8f7",
   "metadata": {
    "tags": []
   },
   "outputs": [],
   "source": [
    "df_m[df_m[\"Notes\"]==\"Withdrew\"]"
   ]
  },
  {
   "cell_type": "markdown",
   "id": "085f3469-cc1c-4fe4-ae2d-eda33fd7c402",
   "metadata": {
    "jupyter": {
     "outputs_hidden": true
    },
    "tags": []
   },
   "source": [
    "## Duplicity ve jménech\n",
    "#### Export vs. Soutěže (sjednoceno):\n",
    "#### 'SVOBODA Tomáš Kristián' = SVOBODA Tomáš_st. \n",
    "#### SVOBODA Tomáš = 'SVOBODA Tomáš_ml.',\n"
   ]
  },
  {
   "cell_type": "code",
   "execution_count": null,
   "id": "5cd959ae-35a6-49f8-baee-36a4c44ae9b8",
   "metadata": {
    "tags": []
   },
   "outputs": [],
   "source": [
    "# 32 jmen opravuju získávám: 106-> 77 (některé vlastně jen updatuju samy sebe)\n",
    "\n",
    "to_replace_woman = {\"AIGERMANOVA Gabriela\": \"AIGERMANOVÁ Gabriela\",\n",
    "             \"SALIGEROVA Katerina\": \"SALIGEROVÁ Kateřina\",\n",
    "             \"HAVLINOVA Tereza\": \"HAVLÍNOVÁ Tereza\",\n",
    "             \"PROKSIKOVA Patricie\": \"PROKŠÍKOVÁ Patricie\",\n",
    "             \"COUFALOVA Anna\": \"COUFALOVÁ Anna\",\n",
    "             \"BIELESZOVA Veronika\": \"BIELESZOVÁ Veronika\",\n",
    "             \"PECHOVOVA Michala\": \"PĚCHOVOVÁ Michala\",\n",
    "             \"MYSKOVA Petra\": \"MYŠKOVÁ Petra\",\n",
    "             \"VINCENCOVA Ester\": \"VINCENCOVÁ Ester\",\n",
    "             \"NOVAKOVA Petra\": \"NOVÁKOVÁ Petra\",\n",
    "             \"HUNCAROVA Katarína\": \"HUNČÁROVÁ Katarína\",\n",
    "             \"ADAMCOVA Anita\": \"ADAMCOVÁ Anita\",\n",
    "             \"SLUSNA Karolína\": \"SLUŠNÁ Karolína\",\n",
    "             \"POKORNA Anna\": \"POKORNÁ Anna\",\n",
    "             \"CHALUPNIKOVA Aranka\": \"CHALUPNÍKOVÁ Aranka\",\n",
    "             \"CEJNAROVA Barbora\": \"CEJNAROVÁ Barbora\",\n",
    "             \"KAHABKOVA Eliska\": \"KAHABKOVÁ Eliška\",\n",
    "             \"POTOCKOVA Katerina\": \"POTOČKOVÁ Kateřina\",\n",
    "             \"BARTOSKOVA Adéla\": \"BARTOŠKOVÁ Adéla\",\n",
    "             \"WEISOVA Katerrina\": \"WEISOVÁ Kateřina\",   ##?##\n",
    "             \"SMIDOVA Daniela\": \"ŠMÍDOVÁ Daniela\",\n",
    "             \"LASTOVKOVA Tereza\": \"LAŠTOVKOVÁ Tereza\",\n",
    "             \"TUMOVA Šárka\": \"TŮMOVÁ Šárka\",\n",
    "             \"HONOVA Marketa\": \"HONOVÁ Markéta\",\n",
    "             \"VACHOVA Tereza\": \"VÁCHOVÁ Tereza\",\n",
    "             \"DIVISOVA Klára\": \"DIVIŠOVÁ Klára\",\n",
    "             \"KUHNOVA Korolína\": \"KÜHNOVÁ Karolína\",  ##?##\n",
    "             \"KOCOURKOVA Marie\": \"KOCOURKOVÁ Marie\",\n",
    "             \"MATEJCKOVA Lucie\": \"MATĚJČKOVÁ Lucie\",\n",
    "             \"FRDLIKOVA Markéta\": \"FRDLÍKOVÁ Markéta\",\n",
    "             \"SYROVATKOVA Iva\": \"SYROVÁTKOVÁ Iva\",\n",
    "             \"ZIEGLEROVA Adéla Anna\": \"ZIEGLEROVÁ Adéla Anna\"\n",
    "            }\n",
    "\n",
    "print(len(to_replace_woman))"
   ]
  },
  {
   "cell_type": "code",
   "execution_count": null,
   "id": "fd8a8ad4-23ab-43ad-b411-5b181234e294",
   "metadata": {},
   "outputs": [],
   "source": [
    "# 35 jmen opravuju získávám: 189-> 155   -> 154 -> 153 (Svoboda Tomáš st. = Tomáš Kristián)\n",
    "\n",
    "to_replace_man = {\"ADAM Sykora\" : \"SÝKORA Adam Herbert\",\n",
    "             \"ADDO DJAN Theodor\": \"ADDO DJAN Theodor Ezekiel\",\n",
    "             \"ARTAZOV Maxmilian\": \"ARTAZOV Maxmilián\",\n",
    "             \"BOSAK Stepan\": \"BOSÁK Štěpán\",\n",
    "             \"BEDNAR Kryštof\":\"BEDNÁR Kryštof\",  ##?##\n",
    "             \"BRADAC Petr\": \"BRADÁČ Petr\",\n",
    "             \"CAPEK Martin\": \"ČAPEK Martin\",\n",
    "             \"CUPR Michal\": \"ČUPR Michal\",\n",
    "             \"D´AMICO Kristian\": \"D'AMICO Kristian\",\n",
    "             \"DOLEJSI Marek\": \"DOLEJŠÍ Marek\",\n",
    "             \"DUDUC Alex\": \"DUDUC Alex Vladimír\", ##?##\n",
    "             \"DUDUC Alex Vladimir\": \"DUDUC Alex Vladimír\",\n",
    "             \"ERNEÉ Jan\":\"ERNÉE Jan\",\n",
    "             \"FOLDES Tomáš\": \"FÖLDES Tomáš\",\n",
    "             \"HLAVAC Jakub\": \"HLAVÁČ Jakub\",\n",
    "             \"HOBAUS Max\": \"HÖBAUS Max\",\n",
    "             \"HORBACHUCK Yuriy\": \"HORBACHUK Yuriy\",\n",
    "             \"IVANCO Alexander\": \"IVANČO Alexandr\",  ## Alexander -> Alexandr\n",
    "             \"IVANCO Robin\": \"IVANČO Robin\",\n",
    "             \"IVANCO Mikuláš\": \"IVANČO Mikuláš\",\n",
    "             \"JANU Gael\": \"JANŮ Gael\",\n",
    "             \"JILEK Jaroslav\": \"JÍLEK Jaroslav\",\n",
    "             \"KOURIL Jan\": \"KOUŘIL Jan\",\n",
    "             \"KRUZECKY Tomáš\": \"KROUŽECKÝ Tomáš\",  ##?##\n",
    "             \"KUCHAR Matěj\": \"KUCHAŘ Matěj\",\n",
    "             \"LANIK Jan\": \"LÁNÍK Jan\",\n",
    "             \"LOKAJ Vaclav\": \"LOKAJ Václav\",\n",
    "             \"LUSTICKY Josef\": \"LUŠTICKÝ Josef\",\n",
    "             \"MOTALIK Libor\": \"MOTALÍK Libor\",\n",
    "             \"NOVAK Martin\": \"NOVÁK Martin\",\n",
    "             \"PAVLIK Matyáš\": \"PAVLÍK Matyáš\",\n",
    "             \"PROCHAZKA Ondřej\": \"PROCHÁZKA Ondřej\",\n",
    "             \"PUSTEJOVSKY Vladimír\": \"PUSTĚJOVSKÝ Vladimír\",\n",
    "             \"RUBES Martin\": \"RUBEŠ Martin\",\n",
    "             'SADSKY Jaroslav': 'SADSKÝ Jaroslav',\n",
    "             \"SKROVNY Petr\": \"SKROVNÝ Petr\",\n",
    "             \"SMITKA Jan\": \"SMÍTKA Jan\",\n",
    "             \"SMRCEK Šimon\": \"SMRČEK Šimon\",\n",
    "             \"STIRBER Sebastian\": \"STIRBER Sebastián\",\n",
    "             \"SVOBODA Tomáš_st.\": \"SVOBODA Tomáš Kristián\",\n",
    "             \"SVOBODA Tomáš_ml.\": \"SVOBODA Tomáš\",\n",
    "             \"ŠILHAN Jindřich\": \"ŠILHÁN Jindřich\",\n",
    "             \"ŠTVERAK Martin\": \"ŠTVERÁK Martin\",\n",
    "             \"TABORSKY Lukas\": \"TÁBORSKÝ Lukáš\",\n",
    "             \"TUMA Marek\": \"TŮMA Marek\",\n",
    "             \"VACHOVEC Matej\": \"VACHOVEC Matěj\",\n",
    "             \"VALKOVIC Martin\": \"VALKOVIČ Martin\",\n",
    "             \"VONDRA Matous\":\"VONDRA Matouš\"\n",
    "                }\n",
    "                  \n",
    "print(len(to_replace_man))\n",
    "\n",
    "df_m[\"Name\"] = df_m[\"Name\"].replace(to_replace_man)             "
   ]
  },
  {
   "cell_type": "code",
   "execution_count": null,
   "id": "e282e80b-c062-4926-bb2b-1b086281dfc7",
   "metadata": {
    "tags": []
   },
   "outputs": [],
   "source": [
    "pd.options.display.max_rows = 999\n",
    "printbold(str(len(df_m[\"Name\"].unique())))"
   ]
  },
  {
   "cell_type": "code",
   "execution_count": null,
   "id": "2909bb71-2275-4486-bc5f-70bbc59c45af",
   "metadata": {
    "tags": []
   },
   "outputs": [],
   "source": [
    "print(sorted(df_m[\"Name\"].unique()))"
   ]
  },
  {
   "cell_type": "markdown",
   "id": "148d20fb-d698-442b-9877-020d4019d8f2",
   "metadata": {},
   "source": [
    "## Duplicity v Klubech\n",
    "#### Vždy je diskutabilní, který je ten správný..beru nejdelší \n",
    "#### vyřešit kluby: \"UKRAJINA\", \"SVK\", \"GEO\", ...\n",
    "#### pořešit: HUNČÁROVÁ Katarína - KS SNINA = jediná, která změnila klub v průběhu\n"
   ]
  },
  {
   "cell_type": "code",
   "execution_count": null,
   "id": "0d01261d-f8ad-4026-8a53-38797256e7d1",
   "metadata": {},
   "outputs": [],
   "source": [
    "to_replace_club = {\n",
    "    \"LOKO K.VARY\": \"TJ LOKO K.VARY\",    ####\n",
    "    \"LOKO KV\": \"TJ LOKO K.VARY\",    \n",
    "    \"TJLKV-ŠZ\": \"TJ LOKO K.VARY\",   \n",
    "    \"LOKO TEPLICE\": \"TJ LOKO TEPLICE\",   ####\n",
    "    \"LOKO TP\": \"TJ LOKO TEPLICE\",\n",
    "    \"TJLTZ\": \"TJ LOKO TEPLICE\",\n",
    "    \"SCPŠS\": \"SC PRAHA\",    ####\n",
    "    \"D.PRAHA\": \"TJ DUKLA PRAHA\",  ####\n",
    "    \"DUKLA PRAHA\": \"TJ DUKLA PRAHA\", \n",
    "    \"TJDP\": \"TJ DUKLA PRAHA\",\n",
    "    \"TJDPZ\": \"TJ DUKLA PRAHA\",\n",
    "    \"1.1.FC BĚLÁ\": \"1.FC BELA POD BEZ\", ####\n",
    "    \"1.FC BĚLÁ\": \"1.FC BELA POD BEZ\",\n",
    "    \"1.FC BELA\": \"1.FC BELA POD BEZ\",\n",
    "    \"1.FCB\": \"1.FC BELA POD BEZ\",\n",
    "    \"1.FCBPBZ\": \"1.FC BELA POD BEZ\",\n",
    "    \"LOKO PLZ\": \"TJ LOKO PLZEN\", ####\n",
    "    \"LOKO PLZEŇ\": \"TJ LOKO PLZEN\",\n",
    "    \"TJLPZ\": \"TJ LOKO PLZEN\",\n",
    "    \"HF PRAHA\": \"VSK HUMANITA\", ####\n",
    "    \"HUMANITA PHA\": \"VSK HUMANITA\",\n",
    "    \"VSKHPZ\": \"VSK HUMANITA\",\n",
    "    \"ČŠKRP\": \"RIEGEL PRAHA\",  ####\n",
    "    \"ČESKŠKRZ\": \"RIEGEL PRAHA\",\n",
    "    \"ČŠK RIEGEL\": \"RIEGEL PRAHA\",\n",
    "    \"DUKLA OL\": \"DUKLA OLOMOUC\",  ####\n",
    "    \"TĚLOJDOZ\": \"DUKLA OLOMOUC\",\n",
    "    \"TJ DUKLA OLOMOU\": \"DUKLA OLOMOUC\",\n",
    "    \"D.OLOMOUC\": \"DUKLA OLOMOUC\",\n",
    "    \"SL.LITOMĚŘICE\": \"SLAVOJ LITOMERICE\", ####\n",
    "    \"SLAVOJ LIT\": \"SLAVOJ LITOMERICE\",\n",
    "    \"SLAVOJ LITOMERIC\": \"SLAVOJ LITOMERICE\",\n",
    "    \"S.S.UH.HRAD.\": \"SS UH.HRADISTE\", ####\n",
    "    \"TJSSUHZ\": \"SS UH.HRADISTE\",\n",
    "    \"UNIVSKPS\": \"USK PRAHA\", ####\n",
    "    \"USK PHA\": \"USK PRAHA\",\n",
    "    \"J.H.BROD\": \"HAV BROD\",  ####\n",
    "    \"SP.Š.ÚSTÍ/L.\": \"SČ USTI NAD LABEM\", ####\n",
    "    \"SPŠ ÚSTÍ\": \"SČ USTI NAD LABEM\",\n",
    "    \"SPORŠÚNLZ\": \"SČ USTI NAD LABEM\",\n",
    "    \"SŠ USTI N. LABEM\": \"SČ USTI NAD LABEM\",\n",
    "    ###############################\n",
    "    \"S.DEJVICE\": \"SOKOL DEJVICE\", ####\n",
    "    \"TJSPDI\": \"SOKOL DEJVICE\", \n",
    "    \"EKONOM\": \"EKONOM PRAHA\", ####\n",
    "    \"VYSOTJEPZ\": \"EKONOM PRAHA\",\n",
    "    \"BSKM\": \"BSK MARTINENGO\", ####\n",
    "    \"BŠKMARTINENGO\": \"BSK MARTINENGO\",\n",
    "    \"ŠERMLZ\": \"ŠERM LIBEREC\", ####\n",
    "    \"SERM LIBEREC\": \"ŠERM LIBEREC\",\n",
    "    \"SLOV HORKY\": \"TJ SLOVAN HORKY\", ####\n",
    "    \"SLOVAN HORKY\": \"TJ SLOVAN HORKY\", \n",
    "    \"TĚLOJSHZ\": \"TJ SLOVAN HORKY\",\n",
    "    \"TJSBI\": \"S.BRNO I\",  ####\n",
    "    \"SLAVLZ\": \"SLAVOJ LITOMERICE\", ####\n",
    "    \"AKADSB\": \"AKADÉMIA ŠERMU BRATISLAVA\",  ####\n",
    "    \"SLAV ČTĚŠ\": \"SLAVOJ Č.TĚŠÍN\", ####\n",
    "    \"SLAVOJ TESIN\": \"SLAVOJ Č.TĚŠÍN\",\n",
    "    \"TJSČTZ\": \"SLAVOJ Č.TĚŠÍN\",\n",
    "    \"OREL HK\": \"OREL HR.KR.\", ####\n",
    "    \"ORELJHK\": \"OREL HR.KR.\",\n",
    "    \"SP Š TÁBOR\": \"SP.Š. TÁBOR\"\n",
    "            }"
   ]
  },
  {
   "cell_type": "code",
   "execution_count": null,
   "id": "fc300f44-3379-4fa4-8261-cb71709ad79d",
   "metadata": {
    "tags": []
   },
   "outputs": [],
   "source": [
    "# pro 77 žen mám původně 153 klubo-kombinací -> 78\n",
    "## hapruje mi: HUNČÁROVÁ Katarína\n",
    "\n",
    "# pro 154 mužů původně 285 name-klub kombinací \n",
    "# -> nyní 154, což odpovídá počtu mužů -> každý má unikátní klub\n",
    "\n",
    "# .size() vs .count(), zajímavé\n",
    "\n",
    "df_m[\"Club\"] = df_m[\"Club\"].replace(to_replace_club)"
   ]
  },
  {
   "cell_type": "code",
   "execution_count": null,
   "id": "286fa057-012e-4285-b097-f03ce389000d",
   "metadata": {
    "tags": []
   },
   "outputs": [],
   "source": [
    "men_clubs = df_m.groupby(['Name','Club']).size().reset_index().rename(columns={0:'count'})\n",
    "printbold(str(len(men_clubs)))\n",
    "#men_clubs"
   ]
  },
  {
   "cell_type": "markdown",
   "id": "be30c8ce-2c37-44c3-b253-0b8ffcf4d9a7",
   "metadata": {},
   "source": [
    "## Duplicity v Datumech narození - UPŘESNIT \n",
    "* i po opravě datumů v turnaji v Písku mám 163 řádků místo 153\n",
    "* předpoklad - kdo má 1.1., tak datum nejdřív nevěděli, později doplnili\n",
    "* toto aplikuji sem: BALCAR Josef, BEDNÁR Kryštof, MIČINEC Adam, STEHLÍK Jan, STOLAR Samuel, VÁVRA Vojtěch,\n",
    "* , HEREY Anatoliy, JAVAKHISHVILI Georgii, NOVOTNÝ Šimon\n",
    "* DUDUC Alex Vladimir (má 3 různé - zatím volím 1.6.97)\n",
    "* GAISLER Jakub (jiný měsíc - zatím volím 29.4., byl víckrát, shodně s exportem Mužů)\n",
    "* KURÁŇ Martin (stále o den - zatím volím 24.8., shodně s exportem Mužů)\n",
    "* Stehlík Vojtěch - na webu 2001, ale v Lázenském poháru 2011\n",
    "* SVOBODA Bohumil Jiří - dva různé datumy, volím ten častější 2003-03-17"
   ]
  },
  {
   "cell_type": "code",
   "execution_count": null,
   "id": "8804f25f-c373-415e-ac19-5cc03459c8fb",
   "metadata": {
    "tags": []
   },
   "outputs": [],
   "source": [
    "men_birthdates = df_m.groupby(['Name','Birthdate']).size().reset_index().rename(columns={0:'count'})\n",
    "printbold(str(len(men_birthdates)))\n",
    "print(len(men_birthdates))\n",
    "men_birthdates.head(2)"
   ]
  },
  {
   "cell_type": "code",
   "execution_count": null,
   "id": "59e9d535-76b2-4fb8-a0e4-16bdbea503f3",
   "metadata": {
    "tags": []
   },
   "outputs": [],
   "source": [
    "## Problémisti:\n",
    "\n",
    "df2 = df_m.groupby(['Name','Birthdate']).size().reset_index().rename(columns={0:'count'})\n",
    "df2 = df2[[\"Name\", \"Birthdate\"]]\n",
    "#display(df2)\n",
    "v = df2.Name.value_counts()   # kolikrát se jméno objevuje v našem Name-Birthdate groupáči, kde jsou unikátní dvojice\n",
    "df2[df2.Name.isin(v.index[v.gt(1)])]  # nevím co je to v.gt(1), ale 1 v tuto chvíli říká 2 a více výskytů :D"
   ]
  },
  {
   "cell_type": "code",
   "execution_count": null,
   "id": "7bc549b9-6ff2-493a-9338-b154ea3b7ca2",
   "metadata": {},
   "outputs": [],
   "source": [
    "## MANUÁLNÍ OPRAVA\n",
    "\n",
    "df_m.loc[df_m.Name == \"BALCAR Josef\", \"Birthdate\"] = \"1998-10-31\"\n",
    "df_m.loc[df_m.Name == \"BEDNÁR Kryštof\", \"Birthdate\"] = \"1997-04-02\"\n",
    "df_m.loc[df_m.Name == \"DUDUC Alex Vladimír\", \"Birthdate\"] = \"1997-06-01\"\n",
    "df_m.loc[df_m.Name == \"GAISLER Jakub\", \"Birthdate\"] = \"2005-04-29\"\n",
    "df_m.loc[df_m.Name == \"KURÁŇ Martin\", \"Birthdate\"] = \"2005-08-24\"\n",
    "df_m.loc[df_m.Name == \"MIČINEC Adam\", \"Birthdate\"] = \"1991-07-01\"\n",
    "df_m.loc[df_m.Name == \"STEHLÍK Jan\", \"Birthdate\"] = \"1999-02-28\"\n",
    "df_m.loc[df_m.Name == \"STOLAR Samuel\", \"Birthdate\"] = \"1998-06-16\"\n",
    "df_m.loc[df_m.Name == \"VÁVRA Vojtěch\", \"Birthdate\"] = \"1996-11-19\"\n",
    "df_m.loc[df_m.Name == \"STEHLÍK Vojtěch\", \"Birthdate\"] = \"2001-11-07\"\n",
    "\n",
    "# 2022_12_Memorial:\n",
    "df_m.loc[df_m.Name == \"SVOBODA Bohumil Jiří\", \"Birthdate\"] = \"2003-03-17\"\n",
    "df_m.loc[df_m.Name == \"NOVOTNÝ Šimon\", \"Birthdate\"] = \"2006-05-17\"\n",
    "df_m.loc[df_m.Name == \"JAVAKHISHVILI Georgii\", \"Birthdate\"] = \"1999-05-05\"\n",
    "df_m.loc[df_m.Name == \"HEREY Anatoliy\", \"Birthdate\"] = \"1989-03-31\""
   ]
  },
  {
   "cell_type": "markdown",
   "id": "ac46971c-922b-40b1-a336-f43a405719c9",
   "metadata": {},
   "source": [
    "## Kontrola zemí \n",
    "\n",
    "#### DUDUC Alex Vladimir & STEIS Matúš - oba víckrát SVK než CZE -> SVK"
   ]
  },
  {
   "cell_type": "code",
   "execution_count": null,
   "id": "e40214a4-a4b9-4f06-82fd-13003a38fe93",
   "metadata": {
    "tags": []
   },
   "outputs": [],
   "source": [
    "# 155 místo 153\n",
    "\n",
    "men_countries = df_m.groupby(['Name','Club', \"Country\", \"Sex\", \"Birthdate\"]).size().reset_index().rename(columns={0:'count'})\n",
    "printbold(str(len(men_countries)))\n",
    "#men_countries"
   ]
  },
  {
   "cell_type": "code",
   "execution_count": null,
   "id": "d1c5a94a-e4ae-4cea-920a-c7b83570a52f",
   "metadata": {},
   "outputs": [],
   "source": [
    "df_m.loc[df_m.Name == \"DUDUC Alex Vladimír\", \"Country\"] = \"SVK\"\n",
    "df_m.loc[df_m.Name == \"STEIS Matúš\", \"Country\"] = \"SVK\"\n",
    "# 2022_12_Memorial \n",
    "df_m.loc[df_m.Name == \"BÉREŠ Daniel\", \"Country\"] = \"CZE\"\n"
   ]
  },
  {
   "cell_type": "markdown",
   "id": "125beca7-62ac-41ca-96c3-ed27016a3900",
   "metadata": {},
   "source": [
    "## Kontrola Final Ranků\n",
    "#### otázka: čím nahradit DNF? 99 ? 999? Pomlčkou, a pak vynechávat?"
   ]
  },
  {
   "cell_type": "code",
   "execution_count": null,
   "id": "6cea1b32-0f4f-403e-8e2a-f0bc115ab718",
   "metadata": {
    "tags": []
   },
   "outputs": [],
   "source": [
    "df_m[\"Final_rank\"].value_counts()\n",
    "\n",
    "df_m[\"Final_rank\"] = df_m[\"Final_rank\"].replace({\"DNF\": 99})"
   ]
  },
  {
   "cell_type": "code",
   "execution_count": null,
   "id": "5e94961f-1c3d-4187-b793-78e4aa1ae996",
   "metadata": {},
   "outputs": [],
   "source": [
    "df_m[df_m.Name == \"JURKA Jakub\"]  # opravdu, má dvě čisté výhry turnajů"
   ]
  },
  {
   "cell_type": "code",
   "execution_count": null,
   "id": "b274b262-430f-417c-86b0-824cb2600f0b",
   "metadata": {
    "tags": []
   },
   "outputs": [],
   "source": [
    "# seřazeno podle průměrného Final_ranku přes všechyn jejich závody\n",
    "df_m.groupby('Name')['Final_rank'].mean().round().sort_values()"
   ]
  },
  {
   "cell_type": "markdown",
   "id": "66496510-ae56-4e52-8208-6c75738f3bc3",
   "metadata": {},
   "source": [
    "## Vytvoření tabulky závodníků a tabulky Ranků. Ještě bude tabulka zápasů\n",
    "#### vyřešit sortování jmen dle české abecedy\n",
    "#### Případně příjmení psát bez diakritiky...\n",
    "\n",
    "* ID / Jméno /Klub (potenciálně víc) / Stát / Pohlaví / D.narození / Ruka / Zbraň / Skore v žebříčku k poslednímu update \n",
    "* // dopočítaný počet všech turnajů, počet poolových zápasů a počet eliminačních zápasů, a jejich koeficienty Výher. / Počet vítězství? nebo to až později...\n"
   ]
  },
  {
   "cell_type": "code",
   "execution_count": null,
   "id": "5b096f6e-be3b-4eb5-b92d-0cfd74a8d55f",
   "metadata": {},
   "outputs": [],
   "source": [
    "df_m[\"Year\"]  = pd.DatetimeIndex(df_m['Birthdate']).year\n",
    "printbold(str(len(df_m)))\n",
    "df_m.head(2)"
   ]
  },
  {
   "cell_type": "code",
   "execution_count": null,
   "id": "6af9c0c4-6f6c-426b-8d25-42aa6f7a7a45",
   "metadata": {
    "tags": []
   },
   "outputs": [],
   "source": [
    "df_m_people = df_m.groupby(['Name','Club', \"Country\", \"Sex\", \"Birthdate\", \"Year\"]).size().reset_index().rename(columns={0:'count'})\n",
    "df_m_people = df_m_people[[\"Name\", \"Club\", \"Country\", \"Sex\", \"Birthdate\", \"Year\"]]\n",
    "\n",
    "#df_m_people.to_excel(\"C:/Users/jzelenka/Documents/python_j/fencing/1_zavodnici.xlsx\", index=False)\n",
    "#df_m.to_excel(\"C:/Users/jzelenka/Documents/python_j/fencing/2_ranky.xlsx\", index=False)\n",
    "\n",
    "printbold(str(len(df_m_people)))\n",
    "df_m_people.tail()"
   ]
  },
  {
   "cell_type": "markdown",
   "id": "29010bfe-c5d6-47a5-8424-d8ebb53f1396",
   "metadata": {},
   "source": [
    "## I.2 - STATISTIKY závodníci a kluby obecně"
   ]
  },
  {
   "cell_type": "code",
   "execution_count": null,
   "id": "43a1736a-5e71-4fbf-8bea-17a0369efec5",
   "metadata": {},
   "outputs": [],
   "source": [
    "df = pd.read_excel(\"C:/Users/jzelenka/Documents/python_j/fencing/1_zavodnici.xlsx\")\n",
    "printbold(str(len(df)))\n",
    "display(df.head(2))\n",
    "display(df.tail(2))"
   ]
  },
  {
   "cell_type": "code",
   "execution_count": null,
   "id": "8632ca69-16f6-4374-9eda-cb0d8266fa36",
   "metadata": {
    "tags": []
   },
   "outputs": [],
   "source": [
    "df[df.Year > 2006]  # ti nejmladší - potenciální chyba v datu narození"
   ]
  },
  {
   "cell_type": "markdown",
   "id": "c374f523-2a11-44ca-84aa-de7041443821",
   "metadata": {},
   "source": [
    "## Počty závodníků podle roku narození"
   ]
  },
  {
   "cell_type": "code",
   "execution_count": null,
   "id": "83c369be-3656-4785-afac-89f26e30991b",
   "metadata": {},
   "outputs": [],
   "source": [
    "#plt.style.use('ggplot')\n",
    "#plt.hist(df[\"Year\"])\n",
    "\n",
    "figure(figsize=(10, 4), dpi=100)\n",
    "\n",
    "years = sorted(df[\"Year\"].unique())\n",
    "counts = df.groupby('Year')['Year'].count()\n",
    "plt.xticks(years, rotation='vertical')\n",
    "plt.bar(years, counts, width=0.8)  # šířka sloupečku\n",
    "\n",
    "plt.show()"
   ]
  },
  {
   "cell_type": "code",
   "execution_count": null,
   "id": "55bca897-db30-4136-8bae-3817fd7fb189",
   "metadata": {},
   "outputs": [],
   "source": [
    "# obyčejný groupby podle dvou sloupců nestačí:\n",
    "# d1 = df.groupby(['Year', \"Club\"])[\"Year\"].count() \n",
    "# potřbeuju z toho udělat standardní dataframe se všemi popsanými řádky\n",
    "# 1960 - Club - počet,, 1960 - Klub 2 - počet 2\n",
    "\n",
    "#https://stackoverflow.com/questions/10373660/converting-a-pandas-groupby-output-from-series-to-dataframe\n",
    "d2 = pd.DataFrame({'count' : df.groupby( [ 'Year', \"Club\"] ).size()}).reset_index()\n",
    "#d2\n",
    "\n",
    "fig = px.bar(d2, x= d2[\"Year\"],\n",
    "             y= d2[\"count\"], \n",
    "             color = d2[\"Club\"] ,\n",
    "             #text_auto='.0s',       # případně můžu zap/vyp číselné popisky\n",
    "             width=950, height=700,\n",
    "             title=\"Závodníci podle roku narození a Klubu\")\n",
    "\n",
    "#fig.update_traces(textfont_size=12, textangle=0, cliponaxis=False)\n",
    "fig.update_layout(xaxis = dict(tickvals = d2[\"Year\"]))\n",
    "fig.update_xaxes(tickangle=270)\n",
    "\n",
    "fig.show()\n",
    "\n",
    "pio.write_html(fig, file=\"vizualizace/V1_Year-Club.html\", auto_open=True)\n",
    "\n",
    "# ještě jde přidat dropdown například pro Pohlaví. případně checkboxy by byly super\n",
    "# https://plotly.com/python/bar-charts/"
   ]
  },
  {
   "cell_type": "markdown",
   "id": "35de7d76-e8f3-40b1-a231-7bb28f3b88fa",
   "metadata": {},
   "source": [
    "## Počty závodníků podle klubů\n",
    "#### Zde by se hodil rozpad na může a ženy, v plotly verzi "
   ]
  },
  {
   "cell_type": "code",
   "execution_count": null,
   "id": "b3fe8297-a508-49a0-ba26-c97ba34e441c",
   "metadata": {},
   "outputs": [],
   "source": [
    "# Verze 2 - přes Dictionary\n",
    "# https://www.includehelp.com/python/groupby-results-to-dictionary-of-lists.aspx\n",
    "# https://matplotlib.org/stable/gallery/lines_bars_and_markers/categorical_variables.html\n",
    "\n",
    "figure(figsize=(10, 4), dpi=100)\n",
    "\n",
    "clubs = df.groupby(['Club'])['Club'].count().to_dict()\n",
    "clubs = dict(sorted(clubs.items(), key=lambda item: item[1], reverse = True))\n",
    "\n",
    "plt.xticks(rotation='vertical')                             # muselo se tu jen odebrat to jméno z labelů, kůli problémům že to je kategorická proměnná\n",
    "plt.bar(list(clubs.keys()), list(clubs.values()), width=0.8)# šířka sloupečku\n",
    "\n",
    "plt.show()"
   ]
  },
  {
   "cell_type": "code",
   "execution_count": null,
   "id": "54e6f6f3-c206-4905-a9c2-16852a514f6a",
   "metadata": {},
   "outputs": [],
   "source": [
    "d3 = pd.DataFrame({'count' : df.groupby( [\"Club\"] ).size()}).reset_index()\n",
    "d3 = d3.sort_values(\"count\", ascending = False)\n",
    "#d3\n",
    "\n",
    "fig = px.bar(d3, x= d3[\"Club\"],\n",
    "             y= d3[\"count\"], \n",
    "             color = d3[\"Club\"] ,\n",
    "             text_auto='.0s',       # případně můžu zap/vyp číselné popisky\n",
    "             width=950, height=700,\n",
    "             title=\"Kluby podle počtu závodníků\")\n",
    "\n",
    "#fig.update_traces(textfont_size=12, textangle=0, cliponaxis=False)\n",
    "fig.update_layout(xaxis = dict(tickvals = d3[\"Club\"]))\n",
    "fig.update_xaxes(tickangle=270)\n",
    "\n",
    "fig.show()\n",
    "\n",
    "pio.write_html(fig, file=\"vizualizace/V2_Club.html\", auto_open=True)"
   ]
  },
  {
   "cell_type": "markdown",
   "id": "4551ff16-9af1-4553-b1b4-9b6908dbf503",
   "metadata": {},
   "source": [
    "## Statistiky k Rankům - opět z celého datasetu df_m (447 řádků)\n",
    "* medaile podle kovu - nutnost vyřešit překrývání sloupců\n",
    "* pro složitější ploty (víc než jeden simple groupby) budou lepší dictionaries, případně listy i s nulami\n",
    "* např. pro stacked nebo sdružené sloupce"
   ]
  },
  {
   "cell_type": "code",
   "execution_count": null,
   "id": "3d3d4b3b-a140-4d59-aa5f-37b674ccd23b",
   "metadata": {},
   "outputs": [],
   "source": [
    "df_m = pd.read_excel(\"C:/Users/jzelenka/Documents/python_j/fencing/2_ranky.xlsx\")\n",
    "printbold(str(len(df_m)))\n",
    "display(df_m.head(2))\n",
    "display(df_m.tail(2))"
   ]
  },
  {
   "cell_type": "code",
   "execution_count": null,
   "id": "5b1d9c86-785c-450c-b9f6-f1083b79aeed",
   "metadata": {},
   "outputs": [],
   "source": [
    "# lets drop DNFs\n",
    "df_m = df_m[df_m.Final_rank != \"DNF\"]\n",
    "print(len(df_m))"
   ]
  },
  {
   "cell_type": "code",
   "execution_count": null,
   "id": "96607fe0-31df-4bce-a49d-b2c3215365c9",
   "metadata": {
    "tags": []
   },
   "outputs": [],
   "source": [
    "df_m.groupby([\"Name\", \"Club\", \"Year\"])['Final_rank'].min()"
   ]
  },
  {
   "cell_type": "markdown",
   "id": "ccb3a731-3eeb-47f6-94eb-5d7c6d8e474a",
   "metadata": {
    "tags": []
   },
   "source": [
    "## Medaile souhrnně podle roku narození"
   ]
  },
  {
   "cell_type": "code",
   "execution_count": null,
   "id": "8595271f-c2f7-41a5-acac-f22f2ae84cf9",
   "metadata": {
    "tags": []
   },
   "outputs": [],
   "source": [
    "medals = df_m.loc[df_m.Final_rank.isin([1,2,3]), :]"
   ]
  },
  {
   "cell_type": "code",
   "execution_count": null,
   "id": "fa7caebf-40ec-4217-bc4e-847db6df8caa",
   "metadata": {},
   "outputs": [],
   "source": [
    "figure(figsize=(6, 5), dpi=80)\n",
    "\n",
    "years = sorted(medals[\"Year\"].unique())\n",
    "counts = medals.groupby('Year')['Year'].count()\n",
    "plt.xticks(years, rotation='vertical')\n",
    "plt.bar(years, counts, width=0.8)  # šířka sloupečku\n",
    "\n",
    "plt.show()"
   ]
  },
  {
   "cell_type": "markdown",
   "id": "c3ef0bfb-bead-499d-a550-cd34af9e8833",
   "metadata": {},
   "source": [
    "### Rozdělení na jednotlivé kovy\n",
    "* medaile podle kovu - vyřešeno překrývání sloupců !"
   ]
  },
  {
   "cell_type": "code",
   "execution_count": null,
   "id": "55830461-1ee6-41c8-b18c-7d68c56764ff",
   "metadata": {},
   "outputs": [],
   "source": [
    "# nutnost mít list se všemi (nenulovými) roky\n",
    "\n",
    "years_all = sorted(df_m.Year.unique())  # 1956-2008\n",
    "print(len(years_all))\n",
    "golds, silvers, bronzes = [0 for i in years_all],[0 for i in years_all],[0 for i in years_all]\n",
    "print(len(golds))"
   ]
  },
  {
   "cell_type": "code",
   "execution_count": null,
   "id": "f83871e6-346b-4919-8773-2eaedc71c2ed",
   "metadata": {},
   "outputs": [],
   "source": [
    "# jeden list pro každou medaili\n",
    "# nutnost změnit na numpy array, protože jinak nefungovalo dvojité stackování, ale jen jednoduché \n",
    "# (silver: bottom = gold, ale bronze = gold + silver, tak to už ne)\n",
    "\n",
    "for i in range(len(years_all)):\n",
    "    df = df_m.loc[df_m.Year == years_all[i]].copy()\n",
    "    df_g = df.loc[df.Final_rank == 1]\n",
    "    df_s = df.loc[df.Final_rank == 2]\n",
    "    df_b = df.loc[df.Final_rank == 3]\n",
    "    \n",
    "    golds[i], silvers[i], bronzes[i] = len(df_g), len(df_s), len(df_b) \n",
    "\n",
    "golds = np.array(golds)\n",
    "silvers = np.array(silvers)\n",
    "bronzes = np.array(bronzes)"
   ]
  },
  {
   "cell_type": "code",
   "execution_count": null,
   "id": "764d5da1-0afa-4920-b202-16d2efb99d8e",
   "metadata": {
    "tags": []
   },
   "outputs": [],
   "source": [
    "figure(figsize=(12, 8), dpi=80)\n",
    "\n",
    "plt.xticks(years_all ,rotation='vertical') \n",
    "plt.bar(years_all, golds,                          color = \"gold\",         label = \"Gold\")\n",
    "plt.bar(years_all, silvers, bottom = golds,        color = \"silver\",     label = \"Silver\")\n",
    "plt.bar(years_all, bronzes, bottom = golds+silvers, color = \"goldenrod\",  label = \"Bronze\")\n",
    "\n",
    "plt.legend(loc = \"upper left\")\n",
    "plt.show()"
   ]
  },
  {
   "cell_type": "code",
   "execution_count": null,
   "id": "5986f716-e5df-4c6b-ba74-53001f5ee564",
   "metadata": {
    "tags": []
   },
   "outputs": [],
   "source": [
    "medals = df_m.loc[df_m.Final_rank.isin([1,2,3]), :]\n",
    "d4 = pd.DataFrame({'count' : medals.groupby( ['Year', \"Final_rank\"] ).size()}).reset_index()\n",
    "d4[\"Final_rank\"] = d4[\"Final_rank\"].astype(str) # nezbytné pro diskrétní barvy: https://plotly.com/python/discrete-color/\n",
    "\n",
    "fig = px.bar(d4, x= d4[\"Year\"],\n",
    "             y= d4[\"count\"], \n",
    "             color = d4[\"Final_rank\"] ,\n",
    "             color_discrete_map={\"1\": \"gold\", \"2\":\"silver\", \"3\":\"goldenrod\"},  # definice barev\n",
    "             #hover_name=\"Final_rank\",   # extra info ve float popisku\n",
    "             text_auto='.0s',    \n",
    "             width=950, height=700,\n",
    "             title=\"Medaile podle roku narození\")\n",
    "\n",
    "fig.update_layout(xaxis = dict(tickvals = d4[\"Year\"]))\n",
    "fig.update_xaxes(tickangle=270)\n",
    "fig.show()\n",
    "\n",
    "pio.write_html(fig, file=\"vizualizace/V3_Medals-Year.html\", auto_open=True)"
   ]
  },
  {
   "cell_type": "markdown",
   "id": "0ad19d33-e754-4426-b274-91740a4a3963",
   "metadata": {},
   "source": [
    "## Medaile souhrn podle klubu"
   ]
  },
  {
   "cell_type": "code",
   "execution_count": null,
   "id": "0c265150-37fc-4897-a75e-1876bb86531a",
   "metadata": {},
   "outputs": [],
   "source": [
    "figure(figsize=(6, 5), dpi=80)\n",
    "\n",
    "clubs = medals.groupby(['Club'])['Club'].count().to_dict()\n",
    "clubs = dict(sorted(clubs.items(), key=lambda item: item[1], reverse = True))\n",
    "\n",
    "plt.xticks(rotation='vertical')                             \n",
    "plt.bar(list(clubs.keys()), list(clubs.values()), width=0.8)\n",
    "\n",
    "plt.show()"
   ]
  },
  {
   "cell_type": "markdown",
   "id": "71d93dee-20c8-4383-9b4a-b037e9c57761",
   "metadata": {},
   "source": [
    "### Rozdělení na jednotlivé kovy\n",
    "* jediné co chybí, je řazení podle nejvyššího součtu, jako výše\n",
    "* na to bych potřeboval dictionary"
   ]
  },
  {
   "cell_type": "code",
   "execution_count": null,
   "id": "2cff03fe-0c83-44a1-85c4-9598c168119b",
   "metadata": {},
   "outputs": [],
   "source": [
    "clubs_all = sorted(df_m.Club.unique()) \n",
    "print(len(clubs_all))\n",
    "golds, silvers, bronzes = [0 for i in clubs_all],[0 for i in clubs_all],[0 for i in clubs_all]\n",
    "print(len(golds))"
   ]
  },
  {
   "cell_type": "code",
   "execution_count": null,
   "id": "047c06af-3ffe-4c74-9e52-a6a55265b852",
   "metadata": {},
   "outputs": [],
   "source": [
    "# jeden list pro každou medaili\n",
    "# nutnost změnit na numpy array, protože jinak nefungovalo dvojité stackování, ale jen jednoduché \n",
    "# (silver: bottom = gold, ale bronze = gold + silver, tak to už ne)\n",
    "\n",
    "for i in range(len(clubs_all)):\n",
    "    df = df_m.loc[df_m.Club == clubs_all[i]].copy()\n",
    "    df_g = df.loc[df.Final_rank == 1]\n",
    "    df_s = df.loc[df.Final_rank == 2]\n",
    "    df_b = df.loc[df.Final_rank == 3]\n",
    "    \n",
    "    golds[i], silvers[i], bronzes[i] = len(df_g), len(df_s), len(df_b) \n",
    "\n",
    "golds = np.array(golds)\n",
    "silvers = np.array(silvers)\n",
    "bronzes = np.array(bronzes)"
   ]
  },
  {
   "cell_type": "code",
   "execution_count": null,
   "id": "4b7f9a49-b738-4453-93b7-96a336a620ae",
   "metadata": {},
   "outputs": [],
   "source": [
    "figure(figsize=(12, 8), dpi=80)\n",
    "\n",
    " #stačilo zas odmazat clubs_all z xticks\n",
    "plt.xticks(rotation='vertical')  \n",
    "plt.bar(clubs_all, golds,                           color = \"gold\",      label = \"Gold\")\n",
    "plt.bar(clubs_all, silvers, bottom = golds,         color = \"silver\",    label = \"Silver\")\n",
    "plt.bar(clubs_all, bronzes, bottom = golds+silvers, color = \"goldenrod\", label = \"Bronze\")\n",
    "\n",
    "plt.legend(loc = \"upper left\")\n",
    "plt.show()"
   ]
  },
  {
   "cell_type": "code",
   "execution_count": null,
   "id": "f88b4285-e28b-455d-9e5e-d206a3dc1c87",
   "metadata": {
    "tags": []
   },
   "outputs": [],
   "source": [
    "medals = df_m.loc[df_m.Final_rank.isin([1,2,3]), :]\n",
    "d5 = pd.DataFrame({'count' : medals.groupby( ['Club', \"Final_rank\"] ).size()}).reset_index()\n",
    "d5[\"Final_rank\"] = d5[\"Final_rank\"].astype(str) # nezbytné pro diskrétní barvy: https://plotly.com/python/discrete-color/\n",
    "\n",
    "fig = px.bar(d5, x= d5[\"Club\"],\n",
    "             y= d5[\"count\"], \n",
    "             color = d5[\"Final_rank\"] ,\n",
    "             color_discrete_map={\"1\": \"gold\", \"2\":\"silver\", \"3\":\"goldenrod\"},  # definice barev\n",
    "             #hover_name=\"Final_rank\",   # extra info ve float popisku\n",
    "             text_auto='.0s',    \n",
    "             width=950, height=700,\n",
    "             title=\"Medaile podle klubů\")\n",
    "\n",
    "fig.update_layout(xaxis = dict(tickvals = d5[\"Club\"]))\n",
    "fig.update_layout(xaxis={'categoryorder':'total descending'}) # extra řazeni od nejvyššího totalu\n",
    "fig.update_xaxes(tickangle=270)\n",
    "fig.show()\n",
    "\n",
    "pio.write_html(fig, file=\"vizualizace/V4_Medals-Club.html\", auto_open=True)"
   ]
  },
  {
   "cell_type": "markdown",
   "id": "3c70c374-38a1-4db8-b30a-9db9600cc29b",
   "metadata": {},
   "source": [
    "## Pokus s dropdowny 1\n",
    "\n",
    "https://plotly.com/python/dropdowns/\n",
    "\n",
    " - zde nevím, co tam nacpat dovnitř Buttons, místo toho type - jako něco co filtruje moje data?\n",
    "\n",
    "https://stackoverflow.com/questions/68894919/how-to-set-the-values-of-args-and-args2-in-plotlys-buttons-in-updatemenus\n",
    "\n",
    "https://plotly.com/python/bar-charts/  - graph_objects obecně\n",
    "\n",
    "https://plotly.com/python/graph-objects/ - rozdíl plotly express vs. graph_objects\n",
    "\n",
    "https://plotly.com/python/dropdowns/ - sekce \"Update Dropdowns\" - zde jsou Příklady na Scatter Dropdown s graph_objects\n",
    "\n",
    " - musí se px.bar(...) předělat na go.Bar(...)\n",
    " - musí se používat listy atd.\n",
    " - musím mít připravené všechny add_trace s různými verzemi dat\n",
    " - ten dropdown je jen zviditelnuje\n",
    " \n",
    " https://plotly.com/python/bar-charts/  - Bar charts in Dash = budoucí alternativa"
   ]
  },
  {
   "cell_type": "code",
   "execution_count": null,
   "id": "f93eb354-5f1e-498a-aee2-3e53d83a2069",
   "metadata": {
    "tags": []
   },
   "outputs": [],
   "source": [
    "## dummy data\n",
    "\n",
    "medals = df_m.loc[df_m.Final_rank.isin([1,2,3]), :]\n",
    "d5 = pd.DataFrame({'count' : medals.groupby( ['Club', \"Final_rank\"] ).size()}).reset_index()\n",
    "d5[\"Final_rank\"] = d5[\"Final_rank\"].astype(str) # nezbytné pro diskrétní barvy: https://plotly.com/python/discrete-color/\n",
    "\n",
    "data1 = d5.copy()\n",
    "data2 = d5.copy()\n",
    "data3 = d5.copy()\n",
    "data2[\"count\"] = data2[\"count\"] + 10\n",
    "data3[\"count\"] = data3[\"count\"] + 100\n",
    "\n",
    "d5"
   ]
  },
  {
   "cell_type": "code",
   "execution_count": null,
   "id": "217f5956-20d0-48a0-9584-e257484806c8",
   "metadata": {},
   "outputs": [],
   "source": [
    "import plotly.graph_objects as go\n",
    "import pandas as pd\n",
    "\n",
    "fig = go.Figure()\n",
    "\n",
    "fig.add_trace(go.Bar(x = data1.Club, y = list(data1[\"count\"]),\n",
    "               name=\"Basic\",\n",
    "               visible = True))\n",
    "\n",
    "fig.add_trace(go.Bar(x = data2.Club, y = list(data2[\"count\"]),\n",
    "               name=\"Updated\",\n",
    "               visible=False))\n",
    "\n",
    "fig.add_trace(go.Bar(x = data3.Club, y = list(data3[\"count\"]),\n",
    "               name=\"Updated v.2\",\n",
    "               visible=False))\n",
    "\n",
    "# Add Buttons\n",
    "fig.update_layout(\n",
    "    updatemenus=[\n",
    "        dict(\n",
    "            active=0,\n",
    "            buttons=list([\n",
    "                dict(label=\"BASIC\",\n",
    "                     method=\"update\",\n",
    "                     args=[{\"visible\": [True, False, False]},\n",
    "                           {\"title\": \"Yahoo Basic\"}]),\n",
    "                dict(label=\"Basic + 10\",\n",
    "                     method=\"update\",\n",
    "                     args=[{\"visible\": [False, True, False]},\n",
    "                           {\"title\": \"Yahoo Updated\"}]),\n",
    "                dict(label=\"Basic + 100\",\n",
    "                     method=\"update\",\n",
    "                     args=[{\"visible\": [False, False, True]},\n",
    "                           {\"title\": \"Yahoo Updated v.2\"}])\n",
    "            ]))])\n",
    "\n",
    "#fig.update_layout(xaxis = dict(tickvals = d5[\"Club\"]))  ## není potřeba\n",
    "#fig.update_layout(xaxis={'categoryorder':'total descending'}) ## nefunguje :(((\n",
    "\n",
    "#fig.update_xaxes(tickangle=270)  ## není moc hezké :)\n",
    "fig.update_layout(title_text=\"Yahoo\")  # úvodní název, co se může přepsat při změně dropdownu\n",
    "\n",
    "fig.show()"
   ]
  },
  {
   "cell_type": "markdown",
   "id": "fafbeedb-8725-4174-bbc0-86d6208335b0",
   "metadata": {},
   "source": [
    "## Pokus s dual-facette grafem (pohlaví)\n",
    "https://plotly.com/python/legend/"
   ]
  },
  {
   "cell_type": "code",
   "execution_count": null,
   "id": "00dae4c1-2616-454f-8340-14921c4aafe7",
   "metadata": {},
   "outputs": [],
   "source": []
  },
  {
   "cell_type": "code",
   "execution_count": null,
   "id": "8dce3e82-0236-405f-bc02-f82557f1db85",
   "metadata": {},
   "outputs": [],
   "source": []
  },
  {
   "cell_type": "markdown",
   "id": "2e9e6c1a-32c2-4b80-b8af-a20d4783f2fb",
   "metadata": {},
   "source": [
    "# II. ZÁPASY\n",
    "## II.1 - PŘÍPRAVA A ČIŠTĚNÍ DAT"
   ]
  },
  {
   "cell_type": "code",
   "execution_count": null,
   "id": "e34f0ae3-8eae-4f72-b912-75e0bd96f1b9",
   "metadata": {},
   "outputs": [],
   "source": [
    "def merge_all_matches(list_of_events, sex):\n",
    "    df_tot = pd.DataFrame(columns = [\"Date\", \"Event\", \"Name\", \"Uni\", \"Sex\", \"Fight_lvl\",\n",
    "                                     \"Enemy\", \"Enemy_uni\", \"Result\", \"Scored\", \"Received\"])\n",
    "    if sex == \"M\":\n",
    "        s = \"men\"\n",
    "    else:\n",
    "        s = \"women\"\n",
    "    for event in list_of_events:\n",
    "        e = pd.ExcelFile(f\"C:/Users/jzelenka/Documents/python_j/fencing/data/{s}/\" + event)\n",
    "        df0 = pd.read_excel(e, 'pools')\n",
    "        df1 = pd.read_excel(e, 'eliminations')\n",
    "        \n",
    "        print(f\"Event {event} has {len(df0)} pool fights, {len(df1)} elimination fights and {len(df0['Name'].unique())} unique Names\")\n",
    "\n",
    "        df_tot = df_tot.append(pd.concat([df0, df1]))\n",
    "        print(f\"now total is: {len(df_tot)}\")\n",
    "        printbold(\"####################################\")\n",
    "        \n",
    "    df_tot.reset_index(inplace=True, drop = True)\n",
    "    df_tot = df_tot.rename(columns={\"Uni\":'Club', \"Enemy_uni\": \"Enemy_Club\" })\n",
    "    \n",
    "    return df_tot"
   ]
  },
  {
   "cell_type": "code",
   "execution_count": null,
   "id": "5290982a-fe29-48a9-bb9b-92d604cccbeb",
   "metadata": {
    "tags": []
   },
   "outputs": [],
   "source": [
    "df_m_matches = merge_all_matches(men, \"M\")\n",
    "print(len(df_m_matches))\n",
    "display(df_m_matches.head(2))\n",
    "display(df_m_matches.tail(2))"
   ]
  },
  {
   "cell_type": "code",
   "execution_count": null,
   "id": "e3cbfae7-6dbd-4140-ab15-afcf0fb7daf8",
   "metadata": {},
   "outputs": [],
   "source": [
    "df_m_matches.describe()"
   ]
  },
  {
   "cell_type": "code",
   "execution_count": null,
   "id": "af740528-b030-4620-b9cf-1138a33abfca",
   "metadata": {
    "tags": []
   },
   "outputs": [],
   "source": [
    "df_m_matches[\"Name\"] = df_m_matches[\"Name\"].replace(to_replace_man)     \n",
    "df_m_matches[\"Club\"] = df_m_matches[\"Club\"].replace(to_replace_club)  \n",
    "df_m_matches[\"Enemy_Club\"] = df_m_matches[\"Enemy_Club\"].replace(to_replace_club)  \n",
    "df_m_matches['Name'].str.strip()"
   ]
  },
  {
   "cell_type": "code",
   "execution_count": null,
   "id": "1a671aef-0fb8-4a70-8194-bec396d04ef0",
   "metadata": {
    "tags": []
   },
   "outputs": [],
   "source": [
    "df_m_matches.describe()"
   ]
  },
  {
   "cell_type": "code",
   "execution_count": null,
   "id": "66e7c5f9-03ee-41d8-90b2-b5c2b2a95bff",
   "metadata": {},
   "outputs": [],
   "source": [
    "# ANDERLE petr,\n",
    "# CHOUN Karim\n",
    "# D'AMICO Kristian\n",
    "# DOŠEK Jirí\n",
    "# HORBACHUCK Yuiriy\n",
    "# JAVAKHISHVILI Georgii '\n",
    "# KALUS Jonáš '\n",
    "# LOKAJ Václav ',\n",
    "# LUCOVIC Matej\n",
    "# MAŠATA Vojtech  10/19\n",
    "# POKORNÝ Richard '\n",
    "# PROCHÁZKA Ondrej\n",
    "# SALZER Jirí\n",
    "# SALZER Matej\n",
    "# SURMA Štepán\n",
    "# VAŠÍCEK Martin"
   ]
  },
  {
   "cell_type": "code",
   "execution_count": null,
   "id": "6e04e5aa-c557-42ec-ae50-fe143dea39ea",
   "metadata": {
    "tags": []
   },
   "outputs": [],
   "source": [
    "sorted(df_m_matches[\"Name\"].unique())"
   ]
  },
  {
   "cell_type": "markdown",
   "id": "8ab795c2-ee7e-4729-a940-4d63f19ae266",
   "metadata": {},
   "source": [
    "## až opravím jména (hromadně, nebo už v excelech?)\n",
    "## tak můžu přikročit ke kontrole V vs D, a k součtům Dal - dostal atd\n",
    "# kontrola jestli někdo nemá V a víc zásahů než bodů, a naopak."
   ]
  },
  {
   "cell_type": "code",
   "execution_count": null,
   "id": "0986d0c9-b018-4749-aaed-66f40e21ec01",
   "metadata": {},
   "outputs": [],
   "source": []
  }
 ],
 "metadata": {
  "kernelspec": {
   "display_name": "Python 3 (ipykernel)",
   "language": "python",
   "name": "python3"
  },
  "language_info": {
   "codemirror_mode": {
    "name": "ipython",
    "version": 3
   },
   "file_extension": ".py",
   "mimetype": "text/x-python",
   "name": "python",
   "nbconvert_exporter": "python",
   "pygments_lexer": "ipython3",
   "version": "3.9.12"
  }
 },
 "nbformat": 4,
 "nbformat_minor": 5
}
